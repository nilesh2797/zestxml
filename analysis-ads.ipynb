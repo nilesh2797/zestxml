{
 "cells": [
  {
   "cell_type": "code",
   "execution_count": 1,
   "metadata": {
    "ExecuteTime": {
     "end_time": "2021-02-06T08:48:18.667610Z",
     "start_time": "2021-02-06T08:48:10.045657Z"
    },
    "scrolled": true
   },
   "outputs": [
    {
     "data": {
      "text/html": [
       "<style>.container { width:100% !important; }</style>"
      ],
      "text/plain": [
       "<IPython.core.display.HTML object>"
      ]
     },
     "metadata": {},
     "output_type": "display_data"
    }
   ],
   "source": [
    "%run resources.ipynb\n",
    "\n",
    "dataset = 'IRM-Ads'\n",
    "results_dir = 'Results/analysis/%s'%(dataset)\n",
    "if not os.path.exists( results_dir ):\n",
    "    os.makedirs( results_dir )\n",
    "    \n",
    "%run nns.ipynb"
   ]
  },
  {
   "cell_type": "code",
   "execution_count": 2,
   "metadata": {
    "ExecuteTime": {
     "end_time": "2021-02-06T08:48:18.671264Z",
     "start_time": "2021-02-06T08:48:18.669242Z"
    }
   },
   "outputs": [],
   "source": [
    "from xclib.utils.sparse import binarize\n",
    "from xclib.utils.sparse import retain_topk\n",
    "import random"
   ]
  },
  {
   "cell_type": "code",
   "execution_count": 3,
   "metadata": {
    "ExecuteTime": {
     "end_time": "2021-02-06T08:48:18.687206Z",
     "start_time": "2021-02-06T08:48:18.673157Z"
    }
   },
   "outputs": [],
   "source": [
    "RES_DIR = f'Results/{dataset}'\n",
    "DATA_DIR = f'/mnt/d/nilesh/irm/Datasets/{dataset}'"
   ]
  },
  {
   "cell_type": "code",
   "execution_count": 4,
   "metadata": {
    "ExecuteTime": {
     "end_time": "2021-02-06T08:48:18.701640Z",
     "start_time": "2021-02-06T08:48:18.688708Z"
    },
    "code_folding": [
     0,
     23
    ]
   },
   "outputs": [],
   "source": [
    "def restrict_mat(spmat, active_rows = None, active_cols = None, shrink=False):\n",
    "    if active_cols is not None and active_rows is not None:\n",
    "        temp = spmat[active_rows][:,active_cols]\n",
    "    elif active_rows is not None: \n",
    "        temp = spmat[active_rows]\n",
    "        if shrink: \n",
    "            active_cols = np.where(temp.getnnz(0)>0)[0]\n",
    "            temp = temp[:, active_cols]\n",
    "    elif active_cols is not None: \n",
    "        temp = spmat[:,active_cols]\n",
    "        if shrink:\n",
    "            active_rows = np.where(temp.getnnz(1)>0)[0]\n",
    "            temp = temp[active_rows]\n",
    "    else:\n",
    "        if shrink:\n",
    "            active_rows = np.where(spmat.getnnz(1)>0)[0]\n",
    "            active_cols = np.where(spmat.getnnz(0)>0)[0]\n",
    "            temp = spmat[active_rows][:,active_cols]\n",
    "        else:\n",
    "            return spmat, None, None\n",
    "    \n",
    "    return temp, active_rows, active_cols\n",
    "\n",
    "def get_irm_metrics(score_mat, unseen = None, fewshot=None, X_Y=None):\n",
    "    if X_Y is None : X_Y = tst_X_Y\n",
    "    if unseen is None : unseen = unseen_labels\n",
    "    if fewshot is None : fewshot = fewshot_labels\n",
    "        \n",
    "    mask = np.ones(tst_X_Y.shape[1], bool); mask[unseen] = False; seen = np.where(mask)[0]\n",
    "    metrics = {'GZSL' : None, 'SZSL' : None, 'XC' : None}\n",
    "    \n",
    "    print(_c('GZSL metrics (shape=(%d, %d)): '%(X_Y.shape[0], X_Y.shape[1]), attr='bold'))\n",
    "    metrics['GZSL'] = printacc(score_mat, X_Y=X_Y, K=5, inv_prop_=inv_prop)\n",
    "    \n",
    "    temp_X_Y, active_rows, _ = restrict_mat(X_Y, active_rows=None, active_cols=fewshot, shrink=True)\n",
    "    temp_score_mat, _, _     = restrict_mat(score_mat, active_rows=active_rows, active_cols=fewshot, shrink=True)\n",
    "    print(_c('FewShot metrics (shape=(%d, %d)): '%(temp_X_Y.shape[0], temp_X_Y.shape[1]), attr='bold'))\n",
    "    metrics['FewShot'] = printacc(temp_score_mat, X_Y=temp_X_Y, K=5, inv_prop_=None)\n",
    "    \n",
    "    temp_X_Y, active_rows, _ = restrict_mat(X_Y, active_rows=None, active_cols=unseen, shrink=True)\n",
    "    temp_score_mat, _, _     = restrict_mat(score_mat, active_rows=active_rows, active_cols=unseen, shrink=True)\n",
    "    print(_c('SZSL metrics (shape=(%d, %d)): '%(temp_X_Y.shape[0], temp_X_Y.shape[1]), attr='bold'))\n",
    "    metrics['SZSL'] = printacc(temp_score_mat, X_Y=temp_X_Y, K=5, inv_prop_=None)\n",
    "    \n",
    "    temp_X_Y, active_rows, _ = restrict_mat(X_Y, active_rows=None, active_cols=seen, shrink=True)\n",
    "    temp_score_mat, _, _     = restrict_mat(score_mat, active_rows=active_rows, active_cols=seen, shrink=True)\n",
    "    print(_c('XC metrics (shape=(%d, %d)): '%(temp_X_Y.shape[0], temp_X_Y.shape[1]), attr='bold'))\n",
    "    metrics['XC'] = printacc(temp_score_mat, X_Y=temp_X_Y, K=5, inv_prop_=inv_prop[seen])\n",
    "    \n",
    "    del temp_score_mat, temp_X_Y, active_rows\n",
    "    return metrics"
   ]
  },
  {
   "cell_type": "code",
   "execution_count": 5,
   "metadata": {
    "ExecuteTime": {
     "end_time": "2021-02-06T08:49:40.519888Z",
     "start_time": "2021-02-06T08:49:40.517098Z"
    }
   },
   "outputs": [],
   "source": [
    "def spmax(A, B):\n",
    "    BisBigger = A-B\n",
    "    BisBigger.data = np.where(BisBigger.data < 0, 1, 0)\n",
    "    return A - A.multiply(BisBigger) + B.multiply(BisBigger)"
   ]
  },
  {
   "cell_type": "code",
   "execution_count": 6,
   "metadata": {
    "ExecuteTime": {
     "end_time": "2021-02-06T08:49:42.371953Z",
     "start_time": "2021-02-06T08:49:40.852400Z"
    }
   },
   "outputs": [],
   "source": [
    "import json\n",
    "\n",
    "from nltk.corpus import stopwords\n",
    "STOPWORDS = set(stopwords.words('english'))\n",
    "\n",
    "import re\n",
    "import nltk\n",
    "import pickle as pkl\n",
    "from sklearn.feature_extraction.text import TfidfVectorizer\n",
    "from sklearn.feature_extraction.text import CountVectorizer\n",
    "import Stemmer\n",
    "\n",
    "def tokenizer_word(string):\n",
    "    string = string.lower()\n",
    "    tokens = [w for w in re.split(\"[\\W,_]+\", string) if ((len(w) > 1) and (w not in STOPWORDS))]\n",
    "    tokens = stemmer.stemWords(tokens)\n",
    "    return tokens\n",
    "\n",
    "stemmer = Stemmer.Stemmer('english')\n",
    "\n",
    "def get_xfs(vocab):\n",
    "    xfs = np.empty(len(vocab), object)\n",
    "    xfs[list(vocab.values())] = list(vocab.keys())\n",
    "    return xfs"
   ]
  },
  {
   "cell_type": "markdown",
   "metadata": {},
   "source": [
    "## Binary Readers"
   ]
  },
  {
   "cell_type": "code",
   "execution_count": 7,
   "metadata": {
    "ExecuteTime": {
     "end_time": "2021-02-05T10:17:34.061639Z",
     "start_time": "2021-02-05T10:17:34.052206Z"
    },
    "code_folding": [
     2,
     8,
     21
    ]
   },
   "outputs": [],
   "source": [
    "size_dict = {bool : 1, np.int32 : 4, np.float32 : 4, np.int64 : 8}\n",
    "\n",
    "def readbuf(buf, dtype, offset=0, count=1):\n",
    "    val = np.frombuffer(buf, offset=offset, dtype=dtype, count=count)\n",
    "    if count == 1: val = val[0]\n",
    "    offset += size_dict[dtype]*count\n",
    "    return val, offset\n",
    "\n",
    "def read_buf_bin_vecif(buf, dtype, offset = 0, totlen = -1):\n",
    "    if totlen < 0: totlen, offset = readbuf(buf, np.int64, offset, 1)\n",
    "    totlen *= 2\n",
    "    \n",
    "    temp, _ = readbuf(buf, np.int32, offset, totlen)\n",
    "    inds = temp.reshape(-1, 2)[:, 0];\n",
    "    temp, offset = readbuf(buf, dtype, offset, totlen)\n",
    "    data = temp.reshape(-1, 2)[:, 1];\n",
    "    \n",
    "    nr = 1\n",
    "    if inds.shape[0] > 0: nr = inds.max()+1\n",
    "    return csr_matrix((data, inds, [0, len(data)]), (1, nr)), offset\n",
    "\n",
    "def read_buf_bin_vec(buf, dtype, offset = 0, totlen = -1):\n",
    "    if totlen < 0: totlen, offset = readbuf(buf, np.int64, offset, 1)\n",
    "    return readbuf(buf, dtype, offset, totlen)\n",
    "\n",
    "def read_buf_bin_spmat(buf, dtype, offset = 0, old = False):\n",
    "    (nr, nc), offset = readbuf(buf, np.int32, offset, 2)\n",
    "    \n",
    "    size = None\n",
    "    if old: size, offset = read_buf_bin_vec(buf, np.int32, offset, nr)\n",
    "    else: size, offset = read_buf_bin_vec(buf, np.int32, offset)\n",
    "\n",
    "    data = []; inds = []; indptr = np.zeros(nr+1, int)\n",
    "    indptr[1:] = size.cumsum()\n",
    "    totlen = indptr[-1]\n",
    "    temp, offset = read_buf_bin_vecif(buf, dtype, offset, totlen)\n",
    "\n",
    "    return csr_matrix((temp.data, temp.indices, indptr), (nr, nc)), offset\n",
    "\n",
    "def read_bin_spmat(fname, old = False):\n",
    "    buf = open(fname, 'rb').read()\n",
    "    print('loaded bin file in buffer')\n",
    "    spmat, _ = read_buf_bin_spmat(buf, np.float32, 0, old)\n",
    "    return spmat"
   ]
  },
  {
   "cell_type": "code",
   "execution_count": 8,
   "metadata": {
    "ExecuteTime": {
     "end_time": "2020-10-10T10:44:56.463596Z",
     "start_time": "2020-10-10T10:44:56.449262Z"
    },
    "code_folding": [
     0
    ]
   },
   "outputs": [],
   "source": [
    "class Node:\n",
    "    is_leaf = None; is_end_leaf = None; is_early_leaf = None; X_routers = None; Y_routers = None;\n",
    "    depth = None; children = None; Y = None; X = None; XY = None; parent = -1;\n",
    "    \n",
    "    def read(self, buf, offset, ind):\n",
    "        self.id = ind\n",
    "            \n",
    "        [self.is_leaf, self.is_early_leaf, self.is_end_leaf], offset = readbuf(buf, bool, offset, 3)\n",
    "        self.depth, offset = readbuf(buf, np.int32, offset, 1)\n",
    "        self.children, offset = read_buf_bin_vec(buf, np.int32, offset)\n",
    "        self.X, offset = read_buf_bin_vecif(buf, np.float32, offset)\n",
    "        self.Y, offset = read_buf_bin_vecif(buf, np.float32, offset)\n",
    "        self.xy_inds, offset = read_buf_bin_vec(buf, np.int32, offset)\n",
    "                \n",
    "        if self.id == 0:\n",
    "            self.XY, offset = read_buf_bin_spmat(buf, np.int32, offset)\n",
    "        \n",
    "        if not self.is_leaf:\n",
    "            self.X_routers, offset = read_buf_bin_spmat(buf, np.float32, offset)\n",
    "            self.Y_routers, offset = read_buf_bin_spmat(buf, np.float32, offset)\n",
    "            \n",
    "        return offset\n",
    "    \n",
    "    def __str__(self):\n",
    "        return  f'id : {self.id}\\nparent : {self.parent}\\nis_leaf : {self.is_leaf}\\nis_early_leaf : {self.is_early_leaf}\\\n",
    "                \\nis_end_leaf : {self.is_end_leaf}\\nchildren : {self.children}\\ndepth : {self.depth}\\nnnz X : {self.X.nnz}\\\n",
    "                \\nnnz Y : {self.Y.nnz}\\nnnz XY : {self.xy_inds.shape[0]}\\n'\n",
    "\n",
    "    def __repr__(self):\n",
    "        return  f'id : {self.id}\\nparent : {self.parent}\\nis_leaf : {self.is_leaf}\\nis_early_leaf : {self.is_early_leaf}\\\n",
    "                \\nis_end_leaf : {self.is_end_leaf}\\nchildren : {self.children}\\ndepth : {self.depth}\\nnnz X : {self.X.nnz}\\\n",
    "                \\nnnz Y : {self.Y.nnz}\\nnnz XY : {self.xy_inds.shape[0]}\\n'\n",
    "    \n",
    "class Tree:\n",
    "    numxf = None; numyf = None; numx = None; numy = None; numxy = None; nodes = None; max_depth = None;\n",
    "    shared_clf = None; ova_clf = None\n",
    "    \n",
    "    def read(self, filename, offset=0):\n",
    "        buf = open(filename, 'rb').read()\n",
    "        \n",
    "        [self.numxf, self.numyf, self.numx, self.numy, self.numxy, numnode], offset = readbuf(buf, np.int32, offset, 6)\n",
    "        self.nodes = np.empty(numnode, dtype=object)\n",
    "        \n",
    "        for i in tqdm(range(numnode)):\n",
    "            nodeid, offset = readbuf(buf, np.int32, offset, 1)\n",
    "            self.nodes[nodeid] = Node()\n",
    "            offset = self.nodes[nodeid].read(buf, offset, nodeid)\n",
    "        \n",
    "        self.shared_clf, offset = read_buf_bin_vecif(buf, np.float32, offset)\n",
    "        self.ova_clf, offset = read_buf_bin_spmat(buf, np.float32, offset)"
   ]
  },
  {
   "cell_type": "code",
   "execution_count": 25,
   "metadata": {
    "ExecuteTime": {
     "end_time": "2021-02-08T11:27:24.092386Z",
     "start_time": "2021-02-08T11:27:24.089753Z"
    }
   },
   "outputs": [],
   "source": [
    "plt.style.use('seaborn')"
   ]
  },
  {
   "cell_type": "code",
   "execution_count": 6,
   "metadata": {},
   "outputs": [
    {
     "name": "stderr",
     "output_type": "stream",
     "text": [
      "6989516it [01:19, 87736.66it/s] \n"
     ]
    }
   ],
   "source": [
    "trn_X_Y = read_sparse_mat('%s/trn_X_Y.txt'%DATA_DIR, use_xclib=False)"
   ]
  },
  {
   "cell_type": "code",
   "execution_count": 23,
   "metadata": {
    "ExecuteTime": {
     "end_time": "2021-02-08T11:26:10.474064Z",
     "start_time": "2021-02-08T11:26:08.864093Z"
    }
   },
   "outputs": [],
   "source": [
    "x, y = np.unique(trn_X_Y.getnnz(0), return_counts=True)"
   ]
  },
  {
   "cell_type": "code",
   "execution_count": 29,
   "metadata": {
    "ExecuteTime": {
     "end_time": "2021-02-08T11:30:38.463977Z",
     "start_time": "2021-02-08T11:30:37.598332Z"
    },
    "scrolled": false
   },
   "outputs": [
    {
     "data": {
      "image/png": "[encoded data removed]",
      "text/plain": [
       "<Figure size 576x396 with 1 Axes>"
      ]
     },
     "metadata": {},
     "output_type": "display_data"
    }
   ],
   "source": [
    "from scipy.interpolate import make_interp_spline, BSpline\n",
    "\n",
    "xnew = np.linspace(x.min(), x.max(), 300) \n",
    "spl = make_interp_spline(x, y, k=1)  # type: BSpline\n",
    "smooth = spl(xnew)\n",
    "\n",
    "# from scipy.ndimage.filters import gaussian_filter1d\n",
    "# ysmoothed = gaussian_filter1d(y, sigma=10)\n",
    "\n",
    "# plt.plot(x, ysmoothed)\n",
    "plt.ylabel('Number of search queries', fontsize=18)\n",
    "plt.xlabel('Number of previously clicked ads per query', fontsize=18)\n",
    "plt.xticks(fontsize=14)\n",
    "plt.yticks(fontsize=14)\n",
    "plt.plot(xnew, smooth)\n",
    "plt.yscale('log')\n",
    "plt.subplots_adjust(left=0.15, right=0.9, top=0.9, bottom=0.15)\n",
    "\n",
    "plt.savefig('/mnt/c/Users/t-nilgup/Pictures/ads-label-frequency.png', facecolor='w')\n",
    "plt.savefig('/mnt/c/Users/t-nilgup/Pictures/ads-label-frequency.eps', facecolor='w')\n",
    "\n",
    "plt.show()"
   ]
  },
  {
   "cell_type": "code",
   "execution_count": 41,
   "metadata": {},
   "outputs": [
    {
     "data": {
      "image/png": "[encoded data removed]",
      "text/plain": [
       "<Figure size 576x396 with 1 Axes>"
      ]
     },
     "metadata": {},
     "output_type": "display_data"
    }
   ],
   "source": [
    "plt.xticks(fontsize=14)\n",
    "plt.yticks(fontsize=14)\n",
    "plt.xlabel('Shortlist Size (S)', fontsize=18)\n",
    "plt.ylabel('Recall', fontsize=18)\n",
    "plt.plot([20, 50, 100, 200, 500, 1000], [20.74, 31.5, 40.42, 49.61, 61.06, 68.54])\n",
    "# plt.subplots_adjust(left=0.15, right=0.9, top=0.9, bottom=0.15)\n",
    "plt.savefig('/mnt/c/Users/t-nilgup/Pictures/shortlist-ablation.png', facecolor='w')\n",
    "plt.savefig('/mnt/c/Users/t-nilgup/Pictures/shortlist-ablation.eps', facecolor='w')"
   ]
  },
  {
   "cell_type": "code",
   "execution_count": 40,
   "metadata": {},
   "outputs": [
    {
     "data": {
      "image/png": "[encoded data removed]",
      "text/plain": [
       "<Figure size 576x396 with 1 Axes>"
      ]
     },
     "metadata": {},
     "output_type": "display_data"
    }
   ],
   "source": [
    "plt.xticks(fontsize=14)\n",
    "plt.yticks(fontsize=14)\n",
    "plt.xlabel('Bilinear Matrix Sparsity (K)', fontsize=18)\n",
    "plt.ylabel('Recall', fontsize=18)\n",
    "plt.plot([1, 2, 5, 10, 20, 40, 80], [58.5, 60.30, 63.36, 65.46, 67.30, 68.54, 68.98], label='Recall@1000')\n",
    "# plt.subplots_adjust(left=0.15, right=0.9, top=0.9, bottom=0.15)\n",
    "# plt.savefig('/mnt/c/Users/t-nilgup/Pictures/sparsity-vs-r1000-ablation.png', facecolor='w')\n",
    "# plt.savefig('/mnt/c/Users/t-nilgup/Pictures/sparsity-vs-r1000-ablation.eps', facecolor='w')\n",
    "\n",
    "# plt.xticks(fontsize=14)\n",
    "# plt.yticks(fontsize=14)\n",
    "# plt.xlabel('Sparsity of bilinear generative', fontsize=18)\n",
    "# plt.ylabel('Recall@100', fontsize=18)\n",
    "plt.plot([1, 2, 5, 10, 20, 40, 80], [38.86, 40.66, 42.11, 41.85, 41.14, 40.42, 39.95], label='Recall@100')\n",
    "plt.legend(prop={'size': 14})\n",
    "# plt.subplots_adjust(left=0.15, right=0.9, top=0.9, bottom=0.15)\n",
    "plt.savefig('/mnt/c/Users/t-nilgup/Pictures/sparsity-vs-recall-ablation.png', facecolor='w')\n",
    "plt.savefig('/mnt/c/Users/t-nilgup/Pictures/sparsity-vs-recall-ablation.eps', facecolor='w')"
   ]
  },
  {
   "cell_type": "markdown",
   "metadata": {},
   "source": [
    "## Load Data"
   ]
  },
  {
   "cell_type": "code",
   "execution_count": 7,
   "metadata": {
    "ExecuteTime": {
     "end_time": "2021-02-06T08:50:51.058957Z",
     "start_time": "2021-02-06T08:49:59.179337Z"
    }
   },
   "outputs": [
    {
     "name": "stderr",
     "output_type": "stream",
     "text": [
      "/home/t-nilgup/.local/lib/python3.7/site-packages/xclib-0.96-py3.7-linux-x86_64.egg/xclib/data/data_utils.py:173: UserWarning: Header mis-match from inferred shape!\n",
      "  warnings.warn(\"Header mis-match from inferred shape!\")\n"
     ]
    }
   ],
   "source": [
    "val_X_Y = read_sparse_mat('%s/val_X_Y.txt'%DATA_DIR, use_xclib=True)\n",
    "trn_X_Y = read_sparse_mat('%s/trn_X_Y.txt'%DATA_DIR, use_xclib=True)\n",
    "tst_X_Y = read_sparse_mat('%s/tst_X_Y.txt'%DATA_DIR, use_xclib=True)\n",
    "if os.path.exists('%s/pos_trn_tst.txt'%DATA_DIR): filter_mat = read_sparse_mat('%s/pos_trn_tst.txt'%DATA_DIR, use_xclib=True)\n",
    "else : filter_mat = None\n",
    "if os.path.exists('%s/pos_trn_val.txt'%DATA_DIR): val_filter_mat = read_sparse_mat('%s/pos_trn_val.txt'%DATA_DIR, use_xclib=True)\n",
    "\n",
    "nnz = trn_X_Y.getnnz(0)\n",
    "valid_labels = np.where(nnz > 0)[0]\n",
    "unseen_labels = np.where(nnz == 0)[0]\n",
    "fewshot_labels = np.where((nnz >= 0) & (nnz <= 5))[0]\n",
    "inv_valid_labels = np.vectorize({v : i for i, v in enumerate(valid_labels)}.get)\n",
    "\n",
    "if \"Amazon\" in dataset: A = 0.6; B = 2.6\n",
    "elif \"Wiki\" in dataset: A = 0.5; B = 0.4\n",
    "else : A = 0.55; B = 1.5\n",
    "inv_prop = xc_metrics.compute_inv_propesity(trn_X_Y, A, B)"
   ]
  },
  {
   "cell_type": "code",
   "execution_count": 8,
   "metadata": {
    "ExecuteTime": {
     "end_time": "2020-11-23T14:37:47.802910Z",
     "start_time": "2020-11-23T14:31:16.282577Z"
    }
   },
   "outputs": [
    {
     "name": "stderr",
     "output_type": "stream",
     "text": [
      "/home/nilesh/.local/lib/python3.6/site-packages/xclib-0.96-py3.6-linux-x86_64.egg/xclib/data/data_utils.py:173: UserWarning: Header mis-match from inferred shape!\n",
      "  warnings.warn(\"Header mis-match from inferred shape!\")\n"
     ]
    }
   ],
   "source": [
    "tst_X_Xf = read_sparse_mat(f'{DATA_DIR}/tst_X_Xf.txt')"
   ]
  },
  {
   "cell_type": "code",
   "execution_count": 9,
   "metadata": {
    "ExecuteTime": {
     "end_time": "2020-11-23T14:38:08.158845Z",
     "start_time": "2020-11-23T14:37:47.804694Z"
    }
   },
   "outputs": [
    {
     "name": "stdout",
     "output_type": "stream",
     "text": [
      "loaded bin file in buffer\n"
     ]
    }
   ],
   "source": [
    "trn_X_Xf = read_bin_spmat(f'{DATA_DIR}/trn_X_Xf.txt.bin').copy()"
   ]
  },
  {
   "cell_type": "code",
   "execution_count": 10,
   "metadata": {
    "ExecuteTime": {
     "end_time": "2020-11-23T14:38:39.303774Z",
     "start_time": "2020-11-23T14:38:08.160530Z"
    }
   },
   "outputs": [],
   "source": [
    "trn_X = [x.strip() for x in open(f'{DATA_DIR}/raw/trn_X.txt').readlines()]\n",
    "Y = [x.split(';', 1)[0].strip() for x in open(f'{DATA_DIR}/raw/Y.txt').readlines()]\n",
    "tst_X = [x.strip() for x in open(f'{DATA_DIR}/raw/tst_X.txt').readlines()]"
   ]
  },
  {
   "cell_type": "code",
   "execution_count": 41,
   "metadata": {
    "ExecuteTime": {
     "end_time": "2020-11-23T16:15:18.900563Z",
     "start_time": "2020-11-23T16:15:18.603468Z"
    }
   },
   "outputs": [],
   "source": [
    "xfs = [x.strip() for x in open(f'{DATA_DIR}/Xf.txt').readlines()]"
   ]
  },
  {
   "cell_type": "code",
   "execution_count": 16,
   "metadata": {
    "ExecuteTime": {
     "end_time": "2020-11-23T15:28:13.569807Z",
     "start_time": "2020-11-23T15:28:13.564533Z"
    }
   },
   "outputs": [
    {
     "name": "stdout",
     "output_type": "stream",
     "text": [
      "x = 0 : \n",
      "\u001b[1m\u001b[4midealo\u001b[0m(15.54, 1718719) \u001b[1m\u001b[4mbarbless\u001b[0m(14.55, 881798) \u001b[1m\u001b[4mtackl\u001b[0m(7.98, 916212) \u001b[1m\u001b[4m438\u001b[0m(7.02, 1389936) \u001b[1m\u001b[4mcharg\u001b[0m(6.04, 1373095) \u001b[1m\u001b[4mhook\u001b[0m(5.82, 1206959) \u001b[1m\u001b[4meye\u001b[0m(5.34, 991918) \u001b[1m\u001b[4m628\u001b[0m(5.26, 1220673) \u001b[1m\u001b[4mcatch\u001b[0m(5.22, 669616) \u001b[1m\u001b[4mdeaf\u001b[0m(4.54, 200634) \u001b[1m\u001b[4mestuari\u001b[0m(4.36, 415471) \u001b[1m\u001b[4mjlsporteu\u001b[0m(3.77, 653173) \u001b[1m\u001b[4mtone\u001b[0m(2.85, 617783) \u001b[1m\u001b[4mbig\u001b[0m(2.75, 839440) \u001b[1m\u001b[4mcomparison\u001b[0m(2.47, 926405) \u001b[1m\u001b[4mmsc\u001b[0m(2.27, 933136) \u001b[1m\u001b[4mbait\u001b[0m(2.24, 1158769) \u001b[1m\u001b[4mfish\u001b[0m(2.19, 1418374) \u001b[1m\u001b[4m252\u001b[0m(1.80, 44205) \u001b[1m\u001b[4m769\u001b[0m(1.79, 281800) \u001b[1m\u001b[4minterim\u001b[0m(1.68, 1441966) \u001b[1m\u001b[4mmarketplac\u001b[0m(1.64, 1444013) \u001b[1m\u001b[4mluxembourg\u001b[0m(1.56, 932176) \u001b[1m\u001b[4m1846\u001b[0m(1.50, 236564) \u001b[1m\u001b[4m355\u001b[0m(1.42, 280242) \u001b[1m\u001b[4mfladen\u001b[0m(1.39, 1632124) \u001b[1m\u001b[4mcost\u001b[0m(1.30, 585037) \u001b[1m\u001b[4m812\u001b[0m(1.21, 3756) \u001b[1m\u001b[4mrank\u001b[0m(1.19, 187808) \u001b[1m\u001b[4msterl\u001b[0m(1.17, 424673) \u001b[1m\u001b[4mkeenet\u001b[0m(1.16, 1506324) \u001b[1m\u001b[4mpound\u001b[0m(1.12, 336694) \u001b[1m\u001b[4mfoxrac\u001b[0m(1.09, 138346) \u001b[1m\u001b[4mgibson\u001b[0m(1.09, 737142) \u001b[1m\u001b[4mhobbyhom\u001b[0m(1.09, 1569424) \u001b[1m\u001b[4madvancedanglingsolut\u001b[0m(1.07, 944991) \u001b[1m\u001b[4mdynamicnakedaudio\u001b[0m(1.05, 8434) \u001b[1m\u001b[4mquay\u001b[0m(1.03, 1212250) \u001b[1m\u001b[4mstewart\u001b[0m(0.98, 1277935) \u001b[1m\u001b[4mexpress\u001b[0m(0.97, 757470) \u001b[1m\u001b[4m339\u001b[0m(0.92, 856938) \u001b[1m\u001b[4mmustad\u001b[0m(0.91, 996959) \u001b[1m\u001b[4mcompar\u001b[0m(0.87, 1203212) \u001b[1m\u001b[4mokuma\u001b[0m(0.87, 1658534) \u001b[1m\u001b[4mideal\u001b[0m(0.85, 439226) \u001b[1m\u001b[4mkorum\u001b[0m(0.84, 824496) \u001b[1m\u001b[4mvat\u001b[0m(0.83, 1428781) \u001b[1m\u001b[4msubject\u001b[0m(0.83, 830473) \u001b[1m\u001b[4mdrennan\u001b[0m(0.77, 1694570) \u001b[1m\u001b[4mangl\u001b[0m(0.74, 1030343) \u001b[1m\u001b[4m1156\u001b[0m(0.67, 1473578) \u001b[1m\u001b[4meuro\u001b[0m(0.67, 1482003) \u001b[1m\u001b[4mcategori\u001b[0m(0.62, 562889) \u001b[1m\u001b[4mguru\u001b[0m(0.58, 1462413) \u001b[1m\u001b[4m604\u001b[0m(0.56, 644500) \u001b[1m\u001b[4mexpert\u001b[0m(0.56, 30439) \u001b[1m\u001b[4m502\u001b[0m(0.54, 751018) \u001b[1m\u001b[4m406\u001b[0m(0.52, 1432609) \u001b[1m\u001b[4mpreston\u001b[0m(0.49, 422373) \u001b[1m\u001b[4m302\u001b[0m(0.47, 728802) \u001b[1m\u001b[4mreel\u001b[0m(0.47, 401699) \u001b[1m\u001b[4mrelev\u001b[0m(0.46, 1297563) \u001b[1m\u001b[4mltd\u001b[0m(0.42, 1144966) \u001b[1m\u001b[4mcathedr\u001b[0m(0.39, 1714274) \u001b[1m\u001b[4msort\u001b[0m(0.39, 1533582) \u001b[1m\u001b[4minnov\u001b[0m(0.38, 1718890) \u001b[1m\u001b[4mtile\u001b[0m(0.37, 489386) \u001b[1m\u001b[4m155\u001b[0m(0.37, 770494) \u001b[1m\u001b[4mfavourit\u001b[0m(0.31, 1183800) \u001b[1m\u001b[4maverag\u001b[0m(0.30, 881563) \u001b[1m\u001b[4mdrop\u001b[0m(0.29, 1417276) \u001b[1m\u001b[4mleisur\u001b[0m(0.29, 269385) \u001b[1m\u001b[4m300\u001b[0m(0.29, 1517456) \u001b[1m\u001b[4mgenerat\u001b[0m(0.28, 437999) \u001b[1m\u001b[4mmanufactur\u001b[0m(0.28, 783086) \u001b[1m\u001b[4mrecent\u001b[0m(0.23, 999174)\n"
     ]
    }
   ],
   "source": [
    "print(get_text(0, xfs, trn_X_Xf))"
   ]
  },
  {
   "cell_type": "code",
   "execution_count": 11,
   "metadata": {
    "ExecuteTime": {
     "end_time": "2020-11-23T14:56:04.671268Z",
     "start_time": "2020-11-23T14:38:39.305541Z"
    },
    "scrolled": true
   },
   "outputs": [
    {
     "name": "stdout",
     "output_type": "stream",
     "text": [
      "loaded bin file in buffer\n"
     ]
    },
    {
     "ename": "FileNotFoundError",
     "evalue": "[Errno 2] No such file or directory: '/mnt/c/nilesh/Datasets/IRM-Ads/raw/val_X.txt'",
     "output_type": "error",
     "traceback": [
      "\u001b[0;31m---------------------------------------------------------------------------\u001b[0m",
      "\u001b[0;31mFileNotFoundError\u001b[0m                         Traceback (most recent call last)",
      "\u001b[0;32m<ipython-input-11-0cec7aa2ee7f>\u001b[0m in \u001b[0;36m<module>\u001b[0;34m\u001b[0m\n\u001b[1;32m     10\u001b[0m \u001b[0mY\u001b[0m \u001b[0;34m=\u001b[0m \u001b[0;34m[\u001b[0m\u001b[0mx\u001b[0m\u001b[0;34m.\u001b[0m\u001b[0msplit\u001b[0m\u001b[0;34m(\u001b[0m\u001b[0;34m';'\u001b[0m\u001b[0;34m,\u001b[0m \u001b[0;36m1\u001b[0m\u001b[0;34m)\u001b[0m\u001b[0;34m[\u001b[0m\u001b[0;36m0\u001b[0m\u001b[0;34m]\u001b[0m\u001b[0;34m.\u001b[0m\u001b[0mstrip\u001b[0m\u001b[0;34m(\u001b[0m\u001b[0;34m)\u001b[0m \u001b[0;32mfor\u001b[0m \u001b[0mx\u001b[0m \u001b[0;32min\u001b[0m \u001b[0mopen\u001b[0m\u001b[0;34m(\u001b[0m\u001b[0;34mf'{DATA_DIR}/raw/Y.txt'\u001b[0m\u001b[0;34m)\u001b[0m\u001b[0;34m.\u001b[0m\u001b[0mreadlines\u001b[0m\u001b[0;34m(\u001b[0m\u001b[0;34m)\u001b[0m\u001b[0;34m]\u001b[0m\u001b[0;34m\u001b[0m\u001b[0;34m\u001b[0m\u001b[0m\n\u001b[1;32m     11\u001b[0m \u001b[0mtst_X\u001b[0m \u001b[0;34m=\u001b[0m \u001b[0;34m[\u001b[0m\u001b[0mx\u001b[0m\u001b[0;34m.\u001b[0m\u001b[0mstrip\u001b[0m\u001b[0;34m(\u001b[0m\u001b[0;34m)\u001b[0m \u001b[0;32mfor\u001b[0m \u001b[0mx\u001b[0m \u001b[0;32min\u001b[0m \u001b[0mopen\u001b[0m\u001b[0;34m(\u001b[0m\u001b[0;34mf'{DATA_DIR}/raw/tst_X.txt'\u001b[0m\u001b[0;34m)\u001b[0m\u001b[0;34m.\u001b[0m\u001b[0mreadlines\u001b[0m\u001b[0;34m(\u001b[0m\u001b[0;34m)\u001b[0m\u001b[0;34m]\u001b[0m\u001b[0;34m\u001b[0m\u001b[0;34m\u001b[0m\u001b[0m\n\u001b[0;32m---> 12\u001b[0;31m \u001b[0mval_X\u001b[0m \u001b[0;34m=\u001b[0m \u001b[0;34m[\u001b[0m\u001b[0mx\u001b[0m\u001b[0;34m.\u001b[0m\u001b[0mstrip\u001b[0m\u001b[0;34m(\u001b[0m\u001b[0;34m)\u001b[0m \u001b[0;32mfor\u001b[0m \u001b[0mx\u001b[0m \u001b[0;32min\u001b[0m \u001b[0mopen\u001b[0m\u001b[0;34m(\u001b[0m\u001b[0;34mf'{DATA_DIR}/raw/val_X.txt'\u001b[0m\u001b[0;34m)\u001b[0m\u001b[0;34m.\u001b[0m\u001b[0mreadlines\u001b[0m\u001b[0;34m(\u001b[0m\u001b[0;34m)\u001b[0m\u001b[0;34m]\u001b[0m\u001b[0;34m\u001b[0m\u001b[0;34m\u001b[0m\u001b[0m\n\u001b[0m",
      "\u001b[0;31mFileNotFoundError\u001b[0m: [Errno 2] No such file or directory: '/mnt/c/nilesh/Datasets/IRM-Ads/raw/val_X.txt'"
     ]
    }
   ],
   "source": [
    "sp_pattern_mat = read_bin_spmat(f'{RES_DIR}/model/sparsity_pattern.bin')\n",
    "trn_X_Xf = read_sparse_mat(f'{DATA_DIR}/trn_X_Xf.txt')\n",
    "tst_X_Xf = read_sparse_mat(f'{DATA_DIR}/tst_X_Xf.txt')\n",
    "val_X_Xf = read_sparse_mat(f'{DATA_DIR}/val_X_Xf.txt')\n",
    "Y_Yf = read_sparse_mat(f'{DATA_DIR}/Y_Yf.txt')\n",
    "\n",
    "xfs = [x.strip() for x in open(f'{DATA_DIR}/Xf.txt').readlines()]\n",
    "yfs = [x.strip() for x in open(f'{DATA_DIR}/Yf.txt').readlines()]\n",
    "trn_X = [x.strip() for x in open(f'{DATA_DIR}/raw/trn_X.txt').readlines()]\n",
    "Y = [x.split(';', 1)[0].strip() for x in open(f'{DATA_DIR}/raw/Y.txt').readlines()]\n",
    "tst_X = [x.strip() for x in open(f'{DATA_DIR}/raw/tst_X.txt').readlines()]\n",
    "val_X = [x.strip() for x in open(f'{DATA_DIR}/raw/val_X.txt').readlines()]"
   ]
  },
  {
   "cell_type": "code",
   "execution_count": 9,
   "metadata": {
    "ExecuteTime": {
     "end_time": "2020-10-12T10:16:30.233502Z",
     "start_time": "2020-10-12T10:16:02.614725Z"
    }
   },
   "outputs": [],
   "source": [
    "k=100000\n",
    "\n",
    "inds = np.random.choice(range(tst_X_Xf.shape[0]), size=k, replace=False)\n",
    "np.save(f'{DATA_DIR}/random{k}_tst_inds.npy', inds)\n",
    "write_sparse_mat(tst_X_Xf[inds], f'{DATA_DIR}/random{k}_tst_X_Xf.txt')\n",
    "write_sparse_mat(tst_X_Y[inds], f'{DATA_DIR}/random{k}_tst_X_Y.txt')\n",
    "\n",
    "# inds = np.random.choice(range(trn_X_Xf.shape[0]), size=k, replace=False)\n",
    "# np.save(f'{DATA_DIR}/random{k}_trn_inds.npy', inds)\n",
    "# write_sparse_mat(trn_X_Xf[inds], f'{DATA_DIR}/random{k}_trn_X_Xf.txt')\n",
    "# write_sparse_mat(trn_X_Y[inds], f'{DATA_DIR}/random{k}_trn_X_Y.txt')"
   ]
  },
  {
   "cell_type": "code",
   "execution_count": 35,
   "metadata": {},
   "outputs": [],
   "source": [
    "write_sparse_mat(filter_mat[inds], f'{DATA_DIR}/random{k}_pos_trn_tst.txt')"
   ]
  },
  {
   "cell_type": "markdown",
   "metadata": {
    "heading_collapsed": true
   },
   "source": [
    "## Featurization"
   ]
  },
  {
   "cell_type": "code",
   "execution_count": 51,
   "metadata": {
    "ExecuteTime": {
     "end_time": "2021-02-05T13:04:29.856982Z",
     "start_time": "2021-02-05T13:00:04.985696Z"
    },
    "hidden": true
   },
   "outputs": [],
   "source": [
    "part_tst_data = pd.read_csv(f'{DATA_DIR}/raw/Raw_tst_X_features.txt', sep='\\t', names=['id', 'type', 'text'], quoting=3)\n",
    "\n",
    "cross_part_tst_data = pd.crosstab(index=part_tst_data['id'],columns=part_tst_data['type'],values=part_tst_data['text'], aggfunc=np.sum).fillna('')\n",
    "cross_part_tst_data.to_pickle(f'{DATA_DIR}/raw/cross_part_tst_data.pkl')\n",
    "\n",
    "cross_part_tst_data['all'] = cross_part_tst_data.apply(lambda x: '; '.join([x['Title'], x['VisualHeading'], x['ImgAltTxt'], x['QISnippet'], x['Content']]), axis=1)\n",
    "\n",
    "f1 = open(f'{DATA_DIR}/raw/part_raw_tst_X.txt', 'w')\n",
    "f2 = open(f'{DATA_DIR}/raw/part_raw_4096_tst_X.txt', 'w')\n",
    "for s in tqdm(cross_part_tst_data['all'].values):\n",
    "    print(s, file=f1)\n",
    "    print(s[:4096], file=f2)"
   ]
  },
  {
   "cell_type": "code",
   "execution_count": 78,
   "metadata": {
    "ExecuteTime": {
     "end_time": "2021-02-05T14:04:51.432208Z",
     "start_time": "2021-02-05T14:04:30.945472Z"
    },
    "hidden": true
   },
   "outputs": [],
   "source": [
    "tst_data = pd.read_csv(f'{DATA_DIR}/raw/tst_X.txt', sep='\\t', names=['id', 'url'], quoting=3)\n",
    "tst_data['ind'] = np.arange(tst_data.shape[0])\n",
    "\n",
    "part_ids = pd.DataFrame({'id': cross_part_tst_data.index})\n",
    "temp = part_ids.merge(tst_data[['id', 'ind']], on='id')\n",
    "\n",
    "np.save(f'{DATA_DIR}/raw/part_ids.npy', temp.ind.values) "
   ]
  },
  {
   "cell_type": "code",
   "execution_count": 31,
   "metadata": {
    "ExecuteTime": {
     "end_time": "2020-11-23T15:52:44.887861Z",
     "start_time": "2020-11-23T15:37:48.407645Z"
    },
    "hidden": true
   },
   "outputs": [
    {
     "name": "stdout",
     "output_type": "stream",
     "text": [
      "1000000\n"
     ]
    }
   ],
   "source": [
    "vectorizer = TfidfVectorizer(tokenizer=tokenizer_word, ngram_range=(2, 2), max_df=0.5, max_features=1000000, norm=None)\n",
    "bi_X_Xf = vectorizer.fit_transform(trn_X)\n",
    "\n",
    "bi_xfs = get_xfs(vectorizer.vocabulary_)\n",
    "print(len(bi_xfs))"
   ]
  },
  {
   "cell_type": "code",
   "execution_count": 33,
   "metadata": {
    "ExecuteTime": {
     "end_time": "2020-11-23T15:59:54.496608Z",
     "start_time": "2020-11-23T15:52:44.894396Z"
    },
    "hidden": true
   },
   "outputs": [],
   "source": [
    "bi_tst_X_Xf = vectorizer.transform(tst_X)"
   ]
  },
  {
   "cell_type": "code",
   "execution_count": 39,
   "metadata": {
    "ExecuteTime": {
     "end_time": "2020-11-23T16:12:59.745851Z",
     "start_time": "2020-11-23T16:12:59.742010Z"
    },
    "hidden": true
   },
   "outputs": [
    {
     "name": "stdout",
     "output_type": "stream",
     "text": [
      "D70535CF010F16715727\thttp://www.amazon.co.uk/s/?ie=UTF8&keywords=fresh+prince+shirt&tag=mh0a9-21&index=aps&hvadid=&hvqmt=&hvbmt=&hvdev=&ref=pd_sl_6tiogge5nd_b x = 3457355 : \n",
      "\u001b[1m\u001b[4mprinc shirt\u001b[0m(14.81, 727054) \u001b[1m\u001b[4mfresh princ\u001b[0m(13.67, 370712) \u001b[1m\u001b[4mkeyword fresh\u001b[0m(10.22, 512566) \u001b[1m\u001b[4mshirt tag\u001b[0m(6.95, 809282) \u001b[1m\u001b[4mmh0a9 21\u001b[0m(1.73, 613345) \u001b[1m\u001b[4mtag mh0a9\u001b[0m(1.73, 867306) \u001b[1m\u001b[4map hvadid\u001b[0m(1.72, 88500) \u001b[1m\u001b[4mindex ap\u001b[0m(1.72, 466692)\n"
     ]
    }
   ],
   "source": [
    "i = random.randrange(len(trn_X))\n",
    "print(trn_X[i], get_text(i, bi_xfs, bi_X_Xf))"
   ]
  },
  {
   "cell_type": "code",
   "execution_count": 43,
   "metadata": {
    "ExecuteTime": {
     "end_time": "2020-11-23T16:19:09.888333Z",
     "start_time": "2020-11-23T16:16:41.767383Z"
    },
    "hidden": true
   },
   "outputs": [],
   "source": [
    "new_xfs = np.hstack([xfs, bi_xfs])\n",
    "new_trn_X_Xf = normalize(sp.hstack([normalize(trn_X_Xf, axis=1), normalize(bi_X_Xf, axis=1)]).tocsr(), axis=1)\n",
    "new_tst_X_Xf = normalize(sp.hstack([normalize(tst_X_Xf, axis=1), normalize(bi_tst_X_Xf, axis=1)]).tocsr(), axis=1)"
   ]
  },
  {
   "cell_type": "code",
   "execution_count": 44,
   "metadata": {
    "ExecuteTime": {
     "end_time": "2020-11-23T16:57:24.522861Z",
     "start_time": "2020-11-23T16:20:04.238656Z"
    },
    "hidden": true
   },
   "outputs": [],
   "source": [
    "print('\\n'.join(new_xfs), file=open(f'{DATA_DIR}/new_Xf.txt', 'w'))\n",
    "sp.save_npz(f'{DATA_DIR}/new_trn_X_Xf.npz', new_trn_X_Xf)\n",
    "sp.save_npz(f'{DATA_DIR}/new_tst_X_Xf.npz', new_tst_X_Xf)\n",
    "write_sparse_mat(new_trn_X_Xf, f'{DATA_DIR}/new_trn_X_Xf.txt')\n",
    "write_sparse_mat(new_tst_X_Xf, f'{DATA_DIR}/new_tst_X_Xf.txt')"
   ]
  },
  {
   "cell_type": "code",
   "execution_count": 55,
   "metadata": {
    "ExecuteTime": {
     "end_time": "2020-11-24T08:55:51.653721Z",
     "start_time": "2020-11-24T08:55:51.647030Z"
    },
    "hidden": true
   },
   "outputs": [
    {
     "name": "stdout",
     "output_type": "stream",
     "text": [
      "3AB9E73270D93241912E\thttp://www.amazon.co.uk/s/?ie=UTF8&keywords=m18+light&tag=mh0a9-21&index=aps&hvadid=&hvqmt=&hvbmt=&hvdev=&ref=pd_sl_2obkf0ab1a_b\n",
      "\n",
      "x = 6112300 : \n",
      "\u001b[1m\u001b[4mm18 light\u001b[0m(0.50, 2402582) \u001b[1m\u001b[4mmilwauke\u001b[0m(0.44, 462897) \u001b[1m\u001b[4mkeyword m18\u001b[0m(0.44, 2334888) \u001b[1m\u001b[4mm18\u001b[0m(0.41, 1187617) \u001b[1m\u001b[4mlight tag\u001b[0m(0.22, 2385521) \u001b[1m\u001b[4mnake\u001b[0m(0.14, 164081) \u001b[1m\u001b[4mbatteri\u001b[0m(0.10, 1798055) \u001b[1m\u001b[4mcharger\u001b[0m(0.10, 840475) \u001b[1m\u001b[4mled\u001b[0m(0.10, 184133) \u001b[1m\u001b[4mm12\u001b[0m(0.09, 398447) \u001b[1m\u001b[4mtorch\u001b[0m(0.09, 873844) \u001b[1m\u001b[4mm12al\u001b[0m(0.06, 526312) \u001b[1m\u001b[4m4933459440\u001b[0m(0.06, 1539676) \u001b[1m\u001b[4mm18il\u001b[0m(0.06, 1656893) \u001b[1m\u001b[4mmiwauke\u001b[0m(0.06, 1550952) \u001b[1m\u001b[4mm18ll\u001b[0m(0.06, 483720) \u001b[1m\u001b[4mm18al\u001b[0m(0.06, 441089) \u001b[1m\u001b[4m4933464124\u001b[0m(0.06, 473150) \u001b[1m\u001b[4mm12bi\u001b[0m(0.06, 1358087) \u001b[1m\u001b[4mm12tled\u001b[0m(0.06, 99031) \u001b[1m\u001b[4mm18b2\u001b[0m(0.06, 761553) \u001b[1m\u001b[4mmh0a9 21\u001b[0m(0.06, 2426959) \u001b[1m\u001b[4mtag mh0a9\u001b[0m(0.06, 2680920) \u001b[1m\u001b[4map hvadid\u001b[0m(0.06, 1902114) \u001b[1m\u001b[4mindex ap\u001b[0m(0.06, 2280306) \u001b[1m\u001b[4mm18tled\u001b[0m(0.05, 932237) \u001b[1m\u001b[4mc12hz\u001b[0m(0.05, 1436888) \u001b[1m\u001b[4mhackzal\u001b[0m(0.05, 1312912) \u001b[1m\u001b[4mm18bmt\u001b[0m(0.05, 504798) \u001b[1m\u001b[4mbpp2c\u001b[0m(0.05, 1223696) \u001b[1m\u001b[4mlantern\u001b[0m(0.05, 888850) \u001b[1m\u001b[4m402c\u001b[0m(0.05, 1241016) \u001b[1m\u001b[4millumin\u001b[0m(0.04, 1548346) \u001b[1m\u001b[4mrover\u001b[0m(0.04, 1553868) \u001b[1m\u001b[4mdegre\u001b[0m(0.04, 1587860) \u001b[1m\u001b[4mipl\u001b[0m(0.04, 1634171) \u001b[1m\u001b[4mxxx\u001b[0m(0.03, 85089) \u001b[1m\u001b[4m360\u001b[0m(0.03, 1368362) \u001b[1m\u001b[4m0ah\u001b[0m(0.03, 150199) \u001b[1m\u001b[4mredlithium\u001b[0m(0.03, 871197) \u001b[1m\u001b[4mcompressor\u001b[0m(0.02, 691684) \u001b[1m\u001b[4m311\u001b[0m(0.02, 899530) \u001b[1m\u001b[4mvolt\u001b[0m(0.02, 1557037) \u001b[1m\u001b[4mlithium\u001b[0m(0.02, 1101710) \u001b[1m\u001b[4mion\u001b[0m(0.02, 524608) \u001b[1m\u001b[4mlumen\u001b[0m(0.02, 1379237) \u001b[1m\u001b[4mflood\u001b[0m(0.02, 1653304) \u001b[1m\u001b[4mslim\u001b[0m(0.02, 958329) \u001b[1m\u001b[4m445\u001b[0m(0.02, 1752331) \u001b[1m\u001b[4mcompact\u001b[0m(0.02, 1459346) \u001b[1m\u001b[4mstick\u001b[0m(0.01, 103970) \u001b[1m\u001b[4mcyber\u001b[0m(0.01, 1778808) \u001b[1m\u001b[4mtwin\u001b[0m(0.01, 639379) \u001b[1m\u001b[4mduti\u001b[0m(0.01, 179911) \u001b[1m\u001b[4mrecharg\u001b[0m(0.01, 572572) \u001b[1m\u001b[4mheavi\u001b[0m(0.01, 759083) \u001b[1m\u001b[4mchemic\u001b[0m(0.01, 1629719) \u001b[1m\u001b[4mhead\u001b[0m(0.01, 182154) \u001b[1m\u001b[4mmechan\u001b[0m(0.01, 313271) \u001b[1m\u001b[4mmiss20\u001b[0m(0.01, 334783) \u001b[1m\u001b[4mimpact\u001b[0m(0.01, 1143091) \u001b[1m\u001b[4mmulti\u001b[0m(0.01, 996927) \u001b[1m\u001b[4mmagnet\u001b[0m(0.01, 1528931) \u001b[1m\u001b[4maut\u001b[0m(0.01, 1030742) \u001b[1m\u001b[4mclip\u001b[0m(0.01, 1181740) \u001b[1m\u001b[4m253\u001b[0m(0.01, 1751421) \u001b[1m\u001b[4mdual\u001b[0m(0.01, 564552) \u001b[1m\u001b[4mresist\u001b[0m(0.01, 1618040) \u001b[1m\u001b[4mpocket\u001b[0m(0.01, 1765441) \u001b[1m\u001b[4musb\u001b[0m(0.01, 1236899) \u001b[1m\u001b[4mnocri\u001b[0m(0.01, 912250) \u001b[1m\u001b[4melectr\u001b[0m(0.01, 1716237) \u001b[1m\u001b[4m104\u001b[0m(0.01, 449517) \u001b[1m\u001b[4m18w\u001b[0m(0.01, 1005189) \u001b[1m\u001b[4m129\u001b[0m(0.01, 1516249) \u001b[1m\u001b[4mhairpiec\u001b[0m(0.01, 651997) \u001b[1m\u001b[4mautomot\u001b[0m(0.01, 561493) \u001b[1m\u001b[4m250\u001b[0m(0.01, 899163) \u001b[1m\u001b[4moxygen\u001b[0m(0.01, 934141) \u001b[1m\u001b[4mwig\u001b[0m(0.01, 1003133) \u001b[1m\u001b[4mflashlight\u001b[0m(0.01, 9394) \u001b[1m\u001b[4mspecialti\u001b[0m(0.00, 1000693) \u001b[1m\u001b[4minspect\u001b[0m(0.00, 1463373) \u001b[1m\u001b[4msensor\u001b[0m(0.00, 124605) \u001b[1m\u001b[4mattach\u001b[0m(0.00, 496927) \u001b[1m\u001b[4mdetach\u001b[0m(0.00, 777671) \u001b[1m\u001b[4m249\u001b[0m(0.00, 65616) \u001b[1m\u001b[4m144\u001b[0m(0.00, 1623496) \u001b[1m\u001b[4mlamp\u001b[0m(0.00, 1592334) \u001b[1m\u001b[4mspot\u001b[0m(0.00, 1491016) \u001b[1m\u001b[4mwaterproof\u001b[0m(0.00, 298455) \u001b[1m\u001b[4mjob\u001b[0m(0.00, 1037164) \u001b[1m\u001b[4m1000\u001b[0m(0.00, 1707694) \u001b[1m\u001b[4mwall\u001b[0m(0.00, 1685152)\n"
     ]
    }
   ],
   "source": [
    "i = random.randrange(len(trn_X))\n",
    "print(trn_X[i], get_text(i, new_xfs, new_trn_X_Xf), sep='\\n\\n')"
   ]
  },
  {
   "cell_type": "code",
   "execution_count": 66,
   "metadata": {
    "ExecuteTime": {
     "end_time": "2020-11-24T14:18:15.460815Z",
     "start_time": "2020-11-24T14:18:15.450499Z"
    },
    "hidden": true
   },
   "outputs": [],
   "source": [
    "inds = np.load(f'{DATA_DIR}/random100000_tst_inds.npy')"
   ]
  },
  {
   "cell_type": "code",
   "execution_count": 67,
   "metadata": {
    "ExecuteTime": {
     "end_time": "2020-11-24T14:18:31.371215Z",
     "start_time": "2020-11-24T14:18:17.494506Z"
    },
    "hidden": true
   },
   "outputs": [],
   "source": [
    "rand_tst_X_Xf = new_tst_X_Xf[inds]\n",
    "write_sparse_mat(rand_tst_X_Xf, f'{DATA_DIR}/random100000_tst_X_Xf.txt')"
   ]
  },
  {
   "cell_type": "code",
   "execution_count": 64,
   "metadata": {
    "ExecuteTime": {
     "end_time": "2020-11-24T14:11:43.095024Z",
     "start_time": "2020-11-24T14:11:43.091792Z"
    },
    "hidden": true
   },
   "outputs": [
    {
     "data": {
      "text/plain": [
       "'64BFC75AA0ED304B4662\\thttps://www.ebay.co.uk/ulk/sch/?_nkw=revision guide maths edexcel'"
      ]
     },
     "execution_count": 64,
     "metadata": {},
     "output_type": "execute_result"
    }
   ],
   "source": [
    "tst_X[val_inds[0]]"
   ]
  },
  {
   "cell_type": "code",
   "execution_count": 63,
   "metadata": {
    "ExecuteTime": {
     "end_time": "2020-11-24T14:11:04.094858Z",
     "start_time": "2020-11-24T14:11:04.086208Z"
    },
    "hidden": true,
    "scrolled": true
   },
   "outputs": [
    {
     "name": "stdout",
     "output_type": "stream",
     "text": [
      "x = 0 : \n",
      "\u001b[1m\u001b[4medexcel\u001b[0m(0.42, 244090) \u001b[1m\u001b[4mguid math\u001b[0m(0.38, 2231284) \u001b[1m\u001b[4mrevis\u001b[0m(0.36, 1297648) \u001b[1m\u001b[4mmath edexcel\u001b[0m(0.35, 2417160) \u001b[1m\u001b[4mgcse\u001b[0m(0.30, 758302) \u001b[1m\u001b[4mrevis guid\u001b[0m(0.27, 2579151) \u001b[1m\u001b[4mmath\u001b[0m(0.26, 548166) \u001b[1m\u001b[4muk ulk\u001b[0m(0.17, 2742153) \u001b[1m\u001b[4msch nkw\u001b[0m(0.17, 2603427) \u001b[1m\u001b[4mulk sch\u001b[0m(0.17, 2743461) \u001b[1m\u001b[4mebay co\u001b[0m(0.17, 2126912) \u001b[1m\u001b[4mwww ebay\u001b[0m(0.17, 2795971) \u001b[1m\u001b[4mhigher\u001b[0m(0.11, 1654548) \u001b[1m\u001b[4mhttps www\u001b[0m(0.07, 2268805) \u001b[1m\u001b[4mmathemat\u001b[0m(0.06, 1145380) \u001b[1m\u001b[4mfoundat\u001b[0m(0.06, 1184113) \u001b[1m\u001b[4mcgp\u001b[0m(0.05, 1074560) \u001b[1m\u001b[4mworkbook\u001b[0m(0.05, 1663978) \u001b[1m\u001b[4mgrade\u001b[0m(0.03, 758640) \u001b[1m\u001b[4mexam\u001b[0m(0.03, 1353989) \u001b[1m\u001b[4mtier\u001b[0m(0.03, 18819) \u001b[1m\u001b[4mpostag\u001b[0m(0.03, 892097) \u001b[1m\u001b[4mcollin\u001b[0m(0.02, 926362) \u001b[1m\u001b[4mparson\u001b[0m(0.02, 1701429) \u001b[1m\u001b[4mocr\u001b[0m(0.02, 378617) \u001b[1m\u001b[4maqa\u001b[0m(0.02, 1350002) \u001b[1m\u001b[4mresit\u001b[0m(0.02, 1639066) \u001b[1m\u001b[4mlevel\u001b[0m(0.02, 162576) \u001b[1m\u001b[4mown\u001b[0m(0.02, 635288) \u001b[1m\u001b[4mpractic\u001b[0m(0.02, 742858) \u001b[1m\u001b[4mflashcard\u001b[0m(0.02, 1759261) \u001b[1m\u001b[4mpre\u001b[0m(0.01, 977614) \u001b[1m\u001b[4mevor\u001b[0m(0.01, 1076754) \u001b[1m\u001b[4mcours\u001b[0m(0.01, 1416437) \u001b[1m\u001b[4mspec\u001b[0m(0.01, 253484) \u001b[1m\u001b[4medex\u001b[0m(0.01, 51507) \u001b[1m\u001b[4machiev\u001b[0m(0.01, 1584398) \u001b[1m\u001b[4mseni\u001b[0m(0.01, 466404) \u001b[1m\u001b[4mrichard\u001b[0m(0.01, 722183) \u001b[1m\u001b[4mpracti\u001b[0m(0.01, 1488835) \u001b[1m\u001b[4msenior\u001b[0m(0.01, 487815) \u001b[1m\u001b[4msuccess\u001b[0m(0.01, 1128735) \u001b[1m\u001b[4mhig\u001b[0m(0.01, 1313221) \u001b[1m\u001b[4mgwen\u001b[0m(0.01, 908129) \u001b[1m\u001b[4mpra\u001b[0m(0.01, 208520) \u001b[1m\u001b[4mtextbook\u001b[0m(0.01, 681474) \u001b[1m\u001b[4meditio\u001b[0m(0.01, 799560) \u001b[1m\u001b[4mtrevor\u001b[0m(0.01, 575336) \u001b[1m\u001b[4mess\u001b[0m(0.01, 863824) \u001b[1m\u001b[4mdoyl\u001b[0m(0.01, 372135) \u001b[1m\u001b[4msmith\u001b[0m(0.01, 1106673) \u001b[1m\u001b[4mharri\u001b[0m(0.01, 908291) \u001b[1m\u001b[4mlinear\u001b[0m(0.01, 1059223) \u001b[1m\u001b[4mbundl\u001b[0m(0.01, 220570) \u001b[1m\u001b[4mbid\u001b[0m(0.01, 690255) \u001b[1m\u001b[4mric\u001b[0m(0.01, 1681632) \u001b[1m\u001b[4mrev\u001b[0m(0.01, 1724004) \u001b[1m\u001b[4m1887\u001b[0m(0.01, 300762) \u001b[1m\u001b[4mcertif\u001b[0m(0.01, 840411) \u001b[1m\u001b[4mcatherin\u001b[0m(0.01, 1245512) \u001b[1m\u001b[4mmodular\u001b[0m(0.01, 99808) \u001b[1m\u001b[4mwed\u001b[0m(0.01, 1748812) \u001b[1m\u001b[4msteve\u001b[0m(0.01, 1661765) \u001b[1m\u001b[4mpaperback\u001b[0m(0.01, 1253798) \u001b[1m\u001b[4mburn\u001b[0m(0.01, 1074052) \u001b[1m\u001b[4msponsor\u001b[0m(0.01, 1000728) \u001b[1m\u001b[4mrrp\u001b[0m(0.01, 594274) \u001b[1m\u001b[4mmodul\u001b[0m(0.00, 634143) \u001b[1m\u001b[4mincl\u001b[0m(0.00, 1655028) \u001b[1m\u001b[4mlett\u001b[0m(0.00, 1165984) \u001b[1m\u001b[4mstudi\u001b[0m(0.00, 1362982) \u001b[1m\u001b[4mschool\u001b[0m(0.00, 1042551) \u001b[1m\u001b[4munus\u001b[0m(0.00, 1663157) \u001b[1m\u001b[4mpaper\u001b[0m(0.00, 101073) \u001b[1m\u001b[4m2020\u001b[0m(0.00, 43848) \u001b[1m\u001b[4mquestion\u001b[0m(0.00, 1233626) \u001b[1m\u001b[4mpromo\u001b[0m(0.00, 80202) \u001b[1m\u001b[4mjavascript\u001b[0m(0.00, 1164905) \u001b[1m\u001b[4mvalu\u001b[0m(0.00, 1130215) \u001b[1m\u001b[4mcrunch\u001b[0m(0.00, 264218) \u001b[1m\u001b[4mcap\u001b[0m(0.00, 541273) \u001b[1m\u001b[4msaint\u001b[0m(0.00, 999776) \u001b[1m\u001b[4m1831\u001b[0m(0.00, 962931) \u001b[1m\u001b[4msch\u001b[0m(0.00, 1639675) \u001b[1m\u001b[4mnkw\u001b[0m(0.00, 1402108) \u001b[1m\u001b[4m1872\u001b[0m(0.00, 621146) \u001b[1m\u001b[4mguinea\u001b[0m(0.00, 1163708) \u001b[1m\u001b[4m1749\u001b[0m(0.00, 1623722) \u001b[1m\u001b[4m1352\u001b[0m(0.00, 1324266) \u001b[1m\u001b[4mfiction\u001b[0m(0.00, 714909) \u001b[1m\u001b[4m852\u001b[0m(0.00, 453015) \u001b[1m\u001b[4mgeographi\u001b[0m(0.00, 971828) \u001b[1m\u001b[4mundamag\u001b[0m(0.00, 1130046) \u001b[1m\u001b[4munopen\u001b[0m(0.00, 233791) \u001b[1m\u001b[4mmusicmagpi\u001b[0m(0.00, 868986) \u001b[1m\u001b[4mexpand\u001b[0m(0.00, 1140888) \u001b[1m\u001b[4m530\u001b[0m(0.00, 1518559) \u001b[1m\u001b[4m372\u001b[0m(0.00, 1582058) \u001b[1m\u001b[4mbanknot\u001b[0m(0.00, 646956) \u001b[1m\u001b[4mbullion\u001b[0m(0.00, 156298) \u001b[1m\u001b[4m888\u001b[0m(0.00, 1050408) \u001b[1m\u001b[4msecondari\u001b[0m(0.00, 1745860) \u001b[1m\u001b[4m355\u001b[0m(0.00, 280242) \u001b[1m\u001b[4m271\u001b[0m(0.00, 472109) \u001b[1m\u001b[4mphysic\u001b[0m(0.00, 614283) \u001b[1m\u001b[4mprimari\u001b[0m(0.00, 678700) \u001b[1m\u001b[4mprint\u001b[0m(0.00, 700230) \u001b[1m\u001b[4m187\u001b[0m(0.00, 962952) \u001b[1m\u001b[4m176\u001b[0m(0.00, 1154197) \u001b[1m\u001b[4m131\u001b[0m(0.00, 449819) \u001b[1m\u001b[4mbandwidthdetect\u001b[0m(0.00, 112614) \u001b[1m\u001b[4mpri\u001b[0m(0.00, 1296958) \u001b[1m\u001b[4munloadoptim\u001b[0m(0.00, 1279313) \u001b[1m\u001b[4mcongo\u001b[0m(0.00, 1714864) \u001b[1m\u001b[4mlao\u001b[0m(0.00, 504162) \u001b[1m\u001b[4msamoa\u001b[0m(0.00, 999813) \u001b[1m\u001b[4mcomic\u001b[0m(0.00, 1522923) \u001b[1m\u001b[4mmagazin\u001b[0m(0.00, 612070) \u001b[1m\u001b[4mwholesal\u001b[0m(0.00, 918031) \u001b[1m\u001b[4mcoin\u001b[0m(0.00, 1630005) \u001b[1m\u001b[4mvirgin\u001b[0m(0.00, 682688) \u001b[1m\u001b[4mpostcod\u001b[0m(0.00, 528905) \u001b[1m\u001b[4mbuyer\u001b[0m(0.00, 1052913) \u001b[1m\u001b[4m113\u001b[0m(0.00, 1366583) \u001b[1m\u001b[4mauction\u001b[0m(0.00, 881485) \u001b[1m\u001b[4meduc\u001b[0m(0.00, 1204587) \u001b[1m\u001b[4mhardwar\u001b[0m(0.00, 694934) \u001b[1m\u001b[4mfeedback\u001b[0m(0.00, 1737970) \u001b[1m\u001b[4mpagin\u001b[0m(0.00, 186623) \u001b[1m\u001b[4m98837\u001b[0m(0.00, 368109) \u001b[1m\u001b[4mspecifi\u001b[0m(0.00, 1576550) \u001b[1m\u001b[4munivers\u001b[0m(0.00, 789251) \u001b[1m\u001b[4mnon\u001b[0m(0.00, 378434) \u001b[1m\u001b[4msoonest\u001b[0m(0.00, 1426822) \u001b[1m\u001b[4mtkm\u001b[0m(0.00, 211587) \u001b[1m\u001b[4msyc\u001b[0m(0.00, 1662060) \u001b[1m\u001b[4msgp\u001b[0m(0.00, 252945) \u001b[1m\u001b[4mrwanda\u001b[0m(0.00, 1660501) \u001b[1m\u001b[4mtwn\u001b[0m(0.00, 254885) \u001b[1m\u001b[4mtuv\u001b[0m(0.00, 40662) \u001b[1m\u001b[4msom\u001b[0m(0.00, 82133) \u001b[1m\u001b[4mtza\u001b[0m(0.00, 1641803) \u001b[1m\u001b[4mslv\u001b[0m(0.00, 766074) \u001b[1m\u001b[4mreu\u001b[0m(0.00, 529622) \u001b[1m\u001b[4msvn\u001b[0m(0.00, 830600) \u001b[1m\u001b[4mrus\u001b[0m(0.00, 1618339) \u001b[1m\u001b[4msle\u001b[0m(0.00, 851184) \u001b[1m\u001b[4mbenin\u001b[0m(0.00, 155696) \u001b[1m\u001b[4mtimeout\u001b[0m(0.00, 660369) \u001b[1m\u001b[4msvk\u001b[0m(0.00, 553123) \u001b[1m\u001b[4mwalli\u001b[0m(0.00, 1685154) \u001b[1m\u001b[4mrou\u001b[0m(0.00, 59613) \u001b[1m\u001b[4mturkmenistan\u001b[0m(0.00, 62087) \u001b[1m\u001b[4mtun\u001b[0m(0.00, 1811567) \u001b[1m\u001b[4mslb\u001b[0m(0.00, 1788670) \u001b[1m\u001b[4mtur\u001b[0m(0.00, 211922) \u001b[1m\u001b[4myem\u001b[0m(0.00, 1749350) \u001b[1m\u001b[4mven\u001b[0m(0.00, 597251) \u001b[1m\u001b[4mvut\u001b[0m(0.00, 1748622) \u001b[1m\u001b[4mzaf\u001b[0m(0.00, 42238) \u001b[1m\u001b[4mverisign\u001b[0m(0.00, 41170) \u001b[1m\u001b[4mvct\u001b[0m(0.00, 233991) \u001b[1m\u001b[4mukr\u001b[0m(0.00, 703665) \u001b[1m\u001b[4mzmb\u001b[0m(0.00, 1707128) \u001b[1m\u001b[4mswaziland\u001b[0m(0.00, 1704522) \u001b[1m\u001b[4mtonga\u001b[0m(0.00, 510771) \u001b[1m\u001b[4mpyf\u001b[0m(0.00, 251555) \u001b[1m\u001b[4mtca\u001b[0m(0.00, 425220) \u001b[1m\u001b[4mtgo\u001b[0m(0.00, 1555793) \u001b[1m\u001b[4mshn\u001b[0m(0.00, 1554575) \u001b[1m\u001b[4myemen\u001b[0m(0.00, 1238089) \u001b[1m\u001b[4mtto\u001b[0m(0.00, 468371) \u001b[1m\u001b[4mvir\u001b[0m(0.00, 1002724) \u001b[1m\u001b[4mtuvalu\u001b[0m(0.00, 190729) \u001b[1m\u001b[4mwsm\u001b[0m(0.00, 1173813) \u001b[1m\u001b[4mvnm\u001b[0m(0.00, 1173259) \u001b[1m\u001b[4msen\u001b[0m(0.00, 423867) \u001b[1m\u001b[4mspm\u001b[0m(0.00, 1043318) \u001b[1m\u001b[4mtha\u001b[0m(0.00, 1044109) \u001b[1m\u001b[4msau\u001b[0m(0.00, 466193) \u001b[1m\u001b[4mwlf\u001b[0m(0.00, 1152298) \u001b[1m\u001b[4muru\u001b[0m(0.00, 105480) \u001b[1m\u001b[4mturk\u001b[0m(0.00, 1065652) \u001b[1m\u001b[4mzwe\u001b[0m(0.00, 106891) \u001b[1m\u001b[4mvatican\u001b[0m(0.00, 1087448) \u001b[1m\u001b[4mvero\u001b[0m(0.00, 405074) \u001b[1m\u001b[4mvanuatu\u001b[0m(0.00, 404979) \u001b[1m\u001b[4mrwa\u001b[0m(0.00, 999651) \u001b[1m\u001b[4mvgb\u001b[0m(0.00, 938920) \u001b[1m\u001b[4mseneg\u001b[0m(0.00, 872115) \u001b[1m\u001b[4munfollow\u001b[0m(0.00, 148203) \u001b[1m\u001b[4mtjk\u001b[0m(0.00, 1513234) \u001b[1m\u001b[4mtcd\u001b[0m(0.00, 1491701) \u001b[1m\u001b[4mzimbabw\u001b[0m(0.00, 299247) \u001b[1m\u001b[4msahara\u001b[0m(0.00, 1468966) \u001b[1m\u001b[4mqat\u001b[0m(0.00, 1446757) \u001b[1m\u001b[4mpotteri\u001b[0m(0.00, 443676) \u001b[1m\u001b[4mswe\u001b[0m(0.00, 894653) \u001b[1m\u001b[4msmr\u001b[0m(0.00, 1362545) \u001b[1m\u001b[4mswz\u001b[0m(0.00, 82721) \u001b[1m\u001b[4mpolynesia\u001b[0m(0.00, 379500) \u001b[1m\u001b[4muzb\u001b[0m(0.00, 490116) \u001b[1m\u001b[4mprt\u001b[0m(0.00, 379780) \u001b[1m\u001b[4msrb\u001b[0m(0.00, 1299117) \u001b[1m\u001b[4msomalia\u001b[0m(0.00, 403088) \u001b[1m\u001b[4mthirtyseven\u001b[0m(0.00, 895145) \u001b[1m\u001b[4mtajikistan\u001b[0m(0.00, 18414)\n"
     ]
    }
   ],
   "source": [
    "print(get_text(0, new_xfs, val_X_Xf))"
   ]
  },
  {
   "cell_type": "code",
   "execution_count": 161,
   "metadata": {
    "ExecuteTime": {
     "end_time": "2020-11-26T07:00:26.157391Z",
     "start_time": "2020-11-26T07:00:26.154223Z"
    },
    "hidden": true
   },
   "outputs": [
    {
     "data": {
      "text/plain": [
       "3254839"
      ]
     },
     "execution_count": 161,
     "metadata": {},
     "output_type": "execute_result"
    }
   ],
   "source": []
  },
  {
   "cell_type": "markdown",
   "metadata": {
    "heading_collapsed": true
   },
   "source": [
    "## Load tree"
   ]
  },
  {
   "cell_type": "code",
   "execution_count": 218,
   "metadata": {
    "ExecuteTime": {
     "end_time": "2020-10-06T18:13:19.915145Z",
     "start_time": "2020-10-06T18:13:18.809212Z"
    },
    "hidden": true
   },
   "outputs": [
    {
     "name": "stderr",
     "output_type": "stream",
     "text": [
      "100%|██████████| 2791/2791 [00:00<00:00, 2876.48it/s]\n",
      "100%|██████████| 2791/2791 [00:00<00:00, 531669.66it/s]\n"
     ]
    }
   ],
   "source": [
    "tree = Tree()\n",
    "tree.read(f'{RES_DIR}/0.tree.bin')\n",
    "\n",
    "early_leaf_nodes = [i for i in range(tree.nodes.shape[0]) if tree.nodes[i].is_early_leaf]\n",
    "end_leaf_nodes = [i for i in range(tree.nodes.shape[0]) if tree.nodes[i].is_end_leaf]\n",
    "\n",
    "for i, node in enumerate(tree.nodes):\n",
    "    for child in node.children:\n",
    "        tree.nodes[child].parent = i\n",
    "\n",
    "data = []\n",
    "inds = []\n",
    "indptr = [0]\n",
    "for node in tqdm(tree.nodes):\n",
    "    data.append(node.Y.data)\n",
    "    inds.append(node.Y.indices)\n",
    "    indptr.append(indptr[-1]+node.Y.nnz)\n",
    "node_to_label = csr_matrix((np.hstack(data), np.hstack(inds), indptr), (tree.nodes.shape[0], tree.numy))"
   ]
  },
  {
   "cell_type": "markdown",
   "metadata": {},
   "source": [
    "## Evaluate"
   ]
  },
  {
   "cell_type": "code",
   "execution_count": 8,
   "metadata": {
    "ExecuteTime": {
     "end_time": "2021-02-06T11:32:59.917908Z",
     "start_time": "2021-02-06T11:32:59.915558Z"
    }
   },
   "outputs": [],
   "source": [
    "all_metrics = {}"
   ]
  },
  {
   "cell_type": "code",
   "execution_count": 18,
   "metadata": {
    "ExecuteTime": {
     "end_time": "2021-02-06T13:44:13.009760Z",
     "start_time": "2021-02-06T13:44:03.417408Z"
    }
   },
   "outputs": [
    {
     "name": "stdout",
     "output_type": "stream",
     "text": [
      "loaded bin file in buffer\n"
     ]
    },
    {
     "name": "stderr",
     "output_type": "stream",
     "text": [
      "/home/t-nilgup/anaconda3/envs/xc/lib/python3.7/site-packages/scipy/sparse/_index.py:125: SparseEfficiencyWarning: Changing the sparsity structure of a csr_matrix is expensive. lil_matrix is more efficient.\n",
      "  self._set_arrayXarray(i, j, x)\n"
     ]
    },
    {
     "name": "stdout",
     "output_type": "stream",
     "text": [
      "loaded bin file in buffer\n",
      "loaded bin file in buffer\n",
      "loaded bin file in buffer\n"
     ]
    }
   ],
   "source": [
    "val_score_mats = {}\n",
    "val_score_mats['clf'] = _filter(read_bin_spmat(f'{RES_DIR}/validation/clf_score_mat.bin').copy(), val_filter_mat)\n",
    "val_score_mats['bil'] = _filter(read_bin_spmat(f'{RES_DIR}/validation/bilinear_score_mat.bin').copy(), val_filter_mat)\n",
    "val_score_mats['knn'] = _filter(read_bin_spmat(f'{RES_DIR}/validation/knn_score_mat.bin').copy(), val_filter_mat)\n",
    "val_score_mats['xsh'] = retain_topk(_filter(read_bin_spmat(f'{RES_DIR}/validation/shortlist.bin').copy(), val_filter_mat), k=100)"
   ]
  },
  {
   "cell_type": "code",
   "execution_count": 21,
   "metadata": {
    "ExecuteTime": {
     "end_time": "2021-02-06T13:48:05.112517Z",
     "start_time": "2021-02-06T13:48:03.042373Z"
    }
   },
   "outputs": [],
   "source": [
    "wts = {'clf': 0.1, 'bil': 0.7, 'knn': 0.2, 'xsh': 0}\n",
    "score_mat = retain_topk(wts['clf']*val_score_mats['clf'] + wts['bil']*val_score_mats['bil'] + wts['knn']*val_score_mats['knn'] + wts['xsh']*val_score_mats['xsh'], k=300)"
   ]
  },
  {
   "cell_type": "code",
   "execution_count": 30,
   "metadata": {
    "ExecuteTime": {
     "end_time": "2021-02-08T21:27:35.017452Z",
     "start_time": "2021-02-08T21:27:12.778574Z"
    },
    "scrolled": true
   },
   "outputs": [
    {
     "name": "stdout",
     "output_type": "stream",
     "text": [
      "\u001b[1mGZSL metrics (shape=(100000, 31476574)): \u001b[0m\n"
     ]
    },
    {
     "data": {
      "text/html": [
       "<div>\n",
       "<style scoped>\n",
       "    .dataframe tbody tr th:only-of-type {\n",
       "        vertical-align: middle;\n",
       "    }\n",
       "\n",
       "    .dataframe tbody tr th {\n",
       "        vertical-align: top;\n",
       "    }\n",
       "\n",
       "    .dataframe thead th {\n",
       "        text-align: right;\n",
       "    }\n",
       "</style>\n",
       "<table border=\"1\" class=\"dataframe\">\n",
       "  <thead>\n",
       "    <tr style=\"text-align: right;\">\n",
       "      <th></th>\n",
       "      <th>1</th>\n",
       "      <th>2</th>\n",
       "      <th>3</th>\n",
       "      <th>4</th>\n",
       "      <th>5</th>\n",
       "    </tr>\n",
       "  </thead>\n",
       "  <tbody>\n",
       "    <tr>\n",
       "      <th>P</th>\n",
       "      <td>10.23</td>\n",
       "      <td>8.85</td>\n",
       "      <td>7.71</td>\n",
       "      <td>6.84</td>\n",
       "      <td>6.14</td>\n",
       "    </tr>\n",
       "    <tr>\n",
       "      <th>nDCG</th>\n",
       "      <td>10.23</td>\n",
       "      <td>13.23</td>\n",
       "      <td>15.14</td>\n",
       "      <td>16.41</td>\n",
       "      <td>17.30</td>\n",
       "    </tr>\n",
       "    <tr>\n",
       "      <th>PSP</th>\n",
       "      <td>9.97</td>\n",
       "      <td>13.60</td>\n",
       "      <td>15.97</td>\n",
       "      <td>17.65</td>\n",
       "      <td>18.89</td>\n",
       "    </tr>\n",
       "    <tr>\n",
       "      <th>PSnDCG</th>\n",
       "      <td>9.97</td>\n",
       "      <td>12.98</td>\n",
       "      <td>14.90</td>\n",
       "      <td>16.18</td>\n",
       "      <td>17.08</td>\n",
       "    </tr>\n",
       "  </tbody>\n",
       "</table>\n",
       "</div>"
      ],
      "text/plain": [
       "            1      2      3      4      5\n",
       "P       10.23   8.85   7.71   6.84   6.14\n",
       "nDCG    10.23  13.23  15.14  16.41  17.30\n",
       "PSP      9.97  13.60  15.97  17.65  18.89\n",
       "PSnDCG   9.97  12.98  14.90  16.18  17.08"
      ]
     },
     "metadata": {},
     "output_type": "display_data"
    },
    {
     "name": "stdout",
     "output_type": "stream",
     "text": [
      "\u001b[1mFewShot metrics (shape=(96966, 31149553)): \u001b[0m\n"
     ]
    },
    {
     "data": {
      "text/html": [
       "<div>\n",
       "<style scoped>\n",
       "    .dataframe tbody tr th:only-of-type {\n",
       "        vertical-align: middle;\n",
       "    }\n",
       "\n",
       "    .dataframe tbody tr th {\n",
       "        vertical-align: top;\n",
       "    }\n",
       "\n",
       "    .dataframe thead th {\n",
       "        text-align: right;\n",
       "    }\n",
       "</style>\n",
       "<table border=\"1\" class=\"dataframe\">\n",
       "  <thead>\n",
       "    <tr style=\"text-align: right;\">\n",
       "      <th></th>\n",
       "      <th>1</th>\n",
       "      <th>2</th>\n",
       "      <th>3</th>\n",
       "      <th>4</th>\n",
       "      <th>5</th>\n",
       "    </tr>\n",
       "  </thead>\n",
       "  <tbody>\n",
       "    <tr>\n",
       "      <th>P</th>\n",
       "      <td>11.21</td>\n",
       "      <td>9.39</td>\n",
       "      <td>8.01</td>\n",
       "      <td>6.98</td>\n",
       "      <td>6.2</td>\n",
       "    </tr>\n",
       "    <tr>\n",
       "      <th>nDCG</th>\n",
       "      <td>11.21</td>\n",
       "      <td>14.29</td>\n",
       "      <td>16.14</td>\n",
       "      <td>17.30</td>\n",
       "      <td>18.1</td>\n",
       "    </tr>\n",
       "  </tbody>\n",
       "</table>\n",
       "</div>"
      ],
      "text/plain": [
       "          1      2      3      4     5\n",
       "P     11.21   9.39   8.01   6.98   6.2\n",
       "nDCG  11.21  14.29  16.14  17.30  18.1"
      ]
     },
     "metadata": {},
     "output_type": "display_data"
    },
    {
     "name": "stdout",
     "output_type": "stream",
     "text": [
      "\u001b[1mSZSL metrics (shape=(74347, 9525826)): \u001b[0m\n"
     ]
    },
    {
     "data": {
      "text/html": [
       "<div>\n",
       "<style scoped>\n",
       "    .dataframe tbody tr th:only-of-type {\n",
       "        vertical-align: middle;\n",
       "    }\n",
       "\n",
       "    .dataframe tbody tr th {\n",
       "        vertical-align: top;\n",
       "    }\n",
       "\n",
       "    .dataframe thead th {\n",
       "        text-align: right;\n",
       "    }\n",
       "</style>\n",
       "<table border=\"1\" class=\"dataframe\">\n",
       "  <thead>\n",
       "    <tr style=\"text-align: right;\">\n",
       "      <th></th>\n",
       "      <th>1</th>\n",
       "      <th>2</th>\n",
       "      <th>3</th>\n",
       "      <th>4</th>\n",
       "      <th>5</th>\n",
       "    </tr>\n",
       "  </thead>\n",
       "  <tbody>\n",
       "    <tr>\n",
       "      <th>P</th>\n",
       "      <td>20.84</td>\n",
       "      <td>14.50</td>\n",
       "      <td>11.51</td>\n",
       "      <td>9.71</td>\n",
       "      <td>8.51</td>\n",
       "    </tr>\n",
       "    <tr>\n",
       "      <th>nDCG</th>\n",
       "      <td>20.84</td>\n",
       "      <td>23.32</td>\n",
       "      <td>24.88</td>\n",
       "      <td>25.96</td>\n",
       "      <td>26.80</td>\n",
       "    </tr>\n",
       "  </tbody>\n",
       "</table>\n",
       "</div>"
      ],
      "text/plain": [
       "          1      2      3      4      5\n",
       "P     20.84  14.50  11.51   9.71   8.51\n",
       "nDCG  20.84  23.32  24.88  25.96  26.80"
      ]
     },
     "metadata": {},
     "output_type": "display_data"
    },
    {
     "name": "stdout",
     "output_type": "stream",
     "text": [
      "\u001b[1mXC metrics (shape=(40813, 21950748)): \u001b[0m\n"
     ]
    },
    {
     "data": {
      "text/html": [
       "<div>\n",
       "<style scoped>\n",
       "    .dataframe tbody tr th:only-of-type {\n",
       "        vertical-align: middle;\n",
       "    }\n",
       "\n",
       "    .dataframe tbody tr th {\n",
       "        vertical-align: top;\n",
       "    }\n",
       "\n",
       "    .dataframe thead th {\n",
       "        text-align: right;\n",
       "    }\n",
       "</style>\n",
       "<table border=\"1\" class=\"dataframe\">\n",
       "  <thead>\n",
       "    <tr style=\"text-align: right;\">\n",
       "      <th></th>\n",
       "      <th>1</th>\n",
       "      <th>2</th>\n",
       "      <th>3</th>\n",
       "      <th>4</th>\n",
       "      <th>5</th>\n",
       "    </tr>\n",
       "  </thead>\n",
       "  <tbody>\n",
       "    <tr>\n",
       "      <th>P</th>\n",
       "      <td>12.56</td>\n",
       "      <td>10.43</td>\n",
       "      <td>8.79</td>\n",
       "      <td>7.62</td>\n",
       "      <td>6.68</td>\n",
       "    </tr>\n",
       "    <tr>\n",
       "      <th>nDCG</th>\n",
       "      <td>12.56</td>\n",
       "      <td>16.35</td>\n",
       "      <td>18.56</td>\n",
       "      <td>19.99</td>\n",
       "      <td>20.88</td>\n",
       "    </tr>\n",
       "    <tr>\n",
       "      <th>PSP</th>\n",
       "      <td>12.18</td>\n",
       "      <td>16.56</td>\n",
       "      <td>19.18</td>\n",
       "      <td>21.00</td>\n",
       "      <td>22.14</td>\n",
       "    </tr>\n",
       "    <tr>\n",
       "      <th>PSnDCG</th>\n",
       "      <td>12.18</td>\n",
       "      <td>16.03</td>\n",
       "      <td>18.27</td>\n",
       "      <td>19.72</td>\n",
       "      <td>20.63</td>\n",
       "    </tr>\n",
       "  </tbody>\n",
       "</table>\n",
       "</div>"
      ],
      "text/plain": [
       "            1      2      3      4      5\n",
       "P       12.56  10.43   8.79   7.62   6.68\n",
       "nDCG    12.56  16.35  18.56  19.99  20.88\n",
       "PSP     12.18  16.56  19.18  21.00  22.14\n",
       "PSnDCG  12.18  16.03  18.27  19.72  20.63"
      ]
     },
     "metadata": {},
     "output_type": "display_data"
    },
    {
     "name": "stdout",
     "output_type": "stream",
     "text": [
      "10.23 7.71 6.14 11.21 8.01 6.20 20.84 11.51 8.51 9.97 15.97 18.89\n"
     ]
    }
   ],
   "source": [
    "metrics = get_irm_metrics(val_score_mats['xsh'], X_Y=val_X_Y);\n",
    "myprint(*metrics['GZSL'][0, [0, 2, 4]], *metrics['FewShot'][0, [0, 2, 4]], *metrics['SZSL'][0, [0, 2, 4]], *metrics['GZSL'][2, [0, 2, 4]])"
   ]
  },
  {
   "cell_type": "code",
   "execution_count": 69,
   "metadata": {
    "ExecuteTime": {
     "end_time": "2020-11-24T14:20:55.229831Z",
     "start_time": "2020-11-24T14:20:55.226830Z"
    }
   },
   "outputs": [],
   "source": [
    "rand_inds = np.load(f'{DATA_DIR}/random100000_tst_inds.npy')"
   ]
  },
  {
   "cell_type": "code",
   "execution_count": 70,
   "metadata": {
    "ExecuteTime": {
     "end_time": "2020-11-24T14:21:09.125287Z",
     "start_time": "2020-11-24T14:20:56.526069Z"
    }
   },
   "outputs": [
    {
     "name": "stdout",
     "output_type": "stream",
     "text": [
      "loaded bin file in buffer\n"
     ]
    },
    {
     "name": "stderr",
     "output_type": "stream",
     "text": [
      "/home/nilesh/.local/lib/python3.6/site-packages/scipy/sparse/_index.py:124: SparseEfficiencyWarning: Changing the sparsity structure of a csr_matrix is expensive. lil_matrix is more efficient.\n",
      "  self._set_arrayXarray(i, j, x)\n"
     ]
    },
    {
     "name": "stdout",
     "output_type": "stream",
     "text": [
      "loaded bin file in buffer\n",
      "loaded bin file in buffer\n",
      "loaded bin file in buffer\n"
     ]
    }
   ],
   "source": [
    "tst_clf_score_mat = retain_topk(_filter(read_bin_spmat(f'{RES_DIR}/clf_score_mat.bin').copy(), filter_mat[rand_inds]), k=100)\n",
    "tst_bilinear_score_mat = retain_topk(_filter(read_bin_spmat(f'{RES_DIR}/bilinear_score_mat.bin').copy(), filter_mat[rand_inds]), k=100)\n",
    "tst_knn_score_mat = retain_topk(_filter(read_bin_spmat(f'{RES_DIR}/knn_score_mat.bin').copy(), filter_mat[rand_inds]), k=100)\n",
    "\n",
    "# # trn_xshortlist = read_bin_spmat(f'{RES_DIR}/trn_xshortlist.bin')\n",
    "tst_xshortlist = retain_topk(_filter(read_bin_spmat(f'{RES_DIR}/shortlist.bin').copy(), filter_mat[rand_inds]), k=100)"
   ]
  },
  {
   "cell_type": "code",
   "execution_count": 156,
   "metadata": {
    "ExecuteTime": {
     "end_time": "2020-11-25T14:04:22.573381Z",
     "start_time": "2020-11-25T14:04:22.353602Z"
    }
   },
   "outputs": [
    {
     "name": "stdout",
     "output_type": "stream",
     "text": [
      "loaded bin file in buffer\n"
     ]
    },
    {
     "name": "stderr",
     "output_type": "stream",
     "text": [
      "/home/nilesh/.local/lib/python3.6/site-packages/scipy/sparse/_index.py:124: SparseEfficiencyWarning: Changing the sparsity structure of a csr_matrix is expensive. lil_matrix is more efficient.\n",
      "  self._set_arrayXarray(i, j, x)\n"
     ]
    }
   ],
   "source": [
    "temp = retain_topk(_filter(read_bin_spmat(f'/mnt/c/nilesh/zestxml/bm25/Results/IRM-Ads/score_mat.bin').copy(), filter_mat[rand_inds[:10000]]), k=100)"
   ]
  },
  {
   "cell_type": "code",
   "execution_count": 71,
   "metadata": {
    "ExecuteTime": {
     "end_time": "2020-11-24T14:21:48.387018Z",
     "start_time": "2020-11-24T14:21:47.985707Z"
    }
   },
   "outputs": [],
   "source": [
    "score_mat = 0.1*tst_clf_score_mat + 0.85*tst_bilinear_score_mat + 0.05*tst_knn_score_mat"
   ]
  },
  {
   "cell_type": "code",
   "execution_count": 77,
   "metadata": {
    "ExecuteTime": {
     "end_time": "2020-11-24T14:29:18.711164Z",
     "start_time": "2020-11-24T14:29:13.886844Z"
    }
   },
   "outputs": [
    {
     "data": {
      "text/plain": [
       "{'R@1': 7.761797442064967,\n",
       " 'R@10': 31.46745451076256,\n",
       " 'R@50': 47.14505407591766,\n",
       " 'R@100': 52.89161789706527}"
      ]
     },
     "execution_count": 77,
     "metadata": {},
     "output_type": "execute_result"
    }
   ],
   "source": [
    "recall(tst_bilinear_score_mat, X_Y=tst_X_Y[rand_inds])"
   ]
  },
  {
   "cell_type": "code",
   "execution_count": 74,
   "metadata": {
    "ExecuteTime": {
     "end_time": "2020-11-24T14:26:46.275530Z",
     "start_time": "2020-11-24T14:26:41.497583Z"
    }
   },
   "outputs": [
    {
     "data": {
      "text/plain": [
       "{'R@1': 13.312228974237318,\n",
       " 'R@10': 28.291712006327163,\n",
       " 'R@50': 41.787933653429945,\n",
       " 'R@100': 47.98941099815238}"
      ]
     },
     "execution_count": 74,
     "metadata": {},
     "output_type": "execute_result"
    }
   ],
   "source": [
    "recall(tst_knn_score_mat, X_Y=tst_X_Y[rand_inds])"
   ]
  },
  {
   "cell_type": "code",
   "execution_count": 157,
   "metadata": {
    "ExecuteTime": {
     "end_time": "2020-11-25T14:04:46.096430Z",
     "start_time": "2020-11-25T14:04:28.048175Z"
    },
    "scrolled": true
   },
   "outputs": [
    {
     "name": "stdout",
     "output_type": "stream",
     "text": [
      "\u001b[1mGZSL metrics (shape=(10000, 31476574)): \u001b[0m\n"
     ]
    },
    {
     "data": {
      "text/html": [
       "<div>\n",
       "<style scoped>\n",
       "    .dataframe tbody tr th:only-of-type {\n",
       "        vertical-align: middle;\n",
       "    }\n",
       "\n",
       "    .dataframe tbody tr th {\n",
       "        vertical-align: top;\n",
       "    }\n",
       "\n",
       "    .dataframe thead th {\n",
       "        text-align: right;\n",
       "    }\n",
       "</style>\n",
       "<table border=\"1\" class=\"dataframe\">\n",
       "  <thead>\n",
       "    <tr style=\"text-align: right;\">\n",
       "      <th></th>\n",
       "      <th>1</th>\n",
       "      <th>2</th>\n",
       "      <th>3</th>\n",
       "      <th>4</th>\n",
       "      <th>5</th>\n",
       "    </tr>\n",
       "  </thead>\n",
       "  <tbody>\n",
       "    <tr>\n",
       "      <th>P</th>\n",
       "      <td>3.71</td>\n",
       "      <td>3.20</td>\n",
       "      <td>2.86</td>\n",
       "      <td>2.57</td>\n",
       "      <td>2.34</td>\n",
       "    </tr>\n",
       "    <tr>\n",
       "      <th>nDCG</th>\n",
       "      <td>3.71</td>\n",
       "      <td>4.83</td>\n",
       "      <td>5.65</td>\n",
       "      <td>6.21</td>\n",
       "      <td>6.65</td>\n",
       "    </tr>\n",
       "    <tr>\n",
       "      <th>PSP</th>\n",
       "      <td>3.73</td>\n",
       "      <td>5.07</td>\n",
       "      <td>6.08</td>\n",
       "      <td>6.81</td>\n",
       "      <td>7.39</td>\n",
       "    </tr>\n",
       "    <tr>\n",
       "      <th>PSnDCG</th>\n",
       "      <td>3.73</td>\n",
       "      <td>4.87</td>\n",
       "      <td>5.70</td>\n",
       "      <td>6.27</td>\n",
       "      <td>6.72</td>\n",
       "    </tr>\n",
       "  </tbody>\n",
       "</table>\n",
       "</div>"
      ],
      "text/plain": [
       "           1     2     3     4     5\n",
       "P       3.71  3.20  2.86  2.57  2.34\n",
       "nDCG    3.71  4.83  5.65  6.21  6.65\n",
       "PSP     3.73  5.07  6.08  6.81  7.39\n",
       "PSnDCG  3.73  4.87  5.70  6.27  6.72"
      ]
     },
     "metadata": {},
     "output_type": "display_data"
    },
    {
     "name": "stdout",
     "output_type": "stream",
     "text": [
      "\u001b[1mFewShot metrics (shape=(9713, 31149553)): \u001b[0m\n"
     ]
    },
    {
     "data": {
      "text/html": [
       "<div>\n",
       "<style scoped>\n",
       "    .dataframe tbody tr th:only-of-type {\n",
       "        vertical-align: middle;\n",
       "    }\n",
       "\n",
       "    .dataframe tbody tr th {\n",
       "        vertical-align: top;\n",
       "    }\n",
       "\n",
       "    .dataframe thead th {\n",
       "        text-align: right;\n",
       "    }\n",
       "</style>\n",
       "<table border=\"1\" class=\"dataframe\">\n",
       "  <thead>\n",
       "    <tr style=\"text-align: right;\">\n",
       "      <th></th>\n",
       "      <th>1</th>\n",
       "      <th>2</th>\n",
       "      <th>3</th>\n",
       "      <th>4</th>\n",
       "      <th>5</th>\n",
       "    </tr>\n",
       "  </thead>\n",
       "  <tbody>\n",
       "    <tr>\n",
       "      <th>P</th>\n",
       "      <td>3.82</td>\n",
       "      <td>3.32</td>\n",
       "      <td>2.95</td>\n",
       "      <td>2.65</td>\n",
       "      <td>2.41</td>\n",
       "    </tr>\n",
       "    <tr>\n",
       "      <th>nDCG</th>\n",
       "      <td>3.82</td>\n",
       "      <td>5.00</td>\n",
       "      <td>5.83</td>\n",
       "      <td>6.40</td>\n",
       "      <td>6.86</td>\n",
       "    </tr>\n",
       "  </tbody>\n",
       "</table>\n",
       "</div>"
      ],
      "text/plain": [
       "         1     2     3     4     5\n",
       "P     3.82  3.32  2.95  2.65  2.41\n",
       "nDCG  3.82  5.00  5.83  6.40  6.86"
      ]
     },
     "metadata": {},
     "output_type": "display_data"
    },
    {
     "name": "stdout",
     "output_type": "stream",
     "text": [
      "\u001b[1mSZSL metrics (shape=(7480, 9525826)): \u001b[0m\n"
     ]
    },
    {
     "data": {
      "text/html": [
       "<div>\n",
       "<style scoped>\n",
       "    .dataframe tbody tr th:only-of-type {\n",
       "        vertical-align: middle;\n",
       "    }\n",
       "\n",
       "    .dataframe tbody tr th {\n",
       "        vertical-align: top;\n",
       "    }\n",
       "\n",
       "    .dataframe thead th {\n",
       "        text-align: right;\n",
       "    }\n",
       "</style>\n",
       "<table border=\"1\" class=\"dataframe\">\n",
       "  <thead>\n",
       "    <tr style=\"text-align: right;\">\n",
       "      <th></th>\n",
       "      <th>1</th>\n",
       "      <th>2</th>\n",
       "      <th>3</th>\n",
       "      <th>4</th>\n",
       "      <th>5</th>\n",
       "    </tr>\n",
       "  </thead>\n",
       "  <tbody>\n",
       "    <tr>\n",
       "      <th>P</th>\n",
       "      <td>7.82</td>\n",
       "      <td>6.27</td>\n",
       "      <td>5.10</td>\n",
       "      <td>4.48</td>\n",
       "      <td>3.95</td>\n",
       "    </tr>\n",
       "    <tr>\n",
       "      <th>nDCG</th>\n",
       "      <td>7.82</td>\n",
       "      <td>9.74</td>\n",
       "      <td>10.69</td>\n",
       "      <td>11.52</td>\n",
       "      <td>12.03</td>\n",
       "    </tr>\n",
       "  </tbody>\n",
       "</table>\n",
       "</div>"
      ],
      "text/plain": [
       "         1     2      3      4      5\n",
       "P     7.82  6.27   5.10   4.48   3.95\n",
       "nDCG  7.82  9.74  10.69  11.52  12.03"
      ]
     },
     "metadata": {},
     "output_type": "display_data"
    },
    {
     "name": "stdout",
     "output_type": "stream",
     "text": [
      "\u001b[1mXC metrics (shape=(4041, 21950748)): \u001b[0m\n"
     ]
    },
    {
     "data": {
      "text/html": [
       "<div>\n",
       "<style scoped>\n",
       "    .dataframe tbody tr th:only-of-type {\n",
       "        vertical-align: middle;\n",
       "    }\n",
       "\n",
       "    .dataframe tbody tr th {\n",
       "        vertical-align: top;\n",
       "    }\n",
       "\n",
       "    .dataframe thead th {\n",
       "        text-align: right;\n",
       "    }\n",
       "</style>\n",
       "<table border=\"1\" class=\"dataframe\">\n",
       "  <thead>\n",
       "    <tr style=\"text-align: right;\">\n",
       "      <th></th>\n",
       "      <th>1</th>\n",
       "      <th>2</th>\n",
       "      <th>3</th>\n",
       "      <th>4</th>\n",
       "      <th>5</th>\n",
       "    </tr>\n",
       "  </thead>\n",
       "  <tbody>\n",
       "    <tr>\n",
       "      <th>P</th>\n",
       "      <td>3.44</td>\n",
       "      <td>2.85</td>\n",
       "      <td>2.49</td>\n",
       "      <td>2.15</td>\n",
       "      <td>1.93</td>\n",
       "    </tr>\n",
       "    <tr>\n",
       "      <th>nDCG</th>\n",
       "      <td>3.44</td>\n",
       "      <td>4.62</td>\n",
       "      <td>5.41</td>\n",
       "      <td>5.84</td>\n",
       "      <td>6.22</td>\n",
       "    </tr>\n",
       "    <tr>\n",
       "      <th>PSP</th>\n",
       "      <td>3.52</td>\n",
       "      <td>4.75</td>\n",
       "      <td>5.70</td>\n",
       "      <td>6.23</td>\n",
       "      <td>6.72</td>\n",
       "    </tr>\n",
       "    <tr>\n",
       "      <th>PSnDCG</th>\n",
       "      <td>3.52</td>\n",
       "      <td>4.75</td>\n",
       "      <td>5.58</td>\n",
       "      <td>6.03</td>\n",
       "      <td>6.41</td>\n",
       "    </tr>\n",
       "  </tbody>\n",
       "</table>\n",
       "</div>"
      ],
      "text/plain": [
       "           1     2     3     4     5\n",
       "P       3.44  2.85  2.49  2.15  1.93\n",
       "nDCG    3.44  4.62  5.41  5.84  6.22\n",
       "PSP     3.52  4.75  5.70  6.23  6.72\n",
       "PSnDCG  3.52  4.75  5.58  6.03  6.41"
      ]
     },
     "metadata": {},
     "output_type": "display_data"
    }
   ],
   "source": [
    "metrics = get_irm_metrics(temp, X_Y=tst_X_Y[rand_inds[:10000]]);"
   ]
  },
  {
   "cell_type": "code",
   "execution_count": 72,
   "metadata": {
    "ExecuteTime": {
     "end_time": "2020-11-24T14:22:28.727006Z",
     "start_time": "2020-11-24T14:21:55.361113Z"
    },
    "scrolled": true
   },
   "outputs": [
    {
     "name": "stdout",
     "output_type": "stream",
     "text": [
      "\u001b[1mGZSL metrics (shape=(100000, 31476574)): \u001b[0m\n"
     ]
    },
    {
     "data": {
      "text/html": [
       "<div>\n",
       "<style scoped>\n",
       "    .dataframe tbody tr th:only-of-type {\n",
       "        vertical-align: middle;\n",
       "    }\n",
       "\n",
       "    .dataframe tbody tr th {\n",
       "        vertical-align: top;\n",
       "    }\n",
       "\n",
       "    .dataframe thead th {\n",
       "        text-align: right;\n",
       "    }\n",
       "</style>\n",
       "<table border=\"1\" class=\"dataframe\">\n",
       "  <thead>\n",
       "    <tr style=\"text-align: right;\">\n",
       "      <th></th>\n",
       "      <th>1</th>\n",
       "      <th>2</th>\n",
       "      <th>3</th>\n",
       "      <th>4</th>\n",
       "      <th>5</th>\n",
       "    </tr>\n",
       "  </thead>\n",
       "  <tbody>\n",
       "    <tr>\n",
       "      <th>P</th>\n",
       "      <td>15.45</td>\n",
       "      <td>11.98</td>\n",
       "      <td>9.70</td>\n",
       "      <td>8.18</td>\n",
       "      <td>7.12</td>\n",
       "    </tr>\n",
       "    <tr>\n",
       "      <th>nDCG</th>\n",
       "      <td>15.45</td>\n",
       "      <td>18.62</td>\n",
       "      <td>20.25</td>\n",
       "      <td>21.23</td>\n",
       "      <td>21.91</td>\n",
       "    </tr>\n",
       "    <tr>\n",
       "      <th>PSP</th>\n",
       "      <td>15.22</td>\n",
       "      <td>18.58</td>\n",
       "      <td>20.24</td>\n",
       "      <td>21.25</td>\n",
       "      <td>22.01</td>\n",
       "    </tr>\n",
       "    <tr>\n",
       "      <th>PSnDCG</th>\n",
       "      <td>15.22</td>\n",
       "      <td>18.44</td>\n",
       "      <td>20.09</td>\n",
       "      <td>21.08</td>\n",
       "      <td>21.77</td>\n",
       "    </tr>\n",
       "  </tbody>\n",
       "</table>\n",
       "</div>"
      ],
      "text/plain": [
       "            1      2      3      4      5\n",
       "P       15.45  11.98   9.70   8.18   7.12\n",
       "nDCG    15.45  18.62  20.25  21.23  21.91\n",
       "PSP     15.22  18.58  20.24  21.25  22.01\n",
       "PSnDCG  15.22  18.44  20.09  21.08  21.77"
      ]
     },
     "metadata": {},
     "output_type": "display_data"
    },
    {
     "name": "stdout",
     "output_type": "stream",
     "text": [
      "\u001b[1mFewShot metrics (shape=(96966, 31149553)): \u001b[0m\n"
     ]
    },
    {
     "data": {
      "text/html": [
       "<div>\n",
       "<style scoped>\n",
       "    .dataframe tbody tr th:only-of-type {\n",
       "        vertical-align: middle;\n",
       "    }\n",
       "\n",
       "    .dataframe tbody tr th {\n",
       "        vertical-align: top;\n",
       "    }\n",
       "\n",
       "    .dataframe thead th {\n",
       "        text-align: right;\n",
       "    }\n",
       "</style>\n",
       "<table border=\"1\" class=\"dataframe\">\n",
       "  <thead>\n",
       "    <tr style=\"text-align: right;\">\n",
       "      <th></th>\n",
       "      <th>1</th>\n",
       "      <th>2</th>\n",
       "      <th>3</th>\n",
       "      <th>4</th>\n",
       "      <th>5</th>\n",
       "    </tr>\n",
       "  </thead>\n",
       "  <tbody>\n",
       "    <tr>\n",
       "      <th>P</th>\n",
       "      <td>16.21</td>\n",
       "      <td>12.14</td>\n",
       "      <td>9.65</td>\n",
       "      <td>8.09</td>\n",
       "      <td>7.03</td>\n",
       "    </tr>\n",
       "    <tr>\n",
       "      <th>nDCG</th>\n",
       "      <td>16.21</td>\n",
       "      <td>19.18</td>\n",
       "      <td>20.63</td>\n",
       "      <td>21.54</td>\n",
       "      <td>22.21</td>\n",
       "    </tr>\n",
       "  </tbody>\n",
       "</table>\n",
       "</div>"
      ],
      "text/plain": [
       "          1      2      3      4      5\n",
       "P     16.21  12.14   9.65   8.09   7.03\n",
       "nDCG  16.21  19.18  20.63  21.54  22.21"
      ]
     },
     "metadata": {},
     "output_type": "display_data"
    },
    {
     "name": "stdout",
     "output_type": "stream",
     "text": [
      "\u001b[1mSZSL metrics (shape=(74347, 9525826)): \u001b[0m\n"
     ]
    },
    {
     "data": {
      "text/html": [
       "<div>\n",
       "<style scoped>\n",
       "    .dataframe tbody tr th:only-of-type {\n",
       "        vertical-align: middle;\n",
       "    }\n",
       "\n",
       "    .dataframe tbody tr th {\n",
       "        vertical-align: top;\n",
       "    }\n",
       "\n",
       "    .dataframe thead th {\n",
       "        text-align: right;\n",
       "    }\n",
       "</style>\n",
       "<table border=\"1\" class=\"dataframe\">\n",
       "  <thead>\n",
       "    <tr style=\"text-align: right;\">\n",
       "      <th></th>\n",
       "      <th>1</th>\n",
       "      <th>2</th>\n",
       "      <th>3</th>\n",
       "      <th>4</th>\n",
       "      <th>5</th>\n",
       "    </tr>\n",
       "  </thead>\n",
       "  <tbody>\n",
       "    <tr>\n",
       "      <th>P</th>\n",
       "      <td>23.24</td>\n",
       "      <td>15.86</td>\n",
       "      <td>12.38</td>\n",
       "      <td>10.31</td>\n",
       "      <td>8.92</td>\n",
       "    </tr>\n",
       "    <tr>\n",
       "      <th>nDCG</th>\n",
       "      <td>23.24</td>\n",
       "      <td>25.66</td>\n",
       "      <td>27.10</td>\n",
       "      <td>28.06</td>\n",
       "      <td>28.75</td>\n",
       "    </tr>\n",
       "  </tbody>\n",
       "</table>\n",
       "</div>"
      ],
      "text/plain": [
       "          1      2      3      4      5\n",
       "P     23.24  15.86  12.38  10.31   8.92\n",
       "nDCG  23.24  25.66  27.10  28.06  28.75"
      ]
     },
     "metadata": {},
     "output_type": "display_data"
    },
    {
     "name": "stdout",
     "output_type": "stream",
     "text": [
      "\u001b[1mXC metrics (shape=(40813, 21950748)): \u001b[0m\n"
     ]
    },
    {
     "data": {
      "text/html": [
       "<div>\n",
       "<style scoped>\n",
       "    .dataframe tbody tr th:only-of-type {\n",
       "        vertical-align: middle;\n",
       "    }\n",
       "\n",
       "    .dataframe tbody tr th {\n",
       "        vertical-align: top;\n",
       "    }\n",
       "\n",
       "    .dataframe thead th {\n",
       "        text-align: right;\n",
       "    }\n",
       "</style>\n",
       "<table border=\"1\" class=\"dataframe\">\n",
       "  <thead>\n",
       "    <tr style=\"text-align: right;\">\n",
       "      <th></th>\n",
       "      <th>1</th>\n",
       "      <th>2</th>\n",
       "      <th>3</th>\n",
       "      <th>4</th>\n",
       "      <th>5</th>\n",
       "    </tr>\n",
       "  </thead>\n",
       "  <tbody>\n",
       "    <tr>\n",
       "      <th>P</th>\n",
       "      <td>16.80</td>\n",
       "      <td>12.66</td>\n",
       "      <td>10.00</td>\n",
       "      <td>8.24</td>\n",
       "      <td>7.06</td>\n",
       "    </tr>\n",
       "    <tr>\n",
       "      <th>nDCG</th>\n",
       "      <td>16.80</td>\n",
       "      <td>20.59</td>\n",
       "      <td>22.40</td>\n",
       "      <td>23.40</td>\n",
       "      <td>24.09</td>\n",
       "    </tr>\n",
       "    <tr>\n",
       "      <th>PSP</th>\n",
       "      <td>16.51</td>\n",
       "      <td>20.31</td>\n",
       "      <td>22.03</td>\n",
       "      <td>22.91</td>\n",
       "      <td>23.57</td>\n",
       "    </tr>\n",
       "    <tr>\n",
       "      <th>PSnDCG</th>\n",
       "      <td>16.51</td>\n",
       "      <td>20.42</td>\n",
       "      <td>22.27</td>\n",
       "      <td>23.30</td>\n",
       "      <td>24.01</td>\n",
       "    </tr>\n",
       "  </tbody>\n",
       "</table>\n",
       "</div>"
      ],
      "text/plain": [
       "            1      2      3      4      5\n",
       "P       16.80  12.66  10.00   8.24   7.06\n",
       "nDCG    16.80  20.59  22.40  23.40  24.09\n",
       "PSP     16.51  20.31  22.03  22.91  23.57\n",
       "PSnDCG  16.51  20.42  22.27  23.30  24.01"
      ]
     },
     "metadata": {},
     "output_type": "display_data"
    }
   ],
   "source": [
    "metrics = get_irm_metrics(score_mat, X_Y=tst_X_Y[rand_inds]);"
   ]
  },
  {
   "cell_type": "code",
   "execution_count": 52,
   "metadata": {},
   "outputs": [],
   "source": [
    "X_Y = tst_X_Y[rand_inds]"
   ]
  },
  {
   "cell_type": "code",
   "execution_count": 63,
   "metadata": {
    "scrolled": true
   },
   "outputs": [
    {
     "name": "stderr",
     "output_type": "stream",
     "text": [
      "\r",
      "0it [00:00, ?it/s]"
     ]
    },
    {
     "name": "stdout",
     "output_type": "stream",
     "text": [
      "0.0 0.0 1.0\n"
     ]
    },
    {
     "data": {
      "text/html": [
       "<div>\n",
       "<style scoped>\n",
       "    .dataframe tbody tr th:only-of-type {\n",
       "        vertical-align: middle;\n",
       "    }\n",
       "\n",
       "    .dataframe tbody tr th {\n",
       "        vertical-align: top;\n",
       "    }\n",
       "\n",
       "    .dataframe thead th {\n",
       "        text-align: right;\n",
       "    }\n",
       "</style>\n",
       "<table border=\"1\" class=\"dataframe\">\n",
       "  <thead>\n",
       "    <tr style=\"text-align: right;\">\n",
       "      <th></th>\n",
       "      <th>1</th>\n",
       "      <th>2</th>\n",
       "      <th>3</th>\n",
       "      <th>4</th>\n",
       "      <th>5</th>\n",
       "    </tr>\n",
       "  </thead>\n",
       "  <tbody>\n",
       "    <tr>\n",
       "      <th>P</th>\n",
       "      <td>11.6</td>\n",
       "      <td>8.33</td>\n",
       "      <td>6.68</td>\n",
       "      <td>5.67</td>\n",
       "      <td>5.00</td>\n",
       "    </tr>\n",
       "    <tr>\n",
       "      <th>nDCG</th>\n",
       "      <td>11.6</td>\n",
       "      <td>13.26</td>\n",
       "      <td>14.27</td>\n",
       "      <td>14.98</td>\n",
       "      <td>15.54</td>\n",
       "    </tr>\n",
       "  </tbody>\n",
       "</table>\n",
       "</div>"
      ],
      "text/plain": [
       "         1      2      3      4      5\n",
       "P     11.6   8.33   6.68   5.67   5.00\n",
       "nDCG  11.6  13.26  14.27  14.98  15.54"
      ]
     },
     "metadata": {},
     "output_type": "display_data"
    },
    {
     "name": "stderr",
     "output_type": "stream",
     "text": [
      "\r",
      "1it [00:03,  3.24s/it]"
     ]
    },
    {
     "name": "stdout",
     "output_type": "stream",
     "text": [
      "0.1 0.0 0.9\n"
     ]
    },
    {
     "data": {
      "text/html": [
       "<div>\n",
       "<style scoped>\n",
       "    .dataframe tbody tr th:only-of-type {\n",
       "        vertical-align: middle;\n",
       "    }\n",
       "\n",
       "    .dataframe tbody tr th {\n",
       "        vertical-align: top;\n",
       "    }\n",
       "\n",
       "    .dataframe thead th {\n",
       "        text-align: right;\n",
       "    }\n",
       "</style>\n",
       "<table border=\"1\" class=\"dataframe\">\n",
       "  <thead>\n",
       "    <tr style=\"text-align: right;\">\n",
       "      <th></th>\n",
       "      <th>1</th>\n",
       "      <th>2</th>\n",
       "      <th>3</th>\n",
       "      <th>4</th>\n",
       "      <th>5</th>\n",
       "    </tr>\n",
       "  </thead>\n",
       "  <tbody>\n",
       "    <tr>\n",
       "      <th>P</th>\n",
       "      <td>11.44</td>\n",
       "      <td>8.12</td>\n",
       "      <td>6.45</td>\n",
       "      <td>5.44</td>\n",
       "      <td>4.77</td>\n",
       "    </tr>\n",
       "    <tr>\n",
       "      <th>nDCG</th>\n",
       "      <td>11.44</td>\n",
       "      <td>13.04</td>\n",
       "      <td>14.00</td>\n",
       "      <td>14.66</td>\n",
       "      <td>15.17</td>\n",
       "    </tr>\n",
       "  </tbody>\n",
       "</table>\n",
       "</div>"
      ],
      "text/plain": [
       "          1      2      3      4      5\n",
       "P     11.44   8.12   6.45   5.44   4.77\n",
       "nDCG  11.44  13.04  14.00  14.66  15.17"
      ]
     },
     "metadata": {},
     "output_type": "display_data"
    },
    {
     "name": "stdout",
     "output_type": "stream",
     "text": [
      "0.1 0.1 0.8\n"
     ]
    },
    {
     "data": {
      "text/html": [
       "<div>\n",
       "<style scoped>\n",
       "    .dataframe tbody tr th:only-of-type {\n",
       "        vertical-align: middle;\n",
       "    }\n",
       "\n",
       "    .dataframe tbody tr th {\n",
       "        vertical-align: top;\n",
       "    }\n",
       "\n",
       "    .dataframe thead th {\n",
       "        text-align: right;\n",
       "    }\n",
       "</style>\n",
       "<table border=\"1\" class=\"dataframe\">\n",
       "  <thead>\n",
       "    <tr style=\"text-align: right;\">\n",
       "      <th></th>\n",
       "      <th>1</th>\n",
       "      <th>2</th>\n",
       "      <th>3</th>\n",
       "      <th>4</th>\n",
       "      <th>5</th>\n",
       "    </tr>\n",
       "  </thead>\n",
       "  <tbody>\n",
       "    <tr>\n",
       "      <th>P</th>\n",
       "      <td>11.61</td>\n",
       "      <td>8.23</td>\n",
       "      <td>6.57</td>\n",
       "      <td>5.53</td>\n",
       "      <td>4.86</td>\n",
       "    </tr>\n",
       "    <tr>\n",
       "      <th>nDCG</th>\n",
       "      <td>11.61</td>\n",
       "      <td>13.19</td>\n",
       "      <td>14.18</td>\n",
       "      <td>14.83</td>\n",
       "      <td>15.35</td>\n",
       "    </tr>\n",
       "  </tbody>\n",
       "</table>\n",
       "</div>"
      ],
      "text/plain": [
       "          1      2      3      4      5\n",
       "P     11.61   8.23   6.57   5.53   4.86\n",
       "nDCG  11.61  13.19  14.18  14.83  15.35"
      ]
     },
     "metadata": {},
     "output_type": "display_data"
    },
    {
     "name": "stderr",
     "output_type": "stream",
     "text": [
      "\r",
      "2it [00:10,  4.47s/it]"
     ]
    },
    {
     "name": "stdout",
     "output_type": "stream",
     "text": [
      "0.2 0.0 0.8\n"
     ]
    },
    {
     "data": {
      "text/html": [
       "<div>\n",
       "<style scoped>\n",
       "    .dataframe tbody tr th:only-of-type {\n",
       "        vertical-align: middle;\n",
       "    }\n",
       "\n",
       "    .dataframe tbody tr th {\n",
       "        vertical-align: top;\n",
       "    }\n",
       "\n",
       "    .dataframe thead th {\n",
       "        text-align: right;\n",
       "    }\n",
       "</style>\n",
       "<table border=\"1\" class=\"dataframe\">\n",
       "  <thead>\n",
       "    <tr style=\"text-align: right;\">\n",
       "      <th></th>\n",
       "      <th>1</th>\n",
       "      <th>2</th>\n",
       "      <th>3</th>\n",
       "      <th>4</th>\n",
       "      <th>5</th>\n",
       "    </tr>\n",
       "  </thead>\n",
       "  <tbody>\n",
       "    <tr>\n",
       "      <th>P</th>\n",
       "      <td>11.38</td>\n",
       "      <td>8.06</td>\n",
       "      <td>6.39</td>\n",
       "      <td>5.39</td>\n",
       "      <td>4.73</td>\n",
       "    </tr>\n",
       "    <tr>\n",
       "      <th>nDCG</th>\n",
       "      <td>11.38</td>\n",
       "      <td>12.97</td>\n",
       "      <td>13.90</td>\n",
       "      <td>14.56</td>\n",
       "      <td>15.08</td>\n",
       "    </tr>\n",
       "  </tbody>\n",
       "</table>\n",
       "</div>"
      ],
      "text/plain": [
       "          1      2      3      4      5\n",
       "P     11.38   8.06   6.39   5.39   4.73\n",
       "nDCG  11.38  12.97  13.90  14.56  15.08"
      ]
     },
     "metadata": {},
     "output_type": "display_data"
    },
    {
     "name": "stdout",
     "output_type": "stream",
     "text": [
      "0.2 0.1 0.7000000000000001\n"
     ]
    },
    {
     "data": {
      "text/html": [
       "<div>\n",
       "<style scoped>\n",
       "    .dataframe tbody tr th:only-of-type {\n",
       "        vertical-align: middle;\n",
       "    }\n",
       "\n",
       "    .dataframe tbody tr th {\n",
       "        vertical-align: top;\n",
       "    }\n",
       "\n",
       "    .dataframe thead th {\n",
       "        text-align: right;\n",
       "    }\n",
       "</style>\n",
       "<table border=\"1\" class=\"dataframe\">\n",
       "  <thead>\n",
       "    <tr style=\"text-align: right;\">\n",
       "      <th></th>\n",
       "      <th>1</th>\n",
       "      <th>2</th>\n",
       "      <th>3</th>\n",
       "      <th>4</th>\n",
       "      <th>5</th>\n",
       "    </tr>\n",
       "  </thead>\n",
       "  <tbody>\n",
       "    <tr>\n",
       "      <th>P</th>\n",
       "      <td>11.51</td>\n",
       "      <td>8.14</td>\n",
       "      <td>6.47</td>\n",
       "      <td>5.45</td>\n",
       "      <td>4.78</td>\n",
       "    </tr>\n",
       "    <tr>\n",
       "      <th>nDCG</th>\n",
       "      <td>11.51</td>\n",
       "      <td>13.08</td>\n",
       "      <td>14.04</td>\n",
       "      <td>14.69</td>\n",
       "      <td>15.20</td>\n",
       "    </tr>\n",
       "  </tbody>\n",
       "</table>\n",
       "</div>"
      ],
      "text/plain": [
       "          1      2      3      4      5\n",
       "P     11.51   8.14   6.47   5.45   4.78\n",
       "nDCG  11.51  13.08  14.04  14.69  15.20"
      ]
     },
     "metadata": {},
     "output_type": "display_data"
    },
    {
     "name": "stdout",
     "output_type": "stream",
     "text": [
      "0.2 0.2 0.6000000000000001\n"
     ]
    },
    {
     "data": {
      "text/html": [
       "<div>\n",
       "<style scoped>\n",
       "    .dataframe tbody tr th:only-of-type {\n",
       "        vertical-align: middle;\n",
       "    }\n",
       "\n",
       "    .dataframe tbody tr th {\n",
       "        vertical-align: top;\n",
       "    }\n",
       "\n",
       "    .dataframe thead th {\n",
       "        text-align: right;\n",
       "    }\n",
       "</style>\n",
       "<table border=\"1\" class=\"dataframe\">\n",
       "  <thead>\n",
       "    <tr style=\"text-align: right;\">\n",
       "      <th></th>\n",
       "      <th>1</th>\n",
       "      <th>2</th>\n",
       "      <th>3</th>\n",
       "      <th>4</th>\n",
       "      <th>5</th>\n",
       "    </tr>\n",
       "  </thead>\n",
       "  <tbody>\n",
       "    <tr>\n",
       "      <th>P</th>\n",
       "      <td>11.58</td>\n",
       "      <td>8.21</td>\n",
       "      <td>6.54</td>\n",
       "      <td>5.50</td>\n",
       "      <td>4.82</td>\n",
       "    </tr>\n",
       "    <tr>\n",
       "      <th>nDCG</th>\n",
       "      <td>11.58</td>\n",
       "      <td>13.16</td>\n",
       "      <td>14.13</td>\n",
       "      <td>14.77</td>\n",
       "      <td>15.28</td>\n",
       "    </tr>\n",
       "  </tbody>\n",
       "</table>\n",
       "</div>"
      ],
      "text/plain": [
       "          1      2      3      4      5\n",
       "P     11.58   8.21   6.54   5.50   4.82\n",
       "nDCG  11.58  13.16  14.13  14.77  15.28"
      ]
     },
     "metadata": {},
     "output_type": "display_data"
    },
    {
     "name": "stderr",
     "output_type": "stream",
     "text": [
      "\r",
      "3it [00:21,  6.38s/it]"
     ]
    },
    {
     "name": "stdout",
     "output_type": "stream",
     "text": [
      "0.3 0.0 0.7\n"
     ]
    },
    {
     "data": {
      "text/html": [
       "<div>\n",
       "<style scoped>\n",
       "    .dataframe tbody tr th:only-of-type {\n",
       "        vertical-align: middle;\n",
       "    }\n",
       "\n",
       "    .dataframe tbody tr th {\n",
       "        vertical-align: top;\n",
       "    }\n",
       "\n",
       "    .dataframe thead th {\n",
       "        text-align: right;\n",
       "    }\n",
       "</style>\n",
       "<table border=\"1\" class=\"dataframe\">\n",
       "  <thead>\n",
       "    <tr style=\"text-align: right;\">\n",
       "      <th></th>\n",
       "      <th>1</th>\n",
       "      <th>2</th>\n",
       "      <th>3</th>\n",
       "      <th>4</th>\n",
       "      <th>5</th>\n",
       "    </tr>\n",
       "  </thead>\n",
       "  <tbody>\n",
       "    <tr>\n",
       "      <th>P</th>\n",
       "      <td>11.33</td>\n",
       "      <td>8.02</td>\n",
       "      <td>6.35</td>\n",
       "      <td>5.35</td>\n",
       "      <td>4.70</td>\n",
       "    </tr>\n",
       "    <tr>\n",
       "      <th>nDCG</th>\n",
       "      <td>11.33</td>\n",
       "      <td>12.91</td>\n",
       "      <td>13.84</td>\n",
       "      <td>14.50</td>\n",
       "      <td>15.02</td>\n",
       "    </tr>\n",
       "  </tbody>\n",
       "</table>\n",
       "</div>"
      ],
      "text/plain": [
       "          1      2      3      4      5\n",
       "P     11.33   8.02   6.35   5.35   4.70\n",
       "nDCG  11.33  12.91  13.84  14.50  15.02"
      ]
     },
     "metadata": {},
     "output_type": "display_data"
    },
    {
     "name": "stdout",
     "output_type": "stream",
     "text": [
      "0.3 0.1 0.6\n"
     ]
    },
    {
     "data": {
      "text/html": [
       "<div>\n",
       "<style scoped>\n",
       "    .dataframe tbody tr th:only-of-type {\n",
       "        vertical-align: middle;\n",
       "    }\n",
       "\n",
       "    .dataframe tbody tr th {\n",
       "        vertical-align: top;\n",
       "    }\n",
       "\n",
       "    .dataframe thead th {\n",
       "        text-align: right;\n",
       "    }\n",
       "</style>\n",
       "<table border=\"1\" class=\"dataframe\">\n",
       "  <thead>\n",
       "    <tr style=\"text-align: right;\">\n",
       "      <th></th>\n",
       "      <th>1</th>\n",
       "      <th>2</th>\n",
       "      <th>3</th>\n",
       "      <th>4</th>\n",
       "      <th>5</th>\n",
       "    </tr>\n",
       "  </thead>\n",
       "  <tbody>\n",
       "    <tr>\n",
       "      <th>P</th>\n",
       "      <td>11.43</td>\n",
       "      <td>8.08</td>\n",
       "      <td>6.41</td>\n",
       "      <td>5.41</td>\n",
       "      <td>4.74</td>\n",
       "    </tr>\n",
       "    <tr>\n",
       "      <th>nDCG</th>\n",
       "      <td>11.43</td>\n",
       "      <td>12.99</td>\n",
       "      <td>13.93</td>\n",
       "      <td>14.59</td>\n",
       "      <td>15.11</td>\n",
       "    </tr>\n",
       "  </tbody>\n",
       "</table>\n",
       "</div>"
      ],
      "text/plain": [
       "          1      2      3      4      5\n",
       "P     11.43   8.08   6.41   5.41   4.74\n",
       "nDCG  11.43  12.99  13.93  14.59  15.11"
      ]
     },
     "metadata": {},
     "output_type": "display_data"
    },
    {
     "name": "stdout",
     "output_type": "stream",
     "text": [
      "0.3 0.2 0.49999999999999994\n"
     ]
    },
    {
     "data": {
      "text/html": [
       "<div>\n",
       "<style scoped>\n",
       "    .dataframe tbody tr th:only-of-type {\n",
       "        vertical-align: middle;\n",
       "    }\n",
       "\n",
       "    .dataframe tbody tr th {\n",
       "        vertical-align: top;\n",
       "    }\n",
       "\n",
       "    .dataframe thead th {\n",
       "        text-align: right;\n",
       "    }\n",
       "</style>\n",
       "<table border=\"1\" class=\"dataframe\">\n",
       "  <thead>\n",
       "    <tr style=\"text-align: right;\">\n",
       "      <th></th>\n",
       "      <th>1</th>\n",
       "      <th>2</th>\n",
       "      <th>3</th>\n",
       "      <th>4</th>\n",
       "      <th>5</th>\n",
       "    </tr>\n",
       "  </thead>\n",
       "  <tbody>\n",
       "    <tr>\n",
       "      <th>P</th>\n",
       "      <td>11.51</td>\n",
       "      <td>8.13</td>\n",
       "      <td>6.47</td>\n",
       "      <td>5.45</td>\n",
       "      <td>4.78</td>\n",
       "    </tr>\n",
       "    <tr>\n",
       "      <th>nDCG</th>\n",
       "      <td>11.51</td>\n",
       "      <td>13.07</td>\n",
       "      <td>14.03</td>\n",
       "      <td>14.68</td>\n",
       "      <td>15.19</td>\n",
       "    </tr>\n",
       "  </tbody>\n",
       "</table>\n",
       "</div>"
      ],
      "text/plain": [
       "          1      2      3      4      5\n",
       "P     11.51   8.13   6.47   5.45   4.78\n",
       "nDCG  11.51  13.07  14.03  14.68  15.19"
      ]
     },
     "metadata": {},
     "output_type": "display_data"
    },
    {
     "name": "stdout",
     "output_type": "stream",
     "text": [
      "0.3 0.3 0.39999999999999997\n"
     ]
    },
    {
     "data": {
      "text/html": [
       "<div>\n",
       "<style scoped>\n",
       "    .dataframe tbody tr th:only-of-type {\n",
       "        vertical-align: middle;\n",
       "    }\n",
       "\n",
       "    .dataframe tbody tr th {\n",
       "        vertical-align: top;\n",
       "    }\n",
       "\n",
       "    .dataframe thead th {\n",
       "        text-align: right;\n",
       "    }\n",
       "</style>\n",
       "<table border=\"1\" class=\"dataframe\">\n",
       "  <thead>\n",
       "    <tr style=\"text-align: right;\">\n",
       "      <th></th>\n",
       "      <th>1</th>\n",
       "      <th>2</th>\n",
       "      <th>3</th>\n",
       "      <th>4</th>\n",
       "      <th>5</th>\n",
       "    </tr>\n",
       "  </thead>\n",
       "  <tbody>\n",
       "    <tr>\n",
       "      <th>P</th>\n",
       "      <td>11.54</td>\n",
       "      <td>8.18</td>\n",
       "      <td>6.51</td>\n",
       "      <td>5.49</td>\n",
       "      <td>4.81</td>\n",
       "    </tr>\n",
       "    <tr>\n",
       "      <th>nDCG</th>\n",
       "      <td>11.54</td>\n",
       "      <td>13.12</td>\n",
       "      <td>14.08</td>\n",
       "      <td>14.74</td>\n",
       "      <td>15.24</td>\n",
       "    </tr>\n",
       "  </tbody>\n",
       "</table>\n",
       "</div>"
      ],
      "text/plain": [
       "          1      2      3      4      5\n",
       "P     11.54   8.18   6.51   5.49   4.81\n",
       "nDCG  11.54  13.12  14.08  14.74  15.24"
      ]
     },
     "metadata": {},
     "output_type": "display_data"
    },
    {
     "name": "stderr",
     "output_type": "stream",
     "text": [
      "\r",
      "4it [00:35,  8.69s/it]"
     ]
    },
    {
     "name": "stdout",
     "output_type": "stream",
     "text": [
      "0.4 0.0 0.6\n"
     ]
    },
    {
     "data": {
      "text/html": [
       "<div>\n",
       "<style scoped>\n",
       "    .dataframe tbody tr th:only-of-type {\n",
       "        vertical-align: middle;\n",
       "    }\n",
       "\n",
       "    .dataframe tbody tr th {\n",
       "        vertical-align: top;\n",
       "    }\n",
       "\n",
       "    .dataframe thead th {\n",
       "        text-align: right;\n",
       "    }\n",
       "</style>\n",
       "<table border=\"1\" class=\"dataframe\">\n",
       "  <thead>\n",
       "    <tr style=\"text-align: right;\">\n",
       "      <th></th>\n",
       "      <th>1</th>\n",
       "      <th>2</th>\n",
       "      <th>3</th>\n",
       "      <th>4</th>\n",
       "      <th>5</th>\n",
       "    </tr>\n",
       "  </thead>\n",
       "  <tbody>\n",
       "    <tr>\n",
       "      <th>P</th>\n",
       "      <td>11.32</td>\n",
       "      <td>8.00</td>\n",
       "      <td>6.34</td>\n",
       "      <td>5.34</td>\n",
       "      <td>4.69</td>\n",
       "    </tr>\n",
       "    <tr>\n",
       "      <th>nDCG</th>\n",
       "      <td>11.32</td>\n",
       "      <td>12.89</td>\n",
       "      <td>13.82</td>\n",
       "      <td>14.48</td>\n",
       "      <td>14.99</td>\n",
       "    </tr>\n",
       "  </tbody>\n",
       "</table>\n",
       "</div>"
      ],
      "text/plain": [
       "          1      2      3      4      5\n",
       "P     11.32   8.00   6.34   5.34   4.69\n",
       "nDCG  11.32  12.89  13.82  14.48  14.99"
      ]
     },
     "metadata": {},
     "output_type": "display_data"
    },
    {
     "name": "stdout",
     "output_type": "stream",
     "text": [
      "0.4 0.1 0.5\n"
     ]
    },
    {
     "data": {
      "text/html": [
       "<div>\n",
       "<style scoped>\n",
       "    .dataframe tbody tr th:only-of-type {\n",
       "        vertical-align: middle;\n",
       "    }\n",
       "\n",
       "    .dataframe tbody tr th {\n",
       "        vertical-align: top;\n",
       "    }\n",
       "\n",
       "    .dataframe thead th {\n",
       "        text-align: right;\n",
       "    }\n",
       "</style>\n",
       "<table border=\"1\" class=\"dataframe\">\n",
       "  <thead>\n",
       "    <tr style=\"text-align: right;\">\n",
       "      <th></th>\n",
       "      <th>1</th>\n",
       "      <th>2</th>\n",
       "      <th>3</th>\n",
       "      <th>4</th>\n",
       "      <th>5</th>\n",
       "    </tr>\n",
       "  </thead>\n",
       "  <tbody>\n",
       "    <tr>\n",
       "      <th>P</th>\n",
       "      <td>11.4</td>\n",
       "      <td>8.05</td>\n",
       "      <td>6.39</td>\n",
       "      <td>5.38</td>\n",
       "      <td>4.72</td>\n",
       "    </tr>\n",
       "    <tr>\n",
       "      <th>nDCG</th>\n",
       "      <td>11.4</td>\n",
       "      <td>12.96</td>\n",
       "      <td>13.90</td>\n",
       "      <td>14.55</td>\n",
       "      <td>15.07</td>\n",
       "    </tr>\n",
       "  </tbody>\n",
       "</table>\n",
       "</div>"
      ],
      "text/plain": [
       "         1      2      3      4      5\n",
       "P     11.4   8.05   6.39   5.38   4.72\n",
       "nDCG  11.4  12.96  13.90  14.55  15.07"
      ]
     },
     "metadata": {},
     "output_type": "display_data"
    },
    {
     "name": "stdout",
     "output_type": "stream",
     "text": [
      "0.4 0.2 0.39999999999999997\n"
     ]
    },
    {
     "data": {
      "text/html": [
       "<div>\n",
       "<style scoped>\n",
       "    .dataframe tbody tr th:only-of-type {\n",
       "        vertical-align: middle;\n",
       "    }\n",
       "\n",
       "    .dataframe tbody tr th {\n",
       "        vertical-align: top;\n",
       "    }\n",
       "\n",
       "    .dataframe thead th {\n",
       "        text-align: right;\n",
       "    }\n",
       "</style>\n",
       "<table border=\"1\" class=\"dataframe\">\n",
       "  <thead>\n",
       "    <tr style=\"text-align: right;\">\n",
       "      <th></th>\n",
       "      <th>1</th>\n",
       "      <th>2</th>\n",
       "      <th>3</th>\n",
       "      <th>4</th>\n",
       "      <th>5</th>\n",
       "    </tr>\n",
       "  </thead>\n",
       "  <tbody>\n",
       "    <tr>\n",
       "      <th>P</th>\n",
       "      <td>11.45</td>\n",
       "      <td>8.09</td>\n",
       "      <td>6.43</td>\n",
       "      <td>5.42</td>\n",
       "      <td>4.75</td>\n",
       "    </tr>\n",
       "    <tr>\n",
       "      <th>nDCG</th>\n",
       "      <td>11.45</td>\n",
       "      <td>13.01</td>\n",
       "      <td>13.97</td>\n",
       "      <td>14.62</td>\n",
       "      <td>15.13</td>\n",
       "    </tr>\n",
       "  </tbody>\n",
       "</table>\n",
       "</div>"
      ],
      "text/plain": [
       "          1      2      3      4      5\n",
       "P     11.45   8.09   6.43   5.42   4.75\n",
       "nDCG  11.45  13.01  13.97  14.62  15.13"
      ]
     },
     "metadata": {},
     "output_type": "display_data"
    },
    {
     "name": "stdout",
     "output_type": "stream",
     "text": [
      "0.4 0.3 0.3\n"
     ]
    },
    {
     "data": {
      "text/html": [
       "<div>\n",
       "<style scoped>\n",
       "    .dataframe tbody tr th:only-of-type {\n",
       "        vertical-align: middle;\n",
       "    }\n",
       "\n",
       "    .dataframe tbody tr th {\n",
       "        vertical-align: top;\n",
       "    }\n",
       "\n",
       "    .dataframe thead th {\n",
       "        text-align: right;\n",
       "    }\n",
       "</style>\n",
       "<table border=\"1\" class=\"dataframe\">\n",
       "  <thead>\n",
       "    <tr style=\"text-align: right;\">\n",
       "      <th></th>\n",
       "      <th>1</th>\n",
       "      <th>2</th>\n",
       "      <th>3</th>\n",
       "      <th>4</th>\n",
       "      <th>5</th>\n",
       "    </tr>\n",
       "  </thead>\n",
       "  <tbody>\n",
       "    <tr>\n",
       "      <th>P</th>\n",
       "      <td>11.5</td>\n",
       "      <td>8.12</td>\n",
       "      <td>6.46</td>\n",
       "      <td>5.45</td>\n",
       "      <td>4.78</td>\n",
       "    </tr>\n",
       "    <tr>\n",
       "      <th>nDCG</th>\n",
       "      <td>11.5</td>\n",
       "      <td>13.06</td>\n",
       "      <td>14.02</td>\n",
       "      <td>14.67</td>\n",
       "      <td>15.18</td>\n",
       "    </tr>\n",
       "  </tbody>\n",
       "</table>\n",
       "</div>"
      ],
      "text/plain": [
       "         1      2      3      4      5\n",
       "P     11.5   8.12   6.46   5.45   4.78\n",
       "nDCG  11.5  13.06  14.02  14.67  15.18"
      ]
     },
     "metadata": {},
     "output_type": "display_data"
    },
    {
     "name": "stdout",
     "output_type": "stream",
     "text": [
      "0.4 0.4 0.19999999999999996\n"
     ]
    },
    {
     "data": {
      "text/html": [
       "<div>\n",
       "<style scoped>\n",
       "    .dataframe tbody tr th:only-of-type {\n",
       "        vertical-align: middle;\n",
       "    }\n",
       "\n",
       "    .dataframe tbody tr th {\n",
       "        vertical-align: top;\n",
       "    }\n",
       "\n",
       "    .dataframe thead th {\n",
       "        text-align: right;\n",
       "    }\n",
       "</style>\n",
       "<table border=\"1\" class=\"dataframe\">\n",
       "  <thead>\n",
       "    <tr style=\"text-align: right;\">\n",
       "      <th></th>\n",
       "      <th>1</th>\n",
       "      <th>2</th>\n",
       "      <th>3</th>\n",
       "      <th>4</th>\n",
       "      <th>5</th>\n",
       "    </tr>\n",
       "  </thead>\n",
       "  <tbody>\n",
       "    <tr>\n",
       "      <th>P</th>\n",
       "      <td>11.52</td>\n",
       "      <td>8.16</td>\n",
       "      <td>6.49</td>\n",
       "      <td>5.47</td>\n",
       "      <td>4.80</td>\n",
       "    </tr>\n",
       "    <tr>\n",
       "      <th>nDCG</th>\n",
       "      <td>11.52</td>\n",
       "      <td>13.10</td>\n",
       "      <td>14.06</td>\n",
       "      <td>14.71</td>\n",
       "      <td>15.21</td>\n",
       "    </tr>\n",
       "  </tbody>\n",
       "</table>\n",
       "</div>"
      ],
      "text/plain": [
       "          1      2      3      4      5\n",
       "P     11.52   8.16   6.49   5.47   4.80\n",
       "nDCG  11.52  13.10  14.06  14.71  15.21"
      ]
     },
     "metadata": {},
     "output_type": "display_data"
    },
    {
     "name": "stderr",
     "output_type": "stream",
     "text": [
      "\r",
      "5it [00:52, 11.33s/it]"
     ]
    },
    {
     "name": "stdout",
     "output_type": "stream",
     "text": [
      "0.5 0.0 0.5\n"
     ]
    },
    {
     "data": {
      "text/html": [
       "<div>\n",
       "<style scoped>\n",
       "    .dataframe tbody tr th:only-of-type {\n",
       "        vertical-align: middle;\n",
       "    }\n",
       "\n",
       "    .dataframe tbody tr th {\n",
       "        vertical-align: top;\n",
       "    }\n",
       "\n",
       "    .dataframe thead th {\n",
       "        text-align: right;\n",
       "    }\n",
       "</style>\n",
       "<table border=\"1\" class=\"dataframe\">\n",
       "  <thead>\n",
       "    <tr style=\"text-align: right;\">\n",
       "      <th></th>\n",
       "      <th>1</th>\n",
       "      <th>2</th>\n",
       "      <th>3</th>\n",
       "      <th>4</th>\n",
       "      <th>5</th>\n",
       "    </tr>\n",
       "  </thead>\n",
       "  <tbody>\n",
       "    <tr>\n",
       "      <th>P</th>\n",
       "      <td>11.31</td>\n",
       "      <td>7.98</td>\n",
       "      <td>6.33</td>\n",
       "      <td>5.33</td>\n",
       "      <td>4.68</td>\n",
       "    </tr>\n",
       "    <tr>\n",
       "      <th>nDCG</th>\n",
       "      <td>11.31</td>\n",
       "      <td>12.87</td>\n",
       "      <td>13.80</td>\n",
       "      <td>14.46</td>\n",
       "      <td>14.97</td>\n",
       "    </tr>\n",
       "  </tbody>\n",
       "</table>\n",
       "</div>"
      ],
      "text/plain": [
       "          1      2      3      4      5\n",
       "P     11.31   7.98   6.33   5.33   4.68\n",
       "nDCG  11.31  12.87  13.80  14.46  14.97"
      ]
     },
     "metadata": {},
     "output_type": "display_data"
    },
    {
     "name": "stdout",
     "output_type": "stream",
     "text": [
      "0.5 0.1 0.4\n"
     ]
    },
    {
     "data": {
      "text/html": [
       "<div>\n",
       "<style scoped>\n",
       "    .dataframe tbody tr th:only-of-type {\n",
       "        vertical-align: middle;\n",
       "    }\n",
       "\n",
       "    .dataframe tbody tr th {\n",
       "        vertical-align: top;\n",
       "    }\n",
       "\n",
       "    .dataframe thead th {\n",
       "        text-align: right;\n",
       "    }\n",
       "</style>\n",
       "<table border=\"1\" class=\"dataframe\">\n",
       "  <thead>\n",
       "    <tr style=\"text-align: right;\">\n",
       "      <th></th>\n",
       "      <th>1</th>\n",
       "      <th>2</th>\n",
       "      <th>3</th>\n",
       "      <th>4</th>\n",
       "      <th>5</th>\n",
       "    </tr>\n",
       "  </thead>\n",
       "  <tbody>\n",
       "    <tr>\n",
       "      <th>P</th>\n",
       "      <td>11.36</td>\n",
       "      <td>8.02</td>\n",
       "      <td>6.37</td>\n",
       "      <td>5.37</td>\n",
       "      <td>4.71</td>\n",
       "    </tr>\n",
       "    <tr>\n",
       "      <th>nDCG</th>\n",
       "      <td>11.36</td>\n",
       "      <td>12.92</td>\n",
       "      <td>13.87</td>\n",
       "      <td>14.52</td>\n",
       "      <td>15.03</td>\n",
       "    </tr>\n",
       "  </tbody>\n",
       "</table>\n",
       "</div>"
      ],
      "text/plain": [
       "          1      2      3      4      5\n",
       "P     11.36   8.02   6.37   5.37   4.71\n",
       "nDCG  11.36  12.92  13.87  14.52  15.03"
      ]
     },
     "metadata": {},
     "output_type": "display_data"
    },
    {
     "name": "stdout",
     "output_type": "stream",
     "text": [
      "0.5 0.2 0.3\n"
     ]
    },
    {
     "data": {
      "text/html": [
       "<div>\n",
       "<style scoped>\n",
       "    .dataframe tbody tr th:only-of-type {\n",
       "        vertical-align: middle;\n",
       "    }\n",
       "\n",
       "    .dataframe tbody tr th {\n",
       "        vertical-align: top;\n",
       "    }\n",
       "\n",
       "    .dataframe thead th {\n",
       "        text-align: right;\n",
       "    }\n",
       "</style>\n",
       "<table border=\"1\" class=\"dataframe\">\n",
       "  <thead>\n",
       "    <tr style=\"text-align: right;\">\n",
       "      <th></th>\n",
       "      <th>1</th>\n",
       "      <th>2</th>\n",
       "      <th>3</th>\n",
       "      <th>4</th>\n",
       "      <th>5</th>\n",
       "    </tr>\n",
       "  </thead>\n",
       "  <tbody>\n",
       "    <tr>\n",
       "      <th>P</th>\n",
       "      <td>11.41</td>\n",
       "      <td>8.06</td>\n",
       "      <td>6.40</td>\n",
       "      <td>5.39</td>\n",
       "      <td>4.73</td>\n",
       "    </tr>\n",
       "    <tr>\n",
       "      <th>nDCG</th>\n",
       "      <td>11.41</td>\n",
       "      <td>12.97</td>\n",
       "      <td>13.92</td>\n",
       "      <td>14.57</td>\n",
       "      <td>15.09</td>\n",
       "    </tr>\n",
       "  </tbody>\n",
       "</table>\n",
       "</div>"
      ],
      "text/plain": [
       "          1      2      3      4      5\n",
       "P     11.41   8.06   6.40   5.39   4.73\n",
       "nDCG  11.41  12.97  13.92  14.57  15.09"
      ]
     },
     "metadata": {},
     "output_type": "display_data"
    },
    {
     "name": "stdout",
     "output_type": "stream",
     "text": [
      "0.5 0.3 0.2\n"
     ]
    },
    {
     "data": {
      "text/html": [
       "<div>\n",
       "<style scoped>\n",
       "    .dataframe tbody tr th:only-of-type {\n",
       "        vertical-align: middle;\n",
       "    }\n",
       "\n",
       "    .dataframe tbody tr th {\n",
       "        vertical-align: top;\n",
       "    }\n",
       "\n",
       "    .dataframe thead th {\n",
       "        text-align: right;\n",
       "    }\n",
       "</style>\n",
       "<table border=\"1\" class=\"dataframe\">\n",
       "  <thead>\n",
       "    <tr style=\"text-align: right;\">\n",
       "      <th></th>\n",
       "      <th>1</th>\n",
       "      <th>2</th>\n",
       "      <th>3</th>\n",
       "      <th>4</th>\n",
       "      <th>5</th>\n",
       "    </tr>\n",
       "  </thead>\n",
       "  <tbody>\n",
       "    <tr>\n",
       "      <th>P</th>\n",
       "      <td>11.47</td>\n",
       "      <td>8.09</td>\n",
       "      <td>6.43</td>\n",
       "      <td>5.42</td>\n",
       "      <td>4.75</td>\n",
       "    </tr>\n",
       "    <tr>\n",
       "      <th>nDCG</th>\n",
       "      <td>11.47</td>\n",
       "      <td>13.02</td>\n",
       "      <td>13.97</td>\n",
       "      <td>14.62</td>\n",
       "      <td>15.14</td>\n",
       "    </tr>\n",
       "  </tbody>\n",
       "</table>\n",
       "</div>"
      ],
      "text/plain": [
       "          1      2      3      4      5\n",
       "P     11.47   8.09   6.43   5.42   4.75\n",
       "nDCG  11.47  13.02  13.97  14.62  15.14"
      ]
     },
     "metadata": {},
     "output_type": "display_data"
    },
    {
     "name": "stdout",
     "output_type": "stream",
     "text": [
      "0.5 0.4 0.09999999999999998\n"
     ]
    },
    {
     "data": {
      "text/html": [
       "<div>\n",
       "<style scoped>\n",
       "    .dataframe tbody tr th:only-of-type {\n",
       "        vertical-align: middle;\n",
       "    }\n",
       "\n",
       "    .dataframe tbody tr th {\n",
       "        vertical-align: top;\n",
       "    }\n",
       "\n",
       "    .dataframe thead th {\n",
       "        text-align: right;\n",
       "    }\n",
       "</style>\n",
       "<table border=\"1\" class=\"dataframe\">\n",
       "  <thead>\n",
       "    <tr style=\"text-align: right;\">\n",
       "      <th></th>\n",
       "      <th>1</th>\n",
       "      <th>2</th>\n",
       "      <th>3</th>\n",
       "      <th>4</th>\n",
       "      <th>5</th>\n",
       "    </tr>\n",
       "  </thead>\n",
       "  <tbody>\n",
       "    <tr>\n",
       "      <th>P</th>\n",
       "      <td>11.49</td>\n",
       "      <td>8.12</td>\n",
       "      <td>6.46</td>\n",
       "      <td>5.45</td>\n",
       "      <td>4.78</td>\n",
       "    </tr>\n",
       "    <tr>\n",
       "      <th>nDCG</th>\n",
       "      <td>11.49</td>\n",
       "      <td>13.06</td>\n",
       "      <td>14.01</td>\n",
       "      <td>14.67</td>\n",
       "      <td>15.18</td>\n",
       "    </tr>\n",
       "  </tbody>\n",
       "</table>\n",
       "</div>"
      ],
      "text/plain": [
       "          1      2      3      4      5\n",
       "P     11.49   8.12   6.46   5.45   4.78\n",
       "nDCG  11.49  13.06  14.01  14.67  15.18"
      ]
     },
     "metadata": {},
     "output_type": "display_data"
    },
    {
     "name": "stdout",
     "output_type": "stream",
     "text": [
      "0.5 0.5 0.0\n"
     ]
    },
    {
     "data": {
      "text/html": [
       "<div>\n",
       "<style scoped>\n",
       "    .dataframe tbody tr th:only-of-type {\n",
       "        vertical-align: middle;\n",
       "    }\n",
       "\n",
       "    .dataframe tbody tr th {\n",
       "        vertical-align: top;\n",
       "    }\n",
       "\n",
       "    .dataframe thead th {\n",
       "        text-align: right;\n",
       "    }\n",
       "</style>\n",
       "<table border=\"1\" class=\"dataframe\">\n",
       "  <thead>\n",
       "    <tr style=\"text-align: right;\">\n",
       "      <th></th>\n",
       "      <th>1</th>\n",
       "      <th>2</th>\n",
       "      <th>3</th>\n",
       "      <th>4</th>\n",
       "      <th>5</th>\n",
       "    </tr>\n",
       "  </thead>\n",
       "  <tbody>\n",
       "    <tr>\n",
       "      <th>P</th>\n",
       "      <td>11.52</td>\n",
       "      <td>8.16</td>\n",
       "      <td>6.49</td>\n",
       "      <td>5.47</td>\n",
       "      <td>4.79</td>\n",
       "    </tr>\n",
       "    <tr>\n",
       "      <th>nDCG</th>\n",
       "      <td>11.52</td>\n",
       "      <td>13.09</td>\n",
       "      <td>14.05</td>\n",
       "      <td>14.70</td>\n",
       "      <td>15.21</td>\n",
       "    </tr>\n",
       "  </tbody>\n",
       "</table>\n",
       "</div>"
      ],
      "text/plain": [
       "          1      2      3      4      5\n",
       "P     11.52   8.16   6.49   5.47   4.79\n",
       "nDCG  11.52  13.09  14.05  14.70  15.21"
      ]
     },
     "metadata": {},
     "output_type": "display_data"
    },
    {
     "name": "stderr",
     "output_type": "stream",
     "text": [
      "\r",
      "6it [01:14, 14.38s/it]"
     ]
    },
    {
     "name": "stdout",
     "output_type": "stream",
     "text": [
      "0.6 0.0 0.4\n"
     ]
    },
    {
     "data": {
      "text/html": [
       "<div>\n",
       "<style scoped>\n",
       "    .dataframe tbody tr th:only-of-type {\n",
       "        vertical-align: middle;\n",
       "    }\n",
       "\n",
       "    .dataframe tbody tr th {\n",
       "        vertical-align: top;\n",
       "    }\n",
       "\n",
       "    .dataframe thead th {\n",
       "        text-align: right;\n",
       "    }\n",
       "</style>\n",
       "<table border=\"1\" class=\"dataframe\">\n",
       "  <thead>\n",
       "    <tr style=\"text-align: right;\">\n",
       "      <th></th>\n",
       "      <th>1</th>\n",
       "      <th>2</th>\n",
       "      <th>3</th>\n",
       "      <th>4</th>\n",
       "      <th>5</th>\n",
       "    </tr>\n",
       "  </thead>\n",
       "  <tbody>\n",
       "    <tr>\n",
       "      <th>P</th>\n",
       "      <td>11.3</td>\n",
       "      <td>7.98</td>\n",
       "      <td>6.32</td>\n",
       "      <td>5.33</td>\n",
       "      <td>4.67</td>\n",
       "    </tr>\n",
       "    <tr>\n",
       "      <th>nDCG</th>\n",
       "      <td>11.3</td>\n",
       "      <td>12.86</td>\n",
       "      <td>13.79</td>\n",
       "      <td>14.44</td>\n",
       "      <td>14.96</td>\n",
       "    </tr>\n",
       "  </tbody>\n",
       "</table>\n",
       "</div>"
      ],
      "text/plain": [
       "         1      2      3      4      5\n",
       "P     11.3   7.98   6.32   5.33   4.67\n",
       "nDCG  11.3  12.86  13.79  14.44  14.96"
      ]
     },
     "metadata": {},
     "output_type": "display_data"
    },
    {
     "name": "stdout",
     "output_type": "stream",
     "text": [
      "0.6 0.1 0.30000000000000004\n"
     ]
    },
    {
     "data": {
      "text/html": [
       "<div>\n",
       "<style scoped>\n",
       "    .dataframe tbody tr th:only-of-type {\n",
       "        vertical-align: middle;\n",
       "    }\n",
       "\n",
       "    .dataframe tbody tr th {\n",
       "        vertical-align: top;\n",
       "    }\n",
       "\n",
       "    .dataframe thead th {\n",
       "        text-align: right;\n",
       "    }\n",
       "</style>\n",
       "<table border=\"1\" class=\"dataframe\">\n",
       "  <thead>\n",
       "    <tr style=\"text-align: right;\">\n",
       "      <th></th>\n",
       "      <th>1</th>\n",
       "      <th>2</th>\n",
       "      <th>3</th>\n",
       "      <th>4</th>\n",
       "      <th>5</th>\n",
       "    </tr>\n",
       "  </thead>\n",
       "  <tbody>\n",
       "    <tr>\n",
       "      <th>P</th>\n",
       "      <td>11.35</td>\n",
       "      <td>8.01</td>\n",
       "      <td>6.36</td>\n",
       "      <td>5.35</td>\n",
       "      <td>4.70</td>\n",
       "    </tr>\n",
       "    <tr>\n",
       "      <th>nDCG</th>\n",
       "      <td>11.35</td>\n",
       "      <td>12.91</td>\n",
       "      <td>13.84</td>\n",
       "      <td>14.50</td>\n",
       "      <td>15.01</td>\n",
       "    </tr>\n",
       "  </tbody>\n",
       "</table>\n",
       "</div>"
      ],
      "text/plain": [
       "          1      2      3      4      5\n",
       "P     11.35   8.01   6.36   5.35   4.70\n",
       "nDCG  11.35  12.91  13.84  14.50  15.01"
      ]
     },
     "metadata": {},
     "output_type": "display_data"
    },
    {
     "name": "stdout",
     "output_type": "stream",
     "text": [
      "0.6 0.2 0.2\n"
     ]
    },
    {
     "data": {
      "text/html": [
       "<div>\n",
       "<style scoped>\n",
       "    .dataframe tbody tr th:only-of-type {\n",
       "        vertical-align: middle;\n",
       "    }\n",
       "\n",
       "    .dataframe tbody tr th {\n",
       "        vertical-align: top;\n",
       "    }\n",
       "\n",
       "    .dataframe thead th {\n",
       "        text-align: right;\n",
       "    }\n",
       "</style>\n",
       "<table border=\"1\" class=\"dataframe\">\n",
       "  <thead>\n",
       "    <tr style=\"text-align: right;\">\n",
       "      <th></th>\n",
       "      <th>1</th>\n",
       "      <th>2</th>\n",
       "      <th>3</th>\n",
       "      <th>4</th>\n",
       "      <th>5</th>\n",
       "    </tr>\n",
       "  </thead>\n",
       "  <tbody>\n",
       "    <tr>\n",
       "      <th>P</th>\n",
       "      <td>11.39</td>\n",
       "      <td>8.04</td>\n",
       "      <td>6.39</td>\n",
       "      <td>5.38</td>\n",
       "      <td>4.72</td>\n",
       "    </tr>\n",
       "    <tr>\n",
       "      <th>nDCG</th>\n",
       "      <td>11.39</td>\n",
       "      <td>12.95</td>\n",
       "      <td>13.89</td>\n",
       "      <td>14.54</td>\n",
       "      <td>15.05</td>\n",
       "    </tr>\n",
       "  </tbody>\n",
       "</table>\n",
       "</div>"
      ],
      "text/plain": [
       "          1      2      3      4      5\n",
       "P     11.39   8.04   6.39   5.38   4.72\n",
       "nDCG  11.39  12.95  13.89  14.54  15.05"
      ]
     },
     "metadata": {},
     "output_type": "display_data"
    },
    {
     "name": "stdout",
     "output_type": "stream",
     "text": [
      "0.6 0.3 0.10000000000000003\n"
     ]
    },
    {
     "data": {
      "text/html": [
       "<div>\n",
       "<style scoped>\n",
       "    .dataframe tbody tr th:only-of-type {\n",
       "        vertical-align: middle;\n",
       "    }\n",
       "\n",
       "    .dataframe tbody tr th {\n",
       "        vertical-align: top;\n",
       "    }\n",
       "\n",
       "    .dataframe thead th {\n",
       "        text-align: right;\n",
       "    }\n",
       "</style>\n",
       "<table border=\"1\" class=\"dataframe\">\n",
       "  <thead>\n",
       "    <tr style=\"text-align: right;\">\n",
       "      <th></th>\n",
       "      <th>1</th>\n",
       "      <th>2</th>\n",
       "      <th>3</th>\n",
       "      <th>4</th>\n",
       "      <th>5</th>\n",
       "    </tr>\n",
       "  </thead>\n",
       "  <tbody>\n",
       "    <tr>\n",
       "      <th>P</th>\n",
       "      <td>11.42</td>\n",
       "      <td>8.07</td>\n",
       "      <td>6.41</td>\n",
       "      <td>5.40</td>\n",
       "      <td>4.74</td>\n",
       "    </tr>\n",
       "    <tr>\n",
       "      <th>nDCG</th>\n",
       "      <td>11.42</td>\n",
       "      <td>12.99</td>\n",
       "      <td>13.93</td>\n",
       "      <td>14.58</td>\n",
       "      <td>15.10</td>\n",
       "    </tr>\n",
       "  </tbody>\n",
       "</table>\n",
       "</div>"
      ],
      "text/plain": [
       "          1      2      3      4      5\n",
       "P     11.42   8.07   6.41   5.40   4.74\n",
       "nDCG  11.42  12.99  13.93  14.58  15.10"
      ]
     },
     "metadata": {},
     "output_type": "display_data"
    },
    {
     "name": "stdout",
     "output_type": "stream",
     "text": [
      "0.6 0.4 0.0\n"
     ]
    },
    {
     "data": {
      "text/html": [
       "<div>\n",
       "<style scoped>\n",
       "    .dataframe tbody tr th:only-of-type {\n",
       "        vertical-align: middle;\n",
       "    }\n",
       "\n",
       "    .dataframe tbody tr th {\n",
       "        vertical-align: top;\n",
       "    }\n",
       "\n",
       "    .dataframe thead th {\n",
       "        text-align: right;\n",
       "    }\n",
       "</style>\n",
       "<table border=\"1\" class=\"dataframe\">\n",
       "  <thead>\n",
       "    <tr style=\"text-align: right;\">\n",
       "      <th></th>\n",
       "      <th>1</th>\n",
       "      <th>2</th>\n",
       "      <th>3</th>\n",
       "      <th>4</th>\n",
       "      <th>5</th>\n",
       "    </tr>\n",
       "  </thead>\n",
       "  <tbody>\n",
       "    <tr>\n",
       "      <th>P</th>\n",
       "      <td>11.47</td>\n",
       "      <td>8.10</td>\n",
       "      <td>6.43</td>\n",
       "      <td>5.42</td>\n",
       "      <td>4.76</td>\n",
       "    </tr>\n",
       "    <tr>\n",
       "      <th>nDCG</th>\n",
       "      <td>11.47</td>\n",
       "      <td>13.02</td>\n",
       "      <td>13.97</td>\n",
       "      <td>14.62</td>\n",
       "      <td>15.14</td>\n",
       "    </tr>\n",
       "  </tbody>\n",
       "</table>\n",
       "</div>"
      ],
      "text/plain": [
       "          1      2      3      4      5\n",
       "P     11.47   8.10   6.43   5.42   4.76\n",
       "nDCG  11.47  13.02  13.97  14.62  15.14"
      ]
     },
     "metadata": {},
     "output_type": "display_data"
    },
    {
     "name": "stdout",
     "output_type": "stream",
     "text": [
      "0.6 0.5 -0.09999999999999998\n"
     ]
    },
    {
     "data": {
      "text/html": [
       "<div>\n",
       "<style scoped>\n",
       "    .dataframe tbody tr th:only-of-type {\n",
       "        vertical-align: middle;\n",
       "    }\n",
       "\n",
       "    .dataframe tbody tr th {\n",
       "        vertical-align: top;\n",
       "    }\n",
       "\n",
       "    .dataframe thead th {\n",
       "        text-align: right;\n",
       "    }\n",
       "</style>\n",
       "<table border=\"1\" class=\"dataframe\">\n",
       "  <thead>\n",
       "    <tr style=\"text-align: right;\">\n",
       "      <th></th>\n",
       "      <th>1</th>\n",
       "      <th>2</th>\n",
       "      <th>3</th>\n",
       "      <th>4</th>\n",
       "      <th>5</th>\n",
       "    </tr>\n",
       "  </thead>\n",
       "  <tbody>\n",
       "    <tr>\n",
       "      <th>P</th>\n",
       "      <td>11.48</td>\n",
       "      <td>8.12</td>\n",
       "      <td>6.46</td>\n",
       "      <td>5.44</td>\n",
       "      <td>4.77</td>\n",
       "    </tr>\n",
       "    <tr>\n",
       "      <th>nDCG</th>\n",
       "      <td>11.48</td>\n",
       "      <td>13.05</td>\n",
       "      <td>14.00</td>\n",
       "      <td>14.66</td>\n",
       "      <td>15.16</td>\n",
       "    </tr>\n",
       "  </tbody>\n",
       "</table>\n",
       "</div>"
      ],
      "text/plain": [
       "          1      2      3      4      5\n",
       "P     11.48   8.12   6.46   5.44   4.77\n",
       "nDCG  11.48  13.05  14.00  14.66  15.16"
      ]
     },
     "metadata": {},
     "output_type": "display_data"
    },
    {
     "name": "stdout",
     "output_type": "stream",
     "text": [
      "0.6 0.6 -0.19999999999999996\n"
     ]
    },
    {
     "data": {
      "text/html": [
       "<div>\n",
       "<style scoped>\n",
       "    .dataframe tbody tr th:only-of-type {\n",
       "        vertical-align: middle;\n",
       "    }\n",
       "\n",
       "    .dataframe tbody tr th {\n",
       "        vertical-align: top;\n",
       "    }\n",
       "\n",
       "    .dataframe thead th {\n",
       "        text-align: right;\n",
       "    }\n",
       "</style>\n",
       "<table border=\"1\" class=\"dataframe\">\n",
       "  <thead>\n",
       "    <tr style=\"text-align: right;\">\n",
       "      <th></th>\n",
       "      <th>1</th>\n",
       "      <th>2</th>\n",
       "      <th>3</th>\n",
       "      <th>4</th>\n",
       "      <th>5</th>\n",
       "    </tr>\n",
       "  </thead>\n",
       "  <tbody>\n",
       "    <tr>\n",
       "      <th>P</th>\n",
       "      <td>11.5</td>\n",
       "      <td>8.15</td>\n",
       "      <td>6.48</td>\n",
       "      <td>5.46</td>\n",
       "      <td>4.78</td>\n",
       "    </tr>\n",
       "    <tr>\n",
       "      <th>nDCG</th>\n",
       "      <td>11.5</td>\n",
       "      <td>13.08</td>\n",
       "      <td>14.03</td>\n",
       "      <td>14.68</td>\n",
       "      <td>15.19</td>\n",
       "    </tr>\n",
       "  </tbody>\n",
       "</table>\n",
       "</div>"
      ],
      "text/plain": [
       "         1      2      3      4      5\n",
       "P     11.5   8.15   6.48   5.46   4.78\n",
       "nDCG  11.5  13.08  14.03  14.68  15.19"
      ]
     },
     "metadata": {},
     "output_type": "display_data"
    },
    {
     "name": "stderr",
     "output_type": "stream",
     "text": [
      "\r",
      "7it [01:38, 17.39s/it]"
     ]
    },
    {
     "name": "stdout",
     "output_type": "stream",
     "text": [
      "0.7000000000000001 0.0 0.29999999999999993\n"
     ]
    },
    {
     "data": {
      "text/html": [
       "<div>\n",
       "<style scoped>\n",
       "    .dataframe tbody tr th:only-of-type {\n",
       "        vertical-align: middle;\n",
       "    }\n",
       "\n",
       "    .dataframe tbody tr th {\n",
       "        vertical-align: top;\n",
       "    }\n",
       "\n",
       "    .dataframe thead th {\n",
       "        text-align: right;\n",
       "    }\n",
       "</style>\n",
       "<table border=\"1\" class=\"dataframe\">\n",
       "  <thead>\n",
       "    <tr style=\"text-align: right;\">\n",
       "      <th></th>\n",
       "      <th>1</th>\n",
       "      <th>2</th>\n",
       "      <th>3</th>\n",
       "      <th>4</th>\n",
       "      <th>5</th>\n",
       "    </tr>\n",
       "  </thead>\n",
       "  <tbody>\n",
       "    <tr>\n",
       "      <th>P</th>\n",
       "      <td>11.3</td>\n",
       "      <td>7.97</td>\n",
       "      <td>6.31</td>\n",
       "      <td>5.32</td>\n",
       "      <td>4.67</td>\n",
       "    </tr>\n",
       "    <tr>\n",
       "      <th>nDCG</th>\n",
       "      <td>11.3</td>\n",
       "      <td>12.85</td>\n",
       "      <td>13.78</td>\n",
       "      <td>14.44</td>\n",
       "      <td>14.95</td>\n",
       "    </tr>\n",
       "  </tbody>\n",
       "</table>\n",
       "</div>"
      ],
      "text/plain": [
       "         1      2      3      4      5\n",
       "P     11.3   7.97   6.31   5.32   4.67\n",
       "nDCG  11.3  12.85  13.78  14.44  14.95"
      ]
     },
     "metadata": {},
     "output_type": "display_data"
    },
    {
     "name": "stdout",
     "output_type": "stream",
     "text": [
      "0.7000000000000001 0.1 0.19999999999999993\n"
     ]
    },
    {
     "data": {
      "text/html": [
       "<div>\n",
       "<style scoped>\n",
       "    .dataframe tbody tr th:only-of-type {\n",
       "        vertical-align: middle;\n",
       "    }\n",
       "\n",
       "    .dataframe tbody tr th {\n",
       "        vertical-align: top;\n",
       "    }\n",
       "\n",
       "    .dataframe thead th {\n",
       "        text-align: right;\n",
       "    }\n",
       "</style>\n",
       "<table border=\"1\" class=\"dataframe\">\n",
       "  <thead>\n",
       "    <tr style=\"text-align: right;\">\n",
       "      <th></th>\n",
       "      <th>1</th>\n",
       "      <th>2</th>\n",
       "      <th>3</th>\n",
       "      <th>4</th>\n",
       "      <th>5</th>\n",
       "    </tr>\n",
       "  </thead>\n",
       "  <tbody>\n",
       "    <tr>\n",
       "      <th>P</th>\n",
       "      <td>11.33</td>\n",
       "      <td>7.99</td>\n",
       "      <td>6.34</td>\n",
       "      <td>5.34</td>\n",
       "      <td>4.69</td>\n",
       "    </tr>\n",
       "    <tr>\n",
       "      <th>nDCG</th>\n",
       "      <td>11.33</td>\n",
       "      <td>12.89</td>\n",
       "      <td>13.82</td>\n",
       "      <td>14.48</td>\n",
       "      <td>14.99</td>\n",
       "    </tr>\n",
       "  </tbody>\n",
       "</table>\n",
       "</div>"
      ],
      "text/plain": [
       "          1      2      3      4      5\n",
       "P     11.33   7.99   6.34   5.34   4.69\n",
       "nDCG  11.33  12.89  13.82  14.48  14.99"
      ]
     },
     "metadata": {},
     "output_type": "display_data"
    },
    {
     "name": "stdout",
     "output_type": "stream",
     "text": [
      "0.7000000000000001 0.2 0.09999999999999992\n"
     ]
    },
    {
     "data": {
      "text/html": [
       "<div>\n",
       "<style scoped>\n",
       "    .dataframe tbody tr th:only-of-type {\n",
       "        vertical-align: middle;\n",
       "    }\n",
       "\n",
       "    .dataframe tbody tr th {\n",
       "        vertical-align: top;\n",
       "    }\n",
       "\n",
       "    .dataframe thead th {\n",
       "        text-align: right;\n",
       "    }\n",
       "</style>\n",
       "<table border=\"1\" class=\"dataframe\">\n",
       "  <thead>\n",
       "    <tr style=\"text-align: right;\">\n",
       "      <th></th>\n",
       "      <th>1</th>\n",
       "      <th>2</th>\n",
       "      <th>3</th>\n",
       "      <th>4</th>\n",
       "      <th>5</th>\n",
       "    </tr>\n",
       "  </thead>\n",
       "  <tbody>\n",
       "    <tr>\n",
       "      <th>P</th>\n",
       "      <td>11.37</td>\n",
       "      <td>8.02</td>\n",
       "      <td>6.37</td>\n",
       "      <td>5.36</td>\n",
       "      <td>4.71</td>\n",
       "    </tr>\n",
       "    <tr>\n",
       "      <th>nDCG</th>\n",
       "      <td>11.37</td>\n",
       "      <td>12.92</td>\n",
       "      <td>13.86</td>\n",
       "      <td>14.51</td>\n",
       "      <td>15.03</td>\n",
       "    </tr>\n",
       "  </tbody>\n",
       "</table>\n",
       "</div>"
      ],
      "text/plain": [
       "          1      2      3      4      5\n",
       "P     11.37   8.02   6.37   5.36   4.71\n",
       "nDCG  11.37  12.92  13.86  14.51  15.03"
      ]
     },
     "metadata": {},
     "output_type": "display_data"
    },
    {
     "name": "stdout",
     "output_type": "stream",
     "text": [
      "0.7000000000000001 0.3 -5.551115123125783e-17\n"
     ]
    },
    {
     "data": {
      "text/html": [
       "<div>\n",
       "<style scoped>\n",
       "    .dataframe tbody tr th:only-of-type {\n",
       "        vertical-align: middle;\n",
       "    }\n",
       "\n",
       "    .dataframe tbody tr th {\n",
       "        vertical-align: top;\n",
       "    }\n",
       "\n",
       "    .dataframe thead th {\n",
       "        text-align: right;\n",
       "    }\n",
       "</style>\n",
       "<table border=\"1\" class=\"dataframe\">\n",
       "  <thead>\n",
       "    <tr style=\"text-align: right;\">\n",
       "      <th></th>\n",
       "      <th>1</th>\n",
       "      <th>2</th>\n",
       "      <th>3</th>\n",
       "      <th>4</th>\n",
       "      <th>5</th>\n",
       "    </tr>\n",
       "  </thead>\n",
       "  <tbody>\n",
       "    <tr>\n",
       "      <th>P</th>\n",
       "      <td>11.41</td>\n",
       "      <td>8.05</td>\n",
       "      <td>6.39</td>\n",
       "      <td>5.39</td>\n",
       "      <td>4.72</td>\n",
       "    </tr>\n",
       "    <tr>\n",
       "      <th>nDCG</th>\n",
       "      <td>11.41</td>\n",
       "      <td>12.97</td>\n",
       "      <td>13.91</td>\n",
       "      <td>14.56</td>\n",
       "      <td>15.07</td>\n",
       "    </tr>\n",
       "  </tbody>\n",
       "</table>\n",
       "</div>"
      ],
      "text/plain": [
       "          1      2      3      4      5\n",
       "P     11.41   8.05   6.39   5.39   4.72\n",
       "nDCG  11.41  12.97  13.91  14.56  15.07"
      ]
     },
     "metadata": {},
     "output_type": "display_data"
    },
    {
     "name": "stdout",
     "output_type": "stream",
     "text": [
      "0.7000000000000001 0.4 -0.10000000000000009\n"
     ]
    },
    {
     "data": {
      "text/html": [
       "<div>\n",
       "<style scoped>\n",
       "    .dataframe tbody tr th:only-of-type {\n",
       "        vertical-align: middle;\n",
       "    }\n",
       "\n",
       "    .dataframe tbody tr th {\n",
       "        vertical-align: top;\n",
       "    }\n",
       "\n",
       "    .dataframe thead th {\n",
       "        text-align: right;\n",
       "    }\n",
       "</style>\n",
       "<table border=\"1\" class=\"dataframe\">\n",
       "  <thead>\n",
       "    <tr style=\"text-align: right;\">\n",
       "      <th></th>\n",
       "      <th>1</th>\n",
       "      <th>2</th>\n",
       "      <th>3</th>\n",
       "      <th>4</th>\n",
       "      <th>5</th>\n",
       "    </tr>\n",
       "  </thead>\n",
       "  <tbody>\n",
       "    <tr>\n",
       "      <th>P</th>\n",
       "      <td>11.43</td>\n",
       "      <td>8.07</td>\n",
       "      <td>6.41</td>\n",
       "      <td>5.40</td>\n",
       "      <td>4.74</td>\n",
       "    </tr>\n",
       "    <tr>\n",
       "      <th>nDCG</th>\n",
       "      <td>11.43</td>\n",
       "      <td>12.99</td>\n",
       "      <td>13.93</td>\n",
       "      <td>14.58</td>\n",
       "      <td>15.09</td>\n",
       "    </tr>\n",
       "  </tbody>\n",
       "</table>\n",
       "</div>"
      ],
      "text/plain": [
       "          1      2      3      4      5\n",
       "P     11.43   8.07   6.41   5.40   4.74\n",
       "nDCG  11.43  12.99  13.93  14.58  15.09"
      ]
     },
     "metadata": {},
     "output_type": "display_data"
    },
    {
     "name": "stdout",
     "output_type": "stream",
     "text": [
      "0.7000000000000001 0.5 -0.20000000000000007\n"
     ]
    },
    {
     "data": {
      "text/html": [
       "<div>\n",
       "<style scoped>\n",
       "    .dataframe tbody tr th:only-of-type {\n",
       "        vertical-align: middle;\n",
       "    }\n",
       "\n",
       "    .dataframe tbody tr th {\n",
       "        vertical-align: top;\n",
       "    }\n",
       "\n",
       "    .dataframe thead th {\n",
       "        text-align: right;\n",
       "    }\n",
       "</style>\n",
       "<table border=\"1\" class=\"dataframe\">\n",
       "  <thead>\n",
       "    <tr style=\"text-align: right;\">\n",
       "      <th></th>\n",
       "      <th>1</th>\n",
       "      <th>2</th>\n",
       "      <th>3</th>\n",
       "      <th>4</th>\n",
       "      <th>5</th>\n",
       "    </tr>\n",
       "  </thead>\n",
       "  <tbody>\n",
       "    <tr>\n",
       "      <th>P</th>\n",
       "      <td>11.46</td>\n",
       "      <td>8.09</td>\n",
       "      <td>6.43</td>\n",
       "      <td>5.42</td>\n",
       "      <td>4.75</td>\n",
       "    </tr>\n",
       "    <tr>\n",
       "      <th>nDCG</th>\n",
       "      <td>11.46</td>\n",
       "      <td>13.02</td>\n",
       "      <td>13.96</td>\n",
       "      <td>14.62</td>\n",
       "      <td>15.13</td>\n",
       "    </tr>\n",
       "  </tbody>\n",
       "</table>\n",
       "</div>"
      ],
      "text/plain": [
       "          1      2      3      4      5\n",
       "P     11.46   8.09   6.43   5.42   4.75\n",
       "nDCG  11.46  13.02  13.96  14.62  15.13"
      ]
     },
     "metadata": {},
     "output_type": "display_data"
    },
    {
     "name": "stdout",
     "output_type": "stream",
     "text": [
      "0.7000000000000001 0.6 -0.30000000000000004\n"
     ]
    },
    {
     "data": {
      "text/html": [
       "<div>\n",
       "<style scoped>\n",
       "    .dataframe tbody tr th:only-of-type {\n",
       "        vertical-align: middle;\n",
       "    }\n",
       "\n",
       "    .dataframe tbody tr th {\n",
       "        vertical-align: top;\n",
       "    }\n",
       "\n",
       "    .dataframe thead th {\n",
       "        text-align: right;\n",
       "    }\n",
       "</style>\n",
       "<table border=\"1\" class=\"dataframe\">\n",
       "  <thead>\n",
       "    <tr style=\"text-align: right;\">\n",
       "      <th></th>\n",
       "      <th>1</th>\n",
       "      <th>2</th>\n",
       "      <th>3</th>\n",
       "      <th>4</th>\n",
       "      <th>5</th>\n",
       "    </tr>\n",
       "  </thead>\n",
       "  <tbody>\n",
       "    <tr>\n",
       "      <th>P</th>\n",
       "      <td>11.48</td>\n",
       "      <td>8.12</td>\n",
       "      <td>6.45</td>\n",
       "      <td>5.44</td>\n",
       "      <td>4.77</td>\n",
       "    </tr>\n",
       "    <tr>\n",
       "      <th>nDCG</th>\n",
       "      <td>11.48</td>\n",
       "      <td>13.05</td>\n",
       "      <td>14.00</td>\n",
       "      <td>14.65</td>\n",
       "      <td>15.15</td>\n",
       "    </tr>\n",
       "  </tbody>\n",
       "</table>\n",
       "</div>"
      ],
      "text/plain": [
       "          1      2      3      4      5\n",
       "P     11.48   8.12   6.45   5.44   4.77\n",
       "nDCG  11.48  13.05  14.00  14.65  15.15"
      ]
     },
     "metadata": {},
     "output_type": "display_data"
    },
    {
     "name": "stdout",
     "output_type": "stream",
     "text": [
      "0.7000000000000001 0.7000000000000001 -0.40000000000000013\n"
     ]
    },
    {
     "data": {
      "text/html": [
       "<div>\n",
       "<style scoped>\n",
       "    .dataframe tbody tr th:only-of-type {\n",
       "        vertical-align: middle;\n",
       "    }\n",
       "\n",
       "    .dataframe tbody tr th {\n",
       "        vertical-align: top;\n",
       "    }\n",
       "\n",
       "    .dataframe thead th {\n",
       "        text-align: right;\n",
       "    }\n",
       "</style>\n",
       "<table border=\"1\" class=\"dataframe\">\n",
       "  <thead>\n",
       "    <tr style=\"text-align: right;\">\n",
       "      <th></th>\n",
       "      <th>1</th>\n",
       "      <th>2</th>\n",
       "      <th>3</th>\n",
       "      <th>4</th>\n",
       "      <th>5</th>\n",
       "    </tr>\n",
       "  </thead>\n",
       "  <tbody>\n",
       "    <tr>\n",
       "      <th>P</th>\n",
       "      <td>11.49</td>\n",
       "      <td>8.14</td>\n",
       "      <td>6.47</td>\n",
       "      <td>5.45</td>\n",
       "      <td>4.77</td>\n",
       "    </tr>\n",
       "    <tr>\n",
       "      <th>nDCG</th>\n",
       "      <td>11.49</td>\n",
       "      <td>13.07</td>\n",
       "      <td>14.02</td>\n",
       "      <td>14.67</td>\n",
       "      <td>15.17</td>\n",
       "    </tr>\n",
       "  </tbody>\n",
       "</table>\n",
       "</div>"
      ],
      "text/plain": [
       "          1      2      3      4      5\n",
       "P     11.49   8.14   6.47   5.45   4.77\n",
       "nDCG  11.49  13.07  14.02  14.67  15.17"
      ]
     },
     "metadata": {},
     "output_type": "display_data"
    },
    {
     "name": "stderr",
     "output_type": "stream",
     "text": [
      "\r",
      "8it [02:07, 20.72s/it]"
     ]
    },
    {
     "name": "stdout",
     "output_type": "stream",
     "text": [
      "0.8 0.0 0.19999999999999996\n"
     ]
    },
    {
     "data": {
      "text/html": [
       "<div>\n",
       "<style scoped>\n",
       "    .dataframe tbody tr th:only-of-type {\n",
       "        vertical-align: middle;\n",
       "    }\n",
       "\n",
       "    .dataframe tbody tr th {\n",
       "        vertical-align: top;\n",
       "    }\n",
       "\n",
       "    .dataframe thead th {\n",
       "        text-align: right;\n",
       "    }\n",
       "</style>\n",
       "<table border=\"1\" class=\"dataframe\">\n",
       "  <thead>\n",
       "    <tr style=\"text-align: right;\">\n",
       "      <th></th>\n",
       "      <th>1</th>\n",
       "      <th>2</th>\n",
       "      <th>3</th>\n",
       "      <th>4</th>\n",
       "      <th>5</th>\n",
       "    </tr>\n",
       "  </thead>\n",
       "  <tbody>\n",
       "    <tr>\n",
       "      <th>P</th>\n",
       "      <td>11.28</td>\n",
       "      <td>7.96</td>\n",
       "      <td>6.31</td>\n",
       "      <td>5.32</td>\n",
       "      <td>4.66</td>\n",
       "    </tr>\n",
       "    <tr>\n",
       "      <th>nDCG</th>\n",
       "      <td>11.28</td>\n",
       "      <td>12.84</td>\n",
       "      <td>13.77</td>\n",
       "      <td>14.42</td>\n",
       "      <td>14.94</td>\n",
       "    </tr>\n",
       "  </tbody>\n",
       "</table>\n",
       "</div>"
      ],
      "text/plain": [
       "          1      2      3      4      5\n",
       "P     11.28   7.96   6.31   5.32   4.66\n",
       "nDCG  11.28  12.84  13.77  14.42  14.94"
      ]
     },
     "metadata": {},
     "output_type": "display_data"
    },
    {
     "name": "stdout",
     "output_type": "stream",
     "text": [
      "0.8 0.1 0.09999999999999995\n"
     ]
    },
    {
     "data": {
      "text/html": [
       "<div>\n",
       "<style scoped>\n",
       "    .dataframe tbody tr th:only-of-type {\n",
       "        vertical-align: middle;\n",
       "    }\n",
       "\n",
       "    .dataframe tbody tr th {\n",
       "        vertical-align: top;\n",
       "    }\n",
       "\n",
       "    .dataframe thead th {\n",
       "        text-align: right;\n",
       "    }\n",
       "</style>\n",
       "<table border=\"1\" class=\"dataframe\">\n",
       "  <thead>\n",
       "    <tr style=\"text-align: right;\">\n",
       "      <th></th>\n",
       "      <th>1</th>\n",
       "      <th>2</th>\n",
       "      <th>3</th>\n",
       "      <th>4</th>\n",
       "      <th>5</th>\n",
       "    </tr>\n",
       "  </thead>\n",
       "  <tbody>\n",
       "    <tr>\n",
       "      <th>P</th>\n",
       "      <td>11.32</td>\n",
       "      <td>7.98</td>\n",
       "      <td>6.33</td>\n",
       "      <td>5.34</td>\n",
       "      <td>4.68</td>\n",
       "    </tr>\n",
       "    <tr>\n",
       "      <th>nDCG</th>\n",
       "      <td>11.32</td>\n",
       "      <td>12.87</td>\n",
       "      <td>13.81</td>\n",
       "      <td>14.46</td>\n",
       "      <td>14.97</td>\n",
       "    </tr>\n",
       "  </tbody>\n",
       "</table>\n",
       "</div>"
      ],
      "text/plain": [
       "          1      2      3      4      5\n",
       "P     11.32   7.98   6.33   5.34   4.68\n",
       "nDCG  11.32  12.87  13.81  14.46  14.97"
      ]
     },
     "metadata": {},
     "output_type": "display_data"
    },
    {
     "name": "stdout",
     "output_type": "stream",
     "text": [
      "0.8 0.2 -5.551115123125783e-17\n"
     ]
    },
    {
     "data": {
      "text/html": [
       "<div>\n",
       "<style scoped>\n",
       "    .dataframe tbody tr th:only-of-type {\n",
       "        vertical-align: middle;\n",
       "    }\n",
       "\n",
       "    .dataframe tbody tr th {\n",
       "        vertical-align: top;\n",
       "    }\n",
       "\n",
       "    .dataframe thead th {\n",
       "        text-align: right;\n",
       "    }\n",
       "</style>\n",
       "<table border=\"1\" class=\"dataframe\">\n",
       "  <thead>\n",
       "    <tr style=\"text-align: right;\">\n",
       "      <th></th>\n",
       "      <th>1</th>\n",
       "      <th>2</th>\n",
       "      <th>3</th>\n",
       "      <th>4</th>\n",
       "      <th>5</th>\n",
       "    </tr>\n",
       "  </thead>\n",
       "  <tbody>\n",
       "    <tr>\n",
       "      <th>P</th>\n",
       "      <td>11.35</td>\n",
       "      <td>8.02</td>\n",
       "      <td>6.35</td>\n",
       "      <td>5.35</td>\n",
       "      <td>4.70</td>\n",
       "    </tr>\n",
       "    <tr>\n",
       "      <th>nDCG</th>\n",
       "      <td>11.35</td>\n",
       "      <td>12.91</td>\n",
       "      <td>13.84</td>\n",
       "      <td>14.49</td>\n",
       "      <td>15.01</td>\n",
       "    </tr>\n",
       "  </tbody>\n",
       "</table>\n",
       "</div>"
      ],
      "text/plain": [
       "          1      2      3      4      5\n",
       "P     11.35   8.02   6.35   5.35   4.70\n",
       "nDCG  11.35  12.91  13.84  14.49  15.01"
      ]
     },
     "metadata": {},
     "output_type": "display_data"
    },
    {
     "name": "stdout",
     "output_type": "stream",
     "text": [
      "0.8 0.3 -0.10000000000000003\n"
     ]
    },
    {
     "data": {
      "text/html": [
       "<div>\n",
       "<style scoped>\n",
       "    .dataframe tbody tr th:only-of-type {\n",
       "        vertical-align: middle;\n",
       "    }\n",
       "\n",
       "    .dataframe tbody tr th {\n",
       "        vertical-align: top;\n",
       "    }\n",
       "\n",
       "    .dataframe thead th {\n",
       "        text-align: right;\n",
       "    }\n",
       "</style>\n",
       "<table border=\"1\" class=\"dataframe\">\n",
       "  <thead>\n",
       "    <tr style=\"text-align: right;\">\n",
       "      <th></th>\n",
       "      <th>1</th>\n",
       "      <th>2</th>\n",
       "      <th>3</th>\n",
       "      <th>4</th>\n",
       "      <th>5</th>\n",
       "    </tr>\n",
       "  </thead>\n",
       "  <tbody>\n",
       "    <tr>\n",
       "      <th>P</th>\n",
       "      <td>11.38</td>\n",
       "      <td>8.04</td>\n",
       "      <td>6.38</td>\n",
       "      <td>5.38</td>\n",
       "      <td>4.71</td>\n",
       "    </tr>\n",
       "    <tr>\n",
       "      <th>nDCG</th>\n",
       "      <td>11.38</td>\n",
       "      <td>12.94</td>\n",
       "      <td>13.88</td>\n",
       "      <td>14.53</td>\n",
       "      <td>15.04</td>\n",
       "    </tr>\n",
       "  </tbody>\n",
       "</table>\n",
       "</div>"
      ],
      "text/plain": [
       "          1      2      3      4      5\n",
       "P     11.38   8.04   6.38   5.38   4.71\n",
       "nDCG  11.38  12.94  13.88  14.53  15.04"
      ]
     },
     "metadata": {},
     "output_type": "display_data"
    },
    {
     "name": "stdout",
     "output_type": "stream",
     "text": [
      "0.8 0.4 -0.20000000000000007\n"
     ]
    },
    {
     "data": {
      "text/html": [
       "<div>\n",
       "<style scoped>\n",
       "    .dataframe tbody tr th:only-of-type {\n",
       "        vertical-align: middle;\n",
       "    }\n",
       "\n",
       "    .dataframe tbody tr th {\n",
       "        vertical-align: top;\n",
       "    }\n",
       "\n",
       "    .dataframe thead th {\n",
       "        text-align: right;\n",
       "    }\n",
       "</style>\n",
       "<table border=\"1\" class=\"dataframe\">\n",
       "  <thead>\n",
       "    <tr style=\"text-align: right;\">\n",
       "      <th></th>\n",
       "      <th>1</th>\n",
       "      <th>2</th>\n",
       "      <th>3</th>\n",
       "      <th>4</th>\n",
       "      <th>5</th>\n",
       "    </tr>\n",
       "  </thead>\n",
       "  <tbody>\n",
       "    <tr>\n",
       "      <th>P</th>\n",
       "      <td>11.41</td>\n",
       "      <td>8.06</td>\n",
       "      <td>6.40</td>\n",
       "      <td>5.39</td>\n",
       "      <td>4.72</td>\n",
       "    </tr>\n",
       "    <tr>\n",
       "      <th>nDCG</th>\n",
       "      <td>11.41</td>\n",
       "      <td>12.97</td>\n",
       "      <td>13.91</td>\n",
       "      <td>14.56</td>\n",
       "      <td>15.07</td>\n",
       "    </tr>\n",
       "  </tbody>\n",
       "</table>\n",
       "</div>"
      ],
      "text/plain": [
       "          1      2      3      4      5\n",
       "P     11.41   8.06   6.40   5.39   4.72\n",
       "nDCG  11.41  12.97  13.91  14.56  15.07"
      ]
     },
     "metadata": {},
     "output_type": "display_data"
    },
    {
     "name": "stdout",
     "output_type": "stream",
     "text": [
      "0.8 0.5 -0.30000000000000004\n"
     ]
    },
    {
     "data": {
      "text/html": [
       "<div>\n",
       "<style scoped>\n",
       "    .dataframe tbody tr th:only-of-type {\n",
       "        vertical-align: middle;\n",
       "    }\n",
       "\n",
       "    .dataframe tbody tr th {\n",
       "        vertical-align: top;\n",
       "    }\n",
       "\n",
       "    .dataframe thead th {\n",
       "        text-align: right;\n",
       "    }\n",
       "</style>\n",
       "<table border=\"1\" class=\"dataframe\">\n",
       "  <thead>\n",
       "    <tr style=\"text-align: right;\">\n",
       "      <th></th>\n",
       "      <th>1</th>\n",
       "      <th>2</th>\n",
       "      <th>3</th>\n",
       "      <th>4</th>\n",
       "      <th>5</th>\n",
       "    </tr>\n",
       "  </thead>\n",
       "  <tbody>\n",
       "    <tr>\n",
       "      <th>P</th>\n",
       "      <td>11.44</td>\n",
       "      <td>8.08</td>\n",
       "      <td>6.41</td>\n",
       "      <td>5.40</td>\n",
       "      <td>4.74</td>\n",
       "    </tr>\n",
       "    <tr>\n",
       "      <th>nDCG</th>\n",
       "      <td>11.44</td>\n",
       "      <td>12.99</td>\n",
       "      <td>13.94</td>\n",
       "      <td>14.58</td>\n",
       "      <td>15.09</td>\n",
       "    </tr>\n",
       "  </tbody>\n",
       "</table>\n",
       "</div>"
      ],
      "text/plain": [
       "          1      2      3      4      5\n",
       "P     11.44   8.08   6.41   5.40   4.74\n",
       "nDCG  11.44  12.99  13.94  14.58  15.09"
      ]
     },
     "metadata": {},
     "output_type": "display_data"
    },
    {
     "name": "stdout",
     "output_type": "stream",
     "text": [
      "0.8 0.6 -0.4\n"
     ]
    },
    {
     "data": {
      "text/html": [
       "<div>\n",
       "<style scoped>\n",
       "    .dataframe tbody tr th:only-of-type {\n",
       "        vertical-align: middle;\n",
       "    }\n",
       "\n",
       "    .dataframe tbody tr th {\n",
       "        vertical-align: top;\n",
       "    }\n",
       "\n",
       "    .dataframe thead th {\n",
       "        text-align: right;\n",
       "    }\n",
       "</style>\n",
       "<table border=\"1\" class=\"dataframe\">\n",
       "  <thead>\n",
       "    <tr style=\"text-align: right;\">\n",
       "      <th></th>\n",
       "      <th>1</th>\n",
       "      <th>2</th>\n",
       "      <th>3</th>\n",
       "      <th>4</th>\n",
       "      <th>5</th>\n",
       "    </tr>\n",
       "  </thead>\n",
       "  <tbody>\n",
       "    <tr>\n",
       "      <th>P</th>\n",
       "      <td>11.45</td>\n",
       "      <td>8.09</td>\n",
       "      <td>6.43</td>\n",
       "      <td>5.42</td>\n",
       "      <td>4.75</td>\n",
       "    </tr>\n",
       "    <tr>\n",
       "      <th>nDCG</th>\n",
       "      <td>11.45</td>\n",
       "      <td>13.01</td>\n",
       "      <td>13.96</td>\n",
       "      <td>14.61</td>\n",
       "      <td>15.12</td>\n",
       "    </tr>\n",
       "  </tbody>\n",
       "</table>\n",
       "</div>"
      ],
      "text/plain": [
       "          1      2      3      4      5\n",
       "P     11.45   8.09   6.43   5.42   4.75\n",
       "nDCG  11.45  13.01  13.96  14.61  15.12"
      ]
     },
     "metadata": {},
     "output_type": "display_data"
    },
    {
     "name": "stdout",
     "output_type": "stream",
     "text": [
      "0.8 0.7000000000000001 -0.5000000000000001\n"
     ]
    },
    {
     "data": {
      "text/html": [
       "<div>\n",
       "<style scoped>\n",
       "    .dataframe tbody tr th:only-of-type {\n",
       "        vertical-align: middle;\n",
       "    }\n",
       "\n",
       "    .dataframe tbody tr th {\n",
       "        vertical-align: top;\n",
       "    }\n",
       "\n",
       "    .dataframe thead th {\n",
       "        text-align: right;\n",
       "    }\n",
       "</style>\n",
       "<table border=\"1\" class=\"dataframe\">\n",
       "  <thead>\n",
       "    <tr style=\"text-align: right;\">\n",
       "      <th></th>\n",
       "      <th>1</th>\n",
       "      <th>2</th>\n",
       "      <th>3</th>\n",
       "      <th>4</th>\n",
       "      <th>5</th>\n",
       "    </tr>\n",
       "  </thead>\n",
       "  <tbody>\n",
       "    <tr>\n",
       "      <th>P</th>\n",
       "      <td>11.48</td>\n",
       "      <td>8.12</td>\n",
       "      <td>6.44</td>\n",
       "      <td>5.43</td>\n",
       "      <td>4.76</td>\n",
       "    </tr>\n",
       "    <tr>\n",
       "      <th>nDCG</th>\n",
       "      <td>11.48</td>\n",
       "      <td>13.04</td>\n",
       "      <td>13.98</td>\n",
       "      <td>14.64</td>\n",
       "      <td>15.14</td>\n",
       "    </tr>\n",
       "  </tbody>\n",
       "</table>\n",
       "</div>"
      ],
      "text/plain": [
       "          1      2      3      4      5\n",
       "P     11.48   8.12   6.44   5.43   4.76\n",
       "nDCG  11.48  13.04  13.98  14.64  15.14"
      ]
     },
     "metadata": {},
     "output_type": "display_data"
    },
    {
     "name": "stdout",
     "output_type": "stream",
     "text": [
      "0.8 0.8 -0.6000000000000001\n"
     ]
    },
    {
     "data": {
      "text/html": [
       "<div>\n",
       "<style scoped>\n",
       "    .dataframe tbody tr th:only-of-type {\n",
       "        vertical-align: middle;\n",
       "    }\n",
       "\n",
       "    .dataframe tbody tr th {\n",
       "        vertical-align: top;\n",
       "    }\n",
       "\n",
       "    .dataframe thead th {\n",
       "        text-align: right;\n",
       "    }\n",
       "</style>\n",
       "<table border=\"1\" class=\"dataframe\">\n",
       "  <thead>\n",
       "    <tr style=\"text-align: right;\">\n",
       "      <th></th>\n",
       "      <th>1</th>\n",
       "      <th>2</th>\n",
       "      <th>3</th>\n",
       "      <th>4</th>\n",
       "      <th>5</th>\n",
       "    </tr>\n",
       "  </thead>\n",
       "  <tbody>\n",
       "    <tr>\n",
       "      <th>P</th>\n",
       "      <td>11.49</td>\n",
       "      <td>8.13</td>\n",
       "      <td>6.46</td>\n",
       "      <td>5.45</td>\n",
       "      <td>4.77</td>\n",
       "    </tr>\n",
       "    <tr>\n",
       "      <th>nDCG</th>\n",
       "      <td>11.49</td>\n",
       "      <td>13.06</td>\n",
       "      <td>14.00</td>\n",
       "      <td>14.66</td>\n",
       "      <td>15.16</td>\n",
       "    </tr>\n",
       "  </tbody>\n",
       "</table>\n",
       "</div>"
      ],
      "text/plain": [
       "          1      2      3      4      5\n",
       "P     11.49   8.13   6.46   5.45   4.77\n",
       "nDCG  11.49  13.06  14.00  14.66  15.16"
      ]
     },
     "metadata": {},
     "output_type": "display_data"
    },
    {
     "name": "stderr",
     "output_type": "stream",
     "text": [
      "\r",
      "9it [02:39, 24.03s/it]"
     ]
    },
    {
     "name": "stdout",
     "output_type": "stream",
     "text": [
      "0.9 0.0 0.09999999999999998\n"
     ]
    },
    {
     "data": {
      "text/html": [
       "<div>\n",
       "<style scoped>\n",
       "    .dataframe tbody tr th:only-of-type {\n",
       "        vertical-align: middle;\n",
       "    }\n",
       "\n",
       "    .dataframe tbody tr th {\n",
       "        vertical-align: top;\n",
       "    }\n",
       "\n",
       "    .dataframe thead th {\n",
       "        text-align: right;\n",
       "    }\n",
       "</style>\n",
       "<table border=\"1\" class=\"dataframe\">\n",
       "  <thead>\n",
       "    <tr style=\"text-align: right;\">\n",
       "      <th></th>\n",
       "      <th>1</th>\n",
       "      <th>2</th>\n",
       "      <th>3</th>\n",
       "      <th>4</th>\n",
       "      <th>5</th>\n",
       "    </tr>\n",
       "  </thead>\n",
       "  <tbody>\n",
       "    <tr>\n",
       "      <th>P</th>\n",
       "      <td>11.27</td>\n",
       "      <td>7.96</td>\n",
       "      <td>6.30</td>\n",
       "      <td>5.31</td>\n",
       "      <td>4.66</td>\n",
       "    </tr>\n",
       "    <tr>\n",
       "      <th>nDCG</th>\n",
       "      <td>11.27</td>\n",
       "      <td>12.83</td>\n",
       "      <td>13.76</td>\n",
       "      <td>14.41</td>\n",
       "      <td>14.93</td>\n",
       "    </tr>\n",
       "  </tbody>\n",
       "</table>\n",
       "</div>"
      ],
      "text/plain": [
       "          1      2      3      4      5\n",
       "P     11.27   7.96   6.30   5.31   4.66\n",
       "nDCG  11.27  12.83  13.76  14.41  14.93"
      ]
     },
     "metadata": {},
     "output_type": "display_data"
    },
    {
     "name": "stdout",
     "output_type": "stream",
     "text": [
      "0.9 0.1 -2.7755575615628914e-17\n"
     ]
    },
    {
     "data": {
      "text/html": [
       "<div>\n",
       "<style scoped>\n",
       "    .dataframe tbody tr th:only-of-type {\n",
       "        vertical-align: middle;\n",
       "    }\n",
       "\n",
       "    .dataframe tbody tr th {\n",
       "        vertical-align: top;\n",
       "    }\n",
       "\n",
       "    .dataframe thead th {\n",
       "        text-align: right;\n",
       "    }\n",
       "</style>\n",
       "<table border=\"1\" class=\"dataframe\">\n",
       "  <thead>\n",
       "    <tr style=\"text-align: right;\">\n",
       "      <th></th>\n",
       "      <th>1</th>\n",
       "      <th>2</th>\n",
       "      <th>3</th>\n",
       "      <th>4</th>\n",
       "      <th>5</th>\n",
       "    </tr>\n",
       "  </thead>\n",
       "  <tbody>\n",
       "    <tr>\n",
       "      <th>P</th>\n",
       "      <td>11.31</td>\n",
       "      <td>7.98</td>\n",
       "      <td>6.32</td>\n",
       "      <td>5.33</td>\n",
       "      <td>4.67</td>\n",
       "    </tr>\n",
       "    <tr>\n",
       "      <th>nDCG</th>\n",
       "      <td>11.31</td>\n",
       "      <td>12.87</td>\n",
       "      <td>13.80</td>\n",
       "      <td>14.45</td>\n",
       "      <td>14.96</td>\n",
       "    </tr>\n",
       "  </tbody>\n",
       "</table>\n",
       "</div>"
      ],
      "text/plain": [
       "          1      2      3      4      5\n",
       "P     11.31   7.98   6.32   5.33   4.67\n",
       "nDCG  11.31  12.87  13.80  14.45  14.96"
      ]
     },
     "metadata": {},
     "output_type": "display_data"
    },
    {
     "name": "stdout",
     "output_type": "stream",
     "text": [
      "0.9 0.2 -0.10000000000000003\n"
     ]
    },
    {
     "data": {
      "text/html": [
       "<div>\n",
       "<style scoped>\n",
       "    .dataframe tbody tr th:only-of-type {\n",
       "        vertical-align: middle;\n",
       "    }\n",
       "\n",
       "    .dataframe tbody tr th {\n",
       "        vertical-align: top;\n",
       "    }\n",
       "\n",
       "    .dataframe thead th {\n",
       "        text-align: right;\n",
       "    }\n",
       "</style>\n",
       "<table border=\"1\" class=\"dataframe\">\n",
       "  <thead>\n",
       "    <tr style=\"text-align: right;\">\n",
       "      <th></th>\n",
       "      <th>1</th>\n",
       "      <th>2</th>\n",
       "      <th>3</th>\n",
       "      <th>4</th>\n",
       "      <th>5</th>\n",
       "    </tr>\n",
       "  </thead>\n",
       "  <tbody>\n",
       "    <tr>\n",
       "      <th>P</th>\n",
       "      <td>11.33</td>\n",
       "      <td>8.00</td>\n",
       "      <td>6.35</td>\n",
       "      <td>5.35</td>\n",
       "      <td>4.69</td>\n",
       "    </tr>\n",
       "    <tr>\n",
       "      <th>nDCG</th>\n",
       "      <td>11.33</td>\n",
       "      <td>12.89</td>\n",
       "      <td>13.83</td>\n",
       "      <td>14.48</td>\n",
       "      <td>14.99</td>\n",
       "    </tr>\n",
       "  </tbody>\n",
       "</table>\n",
       "</div>"
      ],
      "text/plain": [
       "          1      2      3      4      5\n",
       "P     11.33   8.00   6.35   5.35   4.69\n",
       "nDCG  11.33  12.89  13.83  14.48  14.99"
      ]
     },
     "metadata": {},
     "output_type": "display_data"
    },
    {
     "name": "stdout",
     "output_type": "stream",
     "text": [
      "0.9 0.3 -0.2\n"
     ]
    },
    {
     "data": {
      "text/html": [
       "<div>\n",
       "<style scoped>\n",
       "    .dataframe tbody tr th:only-of-type {\n",
       "        vertical-align: middle;\n",
       "    }\n",
       "\n",
       "    .dataframe tbody tr th {\n",
       "        vertical-align: top;\n",
       "    }\n",
       "\n",
       "    .dataframe thead th {\n",
       "        text-align: right;\n",
       "    }\n",
       "</style>\n",
       "<table border=\"1\" class=\"dataframe\">\n",
       "  <thead>\n",
       "    <tr style=\"text-align: right;\">\n",
       "      <th></th>\n",
       "      <th>1</th>\n",
       "      <th>2</th>\n",
       "      <th>3</th>\n",
       "      <th>4</th>\n",
       "      <th>5</th>\n",
       "    </tr>\n",
       "  </thead>\n",
       "  <tbody>\n",
       "    <tr>\n",
       "      <th>P</th>\n",
       "      <td>11.36</td>\n",
       "      <td>8.02</td>\n",
       "      <td>6.36</td>\n",
       "      <td>5.36</td>\n",
       "      <td>4.70</td>\n",
       "    </tr>\n",
       "    <tr>\n",
       "      <th>nDCG</th>\n",
       "      <td>11.36</td>\n",
       "      <td>12.92</td>\n",
       "      <td>13.85</td>\n",
       "      <td>14.51</td>\n",
       "      <td>15.02</td>\n",
       "    </tr>\n",
       "  </tbody>\n",
       "</table>\n",
       "</div>"
      ],
      "text/plain": [
       "          1      2      3      4      5\n",
       "P     11.36   8.02   6.36   5.36   4.70\n",
       "nDCG  11.36  12.92  13.85  14.51  15.02"
      ]
     },
     "metadata": {},
     "output_type": "display_data"
    },
    {
     "name": "stdout",
     "output_type": "stream",
     "text": [
      "0.9 0.4 -0.30000000000000004\n"
     ]
    },
    {
     "data": {
      "text/html": [
       "<div>\n",
       "<style scoped>\n",
       "    .dataframe tbody tr th:only-of-type {\n",
       "        vertical-align: middle;\n",
       "    }\n",
       "\n",
       "    .dataframe tbody tr th {\n",
       "        vertical-align: top;\n",
       "    }\n",
       "\n",
       "    .dataframe thead th {\n",
       "        text-align: right;\n",
       "    }\n",
       "</style>\n",
       "<table border=\"1\" class=\"dataframe\">\n",
       "  <thead>\n",
       "    <tr style=\"text-align: right;\">\n",
       "      <th></th>\n",
       "      <th>1</th>\n",
       "      <th>2</th>\n",
       "      <th>3</th>\n",
       "      <th>4</th>\n",
       "      <th>5</th>\n",
       "    </tr>\n",
       "  </thead>\n",
       "  <tbody>\n",
       "    <tr>\n",
       "      <th>P</th>\n",
       "      <td>11.39</td>\n",
       "      <td>8.04</td>\n",
       "      <td>6.38</td>\n",
       "      <td>5.38</td>\n",
       "      <td>4.71</td>\n",
       "    </tr>\n",
       "    <tr>\n",
       "      <th>nDCG</th>\n",
       "      <td>11.39</td>\n",
       "      <td>12.95</td>\n",
       "      <td>13.89</td>\n",
       "      <td>14.53</td>\n",
       "      <td>15.04</td>\n",
       "    </tr>\n",
       "  </tbody>\n",
       "</table>\n",
       "</div>"
      ],
      "text/plain": [
       "          1      2      3      4      5\n",
       "P     11.39   8.04   6.38   5.38   4.71\n",
       "nDCG  11.39  12.95  13.89  14.53  15.04"
      ]
     },
     "metadata": {},
     "output_type": "display_data"
    },
    {
     "name": "stdout",
     "output_type": "stream",
     "text": [
      "0.9 0.5 -0.4\n"
     ]
    },
    {
     "data": {
      "text/html": [
       "<div>\n",
       "<style scoped>\n",
       "    .dataframe tbody tr th:only-of-type {\n",
       "        vertical-align: middle;\n",
       "    }\n",
       "\n",
       "    .dataframe tbody tr th {\n",
       "        vertical-align: top;\n",
       "    }\n",
       "\n",
       "    .dataframe thead th {\n",
       "        text-align: right;\n",
       "    }\n",
       "</style>\n",
       "<table border=\"1\" class=\"dataframe\">\n",
       "  <thead>\n",
       "    <tr style=\"text-align: right;\">\n",
       "      <th></th>\n",
       "      <th>1</th>\n",
       "      <th>2</th>\n",
       "      <th>3</th>\n",
       "      <th>4</th>\n",
       "      <th>5</th>\n",
       "    </tr>\n",
       "  </thead>\n",
       "  <tbody>\n",
       "    <tr>\n",
       "      <th>P</th>\n",
       "      <td>11.42</td>\n",
       "      <td>8.06</td>\n",
       "      <td>6.39</td>\n",
       "      <td>5.39</td>\n",
       "      <td>4.72</td>\n",
       "    </tr>\n",
       "    <tr>\n",
       "      <th>nDCG</th>\n",
       "      <td>11.42</td>\n",
       "      <td>12.98</td>\n",
       "      <td>13.91</td>\n",
       "      <td>14.55</td>\n",
       "      <td>15.06</td>\n",
       "    </tr>\n",
       "  </tbody>\n",
       "</table>\n",
       "</div>"
      ],
      "text/plain": [
       "          1      2      3      4      5\n",
       "P     11.42   8.06   6.39   5.39   4.72\n",
       "nDCG  11.42  12.98  13.91  14.55  15.06"
      ]
     },
     "metadata": {},
     "output_type": "display_data"
    },
    {
     "name": "stdout",
     "output_type": "stream",
     "text": [
      "0.9 0.6 -0.5\n"
     ]
    },
    {
     "data": {
      "text/html": [
       "<div>\n",
       "<style scoped>\n",
       "    .dataframe tbody tr th:only-of-type {\n",
       "        vertical-align: middle;\n",
       "    }\n",
       "\n",
       "    .dataframe tbody tr th {\n",
       "        vertical-align: top;\n",
       "    }\n",
       "\n",
       "    .dataframe thead th {\n",
       "        text-align: right;\n",
       "    }\n",
       "</style>\n",
       "<table border=\"1\" class=\"dataframe\">\n",
       "  <thead>\n",
       "    <tr style=\"text-align: right;\">\n",
       "      <th></th>\n",
       "      <th>1</th>\n",
       "      <th>2</th>\n",
       "      <th>3</th>\n",
       "      <th>4</th>\n",
       "      <th>5</th>\n",
       "    </tr>\n",
       "  </thead>\n",
       "  <tbody>\n",
       "    <tr>\n",
       "      <th>P</th>\n",
       "      <td>11.43</td>\n",
       "      <td>8.08</td>\n",
       "      <td>6.41</td>\n",
       "      <td>5.40</td>\n",
       "      <td>4.74</td>\n",
       "    </tr>\n",
       "    <tr>\n",
       "      <th>nDCG</th>\n",
       "      <td>11.43</td>\n",
       "      <td>12.99</td>\n",
       "      <td>13.93</td>\n",
       "      <td>14.58</td>\n",
       "      <td>15.09</td>\n",
       "    </tr>\n",
       "  </tbody>\n",
       "</table>\n",
       "</div>"
      ],
      "text/plain": [
       "          1      2      3      4      5\n",
       "P     11.43   8.08   6.41   5.40   4.74\n",
       "nDCG  11.43  12.99  13.93  14.58  15.09"
      ]
     },
     "metadata": {},
     "output_type": "display_data"
    },
    {
     "name": "stdout",
     "output_type": "stream",
     "text": [
      "0.9 0.7000000000000001 -0.6000000000000001\n"
     ]
    },
    {
     "data": {
      "text/html": [
       "<div>\n",
       "<style scoped>\n",
       "    .dataframe tbody tr th:only-of-type {\n",
       "        vertical-align: middle;\n",
       "    }\n",
       "\n",
       "    .dataframe tbody tr th {\n",
       "        vertical-align: top;\n",
       "    }\n",
       "\n",
       "    .dataframe thead th {\n",
       "        text-align: right;\n",
       "    }\n",
       "</style>\n",
       "<table border=\"1\" class=\"dataframe\">\n",
       "  <thead>\n",
       "    <tr style=\"text-align: right;\">\n",
       "      <th></th>\n",
       "      <th>1</th>\n",
       "      <th>2</th>\n",
       "      <th>3</th>\n",
       "      <th>4</th>\n",
       "      <th>5</th>\n",
       "    </tr>\n",
       "  </thead>\n",
       "  <tbody>\n",
       "    <tr>\n",
       "      <th>P</th>\n",
       "      <td>11.46</td>\n",
       "      <td>8.10</td>\n",
       "      <td>6.43</td>\n",
       "      <td>5.42</td>\n",
       "      <td>4.75</td>\n",
       "    </tr>\n",
       "    <tr>\n",
       "      <th>nDCG</th>\n",
       "      <td>11.46</td>\n",
       "      <td>13.02</td>\n",
       "      <td>13.96</td>\n",
       "      <td>14.61</td>\n",
       "      <td>15.11</td>\n",
       "    </tr>\n",
       "  </tbody>\n",
       "</table>\n",
       "</div>"
      ],
      "text/plain": [
       "          1      2      3      4      5\n",
       "P     11.46   8.10   6.43   5.42   4.75\n",
       "nDCG  11.46  13.02  13.96  14.61  15.11"
      ]
     },
     "metadata": {},
     "output_type": "display_data"
    },
    {
     "name": "stdout",
     "output_type": "stream",
     "text": [
      "0.9 0.8 -0.7000000000000001\n"
     ]
    },
    {
     "data": {
      "text/html": [
       "<div>\n",
       "<style scoped>\n",
       "    .dataframe tbody tr th:only-of-type {\n",
       "        vertical-align: middle;\n",
       "    }\n",
       "\n",
       "    .dataframe tbody tr th {\n",
       "        vertical-align: top;\n",
       "    }\n",
       "\n",
       "    .dataframe thead th {\n",
       "        text-align: right;\n",
       "    }\n",
       "</style>\n",
       "<table border=\"1\" class=\"dataframe\">\n",
       "  <thead>\n",
       "    <tr style=\"text-align: right;\">\n",
       "      <th></th>\n",
       "      <th>1</th>\n",
       "      <th>2</th>\n",
       "      <th>3</th>\n",
       "      <th>4</th>\n",
       "      <th>5</th>\n",
       "    </tr>\n",
       "  </thead>\n",
       "  <tbody>\n",
       "    <tr>\n",
       "      <th>P</th>\n",
       "      <td>11.47</td>\n",
       "      <td>8.12</td>\n",
       "      <td>6.44</td>\n",
       "      <td>5.43</td>\n",
       "      <td>4.76</td>\n",
       "    </tr>\n",
       "    <tr>\n",
       "      <th>nDCG</th>\n",
       "      <td>11.47</td>\n",
       "      <td>13.04</td>\n",
       "      <td>13.98</td>\n",
       "      <td>14.63</td>\n",
       "      <td>15.14</td>\n",
       "    </tr>\n",
       "  </tbody>\n",
       "</table>\n",
       "</div>"
      ],
      "text/plain": [
       "          1      2      3      4      5\n",
       "P     11.47   8.12   6.44   5.43   4.76\n",
       "nDCG  11.47  13.04  13.98  14.63  15.14"
      ]
     },
     "metadata": {},
     "output_type": "display_data"
    },
    {
     "name": "stdout",
     "output_type": "stream",
     "text": [
      "0.9 0.9 -0.8\n"
     ]
    },
    {
     "data": {
      "text/html": [
       "<div>\n",
       "<style scoped>\n",
       "    .dataframe tbody tr th:only-of-type {\n",
       "        vertical-align: middle;\n",
       "    }\n",
       "\n",
       "    .dataframe tbody tr th {\n",
       "        vertical-align: top;\n",
       "    }\n",
       "\n",
       "    .dataframe thead th {\n",
       "        text-align: right;\n",
       "    }\n",
       "</style>\n",
       "<table border=\"1\" class=\"dataframe\">\n",
       "  <thead>\n",
       "    <tr style=\"text-align: right;\">\n",
       "      <th></th>\n",
       "      <th>1</th>\n",
       "      <th>2</th>\n",
       "      <th>3</th>\n",
       "      <th>4</th>\n",
       "      <th>5</th>\n",
       "    </tr>\n",
       "  </thead>\n",
       "  <tbody>\n",
       "    <tr>\n",
       "      <th>P</th>\n",
       "      <td>11.47</td>\n",
       "      <td>8.13</td>\n",
       "      <td>6.45</td>\n",
       "      <td>5.44</td>\n",
       "      <td>4.77</td>\n",
       "    </tr>\n",
       "    <tr>\n",
       "      <th>nDCG</th>\n",
       "      <td>11.47</td>\n",
       "      <td>13.05</td>\n",
       "      <td>13.99</td>\n",
       "      <td>14.64</td>\n",
       "      <td>15.14</td>\n",
       "    </tr>\n",
       "  </tbody>\n",
       "</table>\n",
       "</div>"
      ],
      "text/plain": [
       "          1      2      3      4      5\n",
       "P     11.47   8.13   6.45   5.44   4.77\n",
       "nDCG  11.47  13.05  13.99  14.64  15.14"
      ]
     },
     "metadata": {},
     "output_type": "display_data"
    },
    {
     "name": "stderr",
     "output_type": "stream",
     "text": [
      "10it [03:14, 19.48s/it]\n"
     ]
    }
   ],
   "source": [
    "best_score_mat = score_mat\n",
    "best_p5 = 0\n",
    "active_labels = unseen_labels\n",
    "temp_X_Y, active_rows, _ = restrict_mat(X_Y, active_rows=None, active_cols=active_labels, shrink=True)\n",
    "\n",
    "for alpha in tqdm(drange(0, 1, 0.1)):\n",
    "    for beta in drange(0, alpha+0.00001, 0.1):\n",
    "        gamma = 1-alpha-beta\n",
    "        print(alpha, beta, gamma)\n",
    "        combined = retain_topk(alpha*tst_knn_score_mat + beta*tst_bilinear_score_mat + gamma*tst_xshortlist, k=100, copy=False)\n",
    "        temp_score_mat, _, _ = restrict_mat(combined, active_rows=active_rows, active_cols=active_labels, shrink=True)\n",
    "        temp_metrics = printacc(temp_score_mat, X_Y=temp_X_Y, K=5, inv_prop_=None, disp=True)\n",
    "        if temp_metrics[0, 4] > best_p5:\n",
    "            best_p5 = temp_metrics[0, 4]\n",
    "            best_score_mat = combined\n",
    "    _score_mat = best_score_mat"
   ]
  },
  {
   "cell_type": "code",
   "execution_count": 64,
   "metadata": {
    "scrolled": true
   },
   "outputs": [
    {
     "data": {
      "text/html": [
       "<div>\n",
       "<style scoped>\n",
       "    .dataframe tbody tr th:only-of-type {\n",
       "        vertical-align: middle;\n",
       "    }\n",
       "\n",
       "    .dataframe tbody tr th {\n",
       "        vertical-align: top;\n",
       "    }\n",
       "\n",
       "    .dataframe thead th {\n",
       "        text-align: right;\n",
       "    }\n",
       "</style>\n",
       "<table border=\"1\" class=\"dataframe\">\n",
       "  <thead>\n",
       "    <tr style=\"text-align: right;\">\n",
       "      <th></th>\n",
       "      <th>1</th>\n",
       "      <th>2</th>\n",
       "      <th>3</th>\n",
       "      <th>4</th>\n",
       "      <th>5</th>\n",
       "    </tr>\n",
       "  </thead>\n",
       "  <tbody>\n",
       "    <tr>\n",
       "      <th>P</th>\n",
       "      <td>11.6</td>\n",
       "      <td>8.33</td>\n",
       "      <td>6.68</td>\n",
       "      <td>5.67</td>\n",
       "      <td>5.00</td>\n",
       "    </tr>\n",
       "    <tr>\n",
       "      <th>nDCG</th>\n",
       "      <td>11.6</td>\n",
       "      <td>13.26</td>\n",
       "      <td>14.27</td>\n",
       "      <td>14.98</td>\n",
       "      <td>15.54</td>\n",
       "    </tr>\n",
       "  </tbody>\n",
       "</table>\n",
       "</div>"
      ],
      "text/plain": [
       "         1      2      3      4      5\n",
       "P     11.6   8.33   6.68   5.67   5.00\n",
       "nDCG  11.6  13.26  14.27  14.98  15.54"
      ]
     },
     "metadata": {},
     "output_type": "display_data"
    },
    {
     "data": {
      "text/plain": [
       "array([[11.59562592,  8.32649603,  6.67590264,  5.66734367,  4.99952923],\n",
       "       [11.59562618, 13.25796843, 14.27360922, 14.9805218 , 15.54196179]])"
      ]
     },
     "execution_count": 64,
     "metadata": {},
     "output_type": "execute_result"
    }
   ],
   "source": [
    "temp_score_mat, _, _     = restrict_mat(best_score_mat, active_rows=active_rows, active_cols=active_labels, shrink=True)\n",
    "printacc(temp_score_mat, X_Y=temp_X_Y, K=5, inv_prop_=None)"
   ]
  },
  {
   "cell_type": "code",
   "execution_count": 51,
   "metadata": {
    "ExecuteTime": {
     "end_time": "2020-10-15T09:38:15.570886Z",
     "start_time": "2020-10-15T09:38:14.860978Z"
    },
    "scrolled": true
   },
   "outputs": [
    {
     "name": "stdout",
     "output_type": "stream",
     "text": [
      "\u001b[1mGZSL metrics (shape=(100000, 31476574)): \u001b[0m\n"
     ]
    },
    {
     "data": {
      "text/html": [
       "<div>\n",
       "<style scoped>\n",
       "    .dataframe tbody tr th:only-of-type {\n",
       "        vertical-align: middle;\n",
       "    }\n",
       "\n",
       "    .dataframe tbody tr th {\n",
       "        vertical-align: top;\n",
       "    }\n",
       "\n",
       "    .dataframe thead th {\n",
       "        text-align: right;\n",
       "    }\n",
       "</style>\n",
       "<table border=\"1\" class=\"dataframe\">\n",
       "  <thead>\n",
       "    <tr style=\"text-align: right;\">\n",
       "      <th></th>\n",
       "      <th>1</th>\n",
       "      <th>2</th>\n",
       "      <th>3</th>\n",
       "      <th>4</th>\n",
       "      <th>5</th>\n",
       "    </tr>\n",
       "  </thead>\n",
       "  <tbody>\n",
       "    <tr>\n",
       "      <th>P</th>\n",
       "      <td>6.37</td>\n",
       "      <td>5.37</td>\n",
       "      <td>4.63</td>\n",
       "      <td>4.11</td>\n",
       "      <td>3.71</td>\n",
       "    </tr>\n",
       "    <tr>\n",
       "      <th>nDCG</th>\n",
       "      <td>6.37</td>\n",
       "      <td>7.95</td>\n",
       "      <td>8.96</td>\n",
       "      <td>9.69</td>\n",
       "      <td>10.22</td>\n",
       "    </tr>\n",
       "    <tr>\n",
       "      <th>PSP</th>\n",
       "      <td>6.22</td>\n",
       "      <td>8.28</td>\n",
       "      <td>9.62</td>\n",
       "      <td>10.65</td>\n",
       "      <td>11.46</td>\n",
       "    </tr>\n",
       "    <tr>\n",
       "      <th>PSnDCG</th>\n",
       "      <td>6.22</td>\n",
       "      <td>7.83</td>\n",
       "      <td>8.85</td>\n",
       "      <td>9.59</td>\n",
       "      <td>10.13</td>\n",
       "    </tr>\n",
       "  </tbody>\n",
       "</table>\n",
       "</div>"
      ],
      "text/plain": [
       "           1     2     3      4      5\n",
       "P       6.37  5.37  4.63   4.11   3.71\n",
       "nDCG    6.37  7.95  8.96   9.69  10.22\n",
       "PSP     6.22  8.28  9.62  10.65  11.46\n",
       "PSnDCG  6.22  7.83  8.85   9.59  10.13"
      ]
     },
     "metadata": {},
     "output_type": "display_data"
    },
    {
     "name": "stdout",
     "output_type": "stream",
     "text": [
      "\u001b[1mFewShot metrics (shape=(96966, 31149553)): \u001b[0m\n"
     ]
    },
    {
     "data": {
      "text/html": [
       "<div>\n",
       "<style scoped>\n",
       "    .dataframe tbody tr th:only-of-type {\n",
       "        vertical-align: middle;\n",
       "    }\n",
       "\n",
       "    .dataframe tbody tr th {\n",
       "        vertical-align: top;\n",
       "    }\n",
       "\n",
       "    .dataframe thead th {\n",
       "        text-align: right;\n",
       "    }\n",
       "</style>\n",
       "<table border=\"1\" class=\"dataframe\">\n",
       "  <thead>\n",
       "    <tr style=\"text-align: right;\">\n",
       "      <th></th>\n",
       "      <th>1</th>\n",
       "      <th>2</th>\n",
       "      <th>3</th>\n",
       "      <th>4</th>\n",
       "      <th>5</th>\n",
       "    </tr>\n",
       "  </thead>\n",
       "  <tbody>\n",
       "    <tr>\n",
       "      <th>P</th>\n",
       "      <td>6.55</td>\n",
       "      <td>5.48</td>\n",
       "      <td>4.69</td>\n",
       "      <td>4.16</td>\n",
       "      <td>3.75</td>\n",
       "    </tr>\n",
       "    <tr>\n",
       "      <th>nDCG</th>\n",
       "      <td>6.55</td>\n",
       "      <td>8.21</td>\n",
       "      <td>9.23</td>\n",
       "      <td>9.97</td>\n",
       "      <td>10.50</td>\n",
       "    </tr>\n",
       "  </tbody>\n",
       "</table>\n",
       "</div>"
      ],
      "text/plain": [
       "         1     2     3     4      5\n",
       "P     6.55  5.48  4.69  4.16   3.75\n",
       "nDCG  6.55  8.21  9.23  9.97  10.50"
      ]
     },
     "metadata": {},
     "output_type": "display_data"
    },
    {
     "name": "stdout",
     "output_type": "stream",
     "text": [
      "\u001b[1mSZSL metrics (shape=(74347, 9525826)): \u001b[0m\n"
     ]
    },
    {
     "data": {
      "text/html": [
       "<div>\n",
       "<style scoped>\n",
       "    .dataframe tbody tr th:only-of-type {\n",
       "        vertical-align: middle;\n",
       "    }\n",
       "\n",
       "    .dataframe tbody tr th {\n",
       "        vertical-align: top;\n",
       "    }\n",
       "\n",
       "    .dataframe thead th {\n",
       "        text-align: right;\n",
       "    }\n",
       "</style>\n",
       "<table border=\"1\" class=\"dataframe\">\n",
       "  <thead>\n",
       "    <tr style=\"text-align: right;\">\n",
       "      <th></th>\n",
       "      <th>1</th>\n",
       "      <th>2</th>\n",
       "      <th>3</th>\n",
       "      <th>4</th>\n",
       "      <th>5</th>\n",
       "    </tr>\n",
       "  </thead>\n",
       "  <tbody>\n",
       "    <tr>\n",
       "      <th>P</th>\n",
       "      <td>12.3</td>\n",
       "      <td>9.24</td>\n",
       "      <td>7.56</td>\n",
       "      <td>6.44</td>\n",
       "      <td>5.67</td>\n",
       "    </tr>\n",
       "    <tr>\n",
       "      <th>nDCG</th>\n",
       "      <td>12.3</td>\n",
       "      <td>14.34</td>\n",
       "      <td>15.56</td>\n",
       "      <td>16.34</td>\n",
       "      <td>16.93</td>\n",
       "    </tr>\n",
       "  </tbody>\n",
       "</table>\n",
       "</div>"
      ],
      "text/plain": [
       "         1      2      3      4      5\n",
       "P     12.3   9.24   7.56   6.44   5.67\n",
       "nDCG  12.3  14.34  15.56  16.34  16.93"
      ]
     },
     "metadata": {},
     "output_type": "display_data"
    },
    {
     "name": "stdout",
     "output_type": "stream",
     "text": [
      "\u001b[1mXC metrics (shape=(40813, 21950748)): \u001b[0m\n"
     ]
    },
    {
     "data": {
      "text/html": [
       "<div>\n",
       "<style scoped>\n",
       "    .dataframe tbody tr th:only-of-type {\n",
       "        vertical-align: middle;\n",
       "    }\n",
       "\n",
       "    .dataframe tbody tr th {\n",
       "        vertical-align: top;\n",
       "    }\n",
       "\n",
       "    .dataframe thead th {\n",
       "        text-align: right;\n",
       "    }\n",
       "</style>\n",
       "<table border=\"1\" class=\"dataframe\">\n",
       "  <thead>\n",
       "    <tr style=\"text-align: right;\">\n",
       "      <th></th>\n",
       "      <th>1</th>\n",
       "      <th>2</th>\n",
       "      <th>3</th>\n",
       "      <th>4</th>\n",
       "      <th>5</th>\n",
       "    </tr>\n",
       "  </thead>\n",
       "  <tbody>\n",
       "    <tr>\n",
       "      <th>P</th>\n",
       "      <td>6.98</td>\n",
       "      <td>5.58</td>\n",
       "      <td>4.61</td>\n",
       "      <td>3.99</td>\n",
       "      <td>3.50</td>\n",
       "    </tr>\n",
       "    <tr>\n",
       "      <th>nDCG</th>\n",
       "      <td>6.98</td>\n",
       "      <td>8.74</td>\n",
       "      <td>9.76</td>\n",
       "      <td>10.48</td>\n",
       "      <td>10.95</td>\n",
       "    </tr>\n",
       "    <tr>\n",
       "      <th>PSP</th>\n",
       "      <td>6.73</td>\n",
       "      <td>8.83</td>\n",
       "      <td>10.03</td>\n",
       "      <td>10.98</td>\n",
       "      <td>11.59</td>\n",
       "    </tr>\n",
       "    <tr>\n",
       "      <th>PSnDCG</th>\n",
       "      <td>6.73</td>\n",
       "      <td>8.55</td>\n",
       "      <td>9.59</td>\n",
       "      <td>10.33</td>\n",
       "      <td>10.82</td>\n",
       "    </tr>\n",
       "  </tbody>\n",
       "</table>\n",
       "</div>"
      ],
      "text/plain": [
       "           1     2      3      4      5\n",
       "P       6.98  5.58   4.61   3.99   3.50\n",
       "nDCG    6.98  8.74   9.76  10.48  10.95\n",
       "PSP     6.73  8.83  10.03  10.98  11.59\n",
       "PSnDCG  6.73  8.55   9.59  10.33  10.82"
      ]
     },
     "metadata": {},
     "output_type": "display_data"
    }
   ],
   "source": [
    "metrics = get_irm_metrics(score_mat, X_Y=tst_X_Y[rand_inds]);"
   ]
  },
  {
   "cell_type": "code",
   "execution_count": 15,
   "metadata": {},
   "outputs": [
    {
     "name": "stdout",
     "output_type": "stream",
     "text": [
      "6.353 4.582 3.659 6.490 4.644 3.699 12.175 7.482 5.622 6.263 9.584 11.351\n"
     ]
    }
   ],
   "source": [
    "myprint(*metrics['GZSL'][0, [0, 2, 4]], *metrics['FewShot'][0, [0, 2, 4]], *metrics['SZSL'][0, [0, 2, 4]], *metrics['GZSL'][2, [0, 2, 4]])"
   ]
  },
  {
   "cell_type": "code",
   "execution_count": 32,
   "metadata": {
    "scrolled": true
   },
   "outputs": [
    {
     "data": {
      "text/plain": [
       "ParseResult(scheme='http', netloc='www.booking.com', path='/hotel/at/gasthaus-zur-post.en.html', params='', query='aid=330631', fragment='')"
      ]
     },
     "execution_count": 32,
     "metadata": {},
     "output_type": "execute_result"
    }
   ],
   "source": [
    "# tokenizer_word(trn_X[0].split('\\t', 1)[1])"
   ]
  },
  {
   "cell_type": "markdown",
   "metadata": {},
   "source": [
    "## Analysis"
   ]
  },
  {
   "cell_type": "markdown",
   "metadata": {
    "heading_collapsed": true
   },
   "source": [
    "### Prepare"
   ]
  },
  {
   "cell_type": "code",
   "execution_count": 117,
   "metadata": {
    "ExecuteTime": {
     "end_time": "2020-10-14T20:50:28.764888Z",
     "start_time": "2020-10-14T20:50:28.728573Z"
    },
    "hidden": true
   },
   "outputs": [
    {
     "name": "stdout",
     "output_type": "stream",
     "text": [
      "loaded bin file in buffer\n",
      "loaded bin file in buffer\n"
     ]
    },
    {
     "data": {
      "text/plain": [
       "(2217693, 2217693)"
      ]
     },
     "execution_count": 117,
     "metadata": {},
     "output_type": "execute_result"
    }
   ],
   "source": [
    "Xf_Yf = read_bin_spmat(f'{RES_DIR}/model/Xf_Yf.bin')\n",
    "Yf_Xf = read_bin_spmat(f'{RES_DIR}/model/Yf_Xf.bin')\n",
    "sp_pattern_mat = Xf_Yf + Yf_Xf.T.tocsr()\n",
    "Xf_Yf.nnz+Yf_Xf.nnz, sp_pattern_mat.nnz"
   ]
  },
  {
   "cell_type": "code",
   "execution_count": 118,
   "metadata": {
    "ExecuteTime": {
     "end_time": "2020-10-14T20:50:45.422449Z",
     "start_time": "2020-10-14T20:50:41.707542Z"
    },
    "hidden": true
   },
   "outputs": [
    {
     "name": "stderr",
     "output_type": "stream",
     "text": [
      "100%|██████████| 1993586/1993586 [00:03<00:00, 619230.44it/s]\n",
      "100%|██████████| 224107/224107 [00:00<00:00, 585753.25it/s]\n"
     ]
    }
   ],
   "source": [
    "ind_sp_pattern_mat = sp_pattern_mat.copy().astype(np.int32)\n",
    "temp = Xf_Yf.tocoo()\n",
    "ind_sp_pattern_mat[temp.row, temp.col] = np.arange(Xf_Yf.nnz)\n",
    "pair_xfs = [f'[x[{temp.row[i]}]({xfs[temp.row[i]]}) : y[{temp.col[i]}]({yfs[temp.col[i]]})]' for i in tqdm(range(temp.nnz))]\n",
    "\n",
    "temp = Yf_Xf.tocoo()\n",
    "ind_sp_pattern_mat[temp.col, temp.row] = np.arange(Xf_Yf.nnz, Xf_Yf.nnz+Yf_Xf.nnz)\n",
    "for i in tqdm(range(temp.nnz)):\n",
    "    pair_xfs.append(f'[x[{temp.col[i]}]({xfs[temp.col[i]]}) : y[{temp.row[i]}]({xfs[temp.row[i]]})]')\n",
    "pair_xfs.append('bias')"
   ]
  },
  {
   "cell_type": "code",
   "execution_count": 52,
   "metadata": {
    "ExecuteTime": {
     "end_time": "2020-10-14T14:25:29.448642Z",
     "start_time": "2020-10-14T14:25:29.435729Z"
    },
    "hidden": true
   },
   "outputs": [
    {
     "name": "stdout",
     "output_type": "stream",
     "text": [
      "loaded bin file in buffer\n"
     ]
    }
   ],
   "source": [
    "sp_pattern_mat = read_bin_spmat(f'{RES_DIR}/model/sparsity_pattern.bin')"
   ]
  },
  {
   "cell_type": "code",
   "execution_count": 32,
   "metadata": {
    "ExecuteTime": {
     "end_time": "2020-10-14T13:02:37.244259Z",
     "start_time": "2020-10-14T13:02:37.179169Z"
    },
    "hidden": true
   },
   "outputs": [],
   "source": [
    "t_sp_pattern_mat = sp_pattern_mat.T.tocsr()"
   ]
  },
  {
   "cell_type": "code",
   "execution_count": 82,
   "metadata": {
    "ExecuteTime": {
     "end_time": "2020-10-14T14:39:08.236692Z",
     "start_time": "2020-10-14T14:39:08.230086Z"
    },
    "hidden": true,
    "scrolled": true
   },
   "outputs": [
    {
     "name": "stdout",
     "output_type": "stream",
     "text": [
      "xfs[20314] : dissolut\n",
      "1\t(0.500000)\tdissolut\n",
      "2\t(0.075758)\tczechoslovakia\n",
      "3\t(0.075758)\t__label__2591__Czechoslovakia\n",
      "4\t(0.071138)\t__parent__2291\n",
      "5\t(0.066964)\t__label__1861__republic\n",
      "6\t(0.066288)\tsoviet\n",
      "7\t(0.066288)\tussr\n",
      "8\t(0.066288)\t__label__2749__USSR; Soviet Union; former USSR\n",
      "9\t(0.066288)\tformer ussr\n",
      "10\t(0.066288)\tussr soviet\n",
      "11\t(0.066288)\tsoviet union\n",
      "12\t(0.066288)\tunion former\n",
      "13\t(0.051653)\t__label__3183__ECSC; Consultative Committee of the ECSC; ECSC con\n",
      "14\t(0.051653)\thigh author\n",
      "15\t(0.051653)\tecsc ecsc\n",
      "16\t(0.051653)\tecsc consult\n",
      "17\t(0.051653)\tconsult committe\n",
      "18\t(0.051653)\tcommuniti high\n",
      "19\t(0.051653)\tcommitte ecsc\n",
      "20\t(0.039615)\t__parent__5655\n",
      "21\t(0.039139)\t__parent__26\n"
     ]
    }
   ],
   "source": [
    "# xf = random.randrange(len(xfs))\n",
    "xf = 20314\n",
    "# xf = np.random.choice(targets)\n",
    "\n",
    "print(f'xfs[{xf}] : {xfs[xf]}')\n",
    "xf_sp_pattern_mat = sp_pattern_mat[xf]\n",
    "sorted_inds = np.argsort(-xf_sp_pattern_mat.data)\n",
    "for i, ind in enumerate(sorted_inds):\n",
    "    print(f'{i+1}\\t({\"%.6f\"%xf_sp_pattern_mat.data[ind]})\\t{yfs[xf_sp_pattern_mat.indices[ind]]}')"
   ]
  },
  {
   "cell_type": "code",
   "execution_count": 147,
   "metadata": {
    "ExecuteTime": {
     "end_time": "2020-10-12T12:08:18.537475Z",
     "start_time": "2020-10-12T12:08:18.530148Z"
    },
    "hidden": true,
    "scrolled": true
   },
   "outputs": [
    {
     "name": "stdout",
     "output_type": "stream",
     "text": [
      "yfs[1022682] : __label__81003__Anarchism\n",
      "1\t(0.192308)\tcryptoparti\n",
      "2\t(0.138889)\twxlanarchist14\n",
      "3\t(0.119048)\t9117285\n",
      "4\t(0.111111)\tlibsoc\n",
      "5\t(0.106383)\tshirlow\n",
      "6\t(0.104167)\tamielandmelburn\n",
      "7\t(0.102041)\t96886\n",
      "8\t(0.100000)\tparliamentarist\n",
      "9\t(0.096154)\t22spirit\n",
      "10\t(0.081967)\tpautz\n",
      "11\t(0.080645)\tmountz\n",
      "12\t(0.074627)\t54697\n",
      "13\t(0.068493)\tespecifismo\n",
      "14\t(0.067568)\thetsa\n",
      "15\t(0.064103)\tmelburn\n",
      "16\t(0.062500)\ttoc2\n",
      "17\t(0.060976)\tuvali\n",
      "18\t(0.060241)\tkesia\n",
      "19\t(0.058824)\t32495\n",
      "20\t(0.057471)\t20060329\n",
      "21\t(0.056818)\tlierr\n",
      "22\t(0.056818)\tfrestonia\n",
      "23\t(0.049020)\t31567\n",
      "24\t(0.047170)\t20561\n",
      "25\t(0.045045)\t20070514\n",
      "26\t(0.040650)\trevoltlib\n",
      "27\t(0.039370)\ttitl anarch\n",
      "28\t(0.035211)\tautarch\n",
      "29\t(0.035047)\tsocial anarch\n",
      "30\t(0.026596)\thierarch organ\n",
      "31\t(0.026455)\tstateless societi\n",
      "32\t(0.024272)\tscmagazin\n",
      "33\t(0.018939)\tlifework\n",
      "34\t(0.011628)\tbase free\n",
      "35\t(0.008190)\tideolog polit\n",
      "36\t(0.007153)\twithin societi\n"
     ]
    }
   ],
   "source": [
    "yf = 1022682\n",
    "\n",
    "print(f'yfs[{yf}] : {yfs[yf]}')\n",
    "yf_sp_pattern_mat = t_sp_pattern_mat[yf]\n",
    "sorted_inds = np.argsort(-yf_sp_pattern_mat.data)\n",
    "for i, ind in enumerate(sorted_inds):\n",
    "    print(f'{i+1}\\t({\"%.6f\"%yf_sp_pattern_mat.data[ind]})\\t{xfs[yf_sp_pattern_mat.indices[ind]]}')"
   ]
  },
  {
   "cell_type": "markdown",
   "metadata": {
    "heading_collapsed": true
   },
   "source": [
    "### Analyze single x, y pair"
   ]
  },
  {
   "cell_type": "code",
   "execution_count": null,
   "metadata": {
    "ExecuteTime": {
     "end_time": "2020-10-12T11:53:45.465593Z",
     "start_time": "2020-10-12T11:53:45.386044Z"
    },
    "hidden": true
   },
   "outputs": [],
   "source": [
    "bin_sp_pattern_mat = binarize(sp_pattern_mat, copy=True)"
   ]
  },
  {
   "cell_type": "code",
   "execution_count": 131,
   "metadata": {
    "ExecuteTime": {
     "end_time": "2020-10-12T11:55:36.552484Z",
     "start_time": "2020-10-12T11:55:36.548157Z"
    },
    "hidden": true
   },
   "outputs": [],
   "source": [
    "def bilinear_to_linear(x, y):\n",
    "    cross = trn_X_Xf[x].T.dot(Y_Yf[y])\n",
    "    data = cross.multiply(bin_sp_pattern_mat).data\n",
    "    inds = binarize(cross).multiply(ind_sp_pattern_mat).data.astype(np.int32)\n",
    "    del cross\n",
    "    return csr_matrix((data, inds, [0, inds.shape[0]]), (1, sp_pattern_mat.nnz))"
   ]
  },
  {
   "cell_type": "code",
   "execution_count": 132,
   "metadata": {
    "ExecuteTime": {
     "end_time": "2020-10-12T11:55:48.802811Z",
     "start_time": "2020-10-12T11:55:36.554819Z"
    },
    "hidden": true,
    "scrolled": true
   },
   "outputs": [
    {
     "name": "stdout",
     "output_type": "stream",
     "text": [
      "x = 0 : \n",
      "\u001b[1m\u001b[4m[x(anarch) : y(anarch)]\u001b[0m(0.99, 2875494) \u001b[1m\u001b[4m[x(anarch sidebar) : y(anarch)]\u001b[0m(0.15, 21988359)\n"
     ]
    }
   ],
   "source": [
    "xy = normalize(bilinear_to_linear(0, 81003), axis=1)\n",
    "print(get_text(0, pair_xfs, xy))"
   ]
  },
  {
   "cell_type": "code",
   "execution_count": 244,
   "metadata": {
    "ExecuteTime": {
     "end_time": "2020-10-06T18:23:45.023699Z",
     "start_time": "2020-10-06T18:23:45.015860Z"
    },
    "hidden": true
   },
   "outputs": [
    {
     "data": {
      "text/plain": [
       "array([0.8450816], dtype=float32)"
      ]
     },
     "execution_count": 244,
     "metadata": {},
     "output_type": "execute_result"
    }
   ],
   "source": [
    "prod = xy.dot(tree.shared_clf.data[:-1])+tree.shared_clf.data[-1]\n",
    "bilinear_score = -((max(0, 1-prod))**2) - 0\n",
    "np.exp(bilinear_score)"
   ]
  },
  {
   "cell_type": "markdown",
   "metadata": {},
   "source": [
    "### Analyze predictions"
   ]
  },
  {
   "cell_type": "code",
   "execution_count": 401,
   "metadata": {
    "ExecuteTime": {
     "end_time": "2020-10-08T09:33:44.080263Z",
     "start_time": "2020-10-08T09:33:44.074196Z"
    }
   },
   "outputs": [],
   "source": [
    "targets = np.where((tst_X_Y - binarize(clf_score_mat.multiply(tst_X_Y))).getnnz(1) > 5)[0]"
   ]
  },
  {
   "cell_type": "code",
   "execution_count": 24,
   "metadata": {
    "ExecuteTime": {
     "end_time": "2020-10-14T12:53:56.063530Z",
     "start_time": "2020-10-14T12:53:56.053632Z"
    },
    "scrolled": true
   },
   "outputs": [
    {
     "name": "stdout",
     "output_type": "stream",
     "text": [
      "x = 0 : \n",
      "\u001b[1m\u001b[4mcapit\u001b[0m(0.36, 16272) \u001b[1m\u001b[4mcapit movement\u001b[0m(0.29, 66706) \u001b[1m\u001b[4mfrench oversea\u001b[0m(0.28, 77427) \u001b[1m\u001b[4moversea depart\u001b[0m(0.28, 86238) \u001b[1m\u001b[4malgeria\u001b[0m(0.27, 11929) \u001b[1m\u001b[4moversea\u001b[0m(0.25, 35674) \u001b[1m\u001b[4mprovis treati\u001b[0m(0.22, 89663) \u001b[1m\u001b[4mdepart\u001b[0m(0.21, 19660) \u001b[1m\u001b[4mmovement\u001b[0m(0.20, 33272) \u001b[1m\u001b[4mfrench\u001b[0m(0.19, 23851) \u001b[1m\u001b[4m1960\u001b[0m(0.16, 3201) \u001b[1m\u001b[4m11 may\u001b[0m(0.14, 51554) \u001b[1m\u001b[4m227\u001b[0m(0.13, 4392) \u001b[1m\u001b[4mprovis\u001b[0m(0.11, 38162) \u001b[1m\u001b[4mapplic area\u001b[0m(0.09, 63952) \u001b[1m\u001b[4marticl 106\u001b[0m(0.09, 64637) \u001b[1m\u001b[4mpropos direct\u001b[0m(0.09, 89204) \u001b[1m\u001b[4mpursuanc articl\u001b[0m(0.09, 89840) \u001b[1m\u001b[4meconom condit\u001b[0m(0.09, 73504) \u001b[1m\u001b[4marticl 69\u001b[0m(0.09, 64808) \u001b[1m\u001b[4mdepart wherea\u001b[0m(0.09, 71579) \u001b[1m\u001b[4mwherea propos\u001b[0m(0.09, 99220) \u001b[1m\u001b[4mtreati concern\u001b[0m(0.09, 97505) \u001b[1m\u001b[4mdetermin condit\u001b[0m(0.09, 71795) \u001b[1m\u001b[4msocial develop\u001b[0m(0.09, 94387) \u001b[1m\u001b[4mne\u001b[0m(0.08, 33948) \u001b[1m\u001b[4marticl 67\u001b[0m(0.08, 64806) \u001b[1m\u001b[4mcouncil wherea\u001b[0m(0.08, 70268) \u001b[1m\u001b[4mcouncil determin\u001b[0m(0.08, 70216) \u001b[1m\u001b[4mparticular provis\u001b[0m(0.08, 86732) \u001b[1m\u001b[4mdecis applic\u001b[0m(0.08, 71232) \u001b[1m\u001b[4mset first\u001b[0m(0.08, 93595) \u001b[1m\u001b[4mtreati particular\u001b[0m(0.08, 97525) \u001b[1m\u001b[4mpursuanc\u001b[0m(0.08, 38409) \u001b[1m\u001b[4mliberalis\u001b[0m(0.08, 30510) \u001b[1m\u001b[4mforc 11\u001b[0m(0.07, 77096) \u001b[1m\u001b[4mrest\u001b[0m(0.07, 39733) \u001b[1m\u001b[4mtreati regard\u001b[0m(0.07, 97528) \u001b[1m\u001b[4maccord second\u001b[0m(0.06, 61665) \u001b[1m\u001b[4msecretari\u001b[0m(0.06, 41366) \u001b[1m\u001b[4mrender\u001b[0m(0.06, 39516) \u001b[1m\u001b[4msubparagraph\u001b[0m(0.06, 43499) \u001b[1m\u001b[4mconcern\u001b[0m(0.06, 18144) \u001b[1m\u001b[4mprovis concern\u001b[0m(0.06, 89591) \u001b[1m\u001b[4meec council\u001b[0m(0.06, 74101) \u001b[1m\u001b[4mpropos\u001b[0m(0.06, 38074) \u001b[1m\u001b[4m106\u001b[0m(0.05, 1463) \u001b[1m\u001b[4mcondit\u001b[0m(0.05, 18179) \u001b[1m\u001b[4msubmit commiss\u001b[0m(0.05, 95595) \u001b[1m\u001b[4meconom\u001b[0m(0.05, 21096) \u001b[1m\u001b[4mlegisl\u001b[0m(0.05, 30324) \u001b[1m\u001b[4mdone luxembourg\u001b[0m(0.05, 72349) \u001b[1m\u001b[4meconom social\u001b[0m(0.05, 73530) \u001b[1m\u001b[4m73\u001b[0m(0.05, 9249) \u001b[1m\u001b[4mwherea accord\u001b[0m(0.05, 98976) \u001b[1m\u001b[4mprovis articl\u001b[0m(0.04, 89585) \u001b[1m\u001b[4mdecis\u001b[0m(0.04, 19453) \u001b[1m\u001b[4m67\u001b[0m(0.04, 8913) \u001b[1m\u001b[4m69\u001b[0m(0.04, 8987) \u001b[1m\u001b[4msocial\u001b[0m(0.04, 42426) \u001b[1m\u001b[4mluxembourg\u001b[0m(0.04, 31190) \u001b[1m\u001b[4mfirst subparagraph\u001b[0m(0.04, 76514) \u001b[1m\u001b[4msecond subparagraph\u001b[0m(0.04, 93191) \u001b[1m\u001b[4mcommiss wherea\u001b[0m(0.04, 68218) \u001b[1m\u001b[4mterritori\u001b[0m(0.04, 44525) \u001b[1m\u001b[4mdecis shall\u001b[0m(0.04, 71321) \u001b[1m\u001b[4mspecial\u001b[0m(0.04, 42702) \u001b[1m\u001b[4msubparagraph articl\u001b[0m(0.04, 95660) \u001b[1m\u001b[4mneed\u001b[0m(0.04, 34000) \u001b[1m\u001b[4marea\u001b[0m(0.04, 13081) \u001b[1m\u001b[4m2 thereof\u001b[0m(0.03, 54155) \u001b[1m\u001b[4mpropos commiss\u001b[0m(0.03, 89200) \u001b[1m\u001b[4mcouncil decis\u001b[0m(0.03, 70215) \u001b[1m\u001b[4mplace\u001b[0m(0.03, 36950) \u001b[1m\u001b[4mregard propos\u001b[0m(0.03, 91028) \u001b[1m\u001b[4msecond\u001b[0m(0.03, 41360) \u001b[1m\u001b[4mcouncilth\u001b[0m(0.03, 18611) \u001b[1m\u001b[4msubmit\u001b[0m(0.03, 43493) \u001b[1m\u001b[4mdevelop\u001b[0m(0.03, 19834) \u001b[1m\u001b[4mfirst\u001b[0m(0.03, 23254) \u001b[1m\u001b[4mshall appli\u001b[0m(0.03, 93718) \u001b[1m\u001b[4mappropri\u001b[0m(0.03, 12940) \u001b[1m\u001b[4mdetermin\u001b[0m(0.03, 19807) \u001b[1m\u001b[4mthereof regard\u001b[0m(0.03, 96938) \u001b[1m\u001b[4mset\u001b[0m(0.02, 41662)\n"
     ]
    }
   ],
   "source": [
    "val_X[x]\n",
    "print(get_text(x, xfs, val_X_Xf))"
   ]
  },
  {
   "cell_type": "code",
   "execution_count": null,
   "metadata": {},
   "outputs": [],
   "source": [
    "print(get_text(x, Y, tst_xshortlist, K=10, sep='\\n', attr='bold', f = lambda ind, val : '%.2f, %s, %d'%(val, _c(nnz[ind], attr='blue'), ind)))"
   ]
  },
  {
   "cell_type": "code",
   "execution_count": 108,
   "metadata": {
    "ExecuteTime": {
     "end_time": "2020-11-24T14:51:41.934550Z",
     "start_time": "2020-11-24T14:51:41.930897Z"
    }
   },
   "outputs": [
    {
     "name": "stdout",
     "output_type": "stream",
     "text": [
      "x = 21505376 : \n",
      "\u001b[1m\u001b[4mpolish date\u001b[0m(0.48, 1173077) \u001b[1m\u001b[4mdate great\u001b[0m(0.47, 718682) \u001b[1m\u001b[4mfree polish\u001b[0m(0.45, 823491) \u001b[1m\u001b[4mgreat yarmouth\u001b[0m(0.28, 858402) \u001b[1m\u001b[4myarmouth\u001b[0m(0.27, 475847) \u001b[1m\u001b[4mpolish\u001b[0m(0.24, 346981) \u001b[1m\u001b[4mgreat\u001b[0m(0.24, 187954) \u001b[1m\u001b[4mdate\u001b[0m(0.23, 124913) \u001b[1m\u001b[4mfree\u001b[0m(0.15, 171758) \n",
      "\n"
     ]
    }
   ],
   "source": [
    "print(get_text(21505376, yfs, Y_Yf), '\\n')"
   ]
  },
  {
   "cell_type": "code",
   "execution_count": 121,
   "metadata": {
    "ExecuteTime": {
     "end_time": "2020-11-24T14:55:41.359563Z",
     "start_time": "2020-11-24T14:55:41.357263Z"
    }
   },
   "outputs": [],
   "source": [
    "# x = random.randrange(tst_X_Y.shape[0])\n",
    "x = random.randrange(100000)"
   ]
  },
  {
   "cell_type": "code",
   "execution_count": 122,
   "metadata": {
    "ExecuteTime": {
     "end_time": "2020-11-24T14:55:41.671784Z",
     "start_time": "2020-11-24T14:55:41.662081Z"
    }
   },
   "outputs": [
    {
     "name": "stdout",
     "output_type": "stream",
     "text": [
      "79DC16662B07DEDCE4CE\thttp://www.Rentalcars.com/en/city/pl/krakow/?affiliateCode=msn_new_row&preflang=en \n",
      "\n",
      "x = 266819 : \n",
      "\u001b[1m\u001b[4mhire\u001b[0m(0.41, 53743) \u001b[1m\u001b[4mkrakow\u001b[0m(0.36, 1399863) \u001b[1m\u001b[4mpl krakow\u001b[0m(0.30, 2512015) \u001b[1m\u001b[4mciti pl\u001b[0m(0.24, 2034286) \u001b[1m\u001b[4mrow preflang\u001b[0m(0.24, 2589973) \u001b[1m\u001b[4mnew row\u001b[0m(0.24, 2456757) \u001b[1m\u001b[4men citi\u001b[0m(0.20, 2134885) \u001b[1m\u001b[4mlanguag\u001b[0m(0.20, 1571093) \u001b[1m\u001b[4mmsn new\u001b[0m(0.19, 2445524) \u001b[1m\u001b[4mpreflang en\u001b[0m(0.19, 2529026) \u001b[1m\u001b[4mwww rentalcar\u001b[0m(0.19, 2799568) \u001b[1m\u001b[4mrentalcar com\u001b[0m(0.19, 2574095) \u001b[1m\u001b[4maffiliatecod msn\u001b[0m(0.19, 1886639) \u001b[1m\u001b[4mrentalcar\u001b[0m(0.13, 1169742) \u001b[1m\u001b[4mcom en\u001b[0m(0.13, 2048931) \u001b[1m\u001b[4mcarro\u001b[0m(0.12, 1372860) \u001b[1m\u001b[4mairport\u001b[0m(0.09, 1413593) \u001b[1m\u001b[4mchat\u001b[0m(0.08, 28268) \u001b[1m\u001b[4mrental\u001b[0m(0.07, 1255077) \u001b[1m\u001b[4mkatowic\u001b[0m(0.07, 418458) \u001b[1m\u001b[4mautonvuokraus\u001b[0m(0.06, 1222828) \u001b[1m\u001b[4mbillej\u001b[0m(0.06, 1457995) \u001b[1m\u001b[4mسيارات\u001b[0m(0.06, 1344842) \u001b[1m\u001b[4mautohuur\u001b[0m(0.06, 1563698) \u001b[1m\u001b[4mاستئجار\u001b[0m(0.06, 1387391) \u001b[1m\u001b[4mbilhyra\u001b[0m(0.06, 967781) \u001b[1m\u001b[4mレンタカー\u001b[0m(0.06, 812105) \u001b[1m\u001b[4mleiebil\u001b[0m(0.06, 1443261) \u001b[1m\u001b[4malugu\u001b[0m(0.06, 1797245) \u001b[1m\u001b[4maluguel\u001b[0m(0.06, 923858) \u001b[1m\u001b[4mmietwagen\u001b[0m(0.06, 270464) \u001b[1m\u001b[4mnoleggio\u001b[0m(0.06, 1658295) \u001b[1m\u001b[4mpreflang\u001b[0m(0.06, 934945) \u001b[1m\u001b[4mmassiv\u001b[0m(0.04, 377267) \u001b[1m\u001b[4mdriver\u001b[0m(0.04, 243806) \u001b[1m\u001b[4mpyrzowic\u001b[0m(0.04, 251561) \u001b[1m\u001b[4mbydgoszcz\u001b[0m(0.04, 968311) \u001b[1m\u001b[4mrzeszow\u001b[0m(0.04, 871671) \u001b[1m\u001b[4mandroid\u001b[0m(0.04, 667699) \u001b[1m\u001b[4mszczecin\u001b[0m(0.04, 553185) \u001b[1m\u001b[4mlodz\u001b[0m(0.04, 1571472) \u001b[1m\u001b[4mrow\u001b[0m(0.04, 273512) \u001b[1m\u001b[4mpoznan\u001b[0m(0.04, 1041212) \u001b[1m\u001b[4maddress\u001b[0m(0.04, 1370768) \u001b[1m\u001b[4mverifi\u001b[0m(0.04, 1450594) \u001b[1m\u001b[4mtrust\u001b[0m(0.03, 62015) \u001b[1m\u001b[4mwroclaw\u001b[0m(0.03, 811297) \u001b[1m\u001b[4mgdansk\u001b[0m(0.03, 1333594) \u001b[1m\u001b[4mhuge\u001b[0m(0.03, 1760825) \u001b[1m\u001b[4mgot\u001b[0m(0.03, 438251) \u001b[1m\u001b[4miphon\u001b[0m(0.03, 1271385) \u001b[1m\u001b[4mlogin\u001b[0m(0.03, 633127) \u001b[1m\u001b[4m0122\u001b[0m(0.03, 1664854) \u001b[1m\u001b[4mwarsaw\u001b[0m(0.03, 1002944) \u001b[1m\u001b[4mwhi\u001b[0m(0.03, 20159) \u001b[1m\u001b[4mtraveljigsaw\u001b[0m(0.03, 1556155) \u001b[1m\u001b[4mfebruari\u001b[0m(0.03, 1098205) \u001b[1m\u001b[4mbiggest\u001b[0m(0.03, 412371) \u001b[1m\u001b[4mapril\u001b[0m(0.03, 26352) \u001b[1m\u001b[4mpricelin\u001b[0m(0.03, 1424800) \u001b[1m\u001b[4mjune\u001b[0m(0.03, 1740457) \u001b[1m\u001b[4mmarch\u001b[0m(0.03, 1571914) \u001b[1m\u001b[4mjanuari\u001b[0m(0.03, 97423) \u001b[1m\u001b[4mmsn\u001b[0m(0.03, 13967) \u001b[1m\u001b[4magoda\u001b[0m(0.03, 966536) \u001b[1m\u001b[4m43207\u001b[0m(0.03, 772038) \u001b[1m\u001b[4mcarrier\u001b[0m(0.02, 1138504) \u001b[1m\u001b[4m813\u001b[0m(0.02, 687977) \u001b[1m\u001b[4mswidnik\u001b[0m(0.02, 424963) \u001b[1m\u001b[4msosnowiec\u001b[0m(0.02, 1106813) \u001b[1m\u001b[4m646\u001b[0m(0.02, 1646999) \u001b[1m\u001b[4mplock\u001b[0m(0.02, 486177) \u001b[1m\u001b[4mnoon\u001b[0m(0.02, 421061) \u001b[1m\u001b[4mbig\u001b[0m(0.02, 839440) \u001b[1m\u001b[4mbialystok\u001b[0m(0.02, 497570) \u001b[1m\u001b[4mtarnow\u001b[0m(0.02, 1214667) \u001b[1m\u001b[4mauto\u001b[0m(0.02, 1137026) \u001b[1m\u001b[4mdestin\u001b[0m(0.02, 1609308) \u001b[1m\u001b[4mcheapest\u001b[0m(0.02, 349302) \u001b[1m\u001b[4mgliwic\u001b[0m(0.02, 95976) \u001b[1m\u001b[4mmajor\u001b[0m(0.02, 676145) \u001b[1m\u001b[4mkielc\u001b[0m(0.02, 332982) \u001b[1m\u001b[4mdecemb\u001b[0m(0.02, 1544952) \u001b[1m\u001b[4molsztyn\u001b[0m(0.02, 528001) \u001b[1m\u001b[4mseater\u001b[0m(0.02, 1575835) \u001b[1m\u001b[4mfee\u001b[0m(0.02, 1375363) \u001b[1m\u001b[4mszz\u001b[0m(0.02, 360877) \u001b[1m\u001b[4mcode\u001b[0m(0.02, 1245999) \u001b[1m\u001b[4mfurther\u001b[0m(0.02, 1120182) \u001b[1m\u001b[4mbzg\u001b[0m(0.02, 839970) \u001b[1m\u001b[4mgoogl\u001b[0m(0.02, 544851) \u001b[1m\u001b[4mrze\u001b[0m(0.02, 1787804) \u001b[1m\u001b[4mlcj\u001b[0m(0.02, 846063) \u001b[1m\u001b[4mkeep\u001b[0m(0.02, 1250691) \u001b[1m\u001b[4mpoz\u001b[0m(0.02, 870613) \u001b[1m\u001b[4mplay\u001b[0m(0.02, 1275508) \u001b[1m\u001b[4mmodlin\u001b[0m(0.02, 1380041) \u001b[1m\u001b[4mlublin\u001b[0m(0.02, 462192) \u001b[1m\u001b[4mdrop\u001b[0m(0.02, 1417276) \u001b[1m\u001b[4mwmi\u001b[0m(0.02, 490871) \u001b[1m\u001b[4mmidnight\u001b[0m(0.02, 270462) \u001b[1m\u001b[4mwro\u001b[0m(0.02, 1152394) \u001b[1m\u001b[4msimpli\u001b[0m(0.02, 595039) \u001b[1m\u001b[4mktw\u001b[0m(0.02, 717903) \u001b[1m\u001b[4mgdn\u001b[0m(0.02, 416478) \u001b[1m\u001b[4mwaw\u001b[0m(0.02, 319739) \u001b[1m\u001b[4mdon\u001b[0m(0.02, 1545325) \u001b[1m\u001b[4mforgot\u001b[0m(0.02, 992408) \u001b[1m\u001b[4mlubin\u001b[0m(0.02, 1272991) \u001b[1m\u001b[4msprok\u001b[0m(0.02, 1576604) \u001b[1m\u001b[4mhinchcliff\u001b[0m(0.02, 1760608) \u001b[1m\u001b[4m29083\u001b[0m(0.02, 984705) \u001b[1m\u001b[4mredfern\u001b[0m(0.01, 700780) \u001b[1m\u001b[4mkalba\u001b[0m(0.01, 1463870) \u001b[1m\u001b[4mluz\u001b[0m(0.01, 675968) \u001b[1m\u001b[4mpassword\u001b[0m(0.01, 549951) \u001b[1m\u001b[4mswahili\u001b[0m(0.01, 702685) \u001b[1m\u001b[4maccept\u001b[0m(0.01, 752762) \u001b[1m\u001b[4mlatvija\u001b[0m(0.01, 782242) \u001b[1m\u001b[4msteinberg\u001b[0m(0.01, 1043489) \u001b[1m\u001b[4mrent\u001b[0m(0.01, 1340059) \u001b[1m\u001b[4mweek\u001b[0m(0.01, 555043) \u001b[1m\u001b[4mkrk\u001b[0m(0.01, 1592149) \u001b[1m\u001b[4mไทย\u001b[0m(0.01, 299575) \u001b[1m\u001b[4mcompar\u001b[0m(0.01, 1203212) \u001b[1m\u001b[4mhertz\u001b[0m(0.01, 438802) \u001b[1m\u001b[4mseptemb\u001b[0m(0.01, 1149225) \u001b[1m\u001b[4mpусский\u001b[0m(0.01, 1574595) \u001b[1m\u001b[4mbahasa\u001b[0m(0.01, 1649286) \u001b[1m\u001b[4maugust\u001b[0m(0.01, 1520977) \u001b[1m\u001b[4mherbert\u001b[0m(0.01, 310496) \u001b[1m\u001b[4mnovemb\u001b[0m(0.01, 1551716) \u001b[1m\u001b[4mpeopl\u001b[0m(0.01, 1275263) \u001b[1m\u001b[4moctob\u001b[0m(0.01, 933819) \u001b[1m\u001b[4mjuli\u001b[0m(0.01, 247318) \u001b[1m\u001b[4mbrent\u001b[0m(0.01, 177618) \u001b[1m\u001b[4mportugu\u001b[0m(0.01, 1296815) \u001b[1m\u001b[4msubmiss\u001b[0m(0.01, 915945) \u001b[1m\u001b[4mform\u001b[0m(0.01, 245042) \u001b[1m\u001b[4measiest\u001b[0m(0.01, 1524227) \u001b[1m\u001b[4mhull\u001b[0m(0.01, 695421) \u001b[1m\u001b[4mamend\u001b[0m(0.01, 1435239) \u001b[1m\u001b[4mcancel\u001b[0m(0.01, 263309) \u001b[1m\u001b[4mteam\u001b[0m(0.01, 1299799) \u001b[1m\u001b[4munabl\u001b[0m(0.01, 725137) \u001b[1m\u001b[4mforgotten\u001b[0m(0.01, 885863) \u001b[1m\u001b[4mdollar\u001b[0m(0.01, 1075914) \u001b[1m\u001b[4mhassl\u001b[0m(0.01, 53542) \u001b[1m\u001b[4meconomi\u001b[0m(0.01, 1502963) \u001b[1m\u001b[4mlink\u001b[0m(0.01, 312522) \u001b[1m\u001b[4mcall\u001b[0m(0.01, 584206) \u001b[1m\u001b[4moliv\u001b[0m(0.01, 400114) \u001b[1m\u001b[4mfound\u001b[0m(0.01, 651005) \u001b[1m\u001b[4mhidden\u001b[0m(0.01, 203509) \u001b[1m\u001b[4myard\u001b[0m(0.01, 790377) \u001b[1m\u001b[4mchoos\u001b[0m(0.01, 1501386) \u001b[1m\u001b[4mукраїнська\u001b[0m(0.01, 1153111) \u001b[1m\u001b[4mislenska\u001b[0m(0.01, 396768) \u001b[1m\u001b[4msrpski\u001b[0m(0.01, 1064386) \u001b[1m\u001b[4mfilipino\u001b[0m(0.01, 202121) \u001b[1m\u001b[4mελληνικά\u001b[0m(0.01, 769482) \u001b[1m\u001b[4msorri\u001b[0m(0.01, 17735) \u001b[1m\u001b[4meesti\u001b[0m(0.01, 51529) \u001b[1m\u001b[4mбългарски\u001b[0m(0.01, 149825) \u001b[1m\u001b[4mhrvatski\u001b[0m(0.01, 1142875) \u001b[1m\u001b[4mעברית\u001b[0m(0.01, 107087) \u001b[1m\u001b[4mromană\u001b[0m(0.01, 828889) \u001b[1m\u001b[4mlietuvių\u001b[0m(0.01, 77032) \u001b[1m\u001b[4moccur\u001b[0m(0.01, 699086) \u001b[1m\u001b[4mslovenčina\u001b[0m(0.01, 1149599) \u001b[1m\u001b[4mslovenščina\u001b[0m(0.01, 530806) \u001b[1m\u001b[4mcatala\u001b[0m(0.01, 840288) \u001b[1m\u001b[4mmagyar\u001b[0m(0.01, 1145196) \u001b[1m\u001b[4mčeština\u001b[0m(0.01, 1088775) \u001b[1m\u001b[4m繁體中文\u001b[0m(0.01, 299610) \u001b[1m\u001b[4mtuerkc\u001b[0m(0.01, 895578) \u001b[1m\u001b[4mالعربيه\u001b[0m(0.01, 961862) \u001b[1m\u001b[4msuomi\u001b[0m(0.01, 766662) \u001b[1m\u001b[4m简体中文\u001b[0m(0.01, 620123) \u001b[1m\u001b[4mexact\u001b[0m(0.01, 693374) \u001b[1m\u001b[4mdansk\u001b[0m(0.01, 72018) \u001b[1m\u001b[4mpolski\u001b[0m(0.01, 956302) \u001b[1m\u001b[4mnorsk\u001b[0m(0.01, 1338161) \u001b[1m\u001b[4msupplier\u001b[0m(0.01, 1555361) \u001b[1m\u001b[4msvenska\u001b[0m(0.01, 702672) \u001b[1m\u001b[4m日本語\u001b[0m(0.01, 983038) \u001b[1m\u001b[4mviệt\u001b[0m(0.01, 554767) \u001b[1m\u001b[4mitaliano\u001b[0m(0.01, 1143325) \u001b[1m\u001b[4mespanol\u001b[0m(0.01, 1567463) \u001b[1m\u001b[4mfrancai\u001b[0m(0.01, 1162870) \u001b[1m\u001b[4msent\u001b[0m(0.01, 466412) \u001b[1m\u001b[4msubject\u001b[0m(0.01, 830473) \u001b[1m\u001b[4mcredit\u001b[0m(0.01, 862411) \u001b[1m\u001b[4mdeutsch\u001b[0m(0.01, 1203959) \u001b[1m\u001b[4measili\u001b[0m(0.01, 1673595) \u001b[1m\u001b[4mnederland\u001b[0m(0.01, 1253029) \u001b[1m\u001b[4merror\u001b[0m(0.01, 757309) \u001b[1m\u001b[4mprocess\u001b[0m(0.01, 1169157) \u001b[1m\u001b[4mrequest\u001b[0m(0.01, 1233941) \u001b[1m\u001b[4mhold\u001b[0m(0.01, 1505197) \u001b[1m\u001b[4msend\u001b[0m(0.01, 872113) \u001b[1m\u001b[4mlead\u001b[0m(0.01, 846082) \u001b[1m\u001b[4mcheap\u001b[0m(0.01, 520074) \u001b[1m\u001b[4mpick\u001b[0m(0.01, 1083333) \u001b[1m\u001b[4mlog\u001b[0m(0.00, 398177) \n",
      "\n",
      "x = 266819 : \n",
      "\u001b[1mrenting car krakow\u001b[0m(0.04, \u001b[94m2\u001b[0m, 22585574)\n"
     ]
    }
   ],
   "source": [
    "print(tst_X[rand_inds[x]], '\\n')\n",
    "print(get_text(rand_inds[x], new_xfs, new_tst_X_Xf), '\\n')\n",
    "\n",
    "print(get_text(rand_inds[x], Y, tst_X_Y, K=10, sep='\\n', attr='bold', f = lambda ind, val : '%.2f, %s, %d'%(val, _c(nnz[ind], attr='blue'), ind)))"
   ]
  },
  {
   "cell_type": "code",
   "execution_count": 123,
   "metadata": {
    "ExecuteTime": {
     "end_time": "2020-11-24T14:56:08.914521Z",
     "start_time": "2020-11-24T14:56:08.910511Z"
    },
    "scrolled": true
   },
   "outputs": [
    {
     "name": "stdout",
     "output_type": "stream",
     "text": [
      "x = 81501 : \n",
      "\u001b[1mkrakow\u001b[0m(0.03, \u001b[94m28\u001b[0m, 5753588)\n"
     ]
    }
   ],
   "source": [
    "print(get_text(x, Y, tst_clf_score_mat, K=10, sep='\\n', attr='bold', f = lambda ind, val : '%.2f, %s, %d'%(val, _c(nnz[ind], attr='blue'), ind)))"
   ]
  },
  {
   "cell_type": "code",
   "execution_count": 124,
   "metadata": {
    "ExecuteTime": {
     "end_time": "2020-11-24T14:56:10.685988Z",
     "start_time": "2020-11-24T14:56:10.682009Z"
    }
   },
   "outputs": [
    {
     "name": "stdout",
     "output_type": "stream",
     "text": [
      "x = 81501 : \n",
      "\u001b[1mkrakow\u001b[0m(0.05, \u001b[94m28\u001b[0m, 5753588)\n",
      "\u001b[1mtruckfast hire\u001b[0m(0.02, \u001b[94m1\u001b[0m, 7025384)\n",
      "\u001b[1mtheoutdoorsey campre hire\u001b[0m(0.02, \u001b[94m1\u001b[0m, 25299229)\n",
      "\u001b[1malltruck hire\u001b[0m(0.02, \u001b[94m1\u001b[0m, 3680768)\n",
      "\u001b[1mwhere can i hire brymac\u001b[0m(0.02, \u001b[94m0\u001b[0m, 3391564)\n",
      "\u001b[1mhire it\u001b[0m(0.02, \u001b[94m1\u001b[0m, 29095977)\n",
      "\u001b[1md hire\u001b[0m(0.02, \u001b[94m0\u001b[0m, 12208000)\n",
      "\u001b[1mhiring\u001b[0m(0.02, \u001b[94m1\u001b[0m, 10979127)\n",
      "\u001b[1mhires\u001b[0m(0.02, \u001b[94m1\u001b[0m, 23703212)\n",
      "\u001b[1mhired\u001b[0m(0.02, \u001b[94m1\u001b[0m, 30169898)\n"
     ]
    }
   ],
   "source": [
    "print(get_text(x, Y, tst_bilinear_score_mat, K=10, sep='\\n', attr='bold', f = lambda ind, val : '%.2f, %s, %d'%(val, _c(nnz[ind], attr='blue'), ind)))"
   ]
  },
  {
   "cell_type": "code",
   "execution_count": 125,
   "metadata": {
    "ExecuteTime": {
     "end_time": "2020-11-24T14:56:30.775107Z",
     "start_time": "2020-11-24T14:56:30.770842Z"
    },
    "scrolled": true
   },
   "outputs": [
    {
     "name": "stdout",
     "output_type": "stream",
     "text": [
      "x = 81501 : \n",
      "\u001b[1mhiring\u001b[0m(0.02, \u001b[94m1\u001b[0m, 10979127)\n",
      "\u001b[1md hire\u001b[0m(0.02, \u001b[94m0\u001b[0m, 12208000)\n",
      "\u001b[1mmaccom hire\u001b[0m(0.02, \u001b[94m0\u001b[0m, 23595022)\n",
      "\u001b[1malltruck hire\u001b[0m(0.02, \u001b[94m1\u001b[0m, 3680768)\n",
      "\u001b[1mwhere can i hire brymac\u001b[0m(0.02, \u001b[94m0\u001b[0m, 3391564)\n",
      "\u001b[1mhires\u001b[0m(0.02, \u001b[94m1\u001b[0m, 23703212)\n",
      "\u001b[1mhire it\u001b[0m(0.02, \u001b[94m1\u001b[0m, 29095977)\n",
      "\u001b[1mtheoutdoorsey campre hire\u001b[0m(0.02, \u001b[94m1\u001b[0m, 25299229)\n",
      "\u001b[1myour hired\u001b[0m(0.02, \u001b[94m0\u001b[0m, 10424327)\n",
      "\u001b[1mclubsto hire\u001b[0m(0.02, \u001b[94m1\u001b[0m, 15494626)\n"
     ]
    }
   ],
   "source": [
    "print(get_text(x, Y, tst_xshortlist, K=10, sep='\\n', attr='bold', f = lambda ind, val : '%.2f, %s, %d'%(val, _c(nnz[ind], attr='blue'), ind)))"
   ]
  },
  {
   "cell_type": "code",
   "execution_count": 126,
   "metadata": {
    "ExecuteTime": {
     "end_time": "2020-11-24T14:56:36.464240Z",
     "start_time": "2020-11-24T14:56:36.460054Z"
    }
   },
   "outputs": [
    {
     "name": "stdout",
     "output_type": "stream",
     "text": [
      "x = 81501 : \n",
      "\u001b[1mclubsto hire\u001b[0m(0.41, \u001b[94m1\u001b[0m, 15494626)\n",
      "\u001b[1mtruckfast hire\u001b[0m(0.41, \u001b[94m1\u001b[0m, 7025384)\n",
      "\u001b[1mclubns hire\u001b[0m(0.41, \u001b[94m0\u001b[0m, 754856)\n",
      "\u001b[1mmaccom hire\u001b[0m(0.41, \u001b[94m0\u001b[0m, 23595022)\n",
      "\u001b[1mhired\u001b[0m(0.41, \u001b[94m1\u001b[0m, 30169898)\n",
      "\u001b[1mtheoutdoorsey campre hire\u001b[0m(0.41, \u001b[94m1\u001b[0m, 25299229)\n",
      "\u001b[1mhiring\u001b[0m(0.41, \u001b[94m1\u001b[0m, 10979127)\n",
      "\u001b[1mhires\u001b[0m(0.41, \u001b[94m1\u001b[0m, 23703212)\n",
      "\u001b[1myour hired\u001b[0m(0.41, \u001b[94m0\u001b[0m, 10424327)\n",
      "\u001b[1mhire it\u001b[0m(0.41, \u001b[94m1\u001b[0m, 29095977)\n"
     ]
    }
   ],
   "source": [
    "print(get_text(x, Y, tst_knn_score_mat, K=10, sep='\\n', attr='bold', f = lambda ind, val : '%.2f, %s, %d'%(val, _c(nnz[ind], attr='blue'), ind)))"
   ]
  },
  {
   "cell_type": "markdown",
   "metadata": {},
   "source": [
    "### Analyze bilinear"
   ]
  },
  {
   "cell_type": "code",
   "execution_count": 107,
   "metadata": {
    "ExecuteTime": {
     "end_time": "2020-10-14T20:46:44.460110Z",
     "start_time": "2020-10-14T20:46:44.452956Z"
    }
   },
   "outputs": [],
   "source": [
    "bilinear_clf = read_buf_bin_vec(open(f'{RES_DIR}/model/bilinear_clf.bin', 'rb').read(), np.float32)[0]"
   ]
  },
  {
   "cell_type": "code",
   "execution_count": 108,
   "metadata": {
    "ExecuteTime": {
     "end_time": "2020-10-14T20:46:46.396881Z",
     "start_time": "2020-10-14T20:46:46.391157Z"
    }
   },
   "outputs": [
    {
     "data": {
      "text/plain": [
       "((2217694,), 2217693)"
      ]
     },
     "execution_count": 108,
     "metadata": {},
     "output_type": "execute_result"
    }
   ],
   "source": [
    "bilinear_clf.shape, sp_pattern_mat.nnz"
   ]
  },
  {
   "cell_type": "code",
   "execution_count": 110,
   "metadata": {
    "ExecuteTime": {
     "end_time": "2020-10-14T20:46:54.780565Z",
     "start_time": "2020-10-14T20:46:54.775582Z"
    }
   },
   "outputs": [
    {
     "data": {
      "text/plain": [
       "array([-0.5736173 ,  0.12871023,  0.4830132 ,  0.5849314 ,  0.82220685,\n",
       "        0.7778163 ,  0.39703313, -0.04310488,  1.0390685 , -1.6236305 ],\n",
       "      dtype=float32)"
      ]
     },
     "execution_count": 110,
     "metadata": {},
     "output_type": "execute_result"
    }
   ],
   "source": [
    "bilinear_clf[-10:]"
   ]
  },
  {
   "cell_type": "code",
   "execution_count": 113,
   "metadata": {
    "ExecuteTime": {
     "end_time": "2020-10-14T20:48:49.125791Z",
     "start_time": "2020-10-14T20:48:49.097356Z"
    }
   },
   "outputs": [
    {
     "name": "stdout",
     "output_type": "stream",
     "text": [
      "loaded bin file in buffer\n"
     ]
    }
   ],
   "source": [
    "trn_xshortlist = read_bin_spmat(f'{RES_DIR}/model/shortlist.bin')\n",
    "trn_linear_form_mat = read_bin_spmat(f'{RES_DIR}/model/linear_form_mat.bin')\n",
    "\n",
    "sampled_tlfm = trn_linear_form_mat[:100000]"
   ]
  },
  {
   "cell_type": "code",
   "execution_count": 123,
   "metadata": {
    "ExecuteTime": {
     "end_time": "2020-10-14T20:53:39.238032Z",
     "start_time": "2020-10-14T20:53:39.232341Z"
    },
    "scrolled": true
   },
   "outputs": [
    {
     "name": "stdout",
     "output_type": "stream",
     "text": [
      "x = 0 : \n",
      "\u001b[1m\u001b[4mcommon transport policy\u001b[0m(1.00, 1098) \u001b[1m\u001b[4mlegal status\u001b[0m(1.00, 2458) \u001b[1m\u001b[4mcommittee (EU)\u001b[0m(1.00, 3679)\n",
      "EEC Council: Rules of the Transport Committee. ,Having regard to Article 83 of the Treaty establishing the European Economic Community, which provides that an advisory committee consisting of experts designated by the Governments of Member States shall be attached to the Commission and consulted by the latter on transport matters whenever the Commission considers this desirable, without prejudice to the powers of the transport section of the Economic and Social Committee;Having regard to Article 153 of that Treaty, which provides that the Council shall, after receiving an opinion from the Commission, determine the rules governing the committees provided for in that Treaty;Having received an Opinion from the Commission;. that the Rules of the Transport Committee shall be as follows: The Committee shall consist of experts on transport matters designated by the Governments of Member States. Each Government shall designate one expert or two experts selected from among senior officials of the central administration. It may, in addition, designate not more than three experts of acknowledged competence in, respectively, the railway, road transport and inland waterway sectors. Each Government may designate an alternate for each member of the Committee appointed by it; this alternate shall satisfy conditions the same as those for the member of the Committee whom he replaces.Alternates shall attend Committee meetings and take part in the work of the Committee only in the event of full members being unable to do so. Committee members and their alternates shall be appointed in their personal capacity and may not be bound by any mandatory instructions. The term of office for members and their alternates shall be two years. Their appointments may be renewed.In the event of the death, resignation or compulsory retirement of a member or alternate, that member or alternate shall replaced for the remainder of his term of office.The Government which appointed a member or alternate may compulsorily retire that member or alternate only if the member or alternate no longer fulfils the conditions required for the performance of his duties. The Committee shall, by an absolute majority of members present and voting, elect from among the members appointed by virtue of their status as senior officials of the central administration a Chairman and Vice-Chairman, who shall serve as such for two years.Should the Chairman or Vice-Chairman cease to hold office before the period for which he was elected has expired, a replacement for him shall be elected for the remainder of the period for which he was originally elected.Neither the Chairman nor the Vice-Chairman may be re-elected. The Committee shall be convened by the Chairman, at the request of the Commission, whenever the latter wishes to consult it. The Commission's request shall state the purpose of the consultation. When the Committee is consulted by the Commission, it shall present the latter with a report setting out the conclusions reached as a result of its deliberations. It shall do likewise if the Commission entrusts it with the study of a specific problem.The Commission shall also be entitled to consult the Committee orally.The minutes of the Committee shall be sent to the Commission. The Commission shall be invited to send its representatives to meetings of the Committee and its working parties. The Committee shall, by an absolute majority of members present and voting, adopt rules of procedure laying down its methods of working.The Committee may, whenever such action appears to it to be necessary for the purposes of formulating an opinion, seek the assistance of any suitably qualified person, obtain any advice and hold hearings. Such action may, however, be taken only with the consent of the Commission. 0The expenses of the Committee shall be included in the estimates of the Commission.. Done at Brussels, 15 September 1958.For the CouncilThe PresidentL. Erhard--------------------------------------------------\n"
     ]
    }
   ],
   "source": [
    "x = 0\n",
    "print(get_text(x, Y, trn_X_Y))\n",
    "print(trn_X[x])"
   ]
  },
  {
   "cell_type": "code",
   "execution_count": 125,
   "metadata": {
    "ExecuteTime": {
     "end_time": "2020-10-14T21:03:14.634275Z",
     "start_time": "2020-10-14T21:03:14.627617Z"
    },
    "scrolled": true
   },
   "outputs": [
    {
     "name": "stdout",
     "output_type": "stream",
     "text": [
      "x = 0 : \n",
      "\u001b[1m\u001b[4mbias\u001b[0m(\u001b[92m1.00\u001b[0m, \u001b[94m-1.62\u001b[0m, 2217693)\n",
      "\u001b[1m\u001b[4m[x[79870](inland waterway) : y[18786](waterway fleet)]\u001b[0m(\u001b[92m0.28\u001b[0m, \u001b[94m0.62\u001b[0m, 1590268)\n",
      "\u001b[1m\u001b[4m[x[79870](inland waterway) : y[19096](__label__25__inland waterway fleet)]\u001b[0m(\u001b[92m0.28\u001b[0m, \u001b[94m0.62\u001b[0m, 1590272)\n",
      "\u001b[1m\u001b[4m[x[47754](waterway) : y[18786](waterway fleet)]\u001b[0m(\u001b[92m0.28\u001b[0m, \u001b[94m0.14\u001b[0m, 947801)\n",
      "\u001b[1m\u001b[4m[x[47754](waterway) : y[19096](__label__25__inland waterway fleet)]\u001b[0m(\u001b[92m0.28\u001b[0m, \u001b[94m0.14\u001b[0m, 947805)\n",
      "\u001b[1m\u001b[4m[x[79870](inland waterway) : y[11352](inland waterway)]\u001b[0m(\u001b[92m0.25\u001b[0m, \u001b[94m-0.12\u001b[0m, 1590261)\n",
      "\u001b[1m\u001b[4m[x[47754](waterway) : y[11352](inland waterway)]\u001b[0m(\u001b[92m0.25\u001b[0m, \u001b[94m0.20\u001b[0m, 947794)\n",
      "\u001b[1m\u001b[4m[x[79870](inland waterway) : y[23935](__parent__4515)]\u001b[0m(\u001b[92m0.25\u001b[0m, \u001b[94m-0.05\u001b[0m, 1590275)\n",
      "\u001b[1m\u001b[4m[x[47754](waterway) : y[23935](__parent__4515)]\u001b[0m(\u001b[92m0.24\u001b[0m, \u001b[94m0.27\u001b[0m, 947808)\n",
      "\u001b[1m\u001b[4m[x[27594](inland) : y[11352](inland waterway)]\u001b[0m(\u001b[92m0.24\u001b[0m, \u001b[94m-0.01\u001b[0m, 547844)\n",
      "\u001b[1m\u001b[4m[x[79870](inland waterway) : y[2135](inland)]\u001b[0m(\u001b[92m0.24\u001b[0m, \u001b[94m-0.41\u001b[0m, 1590257)\n",
      "\u001b[1m\u001b[4m[x[79870](inland waterway) : y[4367](waterway)]\u001b[0m(\u001b[92m0.24\u001b[0m, \u001b[94m-0.14\u001b[0m, 1590258)\n",
      "\u001b[1m\u001b[4m[x[27594](inland) : y[23935](__parent__4515)]\u001b[0m(\u001b[92m0.24\u001b[0m, \u001b[94m0.15\u001b[0m, 547858)\n",
      "\u001b[1m\u001b[4m[x[47754](waterway) : y[4367](waterway)]\u001b[0m(\u001b[92m0.23\u001b[0m, \u001b[94m0.16\u001b[0m, 947791)\n",
      "\u001b[1m\u001b[4m[x[47754](waterway) : y[2135](inland)]\u001b[0m(\u001b[92m0.23\u001b[0m, \u001b[94m0.21\u001b[0m, 947790)\n",
      "\u001b[1m\u001b[4m[x[27594](inland) : y[4367](waterway)]\u001b[0m(\u001b[92m0.23\u001b[0m, \u001b[94m-0.13\u001b[0m, 547841)\n",
      "\u001b[1m\u001b[4m[x[27594](inland) : y[2135](inland)]\u001b[0m(\u001b[92m0.23\u001b[0m, \u001b[94m0.76\u001b[0m, 547840)\n"
     ]
    }
   ],
   "source": [
    "print(get_text(0, pair_xfs, sampled_tlfm, sep='\\n', f = lambda ind, val : '%s, %s, %d'%(_c('%.2f'%val, attr='green'), _c('%.2f'%bilinear_clf[ind], attr='blue'), ind)))"
   ]
  },
  {
   "cell_type": "code",
   "execution_count": 81,
   "metadata": {
    "ExecuteTime": {
     "end_time": "2020-10-14T14:38:49.227442Z",
     "start_time": "2020-10-14T14:38:48.985849Z"
    },
    "scrolled": true
   },
   "outputs": [
    {
     "name": "stdout",
     "output_type": "stream",
     "text": [
      "[x[20314](dissolut) : y[20867](__label__1861__republic)] 8.824594\n",
      "[x[96944](thereto 2) : y[23208](fingal)] 7.322508\n",
      "[x[99134](wherea implement) : y[19152](__label__84__fruit)] 7.0405354\n",
      "[x[79278](import valu) : y[23208](fingal)] 6.2630157\n",
      "[x[66422](buy skim) : y[19497](__label__441__milk)] 5.98454\n",
      "[x[61285](97 tabl) : y[9931](fix amount)] 5.8275075\n",
      "[x[79225](import price) : y[11084](import price)] 5.681644\n",
      "[x[37698](presidentjoao) : y[20867](__label__1861__republic)] 5.513355\n",
      "[x[32192](melon) : y[2561](melon)] 5.4899225\n",
      "[x[32428](mexico) : y[2591](mexico)] 5.399579\n",
      "[x[95261](statist nomenclatur) : y[17149](statist nomenclatur)] 5.362549\n",
      "[x[96430](tariff concess) : y[17545](tariff concess)] 5.25389\n",
      "[x[55338](2009 protect) : y[11079](import eu)] 5.1911826\n",
      "[x[55338](2009 protect) : y[6872](communiti import)] 5.1911826\n",
      "[x[72547](duti level) : y[21313](__label__2323__customs duties)] 5.1337233\n",
      "[x[13520](aubergin) : y[269](aubergin)] 5.054527\n",
      "[x[99134](wherea implement) : y[19522](__label__468__vegetable)] 5.0014377\n",
      "[x[90200](quota 2014) : y[212](001209)] 4.9940886\n",
      "[x[31461](maiz) : y[19633](__label__580__maize)] 4.9901996\n",
      "[x[18656](courgett) : y[960](courgett)] 4.916713\n",
      "[x[53493](1997 lay) : y[20400](__label__1369__originating product; origin of goods; product orig)] 4.900812\n",
      "[x[16904](chairpersonm) : y[4759](african republ)] 4.825022\n",
      "[x[62153](address feder) : y[23948](__parent__4590)] 4.7886047\n",
      "[x[75228](eur great) : y[21313](eh54)] 4.7631073\n",
      "[x[23123](fig) : y[1622](fig)] 4.688825\n",
      "[x[67066](cereal regard) : y[22168](__label__3208__cereals)] 4.671651\n",
      "[x[96905](therein 2014) : y[212](001209)] 4.5622396\n",
      "[x[68452](common organ) : y[6799](common organ)] 4.539627\n",
      "[x[78498](held negoti) : y[22061](__label__3098__fishing regulations)] 4.5354176\n",
      "[x[54464](2001 fix) : y[6832](communiti aid)] 4.51825\n",
      "[x[25300](guinea) : y[19227](__label__163__Guinea; Republic of Guinea)] 4.5072308\n",
      "[x[2132](134th) : y[19087](__label__16__fixing of prices; price proposal; pricing)] 4.4787765\n",
      "[x[3827](2009cn) : y[22168](__label__3208__cereals)] 4.4253035\n",
      "[x[85133](notifi request) : y[12244](limit import)] 4.4131446\n",
      "[x[73589](ecu shall) : y[19871](__label__827__cooperation agreement)] 4.3604646\n",
      "[x[95786](substitut articl) : y[21455](__label__2470__storage; storage facility; storage site; warehouse)] 4.3282704\n",
      "[x[79367](includ fruit) : y[19152](__label__84__fruit)] 4.327484\n",
      "[x[76383](financ programm) : y[19075](__label__4__EU financing; Community financing; European Union)] 4.3142095\n",
      "[x[96444](tariff quota) : y[17557](tariff quota)] 4.3029118\n",
      "[x[78420](health certif) : y[10794](health certif)] 4.2699614\n",
      "[x[90608](record member) : y[6626](cmo common)] 4.2698445\n",
      "[x[78420](health certif) : y[22176](__label__3216__health certificate)] 4.2698126\n",
      "[x[56218](26 28) : y[21290](__label__2300__association agreement (EU); EC association agreeme)] 4.2504096\n",
      "[x[79117](import 4) : y[19292](__label__232__import)] 4.229357\n",
      "[x[6452](3575) : y[21468](__label__2483__regional development)] 4.2071505\n",
      "[x[17138](china) : y[6508](china peopl)] 4.2053347\n",
      "[x[17138](china) : y[22570](__label__3627__China; People’s Republic of China)] 4.2052326\n",
      "[x[81169](l 319) : y[9523](export sale)] 4.1915703\n",
      "[x[17621](cocoa) : y[21976](__label__3008__cocoa)] 4.186716\n",
      "[x[71275](decis implement) : y[4452](yugoslavia)] 4.185442\n",
      "[x[36852](pimiento) : y[3081](pimiento)] 4.179856\n",
      "[x[65483](award shall) : y[9511](export export)] 4.1599507\n",
      "[x[15871](butter) : y[21897](__label__2928__butter)] 4.147494\n",
      "[x[2177](1379) : y[19186](__label__121__fishery management; fishery planning; fishery syst)] 4.141473\n",
      "[x[53872](2 countri) : y[20505](__label__1479__ratio)] 4.141105\n",
      "[x[69246](concerned1701 11) : y[24193](gamleby594)] 4.136065\n",
      "[x[97456](transport product) : y[20867](__label__1861__republic)] 4.130306\n",
      "[x[73812](eec 24) : y[19152](__label__84__fruit)] 4.0669594\n",
      "[x[79367](includ fruit) : y[19522](__label__468__vegetable)] 4.066898\n",
      "[x[65097](august 31) : y[19152](__label__84__fruit)] 4.0666885\n",
      "[x[96573](ten day) : y[18148](transport regul)] 3.989563\n",
      "[x[91990](request opinion) : y[15895](request opinion)] 3.9841495\n",
      "[x[23765](franc) : y[10177](franc french)] 3.973844\n",
      "[x[23765](franc) : y[19126](__label__56__France; French Republic)] 3.9737298\n",
      "[x[91080](region aid) : y[15559](region aid)] 3.9436703\n",
      "[x[59215](67 14) : y[9639](farm product)] 3.9374344\n",
      "[x[68294](commit appropri) : y[6758](commit appropri)] 3.8970406\n",
      "[x[79957](instrument shall) : y[19419](__label__361__financial instrument)] 3.867415\n",
      "[x[34353](nk603xmon810) : y[7232](control foodstuff)] 3.8563244\n",
      "[x[97659](type approv) : y[21751](__label__2776__motor vehicle)] 3.8542137\n",
      "[x[27681](institutef) : y[23068](ff)] 3.8537068\n",
      "[x[82471](macedonia 1) : y[1702](former)] 3.8512635\n",
      "[x[96432](tariff duti) : y[17547](tariff duti)] 3.8486903\n",
      "[x[29841](kyrgyzstan) : y[2297](kyrgyzstan)] 3.8257525\n",
      "[x[59038](60 million) : y[7924](develop aid)] 3.8022764\n",
      "[x[64614](arrang regul) : y[19341](__label__282__fishing industry; fishing; fishing activity)] 3.7922938\n",
      "[x[53525](1998 conclus) : y[23575](__parent__26)] 3.7870314\n",
      "[x[60953](93 6) : y[19292](__label__232__import)] 3.7827842\n",
      "[x[12116](aluminosil) : y[22507](__label__3562__animal health)] 3.7705383\n",
      "[x[68577](communiti control) : y[6848](communiti control)] 3.7542107\n",
      "[x[72193](diseas present) : y[3957](swine)] 3.7205822\n",
      "[x[50439](05 b) : y[20279](__label__1245__prices)] 3.7094445\n",
      "[x[37271](pomelo) : y[3146](pomelo)] 3.6929402\n",
      "[x[65097](august 31) : y[19522](__label__468__vegetable)] 3.692457\n",
      "[x[59936](8 thereof) : y[6832](communiti aid)] 3.6597278\n",
      "[x[74306](eib lend) : y[21468](__label__2483__regional development)] 3.6458828\n",
      "[x[3702](2005cn) : y[24003](__parent__4994)] 3.6233912\n",
      "[x[92385](restrict certain) : y[4927](agricultur year)] 3.619813\n",
      "[x[98374](variet convers) : y[22976](__label__4057__production aid; aid to producers)] 3.6197195\n",
      "[x[90393](rate eur) : y[24132](__parent__5774)] 3.5933821\n",
      "[x[22926](feedingstuff) : y[1606](feed)] 3.5873377\n",
      "[x[90401](rate import) : y[21313](__label__2323__customs duties)] 3.570108\n",
      "[x[1964](1280) : y[19140](__label__71__cheese)] 3.5436769\n",
      "[x[82601](maiz import) : y[19633](__label__580__maize)] 3.5394244\n",
      "[x[19529](defray) : y[9026](equalis financi)] 3.5352004\n",
      "[x[19529](defray) : y[20029](__label__990__financial equalisation; financial compensation; fi)] 3.5352004\n",
      "[x[65839](basi quotat) : y[655](cct)] 3.5316248\n",
      "[x[87406](plant product) : y[14307](plant product)] 3.5309367\n",
      "[x[17991](communitygeneva) : y[4251](uruguay)] 3.5272758\n",
      "[x[77770](germani luxembourg) : y[19126](__label__56__France; French Republic)] 3.526616\n"
     ]
    }
   ],
   "source": [
    "sorted_inds = np.argsort(-bilinear_clf)\n",
    "for i in sorted_inds[:100]:\n",
    "    print(pair_xfs[i], bilinear_clf[i])"
   ]
  },
  {
   "cell_type": "code",
   "execution_count": 464,
   "metadata": {
    "ExecuteTime": {
     "end_time": "2020-10-08T12:55:40.132576Z",
     "start_time": "2020-10-08T12:55:40.128275Z"
    }
   },
   "outputs": [
    {
     "data": {
      "text/plain": [
       "(1108383,)"
      ]
     },
     "execution_count": 464,
     "metadata": {},
     "output_type": "execute_result"
    }
   ],
   "source": [
    "learnt_sp_pattern_mat = sp_pattern_mat.copy()"
   ]
  },
  {
   "cell_type": "code",
   "execution_count": 39,
   "metadata": {
    "ExecuteTime": {
     "end_time": "2020-10-08T16:10:50.966430Z",
     "start_time": "2020-10-08T16:10:50.111655Z"
    }
   },
   "outputs": [],
   "source": [
    "shortlist = (tst_X_Xf.dot(binarize(sp_pattern_mat, copy=True))).dot(Y_Xf.T)\n",
    "# shortlist = (tst_X_Xf.dot(binarize(sp_pattern_mat, copy=True))).dot(Y_Xf.T)"
   ]
  },
  {
   "cell_type": "code",
   "execution_count": 40,
   "metadata": {
    "ExecuteTime": {
     "end_time": "2020-10-08T16:10:59.430337Z",
     "start_time": "2020-10-08T16:10:57.597584Z"
    }
   },
   "outputs": [],
   "source": [
    "topk_shortlist = xclib.utils.sparse.retain_topk(shortlist.copy(), copy=False, k=100)"
   ]
  },
  {
   "cell_type": "code",
   "execution_count": 10,
   "metadata": {
    "ExecuteTime": {
     "end_time": "2020-10-08T16:43:40.991639Z",
     "start_time": "2020-10-08T16:43:40.957885Z"
    }
   },
   "outputs": [
    {
     "name": "stdout",
     "output_type": "stream",
     "text": [
      "loaded bin file in buffer\n",
      "loaded bin file in buffer\n"
     ]
    }
   ],
   "source": [
    "trn_xshortlist = read_bin_spmat(f'{RES_DIR}/trn_xshortlist.bin')\n",
    "tst_xshortlist = read_bin_spmat(f'{RES_DIR}/tst_xshortlist.bin')"
   ]
  },
  {
   "cell_type": "code",
   "execution_count": 15,
   "metadata": {
    "ExecuteTime": {
     "end_time": "2020-10-08T16:46:11.044365Z",
     "start_time": "2020-10-08T16:46:11.040314Z"
    }
   },
   "outputs": [
    {
     "data": {
      "text/plain": [
       "<numpy.vectorize at 0x7f9b36098a90>"
      ]
     },
     "execution_count": 15,
     "metadata": {},
     "output_type": "execute_result"
    }
   ],
   "source": [
    "inv_valid_labels"
   ]
  },
  {
   "cell_type": "code",
   "execution_count": 19,
   "metadata": {
    "ExecuteTime": {
     "end_time": "2020-10-08T16:48:11.856445Z",
     "start_time": "2020-10-08T16:48:11.823705Z"
    }
   },
   "outputs": [
    {
     "data": {
      "text/plain": [
       "625.8653084323713"
      ]
     },
     "execution_count": 19,
     "metadata": {},
     "output_type": "execute_result"
    }
   ],
   "source": [
    "trn_xshortlist.getnnz(0)[inv_valid_labels(np.where((nnz > 0) & (nnz <= 5))[0])].mean()"
   ]
  },
  {
   "cell_type": "code",
   "execution_count": 458,
   "metadata": {
    "ExecuteTime": {
     "end_time": "2020-10-08T12:01:17.619089Z",
     "start_time": "2020-10-08T12:01:17.498510Z"
    },
    "scrolled": true
   },
   "outputs": [
    {
     "data": {
      "text/plain": [
       "{'R@1': 13.144911584516846,\n",
       " 'R@50': 60.26923516971504,\n",
       " 'R@100': 68.9052960978077,\n",
       " 'R@500': 68.9052960978077,\n",
       " 'R@1000': 68.9052960978077}"
      ]
     },
     "execution_count": 458,
     "metadata": {},
     "output_type": "execute_result"
    }
   ],
   "source": [
    "recall(topk_shortlist, tst_X_Y, K=[1, 50, 100, 500, 1000])"
   ]
  },
  {
   "cell_type": "code",
   "execution_count": 298,
   "metadata": {
    "ExecuteTime": {
     "end_time": "2020-10-07T12:20:54.482953Z",
     "start_time": "2020-10-07T12:20:50.612331Z"
    }
   },
   "outputs": [
    {
     "data": {
      "text/plain": [
       "{'R@100': 73.54989315912846,\n",
       " 'R@500': 87.95412884591806,\n",
       " 'R@1000': 89.36961768297063}"
      ]
     },
     "execution_count": 298,
     "metadata": {},
     "output_type": "execute_result"
    }
   ],
   "source": [
    "recall(temp, trn_X_Y, K=[100, 500, 1000])"
   ]
  },
  {
   "cell_type": "code",
   "execution_count": 37,
   "metadata": {
    "ExecuteTime": {
     "end_time": "2020-10-08T16:09:26.177481Z",
     "start_time": "2020-10-08T16:09:26.082822Z"
    }
   },
   "outputs": [],
   "source": [
    "temp = tst_X_Xf.dot(Y_Xf.T)"
   ]
  },
  {
   "cell_type": "code",
   "execution_count": 34,
   "metadata": {
    "ExecuteTime": {
     "end_time": "2020-10-08T16:08:07.327036Z",
     "start_time": "2020-10-08T16:08:07.313976Z"
    }
   },
   "outputs": [],
   "source": [
    "alpha = 0.95\n",
    "score_mat = alpha*clf_score_mat + (1-alpha)*tst_"
   ]
  },
  {
   "cell_type": "code",
   "execution_count": 123,
   "metadata": {
    "ExecuteTime": {
     "end_time": "2020-10-10T17:39:36.270485Z",
     "start_time": "2020-10-10T17:39:36.263880Z"
    }
   },
   "outputs": [
    {
     "name": "stdout",
     "output_type": "stream",
     "text": [
      "loaded bin file in buffer\n"
     ]
    }
   ],
   "source": [
    "direct_xf_yf = read_bin_spmat(f'/scratch/nilesh/experiments/genexml/Results/{dataset}/model/direct_Xf_Yf.bin').tocoo()"
   ]
  },
  {
   "cell_type": "code",
   "execution_count": 124,
   "metadata": {
    "ExecuteTime": {
     "end_time": "2020-10-10T17:39:38.150131Z",
     "start_time": "2020-10-10T17:39:38.145601Z"
    }
   },
   "outputs": [
    {
     "data": {
      "text/plain": [
       "6300"
      ]
     },
     "execution_count": 124,
     "metadata": {},
     "output_type": "execute_result"
    }
   ],
   "source": [
    "direct_xf_yf.nnz"
   ]
  },
  {
   "cell_type": "code",
   "execution_count": 22,
   "metadata": {
    "ExecuteTime": {
     "end_time": "2020-10-10T10:53:32.780211Z",
     "start_time": "2020-10-10T10:53:32.775557Z"
    }
   },
   "outputs": [
    {
     "data": {
      "text/plain": [
       "('contain', 'contain')"
      ]
     },
     "execution_count": 22,
     "metadata": {},
     "output_type": "execute_result"
    }
   ],
   "source": [
    "ind = 798\n",
    "xfs[direct_xf_yf.row[ind]], yfs[direct_xf_yf.col[ind]]"
   ]
  },
  {
   "cell_type": "code",
   "execution_count": 28,
   "metadata": {
    "ExecuteTime": {
     "end_time": "2020-10-10T11:01:02.817133Z",
     "start_time": "2020-10-10T11:01:02.582999Z"
    }
   },
   "outputs": [],
   "source": [
    "alpha = 0.9; beta = 0.05; gamma = 0.05\n",
    "score_mat = normalize(clf_score_mat, norm=\"max\")*alpha + normalize(bilinear_score_mat, norm=\"max\")*beta + normalize(knn_score_mat, norm=\"max\")*gamma"
   ]
  },
  {
   "cell_type": "code",
   "execution_count": 166,
   "metadata": {
    "ExecuteTime": {
     "end_time": "2020-10-10T18:28:05.983043Z",
     "start_time": "2020-10-10T18:28:05.888809Z"
    }
   },
   "outputs": [
    {
     "name": "stdout",
     "output_type": "stream",
     "text": [
      "loaded bin file in buffer\n",
      "loaded bin file in buffer\n",
      "loaded bin file in buffer\n"
     ]
    }
   ],
   "source": [
    "clf_score_mat = read_bin_spmat(f'{RES_DIR}/clf_score_mat.bin').copy()\n",
    "bilinear_score_mat = read_bin_spmat(f'{RES_DIR}/bilinear_score_mat.bin').copy()\n",
    "knn_score_mat = read_bin_spmat(f'{RES_DIR}/knn_score_mat.bin').copy()\n",
    "\n",
    "# # trn_xshortlist = read_bin_spmat(f'{RES_DIR}/trn_xshortlist.bin')\n",
    "# tst_xshortlist = read_bin_spmat(f'{RES_DIR}/shortlist.bin')"
   ]
  },
  {
   "cell_type": "code",
   "execution_count": 168,
   "metadata": {
    "ExecuteTime": {
     "end_time": "2020-10-10T18:28:37.498291Z",
     "start_time": "2020-10-10T18:28:37.012324Z"
    },
    "scrolled": true
   },
   "outputs": [
    {
     "name": "stdout",
     "output_type": "stream",
     "text": [
      "\u001b[1mGZSL metrics (shape=(6000, 4271)): \u001b[0m\n"
     ]
    },
    {
     "data": {
      "text/html": [
       "<div>\n",
       "<style scoped>\n",
       "    .dataframe tbody tr th:only-of-type {\n",
       "        vertical-align: middle;\n",
       "    }\n",
       "\n",
       "    .dataframe tbody tr th {\n",
       "        vertical-align: top;\n",
       "    }\n",
       "\n",
       "    .dataframe thead th {\n",
       "        text-align: right;\n",
       "    }\n",
       "</style>\n",
       "<table border=\"1\" class=\"dataframe\">\n",
       "  <thead>\n",
       "    <tr style=\"text-align: right;\">\n",
       "      <th></th>\n",
       "      <th>1</th>\n",
       "      <th>2</th>\n",
       "      <th>3</th>\n",
       "      <th>4</th>\n",
       "      <th>5</th>\n",
       "    </tr>\n",
       "  </thead>\n",
       "  <tbody>\n",
       "    <tr>\n",
       "      <th>P</th>\n",
       "      <td>87.33</td>\n",
       "      <td>79.71</td>\n",
       "      <td>71.64</td>\n",
       "      <td>63.31</td>\n",
       "      <td>55.72</td>\n",
       "    </tr>\n",
       "    <tr>\n",
       "      <th>nDCG</th>\n",
       "      <td>87.33</td>\n",
       "      <td>81.65</td>\n",
       "      <td>76.62</td>\n",
       "      <td>72.75</td>\n",
       "      <td>70.11</td>\n",
       "    </tr>\n",
       "    <tr>\n",
       "      <th>PSP</th>\n",
       "      <td>48.95</td>\n",
       "      <td>52.56</td>\n",
       "      <td>53.53</td>\n",
       "      <td>53.22</td>\n",
       "      <td>52.63</td>\n",
       "    </tr>\n",
       "    <tr>\n",
       "      <th>PSnDCG</th>\n",
       "      <td>48.95</td>\n",
       "      <td>51.69</td>\n",
       "      <td>52.63</td>\n",
       "      <td>52.88</td>\n",
       "      <td>52.94</td>\n",
       "    </tr>\n",
       "  </tbody>\n",
       "</table>\n",
       "</div>"
      ],
      "text/plain": [
       "            1      2      3      4      5\n",
       "P       87.33  79.71  71.64  63.31  55.72\n",
       "nDCG    87.33  81.65  76.62  72.75  70.11\n",
       "PSP     48.95  52.56  53.53  53.22  52.63\n",
       "PSnDCG  48.95  51.69  52.63  52.88  52.94"
      ]
     },
     "metadata": {},
     "output_type": "display_data"
    },
    {
     "name": "stdout",
     "output_type": "stream",
     "text": [
      "\u001b[1mFewShot metrics (shape=(524, 1930)): \u001b[0m\n"
     ]
    },
    {
     "data": {
      "text/html": [
       "<div>\n",
       "<style scoped>\n",
       "    .dataframe tbody tr th:only-of-type {\n",
       "        vertical-align: middle;\n",
       "    }\n",
       "\n",
       "    .dataframe tbody tr th {\n",
       "        vertical-align: top;\n",
       "    }\n",
       "\n",
       "    .dataframe thead th {\n",
       "        text-align: right;\n",
       "    }\n",
       "</style>\n",
       "<table border=\"1\" class=\"dataframe\">\n",
       "  <thead>\n",
       "    <tr style=\"text-align: right;\">\n",
       "      <th></th>\n",
       "      <th>1</th>\n",
       "      <th>2</th>\n",
       "      <th>3</th>\n",
       "      <th>4</th>\n",
       "      <th>5</th>\n",
       "    </tr>\n",
       "  </thead>\n",
       "  <tbody>\n",
       "    <tr>\n",
       "      <th>P</th>\n",
       "      <td>17.56</td>\n",
       "      <td>12.50</td>\n",
       "      <td>10.24</td>\n",
       "      <td>8.59</td>\n",
       "      <td>7.4</td>\n",
       "    </tr>\n",
       "    <tr>\n",
       "      <th>nDCG</th>\n",
       "      <td>17.56</td>\n",
       "      <td>19.35</td>\n",
       "      <td>21.33</td>\n",
       "      <td>22.51</td>\n",
       "      <td>23.3</td>\n",
       "    </tr>\n",
       "  </tbody>\n",
       "</table>\n",
       "</div>"
      ],
      "text/plain": [
       "          1      2      3      4     5\n",
       "P     17.56  12.50  10.24   8.59   7.4\n",
       "nDCG  17.56  19.35  21.33  22.51  23.3"
      ]
     },
     "metadata": {},
     "output_type": "display_data"
    },
    {
     "name": "stdout",
     "output_type": "stream",
     "text": [
      "\u001b[1mSZSL metrics (shape=(89, 163)): \u001b[0m\n"
     ]
    },
    {
     "data": {
      "text/html": [
       "<div>\n",
       "<style scoped>\n",
       "    .dataframe tbody tr th:only-of-type {\n",
       "        vertical-align: middle;\n",
       "    }\n",
       "\n",
       "    .dataframe tbody tr th {\n",
       "        vertical-align: top;\n",
       "    }\n",
       "\n",
       "    .dataframe thead th {\n",
       "        text-align: right;\n",
       "    }\n",
       "</style>\n",
       "<table border=\"1\" class=\"dataframe\">\n",
       "  <thead>\n",
       "    <tr style=\"text-align: right;\">\n",
       "      <th></th>\n",
       "      <th>1</th>\n",
       "      <th>2</th>\n",
       "      <th>3</th>\n",
       "      <th>4</th>\n",
       "      <th>5</th>\n",
       "    </tr>\n",
       "  </thead>\n",
       "  <tbody>\n",
       "    <tr>\n",
       "      <th>P</th>\n",
       "      <td>29.21</td>\n",
       "      <td>21.91</td>\n",
       "      <td>14.98</td>\n",
       "      <td>11.52</td>\n",
       "      <td>9.21</td>\n",
       "    </tr>\n",
       "    <tr>\n",
       "      <th>nDCG</th>\n",
       "      <td>29.21</td>\n",
       "      <td>35.16</td>\n",
       "      <td>35.72</td>\n",
       "      <td>36.20</td>\n",
       "      <td>36.20</td>\n",
       "    </tr>\n",
       "  </tbody>\n",
       "</table>\n",
       "</div>"
      ],
      "text/plain": [
       "          1      2      3      4      5\n",
       "P     29.21  21.91  14.98  11.52   9.21\n",
       "nDCG  29.21  35.16  35.72  36.20  36.20"
      ]
     },
     "metadata": {},
     "output_type": "display_data"
    },
    {
     "name": "stdout",
     "output_type": "stream",
     "text": [
      "\u001b[1mXC metrics (shape=(6000, 4108)): \u001b[0m\n"
     ]
    },
    {
     "data": {
      "text/html": [
       "<div>\n",
       "<style scoped>\n",
       "    .dataframe tbody tr th:only-of-type {\n",
       "        vertical-align: middle;\n",
       "    }\n",
       "\n",
       "    .dataframe tbody tr th {\n",
       "        vertical-align: top;\n",
       "    }\n",
       "\n",
       "    .dataframe thead th {\n",
       "        text-align: right;\n",
       "    }\n",
       "</style>\n",
       "<table border=\"1\" class=\"dataframe\">\n",
       "  <thead>\n",
       "    <tr style=\"text-align: right;\">\n",
       "      <th></th>\n",
       "      <th>1</th>\n",
       "      <th>2</th>\n",
       "      <th>3</th>\n",
       "      <th>4</th>\n",
       "      <th>5</th>\n",
       "    </tr>\n",
       "  </thead>\n",
       "  <tbody>\n",
       "    <tr>\n",
       "      <th>P</th>\n",
       "      <td>87.48</td>\n",
       "      <td>79.89</td>\n",
       "      <td>71.86</td>\n",
       "      <td>63.50</td>\n",
       "      <td>55.84</td>\n",
       "    </tr>\n",
       "    <tr>\n",
       "      <th>nDCG</th>\n",
       "      <td>87.48</td>\n",
       "      <td>81.83</td>\n",
       "      <td>76.83</td>\n",
       "      <td>72.97</td>\n",
       "      <td>70.30</td>\n",
       "    </tr>\n",
       "    <tr>\n",
       "      <th>PSP</th>\n",
       "      <td>50.91</td>\n",
       "      <td>54.16</td>\n",
       "      <td>55.01</td>\n",
       "      <td>54.57</td>\n",
       "      <td>53.84</td>\n",
       "    </tr>\n",
       "    <tr>\n",
       "      <th>PSnDCG</th>\n",
       "      <td>50.91</td>\n",
       "      <td>53.37</td>\n",
       "      <td>54.22</td>\n",
       "      <td>54.37</td>\n",
       "      <td>54.32</td>\n",
       "    </tr>\n",
       "  </tbody>\n",
       "</table>\n",
       "</div>"
      ],
      "text/plain": [
       "            1      2      3      4      5\n",
       "P       87.48  79.89  71.86  63.50  55.84\n",
       "nDCG    87.48  81.83  76.83  72.97  70.30\n",
       "PSP     50.91  54.16  55.01  54.57  53.84\n",
       "PSnDCG  50.91  53.37  54.22  54.37  54.32"
      ]
     },
     "metadata": {},
     "output_type": "display_data"
    }
   ],
   "source": [
    "get_irm_metrics(bilinear_score_mat);\n",
    "# get_irm_metrics(tst_X_Y);\n",
    "# get_irm_metrics(tst_xshortlist);"
   ]
  },
  {
   "cell_type": "code",
   "execution_count": null,
   "metadata": {},
   "outputs": [],
   "source": []
  }
 ],
 "metadata": {
  "kernelspec": {
   "display_name": "Python 3",
   "language": "python",
   "name": "python3"
  },
  "language_info": {
   "codemirror_mode": {
    "name": "ipython",
    "version": 3
   },
   "file_extension": ".py",
   "mimetype": "text/x-python",
   "name": "python",
   "nbconvert_exporter": "python",
   "pygments_lexer": "ipython3",
   "version": "3.7.9"
  }
 },
 "nbformat": 4,
 "nbformat_minor": 4
}
