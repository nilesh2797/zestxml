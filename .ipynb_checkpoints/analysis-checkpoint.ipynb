{
 "cells": [
  {
   "cell_type": "code",
   "execution_count": 1,
   "metadata": {
    "ExecuteTime": {
     "end_time": "2021-02-07T14:50:20.853870Z",
     "start_time": "2021-02-07T14:50:08.867373Z"
    },
    "scrolled": true
   },
   "outputs": [
    {
     "data": {
      "text/html": [
       "<style>.container { width:100% !important; }</style>"
      ],
      "text/plain": [
       "<IPython.core.display.HTML object>"
      ]
     },
     "metadata": {},
     "output_type": "display_data"
    }
   ],
   "source": [
    "%run resources.ipynb\n",
    "\n",
    "dataset = 'ZS-Eurlex-4.3K'\n",
    "results_dir = 'Results/analysis/%s'%(dataset)\n",
    "if not os.path.exists( results_dir ):\n",
    "    os.makedirs( results_dir )\n",
    "    \n",
    "%run nns.ipynb"
   ]
  },
  {
   "cell_type": "code",
   "execution_count": 3,
   "metadata": {
    "ExecuteTime": {
     "end_time": "2021-02-07T14:50:20.857867Z",
     "start_time": "2021-02-07T14:50:20.855809Z"
    }
   },
   "outputs": [],
   "source": [
    "from xclib.utils.sparse import binarize\n",
    "from xclib.utils.sparse import retain_topk\n",
    "import random"
   ]
  },
  {
   "cell_type": "code",
   "execution_count": 2,
   "metadata": {
    "ExecuteTime": {
     "end_time": "2021-02-07T14:50:20.890676Z",
     "start_time": "2021-02-07T14:50:20.859582Z"
    }
   },
   "outputs": [],
   "source": [
    "RES_DIR = f'Results/{dataset}'\n",
    "DATA_DIR = f'GZXML-Datasets/{dataset}'"
   ]
  },
  {
   "cell_type": "code",
   "execution_count": 4,
   "metadata": {
    "ExecuteTime": {
     "end_time": "2021-02-07T14:55:41.860475Z",
     "start_time": "2021-02-07T14:55:41.857692Z"
    }
   },
   "outputs": [],
   "source": [
    "plt.style.use('seaborn')"
   ]
  },
  {
   "cell_type": "code",
   "execution_count": 5,
   "metadata": {
    "ExecuteTime": {
     "end_time": "2020-12-02T13:07:12.393542Z",
     "start_time": "2020-12-02T13:07:12.385710Z"
    }
   },
   "outputs": [],
   "source": [
    "import scipy.stats\n",
    "\n",
    "def mean_confidence_interval(data, confidence=0.95):\n",
    "    a = 1.0 * np.array(data)\n",
    "    n = len(a)\n",
    "    m, se = np.mean(a), scipy.stats.sem(a)\n",
    "    h = se * scipy.stats.t.ppf((1 + confidence) / 2., n-1)\n",
    "    return f'{\"%.2f\"%m} +- {\"%.4f\"%h}'\n",
    "\n",
    "def printacc(score_mat, K = 5, X_Y = None, num_splits=100, disp = False, inv_prop_ = -1):\n",
    "    if X_Y is None: X_Y = tst_X_Y\n",
    "    if inv_prop_ is -1 : inv_prop_ = inv_prop\n",
    "    rand_inds = np.random.permutation(score_mat.shape[0])\n",
    "    bsz = score_mat.shape[0]//num_splits\n",
    "    \n",
    "    metrics = []\n",
    "    for ctr in range(0, score_mat.shape[0], bsz):\n",
    "        cur_rand_inds = rand_inds[ctr:ctr+bsz]\n",
    "        acc = xc_metrics.Metrics(X_Y[cur_rand_inds].tocsr().astype(np.bool), inv_prop_)\n",
    "        metrics.append(np.array(acc.eval(score_mat[cur_rand_inds], K))*100)\n",
    "        \n",
    "    metrics = np.array(metrics)\n",
    "    result = np.empty_like(metrics[0], dtype=object)\n",
    "    \n",
    "    for i in range(result.shape[0]):\n",
    "        for j in range(result.shape[1]):\n",
    "            result[i, j] = mean_confidence_interval(metrics[:, i, j])\n",
    "    df = pd.DataFrame(result)\n",
    "    \n",
    "    if inv_prop_ is None : df.index = ['P', 'nDCG']\n",
    "    else : df.index = ['P', 'nDCG', 'PSP', 'PSnDCG']\n",
    "        \n",
    "    df.columns = [str(i+1) for i in range(K)]\n",
    "    if disp: display(df)\n",
    "    return result"
   ]
  },
  {
   "cell_type": "code",
   "execution_count": 6,
   "metadata": {
    "ExecuteTime": {
     "end_time": "2020-12-01T06:54:52.872992Z",
     "start_time": "2020-12-01T06:54:52.853484Z"
    },
    "code_folding": [
     0,
     23
    ]
   },
   "outputs": [],
   "source": [
    "def restrict_mat(spmat, active_rows = None, active_cols = None, shrink=False):\n",
    "    if active_cols is not None and active_rows is not None:\n",
    "        temp = spmat[active_rows][:,active_cols]\n",
    "    elif active_rows is not None: \n",
    "        temp = spmat[active_rows]\n",
    "        if shrink: \n",
    "            active_cols = np.where(temp.getnnz(0)>0)[0]\n",
    "            temp = temp[:, active_cols]\n",
    "    elif active_cols is not None: \n",
    "        temp = spmat[:,active_cols]\n",
    "        if shrink:\n",
    "            active_rows = np.where(temp.getnnz(1)>0)[0]\n",
    "            temp = temp[active_rows]\n",
    "    else:\n",
    "        if shrink:\n",
    "            active_rows = np.where(spmat.getnnz(1)>0)[0]\n",
    "            active_cols = np.where(spmat.getnnz(0)>0)[0]\n",
    "            temp = spmat[active_rows][:,active_cols]\n",
    "        else:\n",
    "            return spmat, None, None\n",
    "    \n",
    "    return temp, active_rows, active_cols\n",
    "\n",
    "def get_irm_metrics(score_mat, unseen = None, fewshot=None, X_Y=None):\n",
    "    if X_Y is None : X_Y = tst_X_Y\n",
    "    if unseen is None : unseen = unseen_labels\n",
    "    if fewshot is None : fewshot = fewshot_labels\n",
    "        \n",
    "    mask = np.ones(tst_X_Y.shape[1], bool); mask[unseen] = False; seen = np.where(mask)[0]\n",
    "    metrics = {'GZSL' : None, 'SZSL' : None, 'XC' : None}\n",
    "    \n",
    "    print(_c('GZSL metrics (shape=(%d, %d)): '%(X_Y.shape[0], X_Y.shape[1]), attr='bold'))\n",
    "    metrics['GZSL'] = printacc(score_mat, X_Y=X_Y, K=5, inv_prop_=inv_prop)\n",
    "    \n",
    "    temp_X_Y, active_rows, _ = restrict_mat(X_Y, active_rows=None, active_cols=fewshot, shrink=True)\n",
    "    temp_score_mat, _, _     = restrict_mat(score_mat, active_rows=active_rows, active_cols=fewshot, shrink=True)\n",
    "    print(_c('FewShot metrics (shape=(%d, %d)): '%(temp_X_Y.shape[0], temp_X_Y.shape[1]), attr='bold'))\n",
    "    metrics['FewShot'] = printacc(temp_score_mat, X_Y=temp_X_Y, K=5, inv_prop_=None)\n",
    "    \n",
    "    temp_X_Y, active_rows, _ = restrict_mat(X_Y, active_rows=None, active_cols=unseen, shrink=True)\n",
    "    temp_score_mat, _, _     = restrict_mat(score_mat, active_rows=active_rows, active_cols=unseen, shrink=True)\n",
    "    print(_c('SZSL metrics (shape=(%d, %d)): '%(temp_X_Y.shape[0], temp_X_Y.shape[1]), attr='bold'))\n",
    "    metrics['SZSL'] = printacc(temp_score_mat, X_Y=temp_X_Y, K=5, inv_prop_=None)\n",
    "    \n",
    "    temp_X_Y, active_rows, _ = restrict_mat(X_Y, active_rows=None, active_cols=seen, shrink=True)\n",
    "    temp_score_mat, _, _     = restrict_mat(score_mat, active_rows=active_rows, active_cols=seen, shrink=True)\n",
    "    print(_c('XC metrics (shape=(%d, %d)): '%(temp_X_Y.shape[0], temp_X_Y.shape[1]), attr='bold'))\n",
    "    metrics['XC'] = printacc(temp_score_mat, X_Y=temp_X_Y, K=5, inv_prop_=inv_prop[seen])\n",
    "    \n",
    "    del temp_score_mat, temp_X_Y, active_rows\n",
    "    return metrics"
   ]
  },
  {
   "cell_type": "code",
   "execution_count": 7,
   "metadata": {
    "ExecuteTime": {
     "end_time": "2020-12-01T06:54:52.893499Z",
     "start_time": "2020-12-01T06:54:52.874772Z"
    }
   },
   "outputs": [],
   "source": [
    "def spmax(A, B):\n",
    "    BisBigger = A-B\n",
    "    BisBigger.data = np.where(BisBigger.data < 0, 1, 0)\n",
    "    return A - A.multiply(BisBigger) + B.multiply(BisBigger)"
   ]
  },
  {
   "cell_type": "markdown",
   "metadata": {
    "heading_collapsed": true
   },
   "source": [
    "## Binary Readers"
   ]
  },
  {
   "cell_type": "code",
   "execution_count": 8,
   "metadata": {
    "ExecuteTime": {
     "end_time": "2020-10-10T10:44:55.926827Z",
     "start_time": "2020-10-10T10:44:55.915146Z"
    },
    "code_folding": [
     2,
     8,
     21
    ],
    "hidden": true
   },
   "outputs": [],
   "source": [
    "size_dict = {bool : 1, np.int32 : 4, np.float32 : 4, np.int64 : 8}\n",
    "\n",
    "def readbuf(buf, dtype, offset=0, count=1):\n",
    "    val = np.frombuffer(buf, offset=offset, dtype=dtype, count=count)\n",
    "    if count == 1: val = val[0]\n",
    "    offset += size_dict[dtype]*count\n",
    "    return val, offset\n",
    "\n",
    "def read_buf_bin_vecif(buf, dtype, offset = 0, totlen = -1):\n",
    "    if totlen < 0: totlen, offset = readbuf(buf, np.int64, offset, 1)\n",
    "    totlen *= 2\n",
    "    \n",
    "    temp, _ = readbuf(buf, np.int32, offset, totlen)\n",
    "    inds = temp.reshape(-1, 2)[:, 0];\n",
    "    temp, offset = readbuf(buf, dtype, offset, totlen)\n",
    "    data = temp.reshape(-1, 2)[:, 1];\n",
    "    \n",
    "    nr = 1\n",
    "    if inds.shape[0] > 0: nr = inds.max()+1\n",
    "    return csr_matrix((data, inds, [0, len(data)]), (1, nr)), offset\n",
    "\n",
    "def read_buf_bin_vec(buf, dtype, offset = 0, totlen = -1):\n",
    "    if totlen < 0: totlen, offset = readbuf(buf, np.int64, offset, 1)\n",
    "    return readbuf(buf, dtype, offset, totlen)\n",
    "\n",
    "def read_buf_bin_spmat(buf, dtype, offset = 0, old = False):\n",
    "    (nr, nc), offset = readbuf(buf, np.int32, offset, 2)\n",
    "    \n",
    "    size = None\n",
    "    if old: size, offset = read_buf_bin_vec(buf, np.int32, offset, nr)\n",
    "    else: size, offset = read_buf_bin_vec(buf, np.int32, offset)\n",
    "\n",
    "    data = []; inds = []; indptr = np.zeros(nr+1, int)\n",
    "    indptr[1:] = size.cumsum()\n",
    "    totlen = indptr[-1]\n",
    "    temp, offset = read_buf_bin_vecif(buf, dtype, offset, totlen)\n",
    "\n",
    "    return csr_matrix((temp.data, temp.indices, indptr), (nr, nc)), offset\n",
    "\n",
    "def read_bin_spmat(fname, old = False):\n",
    "    buf = open(fname, 'rb').read()\n",
    "    print('loaded bin file in buffer')\n",
    "    spmat, _ = read_buf_bin_spmat(buf, np.float32, 0, old)\n",
    "    return spmat"
   ]
  },
  {
   "cell_type": "code",
   "execution_count": 9,
   "metadata": {
    "ExecuteTime": {
     "end_time": "2020-10-10T10:44:56.463596Z",
     "start_time": "2020-10-10T10:44:56.449262Z"
    },
    "code_folding": [
     0
    ],
    "hidden": true
   },
   "outputs": [],
   "source": [
    "class Node:\n",
    "    is_leaf = None; is_end_leaf = None; is_early_leaf = None; X_routers = None; Y_routers = None;\n",
    "    depth = None; children = None; Y = None; X = None; XY = None; parent = -1;\n",
    "    \n",
    "    def read(self, buf, offset, ind):\n",
    "        self.id = ind\n",
    "            \n",
    "        [self.is_leaf, self.is_early_leaf, self.is_end_leaf], offset = readbuf(buf, bool, offset, 3)\n",
    "        self.depth, offset = readbuf(buf, np.int32, offset, 1)\n",
    "        self.children, offset = read_buf_bin_vec(buf, np.int32, offset)\n",
    "        self.X, offset = read_buf_bin_vecif(buf, np.float32, offset)\n",
    "        self.Y, offset = read_buf_bin_vecif(buf, np.float32, offset)\n",
    "        self.xy_inds, offset = read_buf_bin_vec(buf, np.int32, offset)\n",
    "                \n",
    "        if self.id == 0:\n",
    "            self.XY, offset = read_buf_bin_spmat(buf, np.int32, offset)\n",
    "        \n",
    "        if not self.is_leaf:\n",
    "            self.X_routers, offset = read_buf_bin_spmat(buf, np.float32, offset)\n",
    "            self.Y_routers, offset = read_buf_bin_spmat(buf, np.float32, offset)\n",
    "            \n",
    "        return offset\n",
    "    \n",
    "    def __str__(self):\n",
    "        return  f'id : {self.id}\\nparent : {self.parent}\\nis_leaf : {self.is_leaf}\\nis_early_leaf : {self.is_early_leaf}\\\n",
    "                \\nis_end_leaf : {self.is_end_leaf}\\nchildren : {self.children}\\ndepth : {self.depth}\\nnnz X : {self.X.nnz}\\\n",
    "                \\nnnz Y : {self.Y.nnz}\\nnnz XY : {self.xy_inds.shape[0]}\\n'\n",
    "\n",
    "    def __repr__(self):\n",
    "        return  f'id : {self.id}\\nparent : {self.parent}\\nis_leaf : {self.is_leaf}\\nis_early_leaf : {self.is_early_leaf}\\\n",
    "                \\nis_end_leaf : {self.is_end_leaf}\\nchildren : {self.children}\\ndepth : {self.depth}\\nnnz X : {self.X.nnz}\\\n",
    "                \\nnnz Y : {self.Y.nnz}\\nnnz XY : {self.xy_inds.shape[0]}\\n'\n",
    "    \n",
    "class Tree:\n",
    "    numxf = None; numyf = None; numx = None; numy = None; numxy = None; nodes = None; max_depth = None;\n",
    "    shared_clf = None; ova_clf = None\n",
    "    \n",
    "    def read(self, filename, offset=0):\n",
    "        buf = open(filename, 'rb').read()\n",
    "        \n",
    "        [self.numxf, self.numyf, self.numx, self.numy, self.numxy, numnode], offset = readbuf(buf, np.int32, offset, 6)\n",
    "        self.nodes = np.empty(numnode, dtype=object)\n",
    "        \n",
    "        for i in tqdm(range(numnode)):\n",
    "            nodeid, offset = readbuf(buf, np.int32, offset, 1)\n",
    "            self.nodes[nodeid] = Node()\n",
    "            offset = self.nodes[nodeid].read(buf, offset, nodeid)\n",
    "        \n",
    "        self.shared_clf, offset = read_buf_bin_vecif(buf, np.float32, offset)\n",
    "        self.ova_clf, offset = read_buf_bin_spmat(buf, np.float32, offset)"
   ]
  },
  {
   "cell_type": "code",
   "execution_count": 79,
   "metadata": {
    "hidden": true,
    "scrolled": false
   },
   "outputs": [
    {
     "data": {
      "image/png": "[encoded data removed]",
      "text/plain": [
       "<Figure size 640x440 with 1 Axes>"
      ]
     },
     "metadata": {},
     "output_type": "display_data"
    }
   ],
   "source": [
    "from scipy.interpolate import make_interp_spline, BSpline\n",
    "\n",
    "xnew = np.linspace(x.min(), x.max(), 300) \n",
    "spl = make_interp_spline(x, y, k=1)  # type: BSpline\n",
    "smooth = spl(xnew)\n",
    "\n",
    "# from scipy.ndimage.filters import gaussian_filter1d\n",
    "# ysmoothed = gaussian_filter1d(y, sigma=10)\n",
    "\n",
    "# plt.plot(x, ysmoothed)\n",
    "plt.xlabel('number of training points', fontsize=18)\n",
    "plt.ylabel('number of labels', fontsize=18)\n",
    "plt.xticks(fontsize=14)\n",
    "plt.yticks(fontsize=14)\n",
    "plt.plot(xnew, smooth)\n",
    "plt.yscale('log')\n",
    "plt.subplots_adjust(left=0.15, right=0.9, top=0.9, bottom=0.15)\n",
    "\n",
    "plt.savefig('/mnt/c/Users/t-nilgup/Pictures/ads-label-frequency.png')\n",
    "plt.savefig('/mnt/c/Users/t-nilgup/Pictures/ads-label-frequency.eps')\n",
    "\n",
    "plt.show()"
   ]
  },
  {
   "cell_type": "markdown",
   "metadata": {},
   "source": [
    "## Load Data"
   ]
  },
  {
   "cell_type": "code",
   "execution_count": 10,
   "metadata": {
    "ExecuteTime": {
     "end_time": "2021-02-07T15:57:09.667912Z",
     "start_time": "2021-02-07T15:57:09.628505Z"
    }
   },
   "outputs": [],
   "source": [
    "val_X_Y = read_sparse_mat('%s/val_X_Y.txt'%DATA_DIR)\n",
    "trn_X_Y = read_sparse_mat('%s/trn_X_Y.txt'%DATA_DIR)\n",
    "tst_X_Y = read_sparse_mat('%s/tst_X_Y.txt'%DATA_DIR)\n",
    "if os.path.exists('%s/pos_trn_tst.txt'%DATA_DIR): filter_mat = read_sparse_mat('%s/pos_trn_tst.txt'%DATA_DIR)\n",
    "else : filter_mat = None\n",
    "if os.path.exists('%s/pos_trn_val.txt'%DATA_DIR): val_filter_mat = read_sparse_mat('%s/pos_trn_val.txt'%DATA_DIR)\n",
    "\n",
    "nnz = trn_X_Y.getnnz(0)\n",
    "valid_labels = np.where(nnz > 0)[0]\n",
    "unseen_labels = np.where(nnz == 0)[0]\n",
    "fewshot_labels = np.where((nnz >= 0) & (nnz <= 5))[0]\n",
    "inv_valid_labels = np.vectorize({v : i for i, v in enumerate(valid_labels)}.get)\n",
    "\n",
    "if \"Amazon\" in dataset: A = 0.6; B = 2.6\n",
    "elif \"Wiki\" in dataset: A = 0.5; B = 0.4\n",
    "else : A = 0.55; B = 1.5\n",
    "inv_prop = xc_metrics.compute_inv_propesity(trn_X_Y, A, B)"
   ]
  },
  {
   "cell_type": "code",
   "execution_count": 11,
   "metadata": {},
   "outputs": [],
   "source": [
    "tst_X_Xf = read_sparse_mat(f'{DATA_DIR}/tst_X_Xf.txt')"
   ]
  },
  {
   "cell_type": "code",
   "execution_count": 12,
   "metadata": {
    "ExecuteTime": {
     "end_time": "2020-10-14T12:26:59.505987Z",
     "start_time": "2020-10-14T12:26:51.496706Z"
    },
    "scrolled": true
   },
   "outputs": [
    {
     "name": "stdout",
     "output_type": "stream",
     "text": [
      "loaded bin file in buffer\n"
     ]
    }
   ],
   "source": [
    "sp_pattern_mat = read_bin_spmat(f'{RES_DIR}/model/sparsity_pattern.bin')\n",
    "trn_X_Xf = read_sparse_mat(f'{DATA_DIR}/trn_X_Xf.txt')\n",
    "tst_X_Xf = read_sparse_mat(f'{DATA_DIR}/tst_X_Xf.txt')\n",
    "val_X_Xf = read_sparse_mat(f'{DATA_DIR}/val_X_Xf.txt')\n",
    "Y_Yf = read_sparse_mat(f'{DATA_DIR}/Y_Yf.txt')\n",
    "\n",
    "xfs = [x.strip() for x in open(f'{DATA_DIR}/Xf.txt').readlines()]\n",
    "yfs = [x.strip() for x in open(f'{DATA_DIR}/Yf.txt').readlines()]\n",
    "trn_X = [x.strip() for x in open(f'{DATA_DIR}/raw/trn_X.txt').readlines()]\n",
    "Y = [x.split(';', 1)[0].strip() for x in open(f'{DATA_DIR}/raw/Y.txt').readlines()]\n",
    "tst_X = [x.strip() for x in open(f'{DATA_DIR}/raw/tst_X.txt').readlines()]\n",
    "val_X = [x.strip() for x in open(f'{DATA_DIR}/raw/val_X.txt').readlines()]"
   ]
  },
  {
   "cell_type": "code",
   "execution_count": 34,
   "metadata": {
    "ExecuteTime": {
     "end_time": "2020-10-12T10:16:30.233502Z",
     "start_time": "2020-10-12T10:16:02.614725Z"
    }
   },
   "outputs": [],
   "source": [
    "k=100000\n",
    "\n",
    "inds = np.random.choice(range(tst_X_Xf.shape[0]), size=k, replace=False)\n",
    "np.save(f'{DATA_DIR}/random{k}_tst_inds.npy', inds)\n",
    "write_sparse_mat(tst_X_Xf[inds], f'{DATA_DIR}/random{k}_tst_X_Xf.txt')\n",
    "write_sparse_mat(tst_X_Y[inds], f'{DATA_DIR}/random{k}_tst_X_Y.txt')\n",
    "\n",
    "# inds = np.random.choice(range(trn_X_Xf.shape[0]), size=k, replace=False)\n",
    "# np.save(f'{DATA_DIR}/random{k}_trn_inds.npy', inds)\n",
    "# write_sparse_mat(trn_X_Xf[inds], f'{DATA_DIR}/random{k}_trn_X_Xf.txt')\n",
    "# write_sparse_mat(trn_X_Y[inds], f'{DATA_DIR}/random{k}_trn_X_Y.txt')"
   ]
  },
  {
   "cell_type": "code",
   "execution_count": 35,
   "metadata": {},
   "outputs": [],
   "source": [
    "write_sparse_mat(filter_mat[inds], f'{DATA_DIR}/random{k}_pos_trn_tst.txt')"
   ]
  },
  {
   "cell_type": "markdown",
   "metadata": {
    "heading_collapsed": true
   },
   "source": [
    "## Load tree"
   ]
  },
  {
   "cell_type": "code",
   "execution_count": 218,
   "metadata": {
    "ExecuteTime": {
     "end_time": "2020-10-06T18:13:19.915145Z",
     "start_time": "2020-10-06T18:13:18.809212Z"
    },
    "hidden": true
   },
   "outputs": [
    {
     "name": "stderr",
     "output_type": "stream",
     "text": [
      "100%|██████████| 2791/2791 [00:00<00:00, 2876.48it/s]\n",
      "100%|██████████| 2791/2791 [00:00<00:00, 531669.66it/s]\n"
     ]
    }
   ],
   "source": [
    "tree = Tree()\n",
    "tree.read(f'{RES_DIR}/0.tree.bin')\n",
    "\n",
    "early_leaf_nodes = [i for i in range(tree.nodes.shape[0]) if tree.nodes[i].is_early_leaf]\n",
    "end_leaf_nodes = [i for i in range(tree.nodes.shape[0]) if tree.nodes[i].is_end_leaf]\n",
    "\n",
    "for i, node in enumerate(tree.nodes):\n",
    "    for child in node.children:\n",
    "        tree.nodes[child].parent = i\n",
    "\n",
    "data = []\n",
    "inds = []\n",
    "indptr = [0]\n",
    "for node in tqdm(tree.nodes):\n",
    "    data.append(node.Y.data)\n",
    "    inds.append(node.Y.indices)\n",
    "    indptr.append(indptr[-1]+node.Y.nnz)\n",
    "node_to_label = csr_matrix((np.hstack(data), np.hstack(inds), indptr), (tree.nodes.shape[0], tree.numy))"
   ]
  },
  {
   "cell_type": "markdown",
   "metadata": {},
   "source": [
    "## Evaluate"
   ]
  },
  {
   "cell_type": "code",
   "execution_count": 136,
   "metadata": {
    "ExecuteTime": {
     "end_time": "2020-10-06T15:29:23.557651Z",
     "start_time": "2020-10-06T15:29:22.785439Z"
    }
   },
   "outputs": [],
   "source": [
    "parabel_score_mat = read_sparse_mat(f'/scratch/nilesh/programs/XReg/Source/Results/{dataset}/score_mat.txt', use_xclib=True)"
   ]
  },
  {
   "cell_type": "code",
   "execution_count": 16,
   "metadata": {},
   "outputs": [],
   "source": [
    "all_metrics = {}"
   ]
  },
  {
   "cell_type": "code",
   "execution_count": 14,
   "metadata": {
    "ExecuteTime": {
     "end_time": "2020-10-15T09:35:22.850267Z",
     "start_time": "2020-10-15T09:35:22.831431Z"
    }
   },
   "outputs": [
    {
     "name": "stdout",
     "output_type": "stream",
     "text": [
      "loaded bin file in buffer\n"
     ]
    },
    {
     "ename": "NameError",
     "evalue": "name 'val_filter_mat' is not defined",
     "output_type": "error",
     "traceback": [
      "\u001b[0;31m---------------------------------------------------------------------------\u001b[0m",
      "\u001b[0;31mNameError\u001b[0m                                 Traceback (most recent call last)",
      "\u001b[0;32m<ipython-input-14-c3db2d01a9c6>\u001b[0m in \u001b[0;36m<module>\u001b[0;34m\u001b[0m\n\u001b[0;32m----> 1\u001b[0;31m \u001b[0mval_bilinear_score_mat\u001b[0m \u001b[0;34m=\u001b[0m \u001b[0m_filter\u001b[0m\u001b[0;34m(\u001b[0m\u001b[0mread_bin_spmat\u001b[0m\u001b[0;34m(\u001b[0m\u001b[0;34mf'{RES_DIR}/validation/bilinear_score_mat.bin'\u001b[0m\u001b[0;34m)\u001b[0m\u001b[0;34m.\u001b[0m\u001b[0mcopy\u001b[0m\u001b[0;34m(\u001b[0m\u001b[0;34m)\u001b[0m\u001b[0;34m,\u001b[0m \u001b[0mval_filter_mat\u001b[0m\u001b[0;34m)\u001b[0m\u001b[0;34m\u001b[0m\u001b[0;34m\u001b[0m\u001b[0m\n\u001b[0m\u001b[1;32m      2\u001b[0m \u001b[0mval_knn_score_mat\u001b[0m \u001b[0;34m=\u001b[0m \u001b[0m_filter\u001b[0m\u001b[0;34m(\u001b[0m\u001b[0mread_bin_spmat\u001b[0m\u001b[0;34m(\u001b[0m\u001b[0;34mf'{RES_DIR}/validation/knn_score_mat.bin'\u001b[0m\u001b[0;34m)\u001b[0m\u001b[0;34m.\u001b[0m\u001b[0mcopy\u001b[0m\u001b[0;34m(\u001b[0m\u001b[0;34m)\u001b[0m\u001b[0;34m,\u001b[0m \u001b[0mval_filter_mat\u001b[0m\u001b[0;34m)\u001b[0m\u001b[0;34m\u001b[0m\u001b[0;34m\u001b[0m\u001b[0m\n\u001b[1;32m      3\u001b[0m \u001b[0;34m\u001b[0m\u001b[0m\n\u001b[1;32m      4\u001b[0m \u001b[0;31m# # trn_xshortlist = read_bin_spmat(f'{RES_DIR}/trn_xshortlist.bin')\u001b[0m\u001b[0;34m\u001b[0m\u001b[0;34m\u001b[0m\u001b[0;34m\u001b[0m\u001b[0m\n\u001b[1;32m      5\u001b[0m \u001b[0mval_xshortlist\u001b[0m \u001b[0;34m=\u001b[0m \u001b[0mretain_topk\u001b[0m\u001b[0;34m(\u001b[0m\u001b[0m_filter\u001b[0m\u001b[0;34m(\u001b[0m\u001b[0mread_bin_spmat\u001b[0m\u001b[0;34m(\u001b[0m\u001b[0;34mf'{RES_DIR}/validation/shortlist.bin'\u001b[0m\u001b[0;34m)\u001b[0m\u001b[0;34m.\u001b[0m\u001b[0mcopy\u001b[0m\u001b[0;34m(\u001b[0m\u001b[0;34m)\u001b[0m\u001b[0;34m,\u001b[0m \u001b[0mval_filter_mat\u001b[0m\u001b[0;34m)\u001b[0m\u001b[0;34m,\u001b[0m \u001b[0mk\u001b[0m\u001b[0;34m=\u001b[0m\u001b[0;36m100\u001b[0m\u001b[0;34m)\u001b[0m\u001b[0;34m\u001b[0m\u001b[0;34m\u001b[0m\u001b[0m\n",
      "\u001b[0;31mNameError\u001b[0m: name 'val_filter_mat' is not defined"
     ]
    }
   ],
   "source": [
    "val_bilinear_score_mat = _filter(read_bin_spmat(f'{RES_DIR}/validation/bilinear_score_mat.bin').copy(), val_filter_mat)\n",
    "val_knn_score_mat = _filter(read_bin_spmat(f'{RES_DIR}/validation/knn_score_mat.bin').copy(), val_filter_mat)\n",
    "\n",
    "# # trn_xshortlist = read_bin_spmat(f'{RES_DIR}/trn_xshortlist.bin')\n",
    "val_xshortlist = retain_topk(_filter(read_bin_spmat(f'{RES_DIR}/validation/shortlist.bin').copy(), val_filter_mat), k=100)"
   ]
  },
  {
   "cell_type": "code",
   "execution_count": 109,
   "metadata": {
    "ExecuteTime": {
     "end_time": "2020-10-14T15:06:17.871287Z",
     "start_time": "2020-10-14T15:06:17.861336Z"
    }
   },
   "outputs": [],
   "source": [
    "# score_mat = 0.55*normalize(val_xshortlist, axis=1, norm='max') + 0.45*normalize(val_knn_score_mat, axis=1, norm='max')\n",
    "# score_mat = 0.8*normalize(val_bilinear_score_mat, axis=1, norm='max') + 0.2*normalize(val_knn_score_mat, axis=1, norm='max')\n",
    "score_mat = 0.65*normalize(val_bilinear_score_mat, axis=1, norm='max') + 0.2*normalize(val_knn_score_mat, axis=1, norm='max') + 0.15*normalize(val_clf_score_mat, axis=1, norm='max')"
   ]
  },
  {
   "cell_type": "code",
   "execution_count": 110,
   "metadata": {
    "ExecuteTime": {
     "end_time": "2020-10-15T09:35:24.895273Z",
     "start_time": "2020-10-15T09:35:24.526906Z"
    },
    "scrolled": true
   },
   "outputs": [
    {
     "name": "stdout",
     "output_type": "stream",
     "text": [
      "\u001b[1mGZSL metrics (shape=(142645, 1285321)): \u001b[0m\n"
     ]
    },
    {
     "data": {
      "text/html": [
       "<div>\n",
       "<style scoped>\n",
       "    .dataframe tbody tr th:only-of-type {\n",
       "        vertical-align: middle;\n",
       "    }\n",
       "\n",
       "    .dataframe tbody tr th {\n",
       "        vertical-align: top;\n",
       "    }\n",
       "\n",
       "    .dataframe thead th {\n",
       "        text-align: right;\n",
       "    }\n",
       "</style>\n",
       "<table border=\"1\" class=\"dataframe\">\n",
       "  <thead>\n",
       "    <tr style=\"text-align: right;\">\n",
       "      <th></th>\n",
       "      <th>1</th>\n",
       "      <th>2</th>\n",
       "      <th>3</th>\n",
       "      <th>4</th>\n",
       "      <th>5</th>\n",
       "    </tr>\n",
       "  </thead>\n",
       "  <tbody>\n",
       "    <tr>\n",
       "      <th>P</th>\n",
       "      <td>27.75</td>\n",
       "      <td>23.50</td>\n",
       "      <td>20.34</td>\n",
       "      <td>17.97</td>\n",
       "      <td>16.10</td>\n",
       "    </tr>\n",
       "    <tr>\n",
       "      <th>nDCG</th>\n",
       "      <td>27.75</td>\n",
       "      <td>25.82</td>\n",
       "      <td>25.02</td>\n",
       "      <td>24.82</td>\n",
       "      <td>24.89</td>\n",
       "    </tr>\n",
       "    <tr>\n",
       "      <th>PSP</th>\n",
       "      <td>5.45</td>\n",
       "      <td>7.61</td>\n",
       "      <td>9.63</td>\n",
       "      <td>11.45</td>\n",
       "      <td>13.03</td>\n",
       "    </tr>\n",
       "    <tr>\n",
       "      <th>PSnDCG</th>\n",
       "      <td>5.45</td>\n",
       "      <td>7.12</td>\n",
       "      <td>8.70</td>\n",
       "      <td>10.05</td>\n",
       "      <td>11.14</td>\n",
       "    </tr>\n",
       "  </tbody>\n",
       "</table>\n",
       "</div>"
      ],
      "text/plain": [
       "            1      2      3      4      5\n",
       "P       27.75  23.50  20.34  17.97  16.10\n",
       "nDCG    27.75  25.82  25.02  24.82  24.89\n",
       "PSP      5.45   7.61   9.63  11.45  13.03\n",
       "PSnDCG   5.45   7.12   8.70  10.05  11.14"
      ]
     },
     "metadata": {},
     "output_type": "display_data"
    },
    {
     "name": "stdout",
     "output_type": "stream",
     "text": [
      "\u001b[1mFewShot metrics (shape=(121098, 986826)): \u001b[0m\n"
     ]
    },
    {
     "data": {
      "text/html": [
       "<div>\n",
       "<style scoped>\n",
       "    .dataframe tbody tr th:only-of-type {\n",
       "        vertical-align: middle;\n",
       "    }\n",
       "\n",
       "    .dataframe tbody tr th {\n",
       "        vertical-align: top;\n",
       "    }\n",
       "\n",
       "    .dataframe thead th {\n",
       "        text-align: right;\n",
       "    }\n",
       "</style>\n",
       "<table border=\"1\" class=\"dataframe\">\n",
       "  <thead>\n",
       "    <tr style=\"text-align: right;\">\n",
       "      <th></th>\n",
       "      <th>1</th>\n",
       "      <th>2</th>\n",
       "      <th>3</th>\n",
       "      <th>4</th>\n",
       "      <th>5</th>\n",
       "    </tr>\n",
       "  </thead>\n",
       "  <tbody>\n",
       "    <tr>\n",
       "      <th>P</th>\n",
       "      <td>19.07</td>\n",
       "      <td>14.88</td>\n",
       "      <td>12.21</td>\n",
       "      <td>10.40</td>\n",
       "      <td>9.08</td>\n",
       "    </tr>\n",
       "    <tr>\n",
       "      <th>nDCG</th>\n",
       "      <td>19.07</td>\n",
       "      <td>18.75</td>\n",
       "      <td>19.29</td>\n",
       "      <td>19.94</td>\n",
       "      <td>20.49</td>\n",
       "    </tr>\n",
       "  </tbody>\n",
       "</table>\n",
       "</div>"
      ],
      "text/plain": [
       "          1      2      3      4      5\n",
       "P     19.07  14.88  12.21  10.40   9.08\n",
       "nDCG  19.07  18.75  19.29  19.94  20.49"
      ]
     },
     "metadata": {},
     "output_type": "display_data"
    },
    {
     "name": "stdout",
     "output_type": "stream",
     "text": [
      "\u001b[1mSZSL metrics (shape=(116227, 790214)): \u001b[0m\n"
     ]
    },
    {
     "data": {
      "text/html": [
       "<div>\n",
       "<style scoped>\n",
       "    .dataframe tbody tr th:only-of-type {\n",
       "        vertical-align: middle;\n",
       "    }\n",
       "\n",
       "    .dataframe tbody tr th {\n",
       "        vertical-align: top;\n",
       "    }\n",
       "\n",
       "    .dataframe thead th {\n",
       "        text-align: right;\n",
       "    }\n",
       "</style>\n",
       "<table border=\"1\" class=\"dataframe\">\n",
       "  <thead>\n",
       "    <tr style=\"text-align: right;\">\n",
       "      <th></th>\n",
       "      <th>1</th>\n",
       "      <th>2</th>\n",
       "      <th>3</th>\n",
       "      <th>4</th>\n",
       "      <th>5</th>\n",
       "    </tr>\n",
       "  </thead>\n",
       "  <tbody>\n",
       "    <tr>\n",
       "      <th>P</th>\n",
       "      <td>19.58</td>\n",
       "      <td>15.02</td>\n",
       "      <td>12.22</td>\n",
       "      <td>10.35</td>\n",
       "      <td>9.01</td>\n",
       "    </tr>\n",
       "    <tr>\n",
       "      <th>nDCG</th>\n",
       "      <td>19.58</td>\n",
       "      <td>19.33</td>\n",
       "      <td>19.93</td>\n",
       "      <td>20.61</td>\n",
       "      <td>21.18</td>\n",
       "    </tr>\n",
       "  </tbody>\n",
       "</table>\n",
       "</div>"
      ],
      "text/plain": [
       "          1      2      3      4      5\n",
       "P     19.58  15.02  12.22  10.35   9.01\n",
       "nDCG  19.58  19.33  19.93  20.61  21.18"
      ]
     },
     "metadata": {},
     "output_type": "display_data"
    },
    {
     "name": "stdout",
     "output_type": "stream",
     "text": [
      "\u001b[1mXC metrics (shape=(94262, 495107)): \u001b[0m\n"
     ]
    },
    {
     "data": {
      "text/html": [
       "<div>\n",
       "<style scoped>\n",
       "    .dataframe tbody tr th:only-of-type {\n",
       "        vertical-align: middle;\n",
       "    }\n",
       "\n",
       "    .dataframe tbody tr th {\n",
       "        vertical-align: top;\n",
       "    }\n",
       "\n",
       "    .dataframe thead th {\n",
       "        text-align: right;\n",
       "    }\n",
       "</style>\n",
       "<table border=\"1\" class=\"dataframe\">\n",
       "  <thead>\n",
       "    <tr style=\"text-align: right;\">\n",
       "      <th></th>\n",
       "      <th>1</th>\n",
       "      <th>2</th>\n",
       "      <th>3</th>\n",
       "      <th>4</th>\n",
       "      <th>5</th>\n",
       "    </tr>\n",
       "  </thead>\n",
       "  <tbody>\n",
       "    <tr>\n",
       "      <th>P</th>\n",
       "      <td>39.27</td>\n",
       "      <td>31.86</td>\n",
       "      <td>26.63</td>\n",
       "      <td>22.87</td>\n",
       "      <td>20.04</td>\n",
       "    </tr>\n",
       "    <tr>\n",
       "      <th>nDCG</th>\n",
       "      <td>39.27</td>\n",
       "      <td>36.99</td>\n",
       "      <td>36.09</td>\n",
       "      <td>35.81</td>\n",
       "      <td>35.86</td>\n",
       "    </tr>\n",
       "    <tr>\n",
       "      <th>PSP</th>\n",
       "      <td>16.61</td>\n",
       "      <td>20.13</td>\n",
       "      <td>23.00</td>\n",
       "      <td>25.28</td>\n",
       "      <td>27.12</td>\n",
       "    </tr>\n",
       "    <tr>\n",
       "      <th>PSnDCG</th>\n",
       "      <td>16.61</td>\n",
       "      <td>18.94</td>\n",
       "      <td>20.74</td>\n",
       "      <td>22.04</td>\n",
       "      <td>23.03</td>\n",
       "    </tr>\n",
       "  </tbody>\n",
       "</table>\n",
       "</div>"
      ],
      "text/plain": [
       "            1      2      3      4      5\n",
       "P       39.27  31.86  26.63  22.87  20.04\n",
       "nDCG    39.27  36.99  36.09  35.81  35.86\n",
       "PSP     16.61  20.13  23.00  25.28  27.12\n",
       "PSnDCG  16.61  18.94  20.74  22.04  23.03"
      ]
     },
     "metadata": {},
     "output_type": "display_data"
    }
   ],
   "source": [
    "metrics = get_irm_metrics(score_mat, X_Y=val_X_Y);\n",
    "all_metrics['bi-gen'] = metrics"
   ]
  },
  {
   "cell_type": "code",
   "execution_count": 7,
   "metadata": {
    "ExecuteTime": {
     "end_time": "2020-12-01T06:58:30.041044Z",
     "start_time": "2020-12-01T06:58:30.031830Z"
    }
   },
   "outputs": [],
   "source": [
    "rand_inds = np.load(f'{DATA_DIR}/random100000_tst_inds.npy')"
   ]
  },
  {
   "cell_type": "code",
   "execution_count": 13,
   "metadata": {
    "ExecuteTime": {
     "end_time": "2020-12-02T12:30:32.960171Z",
     "start_time": "2020-12-02T12:20:00.525710Z"
    }
   },
   "outputs": [
    {
     "name": "stdout",
     "output_type": "stream",
     "text": [
      "loaded bin file in buffer\n",
      "loaded bin file in buffer\n",
      "loaded bin file in buffer\n",
      "loaded bin file in buffer\n"
     ]
    }
   ],
   "source": [
    "tst_clf_score_mat = retain_topk(_filter(read_bin_spmat(f'{RES_DIR}/clf_score_mat.bin').copy(), filter_mat), k=100)\n",
    "tst_bilinear_score_mat = retain_topk(_filter(read_bin_spmat(f'{RES_DIR}/bilinear_score_mat.bin').copy(), filter_mat), k=100)\n",
    "tst_knn_score_mat = retain_topk(_filter(read_bin_spmat(f'{RES_DIR}/knn_score_mat.bin').copy(), filter_mat), k=100)\n",
    "\n",
    "# # trn_xshortlist = read_bin_spmat(f'{RES_DIR}/trn_xshortlist.bin')\n",
    "tst_xshortlist = retain_topk(_filter(read_bin_spmat(f'{RES_DIR}/shortlist.bin').copy(), filter_mat), k=100)"
   ]
  },
  {
   "cell_type": "code",
   "execution_count": 14,
   "metadata": {
    "ExecuteTime": {
     "end_time": "2020-12-02T12:30:51.421852Z",
     "start_time": "2020-12-02T12:30:32.961596Z"
    }
   },
   "outputs": [],
   "source": [
    "score_mat = 0.6*tst_bilinear_score_mat + 0.15*tst_knn_score_mat + 0.25*tst_clf_score_mat\n",
    "# score_mat = 0.4*tst_knn_score_mat + 0.6*tst_xshortlist\n",
    "# score_mat = 0.25*tst_knn_score_mat + 0.65*tst_clf_score_mat + 0.1*tst_xshortlist"
   ]
  },
  {
   "cell_type": "code",
   "execution_count": null,
   "metadata": {},
   "outputs": [],
   "source": [
    "rand_inds"
   ]
  },
  {
   "cell_type": "code",
   "execution_count": 18,
   "metadata": {
    "ExecuteTime": {
     "end_time": "2020-12-02T13:12:13.678983Z",
     "start_time": "2020-12-02T13:07:44.542695Z"
    },
    "scrolled": true
   },
   "outputs": [
    {
     "name": "stdout",
     "output_type": "stream",
     "text": [
      "\u001b[1mGZSL metrics (shape=(2705425, 1285321)): \u001b[0m\n",
      "\u001b[1mFewShot metrics (shape=(2294572, 986826)): \u001b[0m\n",
      "\u001b[1mSZSL metrics (shape=(2202574, 790214)): \u001b[0m\n",
      "\u001b[1mXC metrics (shape=(1787090, 495107)): \u001b[0m\n",
      "29.87 +- 0.0661;22.28 +- 0.0394;17.57 +- 0.0529;21.01 +- 0.0583;12.70 +- 0.0282;9.25 +- 0.0245;21.13 +- 0.0662;12.61 +- 0.0261;9.15 +- 0.0165;7.85 +- 0.1260;11.80 +- 0.0937;14.58 +- 0.1196\n"
     ]
    }
   ],
   "source": [
    "metrics = get_irm_metrics(score_mat, X_Y=tst_X_Y);\n",
    "myprint(*metrics['GZSL'][0, [0, 2, 4]], *metrics['FewShot'][0, [0, 2, 4]], *metrics['SZSL'][0, [0, 2, 4]], *metrics['GZSL'][2, [0, 2, 4]], sep=';')"
   ]
  },
  {
   "cell_type": "code",
   "execution_count": 19,
   "metadata": {
    "ExecuteTime": {
     "end_time": "2020-12-02T13:15:40.663629Z",
     "start_time": "2020-12-02T13:12:13.681212Z"
    }
   },
   "outputs": [
    {
     "name": "stdout",
     "output_type": "stream",
     "text": [
      "\u001b[1mGZSL metrics (shape=(2705425, 1285321)): \u001b[0m\n",
      "\u001b[1mFewShot metrics (shape=(2294572, 986826)): \u001b[0m\n",
      "\u001b[1mSZSL metrics (shape=(2202574, 790214)): \u001b[0m\n",
      "\u001b[1mXC metrics (shape=(1787090, 495107)): \u001b[0m\n",
      "18.68 +- 0.0744;11.56 +- 0.0991;8.61 +- 0.0924;18.95 +- 0.0634;11.09 +- 0.0297;8.04 +- 0.0153;19.12 +- 0.0639;11.11 +- 0.0246;8.01 +- 0.0178;17.55 +- 0.0729;15.60 +- 0.1408;16.03 +- 0.1713\n"
     ]
    }
   ],
   "source": [
    "metrics = get_irm_metrics(tst_knn_score_mat, X_Y=tst_X_Y);\n",
    "myprint(*metrics['GZSL'][0, [0, 2, 4]], *metrics['FewShot'][0, [0, 2, 4]], *metrics['SZSL'][0, [0, 2, 4]], *metrics['GZSL'][2, [0, 2, 4]], sep=';')"
   ]
  },
  {
   "cell_type": "code",
   "execution_count": 12,
   "metadata": {},
   "outputs": [
    {
     "name": "stdout",
     "output_type": "stream",
     "text": [
      "30.070 22.469 17.747 21.081 12.696 9.314 21.222 12.597 9.204 7.854 11.788 14.554\n"
     ]
    }
   ],
   "source": [
    "myprint(*metrics['GZSL'][0, [0, 2, 4]], *metrics['FewShot'][0, [0, 2, 4]], *metrics['SZSL'][0, [0, 2, 4]], *metrics['GZSL'][2, [0, 2, 4]])"
   ]
  },
  {
   "cell_type": "code",
   "execution_count": 16,
   "metadata": {
    "ExecuteTime": {
     "end_time": "2020-12-02T13:04:09.266917Z",
     "start_time": "2020-12-02T13:00:21.992016Z"
    }
   },
   "outputs": [],
   "source": [
    "sp.save_npz(f'{RES_DIR}/final_score_mat.npz', score_mat)"
   ]
  },
  {
   "cell_type": "code",
   "execution_count": 75,
   "metadata": {},
   "outputs": [
    {
     "name": "stdout",
     "output_type": "stream",
     "text": [
      "loaded bin file in buffer\n"
     ]
    }
   ],
   "source": [
    "tst_xshortlist = read_bin_spmat(f'{RES_DIR}/shortlist.bin').copy()"
   ]
  },
  {
   "cell_type": "code",
   "execution_count": 94,
   "metadata": {},
   "outputs": [],
   "source": [
    "parabel_score_mat = sp.load_npz(f'/mnt/c/nilesh/score_mat.npz')"
   ]
  },
  {
   "cell_type": "code",
   "execution_count": 13,
   "metadata": {},
   "outputs": [
    {
     "name": "stdout",
     "output_type": "stream",
     "text": [
      "loaded bin file in buffer\n"
     ]
    }
   ],
   "source": [
    "tfidf_xshortlist = read_bin_spmat(f'/mnt/c/nilesh/wiki_tfidf_score_mat.bin').copy()"
   ]
  },
  {
   "cell_type": "code",
   "execution_count": 79,
   "metadata": {},
   "outputs": [],
   "source": [
    "def recall(spmat, X_Y = None, K = [1, 10, 50, 100]):\n",
    "    if X_Y is None : X_Y = tst_X_Y.copy()\n",
    "    X_Y.data[:] = 1\n",
    "    ans = {}\n",
    "    rank_mat = xclib.utils.sparse.rank(spmat)\n",
    "    \n",
    "    for k in K:\n",
    "        temp = rank_mat.copy()\n",
    "        temp.data[temp.data > k] = 0.0\n",
    "        temp.eliminate_zeros()\n",
    "        temp.data[:] = 1.0\n",
    "        intrsxn = temp.multiply(X_Y)\n",
    "\n",
    "        recall = (intrsxn.nnz/X_Y.nnz)\n",
    "        ans['R@%d'%k] = recall*100\n",
    "    \n",
    "    return ans"
   ]
  },
  {
   "cell_type": "code",
   "execution_count": 151,
   "metadata": {
    "scrolled": true
   },
   "outputs": [
    {
     "data": {
      "text/plain": [
       "{'R@50': 30.001787499087367,\n",
       " 'R@100': 32.193865605244675,\n",
       " 'R@500': 32.193865605244675,\n",
       " 'R@1000': 32.193865605244675}"
      ]
     },
     "execution_count": 151,
     "metadata": {},
     "output_type": "execute_result"
    }
   ],
   "source": [
    "recall(parabel_score_mat, X_Y=tst_X_Y[rand_inds], K=[50, 100, 500, 1000])"
   ]
  },
  {
   "cell_type": "code",
   "execution_count": 14,
   "metadata": {},
   "outputs": [],
   "source": [
    "nnz = trn_X_Y.getnnz(0)\n",
    "lbl_freq = np.array(list(zip(np.arange(trn_X_Y.shape[1]), nnz, np.zeros(trn_X_Y.shape[1]))), dtype=object)\n",
    "lbl_freq = lbl_freq[np.argsort(lbl_freq[:, 1])]\n",
    "lbl_freq[:, 2] = np.cumsum(lbl_freq[:, 1])"
   ]
  },
  {
   "cell_type": "code",
   "execution_count": 15,
   "metadata": {},
   "outputs": [
    {
     "name": "stderr",
     "output_type": "stream",
     "text": [
      "/home/nilesh/.local/lib/python3.6/site-packages/ipykernel_launcher.py:2: VisibleDeprecationWarning: Creating an ndarray from ragged nested sequences (which is a list-or-tuple of lists-or-tuples-or ndarrays with different lengths or shapes) is deprecated. If you meant to do this, you must specify 'dtype=object' when creating the ndarray\n",
      "  \n"
     ]
    }
   ],
   "source": [
    "totsum = lbl_freq[-1, 2]\n",
    "deciles = np.array([lbl_freq[(lbl_freq[:, 2] > i*totsum/100) & (lbl_freq[:, 2] <= (i+10)*totsum/100)] for i in range(-10, 100, 10)])"
   ]
  },
  {
   "cell_type": "code",
   "execution_count": 16,
   "metadata": {},
   "outputs": [],
   "source": [
    "decile_mask = np.zeros((deciles.shape[0], trn_X_Y.shape[1]), bool)\n",
    "for i, decile in enumerate(deciles):\n",
    "    decile_mask[i, decile[:, 0].astype(int)] = True"
   ]
  },
  {
   "cell_type": "code",
   "execution_count": 17,
   "metadata": {},
   "outputs": [],
   "source": [
    "axml_score_mat = retain_topk(sp.load_npz('/mnt/c/nilesh/wiki_mats/axml_score_mat.npz')[rand_inds], k=100)"
   ]
  },
  {
   "cell_type": "code",
   "execution_count": 18,
   "metadata": {},
   "outputs": [],
   "source": [
    "parabel_score_mat = retain_topk(sp.load_npz('/mnt/c/nilesh/wiki_mats/parabel_score_mat.npz')[rand_inds], k=100)"
   ]
  },
  {
   "cell_type": "code",
   "execution_count": 19,
   "metadata": {},
   "outputs": [],
   "source": [
    "dismec_score_mat = retain_topk(sp.load_npz('/mnt/c/nilesh/wiki_mats/dismec_score_mat.npz')[rand_inds], k=100)"
   ]
  },
  {
   "cell_type": "code",
   "execution_count": null,
   "metadata": {},
   "outputs": [],
   "source": [
    "all_score_mats = "
   ]
  },
  {
   "cell_type": "code",
   "execution_count": 20,
   "metadata": {},
   "outputs": [],
   "source": [
    "\n",
    "all_score_mats = [('ZestXML', retain_topk(score_mat, k=100, copy=False)),\n",
    "                 ('Tf-Idf', retain_topk(tfidf_xshortlist, k=100, copy=False)),\n",
    "                 ('AttentionXML', axml_score_mat),\n",
    "                 ('Parabel', parabel_score_mat),\n",
    "                 ('DiSMEC', dismec_score_mat)]"
   ]
  },
  {
   "cell_type": "code",
   "execution_count": 35,
   "metadata": {},
   "outputs": [
    {
     "data": {
      "text/plain": [
       "100.0"
      ]
     },
     "execution_count": 35,
     "metadata": {},
     "output_type": "execute_result"
    }
   ],
   "source": [
    "tst_xshortlist.nnz / tst_xshortlist.shape[0]"
   ]
  },
  {
   "cell_type": "code",
   "execution_count": 43,
   "metadata": {},
   "outputs": [],
   "source": [
    "points = {}"
   ]
  },
  {
   "cell_type": "code",
   "execution_count": 44,
   "metadata": {
    "scrolled": true
   },
   "outputs": [
    {
     "name": "stderr",
     "output_type": "stream",
     "text": [
      "\r",
      "0it [00:00, ?it/s]"
     ]
    },
    {
     "name": "stdout",
     "output_type": "stream",
     "text": [
      "Method : ZestXML\n"
     ]
    },
    {
     "name": "stderr",
     "output_type": "stream",
     "text": [
      "10it [03:15, 19.54s/it]\n"
     ]
    },
    {
     "name": "stdout",
     "output_type": "stream",
     "text": [
      "\u001b[1mdecile 0 (shape=(81546, 790214)): \u001b[0m\n"
     ]
    },
    {
     "data": {
      "text/html": [
       "<div>\n",
       "<style scoped>\n",
       "    .dataframe tbody tr th:only-of-type {\n",
       "        vertical-align: middle;\n",
       "    }\n",
       "\n",
       "    .dataframe tbody tr th {\n",
       "        vertical-align: top;\n",
       "    }\n",
       "\n",
       "    .dataframe thead th {\n",
       "        text-align: right;\n",
       "    }\n",
       "</style>\n",
       "<table border=\"1\" class=\"dataframe\">\n",
       "  <thead>\n",
       "    <tr style=\"text-align: right;\">\n",
       "      <th></th>\n",
       "      <th>1</th>\n",
       "      <th>2</th>\n",
       "      <th>3</th>\n",
       "      <th>4</th>\n",
       "      <th>5</th>\n",
       "    </tr>\n",
       "  </thead>\n",
       "  <tbody>\n",
       "    <tr>\n",
       "      <th>P</th>\n",
       "      <td>21.24</td>\n",
       "      <td>15.79</td>\n",
       "      <td>12.60</td>\n",
       "      <td>10.62</td>\n",
       "      <td>9.20</td>\n",
       "    </tr>\n",
       "    <tr>\n",
       "      <th>nDCG</th>\n",
       "      <td>21.24</td>\n",
       "      <td>20.49</td>\n",
       "      <td>20.83</td>\n",
       "      <td>21.44</td>\n",
       "      <td>21.96</td>\n",
       "    </tr>\n",
       "  </tbody>\n",
       "</table>\n",
       "</div>"
      ],
      "text/plain": [
       "          1      2      3      4      5\n",
       "P     21.24  15.79  12.60  10.62   9.20\n",
       "nDCG  21.24  20.49  20.83  21.44  21.96"
      ]
     },
     "metadata": {},
     "output_type": "display_data"
    },
    {
     "name": "stderr",
     "output_type": "stream",
     "text": [
      "10it [02:14, 13.49s/it]"
     ]
    },
    {
     "name": "stdout",
     "output_type": "stream",
     "text": [
      "\u001b[1mdecile 1 (shape=(1361, 13536)): \u001b[0m\n"
     ]
    },
    {
     "name": "stderr",
     "output_type": "stream",
     "text": [
      "\n"
     ]
    },
    {
     "data": {
      "text/html": [
       "<div>\n",
       "<style scoped>\n",
       "    .dataframe tbody tr th:only-of-type {\n",
       "        vertical-align: middle;\n",
       "    }\n",
       "\n",
       "    .dataframe tbody tr th {\n",
       "        vertical-align: top;\n",
       "    }\n",
       "\n",
       "    .dataframe thead th {\n",
       "        text-align: right;\n",
       "    }\n",
       "</style>\n",
       "<table border=\"1\" class=\"dataframe\">\n",
       "  <thead>\n",
       "    <tr style=\"text-align: right;\">\n",
       "      <th></th>\n",
       "      <th>1</th>\n",
       "      <th>2</th>\n",
       "      <th>3</th>\n",
       "      <th>4</th>\n",
       "      <th>5</th>\n",
       "    </tr>\n",
       "  </thead>\n",
       "  <tbody>\n",
       "    <tr>\n",
       "      <th>P</th>\n",
       "      <td>37.55</td>\n",
       "      <td>24.69</td>\n",
       "      <td>17.93</td>\n",
       "      <td>14.03</td>\n",
       "      <td>11.43</td>\n",
       "    </tr>\n",
       "    <tr>\n",
       "      <th>nDCG</th>\n",
       "      <td>37.55</td>\n",
       "      <td>43.34</td>\n",
       "      <td>45.30</td>\n",
       "      <td>46.19</td>\n",
       "      <td>46.56</td>\n",
       "    </tr>\n",
       "  </tbody>\n",
       "</table>\n",
       "</div>"
      ],
      "text/plain": [
       "          1      2      3      4      5\n",
       "P     37.55  24.69  17.93  14.03  11.43\n",
       "nDCG  37.55  43.34  45.30  46.19  46.56"
      ]
     },
     "metadata": {},
     "output_type": "display_data"
    },
    {
     "name": "stderr",
     "output_type": "stream",
     "text": [
      "10it [02:20, 14.00s/it]"
     ]
    },
    {
     "name": "stdout",
     "output_type": "stream",
     "text": [
      "\u001b[1mdecile 2 (shape=(3358, 51177)): \u001b[0m\n"
     ]
    },
    {
     "name": "stderr",
     "output_type": "stream",
     "text": [
      "\n"
     ]
    },
    {
     "data": {
      "text/html": [
       "<div>\n",
       "<style scoped>\n",
       "    .dataframe tbody tr th:only-of-type {\n",
       "        vertical-align: middle;\n",
       "    }\n",
       "\n",
       "    .dataframe tbody tr th {\n",
       "        vertical-align: top;\n",
       "    }\n",
       "\n",
       "    .dataframe thead th {\n",
       "        text-align: right;\n",
       "    }\n",
       "</style>\n",
       "<table border=\"1\" class=\"dataframe\">\n",
       "  <thead>\n",
       "    <tr style=\"text-align: right;\">\n",
       "      <th></th>\n",
       "      <th>1</th>\n",
       "      <th>2</th>\n",
       "      <th>3</th>\n",
       "      <th>4</th>\n",
       "      <th>5</th>\n",
       "    </tr>\n",
       "  </thead>\n",
       "  <tbody>\n",
       "    <tr>\n",
       "      <th>P</th>\n",
       "      <td>30.52</td>\n",
       "      <td>19.40</td>\n",
       "      <td>14.49</td>\n",
       "      <td>11.52</td>\n",
       "      <td>9.57</td>\n",
       "    </tr>\n",
       "    <tr>\n",
       "      <th>nDCG</th>\n",
       "      <td>30.52</td>\n",
       "      <td>34.79</td>\n",
       "      <td>36.98</td>\n",
       "      <td>38.05</td>\n",
       "      <td>38.71</td>\n",
       "    </tr>\n",
       "  </tbody>\n",
       "</table>\n",
       "</div>"
      ],
      "text/plain": [
       "          1      2      3      4      5\n",
       "P     30.52  19.40  14.49  11.52   9.57\n",
       "nDCG  30.52  34.79  36.98  38.05  38.71"
      ]
     },
     "metadata": {},
     "output_type": "display_data"
    },
    {
     "name": "stderr",
     "output_type": "stream",
     "text": [
      "10it [02:25, 14.56s/it]"
     ]
    },
    {
     "name": "stdout",
     "output_type": "stream",
     "text": [
      "\u001b[1mdecile 3 (shape=(3931, 50942)): \u001b[0m\n"
     ]
    },
    {
     "name": "stderr",
     "output_type": "stream",
     "text": [
      "\n"
     ]
    },
    {
     "data": {
      "text/html": [
       "<div>\n",
       "<style scoped>\n",
       "    .dataframe tbody tr th:only-of-type {\n",
       "        vertical-align: middle;\n",
       "    }\n",
       "\n",
       "    .dataframe tbody tr th {\n",
       "        vertical-align: top;\n",
       "    }\n",
       "\n",
       "    .dataframe thead th {\n",
       "        text-align: right;\n",
       "    }\n",
       "</style>\n",
       "<table border=\"1\" class=\"dataframe\">\n",
       "  <thead>\n",
       "    <tr style=\"text-align: right;\">\n",
       "      <th></th>\n",
       "      <th>1</th>\n",
       "      <th>2</th>\n",
       "      <th>3</th>\n",
       "      <th>4</th>\n",
       "      <th>5</th>\n",
       "    </tr>\n",
       "  </thead>\n",
       "  <tbody>\n",
       "    <tr>\n",
       "      <th>P</th>\n",
       "      <td>33.73</td>\n",
       "      <td>21.44</td>\n",
       "      <td>15.76</td>\n",
       "      <td>12.64</td>\n",
       "      <td>10.54</td>\n",
       "    </tr>\n",
       "    <tr>\n",
       "      <th>nDCG</th>\n",
       "      <td>33.73</td>\n",
       "      <td>38.40</td>\n",
       "      <td>40.45</td>\n",
       "      <td>41.76</td>\n",
       "      <td>42.57</td>\n",
       "    </tr>\n",
       "  </tbody>\n",
       "</table>\n",
       "</div>"
      ],
      "text/plain": [
       "          1      2      3      4      5\n",
       "P     33.73  21.44  15.76  12.64  10.54\n",
       "nDCG  33.73  38.40  40.45  41.76  42.57"
      ]
     },
     "metadata": {},
     "output_type": "display_data"
    },
    {
     "name": "stderr",
     "output_type": "stream",
     "text": [
      "10it [02:25, 14.57s/it]"
     ]
    },
    {
     "name": "stdout",
     "output_type": "stream",
     "text": [
      "\u001b[1mdecile 4 (shape=(4122, 44045)): \u001b[0m\n"
     ]
    },
    {
     "name": "stderr",
     "output_type": "stream",
     "text": [
      "\n"
     ]
    },
    {
     "data": {
      "text/html": [
       "<div>\n",
       "<style scoped>\n",
       "    .dataframe tbody tr th:only-of-type {\n",
       "        vertical-align: middle;\n",
       "    }\n",
       "\n",
       "    .dataframe tbody tr th {\n",
       "        vertical-align: top;\n",
       "    }\n",
       "\n",
       "    .dataframe thead th {\n",
       "        text-align: right;\n",
       "    }\n",
       "</style>\n",
       "<table border=\"1\" class=\"dataframe\">\n",
       "  <thead>\n",
       "    <tr style=\"text-align: right;\">\n",
       "      <th></th>\n",
       "      <th>1</th>\n",
       "      <th>2</th>\n",
       "      <th>3</th>\n",
       "      <th>4</th>\n",
       "      <th>5</th>\n",
       "    </tr>\n",
       "  </thead>\n",
       "  <tbody>\n",
       "    <tr>\n",
       "      <th>P</th>\n",
       "      <td>37.48</td>\n",
       "      <td>23.16</td>\n",
       "      <td>16.98</td>\n",
       "      <td>13.40</td>\n",
       "      <td>11.11</td>\n",
       "    </tr>\n",
       "    <tr>\n",
       "      <th>nDCG</th>\n",
       "      <td>37.48</td>\n",
       "      <td>41.87</td>\n",
       "      <td>44.05</td>\n",
       "      <td>45.13</td>\n",
       "      <td>45.85</td>\n",
       "    </tr>\n",
       "  </tbody>\n",
       "</table>\n",
       "</div>"
      ],
      "text/plain": [
       "          1      2      3      4      5\n",
       "P     37.48  23.16  16.98  13.40  11.11\n",
       "nDCG  37.48  41.87  44.05  45.13  45.85"
      ]
     },
     "metadata": {},
     "output_type": "display_data"
    },
    {
     "name": "stderr",
     "output_type": "stream",
     "text": [
      "10it [02:25, 14.59s/it]"
     ]
    },
    {
     "name": "stdout",
     "output_type": "stream",
     "text": [
      "\u001b[1mdecile 5 (shape=(4211, 36912)): \u001b[0m\n"
     ]
    },
    {
     "name": "stderr",
     "output_type": "stream",
     "text": [
      "\n"
     ]
    },
    {
     "data": {
      "text/html": [
       "<div>\n",
       "<style scoped>\n",
       "    .dataframe tbody tr th:only-of-type {\n",
       "        vertical-align: middle;\n",
       "    }\n",
       "\n",
       "    .dataframe tbody tr th {\n",
       "        vertical-align: top;\n",
       "    }\n",
       "\n",
       "    .dataframe thead th {\n",
       "        text-align: right;\n",
       "    }\n",
       "</style>\n",
       "<table border=\"1\" class=\"dataframe\">\n",
       "  <thead>\n",
       "    <tr style=\"text-align: right;\">\n",
       "      <th></th>\n",
       "      <th>1</th>\n",
       "      <th>2</th>\n",
       "      <th>3</th>\n",
       "      <th>4</th>\n",
       "      <th>5</th>\n",
       "    </tr>\n",
       "  </thead>\n",
       "  <tbody>\n",
       "    <tr>\n",
       "      <th>P</th>\n",
       "      <td>38.16</td>\n",
       "      <td>24.20</td>\n",
       "      <td>17.76</td>\n",
       "      <td>13.97</td>\n",
       "      <td>11.49</td>\n",
       "    </tr>\n",
       "    <tr>\n",
       "      <th>nDCG</th>\n",
       "      <td>38.16</td>\n",
       "      <td>43.25</td>\n",
       "      <td>45.49</td>\n",
       "      <td>46.56</td>\n",
       "      <td>47.15</td>\n",
       "    </tr>\n",
       "  </tbody>\n",
       "</table>\n",
       "</div>"
      ],
      "text/plain": [
       "          1      2      3      4      5\n",
       "P     38.16  24.20  17.76  13.97  11.49\n",
       "nDCG  38.16  43.25  45.49  46.56  47.15"
      ]
     },
     "metadata": {},
     "output_type": "display_data"
    },
    {
     "name": "stdout",
     "output_type": "stream",
     "text": [
      "Method : Tf-Idf\n",
      "\u001b[1mdecile 0 (shape=(81546, 790214)): \u001b[0m\n"
     ]
    },
    {
     "data": {
      "text/html": [
       "<div>\n",
       "<style scoped>\n",
       "    .dataframe tbody tr th:only-of-type {\n",
       "        vertical-align: middle;\n",
       "    }\n",
       "\n",
       "    .dataframe tbody tr th {\n",
       "        vertical-align: top;\n",
       "    }\n",
       "\n",
       "    .dataframe thead th {\n",
       "        text-align: right;\n",
       "    }\n",
       "</style>\n",
       "<table border=\"1\" class=\"dataframe\">\n",
       "  <thead>\n",
       "    <tr style=\"text-align: right;\">\n",
       "      <th></th>\n",
       "      <th>1</th>\n",
       "      <th>2</th>\n",
       "      <th>3</th>\n",
       "      <th>4</th>\n",
       "      <th>5</th>\n",
       "    </tr>\n",
       "  </thead>\n",
       "  <tbody>\n",
       "    <tr>\n",
       "      <th>P</th>\n",
       "      <td>19.03</td>\n",
       "      <td>14.02</td>\n",
       "      <td>11.14</td>\n",
       "      <td>9.31</td>\n",
       "      <td>8.04</td>\n",
       "    </tr>\n",
       "    <tr>\n",
       "      <th>nDCG</th>\n",
       "      <td>19.03</td>\n",
       "      <td>18.29</td>\n",
       "      <td>18.61</td>\n",
       "      <td>19.09</td>\n",
       "      <td>19.55</td>\n",
       "    </tr>\n",
       "  </tbody>\n",
       "</table>\n",
       "</div>"
      ],
      "text/plain": [
       "          1      2      3      4      5\n",
       "P     19.03  14.02  11.14   9.31   8.04\n",
       "nDCG  19.03  18.29  18.61  19.09  19.55"
      ]
     },
     "metadata": {},
     "output_type": "display_data"
    },
    {
     "name": "stdout",
     "output_type": "stream",
     "text": [
      "\u001b[1mdecile 1 (shape=(1361, 13536)): \u001b[0m\n"
     ]
    },
    {
     "data": {
      "text/html": [
       "<div>\n",
       "<style scoped>\n",
       "    .dataframe tbody tr th:only-of-type {\n",
       "        vertical-align: middle;\n",
       "    }\n",
       "\n",
       "    .dataframe tbody tr th {\n",
       "        vertical-align: top;\n",
       "    }\n",
       "\n",
       "    .dataframe thead th {\n",
       "        text-align: right;\n",
       "    }\n",
       "</style>\n",
       "<table border=\"1\" class=\"dataframe\">\n",
       "  <thead>\n",
       "    <tr style=\"text-align: right;\">\n",
       "      <th></th>\n",
       "      <th>1</th>\n",
       "      <th>2</th>\n",
       "      <th>3</th>\n",
       "      <th>4</th>\n",
       "      <th>5</th>\n",
       "    </tr>\n",
       "  </thead>\n",
       "  <tbody>\n",
       "    <tr>\n",
       "      <th>P</th>\n",
       "      <td>37.91</td>\n",
       "      <td>21.68</td>\n",
       "      <td>14.89</td>\n",
       "      <td>11.26</td>\n",
       "      <td>9.05</td>\n",
       "    </tr>\n",
       "    <tr>\n",
       "      <th>nDCG</th>\n",
       "      <td>37.91</td>\n",
       "      <td>39.65</td>\n",
       "      <td>40.12</td>\n",
       "      <td>40.21</td>\n",
       "      <td>40.26</td>\n",
       "    </tr>\n",
       "  </tbody>\n",
       "</table>\n",
       "</div>"
      ],
      "text/plain": [
       "          1      2      3      4      5\n",
       "P     37.91  21.68  14.89  11.26   9.05\n",
       "nDCG  37.91  39.65  40.12  40.21  40.26"
      ]
     },
     "metadata": {},
     "output_type": "display_data"
    },
    {
     "name": "stdout",
     "output_type": "stream",
     "text": [
      "\u001b[1mdecile 2 (shape=(3358, 51177)): \u001b[0m\n"
     ]
    },
    {
     "data": {
      "text/html": [
       "<div>\n",
       "<style scoped>\n",
       "    .dataframe tbody tr th:only-of-type {\n",
       "        vertical-align: middle;\n",
       "    }\n",
       "\n",
       "    .dataframe tbody tr th {\n",
       "        vertical-align: top;\n",
       "    }\n",
       "\n",
       "    .dataframe thead th {\n",
       "        text-align: right;\n",
       "    }\n",
       "</style>\n",
       "<table border=\"1\" class=\"dataframe\">\n",
       "  <thead>\n",
       "    <tr style=\"text-align: right;\">\n",
       "      <th></th>\n",
       "      <th>1</th>\n",
       "      <th>2</th>\n",
       "      <th>3</th>\n",
       "      <th>4</th>\n",
       "      <th>5</th>\n",
       "    </tr>\n",
       "  </thead>\n",
       "  <tbody>\n",
       "    <tr>\n",
       "      <th>P</th>\n",
       "      <td>24.99</td>\n",
       "      <td>15.02</td>\n",
       "      <td>10.59</td>\n",
       "      <td>8.11</td>\n",
       "      <td>6.56</td>\n",
       "    </tr>\n",
       "    <tr>\n",
       "      <th>nDCG</th>\n",
       "      <td>24.99</td>\n",
       "      <td>27.52</td>\n",
       "      <td>28.32</td>\n",
       "      <td>28.58</td>\n",
       "      <td>28.70</td>\n",
       "    </tr>\n",
       "  </tbody>\n",
       "</table>\n",
       "</div>"
      ],
      "text/plain": [
       "          1      2      3      4      5\n",
       "P     24.99  15.02  10.59   8.11   6.56\n",
       "nDCG  24.99  27.52  28.32  28.58  28.70"
      ]
     },
     "metadata": {},
     "output_type": "display_data"
    },
    {
     "name": "stdout",
     "output_type": "stream",
     "text": [
      "\u001b[1mdecile 3 (shape=(3931, 50942)): \u001b[0m\n"
     ]
    },
    {
     "data": {
      "text/html": [
       "<div>\n",
       "<style scoped>\n",
       "    .dataframe tbody tr th:only-of-type {\n",
       "        vertical-align: middle;\n",
       "    }\n",
       "\n",
       "    .dataframe tbody tr th {\n",
       "        vertical-align: top;\n",
       "    }\n",
       "\n",
       "    .dataframe thead th {\n",
       "        text-align: right;\n",
       "    }\n",
       "</style>\n",
       "<table border=\"1\" class=\"dataframe\">\n",
       "  <thead>\n",
       "    <tr style=\"text-align: right;\">\n",
       "      <th></th>\n",
       "      <th>1</th>\n",
       "      <th>2</th>\n",
       "      <th>3</th>\n",
       "      <th>4</th>\n",
       "      <th>5</th>\n",
       "    </tr>\n",
       "  </thead>\n",
       "  <tbody>\n",
       "    <tr>\n",
       "      <th>P</th>\n",
       "      <td>26.0</td>\n",
       "      <td>15.45</td>\n",
       "      <td>10.96</td>\n",
       "      <td>8.41</td>\n",
       "      <td>6.83</td>\n",
       "    </tr>\n",
       "    <tr>\n",
       "      <th>nDCG</th>\n",
       "      <td>26.0</td>\n",
       "      <td>28.24</td>\n",
       "      <td>29.17</td>\n",
       "      <td>29.47</td>\n",
       "      <td>29.67</td>\n",
       "    </tr>\n",
       "  </tbody>\n",
       "</table>\n",
       "</div>"
      ],
      "text/plain": [
       "         1      2      3      4      5\n",
       "P     26.0  15.45  10.96   8.41   6.83\n",
       "nDCG  26.0  28.24  29.17  29.47  29.67"
      ]
     },
     "metadata": {},
     "output_type": "display_data"
    },
    {
     "name": "stdout",
     "output_type": "stream",
     "text": [
      "\u001b[1mdecile 4 (shape=(4122, 44045)): \u001b[0m\n"
     ]
    },
    {
     "data": {
      "text/html": [
       "<div>\n",
       "<style scoped>\n",
       "    .dataframe tbody tr th:only-of-type {\n",
       "        vertical-align: middle;\n",
       "    }\n",
       "\n",
       "    .dataframe tbody tr th {\n",
       "        vertical-align: top;\n",
       "    }\n",
       "\n",
       "    .dataframe thead th {\n",
       "        text-align: right;\n",
       "    }\n",
       "</style>\n",
       "<table border=\"1\" class=\"dataframe\">\n",
       "  <thead>\n",
       "    <tr style=\"text-align: right;\">\n",
       "      <th></th>\n",
       "      <th>1</th>\n",
       "      <th>2</th>\n",
       "      <th>3</th>\n",
       "      <th>4</th>\n",
       "      <th>5</th>\n",
       "    </tr>\n",
       "  </thead>\n",
       "  <tbody>\n",
       "    <tr>\n",
       "      <th>P</th>\n",
       "      <td>24.84</td>\n",
       "      <td>14.77</td>\n",
       "      <td>10.45</td>\n",
       "      <td>8.03</td>\n",
       "      <td>6.49</td>\n",
       "    </tr>\n",
       "    <tr>\n",
       "      <th>nDCG</th>\n",
       "      <td>24.84</td>\n",
       "      <td>27.10</td>\n",
       "      <td>27.94</td>\n",
       "      <td>28.26</td>\n",
       "      <td>28.37</td>\n",
       "    </tr>\n",
       "  </tbody>\n",
       "</table>\n",
       "</div>"
      ],
      "text/plain": [
       "          1      2      3      4      5\n",
       "P     24.84  14.77  10.45   8.03   6.49\n",
       "nDCG  24.84  27.10  27.94  28.26  28.37"
      ]
     },
     "metadata": {},
     "output_type": "display_data"
    },
    {
     "name": "stdout",
     "output_type": "stream",
     "text": [
      "\u001b[1mdecile 5 (shape=(4211, 36912)): \u001b[0m\n"
     ]
    },
    {
     "data": {
      "text/html": [
       "<div>\n",
       "<style scoped>\n",
       "    .dataframe tbody tr th:only-of-type {\n",
       "        vertical-align: middle;\n",
       "    }\n",
       "\n",
       "    .dataframe tbody tr th {\n",
       "        vertical-align: top;\n",
       "    }\n",
       "\n",
       "    .dataframe thead th {\n",
       "        text-align: right;\n",
       "    }\n",
       "</style>\n",
       "<table border=\"1\" class=\"dataframe\">\n",
       "  <thead>\n",
       "    <tr style=\"text-align: right;\">\n",
       "      <th></th>\n",
       "      <th>1</th>\n",
       "      <th>2</th>\n",
       "      <th>3</th>\n",
       "      <th>4</th>\n",
       "      <th>5</th>\n",
       "    </tr>\n",
       "  </thead>\n",
       "  <tbody>\n",
       "    <tr>\n",
       "      <th>P</th>\n",
       "      <td>24.91</td>\n",
       "      <td>15.12</td>\n",
       "      <td>10.70</td>\n",
       "      <td>8.20</td>\n",
       "      <td>6.64</td>\n",
       "    </tr>\n",
       "    <tr>\n",
       "      <th>nDCG</th>\n",
       "      <td>24.91</td>\n",
       "      <td>27.40</td>\n",
       "      <td>28.28</td>\n",
       "      <td>28.55</td>\n",
       "      <td>28.69</td>\n",
       "    </tr>\n",
       "  </tbody>\n",
       "</table>\n",
       "</div>"
      ],
      "text/plain": [
       "          1      2      3      4      5\n",
       "P     24.91  15.12  10.70   8.20   6.64\n",
       "nDCG  24.91  27.40  28.28  28.55  28.69"
      ]
     },
     "metadata": {},
     "output_type": "display_data"
    },
    {
     "name": "stdout",
     "output_type": "stream",
     "text": [
      "Method : AttentionXML\n",
      "\u001b[1mdecile 0 (shape=(81546, 790214)): \u001b[0m\n"
     ]
    },
    {
     "data": {
      "text/html": [
       "<div>\n",
       "<style scoped>\n",
       "    .dataframe tbody tr th:only-of-type {\n",
       "        vertical-align: middle;\n",
       "    }\n",
       "\n",
       "    .dataframe tbody tr th {\n",
       "        vertical-align: top;\n",
       "    }\n",
       "\n",
       "    .dataframe thead th {\n",
       "        text-align: right;\n",
       "    }\n",
       "</style>\n",
       "<table border=\"1\" class=\"dataframe\">\n",
       "  <thead>\n",
       "    <tr style=\"text-align: right;\">\n",
       "      <th></th>\n",
       "      <th>1</th>\n",
       "      <th>2</th>\n",
       "      <th>3</th>\n",
       "      <th>4</th>\n",
       "      <th>5</th>\n",
       "    </tr>\n",
       "  </thead>\n",
       "  <tbody>\n",
       "    <tr>\n",
       "      <th>P</th>\n",
       "      <td>0.0</td>\n",
       "      <td>0.0</td>\n",
       "      <td>0.0</td>\n",
       "      <td>0.0</td>\n",
       "      <td>0.0</td>\n",
       "    </tr>\n",
       "    <tr>\n",
       "      <th>nDCG</th>\n",
       "      <td>0.0</td>\n",
       "      <td>0.0</td>\n",
       "      <td>0.0</td>\n",
       "      <td>0.0</td>\n",
       "      <td>0.0</td>\n",
       "    </tr>\n",
       "  </tbody>\n",
       "</table>\n",
       "</div>"
      ],
      "text/plain": [
       "        1    2    3    4    5\n",
       "P     0.0  0.0  0.0  0.0  0.0\n",
       "nDCG  0.0  0.0  0.0  0.0  0.0"
      ]
     },
     "metadata": {},
     "output_type": "display_data"
    },
    {
     "name": "stdout",
     "output_type": "stream",
     "text": [
      "\u001b[1mdecile 1 (shape=(1361, 13536)): \u001b[0m\n"
     ]
    },
    {
     "data": {
      "text/html": [
       "<div>\n",
       "<style scoped>\n",
       "    .dataframe tbody tr th:only-of-type {\n",
       "        vertical-align: middle;\n",
       "    }\n",
       "\n",
       "    .dataframe tbody tr th {\n",
       "        vertical-align: top;\n",
       "    }\n",
       "\n",
       "    .dataframe thead th {\n",
       "        text-align: right;\n",
       "    }\n",
       "</style>\n",
       "<table border=\"1\" class=\"dataframe\">\n",
       "  <thead>\n",
       "    <tr style=\"text-align: right;\">\n",
       "      <th></th>\n",
       "      <th>1</th>\n",
       "      <th>2</th>\n",
       "      <th>3</th>\n",
       "      <th>4</th>\n",
       "      <th>5</th>\n",
       "    </tr>\n",
       "  </thead>\n",
       "  <tbody>\n",
       "    <tr>\n",
       "      <th>P</th>\n",
       "      <td>25.13</td>\n",
       "      <td>15.03</td>\n",
       "      <td>10.63</td>\n",
       "      <td>8.10</td>\n",
       "      <td>6.54</td>\n",
       "    </tr>\n",
       "    <tr>\n",
       "      <th>nDCG</th>\n",
       "      <td>25.13</td>\n",
       "      <td>27.11</td>\n",
       "      <td>27.87</td>\n",
       "      <td>28.03</td>\n",
       "      <td>28.11</td>\n",
       "    </tr>\n",
       "  </tbody>\n",
       "</table>\n",
       "</div>"
      ],
      "text/plain": [
       "          1      2      3      4      5\n",
       "P     25.13  15.03  10.63   8.10   6.54\n",
       "nDCG  25.13  27.11  27.87  28.03  28.11"
      ]
     },
     "metadata": {},
     "output_type": "display_data"
    },
    {
     "name": "stdout",
     "output_type": "stream",
     "text": [
      "\u001b[1mdecile 2 (shape=(3358, 51177)): \u001b[0m\n"
     ]
    },
    {
     "data": {
      "text/html": [
       "<div>\n",
       "<style scoped>\n",
       "    .dataframe tbody tr th:only-of-type {\n",
       "        vertical-align: middle;\n",
       "    }\n",
       "\n",
       "    .dataframe tbody tr th {\n",
       "        vertical-align: top;\n",
       "    }\n",
       "\n",
       "    .dataframe thead th {\n",
       "        text-align: right;\n",
       "    }\n",
       "</style>\n",
       "<table border=\"1\" class=\"dataframe\">\n",
       "  <thead>\n",
       "    <tr style=\"text-align: right;\">\n",
       "      <th></th>\n",
       "      <th>1</th>\n",
       "      <th>2</th>\n",
       "      <th>3</th>\n",
       "      <th>4</th>\n",
       "      <th>5</th>\n",
       "    </tr>\n",
       "  </thead>\n",
       "  <tbody>\n",
       "    <tr>\n",
       "      <th>P</th>\n",
       "      <td>27.7</td>\n",
       "      <td>16.71</td>\n",
       "      <td>11.85</td>\n",
       "      <td>9.17</td>\n",
       "      <td>7.44</td>\n",
       "    </tr>\n",
       "    <tr>\n",
       "      <th>nDCG</th>\n",
       "      <td>27.7</td>\n",
       "      <td>30.28</td>\n",
       "      <td>31.27</td>\n",
       "      <td>31.71</td>\n",
       "      <td>31.89</td>\n",
       "    </tr>\n",
       "  </tbody>\n",
       "</table>\n",
       "</div>"
      ],
      "text/plain": [
       "         1      2      3      4      5\n",
       "P     27.7  16.71  11.85   9.17   7.44\n",
       "nDCG  27.7  30.28  31.27  31.71  31.89"
      ]
     },
     "metadata": {},
     "output_type": "display_data"
    },
    {
     "name": "stdout",
     "output_type": "stream",
     "text": [
      "\u001b[1mdecile 3 (shape=(3931, 50942)): \u001b[0m\n"
     ]
    },
    {
     "data": {
      "text/html": [
       "<div>\n",
       "<style scoped>\n",
       "    .dataframe tbody tr th:only-of-type {\n",
       "        vertical-align: middle;\n",
       "    }\n",
       "\n",
       "    .dataframe tbody tr th {\n",
       "        vertical-align: top;\n",
       "    }\n",
       "\n",
       "    .dataframe thead th {\n",
       "        text-align: right;\n",
       "    }\n",
       "</style>\n",
       "<table border=\"1\" class=\"dataframe\">\n",
       "  <thead>\n",
       "    <tr style=\"text-align: right;\">\n",
       "      <th></th>\n",
       "      <th>1</th>\n",
       "      <th>2</th>\n",
       "      <th>3</th>\n",
       "      <th>4</th>\n",
       "      <th>5</th>\n",
       "    </tr>\n",
       "  </thead>\n",
       "  <tbody>\n",
       "    <tr>\n",
       "      <th>P</th>\n",
       "      <td>36.48</td>\n",
       "      <td>21.69</td>\n",
       "      <td>15.39</td>\n",
       "      <td>11.83</td>\n",
       "      <td>9.6</td>\n",
       "    </tr>\n",
       "    <tr>\n",
       "      <th>nDCG</th>\n",
       "      <td>36.48</td>\n",
       "      <td>39.70</td>\n",
       "      <td>40.91</td>\n",
       "      <td>41.35</td>\n",
       "      <td>41.6</td>\n",
       "    </tr>\n",
       "  </tbody>\n",
       "</table>\n",
       "</div>"
      ],
      "text/plain": [
       "          1      2      3      4     5\n",
       "P     36.48  21.69  15.39  11.83   9.6\n",
       "nDCG  36.48  39.70  40.91  41.35  41.6"
      ]
     },
     "metadata": {},
     "output_type": "display_data"
    },
    {
     "name": "stdout",
     "output_type": "stream",
     "text": [
      "\u001b[1mdecile 4 (shape=(4122, 44045)): \u001b[0m\n"
     ]
    },
    {
     "data": {
      "text/html": [
       "<div>\n",
       "<style scoped>\n",
       "    .dataframe tbody tr th:only-of-type {\n",
       "        vertical-align: middle;\n",
       "    }\n",
       "\n",
       "    .dataframe tbody tr th {\n",
       "        vertical-align: top;\n",
       "    }\n",
       "\n",
       "    .dataframe thead th {\n",
       "        text-align: right;\n",
       "    }\n",
       "</style>\n",
       "<table border=\"1\" class=\"dataframe\">\n",
       "  <thead>\n",
       "    <tr style=\"text-align: right;\">\n",
       "      <th></th>\n",
       "      <th>1</th>\n",
       "      <th>2</th>\n",
       "      <th>3</th>\n",
       "      <th>4</th>\n",
       "      <th>5</th>\n",
       "    </tr>\n",
       "  </thead>\n",
       "  <tbody>\n",
       "    <tr>\n",
       "      <th>P</th>\n",
       "      <td>41.56</td>\n",
       "      <td>24.37</td>\n",
       "      <td>17.14</td>\n",
       "      <td>13.21</td>\n",
       "      <td>10.70</td>\n",
       "    </tr>\n",
       "    <tr>\n",
       "      <th>nDCG</th>\n",
       "      <td>41.56</td>\n",
       "      <td>44.69</td>\n",
       "      <td>45.85</td>\n",
       "      <td>46.41</td>\n",
       "      <td>46.65</td>\n",
       "    </tr>\n",
       "  </tbody>\n",
       "</table>\n",
       "</div>"
      ],
      "text/plain": [
       "          1      2      3      4      5\n",
       "P     41.56  24.37  17.14  13.21  10.70\n",
       "nDCG  41.56  44.69  45.85  46.41  46.65"
      ]
     },
     "metadata": {},
     "output_type": "display_data"
    },
    {
     "name": "stdout",
     "output_type": "stream",
     "text": [
      "\u001b[1mdecile 5 (shape=(4211, 36912)): \u001b[0m\n"
     ]
    },
    {
     "data": {
      "text/html": [
       "<div>\n",
       "<style scoped>\n",
       "    .dataframe tbody tr th:only-of-type {\n",
       "        vertical-align: middle;\n",
       "    }\n",
       "\n",
       "    .dataframe tbody tr th {\n",
       "        vertical-align: top;\n",
       "    }\n",
       "\n",
       "    .dataframe thead th {\n",
       "        text-align: right;\n",
       "    }\n",
       "</style>\n",
       "<table border=\"1\" class=\"dataframe\">\n",
       "  <thead>\n",
       "    <tr style=\"text-align: right;\">\n",
       "      <th></th>\n",
       "      <th>1</th>\n",
       "      <th>2</th>\n",
       "      <th>3</th>\n",
       "      <th>4</th>\n",
       "      <th>5</th>\n",
       "    </tr>\n",
       "  </thead>\n",
       "  <tbody>\n",
       "    <tr>\n",
       "      <th>P</th>\n",
       "      <td>44.19</td>\n",
       "      <td>26.06</td>\n",
       "      <td>18.26</td>\n",
       "      <td>14.13</td>\n",
       "      <td>11.42</td>\n",
       "    </tr>\n",
       "    <tr>\n",
       "      <th>nDCG</th>\n",
       "      <td>44.19</td>\n",
       "      <td>47.53</td>\n",
       "      <td>48.71</td>\n",
       "      <td>49.39</td>\n",
       "      <td>49.59</td>\n",
       "    </tr>\n",
       "  </tbody>\n",
       "</table>\n",
       "</div>"
      ],
      "text/plain": [
       "          1      2      3      4      5\n",
       "P     44.19  26.06  18.26  14.13  11.42\n",
       "nDCG  44.19  47.53  48.71  49.39  49.59"
      ]
     },
     "metadata": {},
     "output_type": "display_data"
    },
    {
     "name": "stdout",
     "output_type": "stream",
     "text": [
      "Method : Parabel\n",
      "\u001b[1mdecile 0 (shape=(81546, 790214)): \u001b[0m\n"
     ]
    },
    {
     "data": {
      "text/html": [
       "<div>\n",
       "<style scoped>\n",
       "    .dataframe tbody tr th:only-of-type {\n",
       "        vertical-align: middle;\n",
       "    }\n",
       "\n",
       "    .dataframe tbody tr th {\n",
       "        vertical-align: top;\n",
       "    }\n",
       "\n",
       "    .dataframe thead th {\n",
       "        text-align: right;\n",
       "    }\n",
       "</style>\n",
       "<table border=\"1\" class=\"dataframe\">\n",
       "  <thead>\n",
       "    <tr style=\"text-align: right;\">\n",
       "      <th></th>\n",
       "      <th>1</th>\n",
       "      <th>2</th>\n",
       "      <th>3</th>\n",
       "      <th>4</th>\n",
       "      <th>5</th>\n",
       "    </tr>\n",
       "  </thead>\n",
       "  <tbody>\n",
       "    <tr>\n",
       "      <th>P</th>\n",
       "      <td>0.0</td>\n",
       "      <td>0.0</td>\n",
       "      <td>0.0</td>\n",
       "      <td>0.0</td>\n",
       "      <td>0.0</td>\n",
       "    </tr>\n",
       "    <tr>\n",
       "      <th>nDCG</th>\n",
       "      <td>0.0</td>\n",
       "      <td>0.0</td>\n",
       "      <td>0.0</td>\n",
       "      <td>0.0</td>\n",
       "      <td>0.0</td>\n",
       "    </tr>\n",
       "  </tbody>\n",
       "</table>\n",
       "</div>"
      ],
      "text/plain": [
       "        1    2    3    4    5\n",
       "P     0.0  0.0  0.0  0.0  0.0\n",
       "nDCG  0.0  0.0  0.0  0.0  0.0"
      ]
     },
     "metadata": {},
     "output_type": "display_data"
    },
    {
     "name": "stdout",
     "output_type": "stream",
     "text": [
      "\u001b[1mdecile 1 (shape=(1361, 13536)): \u001b[0m\n"
     ]
    },
    {
     "data": {
      "text/html": [
       "<div>\n",
       "<style scoped>\n",
       "    .dataframe tbody tr th:only-of-type {\n",
       "        vertical-align: middle;\n",
       "    }\n",
       "\n",
       "    .dataframe tbody tr th {\n",
       "        vertical-align: top;\n",
       "    }\n",
       "\n",
       "    .dataframe thead th {\n",
       "        text-align: right;\n",
       "    }\n",
       "</style>\n",
       "<table border=\"1\" class=\"dataframe\">\n",
       "  <thead>\n",
       "    <tr style=\"text-align: right;\">\n",
       "      <th></th>\n",
       "      <th>1</th>\n",
       "      <th>2</th>\n",
       "      <th>3</th>\n",
       "      <th>4</th>\n",
       "      <th>5</th>\n",
       "    </tr>\n",
       "  </thead>\n",
       "  <tbody>\n",
       "    <tr>\n",
       "      <th>P</th>\n",
       "      <td>18.44</td>\n",
       "      <td>11.09</td>\n",
       "      <td>7.76</td>\n",
       "      <td>5.95</td>\n",
       "      <td>4.91</td>\n",
       "    </tr>\n",
       "    <tr>\n",
       "      <th>nDCG</th>\n",
       "      <td>18.44</td>\n",
       "      <td>19.82</td>\n",
       "      <td>20.25</td>\n",
       "      <td>20.45</td>\n",
       "      <td>20.70</td>\n",
       "    </tr>\n",
       "  </tbody>\n",
       "</table>\n",
       "</div>"
      ],
      "text/plain": [
       "          1      2      3      4      5\n",
       "P     18.44  11.09   7.76   5.95   4.91\n",
       "nDCG  18.44  19.82  20.25  20.45  20.70"
      ]
     },
     "metadata": {},
     "output_type": "display_data"
    },
    {
     "name": "stdout",
     "output_type": "stream",
     "text": [
      "\u001b[1mdecile 2 (shape=(3358, 51177)): \u001b[0m\n"
     ]
    },
    {
     "data": {
      "text/html": [
       "<div>\n",
       "<style scoped>\n",
       "    .dataframe tbody tr th:only-of-type {\n",
       "        vertical-align: middle;\n",
       "    }\n",
       "\n",
       "    .dataframe tbody tr th {\n",
       "        vertical-align: top;\n",
       "    }\n",
       "\n",
       "    .dataframe thead th {\n",
       "        text-align: right;\n",
       "    }\n",
       "</style>\n",
       "<table border=\"1\" class=\"dataframe\">\n",
       "  <thead>\n",
       "    <tr style=\"text-align: right;\">\n",
       "      <th></th>\n",
       "      <th>1</th>\n",
       "      <th>2</th>\n",
       "      <th>3</th>\n",
       "      <th>4</th>\n",
       "      <th>5</th>\n",
       "    </tr>\n",
       "  </thead>\n",
       "  <tbody>\n",
       "    <tr>\n",
       "      <th>P</th>\n",
       "      <td>17.99</td>\n",
       "      <td>10.80</td>\n",
       "      <td>7.83</td>\n",
       "      <td>6.25</td>\n",
       "      <td>5.20</td>\n",
       "    </tr>\n",
       "    <tr>\n",
       "      <th>nDCG</th>\n",
       "      <td>17.99</td>\n",
       "      <td>19.57</td>\n",
       "      <td>20.44</td>\n",
       "      <td>21.07</td>\n",
       "      <td>21.43</td>\n",
       "    </tr>\n",
       "  </tbody>\n",
       "</table>\n",
       "</div>"
      ],
      "text/plain": [
       "          1      2      3      4      5\n",
       "P     17.99  10.80   7.83   6.25   5.20\n",
       "nDCG  17.99  19.57  20.44  21.07  21.43"
      ]
     },
     "metadata": {},
     "output_type": "display_data"
    },
    {
     "name": "stdout",
     "output_type": "stream",
     "text": [
      "\u001b[1mdecile 3 (shape=(3931, 50942)): \u001b[0m\n"
     ]
    },
    {
     "data": {
      "text/html": [
       "<div>\n",
       "<style scoped>\n",
       "    .dataframe tbody tr th:only-of-type {\n",
       "        vertical-align: middle;\n",
       "    }\n",
       "\n",
       "    .dataframe tbody tr th {\n",
       "        vertical-align: top;\n",
       "    }\n",
       "\n",
       "    .dataframe thead th {\n",
       "        text-align: right;\n",
       "    }\n",
       "</style>\n",
       "<table border=\"1\" class=\"dataframe\">\n",
       "  <thead>\n",
       "    <tr style=\"text-align: right;\">\n",
       "      <th></th>\n",
       "      <th>1</th>\n",
       "      <th>2</th>\n",
       "      <th>3</th>\n",
       "      <th>4</th>\n",
       "      <th>5</th>\n",
       "    </tr>\n",
       "  </thead>\n",
       "  <tbody>\n",
       "    <tr>\n",
       "      <th>P</th>\n",
       "      <td>23.58</td>\n",
       "      <td>13.93</td>\n",
       "      <td>10.03</td>\n",
       "      <td>7.87</td>\n",
       "      <td>6.51</td>\n",
       "    </tr>\n",
       "    <tr>\n",
       "      <th>nDCG</th>\n",
       "      <td>23.58</td>\n",
       "      <td>25.51</td>\n",
       "      <td>26.53</td>\n",
       "      <td>27.09</td>\n",
       "      <td>27.48</td>\n",
       "    </tr>\n",
       "  </tbody>\n",
       "</table>\n",
       "</div>"
      ],
      "text/plain": [
       "          1      2      3      4      5\n",
       "P     23.58  13.93  10.03   7.87   6.51\n",
       "nDCG  23.58  25.51  26.53  27.09  27.48"
      ]
     },
     "metadata": {},
     "output_type": "display_data"
    },
    {
     "name": "stdout",
     "output_type": "stream",
     "text": [
      "\u001b[1mdecile 4 (shape=(4122, 44045)): \u001b[0m\n"
     ]
    },
    {
     "data": {
      "text/html": [
       "<div>\n",
       "<style scoped>\n",
       "    .dataframe tbody tr th:only-of-type {\n",
       "        vertical-align: middle;\n",
       "    }\n",
       "\n",
       "    .dataframe tbody tr th {\n",
       "        vertical-align: top;\n",
       "    }\n",
       "\n",
       "    .dataframe thead th {\n",
       "        text-align: right;\n",
       "    }\n",
       "</style>\n",
       "<table border=\"1\" class=\"dataframe\">\n",
       "  <thead>\n",
       "    <tr style=\"text-align: right;\">\n",
       "      <th></th>\n",
       "      <th>1</th>\n",
       "      <th>2</th>\n",
       "      <th>3</th>\n",
       "      <th>4</th>\n",
       "      <th>5</th>\n",
       "    </tr>\n",
       "  </thead>\n",
       "  <tbody>\n",
       "    <tr>\n",
       "      <th>P</th>\n",
       "      <td>26.69</td>\n",
       "      <td>15.72</td>\n",
       "      <td>11.26</td>\n",
       "      <td>8.76</td>\n",
       "      <td>7.21</td>\n",
       "    </tr>\n",
       "    <tr>\n",
       "      <th>nDCG</th>\n",
       "      <td>26.69</td>\n",
       "      <td>28.77</td>\n",
       "      <td>29.85</td>\n",
       "      <td>30.36</td>\n",
       "      <td>30.73</td>\n",
       "    </tr>\n",
       "  </tbody>\n",
       "</table>\n",
       "</div>"
      ],
      "text/plain": [
       "          1      2      3      4      5\n",
       "P     26.69  15.72  11.26   8.76   7.21\n",
       "nDCG  26.69  28.77  29.85  30.36  30.73"
      ]
     },
     "metadata": {},
     "output_type": "display_data"
    },
    {
     "name": "stdout",
     "output_type": "stream",
     "text": [
      "\u001b[1mdecile 5 (shape=(4211, 36912)): \u001b[0m\n"
     ]
    },
    {
     "data": {
      "text/html": [
       "<div>\n",
       "<style scoped>\n",
       "    .dataframe tbody tr th:only-of-type {\n",
       "        vertical-align: middle;\n",
       "    }\n",
       "\n",
       "    .dataframe tbody tr th {\n",
       "        vertical-align: top;\n",
       "    }\n",
       "\n",
       "    .dataframe thead th {\n",
       "        text-align: right;\n",
       "    }\n",
       "</style>\n",
       "<table border=\"1\" class=\"dataframe\">\n",
       "  <thead>\n",
       "    <tr style=\"text-align: right;\">\n",
       "      <th></th>\n",
       "      <th>1</th>\n",
       "      <th>2</th>\n",
       "      <th>3</th>\n",
       "      <th>4</th>\n",
       "      <th>5</th>\n",
       "    </tr>\n",
       "  </thead>\n",
       "  <tbody>\n",
       "    <tr>\n",
       "      <th>P</th>\n",
       "      <td>28.33</td>\n",
       "      <td>16.92</td>\n",
       "      <td>12.13</td>\n",
       "      <td>9.43</td>\n",
       "      <td>7.71</td>\n",
       "    </tr>\n",
       "    <tr>\n",
       "      <th>nDCG</th>\n",
       "      <td>28.33</td>\n",
       "      <td>30.66</td>\n",
       "      <td>31.84</td>\n",
       "      <td>32.38</td>\n",
       "      <td>32.67</td>\n",
       "    </tr>\n",
       "  </tbody>\n",
       "</table>\n",
       "</div>"
      ],
      "text/plain": [
       "          1      2      3      4      5\n",
       "P     28.33  16.92  12.13   9.43   7.71\n",
       "nDCG  28.33  30.66  31.84  32.38  32.67"
      ]
     },
     "metadata": {},
     "output_type": "display_data"
    },
    {
     "name": "stdout",
     "output_type": "stream",
     "text": [
      "Method : DiSMEC\n",
      "\u001b[1mdecile 0 (shape=(81546, 790214)): \u001b[0m\n"
     ]
    },
    {
     "data": {
      "text/html": [
       "<div>\n",
       "<style scoped>\n",
       "    .dataframe tbody tr th:only-of-type {\n",
       "        vertical-align: middle;\n",
       "    }\n",
       "\n",
       "    .dataframe tbody tr th {\n",
       "        vertical-align: top;\n",
       "    }\n",
       "\n",
       "    .dataframe thead th {\n",
       "        text-align: right;\n",
       "    }\n",
       "</style>\n",
       "<table border=\"1\" class=\"dataframe\">\n",
       "  <thead>\n",
       "    <tr style=\"text-align: right;\">\n",
       "      <th></th>\n",
       "      <th>1</th>\n",
       "      <th>2</th>\n",
       "      <th>3</th>\n",
       "      <th>4</th>\n",
       "      <th>5</th>\n",
       "    </tr>\n",
       "  </thead>\n",
       "  <tbody>\n",
       "    <tr>\n",
       "      <th>P</th>\n",
       "      <td>0.0</td>\n",
       "      <td>0.0</td>\n",
       "      <td>0.0</td>\n",
       "      <td>0.0</td>\n",
       "      <td>0.0</td>\n",
       "    </tr>\n",
       "    <tr>\n",
       "      <th>nDCG</th>\n",
       "      <td>0.0</td>\n",
       "      <td>0.0</td>\n",
       "      <td>0.0</td>\n",
       "      <td>0.0</td>\n",
       "      <td>0.0</td>\n",
       "    </tr>\n",
       "  </tbody>\n",
       "</table>\n",
       "</div>"
      ],
      "text/plain": [
       "        1    2    3    4    5\n",
       "P     0.0  0.0  0.0  0.0  0.0\n",
       "nDCG  0.0  0.0  0.0  0.0  0.0"
      ]
     },
     "metadata": {},
     "output_type": "display_data"
    },
    {
     "name": "stdout",
     "output_type": "stream",
     "text": [
      "\u001b[1mdecile 1 (shape=(1361, 13536)): \u001b[0m\n"
     ]
    },
    {
     "data": {
      "text/html": [
       "<div>\n",
       "<style scoped>\n",
       "    .dataframe tbody tr th:only-of-type {\n",
       "        vertical-align: middle;\n",
       "    }\n",
       "\n",
       "    .dataframe tbody tr th {\n",
       "        vertical-align: top;\n",
       "    }\n",
       "\n",
       "    .dataframe thead th {\n",
       "        text-align: right;\n",
       "    }\n",
       "</style>\n",
       "<table border=\"1\" class=\"dataframe\">\n",
       "  <thead>\n",
       "    <tr style=\"text-align: right;\">\n",
       "      <th></th>\n",
       "      <th>1</th>\n",
       "      <th>2</th>\n",
       "      <th>3</th>\n",
       "      <th>4</th>\n",
       "      <th>5</th>\n",
       "    </tr>\n",
       "  </thead>\n",
       "  <tbody>\n",
       "    <tr>\n",
       "      <th>P</th>\n",
       "      <td>28.51</td>\n",
       "      <td>17.45</td>\n",
       "      <td>12.71</td>\n",
       "      <td>9.94</td>\n",
       "      <td>8.11</td>\n",
       "    </tr>\n",
       "    <tr>\n",
       "      <th>nDCG</th>\n",
       "      <td>28.51</td>\n",
       "      <td>31.21</td>\n",
       "      <td>32.59</td>\n",
       "      <td>33.21</td>\n",
       "      <td>33.48</td>\n",
       "    </tr>\n",
       "  </tbody>\n",
       "</table>\n",
       "</div>"
      ],
      "text/plain": [
       "          1      2      3      4      5\n",
       "P     28.51  17.45  12.71   9.94   8.11\n",
       "nDCG  28.51  31.21  32.59  33.21  33.48"
      ]
     },
     "metadata": {},
     "output_type": "display_data"
    },
    {
     "name": "stdout",
     "output_type": "stream",
     "text": [
      "\u001b[1mdecile 2 (shape=(3358, 51177)): \u001b[0m\n"
     ]
    },
    {
     "data": {
      "text/html": [
       "<div>\n",
       "<style scoped>\n",
       "    .dataframe tbody tr th:only-of-type {\n",
       "        vertical-align: middle;\n",
       "    }\n",
       "\n",
       "    .dataframe tbody tr th {\n",
       "        vertical-align: top;\n",
       "    }\n",
       "\n",
       "    .dataframe thead th {\n",
       "        text-align: right;\n",
       "    }\n",
       "</style>\n",
       "<table border=\"1\" class=\"dataframe\">\n",
       "  <thead>\n",
       "    <tr style=\"text-align: right;\">\n",
       "      <th></th>\n",
       "      <th>1</th>\n",
       "      <th>2</th>\n",
       "      <th>3</th>\n",
       "      <th>4</th>\n",
       "      <th>5</th>\n",
       "    </tr>\n",
       "  </thead>\n",
       "  <tbody>\n",
       "    <tr>\n",
       "      <th>P</th>\n",
       "      <td>24.48</td>\n",
       "      <td>15.16</td>\n",
       "      <td>10.79</td>\n",
       "      <td>8.52</td>\n",
       "      <td>7.00</td>\n",
       "    </tr>\n",
       "    <tr>\n",
       "      <th>nDCG</th>\n",
       "      <td>24.48</td>\n",
       "      <td>27.33</td>\n",
       "      <td>28.28</td>\n",
       "      <td>28.95</td>\n",
       "      <td>29.28</td>\n",
       "    </tr>\n",
       "  </tbody>\n",
       "</table>\n",
       "</div>"
      ],
      "text/plain": [
       "          1      2      3      4      5\n",
       "P     24.48  15.16  10.79   8.52   7.00\n",
       "nDCG  24.48  27.33  28.28  28.95  29.28"
      ]
     },
     "metadata": {},
     "output_type": "display_data"
    },
    {
     "name": "stdout",
     "output_type": "stream",
     "text": [
      "\u001b[1mdecile 3 (shape=(3931, 50942)): \u001b[0m\n"
     ]
    },
    {
     "data": {
      "text/html": [
       "<div>\n",
       "<style scoped>\n",
       "    .dataframe tbody tr th:only-of-type {\n",
       "        vertical-align: middle;\n",
       "    }\n",
       "\n",
       "    .dataframe tbody tr th {\n",
       "        vertical-align: top;\n",
       "    }\n",
       "\n",
       "    .dataframe thead th {\n",
       "        text-align: right;\n",
       "    }\n",
       "</style>\n",
       "<table border=\"1\" class=\"dataframe\">\n",
       "  <thead>\n",
       "    <tr style=\"text-align: right;\">\n",
       "      <th></th>\n",
       "      <th>1</th>\n",
       "      <th>2</th>\n",
       "      <th>3</th>\n",
       "      <th>4</th>\n",
       "      <th>5</th>\n",
       "    </tr>\n",
       "  </thead>\n",
       "  <tbody>\n",
       "    <tr>\n",
       "      <th>P</th>\n",
       "      <td>28.75</td>\n",
       "      <td>17.79</td>\n",
       "      <td>12.96</td>\n",
       "      <td>10.19</td>\n",
       "      <td>8.37</td>\n",
       "    </tr>\n",
       "    <tr>\n",
       "      <th>nDCG</th>\n",
       "      <td>28.75</td>\n",
       "      <td>32.04</td>\n",
       "      <td>33.56</td>\n",
       "      <td>34.32</td>\n",
       "      <td>34.71</td>\n",
       "    </tr>\n",
       "  </tbody>\n",
       "</table>\n",
       "</div>"
      ],
      "text/plain": [
       "          1      2      3      4      5\n",
       "P     28.75  17.79  12.96  10.19   8.37\n",
       "nDCG  28.75  32.04  33.56  34.32  34.71"
      ]
     },
     "metadata": {},
     "output_type": "display_data"
    },
    {
     "name": "stdout",
     "output_type": "stream",
     "text": [
      "\u001b[1mdecile 4 (shape=(4122, 44045)): \u001b[0m\n"
     ]
    },
    {
     "data": {
      "text/html": [
       "<div>\n",
       "<style scoped>\n",
       "    .dataframe tbody tr th:only-of-type {\n",
       "        vertical-align: middle;\n",
       "    }\n",
       "\n",
       "    .dataframe tbody tr th {\n",
       "        vertical-align: top;\n",
       "    }\n",
       "\n",
       "    .dataframe thead th {\n",
       "        text-align: right;\n",
       "    }\n",
       "</style>\n",
       "<table border=\"1\" class=\"dataframe\">\n",
       "  <thead>\n",
       "    <tr style=\"text-align: right;\">\n",
       "      <th></th>\n",
       "      <th>1</th>\n",
       "      <th>2</th>\n",
       "      <th>3</th>\n",
       "      <th>4</th>\n",
       "      <th>5</th>\n",
       "    </tr>\n",
       "  </thead>\n",
       "  <tbody>\n",
       "    <tr>\n",
       "      <th>P</th>\n",
       "      <td>32.48</td>\n",
       "      <td>19.74</td>\n",
       "      <td>14.27</td>\n",
       "      <td>11.10</td>\n",
       "      <td>9.07</td>\n",
       "    </tr>\n",
       "    <tr>\n",
       "      <th>nDCG</th>\n",
       "      <td>32.48</td>\n",
       "      <td>35.78</td>\n",
       "      <td>37.32</td>\n",
       "      <td>37.97</td>\n",
       "      <td>38.32</td>\n",
       "    </tr>\n",
       "  </tbody>\n",
       "</table>\n",
       "</div>"
      ],
      "text/plain": [
       "          1      2      3      4      5\n",
       "P     32.48  19.74  14.27  11.10   9.07\n",
       "nDCG  32.48  35.78  37.32  37.97  38.32"
      ]
     },
     "metadata": {},
     "output_type": "display_data"
    },
    {
     "name": "stdout",
     "output_type": "stream",
     "text": [
      "\u001b[1mdecile 5 (shape=(4211, 36912)): \u001b[0m\n"
     ]
    },
    {
     "data": {
      "text/html": [
       "<div>\n",
       "<style scoped>\n",
       "    .dataframe tbody tr th:only-of-type {\n",
       "        vertical-align: middle;\n",
       "    }\n",
       "\n",
       "    .dataframe tbody tr th {\n",
       "        vertical-align: top;\n",
       "    }\n",
       "\n",
       "    .dataframe thead th {\n",
       "        text-align: right;\n",
       "    }\n",
       "</style>\n",
       "<table border=\"1\" class=\"dataframe\">\n",
       "  <thead>\n",
       "    <tr style=\"text-align: right;\">\n",
       "      <th></th>\n",
       "      <th>1</th>\n",
       "      <th>2</th>\n",
       "      <th>3</th>\n",
       "      <th>4</th>\n",
       "      <th>5</th>\n",
       "    </tr>\n",
       "  </thead>\n",
       "  <tbody>\n",
       "    <tr>\n",
       "      <th>P</th>\n",
       "      <td>32.34</td>\n",
       "      <td>19.88</td>\n",
       "      <td>14.30</td>\n",
       "      <td>11.23</td>\n",
       "      <td>9.20</td>\n",
       "    </tr>\n",
       "    <tr>\n",
       "      <th>nDCG</th>\n",
       "      <td>32.34</td>\n",
       "      <td>35.74</td>\n",
       "      <td>37.18</td>\n",
       "      <td>38.00</td>\n",
       "      <td>38.41</td>\n",
       "    </tr>\n",
       "  </tbody>\n",
       "</table>\n",
       "</div>"
      ],
      "text/plain": [
       "          1      2      3      4      5\n",
       "P     32.34  19.88  14.30  11.23   9.20\n",
       "nDCG  32.34  35.74  37.18  38.00  38.41"
      ]
     },
     "metadata": {},
     "output_type": "display_data"
    }
   ],
   "source": [
    "X_Y = tst_X_Y[rand_inds]\n",
    "for method, _score_mat in all_score_mats:\n",
    "    metrics = {}\n",
    "    print('Method :', method)\n",
    "#     for i, decile in enumerate(decile_mask):\n",
    "    for i in range(6):\n",
    "        best_score_mat = score_mat\n",
    "        best_p5 = 0\n",
    "        active_labels = np.where(nnz == i)[0]\n",
    "        temp_X_Y, active_rows, _ = restrict_mat(X_Y, active_rows=None, active_cols=active_labels, shrink=True)\n",
    "        \n",
    "        if method == 'ZestXML':\n",
    "            for alpha in tqdm(drange(0, 1, 0.1)):\n",
    "                for beta in drange(0, alpha, 0.1):\n",
    "                    gamma = 1-alpha-beta\n",
    "                    combined = retain_topk(alpha*tst_clf_score_mat + beta*tst_bilinear_score_mat + gamma*tst_knn_score_mat, k=100, copy=False)\n",
    "                    temp_score_mat, _, _ = restrict_mat(combined, active_rows=active_rows, active_cols=active_labels, shrink=True)\n",
    "                    temp_metrics = printacc(temp_score_mat, X_Y=temp_X_Y, K=5, inv_prop_=None, disp=False)\n",
    "                    if temp_metrics[0, 4] > best_p5:\n",
    "                        best_p5 = temp_metrics[0, 4]\n",
    "                        best_score_mat = combined\n",
    "            _score_mat = best_score_mat\n",
    "        \n",
    "        temp_score_mat, _, _     = restrict_mat(_score_mat, active_rows=active_rows, active_cols=active_labels, shrink=True)\n",
    "        print(_c('decile %d (shape=(%d, %d)): '%(i, temp_X_Y.shape[0], temp_X_Y.shape[1]), attr='bold'))\n",
    "        metrics[i] = printacc(temp_score_mat, X_Y=temp_X_Y, K=5, inv_prop_=None)\n",
    "        if method in points: points[method].append(metrics[i][0, 4])\n",
    "        else: points[method] = [metrics[i][0, 4]]"
   ]
  },
  {
   "cell_type": "code",
   "execution_count": 36,
   "metadata": {
    "ExecuteTime": {
     "end_time": "2021-02-07T15:25:37.692955Z",
     "start_time": "2021-02-07T15:25:37.689109Z"
    }
   },
   "outputs": [],
   "source": [
    "df = pd.DataFrame({'nnz' : [0, 1, 2, 3, 4, 5], \n",
    "                   'ZestXML' : [12, 13, 14, 17, 20, 22], \n",
    "                   'AttentionXML': [1, 3, 6, 20, 19, 12],\n",
    "                   'Parabel': [2, 5, 11, 15, 19, 25]})"
   ]
  },
  {
   "cell_type": "code",
   "execution_count": 37,
   "metadata": {
    "ExecuteTime": {
     "end_time": "2021-02-07T15:25:43.104353Z",
     "start_time": "2021-02-07T15:25:43.098447Z"
    }
   },
   "outputs": [],
   "source": [
    "tempdf = pd.melt(df, id_vars=['nnz']).sort_values(['variable','value'])\n",
    "\n",
    "sns.set(font_scale = 1.5)\n",
    "g = sns.catplot(\n",
    "    data=tempdf, kind=\"bar\",\n",
    "    x=\"nnz\", y=\"value\", hue=\"variable\",\n",
    "    ci=\"sd\", palette=\"bright\", alpha=.6, height=6, aspect=2\n",
    ")\n",
    "g.despine(left=True)\n",
    "g.set_axis_labels(\"\", \"Body mass (g)\", fontsize=14)\n",
    "g.legend.set_title(\"\")"
   ]
  },
  {
   "cell_type": "code",
   "execution_count": null,
   "metadata": {},
   "outputs": [],
   "source": [
    "plt.xlabel('Label frequency', fontsize=18)\n",
    "plt.ylabel('Precision@5', fontsize=18)\n",
    "plt.xticks(fontsize=14)\n",
    "plt.yticks(fontsize=14)\n",
    "for name, y in list(points.items()):\n",
    "    plt.plot(y, label=name)\n",
    "plt.legend(prop={'size' : 14})\n",
    "plt.subplots_adjust(left=0.15, right=0.9, top=0.9, bottom=0.15)"
   ]
  },
  {
   "cell_type": "code",
   "execution_count": 48,
   "metadata": {
    "scrolled": true
   },
   "outputs": [
    {
     "data": {
      "image/png": "[encoded data removed]",
      "text/plain": [
       "<Figure size 576x396 with 1 Axes>"
      ]
     },
     "metadata": {},
     "output_type": "display_data"
    }
   ],
   "source": [
    "plt.xlabel('Label frequency', fontsize=18)\n",
    "plt.ylabel('Precision@5', fontsize=18)\n",
    "plt.xticks(fontsize=14)\n",
    "plt.yticks(fontsize=14)\n",
    "for name, y in list(points.items()):\n",
    "    plt.plot(y, label=name)\n",
    "plt.legend(prop={'size' : 14})\n",
    "plt.subplots_adjust(left=0.15, right=0.9, top=0.9, bottom=0.15)\n",
    "plt.savefig('/mnt/c/Users/t-nilgup/Pictures/decile-analysis.png', facecolor='w')\n",
    "plt.savefig('/mnt/c/Users/t-nilgup/Pictures/decile-analysis.eps', facecolor='w')"
   ]
  },
  {
   "cell_type": "markdown",
   "metadata": {},
   "source": [
    "## Analysis"
   ]
  },
  {
   "cell_type": "markdown",
   "metadata": {},
   "source": [
    "### Prepare"
   ]
  },
  {
   "cell_type": "code",
   "execution_count": 117,
   "metadata": {
    "ExecuteTime": {
     "end_time": "2020-10-14T20:50:28.764888Z",
     "start_time": "2020-10-14T20:50:28.728573Z"
    }
   },
   "outputs": [
    {
     "name": "stdout",
     "output_type": "stream",
     "text": [
      "loaded bin file in buffer\n",
      "loaded bin file in buffer\n"
     ]
    },
    {
     "data": {
      "text/plain": [
       "(2217693, 2217693)"
      ]
     },
     "execution_count": 117,
     "metadata": {},
     "output_type": "execute_result"
    }
   ],
   "source": [
    "Xf_Yf = read_bin_spmat(f'{RES_DIR}/model/Xf_Yf.bin')\n",
    "Yf_Xf = read_bin_spmat(f'{RES_DIR}/model/Yf_Xf.bin')\n",
    "sp_pattern_mat = Xf_Yf + Yf_Xf.T.tocsr()\n",
    "Xf_Yf.nnz+Yf_Xf.nnz, sp_pattern_mat.nnz"
   ]
  },
  {
   "cell_type": "code",
   "execution_count": 118,
   "metadata": {
    "ExecuteTime": {
     "end_time": "2020-10-14T20:50:45.422449Z",
     "start_time": "2020-10-14T20:50:41.707542Z"
    }
   },
   "outputs": [
    {
     "name": "stderr",
     "output_type": "stream",
     "text": [
      "100%|██████████| 1993586/1993586 [00:03<00:00, 619230.44it/s]\n",
      "100%|██████████| 224107/224107 [00:00<00:00, 585753.25it/s]\n"
     ]
    }
   ],
   "source": [
    "ind_sp_pattern_mat = sp_pattern_mat.copy().astype(np.int32)\n",
    "temp = Xf_Yf.tocoo()\n",
    "ind_sp_pattern_mat[temp.row, temp.col] = np.arange(Xf_Yf.nnz)\n",
    "pair_xfs = [f'[x[{temp.row[i]}]({xfs[temp.row[i]]}) : y[{temp.col[i]}]({yfs[temp.col[i]]})]' for i in tqdm(range(temp.nnz))]\n",
    "\n",
    "temp = Yf_Xf.tocoo()\n",
    "ind_sp_pattern_mat[temp.col, temp.row] = np.arange(Xf_Yf.nnz, Xf_Yf.nnz+Yf_Xf.nnz)\n",
    "for i in tqdm(range(temp.nnz)):\n",
    "    pair_xfs.append(f'[x[{temp.col[i]}]({xfs[temp.col[i]]}) : y[{temp.row[i]}]({xfs[temp.row[i]]})]')\n",
    "pair_xfs.append('bias')"
   ]
  },
  {
   "cell_type": "code",
   "execution_count": 52,
   "metadata": {
    "ExecuteTime": {
     "end_time": "2020-10-14T14:25:29.448642Z",
     "start_time": "2020-10-14T14:25:29.435729Z"
    }
   },
   "outputs": [
    {
     "name": "stdout",
     "output_type": "stream",
     "text": [
      "loaded bin file in buffer\n"
     ]
    }
   ],
   "source": [
    "sp_pattern_mat = read_bin_spmat(f'{RES_DIR}/model/sparsity_pattern.bin')"
   ]
  },
  {
   "cell_type": "code",
   "execution_count": 32,
   "metadata": {
    "ExecuteTime": {
     "end_time": "2020-10-14T13:02:37.244259Z",
     "start_time": "2020-10-14T13:02:37.179169Z"
    }
   },
   "outputs": [],
   "source": [
    "t_sp_pattern_mat = sp_pattern_mat.T.tocsr()"
   ]
  },
  {
   "cell_type": "code",
   "execution_count": 82,
   "metadata": {
    "ExecuteTime": {
     "end_time": "2020-10-14T14:39:08.236692Z",
     "start_time": "2020-10-14T14:39:08.230086Z"
    },
    "scrolled": true
   },
   "outputs": [
    {
     "name": "stdout",
     "output_type": "stream",
     "text": [
      "xfs[20314] : dissolut\n",
      "1\t(0.500000)\tdissolut\n",
      "2\t(0.075758)\tczechoslovakia\n",
      "3\t(0.075758)\t__label__2591__Czechoslovakia\n",
      "4\t(0.071138)\t__parent__2291\n",
      "5\t(0.066964)\t__label__1861__republic\n",
      "6\t(0.066288)\tsoviet\n",
      "7\t(0.066288)\tussr\n",
      "8\t(0.066288)\t__label__2749__USSR; Soviet Union; former USSR\n",
      "9\t(0.066288)\tformer ussr\n",
      "10\t(0.066288)\tussr soviet\n",
      "11\t(0.066288)\tsoviet union\n",
      "12\t(0.066288)\tunion former\n",
      "13\t(0.051653)\t__label__3183__ECSC; Consultative Committee of the ECSC; ECSC con\n",
      "14\t(0.051653)\thigh author\n",
      "15\t(0.051653)\tecsc ecsc\n",
      "16\t(0.051653)\tecsc consult\n",
      "17\t(0.051653)\tconsult committe\n",
      "18\t(0.051653)\tcommuniti high\n",
      "19\t(0.051653)\tcommitte ecsc\n",
      "20\t(0.039615)\t__parent__5655\n",
      "21\t(0.039139)\t__parent__26\n"
     ]
    }
   ],
   "source": [
    "# xf = random.randrange(len(xfs))\n",
    "xf = 20314\n",
    "# xf = np.random.choice(targets)\n",
    "\n",
    "print(f'xfs[{xf}] : {xfs[xf]}')\n",
    "xf_sp_pattern_mat = sp_pattern_mat[xf]\n",
    "sorted_inds = np.argsort(-xf_sp_pattern_mat.data)\n",
    "for i, ind in enumerate(sorted_inds):\n",
    "    print(f'{i+1}\\t({\"%.6f\"%xf_sp_pattern_mat.data[ind]})\\t{yfs[xf_sp_pattern_mat.indices[ind]]}')"
   ]
  },
  {
   "cell_type": "code",
   "execution_count": 147,
   "metadata": {
    "ExecuteTime": {
     "end_time": "2020-10-12T12:08:18.537475Z",
     "start_time": "2020-10-12T12:08:18.530148Z"
    },
    "scrolled": true
   },
   "outputs": [
    {
     "name": "stdout",
     "output_type": "stream",
     "text": [
      "yfs[1022682] : __label__81003__Anarchism\n",
      "1\t(0.192308)\tcryptoparti\n",
      "2\t(0.138889)\twxlanarchist14\n",
      "3\t(0.119048)\t9117285\n",
      "4\t(0.111111)\tlibsoc\n",
      "5\t(0.106383)\tshirlow\n",
      "6\t(0.104167)\tamielandmelburn\n",
      "7\t(0.102041)\t96886\n",
      "8\t(0.100000)\tparliamentarist\n",
      "9\t(0.096154)\t22spirit\n",
      "10\t(0.081967)\tpautz\n",
      "11\t(0.080645)\tmountz\n",
      "12\t(0.074627)\t54697\n",
      "13\t(0.068493)\tespecifismo\n",
      "14\t(0.067568)\thetsa\n",
      "15\t(0.064103)\tmelburn\n",
      "16\t(0.062500)\ttoc2\n",
      "17\t(0.060976)\tuvali\n",
      "18\t(0.060241)\tkesia\n",
      "19\t(0.058824)\t32495\n",
      "20\t(0.057471)\t20060329\n",
      "21\t(0.056818)\tlierr\n",
      "22\t(0.056818)\tfrestonia\n",
      "23\t(0.049020)\t31567\n",
      "24\t(0.047170)\t20561\n",
      "25\t(0.045045)\t20070514\n",
      "26\t(0.040650)\trevoltlib\n",
      "27\t(0.039370)\ttitl anarch\n",
      "28\t(0.035211)\tautarch\n",
      "29\t(0.035047)\tsocial anarch\n",
      "30\t(0.026596)\thierarch organ\n",
      "31\t(0.026455)\tstateless societi\n",
      "32\t(0.024272)\tscmagazin\n",
      "33\t(0.018939)\tlifework\n",
      "34\t(0.011628)\tbase free\n",
      "35\t(0.008190)\tideolog polit\n",
      "36\t(0.007153)\twithin societi\n"
     ]
    }
   ],
   "source": [
    "yf = 1022682\n",
    "\n",
    "print(f'yfs[{yf}] : {yfs[yf]}')\n",
    "yf_sp_pattern_mat = t_sp_pattern_mat[yf]\n",
    "sorted_inds = np.argsort(-yf_sp_pattern_mat.data)\n",
    "for i, ind in enumerate(sorted_inds):\n",
    "    print(f'{i+1}\\t({\"%.6f\"%yf_sp_pattern_mat.data[ind]})\\t{xfs[yf_sp_pattern_mat.indices[ind]]}')"
   ]
  },
  {
   "cell_type": "markdown",
   "metadata": {
    "heading_collapsed": true
   },
   "source": [
    "### Analyze single x, y pair"
   ]
  },
  {
   "cell_type": "code",
   "execution_count": null,
   "metadata": {
    "ExecuteTime": {
     "end_time": "2020-10-12T11:53:45.465593Z",
     "start_time": "2020-10-12T11:53:45.386044Z"
    },
    "hidden": true
   },
   "outputs": [],
   "source": [
    "bin_sp_pattern_mat = binarize(sp_pattern_mat, copy=True)"
   ]
  },
  {
   "cell_type": "code",
   "execution_count": 131,
   "metadata": {
    "ExecuteTime": {
     "end_time": "2020-10-12T11:55:36.552484Z",
     "start_time": "2020-10-12T11:55:36.548157Z"
    },
    "hidden": true
   },
   "outputs": [],
   "source": [
    "def bilinear_to_linear(x, y):\n",
    "    cross = trn_X_Xf[x].T.dot(Y_Yf[y])\n",
    "    data = cross.multiply(bin_sp_pattern_mat).data\n",
    "    inds = binarize(cross).multiply(ind_sp_pattern_mat).data.astype(np.int32)\n",
    "    del cross\n",
    "    return csr_matrix((data, inds, [0, inds.shape[0]]), (1, sp_pattern_mat.nnz))"
   ]
  },
  {
   "cell_type": "code",
   "execution_count": 132,
   "metadata": {
    "ExecuteTime": {
     "end_time": "2020-10-12T11:55:48.802811Z",
     "start_time": "2020-10-12T11:55:36.554819Z"
    },
    "hidden": true,
    "scrolled": true
   },
   "outputs": [
    {
     "name": "stdout",
     "output_type": "stream",
     "text": [
      "x = 0 : \n",
      "\u001b[1m\u001b[4m[x(anarch) : y(anarch)]\u001b[0m(0.99, 2875494) \u001b[1m\u001b[4m[x(anarch sidebar) : y(anarch)]\u001b[0m(0.15, 21988359)\n"
     ]
    }
   ],
   "source": [
    "xy = normalize(bilinear_to_linear(0, 81003), axis=1)\n",
    "print(get_text(0, pair_xfs, xy))"
   ]
  },
  {
   "cell_type": "code",
   "execution_count": 244,
   "metadata": {
    "ExecuteTime": {
     "end_time": "2020-10-06T18:23:45.023699Z",
     "start_time": "2020-10-06T18:23:45.015860Z"
    },
    "hidden": true
   },
   "outputs": [
    {
     "data": {
      "text/plain": [
       "array([0.8450816], dtype=float32)"
      ]
     },
     "execution_count": 244,
     "metadata": {},
     "output_type": "execute_result"
    }
   ],
   "source": [
    "prod = xy.dot(tree.shared_clf.data[:-1])+tree.shared_clf.data[-1]\n",
    "bilinear_score = -((max(0, 1-prod))**2) - 0\n",
    "np.exp(bilinear_score)"
   ]
  },
  {
   "cell_type": "markdown",
   "metadata": {
    "heading_collapsed": true
   },
   "source": [
    "### Analyze predictions"
   ]
  },
  {
   "cell_type": "code",
   "execution_count": 401,
   "metadata": {
    "ExecuteTime": {
     "end_time": "2020-10-08T09:33:44.080263Z",
     "start_time": "2020-10-08T09:33:44.074196Z"
    },
    "hidden": true
   },
   "outputs": [],
   "source": [
    "targets = np.where((tst_X_Y - binarize(clf_score_mat.multiply(tst_X_Y))).getnnz(1) > 5)[0]"
   ]
  },
  {
   "cell_type": "code",
   "execution_count": 24,
   "metadata": {
    "ExecuteTime": {
     "end_time": "2020-10-14T12:53:56.063530Z",
     "start_time": "2020-10-14T12:53:56.053632Z"
    },
    "hidden": true,
    "scrolled": true
   },
   "outputs": [
    {
     "name": "stdout",
     "output_type": "stream",
     "text": [
      "x = 0 : \n",
      "\u001b[1m\u001b[4mcapit\u001b[0m(0.36, 16272) \u001b[1m\u001b[4mcapit movement\u001b[0m(0.29, 66706) \u001b[1m\u001b[4mfrench oversea\u001b[0m(0.28, 77427) \u001b[1m\u001b[4moversea depart\u001b[0m(0.28, 86238) \u001b[1m\u001b[4malgeria\u001b[0m(0.27, 11929) \u001b[1m\u001b[4moversea\u001b[0m(0.25, 35674) \u001b[1m\u001b[4mprovis treati\u001b[0m(0.22, 89663) \u001b[1m\u001b[4mdepart\u001b[0m(0.21, 19660) \u001b[1m\u001b[4mmovement\u001b[0m(0.20, 33272) \u001b[1m\u001b[4mfrench\u001b[0m(0.19, 23851) \u001b[1m\u001b[4m1960\u001b[0m(0.16, 3201) \u001b[1m\u001b[4m11 may\u001b[0m(0.14, 51554) \u001b[1m\u001b[4m227\u001b[0m(0.13, 4392) \u001b[1m\u001b[4mprovis\u001b[0m(0.11, 38162) \u001b[1m\u001b[4mapplic area\u001b[0m(0.09, 63952) \u001b[1m\u001b[4marticl 106\u001b[0m(0.09, 64637) \u001b[1m\u001b[4mpropos direct\u001b[0m(0.09, 89204) \u001b[1m\u001b[4mpursuanc articl\u001b[0m(0.09, 89840) \u001b[1m\u001b[4meconom condit\u001b[0m(0.09, 73504) \u001b[1m\u001b[4marticl 69\u001b[0m(0.09, 64808) \u001b[1m\u001b[4mdepart wherea\u001b[0m(0.09, 71579) \u001b[1m\u001b[4mwherea propos\u001b[0m(0.09, 99220) \u001b[1m\u001b[4mtreati concern\u001b[0m(0.09, 97505) \u001b[1m\u001b[4mdetermin condit\u001b[0m(0.09, 71795) \u001b[1m\u001b[4msocial develop\u001b[0m(0.09, 94387) \u001b[1m\u001b[4mne\u001b[0m(0.08, 33948) \u001b[1m\u001b[4marticl 67\u001b[0m(0.08, 64806) \u001b[1m\u001b[4mcouncil wherea\u001b[0m(0.08, 70268) \u001b[1m\u001b[4mcouncil determin\u001b[0m(0.08, 70216) \u001b[1m\u001b[4mparticular provis\u001b[0m(0.08, 86732) \u001b[1m\u001b[4mdecis applic\u001b[0m(0.08, 71232) \u001b[1m\u001b[4mset first\u001b[0m(0.08, 93595) \u001b[1m\u001b[4mtreati particular\u001b[0m(0.08, 97525) \u001b[1m\u001b[4mpursuanc\u001b[0m(0.08, 38409) \u001b[1m\u001b[4mliberalis\u001b[0m(0.08, 30510) \u001b[1m\u001b[4mforc 11\u001b[0m(0.07, 77096) \u001b[1m\u001b[4mrest\u001b[0m(0.07, 39733) \u001b[1m\u001b[4mtreati regard\u001b[0m(0.07, 97528) \u001b[1m\u001b[4maccord second\u001b[0m(0.06, 61665) \u001b[1m\u001b[4msecretari\u001b[0m(0.06, 41366) \u001b[1m\u001b[4mrender\u001b[0m(0.06, 39516) \u001b[1m\u001b[4msubparagraph\u001b[0m(0.06, 43499) \u001b[1m\u001b[4mconcern\u001b[0m(0.06, 18144) \u001b[1m\u001b[4mprovis concern\u001b[0m(0.06, 89591) \u001b[1m\u001b[4meec council\u001b[0m(0.06, 74101) \u001b[1m\u001b[4mpropos\u001b[0m(0.06, 38074) \u001b[1m\u001b[4m106\u001b[0m(0.05, 1463) \u001b[1m\u001b[4mcondit\u001b[0m(0.05, 18179) \u001b[1m\u001b[4msubmit commiss\u001b[0m(0.05, 95595) \u001b[1m\u001b[4meconom\u001b[0m(0.05, 21096) \u001b[1m\u001b[4mlegisl\u001b[0m(0.05, 30324) \u001b[1m\u001b[4mdone luxembourg\u001b[0m(0.05, 72349) \u001b[1m\u001b[4meconom social\u001b[0m(0.05, 73530) \u001b[1m\u001b[4m73\u001b[0m(0.05, 9249) \u001b[1m\u001b[4mwherea accord\u001b[0m(0.05, 98976) \u001b[1m\u001b[4mprovis articl\u001b[0m(0.04, 89585) \u001b[1m\u001b[4mdecis\u001b[0m(0.04, 19453) \u001b[1m\u001b[4m67\u001b[0m(0.04, 8913) \u001b[1m\u001b[4m69\u001b[0m(0.04, 8987) \u001b[1m\u001b[4msocial\u001b[0m(0.04, 42426) \u001b[1m\u001b[4mluxembourg\u001b[0m(0.04, 31190) \u001b[1m\u001b[4mfirst subparagraph\u001b[0m(0.04, 76514) \u001b[1m\u001b[4msecond subparagraph\u001b[0m(0.04, 93191) \u001b[1m\u001b[4mcommiss wherea\u001b[0m(0.04, 68218) \u001b[1m\u001b[4mterritori\u001b[0m(0.04, 44525) \u001b[1m\u001b[4mdecis shall\u001b[0m(0.04, 71321) \u001b[1m\u001b[4mspecial\u001b[0m(0.04, 42702) \u001b[1m\u001b[4msubparagraph articl\u001b[0m(0.04, 95660) \u001b[1m\u001b[4mneed\u001b[0m(0.04, 34000) \u001b[1m\u001b[4marea\u001b[0m(0.04, 13081) \u001b[1m\u001b[4m2 thereof\u001b[0m(0.03, 54155) \u001b[1m\u001b[4mpropos commiss\u001b[0m(0.03, 89200) \u001b[1m\u001b[4mcouncil decis\u001b[0m(0.03, 70215) \u001b[1m\u001b[4mplace\u001b[0m(0.03, 36950) \u001b[1m\u001b[4mregard propos\u001b[0m(0.03, 91028) \u001b[1m\u001b[4msecond\u001b[0m(0.03, 41360) \u001b[1m\u001b[4mcouncilth\u001b[0m(0.03, 18611) \u001b[1m\u001b[4msubmit\u001b[0m(0.03, 43493) \u001b[1m\u001b[4mdevelop\u001b[0m(0.03, 19834) \u001b[1m\u001b[4mfirst\u001b[0m(0.03, 23254) \u001b[1m\u001b[4mshall appli\u001b[0m(0.03, 93718) \u001b[1m\u001b[4mappropri\u001b[0m(0.03, 12940) \u001b[1m\u001b[4mdetermin\u001b[0m(0.03, 19807) \u001b[1m\u001b[4mthereof regard\u001b[0m(0.03, 96938) \u001b[1m\u001b[4mset\u001b[0m(0.02, 41662)\n"
     ]
    }
   ],
   "source": [
    "val_X[x]\n",
    "print(get_text(x, xfs, val_X_Xf))"
   ]
  },
  {
   "cell_type": "code",
   "execution_count": 58,
   "metadata": {
    "ExecuteTime": {
     "end_time": "2020-10-14T14:26:53.781992Z",
     "start_time": "2020-10-14T14:26:53.779177Z"
    },
    "hidden": true
   },
   "outputs": [],
   "source": [
    "# x = random.randrange(tst_X_Y.shape[0])\n",
    "x = 1"
   ]
  },
  {
   "cell_type": "code",
   "execution_count": 59,
   "metadata": {
    "ExecuteTime": {
     "end_time": "2020-10-14T14:26:55.058452Z",
     "start_time": "2020-10-14T14:26:55.052613Z"
    },
    "hidden": true
   },
   "outputs": [
    {
     "name": "stdout",
     "output_type": "stream",
     "text": [
      "x = 1 : \n",
      "\u001b[1mcompetition policy\u001b[0m(1.00, \u001b[94m18\u001b[0m, 1116)\n",
      "\u001b[1mcontrol of restrictive practices\u001b[0m(1.00, \u001b[94m5\u001b[0m, 1671)\n",
      "\u001b[1mrestriction on competition\u001b[0m(1.00, \u001b[94m71\u001b[0m, 1972)\n",
      "\u001b[1minter-company agreement\u001b[0m(1.00, \u001b[94m39\u001b[0m, 2142)\n"
     ]
    }
   ],
   "source": [
    "print(get_text(x, Y, val_X_Y, K=10, sep='\\n', attr='bold', f = lambda ind, val : '%.2f, %s, %d'%(val, _c(nnz[ind], attr='blue'), ind)))"
   ]
  },
  {
   "cell_type": "code",
   "execution_count": 60,
   "metadata": {
    "ExecuteTime": {
     "end_time": "2020-10-14T14:27:01.481199Z",
     "start_time": "2020-10-14T14:27:01.475514Z"
    },
    "hidden": true,
    "scrolled": true
   },
   "outputs": [
    {
     "name": "stdout",
     "output_type": "stream",
     "text": [
      "x = 1 : \n",
      "\u001b[1mcompetition policy\u001b[0m(0.44, \u001b[94m18\u001b[0m, 1116)\n",
      "\u001b[1mcontrol of restrictive practices\u001b[0m(0.36, \u001b[94m5\u001b[0m, 1671)\n",
      "\u001b[1minter-company agreement\u001b[0m(0.29, \u001b[94m39\u001b[0m, 2142)\n",
      "\u001b[1mrestriction on competition\u001b[0m(0.21, \u001b[94m71\u001b[0m, 1972)\n",
      "\u001b[1mspecialisation agreement\u001b[0m(0.11, \u001b[94m6\u001b[0m, 1427)\n",
      "\u001b[1mESC opinion\u001b[0m(0.05, \u001b[94m1\u001b[0m, 3044)\n",
      "\u001b[1mrestrictive trade practice\u001b[0m(0.05, \u001b[94m11\u001b[0m, 4071)\n",
      "\u001b[1mcommon organisation of markets\u001b[0m(0.05, \u001b[94m1609\u001b[0m, 878)\n",
      "\u001b[1mfree competition\u001b[0m(0.05, \u001b[94m2\u001b[0m, 494)\n",
      "\u001b[1mmaritime transport\u001b[0m(0.04, \u001b[94m76\u001b[0m, 2691)\n"
     ]
    }
   ],
   "source": [
    "print(get_text(x, Y, clf_score_mat, K=10, sep='\\n', attr='bold', f = lambda ind, val : '%.2f, %s, %d'%(val, _c(nnz[ind], attr='blue'), ind)))"
   ]
  },
  {
   "cell_type": "code",
   "execution_count": 61,
   "metadata": {
    "ExecuteTime": {
     "end_time": "2020-10-14T14:27:19.601893Z",
     "start_time": "2020-10-14T14:27:19.595952Z"
    },
    "hidden": true
   },
   "outputs": [
    {
     "name": "stdout",
     "output_type": "stream",
     "text": [
      "x = 1 : \n",
      "\u001b[1minter-company agreement\u001b[0m(0.66, \u001b[94m39\u001b[0m, 2142)\n",
      "\u001b[1mrestriction on competition\u001b[0m(0.37, \u001b[94m71\u001b[0m, 1972)\n",
      "\u001b[1mcompetitiveness\u001b[0m(0.32, \u001b[94m24\u001b[0m, 2668)\n",
      "\u001b[1mcompetition policy\u001b[0m(0.32, \u001b[94m18\u001b[0m, 1116)\n",
      "\u001b[1msporting event\u001b[0m(0.32, \u001b[94m18\u001b[0m, 3447)\n",
      "\u001b[1mcompetition (EU)\u001b[0m(0.32, \u001b[94m2\u001b[0m, 2318)\n",
      "\u001b[1mspecialisation agreement\u001b[0m(0.31, \u001b[94m6\u001b[0m, 1427)\n",
      "\u001b[1mcontrol of restrictive practices\u001b[0m(0.31, \u001b[94m5\u001b[0m, 1671)\n",
      "\u001b[1mcompetition law\u001b[0m(0.19, \u001b[94m31\u001b[0m, 3232)\n",
      "\u001b[1mESC opinion\u001b[0m(0.09, \u001b[94m1\u001b[0m, 3044)\n"
     ]
    }
   ],
   "source": [
    "print(get_text(x, Y, bilinear_score_mat, K=10, sep='\\n', attr='bold', f = lambda ind, val : '%.2f, %s, %d'%(val, _c(nnz[ind], attr='blue'), ind)))"
   ]
  },
  {
   "cell_type": "code",
   "execution_count": 57,
   "metadata": {
    "ExecuteTime": {
     "end_time": "2020-10-14T14:26:03.150818Z",
     "start_time": "2020-10-14T14:26:03.074169Z"
    },
    "hidden": true,
    "scrolled": true
   },
   "outputs": [
    {
     "name": "stdout",
     "output_type": "stream",
     "text": [
      "x = 0 : \n",
      "\u001b[1mFrench overseas department and region\u001b[0m(0.60, \u001b[94m155\u001b[0m, 57)\n",
      "\u001b[1moverseas department (France)\u001b[0m(0.24, \u001b[94m8\u001b[0m, 2216)\n",
      "\u001b[1mFrench overseas collectivity\u001b[0m(0.23, \u001b[94m3\u001b[0m, 58)\n",
      "\u001b[1mcapital movement\u001b[0m(0.21, \u001b[94m12\u001b[0m, 768)\n",
      "\u001b[1mexport refund\u001b[0m(0.19, \u001b[94m3554\u001b[0m, 1962)\n",
      "\u001b[1mshare capital\u001b[0m(0.11, \u001b[94m7\u001b[0m, 3092)\n",
      "\u001b[1mfree movement of capital\u001b[0m(0.10, \u001b[94m7\u001b[0m, 489)\n",
      "\u001b[1minternational sanctions\u001b[0m(0.09, \u001b[94m698\u001b[0m, 1908)\n",
      "\u001b[1mFrench Guiana\u001b[0m(0.09, \u001b[94m15\u001b[0m, 167)\n",
      "\u001b[1mbalance of payments\u001b[0m(0.09, \u001b[94m25\u001b[0m, 2791)\n",
      "\u001b[1moverseas countries and territories\u001b[0m(0.09, \u001b[94m115\u001b[0m, 969)\n",
      "\u001b[1mcapital increase\u001b[0m(0.09, \u001b[94m10\u001b[0m, 2348)\n",
      "\u001b[1mhealth control\u001b[0m(0.08, \u001b[94m1599\u001b[0m, 720)\n",
      "\u001b[1mcapital goods\u001b[0m(0.08, \u001b[94m0\u001b[0m, 1716)\n",
      "\u001b[1mventure capital\u001b[0m(0.08, \u001b[94m2\u001b[0m, 3059)\n",
      "\u001b[1minvestment\u001b[0m(0.08, \u001b[94m19\u001b[0m, 379)\n",
      "\u001b[1mAlgeria\u001b[0m(0.07, \u001b[94m34\u001b[0m, 148)\n",
      "\u001b[1mFrance\u001b[0m(0.07, \u001b[94m895\u001b[0m, 56)\n",
      "\u001b[1msupply\u001b[0m(0.07, \u001b[94m409\u001b[0m, 966)\n",
      "\u001b[1moverseas territory\u001b[0m(0.07, \u001b[94m2\u001b[0m, 2625)\n",
      "\u001b[1mdepartment (France)\u001b[0m(0.07, \u001b[94m2\u001b[0m, 2211)\n",
      "\u001b[1mcapital market\u001b[0m(0.07, \u001b[94m28\u001b[0m, 3058)\n",
      "\u001b[1mworking capital\u001b[0m(0.07, \u001b[94m1\u001b[0m, 39)\n",
      "\u001b[1mforeign capital\u001b[0m(0.07, \u001b[94m84\u001b[0m, 3112)\n",
      "\u001b[1meconomic policy\u001b[0m(0.06, \u001b[94m27\u001b[0m, 1134)\n",
      "\u001b[1mEU aid\u001b[0m(0.06, \u001b[94m1043\u001b[0m, 4167)\n",
      "\u001b[1mearly-stage capital\u001b[0m(0.06, \u001b[94m1\u001b[0m, 3914)\n",
      "\u001b[1mrepatriation of capital\u001b[0m(0.06, \u001b[94m1\u001b[0m, 1468)\n",
      "\u001b[1mcapital city\u001b[0m(0.06, \u001b[94m12\u001b[0m, 3101)\n",
      "\u001b[1mproductivity\u001b[0m(0.06, \u001b[94m3\u001b[0m, 1320)\n",
      "\u001b[1mcapital depreciation\u001b[0m(0.06, \u001b[94m1\u001b[0m, 2334)\n",
      "\u001b[1mroad services department\u001b[0m(0.06, \u001b[94m4\u001b[0m, 2848)\n",
      "\u001b[1mUnited Kingdom OCT\u001b[0m(0.06, \u001b[94m1\u001b[0m, 2109)\n",
      "\u001b[1mterrorism\u001b[0m(0.05, \u001b[94m263\u001b[0m, 2626)\n",
      "\u001b[1mFrench Polynesia\u001b[0m(0.05, \u001b[94m2\u001b[0m, 1181)\n",
      "\u001b[1mcitrus fruit\u001b[0m(0.05, \u001b[94m2988\u001b[0m, 3932)\n",
      "\u001b[1mFrench-speaking Community\u001b[0m(0.05, \u001b[94m1\u001b[0m, 3313)\n",
      "\u001b[1mFrench West Indies\u001b[0m(0.05, \u001b[94m1\u001b[0m, 784)\n",
      "\u001b[1mimport price\u001b[0m(0.05, \u001b[94m2959\u001b[0m, 1247)\n",
      "\u001b[1meconomic sanctions\u001b[0m(0.05, \u001b[94m575\u001b[0m, 2182)\n",
      "\u001b[1mNetherlands OCT\u001b[0m(0.05, \u001b[94m1\u001b[0m, 961)\n",
      "\u001b[1mcapital transfer\u001b[0m(0.05, \u001b[94m18\u001b[0m, 2662)\n",
      "\u001b[1mfinancial aid\u001b[0m(0.04, \u001b[94m375\u001b[0m, 4213)\n",
      "\u001b[1mRéunion\u001b[0m(0.04, \u001b[94m76\u001b[0m, 437)\n",
      "\u001b[1mfree movement of workers\u001b[0m(0.04, \u001b[94m28\u001b[0m, 493)\n",
      "\u001b[1mfruit vegetable\u001b[0m(0.04, \u001b[94m3004\u001b[0m, 471)\n",
      "\u001b[1mfree movement of goods\u001b[0m(0.04, \u001b[94m52\u001b[0m, 490)\n",
      "\u001b[1msupply balance sheet\u001b[0m(0.04, \u001b[94m269\u001b[0m, 2940)\n",
      "\u001b[1mState aid\u001b[0m(0.04, \u001b[94m649\u001b[0m, 4187)\n",
      "\u001b[1mBrussels region\u001b[0m(0.04, \u001b[94m2\u001b[0m, 1586)\n",
      "\u001b[1mEuropean Movement\u001b[0m(0.04, \u001b[94m3\u001b[0m, 769)\n",
      "\u001b[1mmarket economy\u001b[0m(0.04, \u001b[94m5\u001b[0m, 3833)\n",
      "\u001b[1mpip fruit\u001b[0m(0.04, \u001b[94m3005\u001b[0m, 87)\n",
      "\u001b[1mdeath penalty\u001b[0m(0.04, \u001b[94m4\u001b[0m, 987)\n",
      "\u001b[1mministry\u001b[0m(0.04, \u001b[94m1\u001b[0m, 3037)\n",
      "\u001b[1mtariff quota\u001b[0m(0.04, \u001b[94m2271\u001b[0m, 476)\n",
      "\u001b[1mfreedom to provide services\u001b[0m(0.04, \u001b[94m53\u001b[0m, 496)\n",
      "\u001b[1mimport licence\u001b[0m(0.04, \u001b[94m2152\u001b[0m, 503)\n",
      "\u001b[1mhealth certificate\u001b[0m(0.04, \u001b[94m882\u001b[0m, 3216)\n",
      "\u001b[1meconomic conditions\u001b[0m(0.03, \u001b[94m2\u001b[0m, 4119)\n",
      "\u001b[1mfree movement of persons\u001b[0m(0.03, \u001b[94m22\u001b[0m, 492)\n",
      "\u001b[1mcompany with share capital\u001b[0m(0.03, \u001b[94m2\u001b[0m, 2406)\n",
      "\u001b[1msupermarket\u001b[0m(0.03, \u001b[94m1\u001b[0m, 570)\n",
      "\u001b[1mregulation of transactions\u001b[0m(0.03, \u001b[94m7\u001b[0m, 1696)\n",
      "\u001b[1mfreedom of movement\u001b[0m(0.03, \u001b[94m12\u001b[0m, 2214)\n",
      "\u001b[1mprovision\u001b[0m(0.03, \u001b[94m6\u001b[0m, 1880)\n",
      "\u001b[1mveterinary inspection\u001b[0m(0.03, \u001b[94m1233\u001b[0m, 352)\n",
      "\u001b[1mimport\u001b[0m(0.03, \u001b[94m3645\u001b[0m, 232)\n",
      "\u001b[1mmovement certificate\u001b[0m(0.03, \u001b[94m58\u001b[0m, 3215)\n",
      "\u001b[1msocial development\u001b[0m(0.03, \u001b[94m6\u001b[0m, 2494)\n",
      "\u001b[1mUN Development Programme\u001b[0m(0.03, \u001b[94m1\u001b[0m, 1075)\n",
      "\u001b[1manimal disease\u001b[0m(0.03, \u001b[94m881\u001b[0m, 585)\n",
      "\u001b[1mlegislation\u001b[0m(0.03, \u001b[94m9\u001b[0m, 461)\n",
      "\u001b[1mEuropean Central Bank\u001b[0m(0.03, \u001b[94m128\u001b[0m, 3274)\n",
      "\u001b[1moriginating product\u001b[0m(0.03, \u001b[94m2152\u001b[0m, 1369)\n",
      "\u001b[1mmigratory movement\u001b[0m(0.02, \u001b[94m12\u001b[0m, 1209)\n",
      "\u001b[1mVAT\u001b[0m(0.02, \u001b[94m253\u001b[0m, 2734)\n",
      "\u001b[1magreement (EU)\u001b[0m(0.02, \u001b[94m839\u001b[0m, 371)\n",
      "\u001b[1mCongo\u001b[0m(0.02, \u001b[94m7\u001b[0m, 78)\n",
      "\u001b[1mrestoration of customs duties\u001b[0m(0.02, \u001b[94m703\u001b[0m, 1992)\n",
      "\u001b[1mEuropean Economic and Social Committee\u001b[0m(0.02, \u001b[94m181\u001b[0m, 3684)\n",
      "\u001b[1mprovision of services\u001b[0m(0.02, \u001b[94m81\u001b[0m, 1219)\n",
      "\u001b[1mexport of waste\u001b[0m(0.02, \u001b[94m18\u001b[0m, 3190)\n",
      "\u001b[1meconomic development\u001b[0m(0.02, \u001b[94m66\u001b[0m, 2454)\n",
      "\u001b[1mself-determination\u001b[0m(0.02, \u001b[94m2\u001b[0m, 2419)\n",
      "\u001b[1mconsumer movement\u001b[0m(0.02, \u001b[94m11\u001b[0m, 2043)\n",
      "\u001b[1manimal plague\u001b[0m(0.02, \u001b[94m414\u001b[0m, 1015)\n",
      "\u001b[1mproposal (EU)\u001b[0m(0.02, \u001b[94m1\u001b[0m, 1403)\n",
      "\u001b[1missuing of currency\u001b[0m(0.02, \u001b[94m26\u001b[0m, 3975)\n",
      "\u001b[1mACP countries\u001b[0m(0.02, \u001b[94m275\u001b[0m, 3011)\n",
      "\u001b[1maccess to information\u001b[0m(0.02, \u001b[94m65\u001b[0m, 2697)\n",
      "\u001b[1mEcosoc\u001b[0m(0.02, \u001b[94m8\u001b[0m, 2061)\n",
      "\u001b[1msocioeconomic conditions\u001b[0m(0.02, \u001b[94m17\u001b[0m, 4165)\n",
      "\u001b[1mtariff preference\u001b[0m(0.02, \u001b[94m753\u001b[0m, 2564)\n",
      "\u001b[1meuro\u001b[0m(0.02, \u001b[94m157\u001b[0m, 3854)\n",
      "\u001b[1mregulation\u001b[0m(0.02, \u001b[94m5\u001b[0m, 1630)\n",
      "\u001b[1mliberalisation of trade\u001b[0m(0.02, \u001b[94m61\u001b[0m, 481)\n",
      "\u001b[1maid system\u001b[0m(0.02, \u001b[94m827\u001b[0m, 1563)\n",
      "\u001b[1meconomic stabilisation\u001b[0m(0.02, \u001b[94m52\u001b[0m, 2438)\n",
      "\u001b[1maid per hectare\u001b[0m(0.02, \u001b[94m207\u001b[0m, 3997)\n"
     ]
    }
   ],
   "source": [
    "print(get_text(x, Y, val_xshortlist, K=100, sep='\\n', attr='bold', f = lambda ind, val : '%.2f, %s, %d'%(val, _c(nnz[ind], attr='blue'), ind)))"
   ]
  },
  {
   "cell_type": "markdown",
   "metadata": {},
   "source": [
    "### Analyze bilinear"
   ]
  },
  {
   "cell_type": "code",
   "execution_count": 107,
   "metadata": {
    "ExecuteTime": {
     "end_time": "2020-10-14T20:46:44.460110Z",
     "start_time": "2020-10-14T20:46:44.452956Z"
    }
   },
   "outputs": [],
   "source": [
    "bilinear_clf = read_buf_bin_vec(open(f'{RES_DIR}/model/bilinear_clf.bin', 'rb').read(), np.float32)[0]"
   ]
  },
  {
   "cell_type": "code",
   "execution_count": 108,
   "metadata": {
    "ExecuteTime": {
     "end_time": "2020-10-14T20:46:46.396881Z",
     "start_time": "2020-10-14T20:46:46.391157Z"
    }
   },
   "outputs": [
    {
     "data": {
      "text/plain": [
       "((2217694,), 2217693)"
      ]
     },
     "execution_count": 108,
     "metadata": {},
     "output_type": "execute_result"
    }
   ],
   "source": [
    "bilinear_clf.shape, sp_pattern_mat.nnz"
   ]
  },
  {
   "cell_type": "code",
   "execution_count": 110,
   "metadata": {
    "ExecuteTime": {
     "end_time": "2020-10-14T20:46:54.780565Z",
     "start_time": "2020-10-14T20:46:54.775582Z"
    }
   },
   "outputs": [
    {
     "data": {
      "text/plain": [
       "array([-0.5736173 ,  0.12871023,  0.4830132 ,  0.5849314 ,  0.82220685,\n",
       "        0.7778163 ,  0.39703313, -0.04310488,  1.0390685 , -1.6236305 ],\n",
       "      dtype=float32)"
      ]
     },
     "execution_count": 110,
     "metadata": {},
     "output_type": "execute_result"
    }
   ],
   "source": [
    "bilinear_clf[-10:]"
   ]
  },
  {
   "cell_type": "code",
   "execution_count": 113,
   "metadata": {
    "ExecuteTime": {
     "end_time": "2020-10-14T20:48:49.125791Z",
     "start_time": "2020-10-14T20:48:49.097356Z"
    }
   },
   "outputs": [
    {
     "name": "stdout",
     "output_type": "stream",
     "text": [
      "loaded bin file in buffer\n"
     ]
    }
   ],
   "source": [
    "trn_xshortlist = read_bin_spmat(f'{RES_DIR}/model/shortlist.bin')\n",
    "trn_linear_form_mat = read_bin_spmat(f'{RES_DIR}/model/linear_form_mat.bin')\n",
    "\n",
    "sampled_tlfm = trn_linear_form_mat[:100000]"
   ]
  },
  {
   "cell_type": "code",
   "execution_count": 123,
   "metadata": {
    "ExecuteTime": {
     "end_time": "2020-10-14T20:53:39.238032Z",
     "start_time": "2020-10-14T20:53:39.232341Z"
    },
    "scrolled": true
   },
   "outputs": [
    {
     "name": "stdout",
     "output_type": "stream",
     "text": [
      "x = 0 : \n",
      "\u001b[1m\u001b[4mcommon transport policy\u001b[0m(1.00, 1098) \u001b[1m\u001b[4mlegal status\u001b[0m(1.00, 2458) \u001b[1m\u001b[4mcommittee (EU)\u001b[0m(1.00, 3679)\n",
      "EEC Council: Rules of the Transport Committee. ,Having regard to Article 83 of the Treaty establishing the European Economic Community, which provides that an advisory committee consisting of experts designated by the Governments of Member States shall be attached to the Commission and consulted by the latter on transport matters whenever the Commission considers this desirable, without prejudice to the powers of the transport section of the Economic and Social Committee;Having regard to Article 153 of that Treaty, which provides that the Council shall, after receiving an opinion from the Commission, determine the rules governing the committees provided for in that Treaty;Having received an Opinion from the Commission;. that the Rules of the Transport Committee shall be as follows: The Committee shall consist of experts on transport matters designated by the Governments of Member States. Each Government shall designate one expert or two experts selected from among senior officials of the central administration. It may, in addition, designate not more than three experts of acknowledged competence in, respectively, the railway, road transport and inland waterway sectors. Each Government may designate an alternate for each member of the Committee appointed by it; this alternate shall satisfy conditions the same as those for the member of the Committee whom he replaces.Alternates shall attend Committee meetings and take part in the work of the Committee only in the event of full members being unable to do so. Committee members and their alternates shall be appointed in their personal capacity and may not be bound by any mandatory instructions. The term of office for members and their alternates shall be two years. Their appointments may be renewed.In the event of the death, resignation or compulsory retirement of a member or alternate, that member or alternate shall replaced for the remainder of his term of office.The Government which appointed a member or alternate may compulsorily retire that member or alternate only if the member or alternate no longer fulfils the conditions required for the performance of his duties. The Committee shall, by an absolute majority of members present and voting, elect from among the members appointed by virtue of their status as senior officials of the central administration a Chairman and Vice-Chairman, who shall serve as such for two years.Should the Chairman or Vice-Chairman cease to hold office before the period for which he was elected has expired, a replacement for him shall be elected for the remainder of the period for which he was originally elected.Neither the Chairman nor the Vice-Chairman may be re-elected. The Committee shall be convened by the Chairman, at the request of the Commission, whenever the latter wishes to consult it. The Commission's request shall state the purpose of the consultation. When the Committee is consulted by the Commission, it shall present the latter with a report setting out the conclusions reached as a result of its deliberations. It shall do likewise if the Commission entrusts it with the study of a specific problem.The Commission shall also be entitled to consult the Committee orally.The minutes of the Committee shall be sent to the Commission. The Commission shall be invited to send its representatives to meetings of the Committee and its working parties. The Committee shall, by an absolute majority of members present and voting, adopt rules of procedure laying down its methods of working.The Committee may, whenever such action appears to it to be necessary for the purposes of formulating an opinion, seek the assistance of any suitably qualified person, obtain any advice and hold hearings. Such action may, however, be taken only with the consent of the Commission. 0The expenses of the Committee shall be included in the estimates of the Commission.. Done at Brussels, 15 September 1958.For the CouncilThe PresidentL. Erhard--------------------------------------------------\n"
     ]
    }
   ],
   "source": [
    "x = 0\n",
    "print(get_text(x, Y, trn_X_Y))\n",
    "print(trn_X[x])"
   ]
  },
  {
   "cell_type": "code",
   "execution_count": 125,
   "metadata": {
    "ExecuteTime": {
     "end_time": "2020-10-14T21:03:14.634275Z",
     "start_time": "2020-10-14T21:03:14.627617Z"
    },
    "scrolled": true
   },
   "outputs": [
    {
     "name": "stdout",
     "output_type": "stream",
     "text": [
      "x = 0 : \n",
      "\u001b[1m\u001b[4mbias\u001b[0m(\u001b[92m1.00\u001b[0m, \u001b[94m-1.62\u001b[0m, 2217693)\n",
      "\u001b[1m\u001b[4m[x[79870](inland waterway) : y[18786](waterway fleet)]\u001b[0m(\u001b[92m0.28\u001b[0m, \u001b[94m0.62\u001b[0m, 1590268)\n",
      "\u001b[1m\u001b[4m[x[79870](inland waterway) : y[19096](__label__25__inland waterway fleet)]\u001b[0m(\u001b[92m0.28\u001b[0m, \u001b[94m0.62\u001b[0m, 1590272)\n",
      "\u001b[1m\u001b[4m[x[47754](waterway) : y[18786](waterway fleet)]\u001b[0m(\u001b[92m0.28\u001b[0m, \u001b[94m0.14\u001b[0m, 947801)\n",
      "\u001b[1m\u001b[4m[x[47754](waterway) : y[19096](__label__25__inland waterway fleet)]\u001b[0m(\u001b[92m0.28\u001b[0m, \u001b[94m0.14\u001b[0m, 947805)\n",
      "\u001b[1m\u001b[4m[x[79870](inland waterway) : y[11352](inland waterway)]\u001b[0m(\u001b[92m0.25\u001b[0m, \u001b[94m-0.12\u001b[0m, 1590261)\n",
      "\u001b[1m\u001b[4m[x[47754](waterway) : y[11352](inland waterway)]\u001b[0m(\u001b[92m0.25\u001b[0m, \u001b[94m0.20\u001b[0m, 947794)\n",
      "\u001b[1m\u001b[4m[x[79870](inland waterway) : y[23935](__parent__4515)]\u001b[0m(\u001b[92m0.25\u001b[0m, \u001b[94m-0.05\u001b[0m, 1590275)\n",
      "\u001b[1m\u001b[4m[x[47754](waterway) : y[23935](__parent__4515)]\u001b[0m(\u001b[92m0.24\u001b[0m, \u001b[94m0.27\u001b[0m, 947808)\n",
      "\u001b[1m\u001b[4m[x[27594](inland) : y[11352](inland waterway)]\u001b[0m(\u001b[92m0.24\u001b[0m, \u001b[94m-0.01\u001b[0m, 547844)\n",
      "\u001b[1m\u001b[4m[x[79870](inland waterway) : y[2135](inland)]\u001b[0m(\u001b[92m0.24\u001b[0m, \u001b[94m-0.41\u001b[0m, 1590257)\n",
      "\u001b[1m\u001b[4m[x[79870](inland waterway) : y[4367](waterway)]\u001b[0m(\u001b[92m0.24\u001b[0m, \u001b[94m-0.14\u001b[0m, 1590258)\n",
      "\u001b[1m\u001b[4m[x[27594](inland) : y[23935](__parent__4515)]\u001b[0m(\u001b[92m0.24\u001b[0m, \u001b[94m0.15\u001b[0m, 547858)\n",
      "\u001b[1m\u001b[4m[x[47754](waterway) : y[4367](waterway)]\u001b[0m(\u001b[92m0.23\u001b[0m, \u001b[94m0.16\u001b[0m, 947791)\n",
      "\u001b[1m\u001b[4m[x[47754](waterway) : y[2135](inland)]\u001b[0m(\u001b[92m0.23\u001b[0m, \u001b[94m0.21\u001b[0m, 947790)\n",
      "\u001b[1m\u001b[4m[x[27594](inland) : y[4367](waterway)]\u001b[0m(\u001b[92m0.23\u001b[0m, \u001b[94m-0.13\u001b[0m, 547841)\n",
      "\u001b[1m\u001b[4m[x[27594](inland) : y[2135](inland)]\u001b[0m(\u001b[92m0.23\u001b[0m, \u001b[94m0.76\u001b[0m, 547840)\n"
     ]
    }
   ],
   "source": [
    "print(get_text(0, pair_xfs, sampled_tlfm, sep='\\n', f = lambda ind, val : '%s, %s, %d'%(_c('%.2f'%val, attr='green'), _c('%.2f'%bilinear_clf[ind], attr='blue'), ind)))"
   ]
  },
  {
   "cell_type": "code",
   "execution_count": 81,
   "metadata": {
    "ExecuteTime": {
     "end_time": "2020-10-14T14:38:49.227442Z",
     "start_time": "2020-10-14T14:38:48.985849Z"
    },
    "scrolled": true
   },
   "outputs": [
    {
     "name": "stdout",
     "output_type": "stream",
     "text": [
      "[x[20314](dissolut) : y[20867](__label__1861__republic)] 8.824594\n",
      "[x[96944](thereto 2) : y[23208](fingal)] 7.322508\n",
      "[x[99134](wherea implement) : y[19152](__label__84__fruit)] 7.0405354\n",
      "[x[79278](import valu) : y[23208](fingal)] 6.2630157\n",
      "[x[66422](buy skim) : y[19497](__label__441__milk)] 5.98454\n",
      "[x[61285](97 tabl) : y[9931](fix amount)] 5.8275075\n",
      "[x[79225](import price) : y[11084](import price)] 5.681644\n",
      "[x[37698](presidentjoao) : y[20867](__label__1861__republic)] 5.513355\n",
      "[x[32192](melon) : y[2561](melon)] 5.4899225\n",
      "[x[32428](mexico) : y[2591](mexico)] 5.399579\n",
      "[x[95261](statist nomenclatur) : y[17149](statist nomenclatur)] 5.362549\n",
      "[x[96430](tariff concess) : y[17545](tariff concess)] 5.25389\n",
      "[x[55338](2009 protect) : y[11079](import eu)] 5.1911826\n",
      "[x[55338](2009 protect) : y[6872](communiti import)] 5.1911826\n",
      "[x[72547](duti level) : y[21313](__label__2323__customs duties)] 5.1337233\n",
      "[x[13520](aubergin) : y[269](aubergin)] 5.054527\n",
      "[x[99134](wherea implement) : y[19522](__label__468__vegetable)] 5.0014377\n",
      "[x[90200](quota 2014) : y[212](001209)] 4.9940886\n",
      "[x[31461](maiz) : y[19633](__label__580__maize)] 4.9901996\n",
      "[x[18656](courgett) : y[960](courgett)] 4.916713\n",
      "[x[53493](1997 lay) : y[20400](__label__1369__originating product; origin of goods; product orig)] 4.900812\n",
      "[x[16904](chairpersonm) : y[4759](african republ)] 4.825022\n",
      "[x[62153](address feder) : y[23948](__parent__4590)] 4.7886047\n",
      "[x[75228](eur great) : y[21313](eh54)] 4.7631073\n",
      "[x[23123](fig) : y[1622](fig)] 4.688825\n",
      "[x[67066](cereal regard) : y[22168](__label__3208__cereals)] 4.671651\n",
      "[x[96905](therein 2014) : y[212](001209)] 4.5622396\n",
      "[x[68452](common organ) : y[6799](common organ)] 4.539627\n",
      "[x[78498](held negoti) : y[22061](__label__3098__fishing regulations)] 4.5354176\n",
      "[x[54464](2001 fix) : y[6832](communiti aid)] 4.51825\n",
      "[x[25300](guinea) : y[19227](__label__163__Guinea; Republic of Guinea)] 4.5072308\n",
      "[x[2132](134th) : y[19087](__label__16__fixing of prices; price proposal; pricing)] 4.4787765\n",
      "[x[3827](2009cn) : y[22168](__label__3208__cereals)] 4.4253035\n",
      "[x[85133](notifi request) : y[12244](limit import)] 4.4131446\n",
      "[x[73589](ecu shall) : y[19871](__label__827__cooperation agreement)] 4.3604646\n",
      "[x[95786](substitut articl) : y[21455](__label__2470__storage; storage facility; storage site; warehouse)] 4.3282704\n",
      "[x[79367](includ fruit) : y[19152](__label__84__fruit)] 4.327484\n",
      "[x[76383](financ programm) : y[19075](__label__4__EU financing; Community financing; European Union)] 4.3142095\n",
      "[x[96444](tariff quota) : y[17557](tariff quota)] 4.3029118\n",
      "[x[78420](health certif) : y[10794](health certif)] 4.2699614\n",
      "[x[90608](record member) : y[6626](cmo common)] 4.2698445\n",
      "[x[78420](health certif) : y[22176](__label__3216__health certificate)] 4.2698126\n",
      "[x[56218](26 28) : y[21290](__label__2300__association agreement (EU); EC association agreeme)] 4.2504096\n",
      "[x[79117](import 4) : y[19292](__label__232__import)] 4.229357\n",
      "[x[6452](3575) : y[21468](__label__2483__regional development)] 4.2071505\n",
      "[x[17138](china) : y[6508](china peopl)] 4.2053347\n",
      "[x[17138](china) : y[22570](__label__3627__China; People’s Republic of China)] 4.2052326\n",
      "[x[81169](l 319) : y[9523](export sale)] 4.1915703\n",
      "[x[17621](cocoa) : y[21976](__label__3008__cocoa)] 4.186716\n",
      "[x[71275](decis implement) : y[4452](yugoslavia)] 4.185442\n",
      "[x[36852](pimiento) : y[3081](pimiento)] 4.179856\n",
      "[x[65483](award shall) : y[9511](export export)] 4.1599507\n",
      "[x[15871](butter) : y[21897](__label__2928__butter)] 4.147494\n",
      "[x[2177](1379) : y[19186](__label__121__fishery management; fishery planning; fishery syst)] 4.141473\n",
      "[x[53872](2 countri) : y[20505](__label__1479__ratio)] 4.141105\n",
      "[x[69246](concerned1701 11) : y[24193](gamleby594)] 4.136065\n",
      "[x[97456](transport product) : y[20867](__label__1861__republic)] 4.130306\n",
      "[x[73812](eec 24) : y[19152](__label__84__fruit)] 4.0669594\n",
      "[x[79367](includ fruit) : y[19522](__label__468__vegetable)] 4.066898\n",
      "[x[65097](august 31) : y[19152](__label__84__fruit)] 4.0666885\n",
      "[x[96573](ten day) : y[18148](transport regul)] 3.989563\n",
      "[x[91990](request opinion) : y[15895](request opinion)] 3.9841495\n",
      "[x[23765](franc) : y[10177](franc french)] 3.973844\n",
      "[x[23765](franc) : y[19126](__label__56__France; French Republic)] 3.9737298\n",
      "[x[91080](region aid) : y[15559](region aid)] 3.9436703\n",
      "[x[59215](67 14) : y[9639](farm product)] 3.9374344\n",
      "[x[68294](commit appropri) : y[6758](commit appropri)] 3.8970406\n",
      "[x[79957](instrument shall) : y[19419](__label__361__financial instrument)] 3.867415\n",
      "[x[34353](nk603xmon810) : y[7232](control foodstuff)] 3.8563244\n",
      "[x[97659](type approv) : y[21751](__label__2776__motor vehicle)] 3.8542137\n",
      "[x[27681](institutef) : y[23068](ff)] 3.8537068\n",
      "[x[82471](macedonia 1) : y[1702](former)] 3.8512635\n",
      "[x[96432](tariff duti) : y[17547](tariff duti)] 3.8486903\n",
      "[x[29841](kyrgyzstan) : y[2297](kyrgyzstan)] 3.8257525\n",
      "[x[59038](60 million) : y[7924](develop aid)] 3.8022764\n",
      "[x[64614](arrang regul) : y[19341](__label__282__fishing industry; fishing; fishing activity)] 3.7922938\n",
      "[x[53525](1998 conclus) : y[23575](__parent__26)] 3.7870314\n",
      "[x[60953](93 6) : y[19292](__label__232__import)] 3.7827842\n",
      "[x[12116](aluminosil) : y[22507](__label__3562__animal health)] 3.7705383\n",
      "[x[68577](communiti control) : y[6848](communiti control)] 3.7542107\n",
      "[x[72193](diseas present) : y[3957](swine)] 3.7205822\n",
      "[x[50439](05 b) : y[20279](__label__1245__prices)] 3.7094445\n",
      "[x[37271](pomelo) : y[3146](pomelo)] 3.6929402\n",
      "[x[65097](august 31) : y[19522](__label__468__vegetable)] 3.692457\n",
      "[x[59936](8 thereof) : y[6832](communiti aid)] 3.6597278\n",
      "[x[74306](eib lend) : y[21468](__label__2483__regional development)] 3.6458828\n",
      "[x[3702](2005cn) : y[24003](__parent__4994)] 3.6233912\n",
      "[x[92385](restrict certain) : y[4927](agricultur year)] 3.619813\n",
      "[x[98374](variet convers) : y[22976](__label__4057__production aid; aid to producers)] 3.6197195\n",
      "[x[90393](rate eur) : y[24132](__parent__5774)] 3.5933821\n",
      "[x[22926](feedingstuff) : y[1606](feed)] 3.5873377\n",
      "[x[90401](rate import) : y[21313](__label__2323__customs duties)] 3.570108\n",
      "[x[1964](1280) : y[19140](__label__71__cheese)] 3.5436769\n",
      "[x[82601](maiz import) : y[19633](__label__580__maize)] 3.5394244\n",
      "[x[19529](defray) : y[9026](equalis financi)] 3.5352004\n",
      "[x[19529](defray) : y[20029](__label__990__financial equalisation; financial compensation; fi)] 3.5352004\n",
      "[x[65839](basi quotat) : y[655](cct)] 3.5316248\n",
      "[x[87406](plant product) : y[14307](plant product)] 3.5309367\n",
      "[x[17991](communitygeneva) : y[4251](uruguay)] 3.5272758\n",
      "[x[77770](germani luxembourg) : y[19126](__label__56__France; French Republic)] 3.526616\n"
     ]
    }
   ],
   "source": [
    "sorted_inds = np.argsort(-bilinear_clf)\n",
    "for i in sorted_inds[:100]:\n",
    "    print(pair_xfs[i], bilinear_clf[i])"
   ]
  },
  {
   "cell_type": "code",
   "execution_count": 464,
   "metadata": {
    "ExecuteTime": {
     "end_time": "2020-10-08T12:55:40.132576Z",
     "start_time": "2020-10-08T12:55:40.128275Z"
    }
   },
   "outputs": [
    {
     "data": {
      "text/plain": [
       "(1108383,)"
      ]
     },
     "execution_count": 464,
     "metadata": {},
     "output_type": "execute_result"
    }
   ],
   "source": [
    "learnt_sp_pattern_mat = sp_pattern_mat.copy()"
   ]
  },
  {
   "cell_type": "code",
   "execution_count": 39,
   "metadata": {
    "ExecuteTime": {
     "end_time": "2020-10-08T16:10:50.966430Z",
     "start_time": "2020-10-08T16:10:50.111655Z"
    }
   },
   "outputs": [],
   "source": [
    "shortlist = (tst_X_Xf.dot(binarize(sp_pattern_mat, copy=True))).dot(Y_Xf.T)\n",
    "# shortlist = (tst_X_Xf.dot(binarize(sp_pattern_mat, copy=True))).dot(Y_Xf.T)"
   ]
  },
  {
   "cell_type": "code",
   "execution_count": 40,
   "metadata": {
    "ExecuteTime": {
     "end_time": "2020-10-08T16:10:59.430337Z",
     "start_time": "2020-10-08T16:10:57.597584Z"
    }
   },
   "outputs": [],
   "source": [
    "topk_shortlist = xclib.utils.sparse.retain_topk(shortlist.copy(), copy=False, k=100)"
   ]
  },
  {
   "cell_type": "code",
   "execution_count": 10,
   "metadata": {
    "ExecuteTime": {
     "end_time": "2020-10-08T16:43:40.991639Z",
     "start_time": "2020-10-08T16:43:40.957885Z"
    }
   },
   "outputs": [
    {
     "name": "stdout",
     "output_type": "stream",
     "text": [
      "loaded bin file in buffer\n",
      "loaded bin file in buffer\n"
     ]
    }
   ],
   "source": [
    "trn_xshortlist = read_bin_spmat(f'{RES_DIR}/trn_xshortlist.bin')\n",
    "tst_xshortlist = read_bin_spmat(f'{RES_DIR}/tst_xshortlist.bin')"
   ]
  },
  {
   "cell_type": "code",
   "execution_count": 15,
   "metadata": {
    "ExecuteTime": {
     "end_time": "2020-10-08T16:46:11.044365Z",
     "start_time": "2020-10-08T16:46:11.040314Z"
    }
   },
   "outputs": [
    {
     "data": {
      "text/plain": [
       "<numpy.vectorize at 0x7f9b36098a90>"
      ]
     },
     "execution_count": 15,
     "metadata": {},
     "output_type": "execute_result"
    }
   ],
   "source": [
    "inv_valid_labels"
   ]
  },
  {
   "cell_type": "code",
   "execution_count": 19,
   "metadata": {
    "ExecuteTime": {
     "end_time": "2020-10-08T16:48:11.856445Z",
     "start_time": "2020-10-08T16:48:11.823705Z"
    }
   },
   "outputs": [
    {
     "data": {
      "text/plain": [
       "625.8653084323713"
      ]
     },
     "execution_count": 19,
     "metadata": {},
     "output_type": "execute_result"
    }
   ],
   "source": [
    "trn_xshortlist.getnnz(0)[inv_valid_labels(np.where((nnz > 0) & (nnz <= 5))[0])].mean()"
   ]
  },
  {
   "cell_type": "code",
   "execution_count": 458,
   "metadata": {
    "ExecuteTime": {
     "end_time": "2020-10-08T12:01:17.619089Z",
     "start_time": "2020-10-08T12:01:17.498510Z"
    },
    "scrolled": true
   },
   "outputs": [
    {
     "data": {
      "text/plain": [
       "{'R@1': 13.144911584516846,\n",
       " 'R@50': 60.26923516971504,\n",
       " 'R@100': 68.9052960978077,\n",
       " 'R@500': 68.9052960978077,\n",
       " 'R@1000': 68.9052960978077}"
      ]
     },
     "execution_count": 458,
     "metadata": {},
     "output_type": "execute_result"
    }
   ],
   "source": [
    "recall(topk_shortlist, tst_X_Y, K=[1, 50, 100, 500, 1000])"
   ]
  },
  {
   "cell_type": "code",
   "execution_count": 298,
   "metadata": {
    "ExecuteTime": {
     "end_time": "2020-10-07T12:20:54.482953Z",
     "start_time": "2020-10-07T12:20:50.612331Z"
    }
   },
   "outputs": [
    {
     "data": {
      "text/plain": [
       "{'R@100': 73.54989315912846,\n",
       " 'R@500': 87.95412884591806,\n",
       " 'R@1000': 89.36961768297063}"
      ]
     },
     "execution_count": 298,
     "metadata": {},
     "output_type": "execute_result"
    }
   ],
   "source": [
    "recall(temp, trn_X_Y, K=[100, 500, 1000])"
   ]
  },
  {
   "cell_type": "code",
   "execution_count": 37,
   "metadata": {
    "ExecuteTime": {
     "end_time": "2020-10-08T16:09:26.177481Z",
     "start_time": "2020-10-08T16:09:26.082822Z"
    }
   },
   "outputs": [],
   "source": [
    "temp = tst_X_Xf.dot(Y_Xf.T)"
   ]
  },
  {
   "cell_type": "code",
   "execution_count": 34,
   "metadata": {
    "ExecuteTime": {
     "end_time": "2020-10-08T16:08:07.327036Z",
     "start_time": "2020-10-08T16:08:07.313976Z"
    }
   },
   "outputs": [],
   "source": [
    "alpha = 0.95\n",
    "score_mat = alpha*clf_score_mat + (1-alpha)*tst_"
   ]
  },
  {
   "cell_type": "code",
   "execution_count": 123,
   "metadata": {
    "ExecuteTime": {
     "end_time": "2020-10-10T17:39:36.270485Z",
     "start_time": "2020-10-10T17:39:36.263880Z"
    }
   },
   "outputs": [
    {
     "name": "stdout",
     "output_type": "stream",
     "text": [
      "loaded bin file in buffer\n"
     ]
    }
   ],
   "source": [
    "direct_xf_yf = read_bin_spmat(f'/scratch/nilesh/experiments/genexml/Results/{dataset}/model/direct_Xf_Yf.bin').tocoo()"
   ]
  },
  {
   "cell_type": "code",
   "execution_count": 124,
   "metadata": {
    "ExecuteTime": {
     "end_time": "2020-10-10T17:39:38.150131Z",
     "start_time": "2020-10-10T17:39:38.145601Z"
    }
   },
   "outputs": [
    {
     "data": {
      "text/plain": [
       "6300"
      ]
     },
     "execution_count": 124,
     "metadata": {},
     "output_type": "execute_result"
    }
   ],
   "source": [
    "direct_xf_yf.nnz"
   ]
  },
  {
   "cell_type": "code",
   "execution_count": 22,
   "metadata": {
    "ExecuteTime": {
     "end_time": "2020-10-10T10:53:32.780211Z",
     "start_time": "2020-10-10T10:53:32.775557Z"
    }
   },
   "outputs": [
    {
     "data": {
      "text/plain": [
       "('contain', 'contain')"
      ]
     },
     "execution_count": 22,
     "metadata": {},
     "output_type": "execute_result"
    }
   ],
   "source": [
    "ind = 798\n",
    "xfs[direct_xf_yf.row[ind]], yfs[direct_xf_yf.col[ind]]"
   ]
  },
  {
   "cell_type": "code",
   "execution_count": 28,
   "metadata": {
    "ExecuteTime": {
     "end_time": "2020-10-10T11:01:02.817133Z",
     "start_time": "2020-10-10T11:01:02.582999Z"
    }
   },
   "outputs": [],
   "source": [
    "alpha = 0.9; beta = 0.05; gamma = 0.05\n",
    "score_mat = normalize(clf_score_mat, norm=\"max\")*alpha + normalize(bilinear_score_mat, norm=\"max\")*beta + normalize(knn_score_mat, norm=\"max\")*gamma"
   ]
  },
  {
   "cell_type": "code",
   "execution_count": 166,
   "metadata": {
    "ExecuteTime": {
     "end_time": "2020-10-10T18:28:05.983043Z",
     "start_time": "2020-10-10T18:28:05.888809Z"
    }
   },
   "outputs": [
    {
     "name": "stdout",
     "output_type": "stream",
     "text": [
      "loaded bin file in buffer\n",
      "loaded bin file in buffer\n",
      "loaded bin file in buffer\n"
     ]
    }
   ],
   "source": [
    "clf_score_mat = read_bin_spmat(f'{RES_DIR}/clf_score_mat.bin').copy()\n",
    "bilinear_score_mat = read_bin_spmat(f'{RES_DIR}/bilinear_score_mat.bin').copy()\n",
    "knn_score_mat = read_bin_spmat(f'{RES_DIR}/knn_score_mat.bin').copy()\n",
    "\n",
    "# # trn_xshortlist = read_bin_spmat(f'{RES_DIR}/trn_xshortlist.bin')\n",
    "# tst_xshortlist = read_bin_spmat(f'{RES_DIR}/shortlist.bin')"
   ]
  },
  {
   "cell_type": "code",
   "execution_count": 168,
   "metadata": {
    "ExecuteTime": {
     "end_time": "2020-10-10T18:28:37.498291Z",
     "start_time": "2020-10-10T18:28:37.012324Z"
    },
    "scrolled": true
   },
   "outputs": [
    {
     "name": "stdout",
     "output_type": "stream",
     "text": [
      "\u001b[1mGZSL metrics (shape=(6000, 4271)): \u001b[0m\n"
     ]
    },
    {
     "data": {
      "text/html": [
       "<div>\n",
       "<style scoped>\n",
       "    .dataframe tbody tr th:only-of-type {\n",
       "        vertical-align: middle;\n",
       "    }\n",
       "\n",
       "    .dataframe tbody tr th {\n",
       "        vertical-align: top;\n",
       "    }\n",
       "\n",
       "    .dataframe thead th {\n",
       "        text-align: right;\n",
       "    }\n",
       "</style>\n",
       "<table border=\"1\" class=\"dataframe\">\n",
       "  <thead>\n",
       "    <tr style=\"text-align: right;\">\n",
       "      <th></th>\n",
       "      <th>1</th>\n",
       "      <th>2</th>\n",
       "      <th>3</th>\n",
       "      <th>4</th>\n",
       "      <th>5</th>\n",
       "    </tr>\n",
       "  </thead>\n",
       "  <tbody>\n",
       "    <tr>\n",
       "      <th>P</th>\n",
       "      <td>87.33</td>\n",
       "      <td>79.71</td>\n",
       "      <td>71.64</td>\n",
       "      <td>63.31</td>\n",
       "      <td>55.72</td>\n",
       "    </tr>\n",
       "    <tr>\n",
       "      <th>nDCG</th>\n",
       "      <td>87.33</td>\n",
       "      <td>81.65</td>\n",
       "      <td>76.62</td>\n",
       "      <td>72.75</td>\n",
       "      <td>70.11</td>\n",
       "    </tr>\n",
       "    <tr>\n",
       "      <th>PSP</th>\n",
       "      <td>48.95</td>\n",
       "      <td>52.56</td>\n",
       "      <td>53.53</td>\n",
       "      <td>53.22</td>\n",
       "      <td>52.63</td>\n",
       "    </tr>\n",
       "    <tr>\n",
       "      <th>PSnDCG</th>\n",
       "      <td>48.95</td>\n",
       "      <td>51.69</td>\n",
       "      <td>52.63</td>\n",
       "      <td>52.88</td>\n",
       "      <td>52.94</td>\n",
       "    </tr>\n",
       "  </tbody>\n",
       "</table>\n",
       "</div>"
      ],
      "text/plain": [
       "            1      2      3      4      5\n",
       "P       87.33  79.71  71.64  63.31  55.72\n",
       "nDCG    87.33  81.65  76.62  72.75  70.11\n",
       "PSP     48.95  52.56  53.53  53.22  52.63\n",
       "PSnDCG  48.95  51.69  52.63  52.88  52.94"
      ]
     },
     "metadata": {},
     "output_type": "display_data"
    },
    {
     "name": "stdout",
     "output_type": "stream",
     "text": [
      "\u001b[1mFewShot metrics (shape=(524, 1930)): \u001b[0m\n"
     ]
    },
    {
     "data": {
      "text/html": [
       "<div>\n",
       "<style scoped>\n",
       "    .dataframe tbody tr th:only-of-type {\n",
       "        vertical-align: middle;\n",
       "    }\n",
       "\n",
       "    .dataframe tbody tr th {\n",
       "        vertical-align: top;\n",
       "    }\n",
       "\n",
       "    .dataframe thead th {\n",
       "        text-align: right;\n",
       "    }\n",
       "</style>\n",
       "<table border=\"1\" class=\"dataframe\">\n",
       "  <thead>\n",
       "    <tr style=\"text-align: right;\">\n",
       "      <th></th>\n",
       "      <th>1</th>\n",
       "      <th>2</th>\n",
       "      <th>3</th>\n",
       "      <th>4</th>\n",
       "      <th>5</th>\n",
       "    </tr>\n",
       "  </thead>\n",
       "  <tbody>\n",
       "    <tr>\n",
       "      <th>P</th>\n",
       "      <td>17.56</td>\n",
       "      <td>12.50</td>\n",
       "      <td>10.24</td>\n",
       "      <td>8.59</td>\n",
       "      <td>7.4</td>\n",
       "    </tr>\n",
       "    <tr>\n",
       "      <th>nDCG</th>\n",
       "      <td>17.56</td>\n",
       "      <td>19.35</td>\n",
       "      <td>21.33</td>\n",
       "      <td>22.51</td>\n",
       "      <td>23.3</td>\n",
       "    </tr>\n",
       "  </tbody>\n",
       "</table>\n",
       "</div>"
      ],
      "text/plain": [
       "          1      2      3      4     5\n",
       "P     17.56  12.50  10.24   8.59   7.4\n",
       "nDCG  17.56  19.35  21.33  22.51  23.3"
      ]
     },
     "metadata": {},
     "output_type": "display_data"
    },
    {
     "name": "stdout",
     "output_type": "stream",
     "text": [
      "\u001b[1mSZSL metrics (shape=(89, 163)): \u001b[0m\n"
     ]
    },
    {
     "data": {
      "text/html": [
       "<div>\n",
       "<style scoped>\n",
       "    .dataframe tbody tr th:only-of-type {\n",
       "        vertical-align: middle;\n",
       "    }\n",
       "\n",
       "    .dataframe tbody tr th {\n",
       "        vertical-align: top;\n",
       "    }\n",
       "\n",
       "    .dataframe thead th {\n",
       "        text-align: right;\n",
       "    }\n",
       "</style>\n",
       "<table border=\"1\" class=\"dataframe\">\n",
       "  <thead>\n",
       "    <tr style=\"text-align: right;\">\n",
       "      <th></th>\n",
       "      <th>1</th>\n",
       "      <th>2</th>\n",
       "      <th>3</th>\n",
       "      <th>4</th>\n",
       "      <th>5</th>\n",
       "    </tr>\n",
       "  </thead>\n",
       "  <tbody>\n",
       "    <tr>\n",
       "      <th>P</th>\n",
       "      <td>29.21</td>\n",
       "      <td>21.91</td>\n",
       "      <td>14.98</td>\n",
       "      <td>11.52</td>\n",
       "      <td>9.21</td>\n",
       "    </tr>\n",
       "    <tr>\n",
       "      <th>nDCG</th>\n",
       "      <td>29.21</td>\n",
       "      <td>35.16</td>\n",
       "      <td>35.72</td>\n",
       "      <td>36.20</td>\n",
       "      <td>36.20</td>\n",
       "    </tr>\n",
       "  </tbody>\n",
       "</table>\n",
       "</div>"
      ],
      "text/plain": [
       "          1      2      3      4      5\n",
       "P     29.21  21.91  14.98  11.52   9.21\n",
       "nDCG  29.21  35.16  35.72  36.20  36.20"
      ]
     },
     "metadata": {},
     "output_type": "display_data"
    },
    {
     "name": "stdout",
     "output_type": "stream",
     "text": [
      "\u001b[1mXC metrics (shape=(6000, 4108)): \u001b[0m\n"
     ]
    },
    {
     "data": {
      "text/html": [
       "<div>\n",
       "<style scoped>\n",
       "    .dataframe tbody tr th:only-of-type {\n",
       "        vertical-align: middle;\n",
       "    }\n",
       "\n",
       "    .dataframe tbody tr th {\n",
       "        vertical-align: top;\n",
       "    }\n",
       "\n",
       "    .dataframe thead th {\n",
       "        text-align: right;\n",
       "    }\n",
       "</style>\n",
       "<table border=\"1\" class=\"dataframe\">\n",
       "  <thead>\n",
       "    <tr style=\"text-align: right;\">\n",
       "      <th></th>\n",
       "      <th>1</th>\n",
       "      <th>2</th>\n",
       "      <th>3</th>\n",
       "      <th>4</th>\n",
       "      <th>5</th>\n",
       "    </tr>\n",
       "  </thead>\n",
       "  <tbody>\n",
       "    <tr>\n",
       "      <th>P</th>\n",
       "      <td>87.48</td>\n",
       "      <td>79.89</td>\n",
       "      <td>71.86</td>\n",
       "      <td>63.50</td>\n",
       "      <td>55.84</td>\n",
       "    </tr>\n",
       "    <tr>\n",
       "      <th>nDCG</th>\n",
       "      <td>87.48</td>\n",
       "      <td>81.83</td>\n",
       "      <td>76.83</td>\n",
       "      <td>72.97</td>\n",
       "      <td>70.30</td>\n",
       "    </tr>\n",
       "    <tr>\n",
       "      <th>PSP</th>\n",
       "      <td>50.91</td>\n",
       "      <td>54.16</td>\n",
       "      <td>55.01</td>\n",
       "      <td>54.57</td>\n",
       "      <td>53.84</td>\n",
       "    </tr>\n",
       "    <tr>\n",
       "      <th>PSnDCG</th>\n",
       "      <td>50.91</td>\n",
       "      <td>53.37</td>\n",
       "      <td>54.22</td>\n",
       "      <td>54.37</td>\n",
       "      <td>54.32</td>\n",
       "    </tr>\n",
       "  </tbody>\n",
       "</table>\n",
       "</div>"
      ],
      "text/plain": [
       "            1      2      3      4      5\n",
       "P       87.48  79.89  71.86  63.50  55.84\n",
       "nDCG    87.48  81.83  76.83  72.97  70.30\n",
       "PSP     50.91  54.16  55.01  54.57  53.84\n",
       "PSnDCG  50.91  53.37  54.22  54.37  54.32"
      ]
     },
     "metadata": {},
     "output_type": "display_data"
    }
   ],
   "source": [
    "get_irm_metrics(bilinear_score_mat);\n",
    "# get_irm_metrics(tst_X_Y);\n",
    "# get_irm_metrics(tst_xshortlist);"
   ]
  },
  {
   "cell_type": "code",
   "execution_count": null,
   "metadata": {},
   "outputs": [],
   "source": []
  }
 ],
 "metadata": {
  "kernelspec": {
   "display_name": "Python 3",
   "language": "python",
   "name": "python3"
  },
  "language_info": {
   "codemirror_mode": {
    "name": "ipython",
    "version": 3
   },
   "file_extension": ".py",
   "mimetype": "text/x-python",
   "name": "python",
   "nbconvert_exporter": "python",
   "pygments_lexer": "ipython3",
   "version": "3.7.9"
  }
 },
 "nbformat": 4,
 "nbformat_minor": 4
}
