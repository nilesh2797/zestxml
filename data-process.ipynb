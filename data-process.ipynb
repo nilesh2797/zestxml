{
 "cells": [
  {
   "cell_type": "code",
   "execution_count": 66,
   "id": "b102c86b",
   "metadata": {
    "scrolled": true
   },
   "outputs": [],
   "source": [
    "# # Install dependencies\n",
    "# !pip install nltk sklearn PyStemmer tqdm"
   ]
  },
  {
   "cell_type": "code",
   "execution_count": 35,
   "id": "101a2e23",
   "metadata": {},
   "outputs": [
    {
     "name": "stderr",
     "output_type": "stream",
     "text": [
      "[nltk_data] Downloading package stopwords to /home/nilesh/nltk_data...\n",
      "[nltk_data]   Package stopwords is already up-to-date!\n"
     ]
    }
   ],
   "source": [
    "import json\n",
    "\n",
    "import nltk\n",
    "nltk.download('stopwords')\n",
    "from nltk.corpus import stopwords\n",
    "STOPWORDS = set(stopwords.words('english'))\n",
    "\n",
    "import re\n",
    "import nltk\n",
    "import pickle as pkl\n",
    "import numpy as np\n",
    "from tqdm import tqdm\n",
    "import scipy.sparse as sp\n",
    "from sklearn.feature_extraction.text import TfidfVectorizer\n",
    "from sklearn.preprocessing import normalize\n",
    "import Stemmer\n",
    "\n",
    "def tokenizer_word(string):\n",
    "    string = string.lower()\n",
    "    tokens = [w for w in re.split(\"[\\W,_]+\", string) if ((w != \"\") and (w not in STOPWORDS))]\n",
    "    tokens = stemmer.stemWords(tokens)\n",
    "    return tokens\n",
    "\n",
    "stemmer = Stemmer.Stemmer('english')"
   ]
  },
  {
   "cell_type": "code",
   "execution_count": 15,
   "id": "bc7c5b43",
   "metadata": {},
   "outputs": [],
   "source": [
    "trnX = [x.strip() for x in open(f'GZ-Eurlex-4.3K/raw/trn_X.txt')]\n",
    "tstX = [x.strip() for x in open(f'GZ-Eurlex-4.3K/raw/tst_X.txt')]\n",
    "Y = [x.strip() for x in open(f'GZ-Eurlex-4.3K/raw/Y.txt')]"
   ]
  },
  {
   "cell_type": "code",
   "execution_count": 92,
   "id": "f9295ff0",
   "metadata": {},
   "outputs": [],
   "source": [
    "# For bigger datasets (amazon-1m, wikipedia-1m) use larger MAX_FEATURES (500000/1000000 used in zestxml paper)\n",
    "MAX_FEATURES=50000"
   ]
  },
  {
   "cell_type": "code",
   "execution_count": 93,
   "id": "249d496d",
   "metadata": {},
   "outputs": [
    {
     "name": "stdout",
     "output_type": "stream",
     "text": [
      "CPU times: user 1min 8s, sys: 1.19 s, total: 1min 9s\n",
      "Wall time: 3min 4s\n",
      "CPU times: user 1min 40s, sys: 2.5 s, total: 1min 43s\n",
      "Wall time: 4min 31s\n",
      "CPU times: user 8.78 s, sys: 142 ms, total: 8.93 s\n",
      "Wall time: 23.7 s\n",
      "CPU times: user 10.5 s, sys: 55.3 ms, total: 10.5 s\n",
      "Wall time: 29.2 s\n"
     ]
    }
   ],
   "source": [
    "unigram_vectorizer = TfidfVectorizer(lowercase=False, tokenizer=tokenizer_word, ngram_range=(1, 1), max_df=0.5, norm=None, max_features=MAX_FEATURES)\n",
    "bigram_vectorizer = TfidfVectorizer(lowercase=False, tokenizer=tokenizer_word, ngram_range=(2, 2), max_df=0.5, norm=None, max_features=MAX_FEATURES)\n",
    "\n",
    "%time unigram_trn_X_Xf = unigram_vectorizer.fit_transform(trnX)\n",
    "%time bigram_trn_X_Xf = bigram_vectorizer.fit_transform(trnX)\n",
    "\n",
    "%time unigram_tst_X_Xf = unigram_vectorizer.transform(tstX)\n",
    "%time bigram_tst_X_Xf = bigram_vectorizer.transform(tstX)\n",
    "\n",
    "trn_X_Xf = normalize(sp.hstack([unigram_trn_X_Xf, bigram_trn_X_Xf]))\n",
    "tst_X_Xf = normalize(sp.hstack([unigram_tst_X_Xf, bigram_tst_X_Xf]))\n",
    "Xf = np.concatenate([unigram_vectorizer.get_feature_names_out(), bigram_vectorizer.get_feature_names_out()])"
   ]
  },
  {
   "cell_type": "code",
   "execution_count": 88,
   "id": "f95ad75e",
   "metadata": {},
   "outputs": [
    {
     "name": "stdout",
     "output_type": "stream",
     "text": [
      "CPU times: user 112 ms, sys: 125 µs, total: 112 ms\n",
      "Wall time: 330 ms\n",
      "CPU times: user 203 ms, sys: 974 µs, total: 204 ms\n",
      "Wall time: 643 ms\n"
     ]
    }
   ],
   "source": [
    "unigram_vectorizer = TfidfVectorizer(lowercase=False, tokenizer=tokenizer_word, ngram_range=(1, 1), max_df=0.5, norm=None, max_features=MAX_FEATURES)\n",
    "bigram_vectorizer = TfidfVectorizer(lowercase=False, tokenizer=tokenizer_word, ngram_range=(2, 2), max_df=0.5, norm=None, max_features=MAX_FEATURES)\n",
    "\n",
    "%time unigram_Y_Yf = unigram_vectorizer.fit_transform(Y)\n",
    "%time bigram_Y_Yf = bigram_vectorizer.fit_transform(Y)\n",
    "lbl_Y_Yf = sp.csr_matrix((np.full(len(Y), unigram_vectorizer.idf_.max()), \n",
    "                          np.arange(len(Y)), \n",
    "                          range(len(Y)+1)), \n",
    "                         (len(Y), len(Y)))\n",
    "\n",
    "Y_Yf = normalize(sp.hstack([unigram_Y_Yf, bigram_Y_Yf, lbl_Y_Yf]))\n",
    "Yf = np.concatenate([unigram_vectorizer.get_feature_names_out(), \n",
    "                     bigram_vectorizer.get_feature_names_out(), \n",
    "                     [f'__label__{i}__{Y[i][:50]}' for i in range(len(Y))]])"
   ]
  },
  {
   "cell_type": "markdown",
   "id": "cfab8fdd",
   "metadata": {},
   "source": [
    "## Visualize"
   ]
  },
  {
   "cell_type": "code",
   "execution_count": 28,
   "id": "5b474c6b",
   "metadata": {},
   "outputs": [],
   "source": [
    "def get_text(x, text, X_Xf, sep=' ', K=-1, attr='bold underline'):\n",
    "    if K == -1: K = X_Xf[x].nnz\n",
    "    sorted_inds = X_Xf[x].indices[np.argsort(-X_Xf[x].data)][:K]\n",
    "    return '%d : \\n'%x + sep.join(['%s(%.2f, %d)'%(_c(text[i], attr=attr), X_Xf[x, i], i) for i in sorted_inds])"
   ]
  },
  {
   "cell_type": "code",
   "execution_count": 29,
   "id": "591c210b",
   "metadata": {},
   "outputs": [],
   "source": [
    "class bcolors:\n",
    "    purple = '\\033[95m'\n",
    "    blue = '\\033[94m'\n",
    "    green = '\\033[92m'\n",
    "    warn = '\\033[93m' # dark yellow\n",
    "    fail = '\\033[91m' # dark red\n",
    "    white = '\\033[37m'\n",
    "    yellow = '\\033[33m'\n",
    "    red = '\\033[31m'\n",
    "    \n",
    "    ENDC = '\\033[0m'\n",
    "    bold = '\\033[1m'\n",
    "    underline = '\\033[4m'\n",
    "    reverse = '\\033[7m'\n",
    "    \n",
    "    on_grey = '\\033[40m'\n",
    "    on_yellow = '\\033[43m'\n",
    "    on_red = '\\033[41m'\n",
    "    on_blue = '\\033[44m'\n",
    "    on_green = '\\033[42m'\n",
    "    on_magenta = '\\033[45m'\n",
    "    \n",
    "def _c(*args, attr='bold'):\n",
    "    string = ''.join([bcolors.__dict__[a] for a in attr.split()])\n",
    "    string += ' '.join([str(arg) for arg in args])+bcolors.ENDC\n",
    "    return string"
   ]
  },
  {
   "cell_type": "code",
   "execution_count": 72,
   "id": "1c47fded",
   "metadata": {},
   "outputs": [],
   "source": [
    "def read_sparse_mat(filename):\n",
    "    with open(filename) as f:\n",
    "        nr, nc = map(int, f.readline().split(' '))\n",
    "        data = []; inds = []; indptr = [0]\n",
    "        for line in tqdm(f, total=nr):\n",
    "            row = list(map(lambda x: x.split(':'), line.split()))\n",
    "            inds.append(np.array(list(map(lambda x: int(x[0]), row))))\n",
    "            data.append(np.array(list(map(lambda x: float(x[1]), row))))\n",
    "            indptr.append(indptr[-1]+len(row))\n",
    "        spmat = sp.csr_matrix((np.concatenate(data), np.concatenate(inds), indptr), (nr, nc))\n",
    "        return spmat"
   ]
  },
  {
   "cell_type": "code",
   "execution_count": 73,
   "id": "811e3807",
   "metadata": {
    "scrolled": true
   },
   "outputs": [
    {
     "name": "stderr",
     "output_type": "stream",
     "text": [
      "100%|████████████████████████████████████████████████████████████████████████████████████████████████████████████████████████████████████████████████████████████████| 4271/4271 [00:00<00:00, 20766.12it/s]\n"
     ]
    }
   ],
   "source": [
    "orig_Xf = [x.strip() for x in open(f'GZ-Eurlex-4.3K/Xf.txt')]\n",
    "orig_trn_X_Xf = read_sparse_mat(f'GZ-Eurlex-4.3K/trn_X_Xf.txt')\n",
    "\n",
    "orig_Yf = [x.strip() for x in open(f'GZ-Eurlex-4.3K/Yf.txt')]\n",
    "orig_Y_Yf = read_sparse_mat(f'GZ-Eurlex-4.3K/Y_Yf.txt')"
   ]
  },
  {
   "cell_type": "code",
   "execution_count": 96,
   "id": "df674b33",
   "metadata": {
    "scrolled": true
   },
   "outputs": [
    {
     "name": "stdout",
     "output_type": "stream",
     "text": [
      "1 : \n",
      "\u001b[1m\u001b[4mlanguag\u001b[0m(0.62, 30043) \u001b[1m\u001b[4moffici languag\u001b[0m(0.30, 85515) \u001b[1m\u001b[4minstitut communiti\u001b[0m(0.29, 79910) \u001b[1m\u001b[4mlanguag use\u001b[0m(0.26, 81485) \u001b[1m\u001b[4mdraft\u001b[0m(0.18, 20889) \u001b[1m\u001b[4minstitut\u001b[0m(0.17, 27777) \u001b[1m\u001b[4mperson subject\u001b[0m(0.13, 87211) \u001b[1m\u001b[4mstate person\u001b[0m(0.13, 95152) \u001b[1m\u001b[4mjurisdict member\u001b[0m(0.12, 80670) \u001b[1m\u001b[4mrule procedur\u001b[0m(0.12, 92843) \u001b[1m\u001b[4mfour\u001b[0m(0.11, 24028) \u001b[1m\u001b[4mone offici\u001b[0m(0.10, 85654) \u001b[1m\u001b[4mcourt justic\u001b[0m(0.10, 70483) \u001b[1m\u001b[4mjurisdict\u001b[0m(0.09, 28866) \u001b[1m\u001b[4mjustic\u001b[0m(0.09, 28869) \u001b[1m\u001b[4mcourt\u001b[0m(0.08, 18873) \u001b[1m\u001b[4msend\u001b[0m(0.08, 41617) \u001b[1m\u001b[4mcommuniti shall\u001b[0m(0.08, 68776) \u001b[1m\u001b[4mcommuniti may\u001b[0m(0.07, 68687) \u001b[1m\u001b[4mdocument\u001b[0m(0.07, 20692) \u001b[1m\u001b[4muse\u001b[0m(0.07, 46489) \u001b[1m\u001b[4msender\u001b[0m(0.07, 41619) \u001b[1m\u001b[4mrecognis offici\u001b[0m(0.07, 90586) \u001b[1m\u001b[4mlanguag languag\u001b[0m(0.07, 81480) \u001b[1m\u001b[4mstate send\u001b[0m(0.06, 95205) \u001b[1m\u001b[4mlanguag one\u001b[0m(0.06, 81483) \u001b[1m\u001b[4muse european\u001b[0m(0.06, 98079) \u001b[1m\u001b[4mone\u001b[0m(0.06, 35277) \u001b[1m\u001b[4mlaid rule\u001b[0m(0.06, 81437) \u001b[1m\u001b[4mprovid rule\u001b[0m(0.06, 89533) \u001b[1m\u001b[4m1 determin\u001b[0m(0.06, 50784) \u001b[1m\u001b[4mdetermin council\u001b[0m(0.06, 71813) \u001b[1m\u001b[4msend member\u001b[0m(0.06, 93447) \u001b[1m\u001b[4mstate govern\u001b[0m(0.06, 95075) \u001b[1m\u001b[4mfrench german\u001b[0m(0.06, 77418) \u001b[1m\u001b[4mprocedur\u001b[0m(0.06, 37819) \u001b[1m\u001b[4muse specif\u001b[0m(0.06, 98200) \u001b[1m\u001b[4mspecif case\u001b[0m(0.06, 94659) \u001b[1m\u001b[4mprovis contain\u001b[0m(0.06, 89597) \u001b[1m\u001b[4mrule law\u001b[0m(0.06, 92827) \u001b[1m\u001b[4mcouncilth presidentv\u001b[0m(0.06, 70321) \u001b[1m\u001b[4mpresidentv\u001b[0m(0.06, 37682) \u001b[1m\u001b[4m1958\u001b[0m(0.06, 3273) \u001b[1m\u001b[4mperson\u001b[0m(0.06, 36469) \u001b[1m\u001b[4mprocedur member\u001b[0m(0.05, 88398) \u001b[1m\u001b[4mact unanim\u001b[0m(0.05, 61873) \u001b[1m\u001b[4mdocument member\u001b[0m(0.05, 72335) \u001b[1m\u001b[4mshall request\u001b[0m(0.05, 94012) \u001b[1m\u001b[4mregard articl\u001b[0m(0.05, 90955) \u001b[1m\u001b[4mstate regul\u001b[0m(0.05, 95187) \u001b[1m\u001b[4mtreati provid\u001b[0m(0.05, 97535) \u001b[1m\u001b[4munanim\u001b[0m(0.05, 46071) \u001b[1m\u001b[4mshall without\u001b[0m(0.05, 94079) \u001b[1m\u001b[4mgovern\u001b[0m(0.05, 25201) \u001b[1m\u001b[4muse shall\u001b[0m(0.05, 98196) \u001b[1m\u001b[4mprejudic provis\u001b[0m(0.05, 87850) \u001b[1m\u001b[4m15 april\u001b[0m(0.05, 52165) \u001b[1m\u001b[4mshall laid\u001b[0m(0.05, 93917) \u001b[1m\u001b[4mstate communiti\u001b[0m(0.04, 94997) \u001b[1m\u001b[4m217\u001b[0m(0.04, 4296) \u001b[1m\u001b[4mrule govern\u001b[0m(0.04, 92816) \u001b[1m\u001b[4mstate one\u001b[0m(0.04, 95137) \u001b[1m\u001b[4mcouncil act\u001b[0m(0.04, 70220) \u001b[1m\u001b[4mrepli\u001b[0m(0.04, 39596) \u001b[1m\u001b[4mdutch\u001b[0m(0.04, 21122) \u001b[1m\u001b[4meec council\u001b[0m(0.04, 74101) \u001b[1m\u001b[4mone member\u001b[0m(0.04, 85649) \u001b[1m\u001b[4msubject\u001b[0m(0.04, 43631) \u001b[1m\u001b[4mapplic shall\u001b[0m(0.04, 64149) \u001b[1m\u001b[4mrecognis\u001b[0m(0.04, 39123) \u001b[1m\u001b[4mdetermin\u001b[0m(0.04, 20022) \u001b[1m\u001b[4mbrussel 15\u001b[0m(0.04, 66308) \u001b[1m\u001b[4mproceed\u001b[0m(0.04, 37831) \u001b[1m\u001b[4mitalian\u001b[0m(0.04, 28308) \u001b[1m\u001b[4mshall publish\u001b[0m(0.04, 93981) \u001b[1m\u001b[4mgerman\u001b[0m(0.04, 24785) \u001b[1m\u001b[4mselect\u001b[0m(0.04, 41561) \u001b[1m\u001b[4mgeneral\u001b[0m(0.03, 24691) \u001b[1m\u001b[4mlaw regul\u001b[0m(0.03, 81597) \u001b[1m\u001b[4mfrench\u001b[0m(0.03, 24168) \u001b[1m\u001b[4mgeneral rule\u001b[0m(0.03, 77719) \u001b[1m\u001b[4mregul 1\u001b[0m(0.03, 91227) \u001b[1m\u001b[4mwithout prejudic\u001b[0m(0.03, 99554) \u001b[1m\u001b[4mprejudic\u001b[0m(0.03, 37583) \u001b[1m\u001b[4mlaw\u001b[0m(0.03, 30167) \u001b[1m\u001b[4mstipul\u001b[0m(0.03, 43350) \u001b[1m\u001b[4mwork\u001b[0m(0.03, 48082) \u001b[1m\u001b[4mpublish\u001b[0m(0.02, 38302) \u001b[1m\u001b[4mstate shall\u001b[0m(0.02, 95208) \u001b[1m\u001b[4mact\u001b[0m(0.02, 11116) \u001b[1m\u001b[4mwithout\u001b[0m(0.02, 48034) \u001b[1m\u001b[4mrequest\u001b[0m(0.02, 39682) \u001b[1m\u001b[4mcontain\u001b[0m(0.02, 18534) \u001b[1m\u001b[4mcouncilth\u001b[0m(0.02, 18823) \u001b[1m\u001b[4mapril\u001b[0m(0.02, 12936) \u001b[1m\u001b[4mcase\u001b[0m(0.02, 16622) \u001b[1m\u001b[4meconom communiti\u001b[0m(0.02, 73517) \u001b[1m\u001b[4mspecif\u001b[0m(0.02, 42808) \u001b[1m\u001b[4meuropean econom\u001b[0m(0.02, 75303) \u001b[1m\u001b[4meconom\u001b[0m(0.02, 21363) \u001b[1m\u001b[4mlaid\u001b[0m(0.02, 29956) \u001b[1m\u001b[4m15\u001b[0m(0.02, 2486) \u001b[1m\u001b[4mprovis\u001b[0m(0.02, 38150)\n",
      "1 : \n",
      "\u001b[1m\u001b[4mlanguag\u001b[0m(0.62, 30088) \u001b[1m\u001b[4moffici languag\u001b[0m(0.30, 85529) \u001b[1m\u001b[4minstitut communiti\u001b[0m(0.29, 79923) \u001b[1m\u001b[4mlanguag use\u001b[0m(0.26, 81499) \u001b[1m\u001b[4mdraft\u001b[0m(0.18, 20627) \u001b[1m\u001b[4minstitut\u001b[0m(0.17, 27678) \u001b[1m\u001b[4mperson subject\u001b[0m(0.13, 87202) \u001b[1m\u001b[4mstate person\u001b[0m(0.13, 95138) \u001b[1m\u001b[4mjurisdict member\u001b[0m(0.12, 80681) \u001b[1m\u001b[4mrule procedur\u001b[0m(0.12, 92812) \u001b[1m\u001b[4mfour\u001b[0m(0.11, 23727) \u001b[1m\u001b[4mone offici\u001b[0m(0.10, 85662) \u001b[1m\u001b[4mcourt justic\u001b[0m(0.10, 70455) \u001b[1m\u001b[4mjurisdict\u001b[0m(0.09, 28766) \u001b[1m\u001b[4mjustic\u001b[0m(0.09, 28769) \u001b[1m\u001b[4mcourt\u001b[0m(0.08, 18659) \u001b[1m\u001b[4msend\u001b[0m(0.08, 41528) \u001b[1m\u001b[4mcommuniti shall\u001b[0m(0.08, 68763) \u001b[1m\u001b[4mcommuniti may\u001b[0m(0.07, 68677) \u001b[1m\u001b[4mdocument\u001b[0m(0.07, 20453) \u001b[1m\u001b[4muse\u001b[0m(0.07, 46492) \u001b[1m\u001b[4msender\u001b[0m(0.07, 41529) \u001b[1m\u001b[4mrecognis offici\u001b[0m(0.07, 90576) \u001b[1m\u001b[4mlanguag languag\u001b[0m(0.07, 81494) \u001b[1m\u001b[4mstate send\u001b[0m(0.06, 95190) \u001b[1m\u001b[4mlanguag one\u001b[0m(0.06, 81497) \u001b[1m\u001b[4muse european\u001b[0m(0.06, 98080) \u001b[1m\u001b[4mone\u001b[0m(0.06, 35219) \u001b[1m\u001b[4mlaid rule\u001b[0m(0.06, 81451) \u001b[1m\u001b[4mprovid rule\u001b[0m(0.06, 89526) \u001b[1m\u001b[4m1 determin\u001b[0m(0.06, 50798) \u001b[1m\u001b[4mdetermin council\u001b[0m(0.06, 71798) \u001b[1m\u001b[4msend member\u001b[0m(0.06, 93419) \u001b[1m\u001b[4mstate govern\u001b[0m(0.06, 95059) \u001b[1m\u001b[4mfrench german\u001b[0m(0.06, 77422) \u001b[1m\u001b[4mprocedur\u001b[0m(0.06, 37864) \u001b[1m\u001b[4muse specif\u001b[0m(0.06, 98203) \u001b[1m\u001b[4mspecif case\u001b[0m(0.06, 94638) \u001b[1m\u001b[4mprovis contain\u001b[0m(0.06, 89592) \u001b[1m\u001b[4mcouncilth presidentv\u001b[0m(0.06, 70294) \u001b[1m\u001b[4mrule law\u001b[0m(0.06, 92796) \u001b[1m\u001b[4mpresidentv\u001b[0m(0.06, 37723) \u001b[1m\u001b[4m1958\u001b[0m(0.06, 3196) \u001b[1m\u001b[4mperson\u001b[0m(0.06, 36489) \u001b[1m\u001b[4mprocedur member\u001b[0m(0.05, 88393) \u001b[1m\u001b[4mact unanim\u001b[0m(0.05, 61873) \u001b[1m\u001b[4mdocument member\u001b[0m(0.05, 72304) \u001b[1m\u001b[4mshall request\u001b[0m(0.05, 93986) \u001b[1m\u001b[4mregard articl\u001b[0m(0.05, 90936) \u001b[1m\u001b[4mstate regul\u001b[0m(0.05, 95172) \u001b[1m\u001b[4mtreati provid\u001b[0m(0.05, 97526) \u001b[1m\u001b[4munanim\u001b[0m(0.05, 46068) \u001b[1m\u001b[4mshall without\u001b[0m(0.05, 94053) \u001b[1m\u001b[4mgovern\u001b[0m(0.05, 24935) \u001b[1m\u001b[4muse shall\u001b[0m(0.05, 98199) \u001b[1m\u001b[4mprejudic provis\u001b[0m(0.05, 87836) \u001b[1m\u001b[4m15 april\u001b[0m(0.05, 52181) \u001b[1m\u001b[4mshall laid\u001b[0m(0.05, 93887) \u001b[1m\u001b[4mstate communiti\u001b[0m(0.04, 94976) \u001b[1m\u001b[4m217\u001b[0m(0.04, 4243) \u001b[1m\u001b[4mrule govern\u001b[0m(0.04, 92785) \u001b[1m\u001b[4mstate one\u001b[0m(0.04, 95123) \u001b[1m\u001b[4mcouncil act\u001b[0m(0.04, 70192) \u001b[1m\u001b[4mrepli\u001b[0m(0.04, 39577) \u001b[1m\u001b[4mdutch\u001b[0m(0.04, 20834) \u001b[1m\u001b[4meec council\u001b[0m(0.04, 74101) \u001b[1m\u001b[4mone member\u001b[0m(0.04, 85657) \u001b[1m\u001b[4msubject\u001b[0m(0.04, 43485) \u001b[1m\u001b[4mapplic shall\u001b[0m(0.04, 64128) \u001b[1m\u001b[4mrecognis\u001b[0m(0.04, 39118) \u001b[1m\u001b[4mdetermin\u001b[0m(0.04, 19807) \u001b[1m\u001b[4mbrussel 15\u001b[0m(0.04, 66293) \u001b[1m\u001b[4mproceed\u001b[0m(0.04, 37876) \u001b[1m\u001b[4mitalian\u001b[0m(0.04, 28246) \u001b[1m\u001b[4mshall publish\u001b[0m(0.04, 93953) \u001b[1m\u001b[4mgerman\u001b[0m(0.04, 24499) \u001b[1m\u001b[4mselect\u001b[0m(0.04, 41477) \u001b[1m\u001b[4mgeneral\u001b[0m(0.03, 24407) \u001b[1m\u001b[4mlaw regul\u001b[0m(0.03, 81607) \u001b[1m\u001b[4mfrench\u001b[0m(0.03, 23851) \u001b[1m\u001b[4mgeneral rule\u001b[0m(0.03, 77715) \u001b[1m\u001b[4mregul 1\u001b[0m(0.03, 91200) \u001b[1m\u001b[4mwithout prejudic\u001b[0m(0.03, 99557) \u001b[1m\u001b[4mprejudic\u001b[0m(0.03, 37621) \u001b[1m\u001b[4mlaw\u001b[0m(0.03, 30215) \u001b[1m\u001b[4mstipul\u001b[0m(0.03, 43237) \u001b[1m\u001b[4mwork\u001b[0m(0.03, 48135) \u001b[1m\u001b[4mpublish\u001b[0m(0.02, 38324) \u001b[1m\u001b[4mstate shall\u001b[0m(0.02, 95193) \u001b[1m\u001b[4mact\u001b[0m(0.02, 11238) \u001b[1m\u001b[4mwithout\u001b[0m(0.02, 48088) \u001b[1m\u001b[4mrequest\u001b[0m(0.02, 39664) \u001b[1m\u001b[4mcontain\u001b[0m(0.02, 18349) \u001b[1m\u001b[4mcouncilth\u001b[0m(0.02, 18611) \u001b[1m\u001b[4mapril\u001b[0m(0.02, 12956) \u001b[1m\u001b[4mcase\u001b[0m(0.02, 16488) \u001b[1m\u001b[4meconom communiti\u001b[0m(0.02, 73502) \u001b[1m\u001b[4mspecif\u001b[0m(0.02, 42727) \u001b[1m\u001b[4meuropean econom\u001b[0m(0.02, 75304) \u001b[1m\u001b[4meconom\u001b[0m(0.02, 21096) \u001b[1m\u001b[4mlaid\u001b[0m(0.02, 29993) \u001b[1m\u001b[4m15\u001b[0m(0.02, 2407) \u001b[1m\u001b[4mprovis\u001b[0m(0.02, 38162)\n"
     ]
    }
   ],
   "source": [
    "x = 1\n",
    "\n",
    "print(get_text(x, Xf, trn_X_Xf))\n",
    "print(get_text(x, orig_Xf, orig_trn_X_Xf))"
   ]
  },
  {
   "cell_type": "code",
   "execution_count": 94,
   "id": "2aa3fc7f",
   "metadata": {},
   "outputs": [
    {
     "name": "stdout",
     "output_type": "stream",
     "text": [
      "1 : \n",
      "\u001b[1m\u001b[4m__label__1__financing\u001b[0m(0.81, 19072) \u001b[1m\u001b[4mfinanc\u001b[0m(0.58, 1630)\n",
      "1 : \n",
      "\u001b[1m\u001b[4m__label__1__financing\u001b[0m(0.81, 19072) \u001b[1m\u001b[4mfinanc\u001b[0m(0.58, 1630)\n"
     ]
    }
   ],
   "source": [
    "y = 1\n",
    "\n",
    "print(get_text(y, Yf, Y_Yf))\n",
    "print(get_text(y, orig_Yf, orig_Y_Yf))"
   ]
  }
 ],
 "metadata": {
  "kernelspec": {
   "display_name": "Python 3 (ipykernel)",
   "language": "python",
   "name": "python3"
  },
  "language_info": {
   "codemirror_mode": {
    "name": "ipython",
    "version": 3
   },
   "file_extension": ".py",
   "mimetype": "text/x-python",
   "name": "python",
   "nbconvert_exporter": "python",
   "pygments_lexer": "ipython3",
   "version": "3.9.12"
  }
 },
 "nbformat": 4,
 "nbformat_minor": 5
}
