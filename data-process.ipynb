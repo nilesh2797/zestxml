{
 "cells": [
  {
   "cell_type": "code",
   "execution_count": 66,
   "id": "cc61174d",
   "metadata": {
    "scrolled": true
   },
   "outputs": [],
   "source": [
    "# # Install dependencies\n",
    "# !pip install nltk sklearn PyStemmer tqdm"
   ]
  },
  {
   "cell_type": "code",
   "execution_count": 35,
   "id": "850e58a8",
   "metadata": {},
   "outputs": [
    {
     "name": "stderr",
     "output_type": "stream",
     "text": [
      "[nltk_data] Downloading package stopwords to /home/nilesh/nltk_data...\n",
      "[nltk_data]   Package stopwords is already up-to-date!\n"
     ]
    }
   ],
   "source": [
    "import json\n",
    "\n",
    "import nltk\n",
    "nltk.download('stopwords')\n",
    "from nltk.corpus import stopwords\n",
    "STOPWORDS = set(stopwords.words('english'))\n",
    "\n",
    "import re\n",
    "import nltk\n",
    "import pickle as pkl\n",
    "import numpy as np\n",
    "from tqdm import tqdm\n",
    "import scipy.sparse as sp\n",
    "from sklearn.feature_extraction.text import TfidfVectorizer\n",
    "from sklearn.preprocessing import normalize\n",
    "import Stemmer\n",
    "\n",
    "def tokenizer_word(string):\n",
    "    string = string.lower()\n",
    "    tokens = [w for w in re.split(\"[\\W,_]+\", string) if ((w != \"\") and (w not in STOPWORDS))]\n",
    "    tokens = stemmer.stemWords(tokens)\n",
    "    return tokens\n",
    "\n",
    "stemmer = Stemmer.Stemmer('english')"
   ]
  },
  {
   "cell_type": "code",
   "execution_count": null,
   "id": "3aa35475",
   "metadata": {},
   "outputs": [],
   "source": [
    "def read_sparse_mat(filename):\n",
    "    with open(filename) as f:\n",
    "        nr, nc = map(int, f.readline().split(' '))\n",
    "        data = []; inds = []; indptr = [0]\n",
    "        for line in tqdm(f, total=nr):\n",
    "            row = list(map(lambda x: x.split(':'), line.split()))\n",
    "            inds.append(np.array(list(map(lambda x: int(x[0]), row))))\n",
    "            data.append(np.array(list(map(lambda x: float(x[1]), row))))\n",
    "            indptr.append(indptr[-1]+len(row))\n",
    "        spmat = sp.csr_matrix((np.concatenate(data), np.concatenate(inds), indptr), (nr, nc))\n",
    "        return spmat"
   ]
  },
  {
   "cell_type": "code",
   "execution_count": 155,
   "id": "0ef64cbd",
   "metadata": {},
   "outputs": [
    {
     "name": "stderr",
     "output_type": "stream",
     "text": [
      "100%|█████████████████████████████████████████████████████████████████████████████████████████████████████████████████████████████████████████████████████████████| 45000/45000 [00:00<00:00, 155883.19it/s]\n"
     ]
    }
   ],
   "source": [
    "trn_X_Y = read_sparse_mat(f'GZ-Eurlex-4.3K/trn_X_Y.txt')\n",
    "\n",
    "trnX = [x.strip() for x in open(f'GZ-Eurlex-4.3K/raw/trn_X.txt')]\n",
    "tstX = [x.strip() for x in open(f'GZ-Eurlex-4.3K/raw/tst_X.txt')]\n",
    "Y = [x.strip() for x in open(f'GZ-Eurlex-4.3K/raw/Y.txt')]\n",
    "parent_Y = [x.strip() for x in open(f'GZ-Eurlex-4.3K/raw/Y.parent.txt')]\n",
    "\n",
    "nnz = trn_X_Y.getnnz(0)\n",
    "seen_labels = np.where(nnz > 0)[0]\n",
    "seen_Y = [Y[i] for i in seen_labels]"
   ]
  },
  {
   "cell_type": "code",
   "execution_count": 92,
   "id": "bdeab811",
   "metadata": {},
   "outputs": [],
   "source": [
    "# For bigger datasets (amazon-1m, wikipedia-1m) use larger MAX_FEATURES (500000/1000000 used in zestxml paper)\n",
    "MAX_FEATURES=50000"
   ]
  },
  {
   "cell_type": "code",
   "execution_count": 93,
   "id": "459397cb",
   "metadata": {},
   "outputs": [
    {
     "name": "stdout",
     "output_type": "stream",
     "text": [
      "CPU times: user 1min 8s, sys: 1.19 s, total: 1min 9s\n",
      "Wall time: 3min 4s\n",
      "CPU times: user 1min 40s, sys: 2.5 s, total: 1min 43s\n",
      "Wall time: 4min 31s\n",
      "CPU times: user 8.78 s, sys: 142 ms, total: 8.93 s\n",
      "Wall time: 23.7 s\n",
      "CPU times: user 10.5 s, sys: 55.3 ms, total: 10.5 s\n",
      "Wall time: 29.2 s\n"
     ]
    }
   ],
   "source": [
    "unigram_vectorizer = TfidfVectorizer(lowercase=False, tokenizer=tokenizer_word, ngram_range=(1, 1), max_df=0.5, norm=None, max_features=MAX_FEATURES)\n",
    "bigram_vectorizer = TfidfVectorizer(lowercase=False, tokenizer=tokenizer_word, ngram_range=(2, 2), max_df=0.5, norm=None, max_features=MAX_FEATURES)\n",
    "\n",
    "%time unigram_trn_X_Xf = unigram_vectorizer.fit_transform(trnX)\n",
    "%time bigram_trn_X_Xf = bigram_vectorizer.fit_transform(trnX)\n",
    "\n",
    "%time unigram_tst_X_Xf = unigram_vectorizer.transform(tstX)\n",
    "%time bigram_tst_X_Xf = bigram_vectorizer.transform(tstX)\n",
    "\n",
    "trn_X_Xf = normalize(sp.hstack([unigram_trn_X_Xf, bigram_trn_X_Xf]))\n",
    "tst_X_Xf = normalize(sp.hstack([unigram_tst_X_Xf, bigram_tst_X_Xf]))\n",
    "Xf = np.concatenate([unigram_vectorizer.get_feature_names_out(), bigram_vectorizer.get_feature_names_out()])"
   ]
  },
  {
   "cell_type": "code",
   "execution_count": 159,
   "id": "301a7b69",
   "metadata": {
    "scrolled": true
   },
   "outputs": [
    {
     "name": "stdout",
     "output_type": "stream",
     "text": [
      "CPU times: user 95.7 ms, sys: 38 µs, total: 95.8 ms\n",
      "Wall time: 94.8 ms\n",
      "CPU times: user 121 ms, sys: 967 µs, total: 122 ms\n",
      "Wall time: 122 ms\n",
      "CPU times: user 26.1 ms, sys: 0 ns, total: 26.1 ms\n",
      "Wall time: 26.1 ms\n"
     ]
    }
   ],
   "source": [
    "unigram_vectorizer = TfidfVectorizer(lowercase=False, tokenizer=tokenizer_word, ngram_range=(1, 1), max_df=0.5, norm=None, max_features=MAX_FEATURES)\n",
    "bigram_vectorizer = TfidfVectorizer(lowercase=False, tokenizer=tokenizer_word, ngram_range=(2, 2), max_df=0.5, norm=None, max_features=MAX_FEATURES)\n",
    "parent_vectorizer = TfidfVectorizer(lowercase=False, norm=None)\n",
    "\n",
    "%time unigram_Y_Yf = unigram_vectorizer.fit_transform(Y)\n",
    "%time bigram_Y_Yf = bigram_vectorizer.fit_transform(Y)\n",
    "%time parent_Y_Yf = parent_vectorizer.fit_transform(parent_Y)\n",
    "lbl_Y_Yf = sp.csr_matrix((np.full(len(seen_Y), unigram_vectorizer.idf_.max()), \n",
    "                          np.arange(len(seen_Y)), \n",
    "                          np.append([0], np.cumsum(nnz > 0))), \n",
    "                         (len(Y), len(seen_Y)))\n",
    "\n",
    "Y_Yf = normalize(sp.hstack([unigram_Y_Yf, bigram_Y_Yf, lbl_Y_Yf, parent_Y_Yf]))\n",
    "Yf = np.concatenate([unigram_vectorizer.get_feature_names_out(), \n",
    "                     bigram_vectorizer.get_feature_names_out(), \n",
    "                     [f'__label__{i}__{Y[i][:50]}' for i in range(len(Y)) if nnz[i] > 0], \n",
    "                     [f'__parent__{yf}' for yf in parent_vectorizer.get_feature_names_out()]])"
   ]
  },
  {
   "cell_type": "markdown",
   "id": "90eacdcd",
   "metadata": {},
   "source": [
    "## Visualize"
   ]
  },
  {
   "cell_type": "code",
   "execution_count": 28,
   "id": "19e7d171",
   "metadata": {},
   "outputs": [],
   "source": [
    "def get_text(x, text, X_Xf, sep=' ', K=-1, attr='bold underline'):\n",
    "    if K == -1: K = X_Xf[x].nnz\n",
    "    sorted_inds = X_Xf[x].indices[np.argsort(-X_Xf[x].data)][:K]\n",
    "    return '%d : \\n'%x + sep.join(['%s(%.2f, %d)'%(_c(text[i], attr=attr), X_Xf[x, i], i) for i in sorted_inds])"
   ]
  },
  {
   "cell_type": "code",
   "execution_count": 29,
   "id": "9944b173",
   "metadata": {},
   "outputs": [],
   "source": [
    "class bcolors:\n",
    "    purple = '\\033[95m'\n",
    "    blue = '\\033[94m'\n",
    "    green = '\\033[92m'\n",
    "    warn = '\\033[93m' # dark yellow\n",
    "    fail = '\\033[91m' # dark red\n",
    "    white = '\\033[37m'\n",
    "    yellow = '\\033[33m'\n",
    "    red = '\\033[31m'\n",
    "    \n",
    "    ENDC = '\\033[0m'\n",
    "    bold = '\\033[1m'\n",
    "    underline = '\\033[4m'\n",
    "    reverse = '\\033[7m'\n",
    "    \n",
    "    on_grey = '\\033[40m'\n",
    "    on_yellow = '\\033[43m'\n",
    "    on_red = '\\033[41m'\n",
    "    on_blue = '\\033[44m'\n",
    "    on_green = '\\033[42m'\n",
    "    on_magenta = '\\033[45m'\n",
    "    \n",
    "def _c(*args, attr='bold'):\n",
    "    string = ''.join([bcolors.__dict__[a] for a in attr.split()])\n",
    "    string += ' '.join([str(arg) for arg in args])+bcolors.ENDC\n",
    "    return string"
   ]
  },
  {
   "cell_type": "code",
   "execution_count": 73,
   "id": "818872c1",
   "metadata": {
    "scrolled": true
   },
   "outputs": [
    {
     "name": "stderr",
     "output_type": "stream",
     "text": [
      "100%|████████████████████████████████████████████████████████████████████████████████████████████████████████████████████████████████████████████████████████████████| 4271/4271 [00:00<00:00, 20766.12it/s]\n"
     ]
    }
   ],
   "source": [
    "orig_Xf = [x.strip() for x in open(f'GZ-Eurlex-4.3K/Xf.txt')]\n",
    "orig_trn_X_Xf = read_sparse_mat(f'GZ-Eurlex-4.3K/trn_X_Xf.txt')\n",
    "\n",
    "orig_Yf = [x.strip() for x in open(f'GZ-Eurlex-4.3K/Yf.txt')]\n",
    "orig_Y_Yf = read_sparse_mat(f'GZ-Eurlex-4.3K/Y_Yf.txt')"
   ]
  },
  {
   "cell_type": "code",
   "execution_count": 158,
   "id": "f4fd802c",
   "metadata": {
    "scrolled": true
   },
   "outputs": [
    {
     "name": "stdout",
     "output_type": "stream",
     "text": [
      "11318 : \n",
      "\u001b[1m\u001b[4mpoultrymeat\u001b[0m(0.55, 37453) \u001b[1m\u001b[4m1906\u001b[0m(0.29, 3189) \u001b[1m\u001b[4mfresh poultrymeat\u001b[0m(0.20, 77447) \u001b[1m\u001b[4mretail\u001b[0m(0.15, 39802) \u001b[1m\u001b[4mtemperatur\u001b[0m(0.14, 44550) \u001b[1m\u001b[4mretail trade\u001b[0m(0.14, 92528) \u001b[1m\u001b[4mcut\u001b[0m(0.13, 19254) \u001b[1m\u001b[4mâ c\u001b[0m(0.13, 99977) \u001b[1m\u001b[4mmarket standard\u001b[0m(0.12, 82998) \u001b[1m\u001b[4mâ\u001b[0m(0.12, 48983) \u001b[1m\u001b[4m9 februari\u001b[0m(0.11, 60498) \u001b[1m\u001b[4mregul eec\u001b[0m(0.11, 91315) \u001b[1m\u001b[4mstorag\u001b[0m(0.11, 43401) \u001b[1m\u001b[4mfresh\u001b[0m(0.10, 24176) \u001b[1m\u001b[4mfebruari 1993\u001b[0m(0.10, 76205) \u001b[1m\u001b[4mcertain market\u001b[0m(0.09, 67166) \u001b[1m\u001b[4mstiffen\u001b[0m(0.09, 43334) \u001b[1m\u001b[4m90\u001b[0m(0.08, 10023) \u001b[1m\u001b[4mcommunit\u001b[0m(0.08, 18124) \u001b[1m\u001b[4mpoint\u001b[0m(0.08, 37084) \u001b[1m\u001b[4mperform\u001b[0m(0.08, 36406) \u001b[1m\u001b[4mtrade regul\u001b[0m(0.08, 97335) \u001b[1m\u001b[4mtreatment\u001b[0m(0.07, 45448) \u001b[1m\u001b[4mshop\u001b[0m(0.07, 42003) \u001b[1m\u001b[4mpurpos suppli\u001b[0m(0.07, 89841) \u001b[1m\u001b[4m1235\u001b[0m(0.07, 2018) \u001b[1m\u001b[4m173 6\u001b[0m(0.07, 52511) \u001b[1m\u001b[4mtake due\u001b[0m(0.07, 96331) \u001b[1m\u001b[4msuitabl human\u001b[0m(0.07, 95910) \u001b[1m\u001b[4mwesth 1\u001b[0m(0.07, 98917) \u001b[1m\u001b[4m1975\u001b[0m(0.07, 3305) \u001b[1m\u001b[4mpresidentb westh\u001b[0m(0.07, 88026) \u001b[1m\u001b[4mlevel member\u001b[0m(0.07, 81864) \u001b[1m\u001b[4mfix differ\u001b[0m(0.07, 76684) \u001b[1m\u001b[4mundergon treatment\u001b[0m(0.07, 97731) \u001b[1m\u001b[4mwesth\u001b[0m(0.07, 47847) \u001b[1m\u001b[4msole purpos\u001b[0m(0.07, 94452) \u001b[1m\u001b[4m128 11\u001b[0m(0.07, 51847) \u001b[1m\u001b[4m89 oj\u001b[0m(0.07, 60407) \u001b[1m\u001b[4mwherea definit\u001b[0m(0.07, 99057) \u001b[1m\u001b[4mdue account\u001b[0m(0.07, 72484) \u001b[1m\u001b[4mprepar wherea\u001b[0m(0.06, 87915) \u001b[1m\u001b[4mstate permit\u001b[0m(0.06, 95151) \u001b[1m\u001b[4mcool\u001b[0m(0.06, 18634) \u001b[1m\u001b[4mpoultrymeat 1\u001b[0m(0.06, 87733) \u001b[1m\u001b[4m77 regul\u001b[0m(0.06, 59715) \u001b[1m\u001b[4mpoultrymeat regard\u001b[0m(0.06, 87740) \u001b[1m\u001b[4m93 9\u001b[0m(0.06, 60952) \u001b[1m\u001b[4madjac\u001b[0m(0.06, 11224) \u001b[1m\u001b[4m90 amend\u001b[0m(0.06, 60633) \u001b[1m\u001b[4m90 herebi\u001b[0m(0.06, 60647) \u001b[1m\u001b[4mhowev member\u001b[0m(0.06, 78717) \u001b[1m\u001b[4m2777 75\u001b[0m(0.06, 56332) \u001b[1m\u001b[4meec 2777\u001b[0m(0.06, 73857) \u001b[1m\u001b[4m2777\u001b[0m(0.06, 5157) \u001b[1m\u001b[4mmarket poultrymeat\u001b[0m(0.06, 82959) \u001b[1m\u001b[4m1993 councilth\u001b[0m(0.06, 53288) \u001b[1m\u001b[4mhowev provis\u001b[0m(0.06, 78727) \u001b[1m\u001b[4mcontain regul\u001b[0m(0.06, 69752) \u001b[1m\u001b[4mfollow 5\u001b[0m(0.06, 76835) \u001b[1m\u001b[4mpoint 5\u001b[0m(0.06, 87462) \u001b[1m\u001b[4m5 1989\u001b[0m(0.05, 58289) \u001b[1m\u001b[4mp 77\u001b[0m(0.05, 86356) \u001b[1m\u001b[4m2 point\u001b[0m(0.05, 54032) \u001b[1m\u001b[4mcouncilth presidentb\u001b[0m(0.05, 70302) \u001b[1m\u001b[4mpresidentb\u001b[0m(0.05, 37633) \u001b[1m\u001b[4m1993 amend\u001b[0m(0.05, 53275) \u001b[1m\u001b[4mstandard\u001b[0m(0.05, 43112) \u001b[1m\u001b[4mmean\u001b[0m(0.05, 32085) \u001b[1m\u001b[4m1993\u001b[0m(0.05, 3392) \u001b[1m\u001b[4m1994 regul\u001b[0m(0.05, 53354) \u001b[1m\u001b[4mcold\u001b[0m(0.05, 17797) \u001b[1m\u001b[4mmay fix\u001b[0m(0.05, 83286) \u001b[1m\u001b[4m7 1990\u001b[0m(0.05, 59321) \u001b[1m\u001b[4m5 shall\u001b[0m(0.05, 58484) \u001b[1m\u001b[4mjanuari 1994\u001b[0m(0.05, 80472) \u001b[1m\u001b[4mhowev\u001b[0m(0.05, 26596) \u001b[1m\u001b[4m1 point\u001b[0m(0.05, 50940) \u001b[1m\u001b[4mundergon\u001b[0m(0.05, 46130) \u001b[1m\u001b[4mlay specif\u001b[0m(0.05, 81648) \u001b[1m\u001b[4ml 128\u001b[0m(0.05, 80944) \u001b[1m\u001b[4ml 173\u001b[0m(0.05, 80994) \u001b[1m\u001b[4m317\u001b[0m(0.05, 5940) \u001b[1m\u001b[4morder take\u001b[0m(0.05, 85968) \u001b[1m\u001b[4m282 1\u001b[0m(0.05, 56385) \u001b[1m\u001b[4mfebruari\u001b[0m(0.05, 23195) \u001b[1m\u001b[4mspot\u001b[0m(0.05, 42944) \u001b[1m\u001b[4mpremis\u001b[0m(0.05, 37592) \u001b[1m\u001b[4ml 282\u001b[0m(0.05, 81116) \u001b[1m\u001b[4marticl 2\u001b[0m(0.05, 64723) \u001b[1m\u001b[4mkept\u001b[0m(0.04, 29187) \u001b[1m\u001b[4m75 29\u001b[0m(0.04, 59618) \u001b[1m\u001b[4mpoint 1\u001b[0m(0.04, 87446) \u001b[1m\u001b[4m282\u001b[0m(0.04, 5233) \u001b[1m\u001b[4m1975 common\u001b[0m(0.04, 52878) \u001b[1m\u001b[4m11 5\u001b[0m(0.04, 51493) \u001b[1m\u001b[4m29 2\u001b[0m(0.04, 56430) \u001b[1m\u001b[4mbrussel 9\u001b[0m(0.04, 66333) \u001b[1m\u001b[4moctob 1975\u001b[0m(0.04, 85410) \u001b[1m\u001b[4m173\u001b[0m(0.04, 2907) \u001b[1m\u001b[4mtrade\u001b[0m(0.04, 45311) \u001b[1m\u001b[4m11 1975\u001b[0m(0.04, 51449) \u001b[1m\u001b[4msole\u001b[0m(0.04, 42589) \u001b[1m\u001b[4m2 lay\u001b[0m(0.04, 53964) \u001b[1m\u001b[4m128\u001b[0m(0.04, 2081) \u001b[1m\u001b[4mhigher\u001b[0m(0.04, 26333) \u001b[1m\u001b[4m90 2\u001b[0m(0.04, 60557) \u001b[1m\u001b[4msuitabl\u001b[0m(0.04, 43779) \u001b[1m\u001b[4mforc seventh\u001b[0m(0.04, 77160) \u001b[1m\u001b[4mseventh day\u001b[0m(0.04, 93694) \u001b[1m\u001b[4mlay certain\u001b[0m(0.04, 81609) \u001b[1m\u001b[4m29 octob\u001b[0m(0.04, 56464) \u001b[1m\u001b[4mseventh\u001b[0m(0.04, 41793) \u001b[1m\u001b[4m6 7\u001b[0m(0.04, 58866) \u001b[1m\u001b[4mrequir\u001b[0m(0.04, 39687) \u001b[1m\u001b[4mhuman consumpt\u001b[0m(0.04, 78748) \u001b[1m\u001b[4mconsum\u001b[0m(0.04, 18512) \u001b[1m\u001b[4mc\u001b[0m(0.04, 16096) \u001b[1m\u001b[4mshall replac\u001b[0m(0.04, 94009) \u001b[1m\u001b[4m29\u001b[0m(0.04, 5331) \u001b[1m\u001b[4mp 29\u001b[0m(0.04, 86300) \u001b[1m\u001b[4m1 11\u001b[0m(0.04, 50546) \u001b[1m\u001b[4m1975 p\u001b[0m(0.04, 52884) \u001b[1m\u001b[4mexclud\u001b[0m(0.04, 22780) \u001b[1m\u001b[4mwherea regul\u001b[0m(0.04, 99239) \u001b[1m\u001b[4mprovis articl\u001b[0m(0.04, 89590) \u001b[1m\u001b[4mstate may\u001b[0m(0.04, 95118) \u001b[1m\u001b[4mdue\u001b[0m(0.03, 21032) \u001b[1m\u001b[4mwherea order\u001b[0m(0.03, 99187) \u001b[1m\u001b[4m1989 p\u001b[0m(0.03, 53155) \u001b[1m\u001b[4msale\u001b[0m(0.03, 40774) \u001b[1m\u001b[4mconsumpt\u001b[0m(0.03, 18517) \u001b[1m\u001b[4mhuman\u001b[0m(0.03, 26682) \u001b[1m\u001b[4mpermit\u001b[0m(0.03, 36445) \u001b[1m\u001b[4mdefinit\u001b[0m(0.03, 19732) \u001b[1m\u001b[4mtype\u001b[0m(0.03, 45883) \u001b[1m\u001b[4mprepar\u001b[0m(0.03, 37604) \u001b[1m\u001b[4mherebi amend\u001b[0m(0.03, 78528) \u001b[1m\u001b[4m77\u001b[0m(0.03, 9350) \u001b[1m\u001b[4m1 shall\u001b[0m(0.03, 50992) \u001b[1m\u001b[4m1990 p\u001b[0m(0.03, 53188) \u001b[1m\u001b[4mlay\u001b[0m(0.03, 30176) \u001b[1m\u001b[4mforc 1\u001b[0m(0.03, 77090) \u001b[1m\u001b[4m1989\u001b[0m(0.03, 3342) \u001b[1m\u001b[4mcommiss wherea\u001b[0m(0.03, 68222) \u001b[1m\u001b[4msuppli\u001b[0m(0.03, 43875) \u001b[1m\u001b[4morgan market\u001b[0m(0.03, 85988) \u001b[1m\u001b[4mcommon organ\u001b[0m(0.03, 68459) \u001b[1m\u001b[4m75\u001b[0m(0.03, 9270) \u001b[1m\u001b[4m1990\u001b[0m(0.03, 3355) \u001b[1m\u001b[4mfollow 1\u001b[0m(0.03, 76826) \u001b[1m\u001b[4mamend follow\u001b[0m(0.03, 63104) \u001b[1m\u001b[4m2 2\u001b[0m(0.03, 53671) \u001b[1m\u001b[4mreplac follow\u001b[0m(0.03, 91741) \u001b[1m\u001b[4m2 articl\u001b[0m(0.03, 53790) \u001b[1m\u001b[4mdiffer\u001b[0m(0.03, 20268) \u001b[1m\u001b[4m2 thereof\u001b[0m(0.03, 54128) \u001b[1m\u001b[4m89\u001b[0m(0.03, 9923) \u001b[1m\u001b[4mpropos commiss\u001b[0m(0.03, 89204) \u001b[1m\u001b[4m1994\u001b[0m(0.03, 3398) \u001b[1m\u001b[4mregul last\u001b[0m(0.03, 91343) \u001b[1m\u001b[4m1 januari\u001b[0m(0.03, 50871) \u001b[1m\u001b[4morgan\u001b[0m(0.03, 35433) \u001b[1m\u001b[4mprocess\u001b[0m(0.03, 37835) \u001b[1m\u001b[4mregard propos\u001b[0m(0.03, 91046) \u001b[1m\u001b[4mpurpos\u001b[0m(0.02, 38380) \u001b[1m\u001b[4mlevel\u001b[0m(0.02, 30443) \u001b[1m\u001b[4mcontain\u001b[0m(0.02, 18534) \u001b[1m\u001b[4mcouncilth\u001b[0m(0.02, 18823) \u001b[1m\u001b[4m93\u001b[0m(0.02, 10311) \u001b[1m\u001b[4mpropos\u001b[0m(0.02, 38049) \u001b[1m\u001b[4mtime\u001b[0m(0.02, 44969) \u001b[1m\u001b[4meconom communiti\u001b[0m(0.02, 73517) \u001b[1m\u001b[4mspecif\u001b[0m(0.02, 42808) \u001b[1m\u001b[4mreplac\u001b[0m(0.02, 39593) \u001b[1m\u001b[4maccount\u001b[0m(0.02, 11006) \u001b[1m\u001b[4meuropean econom\u001b[0m(0.02, 75303) \u001b[1m\u001b[4mjanuari\u001b[0m(0.02, 28549) \u001b[1m\u001b[4mthereof regard\u001b[0m(0.02, 96945) \u001b[1m\u001b[4marticl 1\u001b[0m(0.02, 64645) \u001b[1m\u001b[4mcondit\u001b[0m(0.02, 18346) \u001b[1m\u001b[4mtake\u001b[0m(0.02, 44257) \u001b[1m\u001b[4mfollow public\u001b[0m(0.02, 76982) \u001b[1m\u001b[4mday follow\u001b[0m(0.02, 70981) \u001b[1m\u001b[4moctob\u001b[0m(0.02, 34997) \u001b[1m\u001b[4morder\u001b[0m(0.02, 35417) \u001b[1m\u001b[4mherebi\u001b[0m(0.02, 26227) \u001b[1m\u001b[4meconom\u001b[0m(0.02, 21363) \u001b[1m\u001b[4m1 particular\u001b[0m(0.02, 50933) \u001b[1m\u001b[4mfix\u001b[0m(0.02, 23600) \u001b[1m\u001b[4mprovis\u001b[0m(0.02, 38150) \u001b[1m\u001b[4mpublic offici\u001b[0m(0.02, 89728) \u001b[1m\u001b[4mjournal european\u001b[0m(0.02, 80544)\n",
      "11318 : \n",
      "\u001b[1m\u001b[4mpoultrymeat\u001b[0m(0.55, 37477) \u001b[1m\u001b[4m1906\u001b[0m(0.29, 3113) \u001b[1m\u001b[4mfresh poultrymeat\u001b[0m(0.20, 77450) \u001b[1m\u001b[4mretail\u001b[0m(0.15, 39771) \u001b[1m\u001b[4mtemperatur\u001b[0m(0.14, 44432) \u001b[1m\u001b[4mretail trade\u001b[0m(0.14, 92495) \u001b[1m\u001b[4mcut\u001b[0m(0.13, 19039) \u001b[1m\u001b[4mâ c\u001b[0m(0.13, 99975) \u001b[1m\u001b[4mmarket standard\u001b[0m(0.12, 83018) \u001b[1m\u001b[4mâ\u001b[0m(0.12, 49087) \u001b[1m\u001b[4m9 februari\u001b[0m(0.11, 60500) \u001b[1m\u001b[4mregul eec\u001b[0m(0.11, 91289) \u001b[1m\u001b[4mstorag\u001b[0m(0.11, 43281) \u001b[1m\u001b[4mfresh\u001b[0m(0.10, 23858) \u001b[1m\u001b[4mfebruari 1993\u001b[0m(0.10, 76207) \u001b[1m\u001b[4mcertain market\u001b[0m(0.09, 67152) \u001b[1m\u001b[4mstiffen\u001b[0m(0.09, 43220) \u001b[1m\u001b[4m90\u001b[0m(0.08, 10175) \u001b[1m\u001b[4mcommunit\u001b[0m(0.08, 17974) \u001b[1m\u001b[4mpoint\u001b[0m(0.08, 37125) \u001b[1m\u001b[4mperform\u001b[0m(0.08, 36415) \u001b[1m\u001b[4mtrade regul\u001b[0m(0.08, 97325) \u001b[1m\u001b[4mtreatment\u001b[0m(0.07, 45374) \u001b[1m\u001b[4mpurpos suppli\u001b[0m(0.07, 89833) \u001b[1m\u001b[4mshop\u001b[0m(0.07, 41871) \u001b[1m\u001b[4m1235\u001b[0m(0.07, 1901) \u001b[1m\u001b[4m173 6\u001b[0m(0.07, 52530) \u001b[1m\u001b[4mtake due\u001b[0m(0.07, 96315) \u001b[1m\u001b[4msuitabl human\u001b[0m(0.07, 95889) \u001b[1m\u001b[4mwesth 1\u001b[0m(0.07, 98922) \u001b[1m\u001b[4m1975\u001b[0m(0.07, 3226) \u001b[1m\u001b[4mpresidentb westh\u001b[0m(0.07, 88018) \u001b[1m\u001b[4mlevel member\u001b[0m(0.07, 81879) \u001b[1m\u001b[4msole purpos\u001b[0m(0.07, 94421) \u001b[1m\u001b[4mundergon treatment\u001b[0m(0.07, 97725) \u001b[1m\u001b[4mwesth\u001b[0m(0.07, 47887) \u001b[1m\u001b[4mfix differ\u001b[0m(0.07, 76689) \u001b[1m\u001b[4m128 11\u001b[0m(0.07, 51863) \u001b[1m\u001b[4m89 oj\u001b[0m(0.07, 60408) \u001b[1m\u001b[4mwherea definit\u001b[0m(0.07, 99062) \u001b[1m\u001b[4mdue account\u001b[0m(0.07, 72452) \u001b[1m\u001b[4mprepar wherea\u001b[0m(0.06, 87907) \u001b[1m\u001b[4mstate permit\u001b[0m(0.06, 95137) \u001b[1m\u001b[4mcool\u001b[0m(0.06, 18440) \u001b[1m\u001b[4mpoultrymeat 1\u001b[0m(0.06, 87723) \u001b[1m\u001b[4m77 regul\u001b[0m(0.06, 59718) \u001b[1m\u001b[4mpoultrymeat regard\u001b[0m(0.06, 87730) \u001b[1m\u001b[4m93 9\u001b[0m(0.06, 60960) \u001b[1m\u001b[4madjac\u001b[0m(0.06, 11335) \u001b[1m\u001b[4m90 amend\u001b[0m(0.06, 60636) \u001b[1m\u001b[4m90 herebi\u001b[0m(0.06, 60650) \u001b[1m\u001b[4mhowev member\u001b[0m(0.06, 78708) \u001b[1m\u001b[4m2777 75\u001b[0m(0.06, 56347) \u001b[1m\u001b[4meec 2777\u001b[0m(0.06, 73848) \u001b[1m\u001b[4m2777\u001b[0m(0.06, 5141) \u001b[1m\u001b[4mmarket poultrymeat\u001b[0m(0.06, 82981) \u001b[1m\u001b[4m1993 councilth\u001b[0m(0.06, 53315) \u001b[1m\u001b[4mhowev provis\u001b[0m(0.06, 78718) \u001b[1m\u001b[4mcontain regul\u001b[0m(0.06, 69727) \u001b[1m\u001b[4mfollow 5\u001b[0m(0.06, 76839) \u001b[1m\u001b[4mpoint 5\u001b[0m(0.06, 87443) \u001b[1m\u001b[4m5 1989\u001b[0m(0.05, 58307) \u001b[1m\u001b[4mp 77\u001b[0m(0.05, 86350) \u001b[1m\u001b[4m2 point\u001b[0m(0.05, 54060) \u001b[1m\u001b[4mcouncilth presidentb\u001b[0m(0.05, 70275) \u001b[1m\u001b[4mpresidentb\u001b[0m(0.05, 37673) \u001b[1m\u001b[4m1993 amend\u001b[0m(0.05, 53302) \u001b[1m\u001b[4mstandard\u001b[0m(0.05, 43026) \u001b[1m\u001b[4mmean\u001b[0m(0.05, 32047) \u001b[1m\u001b[4m1993\u001b[0m(0.05, 3302) \u001b[1m\u001b[4m1994 regul\u001b[0m(0.05, 53378) \u001b[1m\u001b[4mcold\u001b[0m(0.05, 17679) \u001b[1m\u001b[4mmay fix\u001b[0m(0.05, 83299) \u001b[1m\u001b[4m7 1990\u001b[0m(0.05, 59332) \u001b[1m\u001b[4m5 shall\u001b[0m(0.05, 58501) \u001b[1m\u001b[4mjanuari 1994\u001b[0m(0.05, 80487) \u001b[1m\u001b[4mhowev\u001b[0m(0.05, 26415) \u001b[1m\u001b[4m1 point\u001b[0m(0.05, 50957) \u001b[1m\u001b[4mundergon\u001b[0m(0.05, 46124) \u001b[1m\u001b[4mlay specif\u001b[0m(0.05, 81657) \u001b[1m\u001b[4ml 128\u001b[0m(0.05, 80954) \u001b[1m\u001b[4ml 173\u001b[0m(0.05, 81004) \u001b[1m\u001b[4m317\u001b[0m(0.05, 5928) \u001b[1m\u001b[4morder take\u001b[0m(0.05, 85968) \u001b[1m\u001b[4m282 1\u001b[0m(0.05, 56400) \u001b[1m\u001b[4mfebruari\u001b[0m(0.05, 22903) \u001b[1m\u001b[4mspot\u001b[0m(0.05, 42870) \u001b[1m\u001b[4mpremis\u001b[0m(0.05, 37631) \u001b[1m\u001b[4ml 282\u001b[0m(0.05, 81128) \u001b[1m\u001b[4marticl 2\u001b[0m(0.05, 64709) \u001b[1m\u001b[4mkept\u001b[0m(0.04, 29097) \u001b[1m\u001b[4m75 29\u001b[0m(0.04, 59627) \u001b[1m\u001b[4mpoint 1\u001b[0m(0.04, 87428) \u001b[1m\u001b[4m282\u001b[0m(0.04, 5222) \u001b[1m\u001b[4m1975 common\u001b[0m(0.04, 52893) \u001b[1m\u001b[4m11 5\u001b[0m(0.04, 51510) \u001b[1m\u001b[4m29 2\u001b[0m(0.04, 56445) \u001b[1m\u001b[4mbrussel 9\u001b[0m(0.04, 66318) \u001b[1m\u001b[4moctob 1975\u001b[0m(0.04, 85422) \u001b[1m\u001b[4m173\u001b[0m(0.04, 2841) \u001b[1m\u001b[4mtrade\u001b[0m(0.04, 45229) \u001b[1m\u001b[4m11 1975\u001b[0m(0.04, 51466) \u001b[1m\u001b[4msole\u001b[0m(0.04, 42499) \u001b[1m\u001b[4m2 lay\u001b[0m(0.04, 53991) \u001b[1m\u001b[4m128\u001b[0m(0.04, 1963) \u001b[1m\u001b[4mhigher\u001b[0m(0.04, 26124) \u001b[1m\u001b[4m90 2\u001b[0m(0.04, 60561) \u001b[1m\u001b[4msuitabl\u001b[0m(0.04, 43622) \u001b[1m\u001b[4mforc seventh\u001b[0m(0.04, 77165) \u001b[1m\u001b[4mseventh day\u001b[0m(0.04, 93663) \u001b[1m\u001b[4mlay certain\u001b[0m(0.04, 81619) \u001b[1m\u001b[4m29 octob\u001b[0m(0.04, 56481) \u001b[1m\u001b[4mseventh\u001b[0m(0.04, 41683) \u001b[1m\u001b[4m6 7\u001b[0m(0.04, 58880) \u001b[1m\u001b[4mrequir\u001b[0m(0.04, 39668) \u001b[1m\u001b[4mhuman consumpt\u001b[0m(0.04, 78742) \u001b[1m\u001b[4mconsum\u001b[0m(0.04, 18330) \u001b[1m\u001b[4mc\u001b[0m(0.04, 15974) \u001b[1m\u001b[4mshall replac\u001b[0m(0.04, 93983) \u001b[1m\u001b[4m29\u001b[0m(0.04, 5323) \u001b[1m\u001b[4mp 29\u001b[0m(0.04, 86294) \u001b[1m\u001b[4m1 11\u001b[0m(0.04, 50559) \u001b[1m\u001b[4m1975 p\u001b[0m(0.04, 52899) \u001b[1m\u001b[4mwherea regul\u001b[0m(0.04, 99241) \u001b[1m\u001b[4mexclud\u001b[0m(0.04, 22471) \u001b[1m\u001b[4mprovis articl\u001b[0m(0.04, 89585) \u001b[1m\u001b[4mstate may\u001b[0m(0.04, 95103) \u001b[1m\u001b[4mdue\u001b[0m(0.03, 20755) \u001b[1m\u001b[4mwherea order\u001b[0m(0.03, 99189) \u001b[1m\u001b[4m1989 p\u001b[0m(0.03, 53176) \u001b[1m\u001b[4msale\u001b[0m(0.03, 40755) \u001b[1m\u001b[4mconsumpt\u001b[0m(0.03, 18334) \u001b[1m\u001b[4mhuman\u001b[0m(0.03, 26505) \u001b[1m\u001b[4mpermit\u001b[0m(0.03, 36461) \u001b[1m\u001b[4mdefinit\u001b[0m(0.03, 19516) \u001b[1m\u001b[4mtype\u001b[0m(0.03, 45861) \u001b[1m\u001b[4mprepar\u001b[0m(0.03, 37643) \u001b[1m\u001b[4mherebi amend\u001b[0m(0.03, 78524) \u001b[1m\u001b[4m77\u001b[0m(0.03, 9405) \u001b[1m\u001b[4m1 shall\u001b[0m(0.03, 51010) \u001b[1m\u001b[4m1990 p\u001b[0m(0.03, 53212) \u001b[1m\u001b[4mlay\u001b[0m(0.03, 30225) \u001b[1m\u001b[4mforc 1\u001b[0m(0.03, 77094) \u001b[1m\u001b[4m1989\u001b[0m(0.03, 3259) \u001b[1m\u001b[4mcommiss wherea\u001b[0m(0.03, 68218) \u001b[1m\u001b[4msuppli\u001b[0m(0.03, 43721) \u001b[1m\u001b[4morgan market\u001b[0m(0.03, 85988) \u001b[1m\u001b[4mcommon organ\u001b[0m(0.03, 68452) \u001b[1m\u001b[4m75\u001b[0m(0.03, 9325) \u001b[1m\u001b[4m1990\u001b[0m(0.03, 3270) \u001b[1m\u001b[4mfollow 1\u001b[0m(0.03, 76830) \u001b[1m\u001b[4mamend follow\u001b[0m(0.03, 63101) \u001b[1m\u001b[4m2 2\u001b[0m(0.03, 53693) \u001b[1m\u001b[4mreplac follow\u001b[0m(0.03, 91718) \u001b[1m\u001b[4m2 articl\u001b[0m(0.03, 53815) \u001b[1m\u001b[4mdiffer\u001b[0m(0.03, 20046) \u001b[1m\u001b[4m2 thereof\u001b[0m(0.03, 54155) \u001b[1m\u001b[4m89\u001b[0m(0.03, 10053) \u001b[1m\u001b[4mpropos commiss\u001b[0m(0.03, 89200) \u001b[1m\u001b[4m1994\u001b[0m(0.03, 3307) \u001b[1m\u001b[4mregul last\u001b[0m(0.03, 91318) \u001b[1m\u001b[4m1 januari\u001b[0m(0.03, 50886) \u001b[1m\u001b[4morgan\u001b[0m(0.03, 35387) \u001b[1m\u001b[4mprocess\u001b[0m(0.03, 37880) \u001b[1m\u001b[4mregard propos\u001b[0m(0.03, 91028) \u001b[1m\u001b[4mpurpos\u001b[0m(0.02, 38395) \u001b[1m\u001b[4mlevel\u001b[0m(0.02, 30454) \u001b[1m\u001b[4mcontain\u001b[0m(0.02, 18349) \u001b[1m\u001b[4mcouncilth\u001b[0m(0.02, 18611) \u001b[1m\u001b[4m93\u001b[0m(0.02, 10491) \u001b[1m\u001b[4mpropos\u001b[0m(0.02, 38074) \u001b[1m\u001b[4mtime\u001b[0m(0.02, 44868) \u001b[1m\u001b[4meconom communiti\u001b[0m(0.02, 73502) \u001b[1m\u001b[4mspecif\u001b[0m(0.02, 42727) \u001b[1m\u001b[4maccount\u001b[0m(0.02, 11139) \u001b[1m\u001b[4mreplac\u001b[0m(0.02, 39574) \u001b[1m\u001b[4meuropean econom\u001b[0m(0.02, 75304) \u001b[1m\u001b[4mjanuari\u001b[0m(0.02, 28466) \u001b[1m\u001b[4mthereof regard\u001b[0m(0.02, 96938) \u001b[1m\u001b[4marticl 1\u001b[0m(0.02, 64627) \u001b[1m\u001b[4mcondit\u001b[0m(0.02, 18179) \u001b[1m\u001b[4mtake\u001b[0m(0.02, 44120) \u001b[1m\u001b[4mfollow public\u001b[0m(0.02, 76979) \u001b[1m\u001b[4mday follow\u001b[0m(0.02, 70964) \u001b[1m\u001b[4moctob\u001b[0m(0.02, 34926) \u001b[1m\u001b[4morder\u001b[0m(0.02, 35369) \u001b[1m\u001b[4mherebi\u001b[0m(0.02, 26014) \u001b[1m\u001b[4meconom\u001b[0m(0.02, 21096) \u001b[1m\u001b[4m1 particular\u001b[0m(0.02, 50950) \u001b[1m\u001b[4mfix\u001b[0m(0.02, 23307) \u001b[1m\u001b[4mprovis\u001b[0m(0.02, 38162) \u001b[1m\u001b[4mpublic offici\u001b[0m(0.02, 89723) \u001b[1m\u001b[4mjournal european\u001b[0m(0.02, 80556)\n"
     ]
    }
   ],
   "source": [
    "x = np.random.randint(len(trnX))\n",
    "\n",
    "print(get_text(x, Xf, trn_X_Xf))\n",
    "print(get_text(x, orig_Xf, orig_trn_X_Xf))"
   ]
  },
  {
   "cell_type": "code",
   "execution_count": 160,
   "id": "9625a372",
   "metadata": {
    "scrolled": true
   },
   "outputs": [
    {
     "name": "stdout",
     "output_type": "stream",
     "text": [
      "3075 : \n",
      "\u001b[1m\u001b[4mtelevis\u001b[0m(0.47, 4029) \u001b[1m\u001b[4mhdtv\u001b[0m(0.28, 1951) \u001b[1m\u001b[4mdefinit\u001b[0m(0.28, 1086) \u001b[1m\u001b[4mdigit televis\u001b[0m(0.28, 8000) \u001b[1m\u001b[4mhdtv digit\u001b[0m(0.28, 10781) \u001b[1m\u001b[4mtelevis hdtv\u001b[0m(0.28, 17735) \u001b[1m\u001b[4mdefinit televis\u001b[0m(0.28, 7801) \u001b[1m\u001b[4mhigh definit\u001b[0m(0.28, 10872) \u001b[1m\u001b[4m__label__3075__high-definition television; HDTV; digital televisi\u001b[0m(0.28, 22038) \u001b[1m\u001b[4m__parent__4432\u001b[0m(0.26, 23937) \u001b[1m\u001b[4mdigit\u001b[0m(0.23, 1167) \u001b[1m\u001b[4mhigh\u001b[0m(0.21, 1984)\n",
      "3075 : \n",
      "\u001b[1m\u001b[4mtelevis\u001b[0m(0.47, 4029) \u001b[1m\u001b[4mdefinit\u001b[0m(0.28, 1086) \u001b[1m\u001b[4mhdtv\u001b[0m(0.28, 1951) \u001b[1m\u001b[4mdefinit televis\u001b[0m(0.28, 7801) \u001b[1m\u001b[4mdigit televis\u001b[0m(0.28, 8000) \u001b[1m\u001b[4mhdtv digit\u001b[0m(0.28, 10781) \u001b[1m\u001b[4mhigh definit\u001b[0m(0.28, 10872) \u001b[1m\u001b[4mtelevis hdtv\u001b[0m(0.28, 17735) \u001b[1m\u001b[4m__label__3075__high-definition television; HDTV; digital televisi\u001b[0m(0.28, 22038) \u001b[1m\u001b[4m__parent__4432\u001b[0m(0.26, 23920) \u001b[1m\u001b[4mdigit\u001b[0m(0.23, 1167) \u001b[1m\u001b[4mhigh\u001b[0m(0.21, 1984)\n"
     ]
    }
   ],
   "source": [
    "y = np.random.randint(len(Y))\n",
    "\n",
    "print(get_text(y, Yf, Y_Yf))\n",
    "print(get_text(y, orig_Yf, orig_Y_Yf))"
   ]
  }
 ],
 "metadata": {
  "kernelspec": {
   "display_name": "Python 3 (ipykernel)",
   "language": "python",
   "name": "python3"
  },
  "language_info": {
   "codemirror_mode": {
    "name": "ipython",
    "version": 3
   },
   "file_extension": ".py",
   "mimetype": "text/x-python",
   "name": "python",
   "nbconvert_exporter": "python",
   "pygments_lexer": "ipython3",
   "version": "3.9.12"
  }
 },
 "nbformat": 4,
 "nbformat_minor": 5
}
