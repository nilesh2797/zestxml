{
 "cells": [
  {
   "cell_type": "code",
   "execution_count": 1,
   "metadata": {
    "ExecuteTime": {
     "end_time": "2021-02-06T15:10:35.842958Z",
     "start_time": "2021-02-06T15:10:27.239410Z"
    },
    "scrolled": true
   },
   "outputs": [
    {
     "data": {
      "text/html": [
       "<style>.container { width:100% !important; }</style>"
      ],
      "text/plain": [
       "<IPython.core.display.HTML object>"
      ]
     },
     "metadata": {},
     "output_type": "display_data"
    }
   ],
   "source": [
    "%run resources.ipynb\n",
    "\n",
    "dataset = 'IRM-Wikipedia'\n",
    "results_dir = 'Results/analysis/%s'%(dataset)\n",
    "if not os.path.exists( results_dir ):\n",
    "    os.makedirs( results_dir )\n",
    "    \n",
    "%run nns.ipynb"
   ]
  },
  {
   "cell_type": "code",
   "execution_count": 2,
   "metadata": {
    "ExecuteTime": {
     "end_time": "2021-02-06T15:10:35.846185Z",
     "start_time": "2021-02-06T15:10:35.844252Z"
    }
   },
   "outputs": [],
   "source": [
    "from xclib.utils.sparse import binarize\n",
    "from xclib.utils.sparse import retain_topk\n",
    "import random"
   ]
  },
  {
   "cell_type": "code",
   "execution_count": 3,
   "metadata": {
    "ExecuteTime": {
     "end_time": "2021-02-06T15:10:59.496312Z",
     "start_time": "2021-02-06T15:10:59.494270Z"
    }
   },
   "outputs": [],
   "source": [
    "RES_DIR = f'Results/{dataset}'\n",
    "DATA_DIR = f'/mnt/d/nilesh/irm/Datasets/{dataset}'"
   ]
  },
  {
   "cell_type": "code",
   "execution_count": 4,
   "metadata": {
    "ExecuteTime": {
     "end_time": "2021-02-06T15:11:00.868000Z",
     "start_time": "2021-02-06T15:11:00.857329Z"
    },
    "code_folding": [
     0,
     23
    ]
   },
   "outputs": [],
   "source": [
    "def restrict_mat(spmat, active_rows = None, active_cols = None, shrink=False):\n",
    "    if active_cols is not None and active_rows is not None:\n",
    "        temp = spmat[active_rows][:,active_cols]\n",
    "    elif active_rows is not None: \n",
    "        temp = spmat[active_rows]\n",
    "        if shrink: \n",
    "            active_cols = np.where(temp.getnnz(0)>0)[0]\n",
    "            temp = temp[:, active_cols]\n",
    "    elif active_cols is not None: \n",
    "        temp = spmat[:,active_cols]\n",
    "        if shrink:\n",
    "            active_rows = np.where(temp.getnnz(1)>0)[0]\n",
    "            temp = temp[active_rows]\n",
    "    else:\n",
    "        if shrink:\n",
    "            active_rows = np.where(spmat.getnnz(1)>0)[0]\n",
    "            active_cols = np.where(spmat.getnnz(0)>0)[0]\n",
    "            temp = spmat[active_rows][:,active_cols]\n",
    "        else:\n",
    "            return spmat, None, None\n",
    "    \n",
    "    return temp, active_rows, active_cols\n",
    "\n",
    "def get_irm_metrics(score_mat, unseen = None, fewshot=None, X_Y=None):\n",
    "    if X_Y is None : X_Y = tst_X_Y\n",
    "    if unseen is None : unseen = unseen_labels\n",
    "    if fewshot is None : fewshot = fewshot_labels\n",
    "        \n",
    "    mask = np.ones(tst_X_Y.shape[1], bool); mask[unseen] = False; seen = np.where(mask)[0]\n",
    "    metrics = {'GZSL' : None, 'SZSL' : None, 'XC' : None}\n",
    "    \n",
    "    print(_c('GZSL metrics (shape=(%d, %d)): '%(X_Y.shape[0], X_Y.shape[1]), attr='bold'))\n",
    "    metrics['GZSL'] = printacc(score_mat, X_Y=X_Y, K=5, inv_prop_=inv_prop)\n",
    "    \n",
    "    temp_X_Y, active_rows, _ = restrict_mat(X_Y, active_rows=None, active_cols=fewshot, shrink=True)\n",
    "    temp_score_mat, _, _     = restrict_mat(score_mat, active_rows=active_rows, active_cols=fewshot, shrink=True)\n",
    "    print(_c('FewShot metrics (shape=(%d, %d)): '%(temp_X_Y.shape[0], temp_X_Y.shape[1]), attr='bold'))\n",
    "    metrics['FewShot'] = printacc(temp_score_mat, X_Y=temp_X_Y, K=5, inv_prop_=None)\n",
    "    \n",
    "    temp_X_Y, active_rows, _ = restrict_mat(X_Y, active_rows=None, active_cols=unseen, shrink=True)\n",
    "    temp_score_mat, _, _     = restrict_mat(score_mat, active_rows=active_rows, active_cols=unseen, shrink=True)\n",
    "    print(_c('SZSL metrics (shape=(%d, %d)): '%(temp_X_Y.shape[0], temp_X_Y.shape[1]), attr='bold'))\n",
    "    metrics['SZSL'] = printacc(temp_score_mat, X_Y=temp_X_Y, K=5, inv_prop_=None)\n",
    "    \n",
    "    temp_X_Y, active_rows, _ = restrict_mat(X_Y, active_rows=None, active_cols=seen, shrink=True)\n",
    "    temp_score_mat, _, _     = restrict_mat(score_mat, active_rows=active_rows, active_cols=seen, shrink=True)\n",
    "    print(_c('XC metrics (shape=(%d, %d)): '%(temp_X_Y.shape[0], temp_X_Y.shape[1]), attr='bold'))\n",
    "    metrics['XC'] = printacc(temp_score_mat, X_Y=temp_X_Y, K=5, inv_prop_=inv_prop[seen])\n",
    "    \n",
    "    del temp_score_mat, temp_X_Y, active_rows\n",
    "    return metrics"
   ]
  },
  {
   "cell_type": "code",
   "execution_count": 5,
   "metadata": {
    "ExecuteTime": {
     "end_time": "2021-02-06T15:11:02.240143Z",
     "start_time": "2021-02-06T15:11:02.237608Z"
    }
   },
   "outputs": [],
   "source": [
    "def spmax(A, B):\n",
    "    BisBigger = A-B\n",
    "    BisBigger.data = np.where(BisBigger.data < 0, 1, 0)\n",
    "    return A - A.multiply(BisBigger) + B.multiply(BisBigger)"
   ]
  },
  {
   "cell_type": "markdown",
   "metadata": {
    "heading_collapsed": true
   },
   "source": [
    "## Binary Readers"
   ]
  },
  {
   "cell_type": "code",
   "execution_count": 6,
   "metadata": {
    "ExecuteTime": {
     "end_time": "2021-02-02T18:00:07.303307Z",
     "start_time": "2021-02-02T18:00:07.294161Z"
    },
    "code_folding": [
     2,
     8,
     21
    ],
    "hidden": true
   },
   "outputs": [],
   "source": [
    "size_dict = {bool : 1, np.int32 : 4, np.float32 : 4, np.int64 : 8}\n",
    "\n",
    "def readbuf(buf, dtype, offset=0, count=1):\n",
    "    val = np.frombuffer(buf, offset=offset, dtype=dtype, count=count)\n",
    "    if count == 1: val = val[0]\n",
    "    offset += size_dict[dtype]*count\n",
    "    return val, offset\n",
    "\n",
    "def read_buf_bin_vecif(buf, dtype, offset = 0, totlen = -1):\n",
    "    if totlen < 0: totlen, offset = readbuf(buf, np.int64, offset, 1)\n",
    "    totlen *= 2\n",
    "    \n",
    "    temp, _ = readbuf(buf, np.int32, offset, totlen)\n",
    "    inds = temp.reshape(-1, 2)[:, 0];\n",
    "    temp, offset = readbuf(buf, dtype, offset, totlen)\n",
    "    data = temp.reshape(-1, 2)[:, 1];\n",
    "    \n",
    "    nr = 1\n",
    "    if inds.shape[0] > 0: nr = inds.max()+1\n",
    "    return csr_matrix((data, inds, [0, len(data)]), (1, nr)), offset\n",
    "\n",
    "def read_buf_bin_vec(buf, dtype, offset = 0, totlen = -1):\n",
    "    if totlen < 0: totlen, offset = readbuf(buf, np.int64, offset, 1)\n",
    "    return readbuf(buf, dtype, offset, totlen)\n",
    "\n",
    "def read_buf_bin_spmat(buf, dtype, offset = 0, old = False):\n",
    "    (nr, nc), offset = readbuf(buf, np.int32, offset, 2)\n",
    "    \n",
    "    size = None\n",
    "    if old: size, offset = read_buf_bin_vec(buf, np.int32, offset, nr)\n",
    "    else: size, offset = read_buf_bin_vec(buf, np.int32, offset)\n",
    "\n",
    "    data = []; inds = []; indptr = np.zeros(nr+1, int)\n",
    "    indptr[1:] = size.cumsum()\n",
    "    totlen = indptr[-1]\n",
    "    temp, offset = read_buf_bin_vecif(buf, dtype, offset, totlen)\n",
    "\n",
    "    return csr_matrix((temp.data, temp.indices, indptr), (nr, nc)), offset\n",
    "\n",
    "def read_bin_spmat(fname, old = False):\n",
    "    buf = open(fname, 'rb').read()\n",
    "    print('loaded bin file in buffer')\n",
    "    spmat, _ = read_buf_bin_spmat(buf, np.float32, 0, old)\n",
    "    return spmat"
   ]
  },
  {
   "cell_type": "code",
   "execution_count": 7,
   "metadata": {
    "ExecuteTime": {
     "end_time": "2021-02-02T18:00:08.849483Z",
     "start_time": "2021-02-02T18:00:08.839931Z"
    },
    "code_folding": [
     0
    ],
    "hidden": true
   },
   "outputs": [],
   "source": [
    "class Node:\n",
    "    is_leaf = None; is_end_leaf = None; is_early_leaf = None; X_routers = None; Y_routers = None;\n",
    "    depth = None; children = None; Y = None; X = None; XY = None; parent = -1;\n",
    "    \n",
    "    def read(self, buf, offset, ind):\n",
    "        self.id = ind\n",
    "            \n",
    "        [self.is_leaf, self.is_early_leaf, self.is_end_leaf], offset = readbuf(buf, bool, offset, 3)\n",
    "        self.depth, offset = readbuf(buf, np.int32, offset, 1)\n",
    "        self.children, offset = read_buf_bin_vec(buf, np.int32, offset)\n",
    "        self.X, offset = read_buf_bin_vecif(buf, np.float32, offset)\n",
    "        self.Y, offset = read_buf_bin_vecif(buf, np.float32, offset)\n",
    "        self.xy_inds, offset = read_buf_bin_vec(buf, np.int32, offset)\n",
    "                \n",
    "        if self.id == 0:\n",
    "            self.XY, offset = read_buf_bin_spmat(buf, np.int32, offset)\n",
    "        \n",
    "        if not self.is_leaf:\n",
    "            self.X_routers, offset = read_buf_bin_spmat(buf, np.float32, offset)\n",
    "            self.Y_routers, offset = read_buf_bin_spmat(buf, np.float32, offset)\n",
    "            \n",
    "        return offset\n",
    "    \n",
    "    def __str__(self):\n",
    "        return  f'id : {self.id}\\nparent : {self.parent}\\nis_leaf : {self.is_leaf}\\nis_early_leaf : {self.is_early_leaf}\\\n",
    "                \\nis_end_leaf : {self.is_end_leaf}\\nchildren : {self.children}\\ndepth : {self.depth}\\nnnz X : {self.X.nnz}\\\n",
    "                \\nnnz Y : {self.Y.nnz}\\nnnz XY : {self.xy_inds.shape[0]}\\n'\n",
    "\n",
    "    def __repr__(self):\n",
    "        return  f'id : {self.id}\\nparent : {self.parent}\\nis_leaf : {self.is_leaf}\\nis_early_leaf : {self.is_early_leaf}\\\n",
    "                \\nis_end_leaf : {self.is_end_leaf}\\nchildren : {self.children}\\ndepth : {self.depth}\\nnnz X : {self.X.nnz}\\\n",
    "                \\nnnz Y : {self.Y.nnz}\\nnnz XY : {self.xy_inds.shape[0]}\\n'\n",
    "    \n",
    "class Tree:\n",
    "    numxf = None; numyf = None; numx = None; numy = None; numxy = None; nodes = None; max_depth = None;\n",
    "    shared_clf = None; ova_clf = None\n",
    "    \n",
    "    def read(self, filename, offset=0):\n",
    "        buf = open(filename, 'rb').read()\n",
    "        \n",
    "        [self.numxf, self.numyf, self.numx, self.numy, self.numxy, numnode], offset = readbuf(buf, np.int32, offset, 6)\n",
    "        self.nodes = np.empty(numnode, dtype=object)\n",
    "        \n",
    "        for i in tqdm(range(numnode)):\n",
    "            nodeid, offset = readbuf(buf, np.int32, offset, 1)\n",
    "            self.nodes[nodeid] = Node()\n",
    "            offset = self.nodes[nodeid].read(buf, offset, nodeid)\n",
    "        \n",
    "        self.shared_clf, offset = read_buf_bin_vecif(buf, np.float32, offset)\n",
    "        self.ova_clf, offset = read_buf_bin_spmat(buf, np.float32, offset)"
   ]
  },
  {
   "cell_type": "code",
   "execution_count": 6,
   "metadata": {
    "hidden": true
   },
   "outputs": [],
   "source": [
    "plt.style.use('seaborn')"
   ]
  },
  {
   "cell_type": "code",
   "execution_count": 79,
   "metadata": {
    "hidden": true,
    "scrolled": false
   },
   "outputs": [
    {
     "data": {
      "image/png": "[encoded data removed]",
      "text/plain": [
       "<Figure size 640x440 with 1 Axes>"
      ]
     },
     "metadata": {},
     "output_type": "display_data"
    }
   ],
   "source": [
    "from scipy.interpolate import make_interp_spline, BSpline\n",
    "\n",
    "xnew = np.linspace(x.min(), x.max(), 300) \n",
    "spl = make_interp_spline(x, y, k=1)  # type: BSpline\n",
    "smooth = spl(xnew)\n",
    "\n",
    "# from scipy.ndimage.filters import gaussian_filter1d\n",
    "# ysmoothed = gaussian_filter1d(y, sigma=10)\n",
    "\n",
    "# plt.plot(x, ysmoothed)\n",
    "plt.xlabel('number of training points', fontsize=18)\n",
    "plt.ylabel('number of labels', fontsize=18)\n",
    "plt.xticks(fontsize=14)\n",
    "plt.yticks(fontsize=14)\n",
    "plt.plot(xnew, smooth)\n",
    "plt.yscale('log')\n",
    "plt.subplots_adjust(left=0.15, right=0.9, top=0.9, bottom=0.15)\n",
    "\n",
    "plt.savefig('/mnt/c/Users/t-nilgup/Pictures/ads-label-frequency.png')\n",
    "plt.savefig('/mnt/c/Users/t-nilgup/Pictures/ads-label-frequency.eps')\n",
    "\n",
    "plt.show()"
   ]
  },
  {
   "cell_type": "markdown",
   "metadata": {},
   "source": [
    "## Load Data"
   ]
  },
  {
   "cell_type": "code",
   "execution_count": 6,
   "metadata": {
    "ExecuteTime": {
     "end_time": "2021-02-06T15:11:26.686744Z",
     "start_time": "2021-02-06T15:11:09.157173Z"
    }
   },
   "outputs": [
    {
     "name": "stderr",
     "output_type": "stream",
     "text": [
      "/home/t-nilgup/.local/lib/python3.7/site-packages/xclib-0.96-py3.7-linux-x86_64.egg/xclib/data/data_utils.py:173: UserWarning: Header mis-match from inferred shape!\n",
      "  warnings.warn(\"Header mis-match from inferred shape!\")\n"
     ]
    }
   ],
   "source": [
    "val_X_Y = read_sparse_mat('%s/val_X_Y.txt'%DATA_DIR)\n",
    "trn_X_Y = read_sparse_mat('%s/trn_X_Y.txt'%DATA_DIR)\n",
    "tst_X_Y = read_sparse_mat('%s/tst_X_Y.txt'%DATA_DIR)\n",
    "if os.path.exists('%s/pos_trn_tst.txt'%DATA_DIR): filter_mat = read_sparse_mat('%s/pos_trn_tst.txt'%DATA_DIR)\n",
    "else : filter_mat = None\n",
    "if os.path.exists('%s/pos_trn_val.txt'%DATA_DIR): val_filter_mat = read_sparse_mat('%s/pos_trn_val.txt'%DATA_DIR)\n",
    "\n",
    "nnz = trn_X_Y.getnnz(0)\n",
    "valid_labels = np.where(nnz > 0)[0]\n",
    "unseen_labels = np.where(nnz == 0)[0]\n",
    "fewshot_labels = np.where((nnz >= 0) & (nnz <= 5))[0]\n",
    "inv_valid_labels = np.vectorize({v : i for i, v in enumerate(valid_labels)}.get)\n",
    "\n",
    "if \"Amazon\" in dataset: A = 0.6; B = 2.6\n",
    "elif \"Wiki\" in dataset: A = 0.5; B = 0.4\n",
    "else : A = 0.55; B = 1.5\n",
    "inv_prop = xc_metrics.compute_inv_propesity(trn_X_Y, A, B)"
   ]
  },
  {
   "cell_type": "code",
   "execution_count": 19,
   "metadata": {
    "ExecuteTime": {
     "end_time": "2021-02-06T19:50:25.361685Z",
     "start_time": "2021-02-06T19:50:24.631233Z"
    }
   },
   "outputs": [
    {
     "name": "stdout",
     "output_type": "stream",
     "text": [
      "trn active rows after : 2271533, before : 2271533\n",
      "tst active rows after : 1787090, before : 2705425\n"
     ]
    }
   ],
   "source": [
    "new_trn_X_Y, trn_active_rows, _ = restrict_mat(trn_X_Y.copy(), active_cols=valid_labels, shrink=True)\n",
    "new_tst_X_Y, tst_active_rows, _ = restrict_mat(tst_X_Y.copy(), active_cols=valid_labels, shrink=True)\n",
    "\n",
    "print('trn active rows after : %d, before : %d'%(len(trn_active_rows), trn_X_Y.shape[0]))\n",
    "print('tst active rows after : %d, before : %d'%(len(tst_active_rows), tst_X_Y.shape[0]))\n",
    "\n",
    "def remap_score_mat(score_mat, active_rows = tst_active_rows, active_cols = valid_labels, shape = tst_X_Y.shape):\n",
    "    temp = score_mat.tocoo()\n",
    "    if active_rows is not None: temp.row = active_rows[temp.row]\n",
    "    if active_cols is not None: temp.col = active_cols[temp.col]\n",
    "    temp = sp.coo_matrix((temp.data, (temp.row, temp.col)), shape).tocsr()\n",
    "    return temp"
   ]
  },
  {
   "cell_type": "code",
   "execution_count": 89,
   "metadata": {
    "ExecuteTime": {
     "end_time": "2021-02-07T16:15:31.068510Z",
     "start_time": "2021-02-07T16:15:30.593213Z"
    },
    "scrolled": true
   },
   "outputs": [
    {
     "name": "stdout",
     "output_type": "stream",
     "text": [
      "loaded bin file in buffer\n"
     ]
    }
   ],
   "source": [
    "sp_pattern_mat = read_bin_spmat(f'{RES_DIR}/model/sparsity_pattern.bin')\n",
    "# trn_X_Xf = read_sparse_mat(f'{DATA_DIR}/trn_X_Xf.txt')\n",
    "# tst_X_Xf = read_sparse_mat(f'{DATA_DIR}/tst_X_Xf.txt')\n",
    "# val_X_Xf = read_sparse_mat(f'{DATA_DIR}/val_X_Xf.txt')\n",
    "# Y_Yf = read_sparse_mat(f'{DATA_DIR}/Y_Yf.txt')\n",
    "\n",
    "# xfs = [x.strip() for x in open(f'{DATA_DIR}/Xf.txt').readlines()]\n",
    "# yfs = [x.strip() for x in open(f'{DATA_DIR}/Yf.txt').readlines()]\n",
    "# trn_X = [x.strip() for x in open(f'{DATA_DIR}/raw/trn_X.txt').readlines()]\n",
    "# Y = [x.split(';', 1)[0].strip() for x in open(f'{DATA_DIR}/raw/Y.txt').readlines()]\n",
    "# tst_X = [x.strip() for x in open(f'{DATA_DIR}/raw/tst_X.txt').readlines()]\n",
    "# val_X = [x.strip() for x in open(f'{DATA_DIR}/raw/val_X.txt').readlines()]"
   ]
  },
  {
   "cell_type": "code",
   "execution_count": 90,
   "metadata": {
    "ExecuteTime": {
     "end_time": "2021-02-07T16:15:52.307540Z",
     "start_time": "2021-02-07T16:15:51.197526Z"
    }
   },
   "outputs": [],
   "source": [
    "sp_pattern_mat_T = sp_pattern_mat.T.tocsr()"
   ]
  },
  {
   "cell_type": "code",
   "execution_count": 277,
   "metadata": {
    "ExecuteTime": {
     "end_time": "2021-02-08T14:21:44.373633Z",
     "start_time": "2021-02-08T14:21:43.552101Z"
    }
   },
   "outputs": [],
   "source": [
    "vals = []\n",
    "label_token_start = Y_Yf.shape[1] - valid_labels.shape[0]\n",
    "for freq in np.unique(nnz):\n",
    "    if freq > 100:\n",
    "        break\n",
    "    y = np.where(nnz == freq)[0]\n",
    "    temp_Y_Yf = Y_Yf[y]\n",
    "    unq_yfs = np.unique(temp_Y_Yf.indices)\n",
    "    unq_yfs = unq_yfs[unq_yfs >= label_token_start]\n",
    "    yfs_wts = temp_Y_Yf.getnnz(0)[unq_yfs]\n",
    "    val = (sp_pattern_mat_T[unq_yfs].getnnz(1)*yfs_wts).sum() / y.shape[0]\n",
    "#     val = sp_pattern_mat_T[unq_yfs].nnz / unq_yfs.shape[0]\n",
    "    vals.append(val)"
   ]
  },
  {
   "cell_type": "code",
   "execution_count": 276,
   "metadata": {
    "ExecuteTime": {
     "end_time": "2021-02-08T14:20:53.663514Z",
     "start_time": "2021-02-08T14:20:53.391686Z"
    }
   },
   "outputs": [
    {
     "name": "stderr",
     "output_type": "stream",
     "text": [
      "No handles with labels found to put in legend.\n"
     ]
    },
    {
     "data": {
      "image/png": "[encoded data removed]",
      "text/plain": [
       "<Figure size 576x396 with 1 Axes>"
      ]
     },
     "metadata": {},
     "output_type": "display_data"
    }
   ],
   "source": [
    "plt.plot(vals)\n",
    "plt.xlabel('Label frequency', fontsize=20)\n",
    "plt.ylabel('Num parameters', fontsize=22)\n",
    "plt.xticks(fontsize=16)\n",
    "plt.yticks(fontsize=16)\n",
    "plt.legend(prop={'size' : 16})\n",
    "plt.subplots_adjust(left=0.12, right=0.95, top=0.95, bottom=0.13)\n",
    "plt.savefig('/mnt/c/Users/t-nilgup/Pictures/label-token-params.png', facecolor='w')\n",
    "plt.savefig('/mnt/c/Users/t-nilgup/Pictures/label-token-params.eps', facecolor='w')"
   ]
  },
  {
   "cell_type": "code",
   "execution_count": 278,
   "metadata": {
    "ExecuteTime": {
     "end_time": "2021-02-08T14:21:48.349973Z",
     "start_time": "2021-02-08T14:21:48.070479Z"
    }
   },
   "outputs": [
    {
     "name": "stderr",
     "output_type": "stream",
     "text": [
      "No handles with labels found to put in legend.\n"
     ]
    },
    {
     "data": {
      "image/png": "[encoded data removed]",
      "text/plain": [
       "<Figure size 576x396 with 1 Axes>"
      ]
     },
     "metadata": {},
     "output_type": "display_data"
    }
   ],
   "source": [
    "plt.plot(vals)\n",
    "plt.xlabel('Label frequency', fontsize=20)\n",
    "plt.ylabel('Num personalized parameters', fontsize=22)\n",
    "plt.xticks(fontsize=16)\n",
    "plt.yticks(fontsize=16)\n",
    "plt.legend(prop={'size' : 16})\n",
    "plt.subplots_adjust(left=0.12, right=0.95, top=0.95, bottom=0.13)\n",
    "plt.savefig('/mnt/c/Users/t-nilgup/Pictures/label-token-personalized-params.png', facecolor='w')\n",
    "plt.savefig('/mnt/c/Users/t-nilgup/Pictures/label-token-personalized-params.eps', facecolor='w')"
   ]
  },
  {
   "cell_type": "code",
   "execution_count": 122,
   "metadata": {
    "ExecuteTime": {
     "end_time": "2021-02-07T17:11:11.485612Z",
     "start_time": "2021-02-07T17:11:11.029653Z"
    }
   },
   "outputs": [
    {
     "name": "stderr",
     "output_type": "stream",
     "text": [
      "No handles with labels found to put in legend.\n"
     ]
    },
    {
     "data": {
      "image/png": "[encoded data removed]",
      "text/plain": [
       "<Figure size 576x396 with 1 Axes>"
      ]
     },
     "metadata": {},
     "output_type": "display_data"
    }
   ],
   "source": [
    "unqs, cnts = np.unique(nnz, return_counts=True)\n",
    "plt.plot(unqs+1, cnts)\n",
    "plt.xlabel('Label frequency', fontsize=18)\n",
    "plt.ylabel('Number of labels', fontsize=18)\n",
    "plt.xticks(fontsize=14)\n",
    "plt.yticks(fontsize=14)\n",
    "plt.legend(prop={'size' : 14})\n",
    "plt.xscale('log')\n",
    "# plt.yscale('log')\n",
    "\n",
    "# plt.subplots_adjust(left=0.2, right=1, top=0.9, bottom=0.15)\n",
    "# plt.savefig('/mnt/c/Users/t-nilgup/Pictures/wiki-label-frequency.png', facecolor='w')\n",
    "# plt.savefig('/mnt/c/Users/t-nilgup/Pictures/wiki-label-frequency.eps', facecolor='w')"
   ]
  },
  {
   "cell_type": "code",
   "execution_count": 34,
   "metadata": {
    "ExecuteTime": {
     "end_time": "2020-10-12T10:16:30.233502Z",
     "start_time": "2020-10-12T10:16:02.614725Z"
    }
   },
   "outputs": [],
   "source": [
    "k=100000\n",
    "\n",
    "inds = np.random.choice(range(tst_X_Xf.shape[0]), size=k, replace=False)\n",
    "np.save(f'{DATA_DIR}/random{k}_tst_inds.npy', inds)\n",
    "write_sparse_mat(tst_X_Xf[inds], f'{DATA_DIR}/random{k}_tst_X_Xf.txt')\n",
    "write_sparse_mat(tst_X_Y[inds], f'{DATA_DIR}/random{k}_tst_X_Y.txt')\n",
    "\n",
    "# inds = np.random.choice(range(trn_X_Xf.shape[0]), size=k, replace=False)\n",
    "# np.save(f'{DATA_DIR}/random{k}_trn_inds.npy', inds)\n",
    "# write_sparse_mat(trn_X_Xf[inds], f'{DATA_DIR}/random{k}_trn_X_Xf.txt')\n",
    "# write_sparse_mat(trn_X_Y[inds], f'{DATA_DIR}/random{k}_trn_X_Y.txt')"
   ]
  },
  {
   "cell_type": "code",
   "execution_count": 35,
   "metadata": {},
   "outputs": [],
   "source": [
    "write_sparse_mat(filter_mat[inds], f'{DATA_DIR}/random{k}_pos_trn_tst.txt')"
   ]
  },
  {
   "cell_type": "markdown",
   "metadata": {
    "heading_collapsed": true
   },
   "source": [
    "## Load tree"
   ]
  },
  {
   "cell_type": "code",
   "execution_count": 218,
   "metadata": {
    "ExecuteTime": {
     "end_time": "2020-10-06T18:13:19.915145Z",
     "start_time": "2020-10-06T18:13:18.809212Z"
    },
    "hidden": true
   },
   "outputs": [
    {
     "name": "stderr",
     "output_type": "stream",
     "text": [
      "100%|██████████| 2791/2791 [00:00<00:00, 2876.48it/s]\n",
      "100%|██████████| 2791/2791 [00:00<00:00, 531669.66it/s]\n"
     ]
    }
   ],
   "source": [
    "tree = Tree()\n",
    "tree.read(f'{RES_DIR}/0.tree.bin')\n",
    "\n",
    "early_leaf_nodes = [i for i in range(tree.nodes.shape[0]) if tree.nodes[i].is_early_leaf]\n",
    "end_leaf_nodes = [i for i in range(tree.nodes.shape[0]) if tree.nodes[i].is_end_leaf]\n",
    "\n",
    "for i, node in enumerate(tree.nodes):\n",
    "    for child in node.children:\n",
    "        tree.nodes[child].parent = i\n",
    "\n",
    "data = []\n",
    "inds = []\n",
    "indptr = [0]\n",
    "for node in tqdm(tree.nodes):\n",
    "    data.append(node.Y.data)\n",
    "    inds.append(node.Y.indices)\n",
    "    indptr.append(indptr[-1]+node.Y.nnz)\n",
    "node_to_label = csr_matrix((np.hstack(data), np.hstack(inds), indptr), (tree.nodes.shape[0], tree.numy))"
   ]
  },
  {
   "cell_type": "markdown",
   "metadata": {},
   "source": [
    "## Evaluate"
   ]
  },
  {
   "cell_type": "code",
   "execution_count": 51,
   "metadata": {
    "ExecuteTime": {
     "end_time": "2021-02-06T20:43:13.426228Z",
     "start_time": "2021-02-06T20:43:12.339672Z"
    }
   },
   "outputs": [
    {
     "name": "stdout",
     "output_type": "stream",
     "text": [
      "loaded bin file in buffer\n"
     ]
    }
   ],
   "source": [
    "temp = read_bin_spmat(f'{RES_DIR}/validation/model/Xf_Yf.bin').copy()"
   ]
  },
  {
   "cell_type": "code",
   "execution_count": 54,
   "metadata": {
    "ExecuteTime": {
     "end_time": "2021-02-06T20:59:32.928577Z",
     "start_time": "2021-02-06T20:59:32.334300Z"
    }
   },
   "outputs": [],
   "source": [
    "Y_Yf = sp.load_npz(f'{DATA_DIR}/Y_Yf.npz')"
   ]
  },
  {
   "cell_type": "code",
   "execution_count": 58,
   "metadata": {
    "ExecuteTime": {
     "end_time": "2021-02-06T21:00:48.680926Z",
     "start_time": "2021-02-06T21:00:47.790936Z"
    }
   },
   "outputs": [],
   "source": [
    "yfs = [yf.strip() for yf in open(f'{DATA_DIR}/Yf.txt').readlines()]\n",
    "Y = [y.strip() for y in open(f'{DATA_DIR}/raw/Y.txt').readlines()]"
   ]
  },
  {
   "cell_type": "code",
   "execution_count": 85,
   "metadata": {
    "ExecuteTime": {
     "end_time": "2021-02-06T21:04:33.950456Z",
     "start_time": "2021-02-06T21:04:33.947125Z"
    }
   },
   "outputs": [
    {
     "name": "stdout",
     "output_type": "stream",
     "text": [
      "Ancient_subdivisions_of_Yorkshire\n",
      "x = 81823 : \n",
      "\u001b[1m\u001b[4m__label__81823__Ancient_subdivisions_of_Yorkshire\u001b[0m(0.52, 539798) \u001b[1m\u001b[4msubdivis yorkshir\u001b[0m(0.49, 414589) \u001b[1m\u001b[4mancient subdivis\u001b[0m(0.48, 117944) \u001b[1m\u001b[4msubdivis\u001b[0m(0.32, 58543) \u001b[1m\u001b[4myorkshir\u001b[0m(0.29, 67399) \u001b[1m\u001b[4mancient\u001b[0m(0.27, 4721)\n"
     ]
    }
   ],
   "source": [
    "ind = np.random.choice(valid_labels)\n",
    "print(Y[ind])\n",
    "print(get_text(ind, yfs, Y_Yf))"
   ]
  },
  {
   "cell_type": "code",
   "execution_count": 136,
   "metadata": {
    "ExecuteTime": {
     "end_time": "2020-10-06T15:29:23.557651Z",
     "start_time": "2020-10-06T15:29:22.785439Z"
    }
   },
   "outputs": [],
   "source": [
    "parabel_score_mat = read_sparse_mat(f'/scratch/nilesh/programs/XReg/Source/Results/{dataset}/score_mat.txt', use_xclib=True)"
   ]
  },
  {
   "cell_type": "code",
   "execution_count": 170,
   "metadata": {
    "ExecuteTime": {
     "end_time": "2021-02-07T18:06:40.963328Z",
     "start_time": "2021-02-07T18:06:40.961272Z"
    }
   },
   "outputs": [],
   "source": [
    "RES_DIR = f'Results/{dataset}'"
   ]
  },
  {
   "cell_type": "code",
   "execution_count": 171,
   "metadata": {
    "ExecuteTime": {
     "end_time": "2021-02-07T18:07:07.395393Z",
     "start_time": "2021-02-07T18:06:43.231449Z"
    }
   },
   "outputs": [
    {
     "name": "stdout",
     "output_type": "stream",
     "text": [
      "loaded bin file in buffer\n"
     ]
    },
    {
     "name": "stderr",
     "output_type": "stream",
     "text": [
      "/home/t-nilgup/anaconda3/envs/xc/lib/python3.7/site-packages/scipy/sparse/_index.py:125: SparseEfficiencyWarning: Changing the sparsity structure of a csr_matrix is expensive. lil_matrix is more efficient.\n",
      "  self._set_arrayXarray(i, j, x)\n"
     ]
    },
    {
     "name": "stdout",
     "output_type": "stream",
     "text": [
      "loaded bin file in buffer\n",
      "loaded bin file in buffer\n",
      "loaded bin file in buffer\n"
     ]
    }
   ],
   "source": [
    "val_score_mats = {}\n",
    "val_score_mats['clf'] = _filter(read_bin_spmat(f'{RES_DIR}/validation/clf_score_mat.bin').copy(), val_filter_mat)\n",
    "val_score_mats['bil'] = _filter(read_bin_spmat(f'{RES_DIR}/validation/bilinear_score_mat.bin').copy(), val_filter_mat)\n",
    "val_score_mats['knn'] = _filter(read_bin_spmat(f'{RES_DIR}/validation/knn_score_mat.bin').copy(), val_filter_mat)\n",
    "val_score_mats['xsh'] = retain_topk(_filter(read_bin_spmat(f'{RES_DIR}/validation/shortlist.bin').copy(), val_filter_mat), k=100)"
   ]
  },
  {
   "cell_type": "code",
   "execution_count": 283,
   "metadata": {
    "ExecuteTime": {
     "end_time": "2021-02-08T16:41:34.236484Z",
     "start_time": "2021-02-08T16:41:30.472616Z"
    }
   },
   "outputs": [],
   "source": [
    "wts = {'clf': 0, 'bil': 0.6, 'knn': 0.4, 'xsh': 0}\n",
    "score_mat = retain_topk(wts['clf']*val_score_mats['clf'] + wts['bil']*val_score_mats['bil'] + wts['knn']*val_score_mats['knn'] + wts['xsh']*val_score_mats['xsh'], k=300)"
   ]
  },
  {
   "cell_type": "code",
   "execution_count": 288,
   "metadata": {
    "ExecuteTime": {
     "end_time": "2021-02-08T21:22:36.020367Z",
     "start_time": "2021-02-08T21:22:26.559713Z"
    },
    "scrolled": true
   },
   "outputs": [
    {
     "name": "stdout",
     "output_type": "stream",
     "text": [
      "\u001b[1mGZSL metrics (shape=(142645, 1285321)): \u001b[0m\n"
     ]
    },
    {
     "data": {
      "text/html": [
       "<div>\n",
       "<style scoped>\n",
       "    .dataframe tbody tr th:only-of-type {\n",
       "        vertical-align: middle;\n",
       "    }\n",
       "\n",
       "    .dataframe tbody tr th {\n",
       "        vertical-align: top;\n",
       "    }\n",
       "\n",
       "    .dataframe thead th {\n",
       "        text-align: right;\n",
       "    }\n",
       "</style>\n",
       "<table border=\"1\" class=\"dataframe\">\n",
       "  <thead>\n",
       "    <tr style=\"text-align: right;\">\n",
       "      <th></th>\n",
       "      <th>1</th>\n",
       "      <th>2</th>\n",
       "      <th>3</th>\n",
       "      <th>4</th>\n",
       "      <th>5</th>\n",
       "    </tr>\n",
       "  </thead>\n",
       "  <tbody>\n",
       "    <tr>\n",
       "      <th>P</th>\n",
       "      <td>13.25</td>\n",
       "      <td>10.34</td>\n",
       "      <td>8.76</td>\n",
       "      <td>7.72</td>\n",
       "      <td>7.20</td>\n",
       "    </tr>\n",
       "    <tr>\n",
       "      <th>nDCG</th>\n",
       "      <td>13.25</td>\n",
       "      <td>11.61</td>\n",
       "      <td>11.05</td>\n",
       "      <td>10.89</td>\n",
       "      <td>11.11</td>\n",
       "    </tr>\n",
       "    <tr>\n",
       "      <th>PSP</th>\n",
       "      <td>1.50</td>\n",
       "      <td>1.99</td>\n",
       "      <td>2.54</td>\n",
       "      <td>3.05</td>\n",
       "      <td>3.68</td>\n",
       "    </tr>\n",
       "    <tr>\n",
       "      <th>PSnDCG</th>\n",
       "      <td>1.50</td>\n",
       "      <td>1.88</td>\n",
       "      <td>2.30</td>\n",
       "      <td>2.69</td>\n",
       "      <td>3.11</td>\n",
       "    </tr>\n",
       "  </tbody>\n",
       "</table>\n",
       "</div>"
      ],
      "text/plain": [
       "            1      2      3      4      5\n",
       "P       13.25  10.34   8.76   7.72   7.20\n",
       "nDCG    13.25  11.61  11.05  10.89  11.11\n",
       "PSP      1.50   1.99   2.54   3.05   3.68\n",
       "PSnDCG   1.50   1.88   2.30   2.69   3.11"
      ]
     },
     "metadata": {},
     "output_type": "display_data"
    },
    {
     "name": "stdout",
     "output_type": "stream",
     "text": [
      "\u001b[1mFewShot metrics (shape=(11609, 115655)): \u001b[0m\n"
     ]
    },
    {
     "data": {
      "text/html": [
       "<div>\n",
       "<style scoped>\n",
       "    .dataframe tbody tr th:only-of-type {\n",
       "        vertical-align: middle;\n",
       "    }\n",
       "\n",
       "    .dataframe tbody tr th {\n",
       "        vertical-align: top;\n",
       "    }\n",
       "\n",
       "    .dataframe thead th {\n",
       "        text-align: right;\n",
       "    }\n",
       "</style>\n",
       "<table border=\"1\" class=\"dataframe\">\n",
       "  <thead>\n",
       "    <tr style=\"text-align: right;\">\n",
       "      <th></th>\n",
       "      <th>1</th>\n",
       "      <th>2</th>\n",
       "      <th>3</th>\n",
       "      <th>4</th>\n",
       "      <th>5</th>\n",
       "    </tr>\n",
       "  </thead>\n",
       "  <tbody>\n",
       "    <tr>\n",
       "      <th>P</th>\n",
       "      <td>18.34</td>\n",
       "      <td>12.88</td>\n",
       "      <td>9.94</td>\n",
       "      <td>8.13</td>\n",
       "      <td>6.81</td>\n",
       "    </tr>\n",
       "    <tr>\n",
       "      <th>nDCG</th>\n",
       "      <td>18.34</td>\n",
       "      <td>21.66</td>\n",
       "      <td>23.46</td>\n",
       "      <td>24.50</td>\n",
       "      <td>25.05</td>\n",
       "    </tr>\n",
       "  </tbody>\n",
       "</table>\n",
       "</div>"
      ],
      "text/plain": [
       "          1      2      3      4      5\n",
       "P     18.34  12.88   9.94   8.13   6.81\n",
       "nDCG  18.34  21.66  23.46  24.50  25.05"
      ]
     },
     "metadata": {},
     "output_type": "display_data"
    },
    {
     "name": "stdout",
     "output_type": "stream",
     "text": [
      "\u001b[1mSZSL metrics (shape=(116227, 790214)): \u001b[0m\n"
     ]
    },
    {
     "data": {
      "text/html": [
       "<div>\n",
       "<style scoped>\n",
       "    .dataframe tbody tr th:only-of-type {\n",
       "        vertical-align: middle;\n",
       "    }\n",
       "\n",
       "    .dataframe tbody tr th {\n",
       "        vertical-align: top;\n",
       "    }\n",
       "\n",
       "    .dataframe thead th {\n",
       "        text-align: right;\n",
       "    }\n",
       "</style>\n",
       "<table border=\"1\" class=\"dataframe\">\n",
       "  <thead>\n",
       "    <tr style=\"text-align: right;\">\n",
       "      <th></th>\n",
       "      <th>1</th>\n",
       "      <th>2</th>\n",
       "      <th>3</th>\n",
       "      <th>4</th>\n",
       "      <th>5</th>\n",
       "    </tr>\n",
       "  </thead>\n",
       "  <tbody>\n",
       "    <tr>\n",
       "      <th>P</th>\n",
       "      <td>4.38</td>\n",
       "      <td>4.80</td>\n",
       "      <td>5.18</td>\n",
       "      <td>5.01</td>\n",
       "      <td>4.74</td>\n",
       "    </tr>\n",
       "    <tr>\n",
       "      <th>nDCG</th>\n",
       "      <td>4.38</td>\n",
       "      <td>5.79</td>\n",
       "      <td>7.37</td>\n",
       "      <td>8.43</td>\n",
       "      <td>9.22</td>\n",
       "    </tr>\n",
       "  </tbody>\n",
       "</table>\n",
       "</div>"
      ],
      "text/plain": [
       "         1     2     3     4     5\n",
       "P     4.38  4.80  5.18  5.01  4.74\n",
       "nDCG  4.38  5.79  7.37  8.43  9.22"
      ]
     },
     "metadata": {},
     "output_type": "display_data"
    },
    {
     "name": "stdout",
     "output_type": "stream",
     "text": [
      "\u001b[1mXC metrics (shape=(94262, 495107)): \u001b[0m\n"
     ]
    },
    {
     "data": {
      "text/html": [
       "<div>\n",
       "<style scoped>\n",
       "    .dataframe tbody tr th:only-of-type {\n",
       "        vertical-align: middle;\n",
       "    }\n",
       "\n",
       "    .dataframe tbody tr th {\n",
       "        vertical-align: top;\n",
       "    }\n",
       "\n",
       "    .dataframe thead th {\n",
       "        text-align: right;\n",
       "    }\n",
       "</style>\n",
       "<table border=\"1\" class=\"dataframe\">\n",
       "  <thead>\n",
       "    <tr style=\"text-align: right;\">\n",
       "      <th></th>\n",
       "      <th>1</th>\n",
       "      <th>2</th>\n",
       "      <th>3</th>\n",
       "      <th>4</th>\n",
       "      <th>5</th>\n",
       "    </tr>\n",
       "  </thead>\n",
       "  <tbody>\n",
       "    <tr>\n",
       "      <th>P</th>\n",
       "      <td>19.64</td>\n",
       "      <td>15.64</td>\n",
       "      <td>13.20</td>\n",
       "      <td>12.12</td>\n",
       "      <td>11.16</td>\n",
       "    </tr>\n",
       "    <tr>\n",
       "      <th>nDCG</th>\n",
       "      <td>19.64</td>\n",
       "      <td>18.18</td>\n",
       "      <td>17.89</td>\n",
       "      <td>18.44</td>\n",
       "      <td>18.99</td>\n",
       "    </tr>\n",
       "    <tr>\n",
       "      <th>PSP</th>\n",
       "      <td>6.58</td>\n",
       "      <td>8.73</td>\n",
       "      <td>10.15</td>\n",
       "      <td>11.85</td>\n",
       "      <td>13.41</td>\n",
       "    </tr>\n",
       "    <tr>\n",
       "      <th>PSnDCG</th>\n",
       "      <td>6.58</td>\n",
       "      <td>8.04</td>\n",
       "      <td>8.98</td>\n",
       "      <td>9.95</td>\n",
       "      <td>10.75</td>\n",
       "    </tr>\n",
       "  </tbody>\n",
       "</table>\n",
       "</div>"
      ],
      "text/plain": [
       "            1      2      3      4      5\n",
       "P       19.64  15.64  13.20  12.12  11.16\n",
       "nDCG    19.64  18.18  17.89  18.44  18.99\n",
       "PSP      6.58   8.73  10.15  11.85  13.41\n",
       "PSnDCG   6.58   8.04   8.98   9.95  10.75"
      ]
     },
     "metadata": {},
     "output_type": "display_data"
    },
    {
     "name": "stdout",
     "output_type": "stream",
     "text": [
      "13.25 8.76 7.20 18.34 9.94 6.81 4.38 5.18 4.74 1.50 2.54 3.68\n"
     ]
    }
   ],
   "source": [
    "metrics = get_irm_metrics(val_score_mats['xsh'], X_Y=val_X_Y);\n",
    "myprint(*metrics['GZSL'][0, [0, 2, 4]], *metrics['FewShot'][0, [0, 2, 4]], *metrics['SZSL'][0, [0, 2, 4]], *metrics['GZSL'][2, [0, 2, 4]])"
   ]
  },
  {
   "cell_type": "code",
   "execution_count": 20,
   "metadata": {
    "ExecuteTime": {
     "end_time": "2021-02-02T18:28:22.349709Z",
     "start_time": "2021-02-02T18:28:21.968906Z"
    }
   },
   "outputs": [
    {
     "name": "stdout",
     "output_type": "stream",
     "text": [
      "loaded bin file in buffer\n",
      "loaded bin file in buffer\n",
      "loaded bin file in buffer\n",
      "loaded bin file in buffer\n"
     ]
    }
   ],
   "source": [
    "tst_score_mats = {}\n",
    "tst_score_mats['clf'] = _filter(read_bin_spmat(f'{RES_DIR}/clf_score_mat.bin').copy(), filter_mat)\n",
    "tst_score_mats['bil'] = _filter(read_bin_spmat(f'{RES_DIR}/bilinear_score_mat.bin').copy(), filter_mat)\n",
    "tst_score_mats['knn'] = _filter(read_bin_spmat(f'{RES_DIR}/knn_score_mat.bin').copy(), filter_mat)\n",
    "tst_score_mats['xsh'] = retain_topk(_filter(read_bin_spmat(f'{RES_DIR}/shortlist.bin').copy(), filter_mat), k=100)"
   ]
  },
  {
   "cell_type": "code",
   "execution_count": 216,
   "metadata": {
    "ExecuteTime": {
     "end_time": "2021-02-07T19:13:21.400053Z",
     "start_time": "2021-02-07T19:13:21.391849Z"
    }
   },
   "outputs": [
    {
     "ename": "NameError",
     "evalue": "name 'tst_score_mats' is not defined",
     "output_type": "error",
     "traceback": [
      "\u001b[0;31m---------------------------------------------------------------------------\u001b[0m",
      "\u001b[0;31mNameError\u001b[0m                                 Traceback (most recent call last)",
      "\u001b[0;32m<ipython-input-216-3307071d2d6e>\u001b[0m in \u001b[0;36m<module>\u001b[0;34m\u001b[0m\n\u001b[1;32m      1\u001b[0m \u001b[0mwts\u001b[0m \u001b[0;34m=\u001b[0m \u001b[0;34m{\u001b[0m\u001b[0;34m'clf'\u001b[0m\u001b[0;34m:\u001b[0m \u001b[0;36m0.75\u001b[0m\u001b[0;34m,\u001b[0m \u001b[0;34m'bil'\u001b[0m\u001b[0;34m:\u001b[0m \u001b[0;36m0.1\u001b[0m\u001b[0;34m,\u001b[0m \u001b[0;34m'knn'\u001b[0m\u001b[0;34m:\u001b[0m \u001b[0;36m0.15\u001b[0m\u001b[0;34m,\u001b[0m \u001b[0;34m'xsh'\u001b[0m\u001b[0;34m:\u001b[0m \u001b[0;36m0\u001b[0m\u001b[0;34m}\u001b[0m\u001b[0;34m\u001b[0m\u001b[0;34m\u001b[0m\u001b[0m\n\u001b[0;32m----> 2\u001b[0;31m \u001b[0mscore_mat\u001b[0m \u001b[0;34m=\u001b[0m \u001b[0mretain_topk\u001b[0m\u001b[0;34m(\u001b[0m\u001b[0mwts\u001b[0m\u001b[0;34m[\u001b[0m\u001b[0;34m'clf'\u001b[0m\u001b[0;34m]\u001b[0m\u001b[0;34m*\u001b[0m\u001b[0mtst_score_mats\u001b[0m\u001b[0;34m[\u001b[0m\u001b[0;34m'clf'\u001b[0m\u001b[0;34m]\u001b[0m \u001b[0;34m+\u001b[0m \u001b[0mwts\u001b[0m\u001b[0;34m[\u001b[0m\u001b[0;34m'bil'\u001b[0m\u001b[0;34m]\u001b[0m\u001b[0;34m*\u001b[0m\u001b[0mtst_score_mats\u001b[0m\u001b[0;34m[\u001b[0m\u001b[0;34m'bil'\u001b[0m\u001b[0;34m]\u001b[0m \u001b[0;34m+\u001b[0m \u001b[0mwts\u001b[0m\u001b[0;34m[\u001b[0m\u001b[0;34m'knn'\u001b[0m\u001b[0;34m]\u001b[0m\u001b[0;34m*\u001b[0m\u001b[0mtst_score_mats\u001b[0m\u001b[0;34m[\u001b[0m\u001b[0;34m'knn'\u001b[0m\u001b[0;34m]\u001b[0m \u001b[0;34m+\u001b[0m \u001b[0mwts\u001b[0m\u001b[0;34m[\u001b[0m\u001b[0;34m'xsh'\u001b[0m\u001b[0;34m]\u001b[0m\u001b[0;34m*\u001b[0m\u001b[0mtst_score_mats\u001b[0m\u001b[0;34m[\u001b[0m\u001b[0;34m'xsh'\u001b[0m\u001b[0;34m]\u001b[0m\u001b[0;34m,\u001b[0m \u001b[0mk\u001b[0m\u001b[0;34m=\u001b[0m\u001b[0;36m100\u001b[0m\u001b[0;34m)\u001b[0m\u001b[0;34m\u001b[0m\u001b[0;34m\u001b[0m\u001b[0m\n\u001b[0m",
      "\u001b[0;31mNameError\u001b[0m: name 'tst_score_mats' is not defined"
     ]
    }
   ],
   "source": [
    "wts = {'clf': 0.75, 'bil': 0.1, 'knn': 0.15, 'xsh': 0}\n",
    "score_mat = retain_topk(wts['clf']*tst_score_mats['clf'] + wts['bil']*tst_score_mats['bil'] + wts['knn']*tst_score_mats['knn'] + wts['xsh']*tst_score_mats['xsh'], k=100)"
   ]
  },
  {
   "cell_type": "code",
   "execution_count": 217,
   "metadata": {
    "ExecuteTime": {
     "end_time": "2021-02-07T19:13:21.704329Z",
     "start_time": "2021-02-07T19:13:21.696230Z"
    },
    "scrolled": true
   },
   "outputs": [
    {
     "ename": "NameError",
     "evalue": "name 'tst_score_mats' is not defined",
     "output_type": "error",
     "traceback": [
      "\u001b[0;31m---------------------------------------------------------------------------\u001b[0m",
      "\u001b[0;31mNameError\u001b[0m                                 Traceback (most recent call last)",
      "\u001b[0;32m<ipython-input-217-cf606f794960>\u001b[0m in \u001b[0;36m<module>\u001b[0;34m\u001b[0m\n\u001b[0;32m----> 1\u001b[0;31m \u001b[0mmetrics\u001b[0m \u001b[0;34m=\u001b[0m \u001b[0mget_irm_metrics\u001b[0m\u001b[0;34m(\u001b[0m\u001b[0mtst_score_mats\u001b[0m\u001b[0;34m[\u001b[0m\u001b[0;34m'bil'\u001b[0m\u001b[0;34m]\u001b[0m\u001b[0;34m,\u001b[0m \u001b[0mX_Y\u001b[0m\u001b[0;34m=\u001b[0m\u001b[0mtst_X_Y\u001b[0m\u001b[0;34m)\u001b[0m\u001b[0;34m;\u001b[0m\u001b[0;34m\u001b[0m\u001b[0;34m\u001b[0m\u001b[0m\n\u001b[0m\u001b[1;32m      2\u001b[0m \u001b[0mmyprint\u001b[0m\u001b[0;34m(\u001b[0m\u001b[0;34m*\u001b[0m\u001b[0mmetrics\u001b[0m\u001b[0;34m[\u001b[0m\u001b[0;34m'GZSL'\u001b[0m\u001b[0;34m]\u001b[0m\u001b[0;34m[\u001b[0m\u001b[0;36m0\u001b[0m\u001b[0;34m,\u001b[0m \u001b[0;34m[\u001b[0m\u001b[0;36m0\u001b[0m\u001b[0;34m,\u001b[0m \u001b[0;36m2\u001b[0m\u001b[0;34m,\u001b[0m \u001b[0;36m4\u001b[0m\u001b[0;34m]\u001b[0m\u001b[0;34m]\u001b[0m\u001b[0;34m,\u001b[0m \u001b[0;34m*\u001b[0m\u001b[0mmetrics\u001b[0m\u001b[0;34m[\u001b[0m\u001b[0;34m'FewShot'\u001b[0m\u001b[0;34m]\u001b[0m\u001b[0;34m[\u001b[0m\u001b[0;36m0\u001b[0m\u001b[0;34m,\u001b[0m \u001b[0;34m[\u001b[0m\u001b[0;36m0\u001b[0m\u001b[0;34m,\u001b[0m \u001b[0;36m2\u001b[0m\u001b[0;34m,\u001b[0m \u001b[0;36m4\u001b[0m\u001b[0;34m]\u001b[0m\u001b[0;34m]\u001b[0m\u001b[0;34m,\u001b[0m \u001b[0;34m*\u001b[0m\u001b[0mmetrics\u001b[0m\u001b[0;34m[\u001b[0m\u001b[0;34m'SZSL'\u001b[0m\u001b[0;34m]\u001b[0m\u001b[0;34m[\u001b[0m\u001b[0;36m0\u001b[0m\u001b[0;34m,\u001b[0m \u001b[0;34m[\u001b[0m\u001b[0;36m0\u001b[0m\u001b[0;34m,\u001b[0m \u001b[0;36m2\u001b[0m\u001b[0;34m,\u001b[0m \u001b[0;36m4\u001b[0m\u001b[0;34m]\u001b[0m\u001b[0;34m]\u001b[0m\u001b[0;34m,\u001b[0m \u001b[0;34m*\u001b[0m\u001b[0mmetrics\u001b[0m\u001b[0;34m[\u001b[0m\u001b[0;34m'GZSL'\u001b[0m\u001b[0;34m]\u001b[0m\u001b[0;34m[\u001b[0m\u001b[0;36m2\u001b[0m\u001b[0;34m,\u001b[0m \u001b[0;34m[\u001b[0m\u001b[0;36m0\u001b[0m\u001b[0;34m,\u001b[0m \u001b[0;36m2\u001b[0m\u001b[0;34m,\u001b[0m \u001b[0;36m4\u001b[0m\u001b[0;34m]\u001b[0m\u001b[0;34m]\u001b[0m\u001b[0;34m)\u001b[0m\u001b[0;34m\u001b[0m\u001b[0;34m\u001b[0m\u001b[0m\n",
      "\u001b[0;31mNameError\u001b[0m: name 'tst_score_mats' is not defined"
     ]
    }
   ],
   "source": [
    "metrics = get_irm_metrics(tst_score_mats['bil'], X_Y=tst_X_Y);\n",
    "myprint(*metrics['GZSL'][0, [0, 2, 4]], *metrics['FewShot'][0, [0, 2, 4]], *metrics['SZSL'][0, [0, 2, 4]], *metrics['GZSL'][2, [0, 2, 4]])"
   ]
  },
  {
   "cell_type": "code",
   "execution_count": 10,
   "metadata": {
    "ExecuteTime": {
     "end_time": "2020-12-02T10:59:51.827246Z",
     "start_time": "2020-12-02T10:59:51.325207Z"
    }
   },
   "outputs": [],
   "source": [
    "sp.save_npz(f'{RES_DIR}/final_score_mat.npz', score_mat)"
   ]
  },
  {
   "cell_type": "code",
   "execution_count": 30,
   "metadata": {
    "scrolled": true
   },
   "outputs": [
    {
     "data": {
      "text/plain": [
       "{'bi-gen': {'GZSL': array([[19.94321568, 17.24806337, 14.90366528, 13.01990957, 11.55974622],\n",
       "         [19.94321495, 19.29482222, 19.12069768, 19.15252209, 19.29900348],\n",
       "         [ 7.04523857, 11.1681202 , 12.78425653, 13.8793123 , 14.76550273],\n",
       "         [ 7.04523847, 10.3059411 , 11.85949296, 12.92861253, 13.72910589]]),\n",
       "  'SZSL': array([[19.11001747, 14.22991215, 11.38031611,  9.58555241,  8.3106335 ],\n",
       "         [19.11001801, 18.60080063, 19.00213659, 19.60186362, 20.11832744]]),\n",
       "  'XC': array([[24.85519085, 19.67229637, 16.37563387, 14.1082833 , 12.41391017],\n",
       "         [24.85519052, 23.25365692, 22.83538431, 22.8584677 , 23.04077595],\n",
       "         [12.44356161, 15.58076863, 17.48440485, 19.0237693 , 20.29619782],\n",
       "         [12.4435626 , 14.71728384, 16.09369665, 17.11159348, 17.87162423]]),\n",
       "  'FewShot': array([[18.73771656, 14.12492362, 11.35884435,  9.60750797,  8.34018729],\n",
       "         [18.73771697, 18.08422804, 18.39420497, 18.94678175, 19.43508536]])},\n",
       " 'bi-gen+dis': {'GZSL': array([[27.71776087, 23.50240107, 20.3103275 , 17.90336149, 15.98345543],\n",
       "         [27.71776021, 25.84862709, 25.08593798, 24.88034815, 24.91813302],\n",
       "         [ 5.94942514,  8.37090851, 10.47997535, 12.31126065, 13.85387599],\n",
       "         [ 5.94942532,  7.82692209,  9.51071531, 10.89528352, 11.99325696]]),\n",
       "  'SZSL': array([[19.16422174, 14.80723068, 12.09529627, 10.28633622,  8.95901985],\n",
       "         [19.16422248, 19.0142706 , 19.64701116, 20.36195099, 20.94127387]]),\n",
       "  'XC': array([[38.74944304, 31.2877936 , 26.08509615, 22.36744393, 19.58159173],\n",
       "         [38.74944448, 36.35438085, 35.402897  , 35.11020541, 35.1483494 ],\n",
       "         [16.45465115, 19.86918688, 22.70357392, 24.89257437, 26.70286946],\n",
       "         [16.45465195, 18.7051639 , 20.50675452, 21.78273201, 22.76368141]]),\n",
       "  'FewShot': array([[18.60146328, 14.62658343, 12.08222542, 10.31974104,  9.02459165],\n",
       "         [18.60146374, 18.3870852 , 18.9865008 , 19.66008693, 20.23955286]])},\n",
       " 'bi-gen+dis+ova': {'GZSL': array([[27.75141085, 23.50345263, 20.34023859, 17.96960987, 16.09856637],\n",
       "         [27.75141001, 25.81546903, 25.02462864, 24.81994778, 24.8866871 ],\n",
       "         [ 5.45346312,  7.61451456,  9.62958153, 11.45106465, 13.02883285],\n",
       "         [ 5.45346327,  7.12074414,  8.69709775, 10.04807502, 11.14413068]]),\n",
       "  'SZSL': array([[19.57720667, 15.01544392, 12.22205971, 10.3521557 ,  9.01425658],\n",
       "         [19.57720667, 19.3292886 , 19.92928237, 20.60617656, 21.18382305]]),\n",
       "  'XC': array([[39.27033163, 31.85589103, 26.63144569, 22.87268464, 20.03734273],\n",
       "         [39.27033246, 36.98814809, 36.08585   , 35.81041694, 35.86285114],\n",
       "         [16.61354709, 20.13460703, 23.0025659 , 25.27900639, 27.12237171],\n",
       "         [16.6135475 , 18.93565953, 20.73740214, 22.04022706, 23.02991301]]),\n",
       "  'FewShot': array([[19.06555022, 14.876794  , 12.21352403, 10.39715767,  9.07826719],\n",
       "         [19.06554997, 18.75359416, 19.28653419, 19.93619502, 20.49488723]])}}"
      ]
     },
     "execution_count": 30,
     "metadata": {},
     "output_type": "execute_result"
    }
   ],
   "source": [
    "all_metrics"
   ]
  },
  {
   "cell_type": "code",
   "execution_count": 40,
   "metadata": {
    "ExecuteTime": {
     "end_time": "2021-02-06T20:00:33.573043Z",
     "start_time": "2021-02-06T20:00:33.569999Z"
    }
   },
   "outputs": [
    {
     "data": {
      "text/plain": [
       "array([], dtype=int32)"
      ]
     },
     "execution_count": 40,
     "metadata": {},
     "output_type": "execute_result"
    }
   ],
   "source": [
    "np.array([], np.int32)"
   ]
  },
  {
   "cell_type": "code",
   "execution_count": 41,
   "metadata": {
    "ExecuteTime": {
     "end_time": "2021-02-06T20:01:37.776872Z",
     "start_time": "2021-02-06T20:00:48.740436Z"
    }
   },
   "outputs": [
    {
     "name": "stderr",
     "output_type": "stream",
     "text": [
      "100%|█████████▉| 1787088/1787090 [00:49<00:00, 36452.23it/s]\n"
     ]
    }
   ],
   "source": [
    "with open('/mnt/d/nilesh/irm-wikipedia-astec-score_mat.txt') as f:\n",
    "    numx = tst_active_rows.shape[0]\n",
    "    data = [np.array([], np.float32)]*numx; inds = [np.array([], np.int32)]*numx; indptr = [0]*(numx+1)\n",
    "    for line in tqdm(f, total=numx):\n",
    "        row = line.split('\\t', 1)\n",
    "        index = int(row[0].strip())\n",
    "        row = list(zip(*list(map(lambda x: x.split(':'), row[1].strip().split(' ')))))\n",
    "        inds[index] = np.array(list(map(np.int32, row[0])), np.int32)\n",
    "        data[index] = np.array(list(map(np.float32, row[1])), np.float32)\n",
    "        indptr[index+1] = len(row[0])"
   ]
  },
  {
   "cell_type": "code",
   "execution_count": 46,
   "metadata": {
    "ExecuteTime": {
     "end_time": "2021-02-06T20:02:34.013328Z",
     "start_time": "2021-02-06T20:02:31.330291Z"
    }
   },
   "outputs": [],
   "source": [
    "score_mat = csr_matrix((np.hstack(data), np.hstack(inds), np.cumsum(indptr)), (tst_active_rows.shape[0], valid_labels.shape[0]))"
   ]
  },
  {
   "cell_type": "code",
   "execution_count": 47,
   "metadata": {
    "ExecuteTime": {
     "end_time": "2021-02-06T20:02:54.533739Z",
     "start_time": "2021-02-06T20:02:35.599617Z"
    }
   },
   "outputs": [
    {
     "name": "stderr",
     "output_type": "stream",
     "text": [
      "/home/t-nilgup/anaconda3/envs/xc/lib/python3.7/site-packages/scipy/sparse/_index.py:125: SparseEfficiencyWarning: Changing the sparsity structure of a csr_matrix is expensive. lil_matrix is more efficient.\n",
      "  self._set_arrayXarray(i, j, x)\n"
     ]
    }
   ],
   "source": [
    "final_score_mat = _filter(remap_score_mat(score_mat), filter_mat)"
   ]
  },
  {
   "cell_type": "code",
   "execution_count": 48,
   "metadata": {
    "ExecuteTime": {
     "end_time": "2021-02-06T20:03:42.743369Z",
     "start_time": "2021-02-06T20:03:42.740518Z"
    }
   },
   "outputs": [],
   "source": [
    "OUT_DIR = f'/mnt/d/nilesh/irm/irm-score-mats/Astec/{dataset}'\n",
    "os.makedirs(OUT_DIR, exist_ok=True)"
   ]
  },
  {
   "cell_type": "code",
   "execution_count": 50,
   "metadata": {
    "ExecuteTime": {
     "end_time": "2021-02-06T20:06:39.640840Z",
     "start_time": "2021-02-06T20:03:51.327801Z"
    },
    "scrolled": true
   },
   "outputs": [
    {
     "name": "stdout",
     "output_type": "stream",
     "text": [
      "\u001b[1mGZSL metrics (shape=(2705425, 1285321)): \u001b[0m\n"
     ]
    },
    {
     "data": {
      "text/html": [
       "<div>\n",
       "<style scoped>\n",
       "    .dataframe tbody tr th:only-of-type {\n",
       "        vertical-align: middle;\n",
       "    }\n",
       "\n",
       "    .dataframe tbody tr th {\n",
       "        vertical-align: top;\n",
       "    }\n",
       "\n",
       "    .dataframe thead th {\n",
       "        text-align: right;\n",
       "    }\n",
       "</style>\n",
       "<table border=\"1\" class=\"dataframe\">\n",
       "  <thead>\n",
       "    <tr style=\"text-align: right;\">\n",
       "      <th></th>\n",
       "      <th>1</th>\n",
       "      <th>2</th>\n",
       "      <th>3</th>\n",
       "      <th>4</th>\n",
       "      <th>5</th>\n",
       "    </tr>\n",
       "  </thead>\n",
       "  <tbody>\n",
       "    <tr>\n",
       "      <th>P</th>\n",
       "      <td>20.70</td>\n",
       "      <td>16.38</td>\n",
       "      <td>13.60</td>\n",
       "      <td>11.71</td>\n",
       "      <td>10.31</td>\n",
       "    </tr>\n",
       "    <tr>\n",
       "      <th>nDCG</th>\n",
       "      <td>20.70</td>\n",
       "      <td>18.25</td>\n",
       "      <td>17.09</td>\n",
       "      <td>16.52</td>\n",
       "      <td>16.25</td>\n",
       "    </tr>\n",
       "    <tr>\n",
       "      <th>PSP</th>\n",
       "      <td>2.66</td>\n",
       "      <td>2.66</td>\n",
       "      <td>2.74</td>\n",
       "      <td>2.86</td>\n",
       "      <td>2.99</td>\n",
       "    </tr>\n",
       "    <tr>\n",
       "      <th>PSnDCG</th>\n",
       "      <td>2.66</td>\n",
       "      <td>2.56</td>\n",
       "      <td>2.56</td>\n",
       "      <td>2.59</td>\n",
       "      <td>2.64</td>\n",
       "    </tr>\n",
       "  </tbody>\n",
       "</table>\n",
       "</div>"
      ],
      "text/plain": [
       "            1      2      3      4      5\n",
       "P       20.70  16.38  13.60  11.71  10.31\n",
       "nDCG    20.70  18.25  17.09  16.52  16.25\n",
       "PSP      2.66   2.66   2.74   2.86   2.99\n",
       "PSnDCG   2.66   2.56   2.56   2.59   2.64"
      ]
     },
     "metadata": {},
     "output_type": "display_data"
    },
    {
     "name": "stdout",
     "output_type": "stream",
     "text": [
      "\u001b[1mFewShot metrics (shape=(2294572, 986826)): \u001b[0m\n"
     ]
    },
    {
     "data": {
      "text/html": [
       "<div>\n",
       "<style scoped>\n",
       "    .dataframe tbody tr th:only-of-type {\n",
       "        vertical-align: middle;\n",
       "    }\n",
       "\n",
       "    .dataframe tbody tr th {\n",
       "        vertical-align: top;\n",
       "    }\n",
       "\n",
       "    .dataframe thead th {\n",
       "        text-align: right;\n",
       "    }\n",
       "</style>\n",
       "<table border=\"1\" class=\"dataframe\">\n",
       "  <thead>\n",
       "    <tr style=\"text-align: right;\">\n",
       "      <th></th>\n",
       "      <th>1</th>\n",
       "      <th>2</th>\n",
       "      <th>3</th>\n",
       "      <th>4</th>\n",
       "      <th>5</th>\n",
       "    </tr>\n",
       "  </thead>\n",
       "  <tbody>\n",
       "    <tr>\n",
       "      <th>P</th>\n",
       "      <td>2.31</td>\n",
       "      <td>1.38</td>\n",
       "      <td>0.97</td>\n",
       "      <td>0.74</td>\n",
       "      <td>0.59</td>\n",
       "    </tr>\n",
       "    <tr>\n",
       "      <th>nDCG</th>\n",
       "      <td>2.31</td>\n",
       "      <td>1.83</td>\n",
       "      <td>1.70</td>\n",
       "      <td>1.65</td>\n",
       "      <td>1.63</td>\n",
       "    </tr>\n",
       "  </tbody>\n",
       "</table>\n",
       "</div>"
      ],
      "text/plain": [
       "         1     2     3     4     5\n",
       "P     2.31  1.38  0.97  0.74  0.59\n",
       "nDCG  2.31  1.83  1.70  1.65  1.63"
      ]
     },
     "metadata": {},
     "output_type": "display_data"
    },
    {
     "name": "stdout",
     "output_type": "stream",
     "text": [
      "\u001b[1mSZSL metrics (shape=(2202574, 790214)): \u001b[0m\n"
     ]
    },
    {
     "data": {
      "text/html": [
       "<div>\n",
       "<style scoped>\n",
       "    .dataframe tbody tr th:only-of-type {\n",
       "        vertical-align: middle;\n",
       "    }\n",
       "\n",
       "    .dataframe tbody tr th {\n",
       "        vertical-align: top;\n",
       "    }\n",
       "\n",
       "    .dataframe thead th {\n",
       "        text-align: right;\n",
       "    }\n",
       "</style>\n",
       "<table border=\"1\" class=\"dataframe\">\n",
       "  <thead>\n",
       "    <tr style=\"text-align: right;\">\n",
       "      <th></th>\n",
       "      <th>1</th>\n",
       "      <th>2</th>\n",
       "      <th>3</th>\n",
       "      <th>4</th>\n",
       "      <th>5</th>\n",
       "    </tr>\n",
       "  </thead>\n",
       "  <tbody>\n",
       "    <tr>\n",
       "      <th>P</th>\n",
       "      <td>0.0</td>\n",
       "      <td>0.0</td>\n",
       "      <td>0.0</td>\n",
       "      <td>0.0</td>\n",
       "      <td>0.0</td>\n",
       "    </tr>\n",
       "    <tr>\n",
       "      <th>nDCG</th>\n",
       "      <td>0.0</td>\n",
       "      <td>0.0</td>\n",
       "      <td>0.0</td>\n",
       "      <td>0.0</td>\n",
       "      <td>0.0</td>\n",
       "    </tr>\n",
       "  </tbody>\n",
       "</table>\n",
       "</div>"
      ],
      "text/plain": [
       "        1    2    3    4    5\n",
       "P     0.0  0.0  0.0  0.0  0.0\n",
       "nDCG  0.0  0.0  0.0  0.0  0.0"
      ]
     },
     "metadata": {},
     "output_type": "display_data"
    },
    {
     "name": "stdout",
     "output_type": "stream",
     "text": [
      "\u001b[1mXC metrics (shape=(1787090, 495107)): \u001b[0m\n"
     ]
    },
    {
     "data": {
      "text/html": [
       "<div>\n",
       "<style scoped>\n",
       "    .dataframe tbody tr th:only-of-type {\n",
       "        vertical-align: middle;\n",
       "    }\n",
       "\n",
       "    .dataframe tbody tr th {\n",
       "        vertical-align: top;\n",
       "    }\n",
       "\n",
       "    .dataframe thead th {\n",
       "        text-align: right;\n",
       "    }\n",
       "</style>\n",
       "<table border=\"1\" class=\"dataframe\">\n",
       "  <thead>\n",
       "    <tr style=\"text-align: right;\">\n",
       "      <th></th>\n",
       "      <th>1</th>\n",
       "      <th>2</th>\n",
       "      <th>3</th>\n",
       "      <th>4</th>\n",
       "      <th>5</th>\n",
       "    </tr>\n",
       "  </thead>\n",
       "  <tbody>\n",
       "    <tr>\n",
       "      <th>P</th>\n",
       "      <td>31.33</td>\n",
       "      <td>24.80</td>\n",
       "      <td>20.59</td>\n",
       "      <td>17.72</td>\n",
       "      <td>15.61</td>\n",
       "    </tr>\n",
       "    <tr>\n",
       "      <th>nDCG</th>\n",
       "      <td>31.33</td>\n",
       "      <td>29.47</td>\n",
       "      <td>28.97</td>\n",
       "      <td>28.97</td>\n",
       "      <td>29.19</td>\n",
       "    </tr>\n",
       "    <tr>\n",
       "      <th>PSP</th>\n",
       "      <td>16.28</td>\n",
       "      <td>18.26</td>\n",
       "      <td>19.82</td>\n",
       "      <td>21.20</td>\n",
       "      <td>22.46</td>\n",
       "    </tr>\n",
       "    <tr>\n",
       "      <th>PSnDCG</th>\n",
       "      <td>16.28</td>\n",
       "      <td>17.61</td>\n",
       "      <td>18.69</td>\n",
       "      <td>19.56</td>\n",
       "      <td>20.27</td>\n",
       "    </tr>\n",
       "  </tbody>\n",
       "</table>\n",
       "</div>"
      ],
      "text/plain": [
       "            1      2      3      4      5\n",
       "P       31.33  24.80  20.59  17.72  15.61\n",
       "nDCG    31.33  29.47  28.97  28.97  29.19\n",
       "PSP     16.28  18.26  19.82  21.20  22.46\n",
       "PSnDCG  16.28  17.61  18.69  19.56  20.27"
      ]
     },
     "metadata": {},
     "output_type": "display_data"
    },
    {
     "name": "stdout",
     "output_type": "stream",
     "text": [
      "20.70 13.60 10.31 2.31 0.97 0.59 0.00 0.00 0.00 2.66 2.74 2.99\n"
     ]
    }
   ],
   "source": [
    "metrics = get_irm_metrics(final_score_mat)\n",
    "myprint(*metrics['GZSL'][0, [0, 2, 4]], *metrics['FewShot'][0, [0, 2, 4]], *metrics['SZSL'][0, [0, 2, 4]], *metrics['GZSL'][2, [0, 2, 4]])\n",
    "\n",
    "sp.save_npz(f'{OUT_DIR}/final_score_mat.npz', final_score_mat)"
   ]
  },
  {
   "cell_type": "markdown",
   "metadata": {
    "heading_collapsed": true
   },
   "source": [
    "### BM25"
   ]
  },
  {
   "cell_type": "code",
   "execution_count": 87,
   "metadata": {
    "ExecuteTime": {
     "end_time": "2021-02-07T07:44:21.421233Z",
     "start_time": "2021-02-07T07:44:21.409038Z"
    },
    "hidden": true
   },
   "outputs": [
    {
     "ename": "FileNotFoundError",
     "evalue": "[Errno 2] No such file or directory: '/mnt/d/nilesh/irm/zestxml/bm25/Results/IRM-Wikipedia/score_mat.bin'",
     "output_type": "error",
     "traceback": [
      "\u001b[0;31m---------------------------------------------------------------------------\u001b[0m",
      "\u001b[0;31mFileNotFoundError\u001b[0m                         Traceback (most recent call last)",
      "\u001b[0;32m<ipython-input-87-a118e3e4da86>\u001b[0m in \u001b[0;36m<module>\u001b[0;34m\u001b[0m\n\u001b[1;32m      1\u001b[0m \u001b[0mBM25_RES_DIR\u001b[0m \u001b[0;34m=\u001b[0m \u001b[0;34mf'/mnt/d/nilesh/irm/zestxml/bm25/Results/{dataset}'\u001b[0m\u001b[0;34m\u001b[0m\u001b[0;34m\u001b[0m\u001b[0m\n\u001b[0;32m----> 2\u001b[0;31m \u001b[0mbm25_val_score_mat\u001b[0m \u001b[0;34m=\u001b[0m \u001b[0mread_bin_spmat\u001b[0m\u001b[0;34m(\u001b[0m\u001b[0;34mf'{BM25_RES_DIR}/score_mat.bin'\u001b[0m\u001b[0;34m)\u001b[0m\u001b[0;34m.\u001b[0m\u001b[0mcopy\u001b[0m\u001b[0;34m(\u001b[0m\u001b[0;34m)\u001b[0m\u001b[0;34m\u001b[0m\u001b[0;34m\u001b[0m\u001b[0m\n\u001b[0m\u001b[1;32m      3\u001b[0m \u001b[0;34m\u001b[0m\u001b[0m\n\u001b[1;32m      4\u001b[0m \u001b[0mmetrics\u001b[0m \u001b[0;34m=\u001b[0m \u001b[0mget_irm_metrics\u001b[0m\u001b[0;34m(\u001b[0m\u001b[0mbm25_val_score_mat\u001b[0m\u001b[0;34m,\u001b[0m \u001b[0mX_Y\u001b[0m\u001b[0;34m=\u001b[0m\u001b[0mval_X_Y\u001b[0m\u001b[0;34m)\u001b[0m\u001b[0;34m;\u001b[0m\u001b[0;34m\u001b[0m\u001b[0;34m\u001b[0m\u001b[0m\n\u001b[1;32m      5\u001b[0m \u001b[0mmyprint\u001b[0m\u001b[0;34m(\u001b[0m\u001b[0;34m*\u001b[0m\u001b[0mmetrics\u001b[0m\u001b[0;34m[\u001b[0m\u001b[0;34m'GZSL'\u001b[0m\u001b[0;34m]\u001b[0m\u001b[0;34m[\u001b[0m\u001b[0;36m0\u001b[0m\u001b[0;34m,\u001b[0m \u001b[0;34m[\u001b[0m\u001b[0;36m0\u001b[0m\u001b[0;34m,\u001b[0m \u001b[0;36m2\u001b[0m\u001b[0;34m,\u001b[0m \u001b[0;36m4\u001b[0m\u001b[0;34m]\u001b[0m\u001b[0;34m]\u001b[0m\u001b[0;34m,\u001b[0m \u001b[0;34m*\u001b[0m\u001b[0mmetrics\u001b[0m\u001b[0;34m[\u001b[0m\u001b[0;34m'FewShot'\u001b[0m\u001b[0;34m]\u001b[0m\u001b[0;34m[\u001b[0m\u001b[0;36m0\u001b[0m\u001b[0;34m,\u001b[0m \u001b[0;34m[\u001b[0m\u001b[0;36m0\u001b[0m\u001b[0;34m,\u001b[0m \u001b[0;36m2\u001b[0m\u001b[0;34m,\u001b[0m \u001b[0;36m4\u001b[0m\u001b[0;34m]\u001b[0m\u001b[0;34m]\u001b[0m\u001b[0;34m,\u001b[0m \u001b[0;34m*\u001b[0m\u001b[0mmetrics\u001b[0m\u001b[0;34m[\u001b[0m\u001b[0;34m'SZSL'\u001b[0m\u001b[0;34m]\u001b[0m\u001b[0;34m[\u001b[0m\u001b[0;36m0\u001b[0m\u001b[0;34m,\u001b[0m \u001b[0;34m[\u001b[0m\u001b[0;36m0\u001b[0m\u001b[0;34m,\u001b[0m \u001b[0;36m2\u001b[0m\u001b[0;34m,\u001b[0m \u001b[0;36m4\u001b[0m\u001b[0;34m]\u001b[0m\u001b[0;34m]\u001b[0m\u001b[0;34m,\u001b[0m \u001b[0;34m*\u001b[0m\u001b[0mmetrics\u001b[0m\u001b[0;34m[\u001b[0m\u001b[0;34m'GZSL'\u001b[0m\u001b[0;34m]\u001b[0m\u001b[0;34m[\u001b[0m\u001b[0;36m2\u001b[0m\u001b[0;34m,\u001b[0m \u001b[0;34m[\u001b[0m\u001b[0;36m0\u001b[0m\u001b[0;34m,\u001b[0m \u001b[0;36m2\u001b[0m\u001b[0;34m,\u001b[0m \u001b[0;36m4\u001b[0m\u001b[0;34m]\u001b[0m\u001b[0;34m]\u001b[0m\u001b[0;34m)\u001b[0m\u001b[0;34m\u001b[0m\u001b[0;34m\u001b[0m\u001b[0m\n",
      "\u001b[0;32m<ipython-input-1-bf80eda5aa09>\u001b[0m in \u001b[0;36mread_bin_spmat\u001b[0;34m(fname, old)\u001b[0m\n\u001b[1;32m     39\u001b[0m \u001b[0;34m\u001b[0m\u001b[0m\n\u001b[1;32m     40\u001b[0m \u001b[0;32mdef\u001b[0m \u001b[0mread_bin_spmat\u001b[0m\u001b[0;34m(\u001b[0m\u001b[0mfname\u001b[0m\u001b[0;34m,\u001b[0m \u001b[0mold\u001b[0m \u001b[0;34m=\u001b[0m \u001b[0;32mFalse\u001b[0m\u001b[0;34m)\u001b[0m\u001b[0;34m:\u001b[0m\u001b[0;34m\u001b[0m\u001b[0;34m\u001b[0m\u001b[0m\n\u001b[0;32m---> 41\u001b[0;31m     \u001b[0mbuf\u001b[0m \u001b[0;34m=\u001b[0m \u001b[0mopen\u001b[0m\u001b[0;34m(\u001b[0m\u001b[0mfname\u001b[0m\u001b[0;34m,\u001b[0m \u001b[0;34m'rb'\u001b[0m\u001b[0;34m)\u001b[0m\u001b[0;34m.\u001b[0m\u001b[0mread\u001b[0m\u001b[0;34m(\u001b[0m\u001b[0;34m)\u001b[0m\u001b[0;34m\u001b[0m\u001b[0;34m\u001b[0m\u001b[0m\n\u001b[0m\u001b[1;32m     42\u001b[0m     \u001b[0mprint\u001b[0m\u001b[0;34m(\u001b[0m\u001b[0;34m'loaded bin file in buffer'\u001b[0m\u001b[0;34m)\u001b[0m\u001b[0;34m\u001b[0m\u001b[0;34m\u001b[0m\u001b[0m\n\u001b[1;32m     43\u001b[0m     \u001b[0mspmat\u001b[0m\u001b[0;34m,\u001b[0m \u001b[0m_\u001b[0m \u001b[0;34m=\u001b[0m \u001b[0mread_buf_bin_spmat\u001b[0m\u001b[0;34m(\u001b[0m\u001b[0mbuf\u001b[0m\u001b[0;34m,\u001b[0m \u001b[0mnp\u001b[0m\u001b[0;34m.\u001b[0m\u001b[0mfloat32\u001b[0m\u001b[0;34m,\u001b[0m \u001b[0;36m0\u001b[0m\u001b[0;34m,\u001b[0m \u001b[0mold\u001b[0m\u001b[0;34m)\u001b[0m\u001b[0;34m\u001b[0m\u001b[0;34m\u001b[0m\u001b[0m\n",
      "\u001b[0;31mFileNotFoundError\u001b[0m: [Errno 2] No such file or directory: '/mnt/d/nilesh/irm/zestxml/bm25/Results/IRM-Wikipedia/score_mat.bin'"
     ]
    }
   ],
   "source": [
    "BM25_RES_DIR = f'/mnt/d/nilesh/irm/zestxml/bm25/Results/{dataset}'\n",
    "bm25_val_score_mat = read_bin_spmat(f'{BM25_RES_DIR}/score_mat.bin').copy()\n",
    "\n",
    "metrics = get_irm_metrics(bm25_val_score_mat, X_Y=val_X_Y);\n",
    "myprint(*metrics['GZSL'][0, [0, 2, 4]], *metrics['FewShot'][0, [0, 2, 4]], *metrics['SZSL'][0, [0, 2, 4]], *metrics['GZSL'][2, [0, 2, 4]])"
   ]
  },
  {
   "cell_type": "markdown",
   "metadata": {
    "heading_collapsed": true
   },
   "source": [
    "### Tf-IDF"
   ]
  },
  {
   "cell_type": "code",
   "execution_count": 86,
   "metadata": {
    "ExecuteTime": {
     "end_time": "2021-02-07T07:43:31.034128Z",
     "start_time": "2021-02-07T07:43:18.861832Z"
    },
    "hidden": true,
    "scrolled": true
   },
   "outputs": [
    {
     "name": "stdout",
     "output_type": "stream",
     "text": [
      "loaded bin file in buffer\n",
      "\u001b[1mGZSL metrics (shape=(142645, 1285321)): \u001b[0m\n"
     ]
    },
    {
     "data": {
      "text/html": [
       "<div>\n",
       "<style scoped>\n",
       "    .dataframe tbody tr th:only-of-type {\n",
       "        vertical-align: middle;\n",
       "    }\n",
       "\n",
       "    .dataframe tbody tr th {\n",
       "        vertical-align: top;\n",
       "    }\n",
       "\n",
       "    .dataframe thead th {\n",
       "        text-align: right;\n",
       "    }\n",
       "</style>\n",
       "<table border=\"1\" class=\"dataframe\">\n",
       "  <thead>\n",
       "    <tr style=\"text-align: right;\">\n",
       "      <th></th>\n",
       "      <th>1</th>\n",
       "      <th>2</th>\n",
       "      <th>3</th>\n",
       "      <th>4</th>\n",
       "      <th>5</th>\n",
       "    </tr>\n",
       "  </thead>\n",
       "  <tbody>\n",
       "    <tr>\n",
       "      <th>P</th>\n",
       "      <td>13.45</td>\n",
       "      <td>9.55</td>\n",
       "      <td>7.63</td>\n",
       "      <td>6.44</td>\n",
       "      <td>5.63</td>\n",
       "    </tr>\n",
       "    <tr>\n",
       "      <th>nDCG</th>\n",
       "      <td>13.45</td>\n",
       "      <td>11.59</td>\n",
       "      <td>11.13</td>\n",
       "      <td>11.10</td>\n",
       "      <td>11.21</td>\n",
       "    </tr>\n",
       "    <tr>\n",
       "      <th>PSP</th>\n",
       "      <td>13.89</td>\n",
       "      <td>11.82</td>\n",
       "      <td>11.23</td>\n",
       "      <td>11.18</td>\n",
       "      <td>11.37</td>\n",
       "    </tr>\n",
       "    <tr>\n",
       "      <th>PSnDCG</th>\n",
       "      <td>13.89</td>\n",
       "      <td>12.63</td>\n",
       "      <td>12.61</td>\n",
       "      <td>12.93</td>\n",
       "      <td>13.30</td>\n",
       "    </tr>\n",
       "  </tbody>\n",
       "</table>\n",
       "</div>"
      ],
      "text/plain": [
       "            1      2      3      4      5\n",
       "P       13.45   9.55   7.63   6.44   5.63\n",
       "nDCG    13.45  11.59  11.13  11.10  11.21\n",
       "PSP     13.89  11.82  11.23  11.18  11.37\n",
       "PSnDCG  13.89  12.63  12.61  12.93  13.30"
      ]
     },
     "metadata": {},
     "output_type": "display_data"
    },
    {
     "name": "stdout",
     "output_type": "stream",
     "text": [
      "\u001b[1mFewShot metrics (shape=(121098, 986826)): \u001b[0m\n"
     ]
    },
    {
     "data": {
      "text/html": [
       "<div>\n",
       "<style scoped>\n",
       "    .dataframe tbody tr th:only-of-type {\n",
       "        vertical-align: middle;\n",
       "    }\n",
       "\n",
       "    .dataframe tbody tr th {\n",
       "        vertical-align: top;\n",
       "    }\n",
       "\n",
       "    .dataframe thead th {\n",
       "        text-align: right;\n",
       "    }\n",
       "</style>\n",
       "<table border=\"1\" class=\"dataframe\">\n",
       "  <thead>\n",
       "    <tr style=\"text-align: right;\">\n",
       "      <th></th>\n",
       "      <th>1</th>\n",
       "      <th>2</th>\n",
       "      <th>3</th>\n",
       "      <th>4</th>\n",
       "      <th>5</th>\n",
       "    </tr>\n",
       "  </thead>\n",
       "  <tbody>\n",
       "    <tr>\n",
       "      <th>P</th>\n",
       "      <td>14.35</td>\n",
       "      <td>9.84</td>\n",
       "      <td>7.64</td>\n",
       "      <td>6.33</td>\n",
       "      <td>5.46</td>\n",
       "    </tr>\n",
       "    <tr>\n",
       "      <th>nDCG</th>\n",
       "      <td>14.35</td>\n",
       "      <td>12.88</td>\n",
       "      <td>12.81</td>\n",
       "      <td>13.06</td>\n",
       "      <td>13.37</td>\n",
       "    </tr>\n",
       "  </tbody>\n",
       "</table>\n",
       "</div>"
      ],
      "text/plain": [
       "          1      2      3      4      5\n",
       "P     14.35   9.84   7.64   6.33   5.46\n",
       "nDCG  14.35  12.88  12.81  13.06  13.37"
      ]
     },
     "metadata": {},
     "output_type": "display_data"
    },
    {
     "name": "stdout",
     "output_type": "stream",
     "text": [
      "\u001b[1mSZSL metrics (shape=(116227, 790214)): \u001b[0m\n"
     ]
    },
    {
     "data": {
      "text/html": [
       "<div>\n",
       "<style scoped>\n",
       "    .dataframe tbody tr th:only-of-type {\n",
       "        vertical-align: middle;\n",
       "    }\n",
       "\n",
       "    .dataframe tbody tr th {\n",
       "        vertical-align: top;\n",
       "    }\n",
       "\n",
       "    .dataframe thead th {\n",
       "        text-align: right;\n",
       "    }\n",
       "</style>\n",
       "<table border=\"1\" class=\"dataframe\">\n",
       "  <thead>\n",
       "    <tr style=\"text-align: right;\">\n",
       "      <th></th>\n",
       "      <th>1</th>\n",
       "      <th>2</th>\n",
       "      <th>3</th>\n",
       "      <th>4</th>\n",
       "      <th>5</th>\n",
       "    </tr>\n",
       "  </thead>\n",
       "  <tbody>\n",
       "    <tr>\n",
       "      <th>P</th>\n",
       "      <td>14.58</td>\n",
       "      <td>9.91</td>\n",
       "      <td>7.67</td>\n",
       "      <td>6.34</td>\n",
       "      <td>5.47</td>\n",
       "    </tr>\n",
       "    <tr>\n",
       "      <th>nDCG</th>\n",
       "      <td>14.58</td>\n",
       "      <td>13.24</td>\n",
       "      <td>13.26</td>\n",
       "      <td>13.56</td>\n",
       "      <td>13.89</td>\n",
       "    </tr>\n",
       "  </tbody>\n",
       "</table>\n",
       "</div>"
      ],
      "text/plain": [
       "          1      2      3      4      5\n",
       "P     14.58   9.91   7.67   6.34   5.47\n",
       "nDCG  14.58  13.24  13.26  13.56  13.89"
      ]
     },
     "metadata": {},
     "output_type": "display_data"
    },
    {
     "name": "stdout",
     "output_type": "stream",
     "text": [
      "\u001b[1mXC metrics (shape=(94262, 495107)): \u001b[0m\n"
     ]
    },
    {
     "data": {
      "text/html": [
       "<div>\n",
       "<style scoped>\n",
       "    .dataframe tbody tr th:only-of-type {\n",
       "        vertical-align: middle;\n",
       "    }\n",
       "\n",
       "    .dataframe tbody tr th {\n",
       "        vertical-align: top;\n",
       "    }\n",
       "\n",
       "    .dataframe thead th {\n",
       "        text-align: right;\n",
       "    }\n",
       "</style>\n",
       "<table border=\"1\" class=\"dataframe\">\n",
       "  <thead>\n",
       "    <tr style=\"text-align: right;\">\n",
       "      <th></th>\n",
       "      <th>1</th>\n",
       "      <th>2</th>\n",
       "      <th>3</th>\n",
       "      <th>4</th>\n",
       "      <th>5</th>\n",
       "    </tr>\n",
       "  </thead>\n",
       "  <tbody>\n",
       "    <tr>\n",
       "      <th>P</th>\n",
       "      <td>13.25</td>\n",
       "      <td>10.09</td>\n",
       "      <td>8.10</td>\n",
       "      <td>6.76</td>\n",
       "      <td>5.82</td>\n",
       "    </tr>\n",
       "    <tr>\n",
       "      <th>nDCG</th>\n",
       "      <td>13.25</td>\n",
       "      <td>12.39</td>\n",
       "      <td>12.12</td>\n",
       "      <td>12.06</td>\n",
       "      <td>12.09</td>\n",
       "    </tr>\n",
       "    <tr>\n",
       "      <th>PSP</th>\n",
       "      <td>12.72</td>\n",
       "      <td>12.80</td>\n",
       "      <td>13.00</td>\n",
       "      <td>13.22</td>\n",
       "      <td>13.46</td>\n",
       "    </tr>\n",
       "    <tr>\n",
       "      <th>PSnDCG</th>\n",
       "      <td>12.72</td>\n",
       "      <td>12.91</td>\n",
       "      <td>13.28</td>\n",
       "      <td>13.58</td>\n",
       "      <td>13.82</td>\n",
       "    </tr>\n",
       "  </tbody>\n",
       "</table>\n",
       "</div>"
      ],
      "text/plain": [
       "            1      2      3      4      5\n",
       "P       13.25  10.09   8.10   6.76   5.82\n",
       "nDCG    13.25  12.39  12.12  12.06  12.09\n",
       "PSP     12.72  12.80  13.00  13.22  13.46\n",
       "PSnDCG  12.72  12.91  13.28  13.58  13.82"
      ]
     },
     "metadata": {},
     "output_type": "display_data"
    },
    {
     "name": "stdout",
     "output_type": "stream",
     "text": [
      "13.45 7.63 5.63 14.35 7.64 5.46 14.58 7.67 5.47 13.89 11.23 11.37\n"
     ]
    }
   ],
   "source": [
    "TFIDF_RES_DIR = f'/mnt/d/nilesh/irm/zestxml/tfidf/Results/{dataset}'\n",
    "tfidf_val_score_mat = read_bin_spmat(f'{TFIDF_RES_DIR}/score_mat.bin').copy()\n",
    "\n",
    "metrics = get_irm_metrics(tfidf_val_score_mat, X_Y=val_X_Y);\n",
    "myprint(*metrics['GZSL'][0, [0, 2, 4]], *metrics['FewShot'][0, [0, 2, 4]], *metrics['SZSL'][0, [0, 2, 4]], *metrics['GZSL'][2, [0, 2, 4]])"
   ]
  },
  {
   "cell_type": "markdown",
   "metadata": {},
   "source": [
    "## Few shot chart"
   ]
  },
  {
   "cell_type": "code",
   "execution_count": 159,
   "metadata": {
    "ExecuteTime": {
     "end_time": "2021-02-07T17:48:02.276134Z",
     "start_time": "2021-02-07T17:48:02.266165Z"
    }
   },
   "outputs": [],
   "source": [
    "eval_inds = np.load(f'{DATA_DIR}/rand100k_tst_inds.npy')\n",
    "\n",
    "all_score_mats = {}\n",
    "points = {}\n",
    "SCORE_DIR = '/mnt/d/nilesh/irm/irm-score-mats'\n",
    "all_score_mats['AttentionXML'] = retain_topk(sp.load_npz(f'{SCORE_DIR}/AttentionXML/{dataset}/final_score_mat.npz')[eval_inds], k=100)\n",
    "all_score_mats['DiSMEC'] = retain_topk(sp.load_npz(f'{SCORE_DIR}/DiSMEC/{dataset}/final_score_mat.npz')[eval_inds], k=100)\n",
    "\n",
    "all_score_mats['BERT-NNS'] = retain_topk(sp.load_npz(f'{SCORE_DIR}/BERT-NNS/{dataset}/final_score_mat.npz')[eval_inds], k=100)\n",
    "all_score_mats['Parabel'] = retain_topk(sp.load_npz(f'{SCORE_DIR}/Parabel/{dataset}/final_score_mat.npz')[eval_inds], k=100)\n",
    "\n",
    "all_score_mats['XReg'] = retain_topk(sp.load_npz(f'{SCORE_DIR}/XReg/{dataset}/final_score_mat.npz')[eval_inds], k=100)"
   ]
  },
  {
   "cell_type": "code",
   "execution_count": 270,
   "metadata": {
    "ExecuteTime": {
     "end_time": "2021-02-08T08:09:02.992370Z",
     "start_time": "2021-02-08T08:08:43.083508Z"
    }
   },
   "outputs": [],
   "source": [
    "all_score_mats['DECAF'] = retain_topk(sp.load_npz(f'{SCORE_DIR}/DECAF/{dataset}/final_score_mat.npz')[eval_inds], k=100)"
   ]
  },
  {
   "cell_type": "code",
   "execution_count": 229,
   "metadata": {
    "ExecuteTime": {
     "end_time": "2021-02-07T19:46:13.552473Z",
     "start_time": "2021-02-07T19:46:05.508185Z"
    },
    "scrolled": true
   },
   "outputs": [
    {
     "name": "stdout",
     "output_type": "stream",
     "text": [
      "\u001b[1mGZSL metrics (shape=(100000, 1285321)): \u001b[0m\n"
     ]
    },
    {
     "data": {
      "text/html": [
       "<div>\n",
       "<style scoped>\n",
       "    .dataframe tbody tr th:only-of-type {\n",
       "        vertical-align: middle;\n",
       "    }\n",
       "\n",
       "    .dataframe tbody tr th {\n",
       "        vertical-align: top;\n",
       "    }\n",
       "\n",
       "    .dataframe thead th {\n",
       "        text-align: right;\n",
       "    }\n",
       "</style>\n",
       "<table border=\"1\" class=\"dataframe\">\n",
       "  <thead>\n",
       "    <tr style=\"text-align: right;\">\n",
       "      <th></th>\n",
       "      <th>1</th>\n",
       "      <th>2</th>\n",
       "      <th>3</th>\n",
       "      <th>4</th>\n",
       "      <th>5</th>\n",
       "    </tr>\n",
       "  </thead>\n",
       "  <tbody>\n",
       "    <tr>\n",
       "      <th>P</th>\n",
       "      <td>34.06</td>\n",
       "      <td>29.25</td>\n",
       "      <td>24.76</td>\n",
       "      <td>21.53</td>\n",
       "      <td>19.03</td>\n",
       "    </tr>\n",
       "    <tr>\n",
       "      <th>nDCG</th>\n",
       "      <td>34.06</td>\n",
       "      <td>31.63</td>\n",
       "      <td>29.73</td>\n",
       "      <td>28.71</td>\n",
       "      <td>28.14</td>\n",
       "    </tr>\n",
       "    <tr>\n",
       "      <th>PSP</th>\n",
       "      <td>3.81</td>\n",
       "      <td>4.17</td>\n",
       "      <td>4.53</td>\n",
       "      <td>4.87</td>\n",
       "      <td>5.18</td>\n",
       "    </tr>\n",
       "    <tr>\n",
       "      <th>PSnDCG</th>\n",
       "      <td>3.81</td>\n",
       "      <td>3.91</td>\n",
       "      <td>4.04</td>\n",
       "      <td>4.16</td>\n",
       "      <td>4.27</td>\n",
       "    </tr>\n",
       "  </tbody>\n",
       "</table>\n",
       "</div>"
      ],
      "text/plain": [
       "            1      2      3      4      5\n",
       "P       34.06  29.25  24.76  21.53  19.03\n",
       "nDCG    34.06  31.63  29.73  28.71  28.14\n",
       "PSP      3.81   4.17   4.53   4.87   5.18\n",
       "PSnDCG   3.81   3.91   4.04   4.16   4.27"
      ]
     },
     "metadata": {},
     "output_type": "display_data"
    },
    {
     "name": "stdout",
     "output_type": "stream",
     "text": [
      "\u001b[1mFewShot metrics (shape=(84926, 986826)): \u001b[0m\n"
     ]
    },
    {
     "data": {
      "text/html": [
       "<div>\n",
       "<style scoped>\n",
       "    .dataframe tbody tr th:only-of-type {\n",
       "        vertical-align: middle;\n",
       "    }\n",
       "\n",
       "    .dataframe tbody tr th {\n",
       "        vertical-align: top;\n",
       "    }\n",
       "\n",
       "    .dataframe thead th {\n",
       "        text-align: right;\n",
       "    }\n",
       "</style>\n",
       "<table border=\"1\" class=\"dataframe\">\n",
       "  <thead>\n",
       "    <tr style=\"text-align: right;\">\n",
       "      <th></th>\n",
       "      <th>1</th>\n",
       "      <th>2</th>\n",
       "      <th>3</th>\n",
       "      <th>4</th>\n",
       "      <th>5</th>\n",
       "    </tr>\n",
       "  </thead>\n",
       "  <tbody>\n",
       "    <tr>\n",
       "      <th>P</th>\n",
       "      <td>5.23</td>\n",
       "      <td>3.38</td>\n",
       "      <td>2.53</td>\n",
       "      <td>2.01</td>\n",
       "      <td>1.68</td>\n",
       "    </tr>\n",
       "    <tr>\n",
       "      <th>nDCG</th>\n",
       "      <td>5.23</td>\n",
       "      <td>4.33</td>\n",
       "      <td>4.11</td>\n",
       "      <td>4.05</td>\n",
       "      <td>4.06</td>\n",
       "    </tr>\n",
       "  </tbody>\n",
       "</table>\n",
       "</div>"
      ],
      "text/plain": [
       "         1     2     3     4     5\n",
       "P     5.23  3.38  2.53  2.01  1.68\n",
       "nDCG  5.23  4.33  4.11  4.05  4.06"
      ]
     },
     "metadata": {},
     "output_type": "display_data"
    },
    {
     "name": "stdout",
     "output_type": "stream",
     "text": [
      "\u001b[1mSZSL metrics (shape=(81546, 790214)): \u001b[0m\n"
     ]
    },
    {
     "data": {
      "text/html": [
       "<div>\n",
       "<style scoped>\n",
       "    .dataframe tbody tr th:only-of-type {\n",
       "        vertical-align: middle;\n",
       "    }\n",
       "\n",
       "    .dataframe tbody tr th {\n",
       "        vertical-align: top;\n",
       "    }\n",
       "\n",
       "    .dataframe thead th {\n",
       "        text-align: right;\n",
       "    }\n",
       "</style>\n",
       "<table border=\"1\" class=\"dataframe\">\n",
       "  <thead>\n",
       "    <tr style=\"text-align: right;\">\n",
       "      <th></th>\n",
       "      <th>1</th>\n",
       "      <th>2</th>\n",
       "      <th>3</th>\n",
       "      <th>4</th>\n",
       "      <th>5</th>\n",
       "    </tr>\n",
       "  </thead>\n",
       "  <tbody>\n",
       "    <tr>\n",
       "      <th>P</th>\n",
       "      <td>0.0</td>\n",
       "      <td>0.0</td>\n",
       "      <td>0.0</td>\n",
       "      <td>0.0</td>\n",
       "      <td>0.0</td>\n",
       "    </tr>\n",
       "    <tr>\n",
       "      <th>nDCG</th>\n",
       "      <td>0.0</td>\n",
       "      <td>0.0</td>\n",
       "      <td>0.0</td>\n",
       "      <td>0.0</td>\n",
       "      <td>0.0</td>\n",
       "    </tr>\n",
       "  </tbody>\n",
       "</table>\n",
       "</div>"
      ],
      "text/plain": [
       "        1    2    3    4    5\n",
       "P     0.0  0.0  0.0  0.0  0.0\n",
       "nDCG  0.0  0.0  0.0  0.0  0.0"
      ]
     },
     "metadata": {},
     "output_type": "display_data"
    },
    {
     "name": "stdout",
     "output_type": "stream",
     "text": [
      "\u001b[1mXC metrics (shape=(66070, 495107)): \u001b[0m\n"
     ]
    },
    {
     "data": {
      "text/html": [
       "<div>\n",
       "<style scoped>\n",
       "    .dataframe tbody tr th:only-of-type {\n",
       "        vertical-align: middle;\n",
       "    }\n",
       "\n",
       "    .dataframe tbody tr th {\n",
       "        vertical-align: top;\n",
       "    }\n",
       "\n",
       "    .dataframe thead th {\n",
       "        text-align: right;\n",
       "    }\n",
       "</style>\n",
       "<table border=\"1\" class=\"dataframe\">\n",
       "  <thead>\n",
       "    <tr style=\"text-align: right;\">\n",
       "      <th></th>\n",
       "      <th>1</th>\n",
       "      <th>2</th>\n",
       "      <th>3</th>\n",
       "      <th>4</th>\n",
       "      <th>5</th>\n",
       "    </tr>\n",
       "  </thead>\n",
       "  <tbody>\n",
       "    <tr>\n",
       "      <th>P</th>\n",
       "      <td>51.55</td>\n",
       "      <td>44.28</td>\n",
       "      <td>37.47</td>\n",
       "      <td>32.59</td>\n",
       "      <td>28.80</td>\n",
       "    </tr>\n",
       "    <tr>\n",
       "      <th>nDCG</th>\n",
       "      <td>51.55</td>\n",
       "      <td>51.00</td>\n",
       "      <td>50.39</td>\n",
       "      <td>50.48</td>\n",
       "      <td>50.83</td>\n",
       "    </tr>\n",
       "    <tr>\n",
       "      <th>PSP</th>\n",
       "      <td>23.34</td>\n",
       "      <td>28.72</td>\n",
       "      <td>32.83</td>\n",
       "      <td>36.24</td>\n",
       "      <td>39.07</td>\n",
       "    </tr>\n",
       "    <tr>\n",
       "      <th>PSnDCG</th>\n",
       "      <td>23.34</td>\n",
       "      <td>27.12</td>\n",
       "      <td>29.72</td>\n",
       "      <td>31.64</td>\n",
       "      <td>33.08</td>\n",
       "    </tr>\n",
       "  </tbody>\n",
       "</table>\n",
       "</div>"
      ],
      "text/plain": [
       "            1      2      3      4      5\n",
       "P       51.55  44.28  37.47  32.59  28.80\n",
       "nDCG    51.55  51.00  50.39  50.48  50.83\n",
       "PSP     23.34  28.72  32.83  36.24  39.07\n",
       "PSnDCG  23.34  27.12  29.72  31.64  33.08"
      ]
     },
     "metadata": {},
     "output_type": "display_data"
    },
    {
     "data": {
      "text/plain": [
       "{'GZSL': array([[34.06      , 29.2525    , 24.75966667, 21.533     , 19.03      ],\n",
       "        [34.06000137, 31.62635863, 29.72806096, 28.70700359, 28.14237177],\n",
       "        [ 3.80812936,  4.1735825 ,  4.52510613,  4.8691971 ,  5.17762944],\n",
       "        [ 3.80812921,  3.91477086,  4.04002331,  4.16468456,  4.27391045]]),\n",
       " 'SZSL': array([[0., 0., 0., 0., 0.],\n",
       "        [0., 0., 0., 0., 0.]]),\n",
       " 'XC': array([[51.55138489, 44.27501135, 37.47490036, 32.59119116, 28.80278493],\n",
       "        [51.55138373, 50.99669099, 50.38995743, 50.4835248 , 50.83147883],\n",
       "        [23.33698511, 28.72453694, 32.8303927 , 36.24371884, 39.06831159],\n",
       "        [23.33698422, 27.11977959, 29.72252667, 31.6447705 , 33.07778537]]),\n",
       " 'FewShot': array([[5.2327909 , 3.3823564 , 2.53357825, 2.01351765, 1.68405435],\n",
       "        [5.23279086, 4.33428027, 4.10817936, 4.04854789, 4.05521356]])}"
      ]
     },
     "execution_count": 229,
     "metadata": {},
     "output_type": "execute_result"
    }
   ],
   "source": [
    "get_irm_metrics(all_score_mats['AttentionXML'], X_Y=X_Y)"
   ]
  },
  {
   "cell_type": "code",
   "execution_count": 254,
   "metadata": {
    "ExecuteTime": {
     "end_time": "2021-02-08T06:05:43.564672Z",
     "start_time": "2021-02-08T06:05:43.559437Z"
    }
   },
   "outputs": [],
   "source": [
    "fewshot_labels = np.where((nnz > 0) & (nnz < 4))[0]"
   ]
  },
  {
   "cell_type": "code",
   "execution_count": 255,
   "metadata": {
    "ExecuteTime": {
     "end_time": "2021-02-08T06:05:49.870081Z",
     "start_time": "2021-02-08T06:05:45.759447Z"
    },
    "scrolled": true
   },
   "outputs": [
    {
     "name": "stdout",
     "output_type": "stream",
     "text": [
      "Method : ZestXML\n",
      "\u001b[1mdecile 0 (shape=(116227, 790214)): \u001b[0m\n"
     ]
    },
    {
     "data": {
      "text/html": [
       "<div>\n",
       "<style scoped>\n",
       "    .dataframe tbody tr th:only-of-type {\n",
       "        vertical-align: middle;\n",
       "    }\n",
       "\n",
       "    .dataframe tbody tr th {\n",
       "        vertical-align: top;\n",
       "    }\n",
       "\n",
       "    .dataframe thead th {\n",
       "        text-align: right;\n",
       "    }\n",
       "</style>\n",
       "<table border=\"1\" class=\"dataframe\">\n",
       "  <thead>\n",
       "    <tr style=\"text-align: right;\">\n",
       "      <th></th>\n",
       "      <th>1</th>\n",
       "      <th>2</th>\n",
       "      <th>3</th>\n",
       "      <th>4</th>\n",
       "      <th>5</th>\n",
       "    </tr>\n",
       "  </thead>\n",
       "  <tbody>\n",
       "    <tr>\n",
       "      <th>P</th>\n",
       "      <td>20.9</td>\n",
       "      <td>15.70</td>\n",
       "      <td>12.63</td>\n",
       "      <td>10.65</td>\n",
       "      <td>9.22</td>\n",
       "    </tr>\n",
       "    <tr>\n",
       "      <th>nDCG</th>\n",
       "      <td>20.9</td>\n",
       "      <td>20.36</td>\n",
       "      <td>20.83</td>\n",
       "      <td>21.46</td>\n",
       "      <td>21.99</td>\n",
       "    </tr>\n",
       "    <tr>\n",
       "      <th>PSP</th>\n",
       "      <td>20.9</td>\n",
       "      <td>19.89</td>\n",
       "      <td>19.93</td>\n",
       "      <td>20.46</td>\n",
       "      <td>21.09</td>\n",
       "    </tr>\n",
       "    <tr>\n",
       "      <th>PSnDCG</th>\n",
       "      <td>20.9</td>\n",
       "      <td>20.36</td>\n",
       "      <td>20.83</td>\n",
       "      <td>21.46</td>\n",
       "      <td>21.99</td>\n",
       "    </tr>\n",
       "  </tbody>\n",
       "</table>\n",
       "</div>"
      ],
      "text/plain": [
       "           1      2      3      4      5\n",
       "P       20.9  15.70  12.63  10.65   9.22\n",
       "nDCG    20.9  20.36  20.83  21.46  21.99\n",
       "PSP     20.9  19.89  19.93  20.46  21.09\n",
       "PSnDCG  20.9  20.36  20.83  21.46  21.99"
      ]
     },
     "metadata": {},
     "output_type": "display_data"
    },
    {
     "name": "stdout",
     "output_type": "stream",
     "text": [
      "\u001b[1mdecile 1 (shape=(11609, 115655)): \u001b[0m\n"
     ]
    },
    {
     "data": {
      "text/html": [
       "<div>\n",
       "<style scoped>\n",
       "    .dataframe tbody tr th:only-of-type {\n",
       "        vertical-align: middle;\n",
       "    }\n",
       "\n",
       "    .dataframe tbody tr th {\n",
       "        vertical-align: top;\n",
       "    }\n",
       "\n",
       "    .dataframe thead th {\n",
       "        text-align: right;\n",
       "    }\n",
       "</style>\n",
       "<table border=\"1\" class=\"dataframe\">\n",
       "  <thead>\n",
       "    <tr style=\"text-align: right;\">\n",
       "      <th></th>\n",
       "      <th>1</th>\n",
       "      <th>2</th>\n",
       "      <th>3</th>\n",
       "      <th>4</th>\n",
       "      <th>5</th>\n",
       "    </tr>\n",
       "  </thead>\n",
       "  <tbody>\n",
       "    <tr>\n",
       "      <th>P</th>\n",
       "      <td>27.23</td>\n",
       "      <td>17.44</td>\n",
       "      <td>12.79</td>\n",
       "      <td>10.21</td>\n",
       "      <td>8.52</td>\n",
       "    </tr>\n",
       "    <tr>\n",
       "      <th>nDCG</th>\n",
       "      <td>27.23</td>\n",
       "      <td>30.08</td>\n",
       "      <td>31.57</td>\n",
       "      <td>32.50</td>\n",
       "      <td>33.12</td>\n",
       "    </tr>\n",
       "    <tr>\n",
       "      <th>PSP</th>\n",
       "      <td>27.20</td>\n",
       "      <td>31.83</td>\n",
       "      <td>34.68</td>\n",
       "      <td>36.81</td>\n",
       "      <td>38.36</td>\n",
       "    </tr>\n",
       "    <tr>\n",
       "      <th>PSnDCG</th>\n",
       "      <td>27.20</td>\n",
       "      <td>30.18</td>\n",
       "      <td>31.70</td>\n",
       "      <td>32.64</td>\n",
       "      <td>33.26</td>\n",
       "    </tr>\n",
       "  </tbody>\n",
       "</table>\n",
       "</div>"
      ],
      "text/plain": [
       "            1      2      3      4      5\n",
       "P       27.23  17.44  12.79  10.21   8.52\n",
       "nDCG    27.23  30.08  31.57  32.50  33.12\n",
       "PSP     27.20  31.83  34.68  36.81  38.36\n",
       "PSnDCG  27.20  30.18  31.70  32.64  33.26"
      ]
     },
     "metadata": {},
     "output_type": "display_data"
    }
   ],
   "source": [
    "X_Y = val_X_Y\n",
    "metrics = {}\n",
    "method = 'ZestXML'\n",
    "print('Method :', method)\n",
    "_score_mat = score_mat\n",
    "for i, active_labels in enumerate([unseen_labels, fewshot_labels]):\n",
    "#     active_labels = np.where(nnz == i)[0]\n",
    "    temp_X_Y, active_rows, _ = restrict_mat(X_Y, active_rows=None, active_cols=active_labels, shrink=True)\n",
    "\n",
    "    temp_score_mat, _, _     = restrict_mat(_score_mat, active_rows=active_rows, active_cols=active_labels, shrink=True)\n",
    "    print(_c('decile %d (shape=(%d, %d)): '%(i, temp_X_Y.shape[0], temp_X_Y.shape[1]), attr='bold'))\n",
    "    metrics[i] = printacc(temp_score_mat, X_Y=temp_X_Y, K=5, inv_prop_=inv_prop[active_labels])\n",
    "    if i > 0: points[method].append(metrics[i][2, 4])\n",
    "    else: points[method] = [metrics[i][2, 4]]"
   ]
  },
  {
   "cell_type": "code",
   "execution_count": 271,
   "metadata": {
    "ExecuteTime": {
     "end_time": "2021-02-08T08:10:08.270224Z",
     "start_time": "2021-02-08T08:09:54.074239Z"
    },
    "scrolled": true
   },
   "outputs": [
    {
     "name": "stdout",
     "output_type": "stream",
     "text": [
      "Method : AttentionXML\n",
      "\u001b[1mdecile 0 (shape=(81546, 790214)): \u001b[0m\n"
     ]
    },
    {
     "data": {
      "text/html": [
       "<div>\n",
       "<style scoped>\n",
       "    .dataframe tbody tr th:only-of-type {\n",
       "        vertical-align: middle;\n",
       "    }\n",
       "\n",
       "    .dataframe tbody tr th {\n",
       "        vertical-align: top;\n",
       "    }\n",
       "\n",
       "    .dataframe thead th {\n",
       "        text-align: right;\n",
       "    }\n",
       "</style>\n",
       "<table border=\"1\" class=\"dataframe\">\n",
       "  <thead>\n",
       "    <tr style=\"text-align: right;\">\n",
       "      <th></th>\n",
       "      <th>1</th>\n",
       "      <th>2</th>\n",
       "      <th>3</th>\n",
       "      <th>4</th>\n",
       "      <th>5</th>\n",
       "    </tr>\n",
       "  </thead>\n",
       "  <tbody>\n",
       "    <tr>\n",
       "      <th>P</th>\n",
       "      <td>0.0</td>\n",
       "      <td>0.0</td>\n",
       "      <td>0.0</td>\n",
       "      <td>0.0</td>\n",
       "      <td>0.0</td>\n",
       "    </tr>\n",
       "    <tr>\n",
       "      <th>nDCG</th>\n",
       "      <td>0.0</td>\n",
       "      <td>0.0</td>\n",
       "      <td>0.0</td>\n",
       "      <td>0.0</td>\n",
       "      <td>0.0</td>\n",
       "    </tr>\n",
       "    <tr>\n",
       "      <th>PSP</th>\n",
       "      <td>0.0</td>\n",
       "      <td>0.0</td>\n",
       "      <td>0.0</td>\n",
       "      <td>0.0</td>\n",
       "      <td>0.0</td>\n",
       "    </tr>\n",
       "    <tr>\n",
       "      <th>PSnDCG</th>\n",
       "      <td>0.0</td>\n",
       "      <td>0.0</td>\n",
       "      <td>0.0</td>\n",
       "      <td>0.0</td>\n",
       "      <td>0.0</td>\n",
       "    </tr>\n",
       "  </tbody>\n",
       "</table>\n",
       "</div>"
      ],
      "text/plain": [
       "          1    2    3    4    5\n",
       "P       0.0  0.0  0.0  0.0  0.0\n",
       "nDCG    0.0  0.0  0.0  0.0  0.0\n",
       "PSP     0.0  0.0  0.0  0.0  0.0\n",
       "PSnDCG  0.0  0.0  0.0  0.0  0.0"
      ]
     },
     "metadata": {},
     "output_type": "display_data"
    },
    {
     "name": "stdout",
     "output_type": "stream",
     "text": [
      "\u001b[1mdecile 1 (shape=(8126, 115655)): \u001b[0m\n"
     ]
    },
    {
     "data": {
      "text/html": [
       "<div>\n",
       "<style scoped>\n",
       "    .dataframe tbody tr th:only-of-type {\n",
       "        vertical-align: middle;\n",
       "    }\n",
       "\n",
       "    .dataframe tbody tr th {\n",
       "        vertical-align: top;\n",
       "    }\n",
       "\n",
       "    .dataframe thead th {\n",
       "        text-align: right;\n",
       "    }\n",
       "</style>\n",
       "<table border=\"1\" class=\"dataframe\">\n",
       "  <thead>\n",
       "    <tr style=\"text-align: right;\">\n",
       "      <th></th>\n",
       "      <th>1</th>\n",
       "      <th>2</th>\n",
       "      <th>3</th>\n",
       "      <th>4</th>\n",
       "      <th>5</th>\n",
       "    </tr>\n",
       "  </thead>\n",
       "  <tbody>\n",
       "    <tr>\n",
       "      <th>P</th>\n",
       "      <td>26.83</td>\n",
       "      <td>17.14</td>\n",
       "      <td>12.57</td>\n",
       "      <td>9.89</td>\n",
       "      <td>8.20</td>\n",
       "    </tr>\n",
       "    <tr>\n",
       "      <th>nDCG</th>\n",
       "      <td>26.83</td>\n",
       "      <td>29.55</td>\n",
       "      <td>30.93</td>\n",
       "      <td>31.60</td>\n",
       "      <td>32.08</td>\n",
       "    </tr>\n",
       "    <tr>\n",
       "      <th>PSP</th>\n",
       "      <td>25.42</td>\n",
       "      <td>29.92</td>\n",
       "      <td>32.69</td>\n",
       "      <td>34.30</td>\n",
       "      <td>35.61</td>\n",
       "    </tr>\n",
       "    <tr>\n",
       "      <th>PSnDCG</th>\n",
       "      <td>25.42</td>\n",
       "      <td>28.31</td>\n",
       "      <td>29.72</td>\n",
       "      <td>30.42</td>\n",
       "      <td>30.91</td>\n",
       "    </tr>\n",
       "  </tbody>\n",
       "</table>\n",
       "</div>"
      ],
      "text/plain": [
       "            1      2      3      4      5\n",
       "P       26.83  17.14  12.57   9.89   8.20\n",
       "nDCG    26.83  29.55  30.93  31.60  32.08\n",
       "PSP     25.42  29.92  32.69  34.30  35.61\n",
       "PSnDCG  25.42  28.31  29.72  30.42  30.91"
      ]
     },
     "metadata": {},
     "output_type": "display_data"
    },
    {
     "name": "stdout",
     "output_type": "stream",
     "text": [
      "Method : DiSMEC\n",
      "\u001b[1mdecile 0 (shape=(81546, 790214)): \u001b[0m\n"
     ]
    },
    {
     "data": {
      "text/html": [
       "<div>\n",
       "<style scoped>\n",
       "    .dataframe tbody tr th:only-of-type {\n",
       "        vertical-align: middle;\n",
       "    }\n",
       "\n",
       "    .dataframe tbody tr th {\n",
       "        vertical-align: top;\n",
       "    }\n",
       "\n",
       "    .dataframe thead th {\n",
       "        text-align: right;\n",
       "    }\n",
       "</style>\n",
       "<table border=\"1\" class=\"dataframe\">\n",
       "  <thead>\n",
       "    <tr style=\"text-align: right;\">\n",
       "      <th></th>\n",
       "      <th>1</th>\n",
       "      <th>2</th>\n",
       "      <th>3</th>\n",
       "      <th>4</th>\n",
       "      <th>5</th>\n",
       "    </tr>\n",
       "  </thead>\n",
       "  <tbody>\n",
       "    <tr>\n",
       "      <th>P</th>\n",
       "      <td>0.0</td>\n",
       "      <td>0.0</td>\n",
       "      <td>0.0</td>\n",
       "      <td>0.0</td>\n",
       "      <td>0.0</td>\n",
       "    </tr>\n",
       "    <tr>\n",
       "      <th>nDCG</th>\n",
       "      <td>0.0</td>\n",
       "      <td>0.0</td>\n",
       "      <td>0.0</td>\n",
       "      <td>0.0</td>\n",
       "      <td>0.0</td>\n",
       "    </tr>\n",
       "    <tr>\n",
       "      <th>PSP</th>\n",
       "      <td>0.0</td>\n",
       "      <td>0.0</td>\n",
       "      <td>0.0</td>\n",
       "      <td>0.0</td>\n",
       "      <td>0.0</td>\n",
       "    </tr>\n",
       "    <tr>\n",
       "      <th>PSnDCG</th>\n",
       "      <td>0.0</td>\n",
       "      <td>0.0</td>\n",
       "      <td>0.0</td>\n",
       "      <td>0.0</td>\n",
       "      <td>0.0</td>\n",
       "    </tr>\n",
       "  </tbody>\n",
       "</table>\n",
       "</div>"
      ],
      "text/plain": [
       "          1    2    3    4    5\n",
       "P       0.0  0.0  0.0  0.0  0.0\n",
       "nDCG    0.0  0.0  0.0  0.0  0.0\n",
       "PSP     0.0  0.0  0.0  0.0  0.0\n",
       "PSnDCG  0.0  0.0  0.0  0.0  0.0"
      ]
     },
     "metadata": {},
     "output_type": "display_data"
    },
    {
     "name": "stdout",
     "output_type": "stream",
     "text": [
      "\u001b[1mdecile 1 (shape=(8126, 115655)): \u001b[0m\n"
     ]
    },
    {
     "data": {
      "text/html": [
       "<div>\n",
       "<style scoped>\n",
       "    .dataframe tbody tr th:only-of-type {\n",
       "        vertical-align: middle;\n",
       "    }\n",
       "\n",
       "    .dataframe tbody tr th {\n",
       "        vertical-align: top;\n",
       "    }\n",
       "\n",
       "    .dataframe thead th {\n",
       "        text-align: right;\n",
       "    }\n",
       "</style>\n",
       "<table border=\"1\" class=\"dataframe\">\n",
       "  <thead>\n",
       "    <tr style=\"text-align: right;\">\n",
       "      <th></th>\n",
       "      <th>1</th>\n",
       "      <th>2</th>\n",
       "      <th>3</th>\n",
       "      <th>4</th>\n",
       "      <th>5</th>\n",
       "    </tr>\n",
       "  </thead>\n",
       "  <tbody>\n",
       "    <tr>\n",
       "      <th>P</th>\n",
       "      <td>21.59</td>\n",
       "      <td>14.32</td>\n",
       "      <td>10.89</td>\n",
       "      <td>8.81</td>\n",
       "      <td>7.32</td>\n",
       "    </tr>\n",
       "    <tr>\n",
       "      <th>nDCG</th>\n",
       "      <td>21.59</td>\n",
       "      <td>24.34</td>\n",
       "      <td>26.04</td>\n",
       "      <td>27.01</td>\n",
       "      <td>27.48</td>\n",
       "    </tr>\n",
       "    <tr>\n",
       "      <th>PSP</th>\n",
       "      <td>20.75</td>\n",
       "      <td>25.43</td>\n",
       "      <td>28.78</td>\n",
       "      <td>31.08</td>\n",
       "      <td>32.33</td>\n",
       "    </tr>\n",
       "    <tr>\n",
       "      <th>PSnDCG</th>\n",
       "      <td>20.75</td>\n",
       "      <td>23.68</td>\n",
       "      <td>25.42</td>\n",
       "      <td>26.43</td>\n",
       "      <td>26.90</td>\n",
       "    </tr>\n",
       "  </tbody>\n",
       "</table>\n",
       "</div>"
      ],
      "text/plain": [
       "            1      2      3      4      5\n",
       "P       21.59  14.32  10.89   8.81   7.32\n",
       "nDCG    21.59  24.34  26.04  27.01  27.48\n",
       "PSP     20.75  25.43  28.78  31.08  32.33\n",
       "PSnDCG  20.75  23.68  25.42  26.43  26.90"
      ]
     },
     "metadata": {},
     "output_type": "display_data"
    },
    {
     "name": "stdout",
     "output_type": "stream",
     "text": [
      "Method : BERT-NNS\n",
      "\u001b[1mdecile 0 (shape=(81546, 790214)): \u001b[0m\n"
     ]
    },
    {
     "data": {
      "text/html": [
       "<div>\n",
       "<style scoped>\n",
       "    .dataframe tbody tr th:only-of-type {\n",
       "        vertical-align: middle;\n",
       "    }\n",
       "\n",
       "    .dataframe tbody tr th {\n",
       "        vertical-align: top;\n",
       "    }\n",
       "\n",
       "    .dataframe thead th {\n",
       "        text-align: right;\n",
       "    }\n",
       "</style>\n",
       "<table border=\"1\" class=\"dataframe\">\n",
       "  <thead>\n",
       "    <tr style=\"text-align: right;\">\n",
       "      <th></th>\n",
       "      <th>1</th>\n",
       "      <th>2</th>\n",
       "      <th>3</th>\n",
       "      <th>4</th>\n",
       "      <th>5</th>\n",
       "    </tr>\n",
       "  </thead>\n",
       "  <tbody>\n",
       "    <tr>\n",
       "      <th>P</th>\n",
       "      <td>11.75</td>\n",
       "      <td>7.79</td>\n",
       "      <td>5.98</td>\n",
       "      <td>4.90</td>\n",
       "      <td>4.19</td>\n",
       "    </tr>\n",
       "    <tr>\n",
       "      <th>nDCG</th>\n",
       "      <td>11.75</td>\n",
       "      <td>10.60</td>\n",
       "      <td>10.64</td>\n",
       "      <td>10.85</td>\n",
       "      <td>11.10</td>\n",
       "    </tr>\n",
       "    <tr>\n",
       "      <th>PSP</th>\n",
       "      <td>11.75</td>\n",
       "      <td>9.85</td>\n",
       "      <td>9.41</td>\n",
       "      <td>9.39</td>\n",
       "      <td>9.56</td>\n",
       "    </tr>\n",
       "    <tr>\n",
       "      <th>PSnDCG</th>\n",
       "      <td>11.75</td>\n",
       "      <td>10.60</td>\n",
       "      <td>10.64</td>\n",
       "      <td>10.85</td>\n",
       "      <td>11.10</td>\n",
       "    </tr>\n",
       "  </tbody>\n",
       "</table>\n",
       "</div>"
      ],
      "text/plain": [
       "            1      2      3      4      5\n",
       "P       11.75   7.79   5.98   4.90   4.19\n",
       "nDCG    11.75  10.60  10.64  10.85  11.10\n",
       "PSP     11.75   9.85   9.41   9.39   9.56\n",
       "PSnDCG  11.75  10.60  10.64  10.85  11.10"
      ]
     },
     "metadata": {},
     "output_type": "display_data"
    },
    {
     "name": "stdout",
     "output_type": "stream",
     "text": [
      "\u001b[1mdecile 1 (shape=(8126, 115655)): \u001b[0m\n"
     ]
    },
    {
     "data": {
      "text/html": [
       "<div>\n",
       "<style scoped>\n",
       "    .dataframe tbody tr th:only-of-type {\n",
       "        vertical-align: middle;\n",
       "    }\n",
       "\n",
       "    .dataframe tbody tr th {\n",
       "        vertical-align: top;\n",
       "    }\n",
       "\n",
       "    .dataframe thead th {\n",
       "        text-align: right;\n",
       "    }\n",
       "</style>\n",
       "<table border=\"1\" class=\"dataframe\">\n",
       "  <thead>\n",
       "    <tr style=\"text-align: right;\">\n",
       "      <th></th>\n",
       "      <th>1</th>\n",
       "      <th>2</th>\n",
       "      <th>3</th>\n",
       "      <th>4</th>\n",
       "      <th>5</th>\n",
       "    </tr>\n",
       "  </thead>\n",
       "  <tbody>\n",
       "    <tr>\n",
       "      <th>P</th>\n",
       "      <td>13.96</td>\n",
       "      <td>9.13</td>\n",
       "      <td>6.75</td>\n",
       "      <td>5.46</td>\n",
       "      <td>4.63</td>\n",
       "    </tr>\n",
       "    <tr>\n",
       "      <th>nDCG</th>\n",
       "      <td>13.96</td>\n",
       "      <td>15.66</td>\n",
       "      <td>16.52</td>\n",
       "      <td>17.13</td>\n",
       "      <td>17.59</td>\n",
       "    </tr>\n",
       "    <tr>\n",
       "      <th>PSP</th>\n",
       "      <td>14.40</td>\n",
       "      <td>17.09</td>\n",
       "      <td>18.70</td>\n",
       "      <td>20.09</td>\n",
       "      <td>21.34</td>\n",
       "    </tr>\n",
       "    <tr>\n",
       "      <th>PSnDCG</th>\n",
       "      <td>14.40</td>\n",
       "      <td>16.18</td>\n",
       "      <td>17.05</td>\n",
       "      <td>17.66</td>\n",
       "      <td>18.15</td>\n",
       "    </tr>\n",
       "  </tbody>\n",
       "</table>\n",
       "</div>"
      ],
      "text/plain": [
       "            1      2      3      4      5\n",
       "P       13.96   9.13   6.75   5.46   4.63\n",
       "nDCG    13.96  15.66  16.52  17.13  17.59\n",
       "PSP     14.40  17.09  18.70  20.09  21.34\n",
       "PSnDCG  14.40  16.18  17.05  17.66  18.15"
      ]
     },
     "metadata": {},
     "output_type": "display_data"
    },
    {
     "name": "stdout",
     "output_type": "stream",
     "text": [
      "Method : Parabel\n",
      "\u001b[1mdecile 0 (shape=(81546, 790214)): \u001b[0m\n"
     ]
    },
    {
     "data": {
      "text/html": [
       "<div>\n",
       "<style scoped>\n",
       "    .dataframe tbody tr th:only-of-type {\n",
       "        vertical-align: middle;\n",
       "    }\n",
       "\n",
       "    .dataframe tbody tr th {\n",
       "        vertical-align: top;\n",
       "    }\n",
       "\n",
       "    .dataframe thead th {\n",
       "        text-align: right;\n",
       "    }\n",
       "</style>\n",
       "<table border=\"1\" class=\"dataframe\">\n",
       "  <thead>\n",
       "    <tr style=\"text-align: right;\">\n",
       "      <th></th>\n",
       "      <th>1</th>\n",
       "      <th>2</th>\n",
       "      <th>3</th>\n",
       "      <th>4</th>\n",
       "      <th>5</th>\n",
       "    </tr>\n",
       "  </thead>\n",
       "  <tbody>\n",
       "    <tr>\n",
       "      <th>P</th>\n",
       "      <td>0.0</td>\n",
       "      <td>0.0</td>\n",
       "      <td>0.0</td>\n",
       "      <td>0.0</td>\n",
       "      <td>0.0</td>\n",
       "    </tr>\n",
       "    <tr>\n",
       "      <th>nDCG</th>\n",
       "      <td>0.0</td>\n",
       "      <td>0.0</td>\n",
       "      <td>0.0</td>\n",
       "      <td>0.0</td>\n",
       "      <td>0.0</td>\n",
       "    </tr>\n",
       "    <tr>\n",
       "      <th>PSP</th>\n",
       "      <td>0.0</td>\n",
       "      <td>0.0</td>\n",
       "      <td>0.0</td>\n",
       "      <td>0.0</td>\n",
       "      <td>0.0</td>\n",
       "    </tr>\n",
       "    <tr>\n",
       "      <th>PSnDCG</th>\n",
       "      <td>0.0</td>\n",
       "      <td>0.0</td>\n",
       "      <td>0.0</td>\n",
       "      <td>0.0</td>\n",
       "      <td>0.0</td>\n",
       "    </tr>\n",
       "  </tbody>\n",
       "</table>\n",
       "</div>"
      ],
      "text/plain": [
       "          1    2    3    4    5\n",
       "P       0.0  0.0  0.0  0.0  0.0\n",
       "nDCG    0.0  0.0  0.0  0.0  0.0\n",
       "PSP     0.0  0.0  0.0  0.0  0.0\n",
       "PSnDCG  0.0  0.0  0.0  0.0  0.0"
      ]
     },
     "metadata": {},
     "output_type": "display_data"
    },
    {
     "name": "stdout",
     "output_type": "stream",
     "text": [
      "\u001b[1mdecile 1 (shape=(8126, 115655)): \u001b[0m\n"
     ]
    },
    {
     "data": {
      "text/html": [
       "<div>\n",
       "<style scoped>\n",
       "    .dataframe tbody tr th:only-of-type {\n",
       "        vertical-align: middle;\n",
       "    }\n",
       "\n",
       "    .dataframe tbody tr th {\n",
       "        vertical-align: top;\n",
       "    }\n",
       "\n",
       "    .dataframe thead th {\n",
       "        text-align: right;\n",
       "    }\n",
       "</style>\n",
       "<table border=\"1\" class=\"dataframe\">\n",
       "  <thead>\n",
       "    <tr style=\"text-align: right;\">\n",
       "      <th></th>\n",
       "      <th>1</th>\n",
       "      <th>2</th>\n",
       "      <th>3</th>\n",
       "      <th>4</th>\n",
       "      <th>5</th>\n",
       "    </tr>\n",
       "  </thead>\n",
       "  <tbody>\n",
       "    <tr>\n",
       "      <th>P</th>\n",
       "      <td>17.84</td>\n",
       "      <td>11.06</td>\n",
       "      <td>8.13</td>\n",
       "      <td>6.42</td>\n",
       "      <td>5.39</td>\n",
       "    </tr>\n",
       "    <tr>\n",
       "      <th>nDCG</th>\n",
       "      <td>17.84</td>\n",
       "      <td>19.16</td>\n",
       "      <td>20.07</td>\n",
       "      <td>20.55</td>\n",
       "      <td>20.97</td>\n",
       "    </tr>\n",
       "    <tr>\n",
       "      <th>PSP</th>\n",
       "      <td>17.00</td>\n",
       "      <td>19.40</td>\n",
       "      <td>21.22</td>\n",
       "      <td>22.38</td>\n",
       "      <td>23.51</td>\n",
       "    </tr>\n",
       "    <tr>\n",
       "      <th>PSnDCG</th>\n",
       "      <td>17.00</td>\n",
       "      <td>18.44</td>\n",
       "      <td>19.38</td>\n",
       "      <td>19.87</td>\n",
       "      <td>20.30</td>\n",
       "    </tr>\n",
       "  </tbody>\n",
       "</table>\n",
       "</div>"
      ],
      "text/plain": [
       "            1      2      3      4      5\n",
       "P       17.84  11.06   8.13   6.42   5.39\n",
       "nDCG    17.84  19.16  20.07  20.55  20.97\n",
       "PSP     17.00  19.40  21.22  22.38  23.51\n",
       "PSnDCG  17.00  18.44  19.38  19.87  20.30"
      ]
     },
     "metadata": {},
     "output_type": "display_data"
    },
    {
     "name": "stdout",
     "output_type": "stream",
     "text": [
      "Method : XReg\n",
      "\u001b[1mdecile 0 (shape=(81546, 790214)): \u001b[0m\n"
     ]
    },
    {
     "data": {
      "text/html": [
       "<div>\n",
       "<style scoped>\n",
       "    .dataframe tbody tr th:only-of-type {\n",
       "        vertical-align: middle;\n",
       "    }\n",
       "\n",
       "    .dataframe tbody tr th {\n",
       "        vertical-align: top;\n",
       "    }\n",
       "\n",
       "    .dataframe thead th {\n",
       "        text-align: right;\n",
       "    }\n",
       "</style>\n",
       "<table border=\"1\" class=\"dataframe\">\n",
       "  <thead>\n",
       "    <tr style=\"text-align: right;\">\n",
       "      <th></th>\n",
       "      <th>1</th>\n",
       "      <th>2</th>\n",
       "      <th>3</th>\n",
       "      <th>4</th>\n",
       "      <th>5</th>\n",
       "    </tr>\n",
       "  </thead>\n",
       "  <tbody>\n",
       "    <tr>\n",
       "      <th>P</th>\n",
       "      <td>0.0</td>\n",
       "      <td>0.0</td>\n",
       "      <td>0.0</td>\n",
       "      <td>0.0</td>\n",
       "      <td>0.0</td>\n",
       "    </tr>\n",
       "    <tr>\n",
       "      <th>nDCG</th>\n",
       "      <td>0.0</td>\n",
       "      <td>0.0</td>\n",
       "      <td>0.0</td>\n",
       "      <td>0.0</td>\n",
       "      <td>0.0</td>\n",
       "    </tr>\n",
       "    <tr>\n",
       "      <th>PSP</th>\n",
       "      <td>0.0</td>\n",
       "      <td>0.0</td>\n",
       "      <td>0.0</td>\n",
       "      <td>0.0</td>\n",
       "      <td>0.0</td>\n",
       "    </tr>\n",
       "    <tr>\n",
       "      <th>PSnDCG</th>\n",
       "      <td>0.0</td>\n",
       "      <td>0.0</td>\n",
       "      <td>0.0</td>\n",
       "      <td>0.0</td>\n",
       "      <td>0.0</td>\n",
       "    </tr>\n",
       "  </tbody>\n",
       "</table>\n",
       "</div>"
      ],
      "text/plain": [
       "          1    2    3    4    5\n",
       "P       0.0  0.0  0.0  0.0  0.0\n",
       "nDCG    0.0  0.0  0.0  0.0  0.0\n",
       "PSP     0.0  0.0  0.0  0.0  0.0\n",
       "PSnDCG  0.0  0.0  0.0  0.0  0.0"
      ]
     },
     "metadata": {},
     "output_type": "display_data"
    },
    {
     "name": "stdout",
     "output_type": "stream",
     "text": [
      "\u001b[1mdecile 1 (shape=(8126, 115655)): \u001b[0m\n"
     ]
    },
    {
     "data": {
      "text/html": [
       "<div>\n",
       "<style scoped>\n",
       "    .dataframe tbody tr th:only-of-type {\n",
       "        vertical-align: middle;\n",
       "    }\n",
       "\n",
       "    .dataframe tbody tr th {\n",
       "        vertical-align: top;\n",
       "    }\n",
       "\n",
       "    .dataframe thead th {\n",
       "        text-align: right;\n",
       "    }\n",
       "</style>\n",
       "<table border=\"1\" class=\"dataframe\">\n",
       "  <thead>\n",
       "    <tr style=\"text-align: right;\">\n",
       "      <th></th>\n",
       "      <th>1</th>\n",
       "      <th>2</th>\n",
       "      <th>3</th>\n",
       "      <th>4</th>\n",
       "      <th>5</th>\n",
       "    </tr>\n",
       "  </thead>\n",
       "  <tbody>\n",
       "    <tr>\n",
       "      <th>P</th>\n",
       "      <td>22.50</td>\n",
       "      <td>13.97</td>\n",
       "      <td>10.12</td>\n",
       "      <td>7.93</td>\n",
       "      <td>6.49</td>\n",
       "    </tr>\n",
       "    <tr>\n",
       "      <th>nDCG</th>\n",
       "      <td>22.50</td>\n",
       "      <td>24.13</td>\n",
       "      <td>25.09</td>\n",
       "      <td>25.57</td>\n",
       "      <td>25.83</td>\n",
       "    </tr>\n",
       "    <tr>\n",
       "      <th>PSP</th>\n",
       "      <td>21.67</td>\n",
       "      <td>24.69</td>\n",
       "      <td>26.60</td>\n",
       "      <td>27.77</td>\n",
       "      <td>28.43</td>\n",
       "    </tr>\n",
       "    <tr>\n",
       "      <th>PSnDCG</th>\n",
       "      <td>21.67</td>\n",
       "      <td>23.41</td>\n",
       "      <td>24.40</td>\n",
       "      <td>24.90</td>\n",
       "      <td>25.16</td>\n",
       "    </tr>\n",
       "  </tbody>\n",
       "</table>\n",
       "</div>"
      ],
      "text/plain": [
       "            1      2      3      4      5\n",
       "P       22.50  13.97  10.12   7.93   6.49\n",
       "nDCG    22.50  24.13  25.09  25.57  25.83\n",
       "PSP     21.67  24.69  26.60  27.77  28.43\n",
       "PSnDCG  21.67  23.41  24.40  24.90  25.16"
      ]
     },
     "metadata": {},
     "output_type": "display_data"
    },
    {
     "name": "stdout",
     "output_type": "stream",
     "text": [
      "Method : DECAF\n",
      "\u001b[1mdecile 0 (shape=(81546, 790214)): \u001b[0m\n"
     ]
    },
    {
     "data": {
      "text/html": [
       "<div>\n",
       "<style scoped>\n",
       "    .dataframe tbody tr th:only-of-type {\n",
       "        vertical-align: middle;\n",
       "    }\n",
       "\n",
       "    .dataframe tbody tr th {\n",
       "        vertical-align: top;\n",
       "    }\n",
       "\n",
       "    .dataframe thead th {\n",
       "        text-align: right;\n",
       "    }\n",
       "</style>\n",
       "<table border=\"1\" class=\"dataframe\">\n",
       "  <thead>\n",
       "    <tr style=\"text-align: right;\">\n",
       "      <th></th>\n",
       "      <th>1</th>\n",
       "      <th>2</th>\n",
       "      <th>3</th>\n",
       "      <th>4</th>\n",
       "      <th>5</th>\n",
       "    </tr>\n",
       "  </thead>\n",
       "  <tbody>\n",
       "    <tr>\n",
       "      <th>P</th>\n",
       "      <td>0.0</td>\n",
       "      <td>0.0</td>\n",
       "      <td>0.0</td>\n",
       "      <td>0.0</td>\n",
       "      <td>0.0</td>\n",
       "    </tr>\n",
       "    <tr>\n",
       "      <th>nDCG</th>\n",
       "      <td>0.0</td>\n",
       "      <td>0.0</td>\n",
       "      <td>0.0</td>\n",
       "      <td>0.0</td>\n",
       "      <td>0.0</td>\n",
       "    </tr>\n",
       "    <tr>\n",
       "      <th>PSP</th>\n",
       "      <td>0.0</td>\n",
       "      <td>0.0</td>\n",
       "      <td>0.0</td>\n",
       "      <td>0.0</td>\n",
       "      <td>0.0</td>\n",
       "    </tr>\n",
       "    <tr>\n",
       "      <th>PSnDCG</th>\n",
       "      <td>0.0</td>\n",
       "      <td>0.0</td>\n",
       "      <td>0.0</td>\n",
       "      <td>0.0</td>\n",
       "      <td>0.0</td>\n",
       "    </tr>\n",
       "  </tbody>\n",
       "</table>\n",
       "</div>"
      ],
      "text/plain": [
       "          1    2    3    4    5\n",
       "P       0.0  0.0  0.0  0.0  0.0\n",
       "nDCG    0.0  0.0  0.0  0.0  0.0\n",
       "PSP     0.0  0.0  0.0  0.0  0.0\n",
       "PSnDCG  0.0  0.0  0.0  0.0  0.0"
      ]
     },
     "metadata": {},
     "output_type": "display_data"
    },
    {
     "name": "stdout",
     "output_type": "stream",
     "text": [
      "\u001b[1mdecile 1 (shape=(8126, 115655)): \u001b[0m\n"
     ]
    },
    {
     "data": {
      "text/html": [
       "<div>\n",
       "<style scoped>\n",
       "    .dataframe tbody tr th:only-of-type {\n",
       "        vertical-align: middle;\n",
       "    }\n",
       "\n",
       "    .dataframe tbody tr th {\n",
       "        vertical-align: top;\n",
       "    }\n",
       "\n",
       "    .dataframe thead th {\n",
       "        text-align: right;\n",
       "    }\n",
       "</style>\n",
       "<table border=\"1\" class=\"dataframe\">\n",
       "  <thead>\n",
       "    <tr style=\"text-align: right;\">\n",
       "      <th></th>\n",
       "      <th>1</th>\n",
       "      <th>2</th>\n",
       "      <th>3</th>\n",
       "      <th>4</th>\n",
       "      <th>5</th>\n",
       "    </tr>\n",
       "  </thead>\n",
       "  <tbody>\n",
       "    <tr>\n",
       "      <th>P</th>\n",
       "      <td>36.97</td>\n",
       "      <td>23.95</td>\n",
       "      <td>17.59</td>\n",
       "      <td>13.92</td>\n",
       "      <td>11.58</td>\n",
       "    </tr>\n",
       "    <tr>\n",
       "      <th>nDCG</th>\n",
       "      <td>36.97</td>\n",
       "      <td>41.05</td>\n",
       "      <td>43.05</td>\n",
       "      <td>44.12</td>\n",
       "      <td>44.88</td>\n",
       "    </tr>\n",
       "    <tr>\n",
       "      <th>PSP</th>\n",
       "      <td>36.29</td>\n",
       "      <td>43.19</td>\n",
       "      <td>47.10</td>\n",
       "      <td>49.65</td>\n",
       "      <td>51.66</td>\n",
       "    </tr>\n",
       "    <tr>\n",
       "      <th>PSnDCG</th>\n",
       "      <td>36.29</td>\n",
       "      <td>40.63</td>\n",
       "      <td>42.67</td>\n",
       "      <td>43.77</td>\n",
       "      <td>44.54</td>\n",
       "    </tr>\n",
       "  </tbody>\n",
       "</table>\n",
       "</div>"
      ],
      "text/plain": [
       "            1      2      3      4      5\n",
       "P       36.97  23.95  17.59  13.92  11.58\n",
       "nDCG    36.97  41.05  43.05  44.12  44.88\n",
       "PSP     36.29  43.19  47.10  49.65  51.66\n",
       "PSnDCG  36.29  40.63  42.67  43.77  44.54"
      ]
     },
     "metadata": {},
     "output_type": "display_data"
    }
   ],
   "source": [
    "X_Y = tst_X_Y[eval_inds]\n",
    "for method, _score_mat in all_score_mats.items():\n",
    "    metrics = {}\n",
    "    print('Method :', method)\n",
    "    for i, active_labels in enumerate([unseen_labels, fewshot_labels]):\n",
    "#         active_labels = np.where(nnz == i)[0]\n",
    "        temp_X_Y, active_rows, _ = restrict_mat(X_Y, active_rows=None, active_cols=active_labels, shrink=True)\n",
    "        \n",
    "        temp_score_mat, _, _     = restrict_mat(_score_mat, active_rows=active_rows, active_cols=active_labels, shrink=True)\n",
    "        print(_c('decile %d (shape=(%d, %d)): '%(i, temp_X_Y.shape[0], temp_X_Y.shape[1]), attr='bold'))\n",
    "        metrics[i] = printacc(temp_score_mat, X_Y=temp_X_Y, K=5, inv_prop_=inv_prop[active_labels])\n",
    "        if i > 0: points[method].append(metrics[i][2, 4])\n",
    "        else: points[method] = [metrics[i][2, 4]]"
   ]
  },
  {
   "cell_type": "code",
   "execution_count": 272,
   "metadata": {
    "ExecuteTime": {
     "end_time": "2021-02-08T08:10:08.282481Z",
     "start_time": "2021-02-08T08:10:08.271981Z"
    },
    "scrolled": true
   },
   "outputs": [
    {
     "data": {
      "text/html": [
       "<div>\n",
       "<style scoped>\n",
       "    .dataframe tbody tr th:only-of-type {\n",
       "        vertical-align: middle;\n",
       "    }\n",
       "\n",
       "    .dataframe tbody tr th {\n",
       "        vertical-align: top;\n",
       "    }\n",
       "\n",
       "    .dataframe thead th {\n",
       "        text-align: right;\n",
       "    }\n",
       "</style>\n",
       "<table border=\"1\" class=\"dataframe\">\n",
       "  <thead>\n",
       "    <tr style=\"text-align: right;\">\n",
       "      <th></th>\n",
       "      <th>ZestXML</th>\n",
       "      <th>AttentionXML</th>\n",
       "      <th>DiSMEC</th>\n",
       "      <th>BERT-NNS</th>\n",
       "      <th>Parabel</th>\n",
       "      <th>XReg</th>\n",
       "      <th>Astec</th>\n",
       "      <th>DECAF</th>\n",
       "      <th>nnz</th>\n",
       "    </tr>\n",
       "  </thead>\n",
       "  <tbody>\n",
       "    <tr>\n",
       "      <th>0</th>\n",
       "      <td>21.09</td>\n",
       "      <td>0.00</td>\n",
       "      <td>0.00</td>\n",
       "      <td>9.56</td>\n",
       "      <td>0.00</td>\n",
       "      <td>0.00</td>\n",
       "      <td>0.00</td>\n",
       "      <td>0.00</td>\n",
       "      <td>zero-shot</td>\n",
       "    </tr>\n",
       "    <tr>\n",
       "      <th>1</th>\n",
       "      <td>38.36</td>\n",
       "      <td>35.61</td>\n",
       "      <td>32.33</td>\n",
       "      <td>21.34</td>\n",
       "      <td>23.51</td>\n",
       "      <td>28.43</td>\n",
       "      <td>11.15</td>\n",
       "      <td>51.66</td>\n",
       "      <td>few-shot</td>\n",
       "    </tr>\n",
       "  </tbody>\n",
       "</table>\n",
       "</div>"
      ],
      "text/plain": [
       "   ZestXML  AttentionXML  DiSMEC  BERT-NNS  Parabel   XReg  Astec  DECAF  \\\n",
       "0    21.09          0.00    0.00      9.56     0.00   0.00   0.00   0.00   \n",
       "1    38.36         35.61   32.33     21.34    23.51  28.43  11.15  51.66   \n",
       "\n",
       "         nnz  \n",
       "0  zero-shot  \n",
       "1   few-shot  "
      ]
     },
     "execution_count": 272,
     "metadata": {},
     "output_type": "execute_result"
    }
   ],
   "source": [
    "df = pd.DataFrame(points)\n",
    "df['nnz'] = ['zero-shot', 'few-shot']\n",
    "df.round(2)"
   ]
  },
  {
   "cell_type": "code",
   "execution_count": 260,
   "metadata": {
    "ExecuteTime": {
     "end_time": "2021-02-08T06:07:11.991205Z",
     "start_time": "2021-02-08T06:07:11.618782Z"
    }
   },
   "outputs": [
    {
     "data": {
      "image/png": "[encoded data removed]",
      "text/plain": [
       "<Figure size 818.15x432 with 1 Axes>"
      ]
     },
     "metadata": {},
     "output_type": "display_data"
    }
   ],
   "source": [
    "tempdf = pd.melt(df, id_vars=['nnz']).sort_values(['variable','value'])\n",
    "\n",
    "sns.set(font_scale = 1.5)\n",
    "g = sns.catplot(\n",
    "    data=tempdf, kind=\"bar\",\n",
    "    x=\"nnz\", y=\"value\", hue=\"variable\",\n",
    "    ci=\"sd\", palette=\"bright\", alpha=.7, height=6, aspect=1.5,color='X11'\n",
    ")\n",
    "g.despine(left=True)\n",
    "g.set_axis_labels(\"Label Frequency\", \"GPSP@5\", fontsize=20)\n",
    "g.legend.set_title(\"\")\n",
    "plt.subplots_adjust(bottom=0.15)\n",
    "# plt.savefig('/mnt/c/Users/t-nilgup/Pictures/wiki-gpsp5-frequency-analysis.png', facecolor='w')\n",
    "# plt.savefig('/mnt/c/Users/t-nilgup/Pictures/wiki-gpsp5-frequency-analysis.eps', facecolor='w')"
   ]
  },
  {
   "cell_type": "markdown",
   "metadata": {},
   "source": [
    "## Analysis"
   ]
  },
  {
   "cell_type": "markdown",
   "metadata": {},
   "source": [
    "### Prepare"
   ]
  },
  {
   "cell_type": "code",
   "execution_count": 117,
   "metadata": {
    "ExecuteTime": {
     "end_time": "2020-10-14T20:50:28.764888Z",
     "start_time": "2020-10-14T20:50:28.728573Z"
    }
   },
   "outputs": [
    {
     "name": "stdout",
     "output_type": "stream",
     "text": [
      "loaded bin file in buffer\n",
      "loaded bin file in buffer\n"
     ]
    },
    {
     "data": {
      "text/plain": [
       "(2217693, 2217693)"
      ]
     },
     "execution_count": 117,
     "metadata": {},
     "output_type": "execute_result"
    }
   ],
   "source": [
    "Xf_Yf = read_bin_spmat(f'{RES_DIR}/model/Xf_Yf.bin')\n",
    "Yf_Xf = read_bin_spmat(f'{RES_DIR}/model/Yf_Xf.bin')\n",
    "sp_pattern_mat = Xf_Yf + Yf_Xf.T.tocsr()\n",
    "Xf_Yf.nnz+Yf_Xf.nnz, sp_pattern_mat.nnz"
   ]
  },
  {
   "cell_type": "code",
   "execution_count": 118,
   "metadata": {
    "ExecuteTime": {
     "end_time": "2020-10-14T20:50:45.422449Z",
     "start_time": "2020-10-14T20:50:41.707542Z"
    }
   },
   "outputs": [
    {
     "name": "stderr",
     "output_type": "stream",
     "text": [
      "100%|██████████| 1993586/1993586 [00:03<00:00, 619230.44it/s]\n",
      "100%|██████████| 224107/224107 [00:00<00:00, 585753.25it/s]\n"
     ]
    }
   ],
   "source": [
    "ind_sp_pattern_mat = sp_pattern_mat.copy().astype(np.int32)\n",
    "temp = Xf_Yf.tocoo()\n",
    "ind_sp_pattern_mat[temp.row, temp.col] = np.arange(Xf_Yf.nnz)\n",
    "pair_xfs = [f'[x[{temp.row[i]}]({xfs[temp.row[i]]}) : y[{temp.col[i]}]({yfs[temp.col[i]]})]' for i in tqdm(range(temp.nnz))]\n",
    "\n",
    "temp = Yf_Xf.tocoo()\n",
    "ind_sp_pattern_mat[temp.col, temp.row] = np.arange(Xf_Yf.nnz, Xf_Yf.nnz+Yf_Xf.nnz)\n",
    "for i in tqdm(range(temp.nnz)):\n",
    "    pair_xfs.append(f'[x[{temp.col[i]}]({xfs[temp.col[i]]}) : y[{temp.row[i]}]({xfs[temp.row[i]]})]')\n",
    "pair_xfs.append('bias')"
   ]
  },
  {
   "cell_type": "code",
   "execution_count": 52,
   "metadata": {
    "ExecuteTime": {
     "end_time": "2020-10-14T14:25:29.448642Z",
     "start_time": "2020-10-14T14:25:29.435729Z"
    }
   },
   "outputs": [
    {
     "name": "stdout",
     "output_type": "stream",
     "text": [
      "loaded bin file in buffer\n"
     ]
    }
   ],
   "source": [
    "sp_pattern_mat = read_bin_spmat(f'{RES_DIR}/model/sparsity_pattern.bin')"
   ]
  },
  {
   "cell_type": "code",
   "execution_count": 32,
   "metadata": {
    "ExecuteTime": {
     "end_time": "2020-10-14T13:02:37.244259Z",
     "start_time": "2020-10-14T13:02:37.179169Z"
    }
   },
   "outputs": [],
   "source": [
    "t_sp_pattern_mat = sp_pattern_mat.T.tocsr()"
   ]
  },
  {
   "cell_type": "code",
   "execution_count": 82,
   "metadata": {
    "ExecuteTime": {
     "end_time": "2020-10-14T14:39:08.236692Z",
     "start_time": "2020-10-14T14:39:08.230086Z"
    },
    "scrolled": true
   },
   "outputs": [
    {
     "name": "stdout",
     "output_type": "stream",
     "text": [
      "xfs[20314] : dissolut\n",
      "1\t(0.500000)\tdissolut\n",
      "2\t(0.075758)\tczechoslovakia\n",
      "3\t(0.075758)\t__label__2591__Czechoslovakia\n",
      "4\t(0.071138)\t__parent__2291\n",
      "5\t(0.066964)\t__label__1861__republic\n",
      "6\t(0.066288)\tsoviet\n",
      "7\t(0.066288)\tussr\n",
      "8\t(0.066288)\t__label__2749__USSR; Soviet Union; former USSR\n",
      "9\t(0.066288)\tformer ussr\n",
      "10\t(0.066288)\tussr soviet\n",
      "11\t(0.066288)\tsoviet union\n",
      "12\t(0.066288)\tunion former\n",
      "13\t(0.051653)\t__label__3183__ECSC; Consultative Committee of the ECSC; ECSC con\n",
      "14\t(0.051653)\thigh author\n",
      "15\t(0.051653)\tecsc ecsc\n",
      "16\t(0.051653)\tecsc consult\n",
      "17\t(0.051653)\tconsult committe\n",
      "18\t(0.051653)\tcommuniti high\n",
      "19\t(0.051653)\tcommitte ecsc\n",
      "20\t(0.039615)\t__parent__5655\n",
      "21\t(0.039139)\t__parent__26\n"
     ]
    }
   ],
   "source": [
    "# xf = random.randrange(len(xfs))\n",
    "xf = 20314\n",
    "# xf = np.random.choice(targets)\n",
    "\n",
    "print(f'xfs[{xf}] : {xfs[xf]}')\n",
    "xf_sp_pattern_mat = sp_pattern_mat[xf]\n",
    "sorted_inds = np.argsort(-xf_sp_pattern_mat.data)\n",
    "for i, ind in enumerate(sorted_inds):\n",
    "    print(f'{i+1}\\t({\"%.6f\"%xf_sp_pattern_mat.data[ind]})\\t{yfs[xf_sp_pattern_mat.indices[ind]]}')"
   ]
  },
  {
   "cell_type": "code",
   "execution_count": 147,
   "metadata": {
    "ExecuteTime": {
     "end_time": "2020-10-12T12:08:18.537475Z",
     "start_time": "2020-10-12T12:08:18.530148Z"
    },
    "scrolled": true
   },
   "outputs": [
    {
     "name": "stdout",
     "output_type": "stream",
     "text": [
      "yfs[1022682] : __label__81003__Anarchism\n",
      "1\t(0.192308)\tcryptoparti\n",
      "2\t(0.138889)\twxlanarchist14\n",
      "3\t(0.119048)\t9117285\n",
      "4\t(0.111111)\tlibsoc\n",
      "5\t(0.106383)\tshirlow\n",
      "6\t(0.104167)\tamielandmelburn\n",
      "7\t(0.102041)\t96886\n",
      "8\t(0.100000)\tparliamentarist\n",
      "9\t(0.096154)\t22spirit\n",
      "10\t(0.081967)\tpautz\n",
      "11\t(0.080645)\tmountz\n",
      "12\t(0.074627)\t54697\n",
      "13\t(0.068493)\tespecifismo\n",
      "14\t(0.067568)\thetsa\n",
      "15\t(0.064103)\tmelburn\n",
      "16\t(0.062500)\ttoc2\n",
      "17\t(0.060976)\tuvali\n",
      "18\t(0.060241)\tkesia\n",
      "19\t(0.058824)\t32495\n",
      "20\t(0.057471)\t20060329\n",
      "21\t(0.056818)\tlierr\n",
      "22\t(0.056818)\tfrestonia\n",
      "23\t(0.049020)\t31567\n",
      "24\t(0.047170)\t20561\n",
      "25\t(0.045045)\t20070514\n",
      "26\t(0.040650)\trevoltlib\n",
      "27\t(0.039370)\ttitl anarch\n",
      "28\t(0.035211)\tautarch\n",
      "29\t(0.035047)\tsocial anarch\n",
      "30\t(0.026596)\thierarch organ\n",
      "31\t(0.026455)\tstateless societi\n",
      "32\t(0.024272)\tscmagazin\n",
      "33\t(0.018939)\tlifework\n",
      "34\t(0.011628)\tbase free\n",
      "35\t(0.008190)\tideolog polit\n",
      "36\t(0.007153)\twithin societi\n"
     ]
    }
   ],
   "source": [
    "yf = 1022682\n",
    "\n",
    "print(f'yfs[{yf}] : {yfs[yf]}')\n",
    "yf_sp_pattern_mat = t_sp_pattern_mat[yf]\n",
    "sorted_inds = np.argsort(-yf_sp_pattern_mat.data)\n",
    "for i, ind in enumerate(sorted_inds):\n",
    "    print(f'{i+1}\\t({\"%.6f\"%yf_sp_pattern_mat.data[ind]})\\t{xfs[yf_sp_pattern_mat.indices[ind]]}')"
   ]
  },
  {
   "cell_type": "markdown",
   "metadata": {
    "heading_collapsed": true
   },
   "source": [
    "### Analyze single x, y pair"
   ]
  },
  {
   "cell_type": "code",
   "execution_count": null,
   "metadata": {
    "ExecuteTime": {
     "end_time": "2020-10-12T11:53:45.465593Z",
     "start_time": "2020-10-12T11:53:45.386044Z"
    },
    "hidden": true
   },
   "outputs": [],
   "source": [
    "bin_sp_pattern_mat = binarize(sp_pattern_mat, copy=True)"
   ]
  },
  {
   "cell_type": "code",
   "execution_count": 131,
   "metadata": {
    "ExecuteTime": {
     "end_time": "2020-10-12T11:55:36.552484Z",
     "start_time": "2020-10-12T11:55:36.548157Z"
    },
    "hidden": true
   },
   "outputs": [],
   "source": [
    "def bilinear_to_linear(x, y):\n",
    "    cross = trn_X_Xf[x].T.dot(Y_Yf[y])\n",
    "    data = cross.multiply(bin_sp_pattern_mat).data\n",
    "    inds = binarize(cross).multiply(ind_sp_pattern_mat).data.astype(np.int32)\n",
    "    del cross\n",
    "    return csr_matrix((data, inds, [0, inds.shape[0]]), (1, sp_pattern_mat.nnz))"
   ]
  },
  {
   "cell_type": "code",
   "execution_count": 132,
   "metadata": {
    "ExecuteTime": {
     "end_time": "2020-10-12T11:55:48.802811Z",
     "start_time": "2020-10-12T11:55:36.554819Z"
    },
    "hidden": true,
    "scrolled": true
   },
   "outputs": [
    {
     "name": "stdout",
     "output_type": "stream",
     "text": [
      "x = 0 : \n",
      "\u001b[1m\u001b[4m[x(anarch) : y(anarch)]\u001b[0m(0.99, 2875494) \u001b[1m\u001b[4m[x(anarch sidebar) : y(anarch)]\u001b[0m(0.15, 21988359)\n"
     ]
    }
   ],
   "source": [
    "xy = normalize(bilinear_to_linear(0, 81003), axis=1)\n",
    "print(get_text(0, pair_xfs, xy))"
   ]
  },
  {
   "cell_type": "code",
   "execution_count": 244,
   "metadata": {
    "ExecuteTime": {
     "end_time": "2020-10-06T18:23:45.023699Z",
     "start_time": "2020-10-06T18:23:45.015860Z"
    },
    "hidden": true
   },
   "outputs": [
    {
     "data": {
      "text/plain": [
       "array([0.8450816], dtype=float32)"
      ]
     },
     "execution_count": 244,
     "metadata": {},
     "output_type": "execute_result"
    }
   ],
   "source": [
    "prod = xy.dot(tree.shared_clf.data[:-1])+tree.shared_clf.data[-1]\n",
    "bilinear_score = -((max(0, 1-prod))**2) - 0\n",
    "np.exp(bilinear_score)"
   ]
  },
  {
   "cell_type": "markdown",
   "metadata": {
    "heading_collapsed": true
   },
   "source": [
    "### Analyze predictions"
   ]
  },
  {
   "cell_type": "code",
   "execution_count": 401,
   "metadata": {
    "ExecuteTime": {
     "end_time": "2020-10-08T09:33:44.080263Z",
     "start_time": "2020-10-08T09:33:44.074196Z"
    },
    "hidden": true
   },
   "outputs": [],
   "source": [
    "targets = np.where((tst_X_Y - binarize(clf_score_mat.multiply(tst_X_Y))).getnnz(1) > 5)[0]"
   ]
  },
  {
   "cell_type": "code",
   "execution_count": 24,
   "metadata": {
    "ExecuteTime": {
     "end_time": "2020-10-14T12:53:56.063530Z",
     "start_time": "2020-10-14T12:53:56.053632Z"
    },
    "hidden": true,
    "scrolled": true
   },
   "outputs": [
    {
     "name": "stdout",
     "output_type": "stream",
     "text": [
      "x = 0 : \n",
      "\u001b[1m\u001b[4mcapit\u001b[0m(0.36, 16272) \u001b[1m\u001b[4mcapit movement\u001b[0m(0.29, 66706) \u001b[1m\u001b[4mfrench oversea\u001b[0m(0.28, 77427) \u001b[1m\u001b[4moversea depart\u001b[0m(0.28, 86238) \u001b[1m\u001b[4malgeria\u001b[0m(0.27, 11929) \u001b[1m\u001b[4moversea\u001b[0m(0.25, 35674) \u001b[1m\u001b[4mprovis treati\u001b[0m(0.22, 89663) \u001b[1m\u001b[4mdepart\u001b[0m(0.21, 19660) \u001b[1m\u001b[4mmovement\u001b[0m(0.20, 33272) \u001b[1m\u001b[4mfrench\u001b[0m(0.19, 23851) \u001b[1m\u001b[4m1960\u001b[0m(0.16, 3201) \u001b[1m\u001b[4m11 may\u001b[0m(0.14, 51554) \u001b[1m\u001b[4m227\u001b[0m(0.13, 4392) \u001b[1m\u001b[4mprovis\u001b[0m(0.11, 38162) \u001b[1m\u001b[4mapplic area\u001b[0m(0.09, 63952) \u001b[1m\u001b[4marticl 106\u001b[0m(0.09, 64637) \u001b[1m\u001b[4mpropos direct\u001b[0m(0.09, 89204) \u001b[1m\u001b[4mpursuanc articl\u001b[0m(0.09, 89840) \u001b[1m\u001b[4meconom condit\u001b[0m(0.09, 73504) \u001b[1m\u001b[4marticl 69\u001b[0m(0.09, 64808) \u001b[1m\u001b[4mdepart wherea\u001b[0m(0.09, 71579) \u001b[1m\u001b[4mwherea propos\u001b[0m(0.09, 99220) \u001b[1m\u001b[4mtreati concern\u001b[0m(0.09, 97505) \u001b[1m\u001b[4mdetermin condit\u001b[0m(0.09, 71795) \u001b[1m\u001b[4msocial develop\u001b[0m(0.09, 94387) \u001b[1m\u001b[4mne\u001b[0m(0.08, 33948) \u001b[1m\u001b[4marticl 67\u001b[0m(0.08, 64806) \u001b[1m\u001b[4mcouncil wherea\u001b[0m(0.08, 70268) \u001b[1m\u001b[4mcouncil determin\u001b[0m(0.08, 70216) \u001b[1m\u001b[4mparticular provis\u001b[0m(0.08, 86732) \u001b[1m\u001b[4mdecis applic\u001b[0m(0.08, 71232) \u001b[1m\u001b[4mset first\u001b[0m(0.08, 93595) \u001b[1m\u001b[4mtreati particular\u001b[0m(0.08, 97525) \u001b[1m\u001b[4mpursuanc\u001b[0m(0.08, 38409) \u001b[1m\u001b[4mliberalis\u001b[0m(0.08, 30510) \u001b[1m\u001b[4mforc 11\u001b[0m(0.07, 77096) \u001b[1m\u001b[4mrest\u001b[0m(0.07, 39733) \u001b[1m\u001b[4mtreati regard\u001b[0m(0.07, 97528) \u001b[1m\u001b[4maccord second\u001b[0m(0.06, 61665) \u001b[1m\u001b[4msecretari\u001b[0m(0.06, 41366) \u001b[1m\u001b[4mrender\u001b[0m(0.06, 39516) \u001b[1m\u001b[4msubparagraph\u001b[0m(0.06, 43499) \u001b[1m\u001b[4mconcern\u001b[0m(0.06, 18144) \u001b[1m\u001b[4mprovis concern\u001b[0m(0.06, 89591) \u001b[1m\u001b[4meec council\u001b[0m(0.06, 74101) \u001b[1m\u001b[4mpropos\u001b[0m(0.06, 38074) \u001b[1m\u001b[4m106\u001b[0m(0.05, 1463) \u001b[1m\u001b[4mcondit\u001b[0m(0.05, 18179) \u001b[1m\u001b[4msubmit commiss\u001b[0m(0.05, 95595) \u001b[1m\u001b[4meconom\u001b[0m(0.05, 21096) \u001b[1m\u001b[4mlegisl\u001b[0m(0.05, 30324) \u001b[1m\u001b[4mdone luxembourg\u001b[0m(0.05, 72349) \u001b[1m\u001b[4meconom social\u001b[0m(0.05, 73530) \u001b[1m\u001b[4m73\u001b[0m(0.05, 9249) \u001b[1m\u001b[4mwherea accord\u001b[0m(0.05, 98976) \u001b[1m\u001b[4mprovis articl\u001b[0m(0.04, 89585) \u001b[1m\u001b[4mdecis\u001b[0m(0.04, 19453) \u001b[1m\u001b[4m67\u001b[0m(0.04, 8913) \u001b[1m\u001b[4m69\u001b[0m(0.04, 8987) \u001b[1m\u001b[4msocial\u001b[0m(0.04, 42426) \u001b[1m\u001b[4mluxembourg\u001b[0m(0.04, 31190) \u001b[1m\u001b[4mfirst subparagraph\u001b[0m(0.04, 76514) \u001b[1m\u001b[4msecond subparagraph\u001b[0m(0.04, 93191) \u001b[1m\u001b[4mcommiss wherea\u001b[0m(0.04, 68218) \u001b[1m\u001b[4mterritori\u001b[0m(0.04, 44525) \u001b[1m\u001b[4mdecis shall\u001b[0m(0.04, 71321) \u001b[1m\u001b[4mspecial\u001b[0m(0.04, 42702) \u001b[1m\u001b[4msubparagraph articl\u001b[0m(0.04, 95660) \u001b[1m\u001b[4mneed\u001b[0m(0.04, 34000) \u001b[1m\u001b[4marea\u001b[0m(0.04, 13081) \u001b[1m\u001b[4m2 thereof\u001b[0m(0.03, 54155) \u001b[1m\u001b[4mpropos commiss\u001b[0m(0.03, 89200) \u001b[1m\u001b[4mcouncil decis\u001b[0m(0.03, 70215) \u001b[1m\u001b[4mplace\u001b[0m(0.03, 36950) \u001b[1m\u001b[4mregard propos\u001b[0m(0.03, 91028) \u001b[1m\u001b[4msecond\u001b[0m(0.03, 41360) \u001b[1m\u001b[4mcouncilth\u001b[0m(0.03, 18611) \u001b[1m\u001b[4msubmit\u001b[0m(0.03, 43493) \u001b[1m\u001b[4mdevelop\u001b[0m(0.03, 19834) \u001b[1m\u001b[4mfirst\u001b[0m(0.03, 23254) \u001b[1m\u001b[4mshall appli\u001b[0m(0.03, 93718) \u001b[1m\u001b[4mappropri\u001b[0m(0.03, 12940) \u001b[1m\u001b[4mdetermin\u001b[0m(0.03, 19807) \u001b[1m\u001b[4mthereof regard\u001b[0m(0.03, 96938) \u001b[1m\u001b[4mset\u001b[0m(0.02, 41662)\n"
     ]
    }
   ],
   "source": [
    "val_X[x]\n",
    "print(get_text(x, xfs, val_X_Xf))"
   ]
  },
  {
   "cell_type": "code",
   "execution_count": 58,
   "metadata": {
    "ExecuteTime": {
     "end_time": "2020-10-14T14:26:53.781992Z",
     "start_time": "2020-10-14T14:26:53.779177Z"
    },
    "hidden": true
   },
   "outputs": [],
   "source": [
    "# x = random.randrange(tst_X_Y.shape[0])\n",
    "x = 1"
   ]
  },
  {
   "cell_type": "code",
   "execution_count": 59,
   "metadata": {
    "ExecuteTime": {
     "end_time": "2020-10-14T14:26:55.058452Z",
     "start_time": "2020-10-14T14:26:55.052613Z"
    },
    "hidden": true
   },
   "outputs": [
    {
     "name": "stdout",
     "output_type": "stream",
     "text": [
      "x = 1 : \n",
      "\u001b[1mcompetition policy\u001b[0m(1.00, \u001b[94m18\u001b[0m, 1116)\n",
      "\u001b[1mcontrol of restrictive practices\u001b[0m(1.00, \u001b[94m5\u001b[0m, 1671)\n",
      "\u001b[1mrestriction on competition\u001b[0m(1.00, \u001b[94m71\u001b[0m, 1972)\n",
      "\u001b[1minter-company agreement\u001b[0m(1.00, \u001b[94m39\u001b[0m, 2142)\n"
     ]
    }
   ],
   "source": [
    "print(get_text(x, Y, val_X_Y, K=10, sep='\\n', attr='bold', f = lambda ind, val : '%.2f, %s, %d'%(val, _c(nnz[ind], attr='blue'), ind)))"
   ]
  },
  {
   "cell_type": "code",
   "execution_count": 60,
   "metadata": {
    "ExecuteTime": {
     "end_time": "2020-10-14T14:27:01.481199Z",
     "start_time": "2020-10-14T14:27:01.475514Z"
    },
    "hidden": true,
    "scrolled": true
   },
   "outputs": [
    {
     "name": "stdout",
     "output_type": "stream",
     "text": [
      "x = 1 : \n",
      "\u001b[1mcompetition policy\u001b[0m(0.44, \u001b[94m18\u001b[0m, 1116)\n",
      "\u001b[1mcontrol of restrictive practices\u001b[0m(0.36, \u001b[94m5\u001b[0m, 1671)\n",
      "\u001b[1minter-company agreement\u001b[0m(0.29, \u001b[94m39\u001b[0m, 2142)\n",
      "\u001b[1mrestriction on competition\u001b[0m(0.21, \u001b[94m71\u001b[0m, 1972)\n",
      "\u001b[1mspecialisation agreement\u001b[0m(0.11, \u001b[94m6\u001b[0m, 1427)\n",
      "\u001b[1mESC opinion\u001b[0m(0.05, \u001b[94m1\u001b[0m, 3044)\n",
      "\u001b[1mrestrictive trade practice\u001b[0m(0.05, \u001b[94m11\u001b[0m, 4071)\n",
      "\u001b[1mcommon organisation of markets\u001b[0m(0.05, \u001b[94m1609\u001b[0m, 878)\n",
      "\u001b[1mfree competition\u001b[0m(0.05, \u001b[94m2\u001b[0m, 494)\n",
      "\u001b[1mmaritime transport\u001b[0m(0.04, \u001b[94m76\u001b[0m, 2691)\n"
     ]
    }
   ],
   "source": [
    "print(get_text(x, Y, clf_score_mat, K=10, sep='\\n', attr='bold', f = lambda ind, val : '%.2f, %s, %d'%(val, _c(nnz[ind], attr='blue'), ind)))"
   ]
  },
  {
   "cell_type": "code",
   "execution_count": 61,
   "metadata": {
    "ExecuteTime": {
     "end_time": "2020-10-14T14:27:19.601893Z",
     "start_time": "2020-10-14T14:27:19.595952Z"
    },
    "hidden": true
   },
   "outputs": [
    {
     "name": "stdout",
     "output_type": "stream",
     "text": [
      "x = 1 : \n",
      "\u001b[1minter-company agreement\u001b[0m(0.66, \u001b[94m39\u001b[0m, 2142)\n",
      "\u001b[1mrestriction on competition\u001b[0m(0.37, \u001b[94m71\u001b[0m, 1972)\n",
      "\u001b[1mcompetitiveness\u001b[0m(0.32, \u001b[94m24\u001b[0m, 2668)\n",
      "\u001b[1mcompetition policy\u001b[0m(0.32, \u001b[94m18\u001b[0m, 1116)\n",
      "\u001b[1msporting event\u001b[0m(0.32, \u001b[94m18\u001b[0m, 3447)\n",
      "\u001b[1mcompetition (EU)\u001b[0m(0.32, \u001b[94m2\u001b[0m, 2318)\n",
      "\u001b[1mspecialisation agreement\u001b[0m(0.31, \u001b[94m6\u001b[0m, 1427)\n",
      "\u001b[1mcontrol of restrictive practices\u001b[0m(0.31, \u001b[94m5\u001b[0m, 1671)\n",
      "\u001b[1mcompetition law\u001b[0m(0.19, \u001b[94m31\u001b[0m, 3232)\n",
      "\u001b[1mESC opinion\u001b[0m(0.09, \u001b[94m1\u001b[0m, 3044)\n"
     ]
    }
   ],
   "source": [
    "print(get_text(x, Y, bilinear_score_mat, K=10, sep='\\n', attr='bold', f = lambda ind, val : '%.2f, %s, %d'%(val, _c(nnz[ind], attr='blue'), ind)))"
   ]
  },
  {
   "cell_type": "code",
   "execution_count": 57,
   "metadata": {
    "ExecuteTime": {
     "end_time": "2020-10-14T14:26:03.150818Z",
     "start_time": "2020-10-14T14:26:03.074169Z"
    },
    "hidden": true,
    "scrolled": true
   },
   "outputs": [
    {
     "name": "stdout",
     "output_type": "stream",
     "text": [
      "x = 0 : \n",
      "\u001b[1mFrench overseas department and region\u001b[0m(0.60, \u001b[94m155\u001b[0m, 57)\n",
      "\u001b[1moverseas department (France)\u001b[0m(0.24, \u001b[94m8\u001b[0m, 2216)\n",
      "\u001b[1mFrench overseas collectivity\u001b[0m(0.23, \u001b[94m3\u001b[0m, 58)\n",
      "\u001b[1mcapital movement\u001b[0m(0.21, \u001b[94m12\u001b[0m, 768)\n",
      "\u001b[1mexport refund\u001b[0m(0.19, \u001b[94m3554\u001b[0m, 1962)\n",
      "\u001b[1mshare capital\u001b[0m(0.11, \u001b[94m7\u001b[0m, 3092)\n",
      "\u001b[1mfree movement of capital\u001b[0m(0.10, \u001b[94m7\u001b[0m, 489)\n",
      "\u001b[1minternational sanctions\u001b[0m(0.09, \u001b[94m698\u001b[0m, 1908)\n",
      "\u001b[1mFrench Guiana\u001b[0m(0.09, \u001b[94m15\u001b[0m, 167)\n",
      "\u001b[1mbalance of payments\u001b[0m(0.09, \u001b[94m25\u001b[0m, 2791)\n",
      "\u001b[1moverseas countries and territories\u001b[0m(0.09, \u001b[94m115\u001b[0m, 969)\n",
      "\u001b[1mcapital increase\u001b[0m(0.09, \u001b[94m10\u001b[0m, 2348)\n",
      "\u001b[1mhealth control\u001b[0m(0.08, \u001b[94m1599\u001b[0m, 720)\n",
      "\u001b[1mcapital goods\u001b[0m(0.08, \u001b[94m0\u001b[0m, 1716)\n",
      "\u001b[1mventure capital\u001b[0m(0.08, \u001b[94m2\u001b[0m, 3059)\n",
      "\u001b[1minvestment\u001b[0m(0.08, \u001b[94m19\u001b[0m, 379)\n",
      "\u001b[1mAlgeria\u001b[0m(0.07, \u001b[94m34\u001b[0m, 148)\n",
      "\u001b[1mFrance\u001b[0m(0.07, \u001b[94m895\u001b[0m, 56)\n",
      "\u001b[1msupply\u001b[0m(0.07, \u001b[94m409\u001b[0m, 966)\n",
      "\u001b[1moverseas territory\u001b[0m(0.07, \u001b[94m2\u001b[0m, 2625)\n",
      "\u001b[1mdepartment (France)\u001b[0m(0.07, \u001b[94m2\u001b[0m, 2211)\n",
      "\u001b[1mcapital market\u001b[0m(0.07, \u001b[94m28\u001b[0m, 3058)\n",
      "\u001b[1mworking capital\u001b[0m(0.07, \u001b[94m1\u001b[0m, 39)\n",
      "\u001b[1mforeign capital\u001b[0m(0.07, \u001b[94m84\u001b[0m, 3112)\n",
      "\u001b[1meconomic policy\u001b[0m(0.06, \u001b[94m27\u001b[0m, 1134)\n",
      "\u001b[1mEU aid\u001b[0m(0.06, \u001b[94m1043\u001b[0m, 4167)\n",
      "\u001b[1mearly-stage capital\u001b[0m(0.06, \u001b[94m1\u001b[0m, 3914)\n",
      "\u001b[1mrepatriation of capital\u001b[0m(0.06, \u001b[94m1\u001b[0m, 1468)\n",
      "\u001b[1mcapital city\u001b[0m(0.06, \u001b[94m12\u001b[0m, 3101)\n",
      "\u001b[1mproductivity\u001b[0m(0.06, \u001b[94m3\u001b[0m, 1320)\n",
      "\u001b[1mcapital depreciation\u001b[0m(0.06, \u001b[94m1\u001b[0m, 2334)\n",
      "\u001b[1mroad services department\u001b[0m(0.06, \u001b[94m4\u001b[0m, 2848)\n",
      "\u001b[1mUnited Kingdom OCT\u001b[0m(0.06, \u001b[94m1\u001b[0m, 2109)\n",
      "\u001b[1mterrorism\u001b[0m(0.05, \u001b[94m263\u001b[0m, 2626)\n",
      "\u001b[1mFrench Polynesia\u001b[0m(0.05, \u001b[94m2\u001b[0m, 1181)\n",
      "\u001b[1mcitrus fruit\u001b[0m(0.05, \u001b[94m2988\u001b[0m, 3932)\n",
      "\u001b[1mFrench-speaking Community\u001b[0m(0.05, \u001b[94m1\u001b[0m, 3313)\n",
      "\u001b[1mFrench West Indies\u001b[0m(0.05, \u001b[94m1\u001b[0m, 784)\n",
      "\u001b[1mimport price\u001b[0m(0.05, \u001b[94m2959\u001b[0m, 1247)\n",
      "\u001b[1meconomic sanctions\u001b[0m(0.05, \u001b[94m575\u001b[0m, 2182)\n",
      "\u001b[1mNetherlands OCT\u001b[0m(0.05, \u001b[94m1\u001b[0m, 961)\n",
      "\u001b[1mcapital transfer\u001b[0m(0.05, \u001b[94m18\u001b[0m, 2662)\n",
      "\u001b[1mfinancial aid\u001b[0m(0.04, \u001b[94m375\u001b[0m, 4213)\n",
      "\u001b[1mRéunion\u001b[0m(0.04, \u001b[94m76\u001b[0m, 437)\n",
      "\u001b[1mfree movement of workers\u001b[0m(0.04, \u001b[94m28\u001b[0m, 493)\n",
      "\u001b[1mfruit vegetable\u001b[0m(0.04, \u001b[94m3004\u001b[0m, 471)\n",
      "\u001b[1mfree movement of goods\u001b[0m(0.04, \u001b[94m52\u001b[0m, 490)\n",
      "\u001b[1msupply balance sheet\u001b[0m(0.04, \u001b[94m269\u001b[0m, 2940)\n",
      "\u001b[1mState aid\u001b[0m(0.04, \u001b[94m649\u001b[0m, 4187)\n",
      "\u001b[1mBrussels region\u001b[0m(0.04, \u001b[94m2\u001b[0m, 1586)\n",
      "\u001b[1mEuropean Movement\u001b[0m(0.04, \u001b[94m3\u001b[0m, 769)\n",
      "\u001b[1mmarket economy\u001b[0m(0.04, \u001b[94m5\u001b[0m, 3833)\n",
      "\u001b[1mpip fruit\u001b[0m(0.04, \u001b[94m3005\u001b[0m, 87)\n",
      "\u001b[1mdeath penalty\u001b[0m(0.04, \u001b[94m4\u001b[0m, 987)\n",
      "\u001b[1mministry\u001b[0m(0.04, \u001b[94m1\u001b[0m, 3037)\n",
      "\u001b[1mtariff quota\u001b[0m(0.04, \u001b[94m2271\u001b[0m, 476)\n",
      "\u001b[1mfreedom to provide services\u001b[0m(0.04, \u001b[94m53\u001b[0m, 496)\n",
      "\u001b[1mimport licence\u001b[0m(0.04, \u001b[94m2152\u001b[0m, 503)\n",
      "\u001b[1mhealth certificate\u001b[0m(0.04, \u001b[94m882\u001b[0m, 3216)\n",
      "\u001b[1meconomic conditions\u001b[0m(0.03, \u001b[94m2\u001b[0m, 4119)\n",
      "\u001b[1mfree movement of persons\u001b[0m(0.03, \u001b[94m22\u001b[0m, 492)\n",
      "\u001b[1mcompany with share capital\u001b[0m(0.03, \u001b[94m2\u001b[0m, 2406)\n",
      "\u001b[1msupermarket\u001b[0m(0.03, \u001b[94m1\u001b[0m, 570)\n",
      "\u001b[1mregulation of transactions\u001b[0m(0.03, \u001b[94m7\u001b[0m, 1696)\n",
      "\u001b[1mfreedom of movement\u001b[0m(0.03, \u001b[94m12\u001b[0m, 2214)\n",
      "\u001b[1mprovision\u001b[0m(0.03, \u001b[94m6\u001b[0m, 1880)\n",
      "\u001b[1mveterinary inspection\u001b[0m(0.03, \u001b[94m1233\u001b[0m, 352)\n",
      "\u001b[1mimport\u001b[0m(0.03, \u001b[94m3645\u001b[0m, 232)\n",
      "\u001b[1mmovement certificate\u001b[0m(0.03, \u001b[94m58\u001b[0m, 3215)\n",
      "\u001b[1msocial development\u001b[0m(0.03, \u001b[94m6\u001b[0m, 2494)\n",
      "\u001b[1mUN Development Programme\u001b[0m(0.03, \u001b[94m1\u001b[0m, 1075)\n",
      "\u001b[1manimal disease\u001b[0m(0.03, \u001b[94m881\u001b[0m, 585)\n",
      "\u001b[1mlegislation\u001b[0m(0.03, \u001b[94m9\u001b[0m, 461)\n",
      "\u001b[1mEuropean Central Bank\u001b[0m(0.03, \u001b[94m128\u001b[0m, 3274)\n",
      "\u001b[1moriginating product\u001b[0m(0.03, \u001b[94m2152\u001b[0m, 1369)\n",
      "\u001b[1mmigratory movement\u001b[0m(0.02, \u001b[94m12\u001b[0m, 1209)\n",
      "\u001b[1mVAT\u001b[0m(0.02, \u001b[94m253\u001b[0m, 2734)\n",
      "\u001b[1magreement (EU)\u001b[0m(0.02, \u001b[94m839\u001b[0m, 371)\n",
      "\u001b[1mCongo\u001b[0m(0.02, \u001b[94m7\u001b[0m, 78)\n",
      "\u001b[1mrestoration of customs duties\u001b[0m(0.02, \u001b[94m703\u001b[0m, 1992)\n",
      "\u001b[1mEuropean Economic and Social Committee\u001b[0m(0.02, \u001b[94m181\u001b[0m, 3684)\n",
      "\u001b[1mprovision of services\u001b[0m(0.02, \u001b[94m81\u001b[0m, 1219)\n",
      "\u001b[1mexport of waste\u001b[0m(0.02, \u001b[94m18\u001b[0m, 3190)\n",
      "\u001b[1meconomic development\u001b[0m(0.02, \u001b[94m66\u001b[0m, 2454)\n",
      "\u001b[1mself-determination\u001b[0m(0.02, \u001b[94m2\u001b[0m, 2419)\n",
      "\u001b[1mconsumer movement\u001b[0m(0.02, \u001b[94m11\u001b[0m, 2043)\n",
      "\u001b[1manimal plague\u001b[0m(0.02, \u001b[94m414\u001b[0m, 1015)\n",
      "\u001b[1mproposal (EU)\u001b[0m(0.02, \u001b[94m1\u001b[0m, 1403)\n",
      "\u001b[1missuing of currency\u001b[0m(0.02, \u001b[94m26\u001b[0m, 3975)\n",
      "\u001b[1mACP countries\u001b[0m(0.02, \u001b[94m275\u001b[0m, 3011)\n",
      "\u001b[1maccess to information\u001b[0m(0.02, \u001b[94m65\u001b[0m, 2697)\n",
      "\u001b[1mEcosoc\u001b[0m(0.02, \u001b[94m8\u001b[0m, 2061)\n",
      "\u001b[1msocioeconomic conditions\u001b[0m(0.02, \u001b[94m17\u001b[0m, 4165)\n",
      "\u001b[1mtariff preference\u001b[0m(0.02, \u001b[94m753\u001b[0m, 2564)\n",
      "\u001b[1meuro\u001b[0m(0.02, \u001b[94m157\u001b[0m, 3854)\n",
      "\u001b[1mregulation\u001b[0m(0.02, \u001b[94m5\u001b[0m, 1630)\n",
      "\u001b[1mliberalisation of trade\u001b[0m(0.02, \u001b[94m61\u001b[0m, 481)\n",
      "\u001b[1maid system\u001b[0m(0.02, \u001b[94m827\u001b[0m, 1563)\n",
      "\u001b[1meconomic stabilisation\u001b[0m(0.02, \u001b[94m52\u001b[0m, 2438)\n",
      "\u001b[1maid per hectare\u001b[0m(0.02, \u001b[94m207\u001b[0m, 3997)\n"
     ]
    }
   ],
   "source": [
    "print(get_text(x, Y, val_xshortlist, K=100, sep='\\n', attr='bold', f = lambda ind, val : '%.2f, %s, %d'%(val, _c(nnz[ind], attr='blue'), ind)))"
   ]
  },
  {
   "cell_type": "markdown",
   "metadata": {},
   "source": [
    "### Analyze bilinear"
   ]
  },
  {
   "cell_type": "code",
   "execution_count": 107,
   "metadata": {
    "ExecuteTime": {
     "end_time": "2020-10-14T20:46:44.460110Z",
     "start_time": "2020-10-14T20:46:44.452956Z"
    }
   },
   "outputs": [],
   "source": [
    "bilinear_clf = read_buf_bin_vec(open(f'{RES_DIR}/model/bilinear_clf.bin', 'rb').read(), np.float32)[0]"
   ]
  },
  {
   "cell_type": "code",
   "execution_count": 108,
   "metadata": {
    "ExecuteTime": {
     "end_time": "2020-10-14T20:46:46.396881Z",
     "start_time": "2020-10-14T20:46:46.391157Z"
    }
   },
   "outputs": [
    {
     "data": {
      "text/plain": [
       "((2217694,), 2217693)"
      ]
     },
     "execution_count": 108,
     "metadata": {},
     "output_type": "execute_result"
    }
   ],
   "source": [
    "bilinear_clf.shape, sp_pattern_mat.nnz"
   ]
  },
  {
   "cell_type": "code",
   "execution_count": 110,
   "metadata": {
    "ExecuteTime": {
     "end_time": "2020-10-14T20:46:54.780565Z",
     "start_time": "2020-10-14T20:46:54.775582Z"
    }
   },
   "outputs": [
    {
     "data": {
      "text/plain": [
       "array([-0.5736173 ,  0.12871023,  0.4830132 ,  0.5849314 ,  0.82220685,\n",
       "        0.7778163 ,  0.39703313, -0.04310488,  1.0390685 , -1.6236305 ],\n",
       "      dtype=float32)"
      ]
     },
     "execution_count": 110,
     "metadata": {},
     "output_type": "execute_result"
    }
   ],
   "source": [
    "bilinear_clf[-10:]"
   ]
  },
  {
   "cell_type": "code",
   "execution_count": 113,
   "metadata": {
    "ExecuteTime": {
     "end_time": "2020-10-14T20:48:49.125791Z",
     "start_time": "2020-10-14T20:48:49.097356Z"
    }
   },
   "outputs": [
    {
     "name": "stdout",
     "output_type": "stream",
     "text": [
      "loaded bin file in buffer\n"
     ]
    }
   ],
   "source": [
    "trn_xshortlist = read_bin_spmat(f'{RES_DIR}/model/shortlist.bin')\n",
    "trn_linear_form_mat = read_bin_spmat(f'{RES_DIR}/model/linear_form_mat.bin')\n",
    "\n",
    "sampled_tlfm = trn_linear_form_mat[:100000]"
   ]
  },
  {
   "cell_type": "code",
   "execution_count": 123,
   "metadata": {
    "ExecuteTime": {
     "end_time": "2020-10-14T20:53:39.238032Z",
     "start_time": "2020-10-14T20:53:39.232341Z"
    },
    "scrolled": true
   },
   "outputs": [
    {
     "name": "stdout",
     "output_type": "stream",
     "text": [
      "x = 0 : \n",
      "\u001b[1m\u001b[4mcommon transport policy\u001b[0m(1.00, 1098) \u001b[1m\u001b[4mlegal status\u001b[0m(1.00, 2458) \u001b[1m\u001b[4mcommittee (EU)\u001b[0m(1.00, 3679)\n",
      "EEC Council: Rules of the Transport Committee. ,Having regard to Article 83 of the Treaty establishing the European Economic Community, which provides that an advisory committee consisting of experts designated by the Governments of Member States shall be attached to the Commission and consulted by the latter on transport matters whenever the Commission considers this desirable, without prejudice to the powers of the transport section of the Economic and Social Committee;Having regard to Article 153 of that Treaty, which provides that the Council shall, after receiving an opinion from the Commission, determine the rules governing the committees provided for in that Treaty;Having received an Opinion from the Commission;. that the Rules of the Transport Committee shall be as follows: The Committee shall consist of experts on transport matters designated by the Governments of Member States. Each Government shall designate one expert or two experts selected from among senior officials of the central administration. It may, in addition, designate not more than three experts of acknowledged competence in, respectively, the railway, road transport and inland waterway sectors. Each Government may designate an alternate for each member of the Committee appointed by it; this alternate shall satisfy conditions the same as those for the member of the Committee whom he replaces.Alternates shall attend Committee meetings and take part in the work of the Committee only in the event of full members being unable to do so. Committee members and their alternates shall be appointed in their personal capacity and may not be bound by any mandatory instructions. The term of office for members and their alternates shall be two years. Their appointments may be renewed.In the event of the death, resignation or compulsory retirement of a member or alternate, that member or alternate shall replaced for the remainder of his term of office.The Government which appointed a member or alternate may compulsorily retire that member or alternate only if the member or alternate no longer fulfils the conditions required for the performance of his duties. The Committee shall, by an absolute majority of members present and voting, elect from among the members appointed by virtue of their status as senior officials of the central administration a Chairman and Vice-Chairman, who shall serve as such for two years.Should the Chairman or Vice-Chairman cease to hold office before the period for which he was elected has expired, a replacement for him shall be elected for the remainder of the period for which he was originally elected.Neither the Chairman nor the Vice-Chairman may be re-elected. The Committee shall be convened by the Chairman, at the request of the Commission, whenever the latter wishes to consult it. The Commission's request shall state the purpose of the consultation. When the Committee is consulted by the Commission, it shall present the latter with a report setting out the conclusions reached as a result of its deliberations. It shall do likewise if the Commission entrusts it with the study of a specific problem.The Commission shall also be entitled to consult the Committee orally.The minutes of the Committee shall be sent to the Commission. The Commission shall be invited to send its representatives to meetings of the Committee and its working parties. The Committee shall, by an absolute majority of members present and voting, adopt rules of procedure laying down its methods of working.The Committee may, whenever such action appears to it to be necessary for the purposes of formulating an opinion, seek the assistance of any suitably qualified person, obtain any advice and hold hearings. Such action may, however, be taken only with the consent of the Commission. 0The expenses of the Committee shall be included in the estimates of the Commission.. Done at Brussels, 15 September 1958.For the CouncilThe PresidentL. Erhard--------------------------------------------------\n"
     ]
    }
   ],
   "source": [
    "x = 0\n",
    "print(get_text(x, Y, trn_X_Y))\n",
    "print(trn_X[x])"
   ]
  },
  {
   "cell_type": "code",
   "execution_count": 125,
   "metadata": {
    "ExecuteTime": {
     "end_time": "2020-10-14T21:03:14.634275Z",
     "start_time": "2020-10-14T21:03:14.627617Z"
    },
    "scrolled": true
   },
   "outputs": [
    {
     "name": "stdout",
     "output_type": "stream",
     "text": [
      "x = 0 : \n",
      "\u001b[1m\u001b[4mbias\u001b[0m(\u001b[92m1.00\u001b[0m, \u001b[94m-1.62\u001b[0m, 2217693)\n",
      "\u001b[1m\u001b[4m[x[79870](inland waterway) : y[18786](waterway fleet)]\u001b[0m(\u001b[92m0.28\u001b[0m, \u001b[94m0.62\u001b[0m, 1590268)\n",
      "\u001b[1m\u001b[4m[x[79870](inland waterway) : y[19096](__label__25__inland waterway fleet)]\u001b[0m(\u001b[92m0.28\u001b[0m, \u001b[94m0.62\u001b[0m, 1590272)\n",
      "\u001b[1m\u001b[4m[x[47754](waterway) : y[18786](waterway fleet)]\u001b[0m(\u001b[92m0.28\u001b[0m, \u001b[94m0.14\u001b[0m, 947801)\n",
      "\u001b[1m\u001b[4m[x[47754](waterway) : y[19096](__label__25__inland waterway fleet)]\u001b[0m(\u001b[92m0.28\u001b[0m, \u001b[94m0.14\u001b[0m, 947805)\n",
      "\u001b[1m\u001b[4m[x[79870](inland waterway) : y[11352](inland waterway)]\u001b[0m(\u001b[92m0.25\u001b[0m, \u001b[94m-0.12\u001b[0m, 1590261)\n",
      "\u001b[1m\u001b[4m[x[47754](waterway) : y[11352](inland waterway)]\u001b[0m(\u001b[92m0.25\u001b[0m, \u001b[94m0.20\u001b[0m, 947794)\n",
      "\u001b[1m\u001b[4m[x[79870](inland waterway) : y[23935](__parent__4515)]\u001b[0m(\u001b[92m0.25\u001b[0m, \u001b[94m-0.05\u001b[0m, 1590275)\n",
      "\u001b[1m\u001b[4m[x[47754](waterway) : y[23935](__parent__4515)]\u001b[0m(\u001b[92m0.24\u001b[0m, \u001b[94m0.27\u001b[0m, 947808)\n",
      "\u001b[1m\u001b[4m[x[27594](inland) : y[11352](inland waterway)]\u001b[0m(\u001b[92m0.24\u001b[0m, \u001b[94m-0.01\u001b[0m, 547844)\n",
      "\u001b[1m\u001b[4m[x[79870](inland waterway) : y[2135](inland)]\u001b[0m(\u001b[92m0.24\u001b[0m, \u001b[94m-0.41\u001b[0m, 1590257)\n",
      "\u001b[1m\u001b[4m[x[79870](inland waterway) : y[4367](waterway)]\u001b[0m(\u001b[92m0.24\u001b[0m, \u001b[94m-0.14\u001b[0m, 1590258)\n",
      "\u001b[1m\u001b[4m[x[27594](inland) : y[23935](__parent__4515)]\u001b[0m(\u001b[92m0.24\u001b[0m, \u001b[94m0.15\u001b[0m, 547858)\n",
      "\u001b[1m\u001b[4m[x[47754](waterway) : y[4367](waterway)]\u001b[0m(\u001b[92m0.23\u001b[0m, \u001b[94m0.16\u001b[0m, 947791)\n",
      "\u001b[1m\u001b[4m[x[47754](waterway) : y[2135](inland)]\u001b[0m(\u001b[92m0.23\u001b[0m, \u001b[94m0.21\u001b[0m, 947790)\n",
      "\u001b[1m\u001b[4m[x[27594](inland) : y[4367](waterway)]\u001b[0m(\u001b[92m0.23\u001b[0m, \u001b[94m-0.13\u001b[0m, 547841)\n",
      "\u001b[1m\u001b[4m[x[27594](inland) : y[2135](inland)]\u001b[0m(\u001b[92m0.23\u001b[0m, \u001b[94m0.76\u001b[0m, 547840)\n"
     ]
    }
   ],
   "source": [
    "print(get_text(0, pair_xfs, sampled_tlfm, sep='\\n', f = lambda ind, val : '%s, %s, %d'%(_c('%.2f'%val, attr='green'), _c('%.2f'%bilinear_clf[ind], attr='blue'), ind)))"
   ]
  },
  {
   "cell_type": "code",
   "execution_count": 81,
   "metadata": {
    "ExecuteTime": {
     "end_time": "2020-10-14T14:38:49.227442Z",
     "start_time": "2020-10-14T14:38:48.985849Z"
    },
    "scrolled": true
   },
   "outputs": [
    {
     "name": "stdout",
     "output_type": "stream",
     "text": [
      "[x[20314](dissolut) : y[20867](__label__1861__republic)] 8.824594\n",
      "[x[96944](thereto 2) : y[23208](fingal)] 7.322508\n",
      "[x[99134](wherea implement) : y[19152](__label__84__fruit)] 7.0405354\n",
      "[x[79278](import valu) : y[23208](fingal)] 6.2630157\n",
      "[x[66422](buy skim) : y[19497](__label__441__milk)] 5.98454\n",
      "[x[61285](97 tabl) : y[9931](fix amount)] 5.8275075\n",
      "[x[79225](import price) : y[11084](import price)] 5.681644\n",
      "[x[37698](presidentjoao) : y[20867](__label__1861__republic)] 5.513355\n",
      "[x[32192](melon) : y[2561](melon)] 5.4899225\n",
      "[x[32428](mexico) : y[2591](mexico)] 5.399579\n",
      "[x[95261](statist nomenclatur) : y[17149](statist nomenclatur)] 5.362549\n",
      "[x[96430](tariff concess) : y[17545](tariff concess)] 5.25389\n",
      "[x[55338](2009 protect) : y[11079](import eu)] 5.1911826\n",
      "[x[55338](2009 protect) : y[6872](communiti import)] 5.1911826\n",
      "[x[72547](duti level) : y[21313](__label__2323__customs duties)] 5.1337233\n",
      "[x[13520](aubergin) : y[269](aubergin)] 5.054527\n",
      "[x[99134](wherea implement) : y[19522](__label__468__vegetable)] 5.0014377\n",
      "[x[90200](quota 2014) : y[212](001209)] 4.9940886\n",
      "[x[31461](maiz) : y[19633](__label__580__maize)] 4.9901996\n",
      "[x[18656](courgett) : y[960](courgett)] 4.916713\n",
      "[x[53493](1997 lay) : y[20400](__label__1369__originating product; origin of goods; product orig)] 4.900812\n",
      "[x[16904](chairpersonm) : y[4759](african republ)] 4.825022\n",
      "[x[62153](address feder) : y[23948](__parent__4590)] 4.7886047\n",
      "[x[75228](eur great) : y[21313](eh54)] 4.7631073\n",
      "[x[23123](fig) : y[1622](fig)] 4.688825\n",
      "[x[67066](cereal regard) : y[22168](__label__3208__cereals)] 4.671651\n",
      "[x[96905](therein 2014) : y[212](001209)] 4.5622396\n",
      "[x[68452](common organ) : y[6799](common organ)] 4.539627\n",
      "[x[78498](held negoti) : y[22061](__label__3098__fishing regulations)] 4.5354176\n",
      "[x[54464](2001 fix) : y[6832](communiti aid)] 4.51825\n",
      "[x[25300](guinea) : y[19227](__label__163__Guinea; Republic of Guinea)] 4.5072308\n",
      "[x[2132](134th) : y[19087](__label__16__fixing of prices; price proposal; pricing)] 4.4787765\n",
      "[x[3827](2009cn) : y[22168](__label__3208__cereals)] 4.4253035\n",
      "[x[85133](notifi request) : y[12244](limit import)] 4.4131446\n",
      "[x[73589](ecu shall) : y[19871](__label__827__cooperation agreement)] 4.3604646\n",
      "[x[95786](substitut articl) : y[21455](__label__2470__storage; storage facility; storage site; warehouse)] 4.3282704\n",
      "[x[79367](includ fruit) : y[19152](__label__84__fruit)] 4.327484\n",
      "[x[76383](financ programm) : y[19075](__label__4__EU financing; Community financing; European Union)] 4.3142095\n",
      "[x[96444](tariff quota) : y[17557](tariff quota)] 4.3029118\n",
      "[x[78420](health certif) : y[10794](health certif)] 4.2699614\n",
      "[x[90608](record member) : y[6626](cmo common)] 4.2698445\n",
      "[x[78420](health certif) : y[22176](__label__3216__health certificate)] 4.2698126\n",
      "[x[56218](26 28) : y[21290](__label__2300__association agreement (EU); EC association agreeme)] 4.2504096\n",
      "[x[79117](import 4) : y[19292](__label__232__import)] 4.229357\n",
      "[x[6452](3575) : y[21468](__label__2483__regional development)] 4.2071505\n",
      "[x[17138](china) : y[6508](china peopl)] 4.2053347\n",
      "[x[17138](china) : y[22570](__label__3627__China; People’s Republic of China)] 4.2052326\n",
      "[x[81169](l 319) : y[9523](export sale)] 4.1915703\n",
      "[x[17621](cocoa) : y[21976](__label__3008__cocoa)] 4.186716\n",
      "[x[71275](decis implement) : y[4452](yugoslavia)] 4.185442\n",
      "[x[36852](pimiento) : y[3081](pimiento)] 4.179856\n",
      "[x[65483](award shall) : y[9511](export export)] 4.1599507\n",
      "[x[15871](butter) : y[21897](__label__2928__butter)] 4.147494\n",
      "[x[2177](1379) : y[19186](__label__121__fishery management; fishery planning; fishery syst)] 4.141473\n",
      "[x[53872](2 countri) : y[20505](__label__1479__ratio)] 4.141105\n",
      "[x[69246](concerned1701 11) : y[24193](gamleby594)] 4.136065\n",
      "[x[97456](transport product) : y[20867](__label__1861__republic)] 4.130306\n",
      "[x[73812](eec 24) : y[19152](__label__84__fruit)] 4.0669594\n",
      "[x[79367](includ fruit) : y[19522](__label__468__vegetable)] 4.066898\n",
      "[x[65097](august 31) : y[19152](__label__84__fruit)] 4.0666885\n",
      "[x[96573](ten day) : y[18148](transport regul)] 3.989563\n",
      "[x[91990](request opinion) : y[15895](request opinion)] 3.9841495\n",
      "[x[23765](franc) : y[10177](franc french)] 3.973844\n",
      "[x[23765](franc) : y[19126](__label__56__France; French Republic)] 3.9737298\n",
      "[x[91080](region aid) : y[15559](region aid)] 3.9436703\n",
      "[x[59215](67 14) : y[9639](farm product)] 3.9374344\n",
      "[x[68294](commit appropri) : y[6758](commit appropri)] 3.8970406\n",
      "[x[79957](instrument shall) : y[19419](__label__361__financial instrument)] 3.867415\n",
      "[x[34353](nk603xmon810) : y[7232](control foodstuff)] 3.8563244\n",
      "[x[97659](type approv) : y[21751](__label__2776__motor vehicle)] 3.8542137\n",
      "[x[27681](institutef) : y[23068](ff)] 3.8537068\n",
      "[x[82471](macedonia 1) : y[1702](former)] 3.8512635\n",
      "[x[96432](tariff duti) : y[17547](tariff duti)] 3.8486903\n",
      "[x[29841](kyrgyzstan) : y[2297](kyrgyzstan)] 3.8257525\n",
      "[x[59038](60 million) : y[7924](develop aid)] 3.8022764\n",
      "[x[64614](arrang regul) : y[19341](__label__282__fishing industry; fishing; fishing activity)] 3.7922938\n",
      "[x[53525](1998 conclus) : y[23575](__parent__26)] 3.7870314\n",
      "[x[60953](93 6) : y[19292](__label__232__import)] 3.7827842\n",
      "[x[12116](aluminosil) : y[22507](__label__3562__animal health)] 3.7705383\n",
      "[x[68577](communiti control) : y[6848](communiti control)] 3.7542107\n",
      "[x[72193](diseas present) : y[3957](swine)] 3.7205822\n",
      "[x[50439](05 b) : y[20279](__label__1245__prices)] 3.7094445\n",
      "[x[37271](pomelo) : y[3146](pomelo)] 3.6929402\n",
      "[x[65097](august 31) : y[19522](__label__468__vegetable)] 3.692457\n",
      "[x[59936](8 thereof) : y[6832](communiti aid)] 3.6597278\n",
      "[x[74306](eib lend) : y[21468](__label__2483__regional development)] 3.6458828\n",
      "[x[3702](2005cn) : y[24003](__parent__4994)] 3.6233912\n",
      "[x[92385](restrict certain) : y[4927](agricultur year)] 3.619813\n",
      "[x[98374](variet convers) : y[22976](__label__4057__production aid; aid to producers)] 3.6197195\n",
      "[x[90393](rate eur) : y[24132](__parent__5774)] 3.5933821\n",
      "[x[22926](feedingstuff) : y[1606](feed)] 3.5873377\n",
      "[x[90401](rate import) : y[21313](__label__2323__customs duties)] 3.570108\n",
      "[x[1964](1280) : y[19140](__label__71__cheese)] 3.5436769\n",
      "[x[82601](maiz import) : y[19633](__label__580__maize)] 3.5394244\n",
      "[x[19529](defray) : y[9026](equalis financi)] 3.5352004\n",
      "[x[19529](defray) : y[20029](__label__990__financial equalisation; financial compensation; fi)] 3.5352004\n",
      "[x[65839](basi quotat) : y[655](cct)] 3.5316248\n",
      "[x[87406](plant product) : y[14307](plant product)] 3.5309367\n",
      "[x[17991](communitygeneva) : y[4251](uruguay)] 3.5272758\n",
      "[x[77770](germani luxembourg) : y[19126](__label__56__France; French Republic)] 3.526616\n"
     ]
    }
   ],
   "source": [
    "sorted_inds = np.argsort(-bilinear_clf)\n",
    "for i in sorted_inds[:100]:\n",
    "    print(pair_xfs[i], bilinear_clf[i])"
   ]
  },
  {
   "cell_type": "code",
   "execution_count": 464,
   "metadata": {
    "ExecuteTime": {
     "end_time": "2020-10-08T12:55:40.132576Z",
     "start_time": "2020-10-08T12:55:40.128275Z"
    }
   },
   "outputs": [
    {
     "data": {
      "text/plain": [
       "(1108383,)"
      ]
     },
     "execution_count": 464,
     "metadata": {},
     "output_type": "execute_result"
    }
   ],
   "source": [
    "learnt_sp_pattern_mat = sp_pattern_mat.copy()"
   ]
  },
  {
   "cell_type": "code",
   "execution_count": 39,
   "metadata": {
    "ExecuteTime": {
     "end_time": "2020-10-08T16:10:50.966430Z",
     "start_time": "2020-10-08T16:10:50.111655Z"
    }
   },
   "outputs": [],
   "source": [
    "shortlist = (tst_X_Xf.dot(binarize(sp_pattern_mat, copy=True))).dot(Y_Xf.T)\n",
    "# shortlist = (tst_X_Xf.dot(binarize(sp_pattern_mat, copy=True))).dot(Y_Xf.T)"
   ]
  },
  {
   "cell_type": "code",
   "execution_count": 40,
   "metadata": {
    "ExecuteTime": {
     "end_time": "2020-10-08T16:10:59.430337Z",
     "start_time": "2020-10-08T16:10:57.597584Z"
    }
   },
   "outputs": [],
   "source": [
    "topk_shortlist = xclib.utils.sparse.retain_topk(shortlist.copy(), copy=False, k=100)"
   ]
  },
  {
   "cell_type": "code",
   "execution_count": 10,
   "metadata": {
    "ExecuteTime": {
     "end_time": "2020-10-08T16:43:40.991639Z",
     "start_time": "2020-10-08T16:43:40.957885Z"
    }
   },
   "outputs": [
    {
     "name": "stdout",
     "output_type": "stream",
     "text": [
      "loaded bin file in buffer\n",
      "loaded bin file in buffer\n"
     ]
    }
   ],
   "source": [
    "trn_xshortlist = read_bin_spmat(f'{RES_DIR}/trn_xshortlist.bin')\n",
    "tst_xshortlist = read_bin_spmat(f'{RES_DIR}/tst_xshortlist.bin')"
   ]
  },
  {
   "cell_type": "code",
   "execution_count": 15,
   "metadata": {
    "ExecuteTime": {
     "end_time": "2020-10-08T16:46:11.044365Z",
     "start_time": "2020-10-08T16:46:11.040314Z"
    }
   },
   "outputs": [
    {
     "data": {
      "text/plain": [
       "<numpy.vectorize at 0x7f9b36098a90>"
      ]
     },
     "execution_count": 15,
     "metadata": {},
     "output_type": "execute_result"
    }
   ],
   "source": [
    "inv_valid_labels"
   ]
  },
  {
   "cell_type": "code",
   "execution_count": 19,
   "metadata": {
    "ExecuteTime": {
     "end_time": "2020-10-08T16:48:11.856445Z",
     "start_time": "2020-10-08T16:48:11.823705Z"
    }
   },
   "outputs": [
    {
     "data": {
      "text/plain": [
       "625.8653084323713"
      ]
     },
     "execution_count": 19,
     "metadata": {},
     "output_type": "execute_result"
    }
   ],
   "source": [
    "trn_xshortlist.getnnz(0)[inv_valid_labels(np.where((nnz > 0) & (nnz <= 5))[0])].mean()"
   ]
  },
  {
   "cell_type": "code",
   "execution_count": 458,
   "metadata": {
    "ExecuteTime": {
     "end_time": "2020-10-08T12:01:17.619089Z",
     "start_time": "2020-10-08T12:01:17.498510Z"
    },
    "scrolled": true
   },
   "outputs": [
    {
     "data": {
      "text/plain": [
       "{'R@1': 13.144911584516846,\n",
       " 'R@50': 60.26923516971504,\n",
       " 'R@100': 68.9052960978077,\n",
       " 'R@500': 68.9052960978077,\n",
       " 'R@1000': 68.9052960978077}"
      ]
     },
     "execution_count": 458,
     "metadata": {},
     "output_type": "execute_result"
    }
   ],
   "source": [
    "recall(topk_shortlist, tst_X_Y, K=[1, 50, 100, 500, 1000])"
   ]
  },
  {
   "cell_type": "code",
   "execution_count": 298,
   "metadata": {
    "ExecuteTime": {
     "end_time": "2020-10-07T12:20:54.482953Z",
     "start_time": "2020-10-07T12:20:50.612331Z"
    }
   },
   "outputs": [
    {
     "data": {
      "text/plain": [
       "{'R@100': 73.54989315912846,\n",
       " 'R@500': 87.95412884591806,\n",
       " 'R@1000': 89.36961768297063}"
      ]
     },
     "execution_count": 298,
     "metadata": {},
     "output_type": "execute_result"
    }
   ],
   "source": [
    "recall(temp, trn_X_Y, K=[100, 500, 1000])"
   ]
  },
  {
   "cell_type": "code",
   "execution_count": 37,
   "metadata": {
    "ExecuteTime": {
     "end_time": "2020-10-08T16:09:26.177481Z",
     "start_time": "2020-10-08T16:09:26.082822Z"
    }
   },
   "outputs": [],
   "source": [
    "temp = tst_X_Xf.dot(Y_Xf.T)"
   ]
  },
  {
   "cell_type": "code",
   "execution_count": 34,
   "metadata": {
    "ExecuteTime": {
     "end_time": "2020-10-08T16:08:07.327036Z",
     "start_time": "2020-10-08T16:08:07.313976Z"
    }
   },
   "outputs": [],
   "source": [
    "alpha = 0.95\n",
    "score_mat = alpha*clf_score_mat + (1-alpha)*tst_"
   ]
  },
  {
   "cell_type": "code",
   "execution_count": 123,
   "metadata": {
    "ExecuteTime": {
     "end_time": "2020-10-10T17:39:36.270485Z",
     "start_time": "2020-10-10T17:39:36.263880Z"
    }
   },
   "outputs": [
    {
     "name": "stdout",
     "output_type": "stream",
     "text": [
      "loaded bin file in buffer\n"
     ]
    }
   ],
   "source": [
    "direct_xf_yf = read_bin_spmat(f'/scratch/nilesh/experiments/genexml/Results/{dataset}/model/direct_Xf_Yf.bin').tocoo()"
   ]
  },
  {
   "cell_type": "code",
   "execution_count": 124,
   "metadata": {
    "ExecuteTime": {
     "end_time": "2020-10-10T17:39:38.150131Z",
     "start_time": "2020-10-10T17:39:38.145601Z"
    }
   },
   "outputs": [
    {
     "data": {
      "text/plain": [
       "6300"
      ]
     },
     "execution_count": 124,
     "metadata": {},
     "output_type": "execute_result"
    }
   ],
   "source": [
    "direct_xf_yf.nnz"
   ]
  },
  {
   "cell_type": "code",
   "execution_count": 22,
   "metadata": {
    "ExecuteTime": {
     "end_time": "2020-10-10T10:53:32.780211Z",
     "start_time": "2020-10-10T10:53:32.775557Z"
    }
   },
   "outputs": [
    {
     "data": {
      "text/plain": [
       "('contain', 'contain')"
      ]
     },
     "execution_count": 22,
     "metadata": {},
     "output_type": "execute_result"
    }
   ],
   "source": [
    "ind = 798\n",
    "xfs[direct_xf_yf.row[ind]], yfs[direct_xf_yf.col[ind]]"
   ]
  },
  {
   "cell_type": "code",
   "execution_count": 28,
   "metadata": {
    "ExecuteTime": {
     "end_time": "2020-10-10T11:01:02.817133Z",
     "start_time": "2020-10-10T11:01:02.582999Z"
    }
   },
   "outputs": [],
   "source": [
    "alpha = 0.9; beta = 0.05; gamma = 0.05\n",
    "score_mat = normalize(clf_score_mat, norm=\"max\")*alpha + normalize(bilinear_score_mat, norm=\"max\")*beta + normalize(knn_score_mat, norm=\"max\")*gamma"
   ]
  },
  {
   "cell_type": "code",
   "execution_count": 166,
   "metadata": {
    "ExecuteTime": {
     "end_time": "2020-10-10T18:28:05.983043Z",
     "start_time": "2020-10-10T18:28:05.888809Z"
    }
   },
   "outputs": [
    {
     "name": "stdout",
     "output_type": "stream",
     "text": [
      "loaded bin file in buffer\n",
      "loaded bin file in buffer\n",
      "loaded bin file in buffer\n"
     ]
    }
   ],
   "source": [
    "clf_score_mat = read_bin_spmat(f'{RES_DIR}/clf_score_mat.bin').copy()\n",
    "bilinear_score_mat = read_bin_spmat(f'{RES_DIR}/bilinear_score_mat.bin').copy()\n",
    "knn_score_mat = read_bin_spmat(f'{RES_DIR}/knn_score_mat.bin').copy()\n",
    "\n",
    "# # trn_xshortlist = read_bin_spmat(f'{RES_DIR}/trn_xshortlist.bin')\n",
    "# tst_xshortlist = read_bin_spmat(f'{RES_DIR}/shortlist.bin')"
   ]
  },
  {
   "cell_type": "code",
   "execution_count": 168,
   "metadata": {
    "ExecuteTime": {
     "end_time": "2020-10-10T18:28:37.498291Z",
     "start_time": "2020-10-10T18:28:37.012324Z"
    },
    "scrolled": true
   },
   "outputs": [
    {
     "name": "stdout",
     "output_type": "stream",
     "text": [
      "\u001b[1mGZSL metrics (shape=(6000, 4271)): \u001b[0m\n"
     ]
    },
    {
     "data": {
      "text/html": [
       "<div>\n",
       "<style scoped>\n",
       "    .dataframe tbody tr th:only-of-type {\n",
       "        vertical-align: middle;\n",
       "    }\n",
       "\n",
       "    .dataframe tbody tr th {\n",
       "        vertical-align: top;\n",
       "    }\n",
       "\n",
       "    .dataframe thead th {\n",
       "        text-align: right;\n",
       "    }\n",
       "</style>\n",
       "<table border=\"1\" class=\"dataframe\">\n",
       "  <thead>\n",
       "    <tr style=\"text-align: right;\">\n",
       "      <th></th>\n",
       "      <th>1</th>\n",
       "      <th>2</th>\n",
       "      <th>3</th>\n",
       "      <th>4</th>\n",
       "      <th>5</th>\n",
       "    </tr>\n",
       "  </thead>\n",
       "  <tbody>\n",
       "    <tr>\n",
       "      <th>P</th>\n",
       "      <td>87.33</td>\n",
       "      <td>79.71</td>\n",
       "      <td>71.64</td>\n",
       "      <td>63.31</td>\n",
       "      <td>55.72</td>\n",
       "    </tr>\n",
       "    <tr>\n",
       "      <th>nDCG</th>\n",
       "      <td>87.33</td>\n",
       "      <td>81.65</td>\n",
       "      <td>76.62</td>\n",
       "      <td>72.75</td>\n",
       "      <td>70.11</td>\n",
       "    </tr>\n",
       "    <tr>\n",
       "      <th>PSP</th>\n",
       "      <td>48.95</td>\n",
       "      <td>52.56</td>\n",
       "      <td>53.53</td>\n",
       "      <td>53.22</td>\n",
       "      <td>52.63</td>\n",
       "    </tr>\n",
       "    <tr>\n",
       "      <th>PSnDCG</th>\n",
       "      <td>48.95</td>\n",
       "      <td>51.69</td>\n",
       "      <td>52.63</td>\n",
       "      <td>52.88</td>\n",
       "      <td>52.94</td>\n",
       "    </tr>\n",
       "  </tbody>\n",
       "</table>\n",
       "</div>"
      ],
      "text/plain": [
       "            1      2      3      4      5\n",
       "P       87.33  79.71  71.64  63.31  55.72\n",
       "nDCG    87.33  81.65  76.62  72.75  70.11\n",
       "PSP     48.95  52.56  53.53  53.22  52.63\n",
       "PSnDCG  48.95  51.69  52.63  52.88  52.94"
      ]
     },
     "metadata": {},
     "output_type": "display_data"
    },
    {
     "name": "stdout",
     "output_type": "stream",
     "text": [
      "\u001b[1mFewShot metrics (shape=(524, 1930)): \u001b[0m\n"
     ]
    },
    {
     "data": {
      "text/html": [
       "<div>\n",
       "<style scoped>\n",
       "    .dataframe tbody tr th:only-of-type {\n",
       "        vertical-align: middle;\n",
       "    }\n",
       "\n",
       "    .dataframe tbody tr th {\n",
       "        vertical-align: top;\n",
       "    }\n",
       "\n",
       "    .dataframe thead th {\n",
       "        text-align: right;\n",
       "    }\n",
       "</style>\n",
       "<table border=\"1\" class=\"dataframe\">\n",
       "  <thead>\n",
       "    <tr style=\"text-align: right;\">\n",
       "      <th></th>\n",
       "      <th>1</th>\n",
       "      <th>2</th>\n",
       "      <th>3</th>\n",
       "      <th>4</th>\n",
       "      <th>5</th>\n",
       "    </tr>\n",
       "  </thead>\n",
       "  <tbody>\n",
       "    <tr>\n",
       "      <th>P</th>\n",
       "      <td>17.56</td>\n",
       "      <td>12.50</td>\n",
       "      <td>10.24</td>\n",
       "      <td>8.59</td>\n",
       "      <td>7.4</td>\n",
       "    </tr>\n",
       "    <tr>\n",
       "      <th>nDCG</th>\n",
       "      <td>17.56</td>\n",
       "      <td>19.35</td>\n",
       "      <td>21.33</td>\n",
       "      <td>22.51</td>\n",
       "      <td>23.3</td>\n",
       "    </tr>\n",
       "  </tbody>\n",
       "</table>\n",
       "</div>"
      ],
      "text/plain": [
       "          1      2      3      4     5\n",
       "P     17.56  12.50  10.24   8.59   7.4\n",
       "nDCG  17.56  19.35  21.33  22.51  23.3"
      ]
     },
     "metadata": {},
     "output_type": "display_data"
    },
    {
     "name": "stdout",
     "output_type": "stream",
     "text": [
      "\u001b[1mSZSL metrics (shape=(89, 163)): \u001b[0m\n"
     ]
    },
    {
     "data": {
      "text/html": [
       "<div>\n",
       "<style scoped>\n",
       "    .dataframe tbody tr th:only-of-type {\n",
       "        vertical-align: middle;\n",
       "    }\n",
       "\n",
       "    .dataframe tbody tr th {\n",
       "        vertical-align: top;\n",
       "    }\n",
       "\n",
       "    .dataframe thead th {\n",
       "        text-align: right;\n",
       "    }\n",
       "</style>\n",
       "<table border=\"1\" class=\"dataframe\">\n",
       "  <thead>\n",
       "    <tr style=\"text-align: right;\">\n",
       "      <th></th>\n",
       "      <th>1</th>\n",
       "      <th>2</th>\n",
       "      <th>3</th>\n",
       "      <th>4</th>\n",
       "      <th>5</th>\n",
       "    </tr>\n",
       "  </thead>\n",
       "  <tbody>\n",
       "    <tr>\n",
       "      <th>P</th>\n",
       "      <td>29.21</td>\n",
       "      <td>21.91</td>\n",
       "      <td>14.98</td>\n",
       "      <td>11.52</td>\n",
       "      <td>9.21</td>\n",
       "    </tr>\n",
       "    <tr>\n",
       "      <th>nDCG</th>\n",
       "      <td>29.21</td>\n",
       "      <td>35.16</td>\n",
       "      <td>35.72</td>\n",
       "      <td>36.20</td>\n",
       "      <td>36.20</td>\n",
       "    </tr>\n",
       "  </tbody>\n",
       "</table>\n",
       "</div>"
      ],
      "text/plain": [
       "          1      2      3      4      5\n",
       "P     29.21  21.91  14.98  11.52   9.21\n",
       "nDCG  29.21  35.16  35.72  36.20  36.20"
      ]
     },
     "metadata": {},
     "output_type": "display_data"
    },
    {
     "name": "stdout",
     "output_type": "stream",
     "text": [
      "\u001b[1mXC metrics (shape=(6000, 4108)): \u001b[0m\n"
     ]
    },
    {
     "data": {
      "text/html": [
       "<div>\n",
       "<style scoped>\n",
       "    .dataframe tbody tr th:only-of-type {\n",
       "        vertical-align: middle;\n",
       "    }\n",
       "\n",
       "    .dataframe tbody tr th {\n",
       "        vertical-align: top;\n",
       "    }\n",
       "\n",
       "    .dataframe thead th {\n",
       "        text-align: right;\n",
       "    }\n",
       "</style>\n",
       "<table border=\"1\" class=\"dataframe\">\n",
       "  <thead>\n",
       "    <tr style=\"text-align: right;\">\n",
       "      <th></th>\n",
       "      <th>1</th>\n",
       "      <th>2</th>\n",
       "      <th>3</th>\n",
       "      <th>4</th>\n",
       "      <th>5</th>\n",
       "    </tr>\n",
       "  </thead>\n",
       "  <tbody>\n",
       "    <tr>\n",
       "      <th>P</th>\n",
       "      <td>87.48</td>\n",
       "      <td>79.89</td>\n",
       "      <td>71.86</td>\n",
       "      <td>63.50</td>\n",
       "      <td>55.84</td>\n",
       "    </tr>\n",
       "    <tr>\n",
       "      <th>nDCG</th>\n",
       "      <td>87.48</td>\n",
       "      <td>81.83</td>\n",
       "      <td>76.83</td>\n",
       "      <td>72.97</td>\n",
       "      <td>70.30</td>\n",
       "    </tr>\n",
       "    <tr>\n",
       "      <th>PSP</th>\n",
       "      <td>50.91</td>\n",
       "      <td>54.16</td>\n",
       "      <td>55.01</td>\n",
       "      <td>54.57</td>\n",
       "      <td>53.84</td>\n",
       "    </tr>\n",
       "    <tr>\n",
       "      <th>PSnDCG</th>\n",
       "      <td>50.91</td>\n",
       "      <td>53.37</td>\n",
       "      <td>54.22</td>\n",
       "      <td>54.37</td>\n",
       "      <td>54.32</td>\n",
       "    </tr>\n",
       "  </tbody>\n",
       "</table>\n",
       "</div>"
      ],
      "text/plain": [
       "            1      2      3      4      5\n",
       "P       87.48  79.89  71.86  63.50  55.84\n",
       "nDCG    87.48  81.83  76.83  72.97  70.30\n",
       "PSP     50.91  54.16  55.01  54.57  53.84\n",
       "PSnDCG  50.91  53.37  54.22  54.37  54.32"
      ]
     },
     "metadata": {},
     "output_type": "display_data"
    }
   ],
   "source": [
    "get_irm_metrics(bilinear_score_mat);\n",
    "# get_irm_metrics(tst_X_Y);\n",
    "# get_irm_metrics(tst_xshortlist);"
   ]
  },
  {
   "cell_type": "code",
   "execution_count": null,
   "metadata": {},
   "outputs": [],
   "source": []
  }
 ],
 "metadata": {
  "kernelspec": {
   "display_name": "Python 3",
   "language": "python",
   "name": "python3"
  },
  "language_info": {
   "codemirror_mode": {
    "name": "ipython",
    "version": 3
   },
   "file_extension": ".py",
   "mimetype": "text/x-python",
   "name": "python",
   "nbconvert_exporter": "python",
   "pygments_lexer": "ipython3",
   "version": "3.7.9"
  }
 },
 "nbformat": 4,
 "nbformat_minor": 4
}
