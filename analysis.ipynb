{
 "cells": [
  {
   "cell_type": "code",
   "execution_count": 1,
   "metadata": {
    "ExecuteTime": {
     "end_time": "2021-02-07T14:50:20.853870Z",
     "start_time": "2021-02-07T14:50:08.867373Z"
    },
    "scrolled": true
   },
   "outputs": [
    {
     "data": {
      "text/html": [
       "<style>.container { width:100% !important; }</style>"
      ],
      "text/plain": [
       "<IPython.core.display.HTML object>"
      ]
     },
     "metadata": {},
     "output_type": "display_data"
    }
   ],
   "source": [
    "%run resources.ipynb\n",
    "\n",
    "dataset = 'GZ-Wikipedia-1M'\n",
    "results_dir = 'Results/analysis/%s'%(dataset)\n",
    "if not os.path.exists( results_dir ):\n",
    "    os.makedirs( results_dir )\n",
    "    \n",
    "%run nns.ipynb"
   ]
  },
  {
   "cell_type": "code",
   "execution_count": 2,
   "metadata": {
    "ExecuteTime": {
     "end_time": "2021-02-07T14:50:20.857867Z",
     "start_time": "2021-02-07T14:50:20.855809Z"
    }
   },
   "outputs": [],
   "source": [
    "from xclib.utils.sparse import binarize\n",
    "from xclib.utils.sparse import retain_topk\n",
    "import random"
   ]
  },
  {
   "cell_type": "code",
   "execution_count": 3,
   "metadata": {
    "ExecuteTime": {
     "end_time": "2021-02-07T14:50:20.890676Z",
     "start_time": "2021-02-07T14:50:20.859582Z"
    }
   },
   "outputs": [],
   "source": [
    "RES_DIR = f'Results/{dataset}'\n",
    "DATA_DIR = f'GZXML-Datasets/{dataset}'"
   ]
  },
  {
   "cell_type": "code",
   "execution_count": 4,
   "metadata": {
    "ExecuteTime": {
     "end_time": "2021-02-07T14:55:41.860475Z",
     "start_time": "2021-02-07T14:55:41.857692Z"
    }
   },
   "outputs": [],
   "source": [
    "plt.style.use('seaborn')"
   ]
  },
  {
   "cell_type": "code",
   "execution_count": 5,
   "metadata": {
    "ExecuteTime": {
     "end_time": "2020-12-02T13:07:12.393542Z",
     "start_time": "2020-12-02T13:07:12.385710Z"
    }
   },
   "outputs": [],
   "source": [
    "# import scipy.stats\n",
    "\n",
    "# def mean_confidence_interval(data, confidence=0.95):\n",
    "#     a = 1.0 * np.array(data)\n",
    "#     n = len(a)\n",
    "#     m, se = np.mean(a), scipy.stats.sem(a)\n",
    "#     h = se * scipy.stats.t.ppf((1 + confidence) / 2., n-1)\n",
    "#     return f'{\"%.2f\"%m} +- {\"%.4f\"%h}'\n",
    "\n",
    "# def printacc(score_mat, K = 5, X_Y = None, num_splits=100, disp = False, inv_prop_ = -1):\n",
    "#     if X_Y is None: X_Y = tst_X_Y\n",
    "#     if inv_prop_ is -1 : inv_prop_ = inv_prop\n",
    "#     rand_inds = np.random.permutation(score_mat.shape[0])\n",
    "#     bsz = score_mat.shape[0]//num_splits\n",
    "    \n",
    "#     metrics = []\n",
    "#     for ctr in range(0, score_mat.shape[0], bsz):\n",
    "#         cur_rand_inds = rand_inds[ctr:ctr+bsz]\n",
    "#         acc = xc_metrics.Metrics(X_Y[cur_rand_inds].tocsr().astype(np.bool), inv_prop_)\n",
    "#         metrics.append(np.array(acc.eval(score_mat[cur_rand_inds], K))*100)\n",
    "        \n",
    "#     metrics = np.array(metrics)\n",
    "#     result = np.empty_like(metrics[0], dtype=object)\n",
    "    \n",
    "#     for i in range(result.shape[0]):\n",
    "#         for j in range(result.shape[1]):\n",
    "#             result[i, j] = mean_confidence_interval(metrics[:, i, j])\n",
    "#     df = pd.DataFrame(result)\n",
    "    \n",
    "#     if inv_prop_ is None : df.index = ['P', 'nDCG']\n",
    "#     else : df.index = ['P', 'nDCG', 'PSP', 'PSnDCG']\n",
    "        \n",
    "#     df.columns = [str(i+1) for i in range(K)]\n",
    "#     if disp: display(df)\n",
    "#     return result"
   ]
  },
  {
   "cell_type": "code",
   "execution_count": 5,
   "metadata": {
    "ExecuteTime": {
     "end_time": "2020-12-01T06:54:52.872992Z",
     "start_time": "2020-12-01T06:54:52.853484Z"
    },
    "code_folding": [
     0,
     23
    ]
   },
   "outputs": [],
   "source": [
    "def restrict_mat(spmat, active_rows = None, active_cols = None, shrink=False):\n",
    "    if active_cols is not None and active_rows is not None:\n",
    "        temp = spmat[active_rows][:,active_cols]\n",
    "    elif active_rows is not None: \n",
    "        temp = spmat[active_rows]\n",
    "        if shrink: \n",
    "            active_cols = np.where(temp.getnnz(0)>0)[0]\n",
    "            temp = temp[:, active_cols]\n",
    "    elif active_cols is not None: \n",
    "        temp = spmat[:,active_cols]\n",
    "        if shrink:\n",
    "            active_rows = np.where(temp.getnnz(1)>0)[0]\n",
    "            temp = temp[active_rows]\n",
    "    else:\n",
    "        if shrink:\n",
    "            active_rows = np.where(spmat.getnnz(1)>0)[0]\n",
    "            active_cols = np.where(spmat.getnnz(0)>0)[0]\n",
    "            temp = spmat[active_rows][:,active_cols]\n",
    "        else:\n",
    "            return spmat, None, None\n",
    "    \n",
    "    return temp, active_rows, active_cols\n",
    "\n",
    "def get_irm_metrics(score_mat, unseen = None, fewshot=None, X_Y=None):\n",
    "    if X_Y is None : X_Y = tst_X_Y\n",
    "    if unseen is None : unseen = unseen_labels\n",
    "    if fewshot is None : fewshot = fewshot_labels\n",
    "        \n",
    "    mask = np.ones(tst_X_Y.shape[1], bool); mask[unseen] = False; seen = np.where(mask)[0]\n",
    "    metrics = {'GZSL' : None, 'SZSL' : None, 'XC' : None}\n",
    "    \n",
    "    print(_c('GZSL metrics (shape=(%d, %d)): '%(X_Y.shape[0], X_Y.shape[1]), attr='bold'))\n",
    "    metrics['GZSL'] = printacc(score_mat, X_Y=X_Y, K=5, inv_prop_=inv_prop)\n",
    "    \n",
    "    temp_X_Y, active_rows, _ = restrict_mat(X_Y, active_rows=None, active_cols=fewshot, shrink=True)\n",
    "    temp_score_mat, _, _     = restrict_mat(score_mat, active_rows=active_rows, active_cols=fewshot, shrink=True)\n",
    "    print(_c('FewShot metrics (shape=(%d, %d)): '%(temp_X_Y.shape[0], temp_X_Y.shape[1]), attr='bold'))\n",
    "    metrics['FewShot'] = printacc(temp_score_mat, X_Y=temp_X_Y, K=5, inv_prop_=None)\n",
    "    \n",
    "    temp_X_Y, active_rows, _ = restrict_mat(X_Y, active_rows=None, active_cols=unseen, shrink=True)\n",
    "    temp_score_mat, _, _     = restrict_mat(score_mat, active_rows=active_rows, active_cols=unseen, shrink=True)\n",
    "    print(_c('SZSL metrics (shape=(%d, %d)): '%(temp_X_Y.shape[0], temp_X_Y.shape[1]), attr='bold'))\n",
    "    metrics['SZSL'] = printacc(temp_score_mat, X_Y=temp_X_Y, K=5, inv_prop_=None)\n",
    "    \n",
    "    temp_X_Y, active_rows, _ = restrict_mat(X_Y, active_rows=None, active_cols=seen, shrink=True)\n",
    "    temp_score_mat, _, _     = restrict_mat(score_mat, active_rows=active_rows, active_cols=seen, shrink=True)\n",
    "    print(_c('XC metrics (shape=(%d, %d)): '%(temp_X_Y.shape[0], temp_X_Y.shape[1]), attr='bold'))\n",
    "    metrics['XC'] = printacc(temp_score_mat, X_Y=temp_X_Y, K=5, inv_prop_=inv_prop[seen])\n",
    "    \n",
    "    del temp_score_mat, temp_X_Y, active_rows\n",
    "    return metrics"
   ]
  },
  {
   "cell_type": "code",
   "execution_count": 6,
   "metadata": {
    "ExecuteTime": {
     "end_time": "2020-12-01T06:54:52.893499Z",
     "start_time": "2020-12-01T06:54:52.874772Z"
    }
   },
   "outputs": [],
   "source": [
    "def spmax(A, B):\n",
    "    BisBigger = A-B\n",
    "    BisBigger.data = np.where(BisBigger.data < 0, 1, 0)\n",
    "    return A - A.multiply(BisBigger) + B.multiply(BisBigger)"
   ]
  },
  {
   "cell_type": "markdown",
   "metadata": {
    "heading_collapsed": true
   },
   "source": [
    "## Binary Readers"
   ]
  },
  {
   "cell_type": "code",
   "execution_count": 7,
   "metadata": {
    "ExecuteTime": {
     "end_time": "2020-10-10T10:44:55.926827Z",
     "start_time": "2020-10-10T10:44:55.915146Z"
    },
    "code_folding": [
     2,
     8,
     21
    ],
    "hidden": true
   },
   "outputs": [],
   "source": [
    "size_dict = {bool : 1, np.int32 : 4, np.float32 : 4, np.int64 : 8}\n",
    "\n",
    "def readbuf(buf, dtype, offset=0, count=1):\n",
    "    val = np.frombuffer(buf, offset=offset, dtype=dtype, count=count)\n",
    "    if count == 1: val = val[0]\n",
    "    offset += size_dict[dtype]*count\n",
    "    return val, offset\n",
    "\n",
    "def read_buf_bin_vecif(buf, dtype, offset = 0, totlen = -1):\n",
    "    if totlen < 0: totlen, offset = readbuf(buf, np.int64, offset, 1)\n",
    "    totlen *= 2\n",
    "    \n",
    "    temp, _ = readbuf(buf, np.int32, offset, totlen)\n",
    "    inds = temp.reshape(-1, 2)[:, 0];\n",
    "    temp, offset = readbuf(buf, dtype, offset, totlen)\n",
    "    data = temp.reshape(-1, 2)[:, 1];\n",
    "    \n",
    "    nr = 1\n",
    "    if inds.shape[0] > 0: nr = inds.max()+1\n",
    "    return csr_matrix((data, inds, [0, len(data)]), (1, nr)), offset\n",
    "\n",
    "def read_buf_bin_vec(buf, dtype, offset = 0, totlen = -1):\n",
    "    if totlen < 0: totlen, offset = readbuf(buf, np.int64, offset, 1)\n",
    "    return readbuf(buf, dtype, offset, totlen)\n",
    "\n",
    "def read_buf_bin_spmat(buf, dtype, offset = 0, old = False):\n",
    "    (nr, nc), offset = readbuf(buf, np.int32, offset, 2)\n",
    "    \n",
    "    size = None\n",
    "    if old: size, offset = read_buf_bin_vec(buf, np.int32, offset, nr)\n",
    "    else: size, offset = read_buf_bin_vec(buf, np.int32, offset)\n",
    "\n",
    "    data = []; inds = []; indptr = np.zeros(nr+1, int)\n",
    "    indptr[1:] = size.cumsum()\n",
    "    totlen = indptr[-1]\n",
    "    temp, offset = read_buf_bin_vecif(buf, dtype, offset, totlen)\n",
    "\n",
    "    return csr_matrix((temp.data, temp.indices, indptr), (nr, nc)), offset\n",
    "\n",
    "def read_bin_spmat(fname, old = False):\n",
    "    buf = open(fname, 'rb').read()\n",
    "    print('loaded bin file in buffer')\n",
    "    spmat, _ = read_buf_bin_spmat(buf, np.float32, 0, old)\n",
    "    return spmat"
   ]
  },
  {
   "cell_type": "code",
   "execution_count": 8,
   "metadata": {
    "ExecuteTime": {
     "end_time": "2020-10-10T10:44:56.463596Z",
     "start_time": "2020-10-10T10:44:56.449262Z"
    },
    "code_folding": [
     0
    ],
    "hidden": true
   },
   "outputs": [],
   "source": [
    "class Node:\n",
    "    is_leaf = None; is_end_leaf = None; is_early_leaf = None; X_routers = None; Y_routers = None;\n",
    "    depth = None; children = None; Y = None; X = None; XY = None; parent = -1;\n",
    "    \n",
    "    def read(self, buf, offset, ind):\n",
    "        self.id = ind\n",
    "            \n",
    "        [self.is_leaf, self.is_early_leaf, self.is_end_leaf], offset = readbuf(buf, bool, offset, 3)\n",
    "        self.depth, offset = readbuf(buf, np.int32, offset, 1)\n",
    "        self.children, offset = read_buf_bin_vec(buf, np.int32, offset)\n",
    "        self.X, offset = read_buf_bin_vecif(buf, np.float32, offset)\n",
    "        self.Y, offset = read_buf_bin_vecif(buf, np.float32, offset)\n",
    "        self.xy_inds, offset = read_buf_bin_vec(buf, np.int32, offset)\n",
    "                \n",
    "        if self.id == 0:\n",
    "            self.XY, offset = read_buf_bin_spmat(buf, np.int32, offset)\n",
    "        \n",
    "        if not self.is_leaf:\n",
    "            self.X_routers, offset = read_buf_bin_spmat(buf, np.float32, offset)\n",
    "            self.Y_routers, offset = read_buf_bin_spmat(buf, np.float32, offset)\n",
    "            \n",
    "        return offset\n",
    "    \n",
    "    def __str__(self):\n",
    "        return  f'id : {self.id}\\nparent : {self.parent}\\nis_leaf : {self.is_leaf}\\nis_early_leaf : {self.is_early_leaf}\\\n",
    "                \\nis_end_leaf : {self.is_end_leaf}\\nchildren : {self.children}\\ndepth : {self.depth}\\nnnz X : {self.X.nnz}\\\n",
    "                \\nnnz Y : {self.Y.nnz}\\nnnz XY : {self.xy_inds.shape[0]}\\n'\n",
    "\n",
    "    def __repr__(self):\n",
    "        return  f'id : {self.id}\\nparent : {self.parent}\\nis_leaf : {self.is_leaf}\\nis_early_leaf : {self.is_early_leaf}\\\n",
    "                \\nis_end_leaf : {self.is_end_leaf}\\nchildren : {self.children}\\ndepth : {self.depth}\\nnnz X : {self.X.nnz}\\\n",
    "                \\nnnz Y : {self.Y.nnz}\\nnnz XY : {self.xy_inds.shape[0]}\\n'\n",
    "    \n",
    "class Tree:\n",
    "    numxf = None; numyf = None; numx = None; numy = None; numxy = None; nodes = None; max_depth = None;\n",
    "    shared_clf = None; ova_clf = None\n",
    "    \n",
    "    def read(self, filename, offset=0):\n",
    "        buf = open(filename, 'rb').read()\n",
    "        \n",
    "        [self.numxf, self.numyf, self.numx, self.numy, self.numxy, numnode], offset = readbuf(buf, np.int32, offset, 6)\n",
    "        self.nodes = np.empty(numnode, dtype=object)\n",
    "        \n",
    "        for i in tqdm(range(numnode)):\n",
    "            nodeid, offset = readbuf(buf, np.int32, offset, 1)\n",
    "            self.nodes[nodeid] = Node()\n",
    "            offset = self.nodes[nodeid].read(buf, offset, nodeid)\n",
    "        \n",
    "        self.shared_clf, offset = read_buf_bin_vecif(buf, np.float32, offset)\n",
    "        self.ova_clf, offset = read_buf_bin_spmat(buf, np.float32, offset)"
   ]
  },
  {
   "cell_type": "code",
   "execution_count": 9,
   "metadata": {
    "hidden": true,
    "scrolled": false
   },
   "outputs": [
    {
     "ename": "NameError",
     "evalue": "name 'x' is not defined",
     "output_type": "error",
     "traceback": [
      "\u001b[0;31m---------------------------------------------------------------------------\u001b[0m",
      "\u001b[0;31mNameError\u001b[0m                                 Traceback (most recent call last)",
      "\u001b[0;32m<ipython-input-9-d551c60f934d>\u001b[0m in \u001b[0;36m<module>\u001b[0;34m\u001b[0m\n\u001b[1;32m      1\u001b[0m \u001b[0;32mfrom\u001b[0m \u001b[0mscipy\u001b[0m\u001b[0;34m.\u001b[0m\u001b[0minterpolate\u001b[0m \u001b[0;32mimport\u001b[0m \u001b[0mmake_interp_spline\u001b[0m\u001b[0;34m,\u001b[0m \u001b[0mBSpline\u001b[0m\u001b[0;34m\u001b[0m\u001b[0;34m\u001b[0m\u001b[0m\n\u001b[1;32m      2\u001b[0m \u001b[0;34m\u001b[0m\u001b[0m\n\u001b[0;32m----> 3\u001b[0;31m \u001b[0mxnew\u001b[0m \u001b[0;34m=\u001b[0m \u001b[0mnp\u001b[0m\u001b[0;34m.\u001b[0m\u001b[0mlinspace\u001b[0m\u001b[0;34m(\u001b[0m\u001b[0mx\u001b[0m\u001b[0;34m.\u001b[0m\u001b[0mmin\u001b[0m\u001b[0;34m(\u001b[0m\u001b[0;34m)\u001b[0m\u001b[0;34m,\u001b[0m \u001b[0mx\u001b[0m\u001b[0;34m.\u001b[0m\u001b[0mmax\u001b[0m\u001b[0;34m(\u001b[0m\u001b[0;34m)\u001b[0m\u001b[0;34m,\u001b[0m \u001b[0;36m300\u001b[0m\u001b[0;34m)\u001b[0m\u001b[0;34m\u001b[0m\u001b[0;34m\u001b[0m\u001b[0m\n\u001b[0m\u001b[1;32m      4\u001b[0m \u001b[0mspl\u001b[0m \u001b[0;34m=\u001b[0m \u001b[0mmake_interp_spline\u001b[0m\u001b[0;34m(\u001b[0m\u001b[0mx\u001b[0m\u001b[0;34m,\u001b[0m \u001b[0my\u001b[0m\u001b[0;34m,\u001b[0m \u001b[0mk\u001b[0m\u001b[0;34m=\u001b[0m\u001b[0;36m1\u001b[0m\u001b[0;34m)\u001b[0m  \u001b[0;31m# type: BSpline\u001b[0m\u001b[0;34m\u001b[0m\u001b[0;34m\u001b[0m\u001b[0m\n\u001b[1;32m      5\u001b[0m \u001b[0msmooth\u001b[0m \u001b[0;34m=\u001b[0m \u001b[0mspl\u001b[0m\u001b[0;34m(\u001b[0m\u001b[0mxnew\u001b[0m\u001b[0;34m)\u001b[0m\u001b[0;34m\u001b[0m\u001b[0;34m\u001b[0m\u001b[0m\n",
      "\u001b[0;31mNameError\u001b[0m: name 'x' is not defined"
     ]
    }
   ],
   "source": [
    "from scipy.interpolate import make_interp_spline, BSpline\n",
    "\n",
    "xnew = np.linspace(x.min(), x.max(), 300) \n",
    "spl = make_interp_spline(x, y, k=1)  # type: BSpline\n",
    "smooth = spl(xnew)\n",
    "\n",
    "# from scipy.ndimage.filters import gaussian_filter1d\n",
    "# ysmoothed = gaussian_filter1d(y, sigma=10)\n",
    "\n",
    "# plt.plot(x, ysmoothed)\n",
    "plt.xlabel('number of training points', fontsize=18)\n",
    "plt.ylabel('number of labels', fontsize=18)\n",
    "plt.xticks(fontsize=14)\n",
    "plt.yticks(fontsize=14)\n",
    "plt.plot(xnew, smooth)\n",
    "plt.yscale('log')\n",
    "plt.subplots_adjust(left=0.15, right=0.9, top=0.9, bottom=0.15)\n",
    "\n",
    "plt.savefig('/mnt/c/Users/t-nilgup/Pictures/ads-label-frequency.png')\n",
    "plt.savefig('/mnt/c/Users/t-nilgup/Pictures/ads-label-frequency.eps')\n",
    "\n",
    "plt.show()"
   ]
  },
  {
   "cell_type": "markdown",
   "metadata": {},
   "source": [
    "## Load Data"
   ]
  },
  {
   "cell_type": "code",
   "execution_count": 10,
   "metadata": {
    "ExecuteTime": {
     "end_time": "2021-02-07T15:57:09.667912Z",
     "start_time": "2021-02-07T15:57:09.628505Z"
    }
   },
   "outputs": [
    {
     "name": "stderr",
     "output_type": "stream",
     "text": [
      "/home1/08343/nilesh/.local/lib/python3.7/site-packages/xclib-0.97-py3.7-linux-x86_64.egg/xclib/data/data_utils.py:263: UserWarning: Header mis-match from inferred shape!\n",
      "  warnings.warn(\"Header mis-match from inferred shape!\")\n"
     ]
    }
   ],
   "source": [
    "# val_X_Y = read_sparse_mat('%s/val_X_Y.txt'%DATA_DIR)\n",
    "trn_X_Y = read_sparse_mat('%s/trn_X_Y.txt'%DATA_DIR)\n",
    "tst_X_Y = read_sparse_mat('%s/tst_X_Y.txt'%DATA_DIR)\n",
    "if os.path.exists('%s/pos_trn_tst.txt'%DATA_DIR): filter_mat = read_sparse_mat('%s/pos_trn_tst.txt'%DATA_DIR)\n",
    "else : filter_mat = None\n",
    "if os.path.exists('%s/pos_trn_val.txt'%DATA_DIR): val_filter_mat = read_sparse_mat('%s/pos_trn_val.txt'%DATA_DIR)\n",
    "else : val_filter_mat = None\n",
    "\n",
    "nnz = trn_X_Y.getnnz(0)\n",
    "valid_labels = np.where(nnz > 0)[0]\n",
    "unseen_labels = np.where(nnz == 0)[0]\n",
    "fewshot_labels = np.where((nnz >= 0) & (nnz <= 5))[0]\n",
    "inv_valid_labels = np.vectorize({v : i for i, v in enumerate(valid_labels)}.get)\n",
    "\n",
    "if \"Amazon\" in dataset: A = 0.6; B = 2.6\n",
    "elif \"Wiki\" in dataset: A = 0.5; B = 0.4\n",
    "else : A = 0.55; B = 1.5\n",
    "inv_prop = xc_metrics.compute_inv_propesity(trn_X_Y, A, B)"
   ]
  },
  {
   "cell_type": "code",
   "execution_count": 12,
   "metadata": {},
   "outputs": [
    {
     "name": "stderr",
     "output_type": "stream",
     "text": [
      "1000it [00:00, 1262.65it/s]\n"
     ]
    }
   ],
   "source": [
    "with open(f'{DATA_DIR}/trn_X_Xf.txt') as f:\n",
    "    nr, nc = map(int, f.readline().split(' '))\n",
    "    data = []; indices = []; indptr = [0]\n",
    "    cnt = 0\n",
    "    for line in tqdm(f):\n",
    "        if len(line) > 1:\n",
    "            row = [x.split(':') for x in line.split()]\n",
    "            tempindices, tempdata = list(zip(*row))\n",
    "            indices.extend(list(map(int, tempindices)))\n",
    "            data.extend(list(map(float, tempdata)))\n",
    "            indptr.append(indptr[-1]+len(tempdata))\n",
    "        else:\n",
    "            indptr.append(indptr[-1])\n",
    "        cnt += 1\n",
    "        if cnt > 1000:\n",
    "            break\n",
    "    trn_X_Xf = csr_matrix((data, indices, indptr), (cnt, nc))\n",
    "    del data, indices, indptr"
   ]
  },
  {
   "cell_type": "code",
   "execution_count": 13,
   "metadata": {},
   "outputs": [
    {
     "data": {
      "text/plain": [
       "<1001x1000000 sparse matrix of type '<class 'numpy.float64'>'\n",
       "\twith 356919 stored elements in Compressed Sparse Row format>"
      ]
     },
     "execution_count": 13,
     "metadata": {},
     "output_type": "execute_result"
    }
   ],
   "source": [
    "trn_X_Xf"
   ]
  },
  {
   "cell_type": "code",
   "execution_count": 11,
   "metadata": {},
   "outputs": [
    {
     "name": "stderr",
     "output_type": "stream",
     "text": [
      "32007it [00:12, 2546.38it/s]\n"
     ]
    },
    {
     "ename": "KeyboardInterrupt",
     "evalue": "",
     "output_type": "error",
     "traceback": [
      "\u001b[0;31m---------------------------------------------------------------------------\u001b[0m",
      "\u001b[0;31mKeyboardInterrupt\u001b[0m                         Traceback (most recent call last)",
      "\u001b[0;32m<ipython-input-11-b1968fe57134>\u001b[0m in \u001b[0;36m<module>\u001b[0;34m\u001b[0m\n\u001b[0;32m----> 1\u001b[0;31m \u001b[0mtrn_X_Xf\u001b[0m \u001b[0;34m=\u001b[0m \u001b[0mread_sparse_mat\u001b[0m\u001b[0;34m(\u001b[0m\u001b[0;34mf'{DATA_DIR}/trn_X_Xf.txt'\u001b[0m\u001b[0;34m,\u001b[0m \u001b[0muse_xclib\u001b[0m\u001b[0;34m=\u001b[0m\u001b[0;32mFalse\u001b[0m\u001b[0;34m)\u001b[0m\u001b[0;34m\u001b[0m\u001b[0;34m\u001b[0m\u001b[0m\n\u001b[0m",
      "\u001b[0;32m<ipython-input-1-4103f2625e22>\u001b[0m in \u001b[0;36mread_sparse_mat\u001b[0;34m(filename, use_xclib)\u001b[0m\n\u001b[1;32m     67\u001b[0m                     \u001b[0mrow\u001b[0m \u001b[0;34m=\u001b[0m \u001b[0;34m[\u001b[0m\u001b[0mx\u001b[0m\u001b[0;34m.\u001b[0m\u001b[0msplit\u001b[0m\u001b[0;34m(\u001b[0m\u001b[0;34m':'\u001b[0m\u001b[0;34m)\u001b[0m \u001b[0;32mfor\u001b[0m \u001b[0mx\u001b[0m \u001b[0;32min\u001b[0m \u001b[0mline\u001b[0m\u001b[0;34m.\u001b[0m\u001b[0msplit\u001b[0m\u001b[0;34m(\u001b[0m\u001b[0;34m)\u001b[0m\u001b[0;34m]\u001b[0m\u001b[0;34m\u001b[0m\u001b[0;34m\u001b[0m\u001b[0m\n\u001b[1;32m     68\u001b[0m                     \u001b[0mtempindices\u001b[0m\u001b[0;34m,\u001b[0m \u001b[0mtempdata\u001b[0m \u001b[0;34m=\u001b[0m \u001b[0mlist\u001b[0m\u001b[0;34m(\u001b[0m\u001b[0mzip\u001b[0m\u001b[0;34m(\u001b[0m\u001b[0;34m*\u001b[0m\u001b[0mrow\u001b[0m\u001b[0;34m)\u001b[0m\u001b[0;34m)\u001b[0m\u001b[0;34m\u001b[0m\u001b[0;34m\u001b[0m\u001b[0m\n\u001b[0;32m---> 69\u001b[0;31m                     \u001b[0mindices\u001b[0m\u001b[0;34m.\u001b[0m\u001b[0mextend\u001b[0m\u001b[0;34m(\u001b[0m\u001b[0mlist\u001b[0m\u001b[0;34m(\u001b[0m\u001b[0mmap\u001b[0m\u001b[0;34m(\u001b[0m\u001b[0mint\u001b[0m\u001b[0;34m,\u001b[0m \u001b[0mtempindices\u001b[0m\u001b[0;34m)\u001b[0m\u001b[0;34m)\u001b[0m\u001b[0;34m)\u001b[0m\u001b[0;34m\u001b[0m\u001b[0;34m\u001b[0m\u001b[0m\n\u001b[0m\u001b[1;32m     70\u001b[0m                     \u001b[0mdata\u001b[0m\u001b[0;34m.\u001b[0m\u001b[0mextend\u001b[0m\u001b[0;34m(\u001b[0m\u001b[0mlist\u001b[0m\u001b[0;34m(\u001b[0m\u001b[0mmap\u001b[0m\u001b[0;34m(\u001b[0m\u001b[0mfloat\u001b[0m\u001b[0;34m,\u001b[0m \u001b[0mtempdata\u001b[0m\u001b[0;34m)\u001b[0m\u001b[0;34m)\u001b[0m\u001b[0;34m)\u001b[0m\u001b[0;34m\u001b[0m\u001b[0;34m\u001b[0m\u001b[0m\n\u001b[1;32m     71\u001b[0m                     \u001b[0mindptr\u001b[0m\u001b[0;34m.\u001b[0m\u001b[0mappend\u001b[0m\u001b[0;34m(\u001b[0m\u001b[0mindptr\u001b[0m\u001b[0;34m[\u001b[0m\u001b[0;34m-\u001b[0m\u001b[0;36m1\u001b[0m\u001b[0;34m]\u001b[0m\u001b[0;34m+\u001b[0m\u001b[0mlen\u001b[0m\u001b[0;34m(\u001b[0m\u001b[0mtempdata\u001b[0m\u001b[0;34m)\u001b[0m\u001b[0;34m)\u001b[0m\u001b[0;34m\u001b[0m\u001b[0;34m\u001b[0m\u001b[0m\n",
      "\u001b[0;31mKeyboardInterrupt\u001b[0m: "
     ]
    }
   ],
   "source": [
    "trn_X_Xf = read_sparse_mat(f'{DATA_DIR}/trn_X_Xf.txt', use_xclib=False)"
   ]
  },
  {
   "cell_type": "code",
   "execution_count": 16,
   "metadata": {},
   "outputs": [],
   "source": [
    "xfs = [x.strip() for x in open(f'{DATA_DIR}/Xf.txt').readlines()]\n"
   ]
  },
  {
   "cell_type": "code",
   "execution_count": 14,
   "metadata": {},
   "outputs": [],
   "source": [
    "trnX = []\n",
    "for i, line in enumerate(open(f'{DATA_DIR}/raw/trn_X.txt')):\n",
    "    if i > 1000:\n",
    "        break\n",
    "    trnX.append(line.strip())"
   ]
  },
  {
   "cell_type": "code",
   "execution_count": 19,
   "metadata": {
    "scrolled": true
   },
   "outputs": [
    {
     "data": {
      "text/plain": [
       "'Autism about the classic autistic disorder other conditions sometimes called quot autism quot Autism spectrum the journal Autism journal pp semi indef pp move indef short description Neurodevelopmental disorder involving social difficulties and repetitive behavior bots deny Monkbot lt keep Monkbot from visiting this page gt Use dmy dates date January 2020 Use American English date August 2016 Infobox medical condition new name Autism image Autism stacking cans 2nd edit jpg alt Boy stacking cans caption Repetitively stacking or lining up objects is commonly associated with autism field Psychiatry symptoms Trouble with Interpersonal relationship social interaction impaired communication restricted interests repetitive behavior lt ref name Land2008 gt complications Social isolation employment problems family stress bullying self harm lt ref gt cite web title Autism spectrum disorder Symptoms and causes url https www mayoclinic org diseases conditions autism spectrum disorder symptoms causes syc 20352928 website Mayo Clinic accessdate 13 July 2019 language en lt ref gt onset By age two or three lt ref name NIH2016 gt cite web title NIMH quot Autism Spectrum Disorder url https www nimh nih gov health topics autism spectrum disorders asd index shtml website nimh nih gov accessdate 20 April 2017 date October 2016 lt ref gt lt ref name DSM5 gt duration Chronic condition Long term lt ref name NIH2016 gt causes Heritability of autism Genetic and environmental factors lt ref name Ch2012 gt risks diagnosis Based on behavior and developmental history lt ref name NIH2016 gt differential Reactive attachment disorder intellectual disability schizophrenia lt ref gt cite book vauthors Corcoran J Walsh J title Clinical Assessment and Diagnosis in Social Work Practice url Google books y28kokLoe78C page 72 plainurl yes publisher Oxford University Press New York date 9 February 2006 isbn 978 0 19 516830 3 oclc 466433183 lccn 2005027740 page 72 lt ref gt prevention management Behavioral therapy speech therapy psychotropic medication lt ref name CCD2007 gt lt ref name San2016 gt lt ref gt cite journal vauthors Sukhodolsky DG Bloch MH Panza KE Reichow B title Cognitive behavioral therapy for anxiety in children with high functioning autism a meta analysis journal Pediatrics volume 132 issue 5 pages e1341 50 date November 2013 pmid 24167175 pmc 3813396 doi 10 1542 peds 2013 1193 lt ref gt medication Atypical antipsychotics Antipsychotics antidepressants stimulants associated symptoms lt ref name Ji2015 gt lt ref name quot Oswald DP 2006 quot gt lt ref name quot ReferenceA quot gt prognosis Frequently poor lt ref name Ste106 gt frequency 24 8 million 2015 lt ref name GBD2015Pre gt deaths lt Definition and symptoms gt Autism is a developmental disorder characterized by difficulties with social interaction and communication and by restricted and repetitive behavior lt ref name DSM5 gt Parents often notice signs during the first three years of their child s life lt ref name quot Land2008 quot gt cite journal vauthors Landa RJ title Diagnosis of autism spectrum disorders in the first 3 years of life journal Nat Clin Pract Neurol volume 4 issue 3 pages 138 147 year 2008 pmid 18253102 doi 10 1038 ncpneuro0731 doi access free lt ref gt lt ref name DSM5 gt vcite book title Diagnostic and Statistical Manual of Mental Disorders Fifth Edition chapter Autism Spectrum Disorder 299 00 F84 0 editor American Psychiatric Association year 2013 publisher American Psychiatric Publishing pagex 50 59 lt ref gt These signs often develop gradually though some children with autism experience Regressive autism worsening in their communication and social skills after reaching developmental milestones at a normal pace lt ref name Stef2008 gt Cite journal vauthors Stefanatos GA title Regression in autistic spectrum disorders journal Neuropsychol Rev volume 18 issue 4 pages 305 319 year 2008 pmid 18956241 doi 10 1007 s11065 008 9073 y lt ref gt lt Associations and diagnosis gt Autism is associated with a combination of Heritability of autism genetic and environmental factors lt ref name Ch2012 gt cite journal vauthors Chaste P Leboyer M title Autism risk factors genes environment and gene environment interactions journal Dialogues in Clinical Neuroscience volume 14 issue 3 pages 281 292 year 2012 pmid 23226953 pmc 3513682 lt ref gt Risk factors during pregnancy include certain infections such as rubella toxins including valproic acid alcohol cocaine pesticides lead and air pollution fetal growth restriction lt lt ref name quot VohrPoggiDavis2017 quot gt gt and autoimmune disease s lt ref gt Cite journal title Prenatal factors associated with autism spectrum disorder ASD vauthors Ornoy A Weinstein Fudim L Ergaz Z journal Reproductive Toxicology volume 56 year 2015 pages 155 169 doi 10 1016 j reprotox 2015 05 007 pmid 26021712 lt ref gt lt ref name quot VohrPoggiDavis2017 quot gt lt ref name SamsamAhangari2014 gt Controversies in autism Controversies surround other proposed environmental Causes of autism causes for example the MMR vaccine controversy vaccine hypothesis which has been disproven lt ref name Rut2005 gt cite journal vauthors Rutter M title Incidence of autism spectrum disorders changes over time and their meaning journal Acta Paediatr volume 94 issue 1 pages 2 15 year 2005 pmid 15858952 doi 10 1111 j 1651 2227 2005 tb01779 x lt ref gt Autism affects information processing in the brain and how nerve cell s and their synapse s connect and organize how this occurs is not well understood lt ref name quot Lev2009 quot gt cite journal vauthors Levy SE Mandell DS Schultz RT title Autism journal Lancet volume 374 issue 9701 pages 1627 1638 year 2009 pmid 19819542 pmc 2863325 doi 10 1016 S0140 6736 09 61376 3 lt ref gt The Diagnostic and Statistical Manual of Mental Disorders DSM 5 combines autism and less severe forms of the condition including Asperger syndrome and pervasive developmental disorder not otherwise specified PDD NOS into the diagnosis of autism spectrum disorder ASD lt ref name DSM5 gt lt ref name quot John2007 quot gt cite journal vauthors Johnson CP Myers SM title Identification and evaluation of children with autism spectrum disorders journal Pediatrics volume 120 issue 5 pages 1183 1215 year 2007 pmid 17967920 doi 10 1542 peds 2007 2361 url http pediatrics aappublications org cgi content full 120 5 1183 archiveurl https web archive org web 20090208013449 http pediatrics aappublications org cgi content full 120 5 1183 archivedate 8 February 2009 doi access free lt ref gt lt Treatment gt Early Applied behavior analysis behavioral interventions or speech therapy can help children with autism gain self care social and communication skills lt ref name quot CCD2007 quot gt cite journal vauthors Myers SM Johnson CP title Management of children with autism spectrum disorders journal Pediatrics volume 120 issue 5 pages 1162 1182 date November 2007 pmid 17967921 doi 10 1542 peds 2007 2362 url https pediatrics aappublications org content 120 5 1162 doi access free lt ref gt lt ref name San2016 gt cite journal vauthors Sanchack KE Thomas CA title Autism Spectrum Disorder Primary Care Principles journal American Family Physician volume 94 issue 12 pages 972 979 date December 2016 pmid 28075089 lt ref gt Although there is no known cure lt ref name CCD2007 gt there have been cases of children who recovered lt ref name Helt2008 gt cite journal vauthors Helt M Kelley E Kinsbourne M Pandey J Boorstein H Herbert M Fein D title Can children with autism recover If so how journal Neuropsychology Review volume 18 issue 4 pages 339 366 date December 2008 pmid 19009353 doi 10 1007 s11065 008 9075 9 url https www academia edu 16961306 citeseerx 10 1 1 695 2995 lt ref gt Not many autistic adults are able to live independently though some are successful lt ref name Ste106 gt cite journal vauthors Steinhausen HC Mohr Jensen C Lauritsen MB title A systematic review and meta analysis of the long term overall outcome of autism spectrum disorders in adolescence and adulthood journal Acta Psychiatrica Scandinavica volume 133 issue 6 pages 445 452 date June 2016 pmid 26763353 doi 10 1111 acps 12559 lt ref gt An Societal and cultural aspects of autism autistic culture has developed with some individuals seeking a cure and others believing autism should be Autism rights movement accepted as a difference to be accommodated instead of cured lt ref name Sil2008 gt cite journal journal BioSocieties year 2008 volume 3 issue 3 pages 325 341 title Fieldwork on another planet social science perspectives on the autism spectrum vauthors Silverman C doi 10 1017 S1745855208006236 lt ref gt lt ref name Frith2014 gt cite news last Frith first Uta name list format vanc title Autism are we any closer to explaining the enigma url https thepsychologist bps org uk volume 27 edition 10 autism are we any closer explaining enigma work The Psychologist magazine The Psychologist publisher British Psychological Society date October 2014 volume 27 pages 744 745 lt ref gt lt Epidemiology gt Globally autism is estimated to affect 24 8 million people as of 2015 lc y lt ref name GBD2015Pre gt cite journal author GBD 2015 Disease and Injury Incidence and Prevalence Collaborators title Global regional and national incidence prevalence and years lived with disability for 310 diseases and injuries 1990 2015 a systematic analysis for the Global Burden of Disease Study 2015 journal Lancet date 8 October 2016 volume 388 issue 10053 pages 1545 1602 pmid 27733282 doi 10 1016 S0140 6736 16 31678 6 pmc 5055577 lt ref gt In the 2000s the number of people affected was estimated at 1 2 per 1 000 people worldwide lt ref name News2007 gt In the developed countries about 1 5 of children are diagnosed with ASD as of 2017 lc y lt ref gt cite journal vauthors Lyall K Croen L Daniels J Fallin MD Ladd Acosta C Lee BK Park BY Snyder NW Schendel D Volk H Windham GC Newschaffer C title The changing epidemiology of autism spectrum disorders journal Annual Review of Public Health volume 38 pages 81 102 date March 2017 pmid 28068486 pmc 6566093 doi 10 1146 annurev publhealth 031816 044318 lt ref gt from 0 7 in 2000 in the United States lt ref name ASD2016 gt It occurs four to five times more often in males than females lt ref name ASD2016 gt cite web url https www cdc gov ncbddd autism data html title ASD data and statistics publisher CDC gov access date 11 July 2016 archive url https web archive org web 20140418153648 http www cdc gov ncbddd autism data html archive date 18 April 2014 lt ref gt The number of people diagnosed has increased dramatically since the 1960s which may be partly due to changes in diagnostic practice lt ref name News2007 gt The question of whether actual rates have increased is unresolved lt ref name News2007 gt cite journal vauthors Newschaffer CJ Croen LA Daniels J Giarelli E Grether JK Levy SE Mandell DS Miller LA Pinto Martin J Reaven J Reynolds AM Rice CE Schendel D Windham GC title The epidemiology of autism spectrum disorders journal Annual Review of Public Health volume 28 pages 235 258 year 2007 pmid 17367287 doi 10 1146 annurev publhealth 28 021406 144007 lt ref gt TOC limit'"
      ]
     },
     "execution_count": 19,
     "metadata": {},
     "output_type": "execute_result"
    }
   ],
   "source": [
    "trnX[1]"
   ]
  },
  {
   "cell_type": "code",
   "execution_count": 18,
   "metadata": {
    "scrolled": true
   },
   "outputs": [
    {
     "name": "stdout",
     "output_type": "stream",
     "text": [
      "x = 1 : \n",
      "\u001b[1m\u001b[4mautism\u001b[0m(0.58, 72348) \u001b[1m\u001b[4mautism spectrum\u001b[0m(0.24, 588279) \u001b[1m\u001b[4mspectrum disord\u001b[0m(0.23, 926751) \u001b[1m\u001b[4mdisord\u001b[0m(0.22, 148726) \u001b[1m\u001b[4mjournal\u001b[0m(0.18, 240077) \u001b[1m\u001b[4mspectrum\u001b[0m(0.17, 420421) \u001b[1m\u001b[4mvauthor\u001b[0m(0.14, 468084) \u001b[1m\u001b[4mjournal vauthor\u001b[0m(0.12, 761116) \u001b[1m\u001b[4mref name\u001b[0m(0.11, 887545) \u001b[1m\u001b[4mpmid\u001b[0m(0.11, 358055) \u001b[1m\u001b[4mdoi\u001b[0m(0.11, 150521) \u001b[1m\u001b[4mcite journal\u001b[0m(0.10, 626419) \u001b[1m\u001b[4mvolum\u001b[0m(0.10, 474488) \u001b[1m\u001b[4mdoi 10\u001b[0m(0.09, 667969) \u001b[1m\u001b[4mtitl autism\u001b[0m(0.08, 952048) \u001b[1m\u001b[4mchildren autism\u001b[0m(0.08, 624034) \u001b[1m\u001b[4mpage\u001b[0m(0.08, 342442) \u001b[1m\u001b[4mbehavior\u001b[0m(0.07, 82661) \u001b[1m\u001b[4mdisord journal\u001b[0m(0.07, 665195) \u001b[1m\u001b[4mdsm5 gt\u001b[0m(0.07, 669943) \u001b[1m\u001b[4mname dsm5\u001b[0m(0.07, 814754) \u001b[1m\u001b[4mpediatr\u001b[0m(0.07, 348764) \u001b[1m\u001b[4masd\u001b[0m(0.07, 68510) \u001b[1m\u001b[4mdsm5\u001b[0m(0.06, 154046) \u001b[1m\u001b[4missu\u001b[0m(0.06, 233135) \u001b[1m\u001b[4mgt cite\u001b[0m(0.06, 721631) \u001b[1m\u001b[4mcite\u001b[0m(0.06, 121136) \u001b[1m\u001b[4m10\u001b[0m(0.06, 3840) \u001b[1m\u001b[4mautist\u001b[0m(0.06, 72351) \u001b[1m\u001b[4mnews2007\u001b[0m(0.05, 321461) \u001b[1m\u001b[4mgt lt\u001b[0m(0.05, 724392) \u001b[1m\u001b[4msocial\u001b[0m(0.05, 416770) \u001b[1m\u001b[4mname nih2016\u001b[0m(0.05, 816506) \u001b[1m\u001b[4mnih2016 gt\u001b[0m(0.05, 826406) \u001b[1m\u001b[4mnih2016\u001b[0m(0.05, 323500) \u001b[1m\u001b[4mquot\u001b[0m(0.05, 371584) \u001b[1m\u001b[4mpediatr aappubl\u001b[0m(0.05, 849430) \u001b[1m\u001b[4msymptom\u001b[0m(0.05, 433835) \u001b[1m\u001b[4mdiagnosi\u001b[0m(0.05, 146010) \u001b[1m\u001b[4maappubl org\u001b[0m(0.05, 559443) \u001b[1m\u001b[4maappubl\u001b[0m(0.05, 46108) \u001b[1m\u001b[4m120 5\u001b[0m(0.05, 508218) \u001b[1m\u001b[4mrepetit\u001b[0m(0.05, 380081) \u001b[1m\u001b[4m1542 ped\u001b[0m(0.05, 510440) \u001b[1m\u001b[4mj\u001b[0m(0.05, 234463) \u001b[1m\u001b[4m10 1542\u001b[0m(0.04, 505438) \u001b[1m\u001b[4mnimh\u001b[0m(0.04, 323919) \u001b[1m\u001b[4mpediatr volum\u001b[0m(0.04, 849431) \u001b[1m\u001b[4mdevelopment\u001b[0m(0.04, 145027) \u001b[1m\u001b[4mpmc\u001b[0m(0.04, 358033) \u001b[1m\u001b[4mfactor\u001b[0m(0.04, 171507) \u001b[1m\u001b[4mdiseas\u001b[0m(0.04, 148564) \u001b[1m\u001b[4mchildren\u001b[0m(0.04, 117521) \u001b[1m\u001b[4mjournal pediatr\u001b[0m(0.04, 761012) \u001b[1m\u001b[4m1183\u001b[0m(0.04, 6304) \u001b[1m\u001b[4mtherapi\u001b[0m(0.04, 444264) \u001b[1m\u001b[4m120\u001b[0m(0.04, 6554) \u001b[1m\u001b[4mnewschaff\u001b[0m(0.04, 321535) \u001b[1m\u001b[4mped\u001b[0m(0.04, 348708) \u001b[1m\u001b[4mcdc gov\u001b[0m(0.04, 617933) \u001b[1m\u001b[4myear\u001b[0m(0.04, 492347) \u001b[1m\u001b[4m1542\u001b[0m(0.04, 10267) \u001b[1m\u001b[4mcondit\u001b[0m(0.04, 127109) \u001b[1m\u001b[4mpublhealth\u001b[0m(0.04, 367763) \u001b[1m\u001b[4mcdc\u001b[0m(0.04, 111491) \u001b[1m\u001b[4m2007 pmid\u001b[0m(0.04, 532279) \u001b[1m\u001b[4m2008 pmid\u001b[0m(0.03, 532858) \u001b[1m\u001b[4mmonkbot\u001b[0m(0.03, 305921) \u001b[1m\u001b[4mncbddd\u001b[0m(0.03, 318119) \u001b[1m\u001b[4mepidemiolog\u001b[0m(0.03, 165211) \u001b[1m\u001b[4mschendel\u001b[0m(0.03, 398189) \u001b[1m\u001b[4mnimh nih\u001b[0m(0.03, 826486) \u001b[1m\u001b[4mspeech therapi\u001b[0m(0.03, 926777) \u001b[1m\u001b[4mcure\u001b[0m(0.03, 134942) \u001b[1m\u001b[4mdiagnost\u001b[0m(0.03, 146011) \u001b[1m\u001b[4mcaus\u001b[0m(0.03, 110570) \u001b[1m\u001b[4msymptom caus\u001b[0m(0.03, 941334) \u001b[1m\u001b[4mgenet environment\u001b[0m(0.03, 711228) \u001b[1m\u001b[4manalysi\u001b[0m(0.03, 59792) \u001b[1m\u001b[4mname gbd2015pre\u001b[0m(0.03, 815185) \u001b[1m\u001b[4mgbd2015pre gt\u001b[0m(0.03, 710290) \u001b[1m\u001b[4mgbd2015pre\u001b[0m(0.03, 189557) \u001b[1m\u001b[4mdevelopment disord\u001b[0m(0.03, 662115) \u001b[1m\u001b[4mstack\u001b[0m(0.03, 423165) \u001b[1m\u001b[4m2015\u001b[0m(0.03, 16907) \u001b[1m\u001b[4mcure lt\u001b[0m(0.03, 650801) \u001b[1m\u001b[4mincid preval\u001b[0m(0.03, 745547) \u001b[1m\u001b[4mantipsychot\u001b[0m(0.03, 62557) \u001b[1m\u001b[4mbehavior therapi\u001b[0m(0.03, 596324) \u001b[1m\u001b[4missu 5\u001b[0m(0.03, 754653) \u001b[1m\u001b[4m120 issu\u001b[0m(0.03, 508228) \u001b[1m\u001b[4mcommunic\u001b[0m(0.03, 126334) \u001b[1m\u001b[4mdiseas injuri\u001b[0m(0.03, 665085) \u001b[1m\u001b[4mherit\u001b[0m(0.03, 213170) \u001b[1m\u001b[4mvolum 120\u001b[0m(0.03, 977547) \u001b[1m\u001b[4mmanual mental\u001b[0m(0.03, 792962) \u001b[1m\u001b[4mdiagnost statist\u001b[0m(0.03, 662556) \u001b[1m\u001b[4mstatist manual\u001b[0m(0.03, 933267) \u001b[1m\u001b[4m5\u001b[0m(0.03, 33305) \u001b[1m\u001b[4mhealth volum\u001b[0m(0.03, 731664) \u001b[1m\u001b[4menvironment factor\u001b[0m(0.03, 681677) \u001b[1m\u001b[4mreview public\u001b[0m(0.03, 894629) \u001b[1m\u001b[4m94 issu\u001b[0m(0.03, 558817) \u001b[1m\u001b[4mname quot\u001b[0m(0.03, 816961) \u001b[1m\u001b[4mquot gt\u001b[0m(0.03, 878104) \u001b[1m\u001b[4mdoi access\u001b[0m(0.03, 667971) \u001b[1m\u001b[4mamerican psychiatr\u001b[0m(0.03, 572631) \u001b[1m\u001b[4mvolum 94\u001b[0m(0.03, 977757) \u001b[1m\u001b[4msocial interact\u001b[0m(0.03, 922046) \u001b[1m\u001b[4mcontent full\u001b[0m(0.03, 642502) \u001b[1m\u001b[4maccess free\u001b[0m(0.03, 560810) \u001b[1m\u001b[4m2016 pmid\u001b[0m(0.03, 537809) \u001b[1m\u001b[4mfree lt\u001b[0m(0.03, 705738) \u001b[1m\u001b[4mincid\u001b[0m(0.03, 227666) \u001b[1m\u001b[4m5 page\u001b[0m(0.03, 550938) \u001b[1m\u001b[4mdata html\u001b[0m(0.03, 653033) \u001b[1m\u001b[4mmeta analysi\u001b[0m(0.03, 801281) \u001b[1m\u001b[4massoci\u001b[0m(0.03, 69603) \u001b[1m\u001b[4missu 3\u001b[0m(0.03, 754631) \u001b[1m\u001b[4m2016\u001b[0m(0.03, 17061) \u001b[1m\u001b[4mrestrict\u001b[0m(0.03, 380721) \u001b[1m\u001b[4mbehavior lt\u001b[0m(0.03, 596317) \u001b[1m\u001b[4m10 1016\u001b[0m(0.03, 505352) \u001b[1m\u001b[4ms0140 6736\u001b[0m(0.03, 902298) \u001b[1m\u001b[4m1162\u001b[0m(0.03, 6069) \u001b[1m\u001b[4ms0140\u001b[0m(0.03, 390836) \u001b[1m\u001b[4m1016 s0140\u001b[0m(0.03, 506496) \u001b[1m\u001b[4mlc lt\u001b[0m(0.03, 775147) \u001b[1m\u001b[4m1016\u001b[0m(0.03, 4153) \u001b[1m\u001b[4mwindham\u001b[0m(0.03, 484218) \u001b[1m\u001b[4m24 8\u001b[0m(0.03, 541200) \u001b[1m\u001b[4mrisk factor\u001b[0m(0.03, 896460) \u001b[1m\u001b[4m6736\u001b[0m(0.03, 37863) \u001b[1m\u001b[4mclinic\u001b[0m(0.03, 122774) \u001b[1m\u001b[4mwww cdc\u001b[0m(0.03, 992088) \u001b[1m\u001b[4mmental disord\u001b[0m(0.03, 800962) \u001b[1m\u001b[4mdaniel j\u001b[0m(0.03, 652555) \u001b[1m\u001b[4mjournal lancet\u001b[0m(0.03, 760924) \u001b[1m\u001b[4mjournal annual\u001b[0m(0.03, 760703) \u001b[1m\u001b[4mregress\u001b[0m(0.03, 378680) \u001b[1m\u001b[4mmandel\u001b[0m(0.03, 286339) \u001b[1m\u001b[4mgt risk\u001b[0m(0.03, 726169) \u001b[1m\u001b[4m3 page\u001b[0m(0.03, 544787) \u001b[1m\u001b[4mgov\u001b[0m(0.03, 198760) \u001b[1m\u001b[4mcgi content\u001b[0m(0.02, 620335) \u001b[1m\u001b[4mjournal acta\u001b[0m(0.02, 760684) \u001b[1m\u001b[4mrisk\u001b[0m(0.02, 383883) \u001b[1m\u001b[4mfactor lt\u001b[0m(0.02, 687327) \u001b[1m\u001b[4m1146 annurev\u001b[0m(0.02, 507474) \u001b[1m\u001b[4mannurev\u001b[0m(0.02, 61755) \u001b[1m\u001b[4m10 1146\u001b[0m(0.02, 505402) \u001b[1m\u001b[4maffect\u001b[0m(0.02, 50951) \u001b[1m\u001b[4mcan\u001b[0m(0.02, 106313) \u001b[1m\u001b[4menigma\u001b[0m(0.02, 164167) \u001b[1m\u001b[4menvironment\u001b[0m(0.02, 164840) \u001b[1m\u001b[4mlancet\u001b[0m(0.02, 264860) \u001b[1m\u001b[4mcontroversi\u001b[0m(0.02, 128362) \u001b[1m\u001b[4mnumber peopl\u001b[0m(0.02, 830617) \u001b[1m\u001b[4murl https\u001b[0m(0.02, 970113) \u001b[1m\u001b[4mannual review\u001b[0m(0.02, 576434) \u001b[1m\u001b[4mhttps\u001b[0m(0.02, 220745) \u001b[1m\u001b[4mpage 72\u001b[0m(0.02, 843830) \u001b[1m\u001b[4minteract\u001b[0m(0.02, 230068) \u001b[1m\u001b[4morg\u001b[0m(0.02, 336764) \u001b[1m\u001b[4m3\u001b[0m(0.02, 26245) \u001b[1m\u001b[4m18 issu\u001b[0m(0.02, 512237) \u001b[1m\u001b[4m1146\u001b[0m(0.02, 5892) \u001b[1m\u001b[4mvaccin\u001b[0m(0.02, 465850) \u001b[1m\u001b[4murl\u001b[0m(0.02, 463916) \u001b[1m\u001b[4mvolum 27\u001b[0m(0.02, 977648) \u001b[1m\u001b[4mreview\u001b[0m(0.02, 381232) \u001b[1m\u001b[4mvolum 18\u001b[0m(0.02, 977606) \u001b[1m\u001b[4myear 2008\u001b[0m(0.02, 995563) \u001b[1m\u001b[4mpsychiatr\u001b[0m(0.02, 367181) \u001b[1m\u001b[4m008\u001b[0m(0.02, 781) \u001b[1m\u001b[4macta\u001b[0m(0.02, 48830) \u001b[1m\u001b[4m2007\u001b[0m(0.02, 14594) \u001b[1m\u001b[4mhealth\u001b[0m(0.02, 210788) \u001b[1m\u001b[4mdiagnos\u001b[0m(0.02, 146009) \u001b[1m\u001b[4mmyer\u001b[0m(0.02, 313212) \u001b[1m\u001b[4mglobal\u001b[0m(0.02, 195336) \u001b[1m\u001b[4m8 million\u001b[0m(0.02, 556671) \u001b[1m\u001b[4mmedic\u001b[0m(0.02, 294568) \u001b[1m\u001b[4mpreval\u001b[0m(0.02, 364195) \u001b[1m\u001b[4mnih gov\u001b[0m(0.02, 826400) \u001b[1m\u001b[4mpublic health\u001b[0m(0.02, 871723) \u001b[1m\u001b[4mds\u001b[0m(0.02, 153970) \u001b[1m\u001b[4mke\u001b[0m(0.02, 247548) \u001b[1m\u001b[4morg cgi\u001b[0m(0.02, 838712) \u001b[1m\u001b[4mweb\u001b[0m(0.02, 479504) \u001b[1m\u001b[4mpsychologist\u001b[0m(0.02, 367224) \u001b[1m\u001b[4mnih\u001b[0m(0.02, 323466) \u001b[1m\u001b[4mmeta\u001b[0m(0.02, 297898) \u001b[1m\u001b[4mindef\u001b[0m(0.02, 227881) \u001b[1m\u001b[4mreichow\u001b[0m(0.02, 378834) \u001b[1m\u001b[4mcloser\u001b[0m(0.02, 123039) \u001b[1m\u001b[4msm\u001b[0m(0.02, 415446) \u001b[1m\u001b[4m10 1111\u001b[0m(0.02, 505389) \u001b[1m\u001b[4mkinsbourn\u001b[0m(0.02, 252343) \u001b[1m\u001b[4mlevi\u001b[0m(0.02, 271163) \u001b[1m\u001b[4m1111\u001b[0m(0.02, 5465) \u001b[1m\u001b[4m10 1007\u001b[0m(0.02, 505350) \u001b[1m\u001b[4mcp\u001b[0m(0.02, 131180) \u001b[1m\u001b[4mreaven\u001b[0m(0.02, 376983) \u001b[1m\u001b[4mstatist\u001b[0m(0.02, 424529) \u001b[1m\u001b[4m1007\u001b[0m(0.02, 3980) \u001b[1m\u001b[4mrecov\u001b[0m(0.02, 377456) \u001b[1m\u001b[4mlong term\u001b[0m(0.02, 785996) \u001b[1m\u001b[4mdifficulti\u001b[0m(0.02, 146888) \u001b[1m\u001b[4msystemat\u001b[0m(0.02, 434187) \u001b[1m\u001b[4mmental\u001b[0m(0.02, 296751) \u001b[1m\u001b[4mgc\u001b[0m(0.02, 189612) \u001b[1m\u001b[4mdisabl\u001b[0m(0.02, 148385) \u001b[1m\u001b[4moften\u001b[0m(0.02, 332510) \u001b[1m\u001b[4mgenet\u001b[0m(0.02, 190756) \u001b[1m\u001b[4maccess\u001b[0m(0.02, 47956) \u001b[1m\u001b[4mvalproic\u001b[0m(0.02, 466743) \u001b[1m\u001b[4m12559\u001b[0m(0.02, 7258) \u001b[1m\u001b[4missu 4\u001b[0m(0.02, 754642) \u001b[1m\u001b[4mfree\u001b[0m(0.02, 182938) \u001b[1m\u001b[4mcontent\u001b[0m(0.02, 128107) \u001b[1m\u001b[4mthepsychologist\u001b[0m(0.02, 444248) \u001b[1m\u001b[4mgrether\u001b[0m(0.02, 200742) \u001b[1m\u001b[4mf84\u001b[0m(0.02, 171202) \u001b[1m\u001b[4mexplain\u001b[0m(0.02, 170281) \u001b[1m\u001b[4mchang\u001b[0m(0.02, 114608) \u001b[1m\u001b[4mboorstein\u001b[0m(0.02, 94070) \u001b[1m\u001b[4mpeopl\u001b[0m(0.02, 350089) \u001b[1m\u001b[4mdata\u001b[0m(0.02, 139408) \u001b[1m\u001b[4mlc\u001b[0m(0.02, 267860) \u001b[1m\u001b[4mpsychiatrica\u001b[0m(0.02, 367183) \u001b[1m\u001b[4m1\u001b[0m(0.02, 3839) \u001b[1m\u001b[4mgene\u001b[0m(0.02, 190622) \u001b[1m\u001b[4mc\u001b[0m(0.02, 103691) \u001b[1m\u001b[4mmanual\u001b[0m(0.02, 287316) \u001b[1m\u001b[4mlauritsen\u001b[0m(0.02, 267217) \u001b[1m\u001b[4mspeech\u001b[0m(0.02, 420439) \u001b[1m\u001b[4mgiarelli\u001b[0m(0.02, 193068) \u001b[1m\u001b[4m4 page\u001b[0m(0.02, 548292) \u001b[1m\u001b[4mskill\u001b[0m(0.02, 413970) \u001b[1m\u001b[4m2008\u001b[0m(0.02, 14727) \u001b[1m\u001b[4moctob 2016\u001b[0m(0.02, 832415) \u001b[1m\u001b[4msteinhausen\u001b[0m(0.02, 425223) \u001b[1m\u001b[4minjuri\u001b[0m(0.02, 229181) \u001b[1m\u001b[4m9073\u001b[0m(0.02, 43158) \u001b[1m\u001b[4mwww nimh\u001b[0m(0.02, 993469) \u001b[1m\u001b[4mhttps www\u001b[0m(0.02, 740591) \u001b[1m\u001b[4m9075\u001b[0m(0.02, 43162) \u001b[1m\u001b[4m8\u001b[0m(0.02, 40371) \u001b[1m\u001b[4m9701\u001b[0m(0.02, 44433) \u001b[1m\u001b[4manalysi behavior\u001b[0m(0.02, 575044) \u001b[1m\u001b[4mcgi\u001b[0m(0.02, 113518) \u001b[1m\u001b[4mdisproven\u001b[0m(0.02, 148834) \u001b[1m\u001b[4mpdd\u001b[0m(0.02, 348312) \u001b[1m\u001b[4mhelt\u001b[0m(0.02, 212180) \u001b[1m\u001b[4mappli behavior\u001b[0m(0.02, 577685) \u001b[1m\u001b[4mpanza\u001b[0m(0.02, 344579) \u001b[1m\u001b[4menviron interact\u001b[0m(0.02, 681623) \u001b[1m\u001b[4mcare\u001b[0m(0.02, 108157) \u001b[1m\u001b[4mgt vcite\u001b[0m(0.02, 727495) \u001b[1m\u001b[4mvcite\u001b[0m(0.02, 468222) \u001b[1m\u001b[4mneurodevelopment\u001b[0m(0.02, 320807) \u001b[1m\u001b[4mchild life\u001b[0m(0.02, 623946) \u001b[1m\u001b[4msocial isol\u001b[0m(0.02, 922047) \u001b[1m\u001b[4medit chapter\u001b[0m(0.02, 673794) \u001b[1m\u001b[4mchronic condit\u001b[0m(0.02, 625355) \u001b[1m\u001b[4mjohnson\u001b[0m(0.02, 239430) \u001b[1m\u001b[4mmayoclin org\u001b[0m(0.02, 797711) \u001b[1m\u001b[4mpeopl 2015\u001b[0m(0.02, 849933) \u001b[1m\u001b[4mpsychiatr publish\u001b[0m(0.02, 871357) \u001b[1m\u001b[4mtitl incid\u001b[0m(0.02, 953709) \u001b[1m\u001b[4mrubella\u001b[0m(0.02, 388830) \u001b[1m\u001b[4mself harm\u001b[0m(0.02, 910070) \u001b[1m\u001b[4moften develop\u001b[0m(0.02, 833744) \u001b[1m\u001b[4mwhether actual\u001b[0m(0.02, 983827) \u001b[1m\u001b[4masperg syndrom\u001b[0m(0.02, 583574) \u001b[1m\u001b[4mbritish psycholog\u001b[0m(0.02, 605551) \u001b[1m\u001b[4m2015 diseas\u001b[0m(0.02, 537211) \u001b[1m\u001b[4m2017 lc\u001b[0m(0.02, 538136) \u001b[1m\u001b[4mclinic neurosci\u001b[0m(0.02, 629236) \u001b[1m\u001b[4msocial communic\u001b[0m(0.02, 921982) \u001b[1m\u001b[4minjuri incid\u001b[0m(0.02, 749916) \u001b[1m\u001b[4mneurol volum\u001b[0m(0.02, 823427) \u001b[1m\u001b[4m2361\u001b[0m(0.02, 22442) \u001b[1m\u001b[4munderstood lt\u001b[0m(0.02, 967323) \u001b[1m\u001b[4mschizophrenia lt\u001b[0m(0.02, 904645) \u001b[1m\u001b[4mdisabl 310\u001b[0m(0.02, 664688) \u001b[1m\u001b[4m27733282\u001b[0m(0.02, 24372) \u001b[1m\u001b[4mpmid 27733282\u001b[0m(0.02, 858710) \u001b[1m\u001b[4mpmc 5055577\u001b[0m(0.02, 858701) \u001b[1m\u001b[4mtime mean\u001b[0m(0.02, 950929) \u001b[1m\u001b[4m31678 6\u001b[0m(0.02, 546011) \u001b[1m\u001b[4m310 diseas\u001b[0m(0.02, 545972) \u001b[1m\u001b[4m1545 1602\u001b[0m(0.02, 510441) \u001b[1m\u001b[4m5055577\u001b[0m(0.02, 33512) \u001b[1m\u001b[4m16 31678\u001b[0m(0.02, 510698) \u001b[1m\u001b[4minclud certain\u001b[0m(0.02, 745736) \u001b[1m\u001b[4mse\u001b[0m(0.02, 400969) \u001b[1m\u001b[4mtoxicolog volum\u001b[0m(0.02, 959533) \u001b[1m\u001b[4mpsycholog societi\u001b[0m(0.02, 871402) \u001b[1m\u001b[4mj walsh\u001b[0m(0.02, 755977) \u001b[1m\u001b[4m31678\u001b[0m(0.02, 27019) \u001b[1m\u001b[4medit\u001b[0m(0.02, 158837) \u001b[1m\u001b[4mcommunic skill\u001b[0m(0.02, 637625) \u001b[1m\u001b[4m745 lt\u001b[0m(0.02, 555676) \u001b[1m\u001b[4marchiv\u001b[0m(0.02, 65295) \u001b[1m\u001b[4mdevelop individu\u001b[0m(0.02, 661801) \u001b[1m\u001b[4m94\u001b[0m(0.02, 43827) \u001b[1m\u001b[4minjuri 1990\u001b[0m(0.02, 749905) \u001b[1m\u001b[4menviron\u001b[0m(0.02, 164838) \u001b[1m\u001b[4mpublish\u001b[0m(0.02, 367864) \u001b[1m\u001b[4myear 2007\u001b[0m(0.02, 995562) \u001b[1m\u001b[4m6 pmc\u001b[0m(0.02, 553514) \u001b[1m\u001b[4mscandinavica\u001b[0m(0.02, 397500) \u001b[1m\u001b[4mlive independ\u001b[0m(0.02, 782922) \u001b[1m\u001b[4mpage 1545\u001b[0m(0.02, 843219) \u001b[1m\u001b[4m2362\u001b[0m(0.02, 22444) \u001b[1m\u001b[4mgbd 2015\u001b[0m(0.02, 710288) \u001b[1m\u001b[4mga titl\u001b[0m(0.02, 708358) \u001b[1m\u001b[4mnerv cell\u001b[0m(0.02, 822741) \u001b[1m\u001b[4m2995\u001b[0m(0.02, 25219) \u001b[1m\u001b[4mgt 2000s\u001b[0m(0.02, 720164) \u001b[1m\u001b[4mlt keep\u001b[0m(0.02, 787771) \u001b[1m\u001b[4mpreval year\u001b[0m(0.02, 865604) \u001b[1m\u001b[4minvolv social\u001b[0m(0.02, 752662) \u001b[1m\u001b[4motherwis specifi\u001b[0m(0.01, 840875) \u001b[1m\u001b[4m2015 lc\u001b[0m(0.01, 537304) \u001b[1m\u001b[4mless sever\u001b[0m(0.01, 778102) \u001b[1m\u001b[4mpsychotrop\u001b[0m(0.01, 367267) \u001b[1m\u001b[4missu 10053\u001b[0m(0.01, 754595) \u001b[1m\u001b[4mmmr\u001b[0m(0.01, 303906) \u001b[1m\u001b[4m10053 page\u001b[0m(0.01, 506394) \u001b[1m\u001b[4mphysician volum\u001b[0m(0.01, 853755) \u001b[1m\u001b[4m2015 systemat\u001b[0m(0.01, 537457) \u001b[1m\u001b[4m2227\u001b[0m(0.01, 21400) \u001b[1m\u001b[4mpsychiatri symptom\u001b[0m(0.01, 871362) \u001b[1m\u001b[4manoth planet\u001b[0m(0.01, 576552) \u001b[1m\u001b[4mdisord url\u001b[0m(0.01, 665202) \u001b[1m\u001b[4masperg\u001b[0m(0.01, 69282) \u001b[1m\u001b[4m72\u001b[0m(0.01, 38827) \u001b[1m\u001b[4mcultur aspect\u001b[0m(0.01, 650046) \u001b[1m\u001b[4mdisord dsm\u001b[0m(0.01, 665193) \u001b[1m\u001b[4minteract journal\u001b[0m(0.01, 751138) \u001b[1m\u001b[4msocial skill\u001b[0m(0.01, 922107) \u001b[1m\u001b[4mtitl epidemiolog\u001b[0m(0.01, 953082) \u001b[1m\u001b[4mbehavior analysi\u001b[0m(0.01, 596309) \u001b[1m\u001b[4mdevelop\u001b[0m(0.01, 145023) \u001b[1m\u001b[4m5 children\u001b[0m(0.01, 550643) \u001b[1m\u001b[4mtitl diagnosi\u001b[0m(0.01, 952858) \u001b[1m\u001b[4mj reynold\u001b[0m(0.01, 755912) \u001b[1m\u001b[4mlive disabl\u001b[0m(0.01, 782853) \u001b[1m\u001b[4mwww mayoclin\u001b[0m(0.01, 993230) \u001b[1m\u001b[4m6736 16\u001b[0m(0.01, 554349) \u001b[1m\u001b[4mdata statist\u001b[0m(0.01, 653122) \u001b[1m\u001b[4m132 issu\u001b[0m(0.01, 509038) \u001b[1m\u001b[4mtitl diagnost\u001b[0m(0.01, 952859) \u001b[1m\u001b[4m10053\u001b[0m(0.01, 3958) \u001b[1m\u001b[4mc doi\u001b[0m(0.01, 609308) \u001b[1m\u001b[4mlife journal\u001b[0m(0.01, 779401) \u001b[1m\u001b[4mmayoclin\u001b[0m(0.01, 292088) \u001b[1m\u001b[4m133 issu\u001b[0m(0.01, 509048) \u001b[1m\u001b[4m1990 2015\u001b[0m(0.01, 524530) \u001b[1m\u001b[4mpace lt\u001b[0m(0.01, 842968) \u001b[1m\u001b[4mnation incid\u001b[0m(0.01, 819323) \u001b[1m\u001b[4mother believ\u001b[0m(0.01, 840674) \u001b[1m\u001b[4mstudi 2015\u001b[0m(0.01, 936547) \u001b[1m\u001b[4mrj titl\u001b[0m(0.01, 897032) \u001b[1m\u001b[4mharm lt\u001b[0m(0.01, 730488) \u001b[1m\u001b[4mdsm 5\u001b[0m(0.01, 669941) \u001b[1m\u001b[4mdaniel\u001b[0m(0.01, 138467) \u001b[1m\u001b[4msm titl\u001b[0m(0.01, 921065) \u001b[1m\u001b[4mincreas dramat\u001b[0m(0.01, 746598) \u001b[1m\u001b[4msyc\u001b[0m(0.01, 433542) \u001b[1m\u001b[4m388 issu\u001b[0m(0.01, 547268) \u001b[1m\u001b[4mtitl cognit\u001b[0m(0.01, 952544) \u001b[1m\u001b[4mchast\u001b[0m(0.01, 115468) \u001b[1m\u001b[4mgbd\u001b[0m(0.01, 189554) \u001b[1m\u001b[4mestim\u001b[0m(0.01, 167695) \u001b[1m\u001b[4mvolum 388\u001b[0m(0.01, 977681) \u001b[1m\u001b[4mamerican\u001b[0m(0.01, 58604) \u001b[1m\u001b[4mdiseas condit\u001b[0m(0.01, 665072) \u001b[1m\u001b[4mlancet date\u001b[0m(0.01, 770347) \u001b[1m\u001b[4mgt prognosi\u001b[0m(0.01, 725758) \u001b[1m\u001b[4mcognit behavior\u001b[0m(0.01, 632389) \u001b[1m\u001b[4mvolum 133\u001b[0m(0.01, 977561) \u001b[1m\u001b[4mc lee\u001b[0m(0.01, 609528) \u001b[1m\u001b[4meditor american\u001b[0m(0.01, 674037) \u001b[1m\u001b[4mself\u001b[0m(0.01, 402883) \u001b[1m\u001b[4mlanda\u001b[0m(0.01, 264909) \u001b[1m\u001b[4mvolum 132\u001b[0m(0.01, 977560) \u001b[1m\u001b[4mrecov lt\u001b[0m(0.01, 886994) \u001b[1m\u001b[4mhealth topic\u001b[0m(0.01, 731658) \u001b[1m\u001b[4mfein\u001b[0m(0.01, 174566) \u001b[1m\u001b[4mper 1\u001b[0m(0.01, 850574) \u001b[1m\u001b[4medit 10\u001b[0m(0.01, 673697) \u001b[1m\u001b[4moccur\u001b[0m(0.01, 331284) \u001b[1m\u001b[4mfallin\u001b[0m(0.01, 172275) \u001b[1m\u001b[4mlyall\u001b[0m(0.01, 280591) \u001b[1m\u001b[4mwork practic\u001b[0m(0.01, 989019) \u001b[1m\u001b[4mneurol\u001b[0m(0.01, 320841) \u001b[1m\u001b[4msystemat analysi\u001b[0m(0.01, 942159) \u001b[1m\u001b[4mrate increas\u001b[0m(0.01, 884589) \u001b[1m\u001b[4mreview meta\u001b[0m(0.01, 894596) \u001b[1m\u001b[4mpage 445\u001b[0m(0.01, 843554) \u001b[1m\u001b[4malthough known\u001b[0m(0.01, 571193) \u001b[1m\u001b[4manalysi global\u001b[0m(0.01, 575052) \u001b[1m\u001b[4mrutter\u001b[0m(0.01, 390166) \u001b[1m\u001b[4mgt question\u001b[0m(0.01, 725858) \u001b[1m\u001b[4mhelp children\u001b[0m(0.01, 732625) \u001b[1m\u001b[4mcondit includ\u001b[0m(0.01, 640308) \u001b[1m\u001b[4mpractic url\u001b[0m(0.01, 863568) \u001b[1m\u001b[4mcollabor titl\u001b[0m(0.01, 632652) \u001b[1m\u001b[4mdiseas studi\u001b[0m(0.01, 665106) \u001b[1m\u001b[4mburden diseas\u001b[0m(0.01, 607924) \u001b[1m\u001b[4mglobal burden\u001b[0m(0.01, 714116) \u001b[1m\u001b[4mdiagnosi base\u001b[0m(0.01, 662546) \u001b[1m\u001b[4mwell understood\u001b[0m(0.01, 982674) \u001b[1m\u001b[4mmay part\u001b[0m(0.01, 797592) \u001b[1m\u001b[4mdisord character\u001b[0m(0.01, 665190) \u001b[1m\u001b[4mfamili physician\u001b[0m(0.01, 688210) \u001b[1m\u001b[4mautoimmun diseas\u001b[0m(0.01, 588364) \u001b[1m\u001b[4minterperson relationship\u001b[0m(0.01, 752071) \u001b[1m\u001b[4mplainurl yes\u001b[0m(0.01, 856374) \u001b[1m\u001b[4mpeopl affect\u001b[0m(0.01, 849943) \u001b[1m\u001b[4m50 59\u001b[0m(0.01, 551185) \u001b[1m\u001b[4mcombin\u001b[0m(0.01, 125924) \u001b[1m\u001b[4mglobal region\u001b[0m(0.01, 714213) \u001b[1m\u001b[4m56 year\u001b[0m(0.01, 552394) \u001b[1m\u001b[4msever form\u001b[0m(0.01, 914118) \u001b[1m\u001b[4m2 per\u001b[0m(0.01, 528257) \u001b[1m\u001b[4mfirst 3\u001b[0m(0.01, 695084) \u001b[1m\u001b[4m38 page\u001b[0m(0.01, 547234) \u001b[1m\u001b[4mgov health\u001b[0m(0.01, 716199) \u001b[1m\u001b[4mthough\u001b[0m(0.01, 445599) \u001b[1m\u001b[4mtime often\u001b[0m(0.01, 950996) \u001b[1m\u001b[4mjournal nat\u001b[0m(0.01, 760969) \u001b[1m\u001b[4m2017 pmid\u001b[0m(0.01, 538205) \u001b[1m\u001b[4mmayo clinic\u001b[0m(0.01, 797702) \u001b[1m\u001b[4mneuropsycholog\u001b[0m(0.01, 320898) \u001b[1m\u001b[4mepidemiolog gt\u001b[0m(0.01, 681850) \u001b[1m\u001b[4mmartin j\u001b[0m(0.01, 795553) \u001b[1m\u001b[4mintellectu disabl\u001b[0m(0.01, 750990) \u001b[1m\u001b[4mpract\u001b[0m(0.01, 362705) \u001b[1m\u001b[4mpage 325\u001b[0m(0.01, 843420) \u001b[1m\u001b[4mpeopl worldwid\u001b[0m(0.01, 850545) \u001b[1m\u001b[4mantidepress\u001b[0m(0.01, 62360) \u001b[1m\u001b[4mbps\u001b[0m(0.01, 96206) \u001b[1m\u001b[4mrev volum\u001b[0m(0.01, 894180) \u001b[1m\u001b[4mpsychiatr associ\u001b[0m(0.01, 871352) \u001b[1m\u001b[4mfield psychiatri\u001b[0m(0.01, 691696) \u001b[1m\u001b[4mdue chang\u001b[0m(0.01, 670420) \u001b[1m\u001b[4mcountri 1\u001b[0m(0.01, 646392) \u001b[1m\u001b[4mpaediatr\u001b[0m(0.01, 342347) \u001b[1m\u001b[4mbot deni\u001b[0m(0.01, 602879) \u001b[1m\u001b[4mtitl systemat\u001b[0m(0.01, 955656) \u001b[1m\u001b[4m50 date\u001b[0m(0.01, 551218) \u001b[1m\u001b[4msymptom lt\u001b[0m(0.01, 941339) \u001b[1m\u001b[4mpoor lt\u001b[0m(0.01, 860710) \u001b[1m\u001b[4m18\u001b[0m(0.01, 12334) \u001b[1m\u001b[4mprenat\u001b[0m(0.01, 363720) \u001b[1m\u001b[4mpage 339\u001b[0m(0.01, 843435) \u001b[1m\u001b[4mlancet volum\u001b[0m(0.01, 770348) \u001b[1m\u001b[4mpractic\u001b[0m(0.01, 362706) \u001b[1m\u001b[4m2015 journal\u001b[0m(0.01, 537291) \u001b[1m\u001b[4mlt treatment\u001b[0m(0.01, 788096) \u001b[1m\u001b[4mtreatment gt\u001b[0m(0.01, 961362) \u001b[1m\u001b[4mgt controversi\u001b[0m(0.01, 721875) \u001b[1m\u001b[4mincreas\u001b[0m(0.01, 227778) \u001b[1m\u001b[4msign first\u001b[0m(0.01, 917099) \u001b[1m\u001b[4murl googl\u001b[0m(0.01, 970109) \u001b[1m\u001b[4mpage 305\u001b[0m(0.01, 843398) \u001b[1m\u001b[4m27 page\u001b[0m(0.01, 542849) \u001b[1m\u001b[4mvolk\u001b[0m(0.01, 474253) \u001b[1m\u001b[4msynaps\u001b[0m(0.01, 433856) \u001b[1m\u001b[4m1193\u001b[0m(0.01, 6403) \u001b[1m\u001b[4mage two\u001b[0m(0.01, 565588) \u001b[1m\u001b[4mskill lt\u001b[0m(0.01, 920483) \u001b[1m\u001b[4mplainurl\u001b[0m(0.01, 356713) \u001b[1m\u001b[4mfieldwork\u001b[0m(0.01, 176510) \u001b[1m\u001b[4mcontroversi surround\u001b[0m(0.01, 643262) \u001b[1m\u001b[4mshtml websit\u001b[0m(0.01, 916619) \u001b[1m\u001b[4m2009 doi\u001b[0m(0.01, 533235) \u001b[1m\u001b[4mpage 281\u001b[0m(0.01, 843369) \u001b[1m\u001b[4munresolv\u001b[0m(0.01, 462832) \u001b[1m\u001b[4mlt epidemiolog\u001b[0m(0.01, 787638) \u001b[1m\u001b[4mneurosci volum\u001b[0m(0.01, 823445) \u001b[1m\u001b[4mrestrict lt\u001b[0m(0.01, 893236) \u001b[1m\u001b[4mmillion 2015\u001b[0m(0.01, 804044) \u001b[1m\u001b[4mautoimmun\u001b[0m(0.01, 72497) \u001b[1m\u001b[4m7 2000\u001b[0m(0.01, 554705) \u001b[1m\u001b[4mdsm\u001b[0m(0.01, 154045) \u001b[1m\u001b[4mpage 235\u001b[0m(0.01, 843318) \u001b[1m\u001b[4m28 page\u001b[0m(0.01, 543292) \u001b[1m\u001b[4mprimari care\u001b[0m(0.01, 866021) \u001b[1m\u001b[4mfrith\u001b[0m(0.01, 183802) \u001b[1m\u001b[4mfetal\u001b[0m(0.01, 175608) \u001b[1m\u001b[4mpervas\u001b[0m(0.01, 351355) \u001b[1m\u001b[4msign\u001b[0m(0.01, 411173) \u001b[1m\u001b[4mgt onset\u001b[0m(0.01, 725250) \u001b[1m\u001b[4macosta\u001b[0m(0.01, 48651) \u001b[1m\u001b[4mmohr\u001b[0m(0.01, 304860) \u001b[1m\u001b[4m1182\u001b[0m(0.01, 6296) \u001b[1m\u001b[4mpp\u001b[0m(0.01, 362420) \u001b[1m\u001b[4mcultur develop\u001b[0m(0.01, 650084) \u001b[1m\u001b[4m2017\u001b[0m(0.01, 17193) \u001b[1m\u001b[4mpandey\u001b[0m(0.01, 344053) \u001b[1m\u001b[4mladd\u001b[0m(0.01, 263541) \u001b[1m\u001b[4mair pollut\u001b[0m(0.01, 566402) \u001b[1m\u001b[4mgt prevent\u001b[0m(0.01, 725718) \u001b[1m\u001b[4mdiagnosi gt\u001b[0m(0.01, 662548) \u001b[1m\u001b[4macp\u001b[0m(0.01, 48668) \u001b[1m\u001b[4manalysi journal\u001b[0m(0.01, 575056) \u001b[1m\u001b[4mtitl identif\u001b[0m(0.01, 953685) \u001b[1m\u001b[4mwww\u001b[0m(0.01, 489026) \u001b[1m\u001b[4mindef pp\u001b[0m(0.01, 746712) \u001b[1m\u001b[4mca titl\u001b[0m(0.01, 610249) \u001b[1m\u001b[4mannual\u001b[0m(0.01, 61702) \u001b[1m\u001b[4mestim 1\u001b[0m(0.01, 683528) \u001b[1m\u001b[4mquestion whether\u001b[0m(0.01, 875305) \u001b[1m\u001b[4mvanc titl\u001b[0m(0.01, 973810) \u001b[1m\u001b[4mtitl clinic\u001b[0m(0.01, 952526) \u001b[1m\u001b[4mpage 138\u001b[0m(0.01, 843199) \u001b[1m\u001b[4m3 oclc\u001b[0m(0.01, 544768) \u001b[1m\u001b[4msinc 1960s\u001b[0m(0.01, 917905) \u001b[1m\u001b[4mdefinit symptom\u001b[0m(0.01, 658060) \u001b[1m\u001b[4mcorcoran\u001b[0m(0.01, 129134) \u001b[1m\u001b[4msymptom gt\u001b[0m(0.01, 941337) \u001b[1m\u001b[4matyp\u001b[0m(0.01, 71258) \u001b[1m\u001b[4mgt complic\u001b[0m(0.01, 721794) \u001b[1m\u001b[4mschizophrenia\u001b[0m(0.01, 398521) \u001b[1m\u001b[4minterperson\u001b[0m(0.01, 230442) \u001b[1m\u001b[4mgt occur\u001b[0m(0.01, 725199) \u001b[1m\u001b[4mpesticid\u001b[0m(0.01, 351515) \u001b[1m\u001b[4mcommon associ\u001b[0m(0.01, 637301) \u001b[1m\u001b[4mthree lt\u001b[0m(0.01, 949255) \u001b[1m\u001b[4mpage 155\u001b[0m(0.01, 843220) \u001b[1m\u001b[4mbook\u001b[0m(0.01, 93844) \u001b[1m\u001b[4m1215\u001b[0m(0.01, 6768) \u001b[1m\u001b[4mvolum 56\u001b[0m(0.01, 977712) \u001b[1m\u001b[4mclin\u001b[0m(0.01, 122753) \u001b[1m\u001b[4m2016 volum\u001b[0m(0.01, 537916) \u001b[1m\u001b[4mgt differenti\u001b[0m(0.01, 722235) \u001b[1m\u001b[4mworsen\u001b[0m(0.01, 487362) \u001b[1m\u001b[4massoci year\u001b[0m(0.01, 584522) \u001b[1m\u001b[4m2013 pmid\u001b[0m(0.01, 536267) \u001b[1m\u001b[4mgt frequenc\u001b[0m(0.01, 722996) \u001b[1m\u001b[4mchang time\u001b[0m(0.01, 621847) \u001b[1m\u001b[4mtoxicolog\u001b[0m(0.01, 451478) \u001b[1m\u001b[4mfifth edit\u001b[0m(0.01, 691891) \u001b[1m\u001b[4mpart due\u001b[0m(0.01, 846459) \u001b[1m\u001b[4mpress new\u001b[0m(0.01, 865413) \u001b[1m\u001b[4myork date\u001b[0m(0.01, 998195) \u001b[1m\u001b[4msystemat review\u001b[0m(0.01, 942166) \u001b[1m\u001b[4m2012 pmid\u001b[0m(0.01, 535600) \u001b[1m\u001b[4mweinstein\u001b[0m(0.01, 480199) \u001b[1m\u001b[4mtitl children\u001b[0m(0.01, 952471) \u001b[1m\u001b[4mcocain\u001b[0m(0.01, 124165) \u001b[1m\u001b[4mtoxin\u001b[0m(0.01, 451483) \u001b[1m\u001b[4madulthood\u001b[0m(0.01, 50196) \u001b[1m\u001b[4mbloch\u001b[0m(0.01, 90939) \u001b[1m\u001b[4msilverman\u001b[0m(0.01, 411744) \u001b[1m\u001b[4myear live\u001b[0m(0.01, 996082) \u001b[1m\u001b[4mmillion\u001b[0m(0.01, 301132) \u001b[1m\u001b[4mtitl manag\u001b[0m(0.01, 954180) \u001b[1m\u001b[4myes publish\u001b[0m(0.01, 997916) \u001b[1m\u001b[4m2014 volum\u001b[0m(0.01, 537030) \u001b[1m\u001b[4mfour five\u001b[0m(0.01, 704181) \u001b[1m\u001b[4muta\u001b[0m(0.01, 464979) \u001b[1m\u001b[4mjk\u001b[0m(0.01, 238947) \u001b[1m\u001b[4mbook vauthor\u001b[0m(0.01, 602042) \u001b[1m\u001b[4msocial work\u001b[0m(0.01, 922130) \u001b[1m\u001b[4mdg\u001b[0m(0.01, 145433) \u001b[1m\u001b[4mpage 81\u001b[0m(0.01, 843861) \u001b[1m\u001b[4msocieti date\u001b[0m(0.01, 922241) \u001b[1m\u001b[4mfemal lt\u001b[0m(0.01, 690617) \u001b[1m\u001b[4mgt global\u001b[0m(0.01, 723161) \u001b[1m\u001b[4mindef short\u001b[0m(0.01, 746713) \u001b[1m\u001b[4mgt caus\u001b[0m(0.01, 721462) \u001b[1m\u001b[4m1545\u001b[0m(0.01, 10293) \u001b[1m\u001b[4m1627\u001b[0m(0.01, 11041) \u001b[1m\u001b[4mcultur\u001b[0m(0.01, 134564) \u001b[1m\u001b[4mpinto\u001b[0m(0.01, 355648) \u001b[1m\u001b[4mindex shtml\u001b[0m(0.01, 747037) \u001b[1m\u001b[4m979\u001b[0m(0.01, 44691) \u001b[1m\u001b[4mformat vanc\u001b[0m(0.01, 702378) \u001b[1m\u001b[4mamerican famili\u001b[0m(0.01, 572249) \u001b[1m\u001b[4m972\u001b[0m(0.01, 44460) \u001b[1m\u001b[4minclud\u001b[0m(0.01, 227696) \u001b[1m\u001b[4mvolum 38\u001b[0m(0.01, 977679) \u001b[1m\u001b[4m2008 volum\u001b[0m(0.01, 533003) \u001b[1m\u001b[4m2009 pmid\u001b[0m(0.01, 533471) \u001b[1m\u001b[4mwww academia\u001b[0m(0.01, 991658) \u001b[1m\u001b[4m744\u001b[0m(0.01, 39278) \u001b[1m\u001b[4m1602\u001b[0m(0.01, 10804) \u001b[1m\u001b[4m2005 pmid\u001b[0m(0.01, 531278) \u001b[1m\u001b[4mgt sign\u001b[0m(0.01, 726564) \u001b[1m\u001b[4mpractic lt\u001b[0m(0.01, 863525) \u001b[1m\u001b[4mbulli\u001b[0m(0.01, 101417) \u001b[1m\u001b[4mgt medic\u001b[0m(0.01, 724645) \u001b[1m\u001b[4manxieti\u001b[0m(0.01, 62960) \u001b[1m\u001b[4m14 issu\u001b[0m(0.01, 509483) \u001b[1m\u001b[4mfull\u001b[0m(0.01, 184932) \u001b[1m\u001b[4m1638\u001b[0m(0.01, 11125) \u001b[1m\u001b[4moctob\u001b[0m(0.01, 331595) \u001b[1m\u001b[4m1651\u001b[0m(0.01, 11230) \u001b[1m\u001b[4medit jpg\u001b[0m(0.01, 673877) \u001b[1m\u001b[4mlist format\u001b[0m(0.01, 781654) \u001b[1m\u001b[4mgt durat\u001b[0m(0.01, 722397) \u001b[1m\u001b[4mlt definit\u001b[0m(0.01, 787591) \u001b[1m\u001b[4mla\u001b[0m(0.01, 262948) \u001b[1m\u001b[4macademia edu\u001b[0m(0.01, 560666) \u001b[1m\u001b[4mschultz\u001b[0m(0.01, 399383) \u001b[1m\u001b[4m10 1017\u001b[0m(0.01, 505353) \u001b[1m\u001b[4mcj\u001b[0m(0.01, 121516) \u001b[1m\u001b[4mright movement\u001b[0m(0.01, 896054) \u001b[1m\u001b[4m9 url\u001b[0m(0.01, 558388) \u001b[1m\u001b[4myear life\u001b[0m(0.01, 996074) \u001b[1m\u001b[4msemi indef\u001b[0m(0.01, 910210) \u001b[1m\u001b[4m50\u001b[0m(0.01, 33306) \u001b[1m\u001b[4mciteseerx 10\u001b[0m(0.01, 626489) \u001b[1m\u001b[4m0\u001b[0m(0.01, 0) \u001b[1m\u001b[4m695\u001b[0m(0.01, 38218) \u001b[1m\u001b[4mvolum 28\u001b[0m(0.01, 977659) \u001b[1m\u001b[4m745\u001b[0m(0.01, 39291) \u001b[1m\u001b[4mciteseerx\u001b[0m(0.01, 121156) \u001b[1m\u001b[4m2013\u001b[0m(0.01, 16261) \u001b[1m\u001b[4mgov access\u001b[0m(0.01, 716077) \u001b[1m\u001b[4m4 issu\u001b[0m(0.01, 548172) \u001b[1m\u001b[4moswald\u001b[0m(0.01, 338587) \u001b[1m\u001b[4mkelley\u001b[0m(0.01, 248201) \u001b[1m\u001b[4msuccess lt\u001b[0m(0.01, 938188) \u001b[1m\u001b[4mterm lt\u001b[0m(0.01, 946369) \u001b[1m\u001b[4mrj\u001b[0m(0.01, 384338) \u001b[1m\u001b[4mburden\u001b[0m(0.01, 101976) \u001b[1m\u001b[4m3 issu\u001b[0m(0.01, 544633) \u001b[1m\u001b[4mlife\u001b[0m(0.01, 272450) \u001b[1m\u001b[4m2015 page\u001b[0m(0.01, 537376) \u001b[1m\u001b[4mdiseas lt\u001b[0m(0.01, 665088) \u001b[1m\u001b[4mvolum 14\u001b[0m(0.01, 977568) \u001b[1m\u001b[4mmh\u001b[0m(0.01, 299045) \u001b[1m\u001b[4madolesc\u001b[0m(0.01, 49989) \u001b[1m\u001b[4mgt case\u001b[0m(0.01, 721439) \u001b[1m\u001b[4m2nd edit\u001b[0m(0.01, 543896) \u001b[1m\u001b[4mreactiv\u001b[0m(0.01, 376719) \u001b[1m\u001b[4msociet\u001b[0m(0.01, 416819) \u001b[1m\u001b[4m72 lt\u001b[0m(0.01, 555468) \u001b[1m\u001b[4mdevelop countri\u001b[0m(0.01, 661684) \u001b[1m\u001b[4m1017\u001b[0m(0.01, 4165) \u001b[1m\u001b[4m452\u001b[0m(0.01, 31776) \u001b[1m\u001b[4mtitl chang\u001b[0m(0.01, 952437) \u001b[1m\u001b[4mstatist publish\u001b[0m(0.01, 933297) \u001b[1m\u001b[4m59 lt\u001b[0m(0.01, 552795) \u001b[1m\u001b[4mdate novemb\u001b[0m(0.01, 653841) \u001b[1m\u001b[4mpage gt\u001b[0m(0.01, 843966) \u001b[1m\u001b[4mhypothesi\u001b[0m(0.01, 223298) \u001b[1m\u001b[4mjensen\u001b[0m(0.01, 237568) \u001b[1m\u001b[4mtitl global\u001b[0m(0.01, 953430) \u001b[1m\u001b[4mpsychiatri\u001b[0m(0.01, 367182) \u001b[1m\u001b[4mneurosci\u001b[0m(0.01, 320910) \u001b[1m\u001b[4m388\u001b[0m(0.01, 29522) \u001b[1m\u001b[4mvanc\u001b[0m(0.01, 466923) \u001b[1m\u001b[4msnyder\u001b[0m(0.01, 416532) \u001b[1m\u001b[4mb titl\u001b[0m(0.01, 590408) \u001b[1m\u001b[4mquot referencea\u001b[0m(0.01, 880170) \u001b[1m\u001b[4mreview volum\u001b[0m(0.01, 894668) \u001b[1m\u001b[4m007\u001b[0m(0.01, 739) \u001b[1m\u001b[4mimpair\u001b[0m(0.01, 227157) \u001b[1m\u001b[4mreferencea quot\u001b[0m(0.01, 887912) \u001b[1m\u001b[4mdate decemb\u001b[0m(0.01, 653698) \u001b[1m\u001b[4mreferencea\u001b[0m(0.01, 378194) \u001b[1m\u001b[4m2 15\u001b[0m(0.01, 527276) \u001b[1m\u001b[4missu 12\u001b[0m(0.01, 754597) \u001b[1m\u001b[4mfebruari 2006\u001b[0m(0.01, 690060) \u001b[1m\u001b[4m374\u001b[0m(0.01, 29157) \u001b[1m\u001b[4mmayo\u001b[0m(0.01, 292084) \u001b[1m\u001b[4mchronic\u001b[0m(0.01, 119229) \u001b[1m\u001b[4m366\u001b[0m(0.01, 28909) \u001b[1m\u001b[4marchived 8\u001b[0m(0.01, 579386) \u001b[1m\u001b[4mnerv\u001b[0m(0.01, 320172) \u001b[1m\u001b[4m2017 date\u001b[0m(0.01, 538042) \u001b[1m\u001b[4mmileston\u001b[0m(0.01, 300817) \u001b[1m\u001b[4mh\u001b[0m(0.01, 204959) \u001b[1m\u001b[4m445\u001b[0m(0.01, 31613) \u001b[1m\u001b[4m4\u001b[0m(0.01, 30448) \u001b[1m\u001b[4mmanag\u001b[0m(0.01, 285975) \u001b[1m\u001b[4m2006 isbn\u001b[0m(0.01, 531631) \u001b[1m\u001b[4mtwo three\u001b[0m(0.01, 964020) \u001b[1m\u001b[4m339\u001b[0m(0.01, 28019) \u001b[1m\u001b[4mdate octob\u001b[0m(0.01, 653847) \u001b[1m\u001b[4mlong\u001b[0m(0.01, 276972) \u001b[1m\u001b[4mnos\u001b[0m(0.01, 327159) \u001b[1m\u001b[4mfive time\u001b[0m(0.01, 697582) \u001b[1m\u001b[4m341\u001b[0m(0.01, 28123) \u001b[1m\u001b[4mmillion peopl\u001b[0m(0.01, 804137) \u001b[1m\u001b[4m12 page\u001b[0m(0.01, 508098) \u001b[1m\u001b[4mregion nation\u001b[0m(0.01, 888630) \u001b[1m\u001b[4mstimul\u001b[0m(0.01, 426140) \u001b[1m\u001b[4m2006 quot\u001b[0m(0.01, 531758) \u001b[1m\u001b[4m2000 unit\u001b[0m(0.01, 529537) \u001b[1m\u001b[4mpp semi\u001b[0m(0.01, 863401) \u001b[1m\u001b[4mmale femal\u001b[0m(0.01, 791267) \u001b[1m\u001b[4mpollut\u001b[0m(0.01, 359409) \u001b[1m\u001b[4m2015 05\u001b[0m(0.01, 537074) \u001b[1m\u001b[4mfamili\u001b[0m(0.01, 172405) \u001b[1m\u001b[4mlt lt\u001b[0m(0.01, 787814) \u001b[1m\u001b[4mmove indef\u001b[0m(0.01, 809032) \u001b[1m\u001b[4mworldwid lt\u001b[0m(0.01, 990199) \u001b[1m\u001b[4munderstood\u001b[0m(0.01, 461726) \u001b[1m\u001b[4m292\u001b[0m(0.01, 25013) \u001b[1m\u001b[4mlife lt\u001b[0m(0.01, 779423) \u001b[1m\u001b[4m3 year\u001b[0m(0.01, 545020) \u001b[1m\u001b[4mgt 0\u001b[0m(0.01, 719871) \u001b[1m\u001b[4m299\u001b[0m(0.01, 25209) \u001b[1m\u001b[4m0 7\u001b[0m(0.01, 500270) \u001b[1m\u001b[4mharm\u001b[0m(0.01, 208620) \u001b[1m\u001b[4m258\u001b[0m(0.01, 23466) \u001b[1m\u001b[4mcognit\u001b[0m(0.01, 124709) \u001b[1m\u001b[4mpp move\u001b[0m(0.01, 863393) \u001b[1m\u001b[4mc titl\u001b[0m(0.01, 609895) \u001b[1m\u001b[4mterm\u001b[0m(0.01, 441750) \u001b[1m\u001b[4mvolum 4\u001b[0m(0.01, 977683) \u001b[1m\u001b[4mpublish british\u001b[0m(0.01, 872359) \u001b[1m\u001b[4mbk\u001b[0m(0.01, 89799) \u001b[1m\u001b[4m2016 archiv\u001b[0m(0.01, 537573) \u001b[1m\u001b[4mpregnanc\u001b[0m(0.01, 363504) \u001b[1m\u001b[4mname list\u001b[0m(0.01, 816012) \u001b[1m\u001b[4m2019 languag\u001b[0m(0.01, 538927) \u001b[1m\u001b[4mgt toc\u001b[0m(0.01, 727207) \u001b[1m\u001b[4morg content\u001b[0m(0.01, 838743) \u001b[1m\u001b[4m281\u001b[0m(0.01, 24565) \u001b[1m\u001b[4m1111 j\u001b[0m(0.01, 507403) \u001b[1m\u001b[4msyndrom\u001b[0m(0.01, 433934) \u001b[1m\u001b[4mfirst three\u001b[0m(0.01, 696592) \u001b[1m\u001b[4m15 year\u001b[0m(0.01, 510279) \u001b[1m\u001b[4mwalsh\u001b[0m(0.01, 477206) \u001b[1m\u001b[4m319\u001b[0m(0.01, 27122) \u001b[1m\u001b[4ml\u001b[0m(0.01, 262805) \u001b[1m\u001b[4mjournal american\u001b[0m(0.01, 760693) \u001b[1m\u001b[4mrisk diagnosi\u001b[0m(0.01, 896458) \u001b[1m\u001b[4m325\u001b[0m(0.01, 27383) \u001b[1m\u001b[4mreproduct\u001b[0m(0.01, 380245) \u001b[1m\u001b[4msocial scienc\u001b[0m(0.01, 922099) \u001b[1m\u001b[4mlccn\u001b[0m(0.01, 267895) \u001b[1m\u001b[4m10 1038\u001b[0m(0.01, 505358) \u001b[1m\u001b[4mcondit new\u001b[0m(0.01, 640315) \u001b[1m\u001b[4mnat\u001b[0m(0.01, 316813) \u001b[1m\u001b[4mprognosi\u001b[0m(0.01, 365452) \u001b[1m\u001b[4mgt earli\u001b[0m(0.01, 722416) \u001b[1m\u001b[4m2005\u001b[0m(0.01, 14466) \u001b[1m\u001b[4mweb titl\u001b[0m(0.01, 981159) \u001b[1m\u001b[4minfect\u001b[0m(0.01, 228548) \u001b[1m\u001b[4mreynold\u001b[0m(0.01, 381453) \u001b[1m\u001b[4moutcom\u001b[0m(0.01, 339444) \u001b[1m\u001b[4macademia\u001b[0m(0.01, 47781) \u001b[1m\u001b[4mstress\u001b[0m(0.01, 427749) \u001b[1m\u001b[4mmedic lt\u001b[0m(0.01, 799242) \u001b[1m\u001b[4mlive\u001b[0m(0.01, 274773) \u001b[1m\u001b[4m1038\u001b[0m(0.01, 4445) \u001b[1m\u001b[4m310\u001b[0m(0.01, 26772) \u001b[1m\u001b[4m11 juli\u001b[0m(0.01, 507167) \u001b[1m\u001b[4m305\u001b[0m(0.01, 26537) \u001b[1m\u001b[4mdeath lt\u001b[0m(0.01, 656478) \u001b[1m\u001b[4mmedic condit\u001b[0m(0.01, 799203) \u001b[1m\u001b[4m9 februari\u001b[0m(0.01, 558179) \u001b[1m\u001b[4m8 februari\u001b[0m(0.01, 556557) \u001b[1m\u001b[4mvolum 3\u001b[0m(0.01, 977667) \u001b[1m\u001b[4m13 juli\u001b[0m(0.01, 508845) \u001b[1m\u001b[4missu 6\u001b[0m(0.01, 754657) \u001b[1m\u001b[4m000 peopl\u001b[0m(0.01, 501342) \u001b[1m\u001b[4msometim call\u001b[0m(0.01, 923116) \u001b[1m\u001b[4m8 octob\u001b[0m(0.01, 556700) \u001b[1m\u001b[4mmb\u001b[0m(0.01, 292374) \u001b[1m\u001b[4m235\u001b[0m(0.01, 22398) \u001b[1m\u001b[4mintervent\u001b[0m(0.01, 230570) \u001b[1m\u001b[4mgt develop\u001b[0m(0.01, 722205) \u001b[1m\u001b[4m169\u001b[0m(0.01, 11487) \u001b[1m\u001b[4mj titl\u001b[0m(0.01, 755961) \u001b[1m\u001b[4m20 april\u001b[0m(0.01, 528850) \u001b[1m\u001b[4mpage 2\u001b[0m(0.01, 843273) \u001b[1m\u001b[4m18 april\u001b[0m(0.01, 512142) \u001b[1m\u001b[4mpace\u001b[0m(0.01, 341945) \u001b[1m\u001b[4mnew name\u001b[0m(0.01, 824091) \u001b[1m\u001b[4minfobox medic\u001b[0m(0.01, 749211) \u001b[1m\u001b[4mthree\u001b[0m(0.01, 445690) \u001b[1m\u001b[4m10 1\u001b[0m(0.01, 505344) \u001b[1m\u001b[4mnovemb 2007\u001b[0m(0.01, 829525) \u001b[1m\u001b[4mgt parent\u001b[0m(0.01, 725388) \u001b[1m\u001b[4mdialogu\u001b[0m(0.01, 146065) \u001b[1m\u001b[4monset\u001b[0m(0.01, 335240) \u001b[1m\u001b[4mgradual\u001b[0m(0.01, 199283) \u001b[1m\u001b[4malcohol\u001b[0m(0.01, 55075) \u001b[1m\u001b[4m28\u001b[0m(0.01, 24495) \u001b[1m\u001b[4m27\u001b[0m(0.01, 24094) \u001b[1m\u001b[4maccommod\u001b[0m(0.01, 48019) \u001b[1m\u001b[4m0 19\u001b[0m(0.01, 500080) \u001b[1m\u001b[4mgoogl book\u001b[0m(0.01, 715816) \u001b[1m\u001b[4mgt mani\u001b[0m(0.01, 724494) \u001b[1m\u001b[4mpublic\u001b[0m(0.01, 367766) \u001b[1m\u001b[4mrt\u001b[0m(0.01, 388583) \u001b[1m\u001b[4mpublish american\u001b[0m(0.01, 872182) \u001b[1m\u001b[4mgt number\u001b[0m(0.01, 725172) \u001b[1m\u001b[4mtroubl\u001b[0m(0.01, 454905) \u001b[1m\u001b[4m24\u001b[0m(0.01, 22587) \u001b[1m\u001b[4m147\u001b[0m(0.01, 9522) \u001b[1m\u001b[4m1016 j\u001b[0m(0.01, 506489) \u001b[1m\u001b[4m2006\u001b[0m(0.01, 14509) \u001b[1m\u001b[4mrice\u001b[0m(0.01, 382437) \u001b[1m\u001b[4m133\u001b[0m(0.01, 8129) \u001b[1m\u001b[4m155\u001b[0m(0.01, 10340) \u001b[1m\u001b[4mcite web\u001b[0m(0.01, 626483) \u001b[1m\u001b[4mtoc limit\u001b[0m(0.01, 956448) \u001b[1m\u001b[4mnw\u001b[0m(0.01, 329575) \u001b[1m\u001b[4mintellectu\u001b[0m(0.01, 230014) \u001b[1m\u001b[4mevalu\u001b[0m(0.01, 169233) \u001b[1m\u001b[4m132\u001b[0m(0.01, 8033) \u001b[1m\u001b[4m138\u001b[0m(0.01, 8604) \u001b[1m\u001b[4mfebruari 2009\u001b[0m(0.01, 690063) \u001b[1m\u001b[4m2000s\u001b[0m(0.01, 14304) \u001b[1m\u001b[4mhistori lt\u001b[0m(0.01, 735287) \u001b[1m\u001b[4mbrain\u001b[0m(0.01, 96629) \u001b[1m\u001b[4mdecemb 2008\u001b[0m(0.01, 657222) \u001b[1m\u001b[4mx lt\u001b[0m(0.01, 994835) \u001b[1m\u001b[4mgt gt\u001b[0m(0.01, 723276) \u001b[1m\u001b[4mgt use\u001b[0m(0.01, 727449) \u001b[1m\u001b[4mdramat\u001b[0m(0.01, 152870) \u001b[1m\u001b[4mfirst\u001b[0m(0.01, 177925) \u001b[1m\u001b[4mpublish oxford\u001b[0m(0.01, 873391) \u001b[1m\u001b[4misol\u001b[0m(0.01, 232871) \u001b[1m\u001b[4mhc\u001b[0m(0.01, 210450) \u001b[1m\u001b[4mjournal author\u001b[0m(0.01, 760723) \u001b[1m\u001b[4mcomplic\u001b[0m(0.01, 126636) \u001b[1m\u001b[4mce\u001b[0m(0.01, 111674) \u001b[1m\u001b[4mmd\u001b[0m(0.01, 293922) \u001b[1m\u001b[4m2013 publish\u001b[0m(0.01, 536292) \u001b[1m\u001b[4m6 page\u001b[0m(0.01, 553501) \u001b[1m\u001b[4mherbert\u001b[0m(0.01, 212991) \u001b[1m\u001b[4mgt although\u001b[0m(0.01, 720596) \u001b[1m\u001b[4mperspect\u001b[0m(0.01, 351230) \u001b[1m\u001b[4mrev\u001b[0m(0.01, 381108) \u001b[1m\u001b[4massess\u001b[0m(0.01, 69531) \u001b[1m\u001b[4mspecifi\u001b[0m(0.01, 420349) \u001b[1m\u001b[4macid\u001b[0m(0.01, 48464) \u001b[1m\u001b[4m2020 use\u001b[0m(0.01, 539265) \u001b[1m\u001b[4myear 2015\u001b[0m(0.01, 995570) \u001b[1m\u001b[4mnumber\u001b[0m(0.01, 329034) \u001b[1m\u001b[4mnotic\u001b[0m(0.01, 327383) \u001b[1m\u001b[4mcharacter\u001b[0m(0.01, 115020) \u001b[1m\u001b[4m1 000\u001b[0m(0.01, 503209) \u001b[1m\u001b[4mplanet\u001b[0m(0.01, 356798) \u001b[1m\u001b[4mdifferenti\u001b[0m(0.01, 146880) \u001b[1m\u001b[4mdeni\u001b[0m(0.01, 143241) \u001b[1m\u001b[4mga\u001b[0m(0.01, 186225) \u001b[1m\u001b[4me\u001b[0m(0.01, 156651) \u001b[1m\u001b[4mattach\u001b[0m(0.01, 71016) \u001b[1m\u001b[4mphysician\u001b[0m(0.01, 354064) \u001b[1m\u001b[4maugust 2016\u001b[0m(0.01, 586208) \u001b[1m\u001b[4mpsycholog\u001b[0m(0.01, 367219) \u001b[1m\u001b[4m102\u001b[0m(0.01, 4216) \u001b[1m\u001b[4mwhether\u001b[0m(0.01, 482101) \u001b[1m\u001b[4mjune 2016\u001b[0m(0.01, 762736) \u001b[1m\u001b[4mthree year\u001b[0m(0.01, 949455) \u001b[1m\u001b[4maccessd 20\u001b[0m(0.01, 560910) \u001b[1m\u001b[4mjuli 2016\u001b[0m(0.01, 762296) \u001b[1m\u001b[4mapril 2017\u001b[0m(0.01, 578384) \u001b[1m\u001b[4mprincipl\u001b[0m(0.01, 364675) \u001b[1m\u001b[4mdecemb 2016\u001b[0m(0.01, 657230) \u001b[1m\u001b[4mjuli 2019\u001b[0m(0.01, 762299) \u001b[1m\u001b[4muse american\u001b[0m(0.01, 971234) \u001b[1m\u001b[4mjournal titl\u001b[0m(0.01, 761105) \u001b[1m\u001b[4mseek\u001b[0m(0.01, 402091) \u001b[1m\u001b[4maspect\u001b[0m(0.01, 69260) \u001b[1m\u001b[4maccessd 13\u001b[0m(0.01, 560902) \u001b[1m\u001b[4morg web\u001b[0m(0.01, 839201) \u001b[1m\u001b[4mhttps web\u001b[0m(0.01, 740585) \u001b[1m\u001b[4mweb archiv\u001b[0m(0.01, 981079) \u001b[1m\u001b[4mdate 9\u001b[0m(0.01, 653600) \u001b[1m\u001b[4mmarch 2017\u001b[0m(0.01, 794131) \u001b[1m\u001b[4mjournal journal\u001b[0m(0.01, 760917) \u001b[1m\u001b[4motherwis\u001b[0m(0.01, 338815) \u001b[1m\u001b[4mamerican english\u001b[0m(0.01, 572224) \u001b[1m\u001b[4m2009\u001b[0m(0.01, 14963) \u001b[1m\u001b[4missu 1\u001b[0m(0.01, 754593) \u001b[1m\u001b[4mpoor\u001b[0m(0.01, 360455) \u001b[1m\u001b[4mdate 18\u001b[0m(0.01, 653346) \u001b[1m\u001b[4mdate 11\u001b[0m(0.01, 653256) \u001b[1m\u001b[4mdate 8\u001b[0m(0.01, 653598) \u001b[1m\u001b[4m9\u001b[0m(0.01, 42869) \u001b[1m\u001b[4mdp\u001b[0m(0.01, 152468) \u001b[1m\u001b[4mgrowth\u001b[0m(0.01, 201757) \u001b[1m\u001b[4mcell\u001b[0m(0.01, 112099) \u001b[1m\u001b[4moctob 2014\u001b[0m(0.01, 832413) \u001b[1m\u001b[4m1 5\u001b[0m(0.01, 503911) \u001b[1m\u001b[4men lt\u001b[0m(0.01, 678241) \u001b[1m\u001b[4marchiv org\u001b[0m(0.01, 579281) \u001b[1m\u001b[4mmiller\u001b[0m(0.01, 301045) \u001b[1m\u001b[4moxford univers\u001b[0m(0.01, 841836) \u001b[1m\u001b[4mabl\u001b[0m(0.01, 47164) \u001b[1m\u001b[4m1 page\u001b[0m(0.01, 504918) \u001b[1m\u001b[4mfebruari\u001b[0m(0.01, 174223) \u001b[1m\u001b[4mquestion\u001b[0m(0.01, 371100) \u001b[1m\u001b[4mtreatment\u001b[0m(0.01, 452884) \u001b[1m\u001b[4mkeep\u001b[0m(0.01, 247777) \u001b[1m\u001b[4mnovemb\u001b[0m(0.01, 327708) \u001b[1m\u001b[4mapril 2014\u001b[0m(0.01, 578381) \u001b[1m\u001b[4m2014\u001b[0m(0.01, 16627) \u001b[1m\u001b[4mdecemb\u001b[0m(0.01, 141136) \u001b[1m\u001b[4mgov accessd\u001b[0m(0.01, 716078) \u001b[1m\u001b[4myear 2013\u001b[0m(0.01, 995568) \u001b[1m\u001b[4mjuli\u001b[0m(0.01, 240953) \u001b[1m\u001b[4mapril\u001b[0m(0.01, 64124) \u001b[1m\u001b[4madult\u001b[0m(0.01, 50189) \u001b[1m\u001b[4msemi\u001b[0m(0.01, 403206) \u001b[1m\u001b[4maccept\u001b[0m(0.01, 47951) \u001b[1m\u001b[4mrelationship\u001b[0m(0.01, 379297) \u001b[1m\u001b[4mactual\u001b[0m(0.01, 48981) \u001b[1m\u001b[4myear 2005\u001b[0m(0.01, 995560) \u001b[1m\u001b[4mnormal\u001b[0m(0.01, 326769) \u001b[1m\u001b[4mhtml\u001b[0m(0.01, 220695) \u001b[1m\u001b[4midentif\u001b[0m(0.01, 224680) \u001b[1m\u001b[4mpropos\u001b[0m(0.01, 365884) \u001b[1m\u001b[4mnovemb 2013\u001b[0m(0.01, 829531) \u001b[1m\u001b[4mtoc\u001b[0m(0.01, 448682) \u001b[1m\u001b[4mshtml\u001b[0m(0.01, 409805) \u001b[1m\u001b[4m1 1\u001b[0m(0.01, 503317) \u001b[1m\u001b[4mjanuari 2020\u001b[0m(0.01, 757174) \u001b[1m\u001b[4mcertain\u001b[0m(0.01, 112999) \u001b[1m\u001b[4mfrequent\u001b[0m(0.01, 183343) \u001b[1m\u001b[4mnews last\u001b[0m(0.01, 824795) \u001b[1m\u001b[4mdefinit\u001b[0m(0.01, 141739) \u001b[1m\u001b[4mhtml archiv\u001b[0m(0.01, 739117) \u001b[1m\u001b[4mproblem\u001b[0m(0.01, 365076) \u001b[1m\u001b[4mcall quot\u001b[0m(0.01, 611179) \u001b[1m\u001b[4mhttp\u001b[0m(0.01, 220740) \u001b[1m\u001b[4mcollabor\u001b[0m(0.01, 125158) \u001b[1m\u001b[4m1960s\u001b[0m(0.01, 13597) \u001b[1m\u001b[4mbeliev\u001b[0m(0.01, 83162) \u001b[1m\u001b[4mprevent\u001b[0m(0.01, 364207) \u001b[1m\u001b[4m6\u001b[0m(0.01, 35987) \u001b[1m\u001b[4myear 2012\u001b[0m(0.01, 995567) \u001b[1m\u001b[4mobject\u001b[0m(0.01, 330888) \u001b[1m\u001b[4mfrequenc\u001b[0m(0.01, 183342) \u001b[1m\u001b[4myear 2009\u001b[0m(0.01, 995564) \u001b[1m\u001b[4mchild\u001b[0m(0.01, 117477) \u001b[1m\u001b[4minstead\u001b[0m(0.01, 229812) \u001b[1m\u001b[4mmale\u001b[0m(0.01, 285129) \u001b[1m\u001b[4mtime\u001b[0m(0.01, 447048) \u001b[1m\u001b[4mappli\u001b[0m(0.01, 63976) \u001b[1m\u001b[4mtopic\u001b[0m(0.01, 450088) \u001b[1m\u001b[4moclc\u001b[0m(0.01, 331463) \u001b[1m\u001b[4msurround\u001b[0m(0.01, 431883) \u001b[1m\u001b[4mdurat\u001b[0m(0.01, 155531) \u001b[1m\u001b[4mstate lt\u001b[0m(0.01, 931988) \u001b[1m\u001b[4m1 2\u001b[0m(0.01, 503575) \u001b[1m\u001b[4mgain\u001b[0m(0.01, 186750) \u001b[1m\u001b[4m3 lt\u001b[0m(0.01, 544689) \u001b[1m\u001b[4m81\u001b[0m(0.01, 40691) \u001b[1m\u001b[4mworldwid\u001b[0m(0.01, 487281) \u001b[1m\u001b[4mexperi\u001b[0m(0.01, 170253) \u001b[1m\u001b[4mgt death\u001b[0m(0.01, 722087) \u001b[1m\u001b[4mfemal\u001b[0m(0.01, 174844) \u001b[1m\u001b[4mlee\u001b[0m(0.01, 268705) \u001b[1m\u001b[4mwork\u001b[0m(0.01, 486997) \u001b[1m\u001b[4mnew\u001b[0m(0.01, 321107) \u001b[1m\u001b[4mboy\u001b[0m(0.01, 95984) \u001b[1m\u001b[4mless\u001b[0m(0.01, 270641) \u001b[1m\u001b[4mvisit\u001b[0m(0.01, 472939) \u001b[1m\u001b[4moveral\u001b[0m(0.01, 339714) \u001b[1m\u001b[4mfifth\u001b[0m(0.01, 176592) \u001b[1m\u001b[4morg uk\u001b[0m(0.01, 839171) \u001b[1m\u001b[4mz\u001b[0m(0.01, 495101) \u001b[1m\u001b[4munivers press\u001b[0m(0.01, 969019) \u001b[1m\u001b[4minform process\u001b[0m(0.01, 749608) \u001b[1m\u001b[4m978 0\u001b[0m(0.01, 559054) \u001b[1m\u001b[4m59\u001b[0m(0.01, 35498) \u001b[1m\u001b[4moxford\u001b[0m(0.01, 340297) \u001b[1m\u001b[4mchapter\u001b[0m(0.01, 114960) \u001b[1m\u001b[4mfunction\u001b[0m(0.01, 185137) \u001b[1m\u001b[4memploy\u001b[0m(0.01, 163115) \u001b[1m\u001b[4m56\u001b[0m(0.01, 34758) \u001b[1m\u001b[4mmartin\u001b[0m(0.01, 289488) \u001b[1m\u001b[4m2016 infobox\u001b[0m(0.01, 537708) \u001b[1m\u001b[4m2nd\u001b[0m(0.01, 26139) \u001b[1m\u001b[4minterest\u001b[0m(0.01, 230196) \u001b[1m\u001b[4mlanguag en\u001b[0m(0.01, 771157) \u001b[1m\u001b[4mconnect\u001b[0m(0.01, 127565) \u001b[1m\u001b[4mindividu\u001b[0m(0.01, 228225) \u001b[1m\u001b[4mbook titl\u001b[0m(0.01, 602020) \u001b[1m\u001b[4msometim\u001b[0m(0.01, 418015) \u001b[1m\u001b[4mwebsit\u001b[0m(0.01, 479695) \u001b[1m\u001b[4mhelp\u001b[0m(0.01, 212140) \u001b[1m\u001b[4mclassic\u001b[0m(0.01, 122081) \u001b[1m\u001b[4minvolv\u001b[0m(0.01, 231060) \u001b[1m\u001b[4m2016 lt\u001b[0m(0.01, 537744) \u001b[1m\u001b[4m00\u001b[0m(0.01, 1) \u001b[1m\u001b[4mcase\u001b[0m(0.01, 109349) \u001b[1m\u001b[4manoth\u001b[0m(0.01, 61859) \u001b[1m\u001b[4mper\u001b[0m(0.01, 350233) \u001b[1m\u001b[4m38\u001b[0m(0.01, 29303) \u001b[1m\u001b[4mreach\u001b[0m(0.01, 376701) \u001b[1m\u001b[4m2015 lt\u001b[0m(0.01, 537315) \u001b[1m\u001b[4mprimari\u001b[0m(0.01, 364495) \u001b[1m\u001b[4m2\u001b[0m(0.01, 14244) \u001b[1m\u001b[4maccessd\u001b[0m(0.01, 47960) \u001b[1m\u001b[4mexampl\u001b[0m(0.01, 169844) \u001b[1m\u001b[4mmovement\u001b[0m(0.01, 308832) \u001b[1m\u001b[4mother\u001b[0m(0.01, 338722) \u001b[1m\u001b[4mthoma\u001b[0m(0.01, 445288) \u001b[1m\u001b[4mdue\u001b[0m(0.01, 154584) \u001b[1m\u001b[4mca\u001b[0m(0.01, 104065) \u001b[1m\u001b[4meditor\u001b[0m(0.01, 158860) \u001b[1m\u001b[4mrate\u001b[0m(0.01, 375503) \u001b[1m\u001b[4mlimit\u001b[0m(0.01, 273100) \u001b[1m\u001b[4misbn 978\u001b[0m(0.01, 753724) \u001b[1m\u001b[4malthough\u001b[0m(0.01, 57418) \u001b[1m\u001b[4m978\u001b[0m(0.01, 44545) \u001b[1m\u001b[4m1990\u001b[0m(0.01, 13766) \u001b[1m\u001b[4mmean\u001b[0m(0.01, 294096) \u001b[1m\u001b[4mbot\u001b[0m(0.01, 95018) \u001b[1m\u001b[4mmove\u001b[0m(0.01, 308826) \u001b[1m\u001b[4msocieti\u001b[0m(0.01, 416825) \u001b[1m\u001b[4mprocess\u001b[0m(0.01, 365126) \u001b[1m\u001b[4medu\u001b[0m(0.01, 159065) \u001b[1m\u001b[4m2014 lt\u001b[0m(0.01, 536775) \u001b[1m\u001b[4mx\u001b[0m(0.01, 489490) \u001b[1m\u001b[4mindepend\u001b[0m(0.01, 227910) \u001b[1m\u001b[4mfive\u001b[0m(0.01, 178449) \u001b[1m\u001b[4mscienc\u001b[0m(0.01, 399752) \u001b[1m\u001b[4msuccess\u001b[0m(0.01, 429392) \u001b[1m\u001b[4mstudi\u001b[0m(0.01, 428337) \u001b[1m\u001b[4mdiffer\u001b[0m(0.01, 146874) \u001b[1m\u001b[4mmagazin\u001b[0m(0.01, 283133) \u001b[1m\u001b[4mparent\u001b[0m(0.01, 345544) \u001b[1m\u001b[4mpark\u001b[0m(0.01, 345762) \u001b[1m\u001b[4mgoogl\u001b[0m(0.01, 197781) \u001b[1m\u001b[4mline\u001b[0m(0.01, 273416) \u001b[1m\u001b[4mair\u001b[0m(0.01, 53014) \u001b[1m\u001b[4mlead\u001b[0m(0.01, 268108) \u001b[1m\u001b[4mindex\u001b[0m(0.01, 227949) \u001b[1m\u001b[4mcommon\u001b[0m(0.01, 126286) \u001b[1m\u001b[4muse\u001b[0m(0.01, 464444) \u001b[1m\u001b[4mjpg alt\u001b[0m(0.01, 761430) \u001b[1m\u001b[4mk\u001b[0m(0.01, 241734) \u001b[1m\u001b[4mdate june\u001b[0m(0.01, 653804) \u001b[1m\u001b[4morgan\u001b[0m(0.01, 336768) \u001b[1m\u001b[4marchiv url\u001b[0m(0.01, 579324) \u001b[1m\u001b[4marchiv date\u001b[0m(0.01, 579216) \u001b[1m\u001b[4mdate august\u001b[0m(0.01, 653634) \u001b[1m\u001b[4m000\u001b[0m(0.01, 2) \u001b[1m\u001b[4mfield\u001b[0m(0.01, 176453) \u001b[1m\u001b[4m2020\u001b[0m(0.01, 17510) \u001b[1m\u001b[4mfour\u001b[0m(0.01, 181914) \u001b[1m\u001b[4mearli\u001b[0m(0.01, 157211) \u001b[1m\u001b[4mdate march\u001b[0m(0.01, 653823) \u001b[1m\u001b[4mpress\u001b[0m(0.01, 363963) \u001b[1m\u001b[4msever\u001b[0m(0.01, 405159) \u001b[1m\u001b[4mdate januari\u001b[0m(0.01, 653799) \u001b[1m\u001b[4m2000\u001b[0m(0.01, 14247) \u001b[1m\u001b[4minform\u001b[0m(0.01, 228727) \u001b[1m\u001b[4m09\u001b[0m(0.01, 3295) \u001b[1m\u001b[4m05\u001b[0m(0.01, 2274) \u001b[1m\u001b[4maccess date\u001b[0m(0.01, 560800) \u001b[1m\u001b[4mcall\u001b[0m(0.01, 105392) \u001b[1m\u001b[4marchiveurl https\u001b[0m(0.01, 579405) \u001b[1m\u001b[4marchived\u001b[0m(0.01, 65305) \u001b[1m\u001b[4marchiveurl\u001b[0m(0.01, 65329) \u001b[1m\u001b[4mhtml titl\u001b[0m(0.01, 739357) \u001b[1m\u001b[4mmani\u001b[0m(0.01, 286675) \u001b[1m\u001b[4mform\u001b[0m(0.01, 181190) \u001b[1m\u001b[4mnew york\u001b[0m(0.01, 824396) \u001b[1m\u001b[4mcite book\u001b[0m(0.01, 626387) \u001b[1m\u001b[4mhigh\u001b[0m(0.01, 214814) \u001b[1m\u001b[4mcite news\u001b[0m(0.01, 626436) \u001b[1m\u001b[4mformat\u001b[0m(0.01, 181218) \u001b[1m\u001b[4msinc\u001b[0m(0.00, 412212) \u001b[1m\u001b[4mwell\u001b[0m(0.00, 480431) \u001b[1m\u001b[4myork\u001b[0m(0.00, 493827) \u001b[1m\u001b[4misbn\u001b[0m(0.00, 232267) \u001b[1m\u001b[4mhistori\u001b[0m(0.00, 216128) \u001b[1m\u001b[4mb\u001b[0m(0.00, 74565) \u001b[1m\u001b[4mbase\u001b[0m(0.00, 79913) \u001b[1m\u001b[4men\u001b[0m(0.00, 163241) \u001b[1m\u001b[4muk\u001b[0m(0.00, 460141) \u001b[1m\u001b[4m19\u001b[0m(0.00, 13099) \u001b[1m\u001b[4mp\u001b[0m(0.00, 340660) \u001b[1m\u001b[4menglish date\u001b[0m(0.00, 680571) \u001b[1m\u001b[4mbritish\u001b[0m(0.00, 98637) \u001b[1m\u001b[4m16\u001b[0m(0.00, 10778) \u001b[1m\u001b[4m14\u001b[0m(0.00, 8792) \u001b[1m\u001b[4m13\u001b[0m(0.00, 7778) \u001b[1m\u001b[4mright\u001b[0m(0.00, 383067) \u001b[1m\u001b[4mpart\u001b[0m(0.00, 346206) \u001b[1m\u001b[4m15\u001b[0m(0.00, 9831) \u001b[1m\u001b[4m20\u001b[0m(0.00, 14245) \u001b[1m\u001b[4myes\u001b[0m(0.00, 492914) \u001b[1m\u001b[4mregion\u001b[0m(0.00, 378500) \u001b[1m\u001b[4m2019\u001b[0m(0.00, 17370) \u001b[1m\u001b[4munivers\u001b[0m(0.00, 462431) \u001b[1m\u001b[4mtwo\u001b[0m(0.00, 458147) \u001b[1m\u001b[4mnews\u001b[0m(0.00, 321431) \u001b[1m\u001b[4mlanguag\u001b[0m(0.00, 265469) \u001b[1m\u001b[4malt\u001b[0m(0.00, 57244) \u001b[1m\u001b[4mauthor\u001b[0m(0.00, 72267) \u001b[1m\u001b[4mshort descript\u001b[0m(0.00, 915849) \u001b[1m\u001b[4mjune\u001b[0m(0.00, 241139) \u001b[1m\u001b[4maugust\u001b[0m(0.00, 71657) \u001b[1m\u001b[4m7\u001b[0m(0.00, 38452) \u001b[1m\u001b[4m11\u001b[0m(0.00, 5293) \u001b[1m\u001b[4mdescript\u001b[0m(0.00, 144202) \u001b[1m\u001b[4mdeath\u001b[0m(0.00, 140712) \u001b[1m\u001b[4mjanuari\u001b[0m(0.00, 236102) \u001b[1m\u001b[4mknown\u001b[0m(0.00, 254891) \u001b[1m\u001b[4mmarch\u001b[0m(0.00, 287970) \u001b[1m\u001b[4mlist\u001b[0m(0.00, 274300) \u001b[1m\u001b[4m12\u001b[0m(0.00, 6553) \u001b[1m\u001b[4m2012\u001b[0m(0.00, 15893) \u001b[1m\u001b[4mshort\u001b[0m(0.00, 409281) \u001b[1m\u001b[4mlast\u001b[0m(0.00, 266415) \u001b[1m\u001b[4munit state\u001b[0m(0.00, 968210) \u001b[1m\u001b[4menglish\u001b[0m(0.00, 164065) \u001b[1m\u001b[4muse dmi\u001b[0m(0.00, 971462) \u001b[1m\u001b[4mdmi date\u001b[0m(0.00, 667471) \u001b[1m\u001b[4mdmi\u001b[0m(0.00, 149748) \u001b[1m\u001b[4mmay\u001b[0m(0.00, 291886) \u001b[1m\u001b[4mage\u001b[0m(0.00, 51657) \u001b[1m\u001b[4mcountri\u001b[0m(0.00, 130608) \u001b[1m\u001b[4mweb url\u001b[0m(0.00, 981162) \u001b[1m\u001b[4mnation\u001b[0m(0.00, 316952) \u001b[1m\u001b[4mdate date\u001b[0m(0.00, 653692) \u001b[1m\u001b[4munit\u001b[0m(0.00, 462351) \u001b[1m\u001b[4mstate\u001b[0m(0.00, 424368) \u001b[1m\u001b[4murl http\u001b[0m(0.00, 970112) \u001b[1m\u001b[4mhttp www\u001b[0m(0.00, 740294) \u001b[1m\u001b[4mcaption\u001b[0m(0.00, 107639) \u001b[1m\u001b[4mjpg\u001b[0m(0.00, 240286)\n"
     ]
    }
   ],
   "source": [
    "print(get_text(1, xfs, trn_X_Xf))"
   ]
  },
  {
   "cell_type": "code",
   "execution_count": 27,
   "metadata": {},
   "outputs": [],
   "source": [
    "tst_X_Xf = read_sparse_mat(f'{DATA_DIR}/tst_X_Xf.txt')"
   ]
  },
  {
   "cell_type": "code",
   "execution_count": 29,
   "metadata": {},
   "outputs": [],
   "source": [
    "rand_inds = np.random.choice(np.arange(tst_X_Y.shape[0]), size=100000, replace=False)"
   ]
  },
  {
   "cell_type": "code",
   "execution_count": 31,
   "metadata": {},
   "outputs": [],
   "source": [
    "write_sparse_mat(filter_mat[rand_inds], f'{DATA_DIR}/rand100k_pos_trn_tst.txt')\n",
    "write_sparse_mat(tst_X_Xf[rand_inds], f'{DATA_DIR}/rand100k_tst_X_Xf.txt')\n",
    "write_sparse_mat(tst_X_Y[rand_inds], f'{DATA_DIR}/rand100k_tst_X_Y.txt')"
   ]
  },
  {
   "cell_type": "code",
   "execution_count": 12,
   "metadata": {
    "ExecuteTime": {
     "end_time": "2020-10-14T12:26:59.505987Z",
     "start_time": "2020-10-14T12:26:51.496706Z"
    },
    "scrolled": true
   },
   "outputs": [
    {
     "name": "stdout",
     "output_type": "stream",
     "text": [
      "loaded bin file in buffer\n"
     ]
    }
   ],
   "source": [
    "sp_pattern_mat = read_bin_spmat(f'{RES_DIR}/model/sparsity_pattern.bin')\n",
    "trn_X_Xf = read_sparse_mat(f'{DATA_DIR}/trn_X_Xf.txt')\n",
    "tst_X_Xf = read_sparse_mat(f'{DATA_DIR}/tst_X_Xf.txt')\n",
    "val_X_Xf = read_sparse_mat(f'{DATA_DIR}/val_X_Xf.txt')\n",
    "Y_Yf = read_sparse_mat(f'{DATA_DIR}/Y_Yf.txt')\n",
    "\n",
    "xfs = [x.strip() for x in open(f'{DATA_DIR}/Xf.txt').readlines()]\n",
    "yfs = [x.strip() for x in open(f'{DATA_DIR}/Yf.txt').readlines()]\n",
    "trn_X = [x.strip() for x in open(f'{DATA_DIR}/raw/trn_X.txt').readlines()]\n",
    "Y = [x.split(';', 1)[0].strip() for x in open(f'{DATA_DIR}/raw/Y.txt').readlines()]\n",
    "tst_X = [x.strip() for x in open(f'{DATA_DIR}/raw/tst_X.txt').readlines()]\n",
    "val_X = [x.strip() for x in open(f'{DATA_DIR}/raw/val_X.txt').readlines()]"
   ]
  },
  {
   "cell_type": "code",
   "execution_count": 16,
   "metadata": {},
   "outputs": [],
   "source": [
    "xfs = [x.strip() for x in open(f'{DATA_DIR}/Xf.txt').readlines()]\n",
    "yfs = [x.strip() for x in open(f'{DATA_DIR}/Yf.txt').readlines()]"
   ]
  },
  {
   "cell_type": "code",
   "execution_count": 19,
   "metadata": {},
   "outputs": [
    {
     "data": {
      "text/plain": [
       "['2020',\n",
       " '235',\n",
       " 'aa',\n",
       " 'aar',\n",
       " 'aau',\n",
       " 'abandon',\n",
       " 'abat',\n",
       " 'abattoir',\n",
       " 'abb',\n",
       " 'abil',\n",
       " 'abolit',\n",
       " 'abroad',\n",
       " 'abrog',\n",
       " 'abruzzi',\n",
       " 'abstract',\n",
       " 'abus',\n",
       " 'acceler',\n",
       " 'access',\n",
       " 'accessori',\n",
       " 'accid',\n",
       " 'accommod',\n",
       " 'accompani',\n",
       " 'account',\n",
       " 'accumul',\n",
       " 'accus',\n",
       " 'acer',\n",
       " 'acet',\n",
       " 'aceton',\n",
       " 'acetylen',\n",
       " 'achiev',\n",
       " 'acid',\n",
       " 'acidif',\n",
       " 'acoust',\n",
       " 'acp',\n",
       " 'acqui',\n",
       " 'acquir',\n",
       " 'acquisit',\n",
       " 'acreag',\n",
       " 'acryl',\n",
       " 'act',\n",
       " 'actinium',\n",
       " 'action',\n",
       " 'activ',\n",
       " 'actor',\n",
       " 'actual',\n",
       " 'acupunctur',\n",
       " 'ad',\n",
       " 'adapt',\n",
       " 'addict',\n",
       " 'addit',\n",
       " 'address',\n",
       " 'aden',\n",
       " 'adhes',\n",
       " 'adig',\n",
       " 'adjust',\n",
       " 'adjuv',\n",
       " 'administr',\n",
       " 'admiss',\n",
       " 'adolesc',\n",
       " 'adopt',\n",
       " 'adr',\n",
       " 'advanc',\n",
       " 'advantag',\n",
       " 'advertis',\n",
       " 'advic',\n",
       " 'advis',\n",
       " 'advisori',\n",
       " 'advoc',\n",
       " 'aegean',\n",
       " 'aerat',\n",
       " 'aerodrom',\n",
       " 'aerodyn',\n",
       " 'aeronaut',\n",
       " 'aeroplan',\n",
       " 'aerosol',\n",
       " 'aesthet',\n",
       " 'aetr',\n",
       " 'afar',\n",
       " 'affair',\n",
       " 'afforest',\n",
       " 'afghanistan',\n",
       " 'africa',\n",
       " 'african',\n",
       " 'afsj',\n",
       " 'age',\n",
       " 'agenc',\n",
       " 'agenda',\n",
       " 'agent',\n",
       " 'aggreg',\n",
       " 'aggress',\n",
       " 'agrarian',\n",
       " 'agreement',\n",
       " 'agri',\n",
       " 'agricultur',\n",
       " 'agro',\n",
       " 'agronom',\n",
       " 'ahvenenmaa',\n",
       " 'aid',\n",
       " 'ailment',\n",
       " 'air',\n",
       " 'aircraft',\n",
       " 'aircrew',\n",
       " 'airlin',\n",
       " 'airport',\n",
       " 'airway',\n",
       " 'albania',\n",
       " 'albumin',\n",
       " 'alcohol',\n",
       " 'aldehyd',\n",
       " 'alentejo',\n",
       " 'alga',\n",
       " 'algeria',\n",
       " 'alien',\n",
       " 'align',\n",
       " 'alimentarius',\n",
       " 'allergi',\n",
       " 'allianc',\n",
       " 'alloc',\n",
       " 'allow',\n",
       " 'alloy',\n",
       " 'almond',\n",
       " 'alp',\n",
       " 'alpha',\n",
       " 'alpin',\n",
       " 'alsac',\n",
       " 'alter',\n",
       " 'altern',\n",
       " 'altitud',\n",
       " 'alto',\n",
       " 'aluminium',\n",
       " 'alzheim',\n",
       " 'amalgam',\n",
       " 'amateur',\n",
       " 'ambassador',\n",
       " 'ambul',\n",
       " 'amend',\n",
       " 'america',\n",
       " 'american',\n",
       " 'ammonia',\n",
       " 'ammonium',\n",
       " 'amount',\n",
       " 'anaemia',\n",
       " 'anaesthet',\n",
       " 'analog',\n",
       " 'analysi',\n",
       " 'analyt',\n",
       " 'andalusia',\n",
       " 'andean',\n",
       " 'andorra',\n",
       " 'angel',\n",
       " 'angl',\n",
       " 'angola',\n",
       " 'anhalt',\n",
       " 'anhydrid',\n",
       " 'anim',\n",
       " 'anisett',\n",
       " 'anniversari',\n",
       " 'announc',\n",
       " 'annual',\n",
       " 'annuiti',\n",
       " 'annul',\n",
       " 'antarct',\n",
       " 'antarctica',\n",
       " 'anthem',\n",
       " 'anti',\n",
       " 'antibiot',\n",
       " 'anticycl',\n",
       " 'antigua',\n",
       " 'antill',\n",
       " 'antimoni',\n",
       " 'antwerp',\n",
       " 'aosta',\n",
       " 'ape',\n",
       " 'apicultur',\n",
       " 'apparatus',\n",
       " 'appeal',\n",
       " 'appenzel',\n",
       " 'appl',\n",
       " 'appli',\n",
       " 'applianc',\n",
       " 'applic',\n",
       " 'appoint',\n",
       " 'apprais',\n",
       " 'apprenticeship',\n",
       " 'approach',\n",
       " 'appropri',\n",
       " 'approv',\n",
       " 'approxim',\n",
       " 'apricot',\n",
       " 'apskriti',\n",
       " 'apulia',\n",
       " 'aquacultur',\n",
       " 'aquat',\n",
       " 'aqueduct',\n",
       " 'aquif',\n",
       " 'aquitain',\n",
       " 'arab',\n",
       " 'arabia',\n",
       " 'arabl',\n",
       " 'aragon',\n",
       " 'arbitr',\n",
       " 'arbitrag',\n",
       " 'arbitrari',\n",
       " 'arboricultur',\n",
       " 'arc',\n",
       " 'archaeolog',\n",
       " 'architect',\n",
       " 'architectur',\n",
       " 'archiv',\n",
       " 'archivist',\n",
       " 'arctic',\n",
       " 'ardenn',\n",
       " 'area',\n",
       " 'argentin',\n",
       " 'argentina',\n",
       " 'argon',\n",
       " 'arid',\n",
       " 'arm',\n",
       " 'armagnac',\n",
       " 'armament',\n",
       " 'armenia',\n",
       " 'armi',\n",
       " 'armistic',\n",
       " 'aromat',\n",
       " 'arrack',\n",
       " 'arrang',\n",
       " 'arrest',\n",
       " 'arsenic',\n",
       " 'art',\n",
       " 'artemi',\n",
       " 'artichok',\n",
       " 'articl',\n",
       " 'artifici',\n",
       " 'artilleri',\n",
       " 'artist',\n",
       " 'aruba',\n",
       " 'asbesto',\n",
       " 'asbestosi',\n",
       " 'ascens',\n",
       " 'asean',\n",
       " 'asia',\n",
       " 'asian',\n",
       " 'asid',\n",
       " 'asparagus',\n",
       " 'aspect',\n",
       " 'ass',\n",
       " 'assault',\n",
       " 'assembl',\n",
       " 'assent',\n",
       " 'assess',\n",
       " 'asset',\n",
       " 'assign',\n",
       " 'assimil',\n",
       " 'assist',\n",
       " 'associ',\n",
       " 'assur',\n",
       " 'asthma',\n",
       " 'astronomi',\n",
       " 'astrophys',\n",
       " 'asturia',\n",
       " 'asylum',\n",
       " 'atlant',\n",
       " 'atm',\n",
       " 'atmospher',\n",
       " 'atom',\n",
       " 'attach',\n",
       " 'attack',\n",
       " 'attorney',\n",
       " 'au',\n",
       " 'aubergin',\n",
       " 'auction',\n",
       " 'audibl',\n",
       " 'audio',\n",
       " 'audiovisu',\n",
       " 'audit',\n",
       " 'auditor',\n",
       " 'austral',\n",
       " 'australia',\n",
       " 'austria',\n",
       " 'author',\n",
       " 'authoris',\n",
       " 'authoritarian',\n",
       " 'auto',\n",
       " 'autom',\n",
       " 'automat',\n",
       " 'automobil',\n",
       " 'autonom',\n",
       " 'autonomi',\n",
       " 'auvergn',\n",
       " 'auxiliari',\n",
       " 'avail',\n",
       " 'averag',\n",
       " 'avian',\n",
       " 'aviat',\n",
       " 'avocado',\n",
       " 'avoid',\n",
       " 'awar',\n",
       " 'award',\n",
       " 'axial',\n",
       " 'axl',\n",
       " 'azerbaijan',\n",
       " 'azor',\n",
       " 'azur',\n",
       " 'babi',\n",
       " 'baccalaur',\n",
       " 'bacon',\n",
       " 'bacteri',\n",
       " 'bacteriolog',\n",
       " 'bad',\n",
       " 'baden',\n",
       " 'bag',\n",
       " 'bahama',\n",
       " 'bahrain',\n",
       " 'bail',\n",
       " 'bakeri',\n",
       " 'balanc',\n",
       " 'balear',\n",
       " 'balkan',\n",
       " 'ball',\n",
       " 'ballet',\n",
       " 'ballist',\n",
       " 'ballot',\n",
       " 'baltic',\n",
       " 'ban',\n",
       " 'banana',\n",
       " 'banco',\n",
       " 'band',\n",
       " 'bandit',\n",
       " 'bangladesh',\n",
       " 'banish',\n",
       " 'bank',\n",
       " 'bankruptci',\n",
       " 'banská',\n",
       " 'bar',\n",
       " 'barbado',\n",
       " 'barbuda',\n",
       " 'barcelona',\n",
       " 'bargeman',\n",
       " 'barley',\n",
       " 'barn',\n",
       " 'barrier',\n",
       " 'barrist',\n",
       " 'barthélemi',\n",
       " 'barthélémi',\n",
       " 'base',\n",
       " 'basi',\n",
       " 'basic',\n",
       " 'basilicata',\n",
       " 'basin',\n",
       " 'basqu',\n",
       " 'basutoland',\n",
       " 'batata',\n",
       " 'bath',\n",
       " 'bathroom',\n",
       " 'batteri',\n",
       " 'battl',\n",
       " 'battleship',\n",
       " 'bavaria',\n",
       " 'bbi',\n",
       " 'be',\n",
       " 'beam',\n",
       " 'bean',\n",
       " 'bear',\n",
       " 'beauti',\n",
       " 'bed',\n",
       " 'beech',\n",
       " 'beef',\n",
       " 'beekeep',\n",
       " 'beer',\n",
       " 'beet',\n",
       " 'beetroot',\n",
       " 'behaviour',\n",
       " 'belarus',\n",
       " 'belgium',\n",
       " 'belgo',\n",
       " 'belgrad',\n",
       " 'beliz',\n",
       " 'bellum',\n",
       " 'belong',\n",
       " 'belt',\n",
       " 'bench',\n",
       " 'benefit',\n",
       " 'benelux',\n",
       " 'benzen',\n",
       " 'berlin',\n",
       " 'bes',\n",
       " 'bet',\n",
       " 'beta',\n",
       " 'beverag',\n",
       " 'bfor',\n",
       " 'bibliograph',\n",
       " 'bicultur',\n",
       " 'bicycl',\n",
       " 'bid',\n",
       " 'bilater',\n",
       " 'bilbao',\n",
       " 'bilberri',\n",
       " 'bill',\n",
       " 'billi',\n",
       " 'bingo',\n",
       " 'bio',\n",
       " 'biocenosi',\n",
       " 'biodegrad',\n",
       " 'biodeterior',\n",
       " 'biodiesel',\n",
       " 'biodivers',\n",
       " 'bioeconomi',\n",
       " 'bioenergi',\n",
       " 'bioengin',\n",
       " 'bioethanol',\n",
       " 'biofuel',\n",
       " 'bioga',\n",
       " 'biogenet',\n",
       " 'biolog',\n",
       " 'biomass',\n",
       " 'biomed',\n",
       " 'biomethan',\n",
       " 'biometr',\n",
       " 'biometri',\n",
       " 'bioprocess',\n",
       " 'biosafeti',\n",
       " 'biospher',\n",
       " 'biotechnolog',\n",
       " 'biotic',\n",
       " 'biotop',\n",
       " 'bird',\n",
       " 'birth',\n",
       " 'bis',\n",
       " 'biscuit',\n",
       " 'bissau',\n",
       " 'bitumin',\n",
       " 'black',\n",
       " 'blackberri',\n",
       " 'blackcurr',\n",
       " 'blank',\n",
       " 'blast',\n",
       " 'bleu',\n",
       " 'blind',\n",
       " 'bloc',\n",
       " 'blockad',\n",
       " 'blood',\n",
       " 'blown',\n",
       " 'blue',\n",
       " 'boar',\n",
       " 'board',\n",
       " 'boat',\n",
       " 'boatman',\n",
       " 'bod',\n",
       " 'bodi',\n",
       " 'bohemia',\n",
       " 'boil',\n",
       " 'boiler',\n",
       " 'bolivarian',\n",
       " 'bolivia',\n",
       " 'bolt',\n",
       " 'bolzano',\n",
       " 'bomb',\n",
       " 'bonair',\n",
       " 'bond',\n",
       " 'bone',\n",
       " 'bonem',\n",
       " 'bonko',\n",
       " 'bonus',\n",
       " 'book',\n",
       " 'bookbind',\n",
       " 'bootmak',\n",
       " 'bop',\n",
       " 'border',\n",
       " 'boron',\n",
       " 'borrow',\n",
       " 'bosnia',\n",
       " 'botani',\n",
       " 'botswana',\n",
       " 'bottl',\n",
       " 'bovin',\n",
       " 'box',\n",
       " 'boycott',\n",
       " 'brabant',\n",
       " 'braill',\n",
       " 'brake',\n",
       " 'branch',\n",
       " 'brand',\n",
       " 'brandenburg',\n",
       " 'brandi',\n",
       " 'brandt',\n",
       " 'brass',\n",
       " 'brazil',\n",
       " 'brazzavill',\n",
       " 'breach',\n",
       " 'bread',\n",
       " 'breadwinn',\n",
       " 'breaker',\n",
       " 'breakfast',\n",
       " 'breathalys',\n",
       " 'breed',\n",
       " 'breeder',\n",
       " 'bremen',\n",
       " 'bress',\n",
       " 'breweri',\n",
       " 'brick',\n",
       " 'brickwork',\n",
       " 'bridg',\n",
       " 'brie',\n",
       " 'brine',\n",
       " 'bring',\n",
       " 'britain',\n",
       " 'british',\n",
       " 'brittani',\n",
       " 'broad',\n",
       " 'broadcast',\n",
       " 'broadleav',\n",
       " 'broker',\n",
       " 'bromid',\n",
       " 'bronz',\n",
       " 'brought',\n",
       " 'brucellosi',\n",
       " 'brunei',\n",
       " 'brussel',\n",
       " 'bse',\n",
       " 'buckwheat',\n",
       " 'budget',\n",
       " 'budgetari',\n",
       " 'buffalo',\n",
       " 'buffer',\n",
       " 'build',\n",
       " 'bulb',\n",
       " 'bulgaria',\n",
       " 'bulk',\n",
       " 'bull',\n",
       " 'bullfight',\n",
       " 'bullock',\n",
       " 'bunco',\n",
       " 'bundesland',\n",
       " 'bunko',\n",
       " 'burden',\n",
       " 'bureaucraci',\n",
       " 'burgenland',\n",
       " 'burgundi',\n",
       " 'burial',\n",
       " 'burkina',\n",
       " 'burma',\n",
       " 'burn',\n",
       " 'burundi',\n",
       " 'bus',\n",
       " 'busi',\n",
       " 'butan',\n",
       " 'butter',\n",
       " 'butterfli',\n",
       " 'buttermilk',\n",
       " 'butyl',\n",
       " 'butylen',\n",
       " 'buy',\n",
       " 'buyout',\n",
       " 'bye',\n",
       " 'byre',\n",
       " 'bystrica',\n",
       " 'cabbag',\n",
       " 'cabinda',\n",
       " 'cabinet',\n",
       " 'cabl',\n",
       " 'cabotag',\n",
       " 'cacm',\n",
       " 'cad',\n",
       " 'cadastr',\n",
       " 'cadmium',\n",
       " 'café',\n",
       " 'caico',\n",
       " 'cake',\n",
       " 'calabria',\n",
       " 'calai',\n",
       " 'calcium',\n",
       " 'calcul',\n",
       " 'caledonia',\n",
       " 'calf',\n",
       " 'cambodia',\n",
       " 'camembert',\n",
       " 'camera',\n",
       " 'cameroon',\n",
       " 'camp',\n",
       " 'campaign',\n",
       " 'campania',\n",
       " 'camphor',\n",
       " 'canada',\n",
       " 'canal',\n",
       " 'canari',\n",
       " 'cancer',\n",
       " 'cancerogen',\n",
       " 'candid',\n",
       " 'candidaci',\n",
       " 'cane',\n",
       " 'canneri',\n",
       " 'canning',\n",
       " 'canon',\n",
       " 'cantabria',\n",
       " 'cantal',\n",
       " 'canteen',\n",
       " 'cap',\n",
       " 'capac',\n",
       " 'cape',\n",
       " 'capit',\n",
       " 'capitalist',\n",
       " 'caprin',\n",
       " 'capsicum',\n",
       " 'captain',\n",
       " 'captur',\n",
       " 'car',\n",
       " 'caravan',\n",
       " 'carbid',\n",
       " 'carbon',\n",
       " 'carcas',\n",
       " 'carcinogen',\n",
       " 'card',\n",
       " 'cardiovascular',\n",
       " 'care',\n",
       " 'career',\n",
       " 'cargo',\n",
       " 'caribbean',\n",
       " 'caricom',\n",
       " 'carinthia',\n",
       " 'carnet',\n",
       " 'carp',\n",
       " 'carpet',\n",
       " 'carri',\n",
       " 'carriag',\n",
       " 'carrier',\n",
       " 'carrot',\n",
       " 'cartagena',\n",
       " 'cartel',\n",
       " 'case',\n",
       " 'casein',\n",
       " 'cash',\n",
       " 'cassat',\n",
       " 'cassava',\n",
       " 'cassett',\n",
       " 'cassi',\n",
       " 'cast',\n",
       " 'castil',\n",
       " 'castor',\n",
       " 'casualti',\n",
       " 'cat',\n",
       " 'catalogu',\n",
       " 'catalonia',\n",
       " 'catalyt',\n",
       " 'catastroph',\n",
       " 'catch',\n",
       " 'categori',\n",
       " 'cater',\n",
       " 'cattl',\n",
       " 'caucasus',\n",
       " 'cauliflow',\n",
       " 'caus',\n",
       " 'caviar',\n",
       " 'cb',\n",
       " 'ccc',\n",
       " 'ccs',\n",
       " 'cct',\n",
       " 'cd',\n",
       " 'cde',\n",
       " 'cdi',\n",
       " 'cdp',\n",
       " 'cdt',\n",
       " 'ceas',\n",
       " 'cec',\n",
       " 'cedefop',\n",
       " 'cedp',\n",
       " 'cee',\n",
       " 'ceec',\n",
       " 'ceil',\n",
       " 'celeri',\n",
       " 'celeriac',\n",
       " 'cell',\n",
       " 'cellar',\n",
       " 'cellular',\n",
       " 'cellulos',\n",
       " 'cement',\n",
       " 'cenelec',\n",
       " 'census',\n",
       " 'centr',\n",
       " 'central',\n",
       " 'centralis',\n",
       " 'centrifug',\n",
       " 'cephalopod',\n",
       " 'cepol',\n",
       " 'cept',\n",
       " 'ceram',\n",
       " 'cerc',\n",
       " 'cereal',\n",
       " 'cern',\n",
       " 'certainti',\n",
       " 'certif',\n",
       " 'cervida',\n",
       " 'cesdp',\n",
       " 'cessat',\n",
       " 'cetacean',\n",
       " 'ceuta',\n",
       " 'ceylon',\n",
       " 'cfc',\n",
       " 'cfca',\n",
       " 'cfsp',\n",
       " 'chad',\n",
       " 'chafea',\n",
       " 'chain',\n",
       " 'chamber',\n",
       " 'champagn',\n",
       " 'chanc',\n",
       " 'chang',\n",
       " 'channel',\n",
       " 'chaourc',\n",
       " 'chaptal',\n",
       " 'chaptalis',\n",
       " 'charcoal',\n",
       " 'charent',\n",
       " 'charg',\n",
       " 'charit',\n",
       " 'chariti',\n",
       " 'charter',\n",
       " 'chauffeur',\n",
       " 'check',\n",
       " 'cheddar',\n",
       " 'chees',\n",
       " 'chemic',\n",
       " 'chemistri',\n",
       " 'cherri',\n",
       " 'chestnut',\n",
       " 'chicken',\n",
       " 'chicori',\n",
       " 'child',\n",
       " 'childhood',\n",
       " 'children',\n",
       " 'chile',\n",
       " 'chimpanze',\n",
       " 'china',\n",
       " 'chipboard',\n",
       " 'chlorid',\n",
       " 'chlorin',\n",
       " 'chlorinis',\n",
       " 'chlorofluorcarbon',\n",
       " 'chocol',\n",
       " 'choic',\n",
       " 'cholera',\n",
       " 'christoph',\n",
       " 'chromatographi',\n",
       " 'chromium',\n",
       " 'chronic',\n",
       " 'chuuk',\n",
       " 'cider',\n",
       " 'cif',\n",
       " 'cigar',\n",
       " 'cigarett',\n",
       " 'cigarillo',\n",
       " 'cinema',\n",
       " 'cinematograph',\n",
       " 'circuit',\n",
       " 'circul',\n",
       " 'circumcis',\n",
       " 'circus',\n",
       " 'cis',\n",
       " 'ciskei',\n",
       " 'citi',\n",
       " 'citizen',\n",
       " 'citizenship',\n",
       " 'citric',\n",
       " 'citron',\n",
       " 'citrus',\n",
       " 'civil',\n",
       " 'civilian',\n",
       " 'cjd',\n",
       " 'cjec',\n",
       " 'cjeu',\n",
       " 'cjue',\n",
       " 'claim',\n",
       " 'clandestin',\n",
       " 'class',\n",
       " 'classif',\n",
       " 'claus',\n",
       " 'clay',\n",
       " 'clean',\n",
       " 'cleaner',\n",
       " 'clear',\n",
       " 'clearanc',\n",
       " 'clementin',\n",
       " 'climat',\n",
       " 'clinic',\n",
       " 'clipperton',\n",
       " 'clock',\n",
       " 'close',\n",
       " 'closer',\n",
       " 'closur',\n",
       " 'cloth',\n",
       " 'clover',\n",
       " 'club',\n",
       " 'cmea',\n",
       " 'cmo',\n",
       " 'cn',\n",
       " 'co',\n",
       " 'co2',\n",
       " 'coach',\n",
       " 'coal',\n",
       " 'coalmin',\n",
       " 'coast',\n",
       " 'coastal',\n",
       " 'coc',\n",
       " 'cock',\n",
       " 'cocoa',\n",
       " 'coconut',\n",
       " 'code',\n",
       " 'codecis',\n",
       " 'codex',\n",
       " 'codif',\n",
       " 'coffe',\n",
       " 'cognac',\n",
       " 'cohes',\n",
       " 'coke',\n",
       " 'cold',\n",
       " 'collect',\n",
       " 'collector',\n",
       " 'colleg',\n",
       " 'collieri',\n",
       " 'colloquium',\n",
       " 'colombia',\n",
       " 'colour',\n",
       " 'colt',\n",
       " 'colza',\n",
       " 'combat',\n",
       " 'combin',\n",
       " 'combust',\n",
       " 'comecon',\n",
       " 'comitolog',\n",
       " 'commemor',\n",
       " 'commerc',\n",
       " 'commerci',\n",
       " 'commiss',\n",
       " 'commission',\n",
       " 'commit',\n",
       " 'committe',\n",
       " 'commod',\n",
       " 'common',\n",
       " 'commonwealth',\n",
       " 'communautair',\n",
       " 'communic',\n",
       " 'communiti',\n",
       " 'comoro',\n",
       " 'compact',\n",
       " 'compani',\n",
       " 'compar',\n",
       " 'comparison',\n",
       " 'compat',\n",
       " 'compens',\n",
       " 'compensatori',\n",
       " 'compet',\n",
       " 'competit',\n",
       " 'compil',\n",
       " 'complaint',\n",
       " 'complianc',\n",
       " 'compon',\n",
       " 'compos',\n",
       " 'composit',\n",
       " 'compost',\n",
       " 'compound',\n",
       " 'comprehens',\n",
       " 'compulsori',\n",
       " 'comput',\n",
       " 'computeris',\n",
       " 'comté',\n",
       " 'con',\n",
       " 'concentr',\n",
       " 'concern',\n",
       " 'concert',\n",
       " 'concess',\n",
       " 'concili',\n",
       " 'conclus',\n",
       " 'concret',\n",
       " 'condens',\n",
       " 'condiment',\n",
       " 'condit',\n",
       " 'conduct',\n",
       " 'conductometri',\n",
       " 'conductor',\n",
       " 'cone',\n",
       " 'confectioneri',\n",
       " 'confeder',\n",
       " 'confer',\n",
       " 'confid',\n",
       " 'confidenti',\n",
       " 'confin',\n",
       " 'confisc',\n",
       " 'conflict',\n",
       " 'conform',\n",
       " 'conglomer',\n",
       " 'congo',\n",
       " 'congress',\n",
       " 'conif',\n",
       " 'connect',\n",
       " 'connector',\n",
       " 'consequ',\n",
       " 'conserv',\n",
       " 'consign',\n",
       " 'consolid',\n",
       " 'consortium',\n",
       " 'constitut',\n",
       " 'construct',\n",
       " 'consul',\n",
       " 'consult',\n",
       " 'consum',\n",
       " 'consumer',\n",
       " 'consumpt',\n",
       " 'contact',\n",
       " 'contagi',\n",
       " 'contain',\n",
       " 'contamin',\n",
       " 'contin',\n",
       " 'continu',\n",
       " 'contra',\n",
       " 'contraband',\n",
       " 'contracept',\n",
       " 'contract',\n",
       " 'contractu',\n",
       " 'contrat',\n",
       " 'contribut',\n",
       " 'control',\n",
       " 'convent',\n",
       " 'converg',\n",
       " 'convers',\n",
       " 'convert',\n",
       " 'convey',\n",
       " 'cook',\n",
       " 'cool',\n",
       " 'cooper',\n",
       " 'coordin',\n",
       " 'copper',\n",
       " 'copyright',\n",
       " 'cor',\n",
       " 'core',\n",
       " 'corfu',\n",
       " 'cork',\n",
       " 'corn',\n",
       " 'corp',\n",
       " 'corpor',\n",
       " 'corpus',\n",
       " 'corridor',\n",
       " 'corrupt',\n",
       " 'corsica',\n",
       " 'cosmet',\n",
       " 'cosmic',\n",
       " 'cost',\n",
       " 'costa',\n",
       " 'cotonou',\n",
       " 'cottag',\n",
       " 'cotton',\n",
       " 'cottonse',\n",
       " 'coulommi',\n",
       " 'council',\n",
       " 'counsel',\n",
       " 'counterfeit',\n",
       " 'counterpart',\n",
       " 'countertrad',\n",
       " 'countervail',\n",
       " 'counti',\n",
       " 'countri',\n",
       " 'coup',\n",
       " 'courgett',\n",
       " 'cours',\n",
       " 'court',\n",
       " 'cover',\n",
       " 'cow',\n",
       " 'cpvo',\n",
       " 'crab',\n",
       " 'crack',\n",
       " 'craft',\n",
       " 'cram',\n",
       " 'cranberri',\n",
       " 'crane',\n",
       " 'crawfish',\n",
       " 'crayfish',\n",
       " 'cream',\n",
       " 'creation',\n",
       " 'creativ',\n",
       " 'credit',\n",
       " 'creditor',\n",
       " 'cremat',\n",
       " 'crescent',\n",
       " 'crest',\n",
       " 'crete',\n",
       " 'creutzfeldt',\n",
       " 'crew',\n",
       " 'crime',\n",
       " 'crimin',\n",
       " 'crippl',\n",
       " 'crisi',\n",
       " 'criteria',\n",
       " 'criterion',\n",
       " 'croatia',\n",
       " 'crochet',\n",
       " 'crockeri',\n",
       " 'crop',\n",
       " 'cropper',\n",
       " 'croquett',\n",
       " 'cross',\n",
       " 'crude',\n",
       " 'cruel',\n",
       " ...]"
      ]
     },
     "execution_count": 19,
     "metadata": {},
     "output_type": "execute_result"
    }
   ],
   "source": [
    "yfs"
   ]
  },
  {
   "cell_type": "code",
   "execution_count": 34,
   "metadata": {
    "ExecuteTime": {
     "end_time": "2020-10-12T10:16:30.233502Z",
     "start_time": "2020-10-12T10:16:02.614725Z"
    }
   },
   "outputs": [],
   "source": [
    "k=100000\n",
    "\n",
    "inds = np.random.choice(range(tst_X_Xf.shape[0]), size=k, replace=False)\n",
    "np.save(f'{DATA_DIR}/random{k}_tst_inds.npy', inds)\n",
    "write_sparse_mat(tst_X_Xf[inds], f'{DATA_DIR}/random{k}_tst_X_Xf.txt')\n",
    "write_sparse_mat(tst_X_Y[inds], f'{DATA_DIR}/random{k}_tst_X_Y.txt')\n",
    "\n",
    "# inds = np.random.choice(range(trn_X_Xf.shape[0]), size=k, replace=False)\n",
    "# np.save(f'{DATA_DIR}/random{k}_trn_inds.npy', inds)\n",
    "# write_sparse_mat(trn_X_Xf[inds], f'{DATA_DIR}/random{k}_trn_X_Xf.txt')\n",
    "# write_sparse_mat(trn_X_Y[inds], f'{DATA_DIR}/random{k}_trn_X_Y.txt')"
   ]
  },
  {
   "cell_type": "code",
   "execution_count": 35,
   "metadata": {},
   "outputs": [],
   "source": [
    "write_sparse_mat(filter_mat[inds], f'{DATA_DIR}/random{k}_pos_trn_tst.txt')"
   ]
  },
  {
   "cell_type": "markdown",
   "metadata": {
    "heading_collapsed": true
   },
   "source": [
    "## Load tree"
   ]
  },
  {
   "cell_type": "code",
   "execution_count": 218,
   "metadata": {
    "ExecuteTime": {
     "end_time": "2020-10-06T18:13:19.915145Z",
     "start_time": "2020-10-06T18:13:18.809212Z"
    },
    "hidden": true
   },
   "outputs": [
    {
     "name": "stderr",
     "output_type": "stream",
     "text": [
      "100%|██████████| 2791/2791 [00:00<00:00, 2876.48it/s]\n",
      "100%|██████████| 2791/2791 [00:00<00:00, 531669.66it/s]\n"
     ]
    }
   ],
   "source": [
    "tree = Tree()\n",
    "tree.read(f'{RES_DIR}/0.tree.bin')\n",
    "\n",
    "early_leaf_nodes = [i for i in range(tree.nodes.shape[0]) if tree.nodes[i].is_early_leaf]\n",
    "end_leaf_nodes = [i for i in range(tree.nodes.shape[0]) if tree.nodes[i].is_end_leaf]\n",
    "\n",
    "for i, node in enumerate(tree.nodes):\n",
    "    for child in node.children:\n",
    "        tree.nodes[child].parent = i\n",
    "\n",
    "data = []\n",
    "inds = []\n",
    "indptr = [0]\n",
    "for node in tqdm(tree.nodes):\n",
    "    data.append(node.Y.data)\n",
    "    inds.append(node.Y.indices)\n",
    "    indptr.append(indptr[-1]+node.Y.nnz)\n",
    "node_to_label = csr_matrix((np.hstack(data), np.hstack(inds), indptr), (tree.nodes.shape[0], tree.numy))"
   ]
  },
  {
   "cell_type": "markdown",
   "metadata": {},
   "source": [
    "## Evaluate"
   ]
  },
  {
   "cell_type": "code",
   "execution_count": 136,
   "metadata": {
    "ExecuteTime": {
     "end_time": "2020-10-06T15:29:23.557651Z",
     "start_time": "2020-10-06T15:29:22.785439Z"
    }
   },
   "outputs": [],
   "source": [
    "parabel_score_mat = read_sparse_mat(f'/scratch/nilesh/programs/XReg/Source/Results/{dataset}/score_mat.txt', use_xclib=True)"
   ]
  },
  {
   "cell_type": "code",
   "execution_count": 16,
   "metadata": {},
   "outputs": [],
   "source": [
    "all_metrics = {}"
   ]
  },
  {
   "cell_type": "code",
   "execution_count": 13,
   "metadata": {
    "ExecuteTime": {
     "end_time": "2020-10-15T09:35:22.850267Z",
     "start_time": "2020-10-15T09:35:22.831431Z"
    }
   },
   "outputs": [
    {
     "name": "stdout",
     "output_type": "stream",
     "text": [
      "loaded bin file in buffer\n",
      "loaded bin file in buffer\n",
      "loaded bin file in buffer\n"
     ]
    }
   ],
   "source": [
    "val_bilinear_score_mat = _filter(read_bin_spmat(f'{RES_DIR}/validation/bilinear_score_mat.bin').copy(), val_filter_mat)\n",
    "val_knn_score_mat = _filter(read_bin_spmat(f'{RES_DIR}/validation/knn_score_mat.bin').copy(), val_filter_mat)\n",
    "\n",
    "# # trn_xshortlist = read_bin_spmat(f'{RES_DIR}/trn_xshortlist.bin')\n",
    "val_xshortlist = retain_topk(_filter(read_bin_spmat(f'{RES_DIR}/validation/shortlist.bin').copy(), val_filter_mat), k=100)"
   ]
  },
  {
   "cell_type": "code",
   "execution_count": 32,
   "metadata": {},
   "outputs": [
    {
     "name": "stdout",
     "output_type": "stream",
     "text": [
      "loaded bin file in buffer\n"
     ]
    },
    {
     "name": "stderr",
     "output_type": "stream",
     "text": [
      "/work2/08343/nilesh/maverick2/anaconda3/envs/xc/lib/python3.7/site-packages/scipy/sparse/_index.py:125: SparseEfficiencyWarning: Changing the sparsity structure of a csr_matrix is expensive. lil_matrix is more efficient.\n",
      "  self._set_arrayXarray(i, j, x)\n"
     ]
    }
   ],
   "source": [
    "score_mat = _filter(read_bin_spmat(f'{RES_DIR}/score_mat.bin').copy(), filter_mat[rand_inds])"
   ]
  },
  {
   "cell_type": "code",
   "execution_count": 51,
   "metadata": {},
   "outputs": [
    {
     "name": "stdout",
     "output_type": "stream",
     "text": [
      "loaded bin file in buffer\n"
     ]
    },
    {
     "name": "stderr",
     "output_type": "stream",
     "text": [
      "/work2/08343/nilesh/maverick2/anaconda3/envs/xc/lib/python3.7/site-packages/scipy/sparse/_index.py:125: SparseEfficiencyWarning: Changing the sparsity structure of a csr_matrix is expensive. lil_matrix is more efficient.\n",
      "  self._set_arrayXarray(i, j, x)\n"
     ]
    },
    {
     "name": "stdout",
     "output_type": "stream",
     "text": [
      "loaded bin file in buffer\n"
     ]
    }
   ],
   "source": [
    "knn_score_mat = _filter(read_bin_spmat(f'{RES_DIR}/knn_score_mat.bin').copy(), filter_mat[rand_inds])\n",
    "bilinear_score_mat = _filter(read_bin_spmat(f'{RES_DIR}/bilinear_score_mat.bin').copy(), filter_mat[rand_inds])"
   ]
  },
  {
   "cell_type": "code",
   "execution_count": 79,
   "metadata": {},
   "outputs": [
    {
     "name": "stdout",
     "output_type": "stream",
     "text": [
      "loaded bin file in buffer\n",
      "loaded bin file in buffer\n"
     ]
    }
   ],
   "source": [
    "knn_score_mat = _filter(read_bin_spmat(f'{RES_DIR}/knn_score_mat.bin').copy(), filter_mat)\n",
    "bilinear_score_mat = _filter(read_bin_spmat(f'{RES_DIR}/bilinear_score_mat.bin').copy(), filter_mat)"
   ]
  },
  {
   "cell_type": "code",
   "execution_count": 82,
   "metadata": {},
   "outputs": [],
   "source": [
    "temp = 0.9*bilinear_score_mat + 0.1*knn_score_mat"
   ]
  },
  {
   "cell_type": "code",
   "execution_count": 83,
   "metadata": {},
   "outputs": [
    {
     "name": "stderr",
     "output_type": "stream",
     "text": [
      "/work2/08343/nilesh/maverick2/anaconda3/envs/xc/lib/python3.7/site-packages/ipykernel_launcher.py:19: DeprecationWarning: `np.bool` is a deprecated alias for the builtin `bool`. To silence this warning, use `bool` by itself. Doing this will not modify any behavior and is safe. If you specifically wanted the numpy scalar type, use `np.bool_` here.\n",
      "Deprecated in NumPy 1.20; for more details and guidance: https://numpy.org/devdocs/release/1.20.0-notes.html#deprecations\n"
     ]
    },
    {
     "data": {
      "text/html": [
       "<div>\n",
       "<style scoped>\n",
       "    .dataframe tbody tr th:only-of-type {\n",
       "        vertical-align: middle;\n",
       "    }\n",
       "\n",
       "    .dataframe tbody tr th {\n",
       "        vertical-align: top;\n",
       "    }\n",
       "\n",
       "    .dataframe thead th {\n",
       "        text-align: right;\n",
       "    }\n",
       "</style>\n",
       "<table border=\"1\" class=\"dataframe\">\n",
       "  <thead>\n",
       "    <tr style=\"text-align: right;\">\n",
       "      <th></th>\n",
       "      <th>1</th>\n",
       "      <th>2</th>\n",
       "      <th>3</th>\n",
       "      <th>4</th>\n",
       "      <th>5</th>\n",
       "    </tr>\n",
       "  </thead>\n",
       "  <tbody>\n",
       "    <tr>\n",
       "      <th>P</th>\n",
       "      <td>91.87</td>\n",
       "      <td>87.27</td>\n",
       "      <td>82.03</td>\n",
       "      <td>75.38</td>\n",
       "      <td>68.61</td>\n",
       "    </tr>\n",
       "    <tr>\n",
       "      <th>nDCG</th>\n",
       "      <td>91.87</td>\n",
       "      <td>88.55</td>\n",
       "      <td>85.75</td>\n",
       "      <td>83.52</td>\n",
       "      <td>82.10</td>\n",
       "    </tr>\n",
       "    <tr>\n",
       "      <th>PSP</th>\n",
       "      <td>49.18</td>\n",
       "      <td>55.80</td>\n",
       "      <td>60.37</td>\n",
       "      <td>63.33</td>\n",
       "      <td>65.27</td>\n",
       "    </tr>\n",
       "    <tr>\n",
       "      <th>PSnDCG</th>\n",
       "      <td>49.18</td>\n",
       "      <td>54.16</td>\n",
       "      <td>57.58</td>\n",
       "      <td>59.98</td>\n",
       "      <td>61.61</td>\n",
       "    </tr>\n",
       "  </tbody>\n",
       "</table>\n",
       "</div>"
      ],
      "text/plain": [
       "            1      2      3      4      5\n",
       "P       91.87  87.27  82.03  75.38  68.61\n",
       "nDCG    91.87  88.55  85.75  83.52  82.10\n",
       "PSP     49.18  55.80  60.37  63.33  65.27\n",
       "PSnDCG  49.18  54.16  57.58  59.98  61.61"
      ]
     },
     "metadata": {},
     "output_type": "display_data"
    }
   ],
   "source": [
    "printacc(temp, X_Y=tst_X_Y);"
   ]
  },
  {
   "cell_type": "code",
   "execution_count": 14,
   "metadata": {
    "scrolled": true
   },
   "outputs": [
    {
     "name": "stdout",
     "output_type": "stream",
     "text": [
      "\u001b[1mGZSL metrics (shape=(6000, 4271)): \u001b[0m\n"
     ]
    },
    {
     "name": "stderr",
     "output_type": "stream",
     "text": [
      "/work2/08343/nilesh/maverick2/anaconda3/envs/xc/lib/python3.7/site-packages/ipykernel_launcher.py:19: DeprecationWarning: `np.bool` is a deprecated alias for the builtin `bool`. To silence this warning, use `bool` by itself. Doing this will not modify any behavior and is safe. If you specifically wanted the numpy scalar type, use `np.bool_` here.\n",
      "Deprecated in NumPy 1.20; for more details and guidance: https://numpy.org/devdocs/release/1.20.0-notes.html#deprecations\n"
     ]
    },
    {
     "data": {
      "text/html": [
       "<div>\n",
       "<style scoped>\n",
       "    .dataframe tbody tr th:only-of-type {\n",
       "        vertical-align: middle;\n",
       "    }\n",
       "\n",
       "    .dataframe tbody tr th {\n",
       "        vertical-align: top;\n",
       "    }\n",
       "\n",
       "    .dataframe thead th {\n",
       "        text-align: right;\n",
       "    }\n",
       "</style>\n",
       "<table border=\"1\" class=\"dataframe\">\n",
       "  <thead>\n",
       "    <tr style=\"text-align: right;\">\n",
       "      <th></th>\n",
       "      <th>1</th>\n",
       "      <th>2</th>\n",
       "      <th>3</th>\n",
       "      <th>4</th>\n",
       "      <th>5</th>\n",
       "    </tr>\n",
       "  </thead>\n",
       "  <tbody>\n",
       "    <tr>\n",
       "      <th>P</th>\n",
       "      <td>91.87</td>\n",
       "      <td>87.27</td>\n",
       "      <td>82.03</td>\n",
       "      <td>75.38</td>\n",
       "      <td>68.61</td>\n",
       "    </tr>\n",
       "    <tr>\n",
       "      <th>nDCG</th>\n",
       "      <td>91.87</td>\n",
       "      <td>88.55</td>\n",
       "      <td>85.75</td>\n",
       "      <td>83.52</td>\n",
       "      <td>82.10</td>\n",
       "    </tr>\n",
       "    <tr>\n",
       "      <th>PSP</th>\n",
       "      <td>49.18</td>\n",
       "      <td>55.80</td>\n",
       "      <td>60.37</td>\n",
       "      <td>63.33</td>\n",
       "      <td>65.27</td>\n",
       "    </tr>\n",
       "    <tr>\n",
       "      <th>PSnDCG</th>\n",
       "      <td>49.18</td>\n",
       "      <td>54.16</td>\n",
       "      <td>57.58</td>\n",
       "      <td>59.98</td>\n",
       "      <td>61.61</td>\n",
       "    </tr>\n",
       "  </tbody>\n",
       "</table>\n",
       "</div>"
      ],
      "text/plain": [
       "            1      2      3      4      5\n",
       "P       91.87  87.27  82.03  75.38  68.61\n",
       "nDCG    91.87  88.55  85.75  83.52  82.10\n",
       "PSP     49.18  55.80  60.37  63.33  65.27\n",
       "PSnDCG  49.18  54.16  57.58  59.98  61.61"
      ]
     },
     "metadata": {},
     "output_type": "display_data"
    },
    {
     "name": "stdout",
     "output_type": "stream",
     "text": [
      "\u001b[1mFewShot metrics (shape=(524, 1930)): \u001b[0m\n"
     ]
    },
    {
     "name": "stderr",
     "output_type": "stream",
     "text": [
      "/work2/08343/nilesh/maverick2/anaconda3/envs/xc/lib/python3.7/site-packages/ipykernel_launcher.py:19: DeprecationWarning: `np.bool` is a deprecated alias for the builtin `bool`. To silence this warning, use `bool` by itself. Doing this will not modify any behavior and is safe. If you specifically wanted the numpy scalar type, use `np.bool_` here.\n",
      "Deprecated in NumPy 1.20; for more details and guidance: https://numpy.org/devdocs/release/1.20.0-notes.html#deprecations\n"
     ]
    },
    {
     "data": {
      "text/html": [
       "<div>\n",
       "<style scoped>\n",
       "    .dataframe tbody tr th:only-of-type {\n",
       "        vertical-align: middle;\n",
       "    }\n",
       "\n",
       "    .dataframe tbody tr th {\n",
       "        vertical-align: top;\n",
       "    }\n",
       "\n",
       "    .dataframe thead th {\n",
       "        text-align: right;\n",
       "    }\n",
       "</style>\n",
       "<table border=\"1\" class=\"dataframe\">\n",
       "  <thead>\n",
       "    <tr style=\"text-align: right;\">\n",
       "      <th></th>\n",
       "      <th>1</th>\n",
       "      <th>2</th>\n",
       "      <th>3</th>\n",
       "      <th>4</th>\n",
       "      <th>5</th>\n",
       "    </tr>\n",
       "  </thead>\n",
       "  <tbody>\n",
       "    <tr>\n",
       "      <th>P</th>\n",
       "      <td>38.93</td>\n",
       "      <td>26.34</td>\n",
       "      <td>20.42</td>\n",
       "      <td>16.70</td>\n",
       "      <td>13.89</td>\n",
       "    </tr>\n",
       "    <tr>\n",
       "      <th>nDCG</th>\n",
       "      <td>38.93</td>\n",
       "      <td>42.32</td>\n",
       "      <td>45.23</td>\n",
       "      <td>46.99</td>\n",
       "      <td>47.81</td>\n",
       "    </tr>\n",
       "  </tbody>\n",
       "</table>\n",
       "</div>"
      ],
      "text/plain": [
       "          1      2      3      4      5\n",
       "P     38.93  26.34  20.42  16.70  13.89\n",
       "nDCG  38.93  42.32  45.23  46.99  47.81"
      ]
     },
     "metadata": {},
     "output_type": "display_data"
    },
    {
     "name": "stdout",
     "output_type": "stream",
     "text": [
      "\u001b[1mSZSL metrics (shape=(89, 163)): \u001b[0m\n"
     ]
    },
    {
     "name": "stderr",
     "output_type": "stream",
     "text": [
      "/work2/08343/nilesh/maverick2/anaconda3/envs/xc/lib/python3.7/site-packages/ipykernel_launcher.py:19: DeprecationWarning: `np.bool` is a deprecated alias for the builtin `bool`. To silence this warning, use `bool` by itself. Doing this will not modify any behavior and is safe. If you specifically wanted the numpy scalar type, use `np.bool_` here.\n",
      "Deprecated in NumPy 1.20; for more details and guidance: https://numpy.org/devdocs/release/1.20.0-notes.html#deprecations\n"
     ]
    },
    {
     "data": {
      "text/html": [
       "<div>\n",
       "<style scoped>\n",
       "    .dataframe tbody tr th:only-of-type {\n",
       "        vertical-align: middle;\n",
       "    }\n",
       "\n",
       "    .dataframe tbody tr th {\n",
       "        vertical-align: top;\n",
       "    }\n",
       "\n",
       "    .dataframe thead th {\n",
       "        text-align: right;\n",
       "    }\n",
       "</style>\n",
       "<table border=\"1\" class=\"dataframe\">\n",
       "  <thead>\n",
       "    <tr style=\"text-align: right;\">\n",
       "      <th></th>\n",
       "      <th>1</th>\n",
       "      <th>2</th>\n",
       "      <th>3</th>\n",
       "      <th>4</th>\n",
       "      <th>5</th>\n",
       "    </tr>\n",
       "  </thead>\n",
       "  <tbody>\n",
       "    <tr>\n",
       "      <th>P</th>\n",
       "      <td>29.21</td>\n",
       "      <td>18.54</td>\n",
       "      <td>14.61</td>\n",
       "      <td>10.96</td>\n",
       "      <td>8.76</td>\n",
       "    </tr>\n",
       "    <tr>\n",
       "      <th>nDCG</th>\n",
       "      <td>29.21</td>\n",
       "      <td>31.45</td>\n",
       "      <td>34.82</td>\n",
       "      <td>34.82</td>\n",
       "      <td>34.82</td>\n",
       "    </tr>\n",
       "  </tbody>\n",
       "</table>\n",
       "</div>"
      ],
      "text/plain": [
       "          1      2      3      4      5\n",
       "P     29.21  18.54  14.61  10.96   8.76\n",
       "nDCG  29.21  31.45  34.82  34.82  34.82"
      ]
     },
     "metadata": {},
     "output_type": "display_data"
    },
    {
     "name": "stdout",
     "output_type": "stream",
     "text": [
      "\u001b[1mXC metrics (shape=(6000, 4108)): \u001b[0m\n"
     ]
    },
    {
     "name": "stderr",
     "output_type": "stream",
     "text": [
      "/work2/08343/nilesh/maverick2/anaconda3/envs/xc/lib/python3.7/site-packages/ipykernel_launcher.py:19: DeprecationWarning: `np.bool` is a deprecated alias for the builtin `bool`. To silence this warning, use `bool` by itself. Doing this will not modify any behavior and is safe. If you specifically wanted the numpy scalar type, use `np.bool_` here.\n",
      "Deprecated in NumPy 1.20; for more details and guidance: https://numpy.org/devdocs/release/1.20.0-notes.html#deprecations\n"
     ]
    },
    {
     "data": {
      "text/html": [
       "<div>\n",
       "<style scoped>\n",
       "    .dataframe tbody tr th:only-of-type {\n",
       "        vertical-align: middle;\n",
       "    }\n",
       "\n",
       "    .dataframe tbody tr th {\n",
       "        vertical-align: top;\n",
       "    }\n",
       "\n",
       "    .dataframe thead th {\n",
       "        text-align: right;\n",
       "    }\n",
       "</style>\n",
       "<table border=\"1\" class=\"dataframe\">\n",
       "  <thead>\n",
       "    <tr style=\"text-align: right;\">\n",
       "      <th></th>\n",
       "      <th>1</th>\n",
       "      <th>2</th>\n",
       "      <th>3</th>\n",
       "      <th>4</th>\n",
       "      <th>5</th>\n",
       "    </tr>\n",
       "  </thead>\n",
       "  <tbody>\n",
       "    <tr>\n",
       "      <th>P</th>\n",
       "      <td>91.87</td>\n",
       "      <td>87.27</td>\n",
       "      <td>82.06</td>\n",
       "      <td>75.42</td>\n",
       "      <td>68.65</td>\n",
       "    </tr>\n",
       "    <tr>\n",
       "      <th>nDCG</th>\n",
       "      <td>91.87</td>\n",
       "      <td>88.55</td>\n",
       "      <td>85.80</td>\n",
       "      <td>83.59</td>\n",
       "      <td>82.19</td>\n",
       "    </tr>\n",
       "    <tr>\n",
       "      <th>PSP</th>\n",
       "      <td>51.07</td>\n",
       "      <td>57.41</td>\n",
       "      <td>61.93</td>\n",
       "      <td>64.79</td>\n",
       "      <td>66.67</td>\n",
       "    </tr>\n",
       "    <tr>\n",
       "      <th>PSnDCG</th>\n",
       "      <td>51.07</td>\n",
       "      <td>55.84</td>\n",
       "      <td>59.22</td>\n",
       "      <td>61.56</td>\n",
       "      <td>63.13</td>\n",
       "    </tr>\n",
       "  </tbody>\n",
       "</table>\n",
       "</div>"
      ],
      "text/plain": [
       "            1      2      3      4      5\n",
       "P       91.87  87.27  82.06  75.42  68.65\n",
       "nDCG    91.87  88.55  85.80  83.59  82.19\n",
       "PSP     51.07  57.41  61.93  64.79  66.67\n",
       "PSnDCG  51.07  55.84  59.22  61.56  63.13"
      ]
     },
     "metadata": {},
     "output_type": "display_data"
    }
   ],
   "source": [
    "get_irm_metrics(score_mat, X_Y=tst_X_Y);"
   ]
  },
  {
   "cell_type": "code",
   "execution_count": 16,
   "metadata": {
    "ExecuteTime": {
     "end_time": "2020-10-14T15:06:17.871287Z",
     "start_time": "2020-10-14T15:06:17.861336Z"
    }
   },
   "outputs": [],
   "source": [
    "# score_mat = 0.55*normalize(val_xshortlist, axis=1, norm='max') + 0.45*normalize(val_knn_score_mat, axis=1, norm='max')\n",
    "# score_mat = 0.8*normalize(val_bilinear_score_mat, axis=1, norm='max') + 0.2*normalize(val_knn_score_mat, axis=1, norm='max')\n",
    "# score_mat = 0.85*normalize(val_bilinear_score_mat, axis=1, norm='max') + 0.15*normalize(val_knn_score_mat, axis=1, norm='max') + 0.*normalize(val_xshortlist, axis=1, norm='max')\n",
    "score_mat = 0.85*val_bilinear_score_mat + 0.15*val_knn_score_mat"
   ]
  },
  {
   "cell_type": "code",
   "execution_count": 17,
   "metadata": {
    "ExecuteTime": {
     "end_time": "2020-10-15T09:35:24.895273Z",
     "start_time": "2020-10-15T09:35:24.526906Z"
    },
    "scrolled": true
   },
   "outputs": [
    {
     "name": "stdout",
     "output_type": "stream",
     "text": [
      "\u001b[1mGZSL metrics (shape=(6000, 4271)): \u001b[0m\n"
     ]
    },
    {
     "name": "stderr",
     "output_type": "stream",
     "text": [
      "/work2/08343/nilesh/maverick2/anaconda3/envs/xc/lib/python3.7/site-packages/ipykernel_launcher.py:19: DeprecationWarning: `np.bool` is a deprecated alias for the builtin `bool`. To silence this warning, use `bool` by itself. Doing this will not modify any behavior and is safe. If you specifically wanted the numpy scalar type, use `np.bool_` here.\n",
      "Deprecated in NumPy 1.20; for more details and guidance: https://numpy.org/devdocs/release/1.20.0-notes.html#deprecations\n"
     ]
    },
    {
     "data": {
      "text/html": [
       "<div>\n",
       "<style scoped>\n",
       "    .dataframe tbody tr th:only-of-type {\n",
       "        vertical-align: middle;\n",
       "    }\n",
       "\n",
       "    .dataframe tbody tr th {\n",
       "        vertical-align: top;\n",
       "    }\n",
       "\n",
       "    .dataframe thead th {\n",
       "        text-align: right;\n",
       "    }\n",
       "</style>\n",
       "<table border=\"1\" class=\"dataframe\">\n",
       "  <thead>\n",
       "    <tr style=\"text-align: right;\">\n",
       "      <th></th>\n",
       "      <th>1</th>\n",
       "      <th>2</th>\n",
       "      <th>3</th>\n",
       "      <th>4</th>\n",
       "      <th>5</th>\n",
       "    </tr>\n",
       "  </thead>\n",
       "  <tbody>\n",
       "    <tr>\n",
       "      <th>P</th>\n",
       "      <td>91.07</td>\n",
       "      <td>87.06</td>\n",
       "      <td>81.67</td>\n",
       "      <td>75.15</td>\n",
       "      <td>68.53</td>\n",
       "    </tr>\n",
       "    <tr>\n",
       "      <th>nDCG</th>\n",
       "      <td>91.07</td>\n",
       "      <td>88.11</td>\n",
       "      <td>85.15</td>\n",
       "      <td>82.89</td>\n",
       "      <td>81.67</td>\n",
       "    </tr>\n",
       "    <tr>\n",
       "      <th>PSP</th>\n",
       "      <td>49.83</td>\n",
       "      <td>56.78</td>\n",
       "      <td>60.91</td>\n",
       "      <td>63.89</td>\n",
       "      <td>66.06</td>\n",
       "    </tr>\n",
       "    <tr>\n",
       "      <th>PSnDCG</th>\n",
       "      <td>49.83</td>\n",
       "      <td>55.03</td>\n",
       "      <td>58.21</td>\n",
       "      <td>60.58</td>\n",
       "      <td>62.31</td>\n",
       "    </tr>\n",
       "  </tbody>\n",
       "</table>\n",
       "</div>"
      ],
      "text/plain": [
       "            1      2      3      4      5\n",
       "P       91.07  87.06  81.67  75.15  68.53\n",
       "nDCG    91.07  88.11  85.15  82.89  81.67\n",
       "PSP     49.83  56.78  60.91  63.89  66.06\n",
       "PSnDCG  49.83  55.03  58.21  60.58  62.31"
      ]
     },
     "metadata": {},
     "output_type": "display_data"
    },
    {
     "name": "stdout",
     "output_type": "stream",
     "text": [
      "\u001b[1mFewShot metrics (shape=(510, 1930)): \u001b[0m\n"
     ]
    },
    {
     "name": "stderr",
     "output_type": "stream",
     "text": [
      "/work2/08343/nilesh/maverick2/anaconda3/envs/xc/lib/python3.7/site-packages/ipykernel_launcher.py:19: DeprecationWarning: `np.bool` is a deprecated alias for the builtin `bool`. To silence this warning, use `bool` by itself. Doing this will not modify any behavior and is safe. If you specifically wanted the numpy scalar type, use `np.bool_` here.\n",
      "Deprecated in NumPy 1.20; for more details and guidance: https://numpy.org/devdocs/release/1.20.0-notes.html#deprecations\n"
     ]
    },
    {
     "data": {
      "text/html": [
       "<div>\n",
       "<style scoped>\n",
       "    .dataframe tbody tr th:only-of-type {\n",
       "        vertical-align: middle;\n",
       "    }\n",
       "\n",
       "    .dataframe tbody tr th {\n",
       "        vertical-align: top;\n",
       "    }\n",
       "\n",
       "    .dataframe thead th {\n",
       "        text-align: right;\n",
       "    }\n",
       "</style>\n",
       "<table border=\"1\" class=\"dataframe\">\n",
       "  <thead>\n",
       "    <tr style=\"text-align: right;\">\n",
       "      <th></th>\n",
       "      <th>1</th>\n",
       "      <th>2</th>\n",
       "      <th>3</th>\n",
       "      <th>4</th>\n",
       "      <th>5</th>\n",
       "    </tr>\n",
       "  </thead>\n",
       "  <tbody>\n",
       "    <tr>\n",
       "      <th>P</th>\n",
       "      <td>42.75</td>\n",
       "      <td>27.06</td>\n",
       "      <td>20.00</td>\n",
       "      <td>15.78</td>\n",
       "      <td>13.25</td>\n",
       "    </tr>\n",
       "    <tr>\n",
       "      <th>nDCG</th>\n",
       "      <td>42.75</td>\n",
       "      <td>44.95</td>\n",
       "      <td>46.47</td>\n",
       "      <td>47.32</td>\n",
       "      <td>48.37</td>\n",
       "    </tr>\n",
       "  </tbody>\n",
       "</table>\n",
       "</div>"
      ],
      "text/plain": [
       "          1      2      3      4      5\n",
       "P     42.75  27.06  20.00  15.78  13.25\n",
       "nDCG  42.75  44.95  46.47  47.32  48.37"
      ]
     },
     "metadata": {},
     "output_type": "display_data"
    },
    {
     "name": "stdout",
     "output_type": "stream",
     "text": [
      "\u001b[1mSZSL metrics (shape=(87, 163)): \u001b[0m\n"
     ]
    },
    {
     "name": "stderr",
     "output_type": "stream",
     "text": [
      "/work2/08343/nilesh/maverick2/anaconda3/envs/xc/lib/python3.7/site-packages/ipykernel_launcher.py:19: DeprecationWarning: `np.bool` is a deprecated alias for the builtin `bool`. To silence this warning, use `bool` by itself. Doing this will not modify any behavior and is safe. If you specifically wanted the numpy scalar type, use `np.bool_` here.\n",
      "Deprecated in NumPy 1.20; for more details and guidance: https://numpy.org/devdocs/release/1.20.0-notes.html#deprecations\n"
     ]
    },
    {
     "data": {
      "text/html": [
       "<div>\n",
       "<style scoped>\n",
       "    .dataframe tbody tr th:only-of-type {\n",
       "        vertical-align: middle;\n",
       "    }\n",
       "\n",
       "    .dataframe tbody tr th {\n",
       "        vertical-align: top;\n",
       "    }\n",
       "\n",
       "    .dataframe thead th {\n",
       "        text-align: right;\n",
       "    }\n",
       "</style>\n",
       "<table border=\"1\" class=\"dataframe\">\n",
       "  <thead>\n",
       "    <tr style=\"text-align: right;\">\n",
       "      <th></th>\n",
       "      <th>1</th>\n",
       "      <th>2</th>\n",
       "      <th>3</th>\n",
       "      <th>4</th>\n",
       "      <th>5</th>\n",
       "    </tr>\n",
       "  </thead>\n",
       "  <tbody>\n",
       "    <tr>\n",
       "      <th>P</th>\n",
       "      <td>34.48</td>\n",
       "      <td>21.26</td>\n",
       "      <td>14.56</td>\n",
       "      <td>11.49</td>\n",
       "      <td>9.20</td>\n",
       "    </tr>\n",
       "    <tr>\n",
       "      <th>nDCG</th>\n",
       "      <td>34.48</td>\n",
       "      <td>36.49</td>\n",
       "      <td>37.07</td>\n",
       "      <td>37.87</td>\n",
       "      <td>37.87</td>\n",
       "    </tr>\n",
       "  </tbody>\n",
       "</table>\n",
       "</div>"
      ],
      "text/plain": [
       "          1      2      3      4      5\n",
       "P     34.48  21.26  14.56  11.49   9.20\n",
       "nDCG  34.48  36.49  37.07  37.87  37.87"
      ]
     },
     "metadata": {},
     "output_type": "display_data"
    },
    {
     "name": "stdout",
     "output_type": "stream",
     "text": [
      "\u001b[1mXC metrics (shape=(6000, 4108)): \u001b[0m\n"
     ]
    },
    {
     "name": "stderr",
     "output_type": "stream",
     "text": [
      "/work2/08343/nilesh/maverick2/anaconda3/envs/xc/lib/python3.7/site-packages/ipykernel_launcher.py:19: DeprecationWarning: `np.bool` is a deprecated alias for the builtin `bool`. To silence this warning, use `bool` by itself. Doing this will not modify any behavior and is safe. If you specifically wanted the numpy scalar type, use `np.bool_` here.\n",
      "Deprecated in NumPy 1.20; for more details and guidance: https://numpy.org/devdocs/release/1.20.0-notes.html#deprecations\n"
     ]
    },
    {
     "data": {
      "text/html": [
       "<div>\n",
       "<style scoped>\n",
       "    .dataframe tbody tr th:only-of-type {\n",
       "        vertical-align: middle;\n",
       "    }\n",
       "\n",
       "    .dataframe tbody tr th {\n",
       "        vertical-align: top;\n",
       "    }\n",
       "\n",
       "    .dataframe thead th {\n",
       "        text-align: right;\n",
       "    }\n",
       "</style>\n",
       "<table border=\"1\" class=\"dataframe\">\n",
       "  <thead>\n",
       "    <tr style=\"text-align: right;\">\n",
       "      <th></th>\n",
       "      <th>1</th>\n",
       "      <th>2</th>\n",
       "      <th>3</th>\n",
       "      <th>4</th>\n",
       "      <th>5</th>\n",
       "    </tr>\n",
       "  </thead>\n",
       "  <tbody>\n",
       "    <tr>\n",
       "      <th>P</th>\n",
       "      <td>91.08</td>\n",
       "      <td>87.13</td>\n",
       "      <td>81.74</td>\n",
       "      <td>75.25</td>\n",
       "      <td>68.62</td>\n",
       "    </tr>\n",
       "    <tr>\n",
       "      <th>nDCG</th>\n",
       "      <td>91.08</td>\n",
       "      <td>88.17</td>\n",
       "      <td>85.23</td>\n",
       "      <td>83.00</td>\n",
       "      <td>81.81</td>\n",
       "    </tr>\n",
       "    <tr>\n",
       "      <th>PSP</th>\n",
       "      <td>51.75</td>\n",
       "      <td>58.54</td>\n",
       "      <td>62.53</td>\n",
       "      <td>65.42</td>\n",
       "      <td>67.57</td>\n",
       "    </tr>\n",
       "    <tr>\n",
       "      <th>PSnDCG</th>\n",
       "      <td>51.75</td>\n",
       "      <td>56.84</td>\n",
       "      <td>59.91</td>\n",
       "      <td>62.23</td>\n",
       "      <td>63.93</td>\n",
       "    </tr>\n",
       "  </tbody>\n",
       "</table>\n",
       "</div>"
      ],
      "text/plain": [
       "            1      2      3      4      5\n",
       "P       91.08  87.13  81.74  75.25  68.62\n",
       "nDCG    91.08  88.17  85.23  83.00  81.81\n",
       "PSP     51.75  58.54  62.53  65.42  67.57\n",
       "PSnDCG  51.75  56.84  59.91  62.23  63.93"
      ]
     },
     "metadata": {},
     "output_type": "display_data"
    }
   ],
   "source": [
    "metrics = get_irm_metrics(score_mat, X_Y=val_X_Y);"
   ]
  },
  {
   "cell_type": "code",
   "execution_count": 7,
   "metadata": {
    "ExecuteTime": {
     "end_time": "2020-12-01T06:58:30.041044Z",
     "start_time": "2020-12-01T06:58:30.031830Z"
    }
   },
   "outputs": [],
   "source": [
    "rand_inds = np.load(f'{DATA_DIR}/random100000_tst_inds.npy')"
   ]
  },
  {
   "cell_type": "code",
   "execution_count": 21,
   "metadata": {
    "ExecuteTime": {
     "end_time": "2020-12-02T12:30:32.960171Z",
     "start_time": "2020-12-02T12:20:00.525710Z"
    }
   },
   "outputs": [
    {
     "name": "stdout",
     "output_type": "stream",
     "text": [
      "loaded bin file in buffer\n",
      "loaded bin file in buffer\n",
      "loaded bin file in buffer\n"
     ]
    }
   ],
   "source": [
    "# tst_clf_score_mat = retain_topk(_filter(read_bin_spmat(f'{RES_DIR}/clf_score_mat.bin').copy(), filter_mat), k=100)\n",
    "tst_bilinear_score_mat = retain_topk(_filter(read_bin_spmat(f'{RES_DIR}/bilinear_score_mat.bin').copy(), filter_mat), k=100)\n",
    "tst_knn_score_mat = retain_topk(_filter(read_bin_spmat(f'{RES_DIR}/knn_score_mat.bin').copy(), filter_mat), k=100)\n",
    "\n",
    "# # trn_xshortlist = read_bin_spmat(f'{RES_DIR}/trn_xshortlist.bin')\n",
    "tst_xshortlist = retain_topk(_filter(read_bin_spmat(f'{RES_DIR}/shortlist.bin').copy(), filter_mat), k=100)"
   ]
  },
  {
   "cell_type": "code",
   "execution_count": 31,
   "metadata": {
    "ExecuteTime": {
     "end_time": "2020-12-02T12:30:51.421852Z",
     "start_time": "2020-12-02T12:30:32.961596Z"
    }
   },
   "outputs": [],
   "source": [
    "score_mat = 0.9*tst_bilinear_score_mat + 0.1*tst_knn_score_mat\n",
    "# score_mat = 0.4*tst_knn_score_mat + 0.6*tst_xshortlist\n",
    "# score_mat = 0.25*tst_knn_score_mat + 0.65*tst_clf_score_mat + 0.1*tst_xshortlist"
   ]
  },
  {
   "cell_type": "code",
   "execution_count": 32,
   "metadata": {
    "ExecuteTime": {
     "end_time": "2020-12-02T13:12:13.678983Z",
     "start_time": "2020-12-02T13:07:44.542695Z"
    },
    "scrolled": true
   },
   "outputs": [
    {
     "name": "stdout",
     "output_type": "stream",
     "text": [
      "\u001b[1mGZSL metrics (shape=(6000, 4271)): \u001b[0m\n"
     ]
    },
    {
     "name": "stderr",
     "output_type": "stream",
     "text": [
      "/work2/08343/nilesh/maverick2/anaconda3/envs/xc/lib/python3.7/site-packages/ipykernel_launcher.py:19: DeprecationWarning: `np.bool` is a deprecated alias for the builtin `bool`. To silence this warning, use `bool` by itself. Doing this will not modify any behavior and is safe. If you specifically wanted the numpy scalar type, use `np.bool_` here.\n",
      "Deprecated in NumPy 1.20; for more details and guidance: https://numpy.org/devdocs/release/1.20.0-notes.html#deprecations\n"
     ]
    },
    {
     "data": {
      "text/html": [
       "<div>\n",
       "<style scoped>\n",
       "    .dataframe tbody tr th:only-of-type {\n",
       "        vertical-align: middle;\n",
       "    }\n",
       "\n",
       "    .dataframe tbody tr th {\n",
       "        vertical-align: top;\n",
       "    }\n",
       "\n",
       "    .dataframe thead th {\n",
       "        text-align: right;\n",
       "    }\n",
       "</style>\n",
       "<table border=\"1\" class=\"dataframe\">\n",
       "  <thead>\n",
       "    <tr style=\"text-align: right;\">\n",
       "      <th></th>\n",
       "      <th>1</th>\n",
       "      <th>2</th>\n",
       "      <th>3</th>\n",
       "      <th>4</th>\n",
       "      <th>5</th>\n",
       "    </tr>\n",
       "  </thead>\n",
       "  <tbody>\n",
       "    <tr>\n",
       "      <th>P</th>\n",
       "      <td>91.72</td>\n",
       "      <td>87.28</td>\n",
       "      <td>81.98</td>\n",
       "      <td>75.42</td>\n",
       "      <td>68.60</td>\n",
       "    </tr>\n",
       "    <tr>\n",
       "      <th>nDCG</th>\n",
       "      <td>91.72</td>\n",
       "      <td>88.52</td>\n",
       "      <td>85.70</td>\n",
       "      <td>83.51</td>\n",
       "      <td>82.08</td>\n",
       "    </tr>\n",
       "    <tr>\n",
       "      <th>PSP</th>\n",
       "      <td>48.60</td>\n",
       "      <td>55.56</td>\n",
       "      <td>60.16</td>\n",
       "      <td>63.20</td>\n",
       "      <td>64.98</td>\n",
       "    </tr>\n",
       "    <tr>\n",
       "      <th>PSnDCG</th>\n",
       "      <td>48.60</td>\n",
       "      <td>53.83</td>\n",
       "      <td>57.29</td>\n",
       "      <td>59.73</td>\n",
       "      <td>61.29</td>\n",
       "    </tr>\n",
       "  </tbody>\n",
       "</table>\n",
       "</div>"
      ],
      "text/plain": [
       "            1      2      3      4      5\n",
       "P       91.72  87.28  81.98  75.42  68.60\n",
       "nDCG    91.72  88.52  85.70  83.51  82.08\n",
       "PSP     48.60  55.56  60.16  63.20  64.98\n",
       "PSnDCG  48.60  53.83  57.29  59.73  61.29"
      ]
     },
     "metadata": {},
     "output_type": "display_data"
    },
    {
     "name": "stdout",
     "output_type": "stream",
     "text": [
      "\u001b[1mFewShot metrics (shape=(524, 1930)): \u001b[0m\n"
     ]
    },
    {
     "name": "stderr",
     "output_type": "stream",
     "text": [
      "/work2/08343/nilesh/maverick2/anaconda3/envs/xc/lib/python3.7/site-packages/ipykernel_launcher.py:19: DeprecationWarning: `np.bool` is a deprecated alias for the builtin `bool`. To silence this warning, use `bool` by itself. Doing this will not modify any behavior and is safe. If you specifically wanted the numpy scalar type, use `np.bool_` here.\n",
      "Deprecated in NumPy 1.20; for more details and guidance: https://numpy.org/devdocs/release/1.20.0-notes.html#deprecations\n"
     ]
    },
    {
     "data": {
      "text/html": [
       "<div>\n",
       "<style scoped>\n",
       "    .dataframe tbody tr th:only-of-type {\n",
       "        vertical-align: middle;\n",
       "    }\n",
       "\n",
       "    .dataframe tbody tr th {\n",
       "        vertical-align: top;\n",
       "    }\n",
       "\n",
       "    .dataframe thead th {\n",
       "        text-align: right;\n",
       "    }\n",
       "</style>\n",
       "<table border=\"1\" class=\"dataframe\">\n",
       "  <thead>\n",
       "    <tr style=\"text-align: right;\">\n",
       "      <th></th>\n",
       "      <th>1</th>\n",
       "      <th>2</th>\n",
       "      <th>3</th>\n",
       "      <th>4</th>\n",
       "      <th>5</th>\n",
       "    </tr>\n",
       "  </thead>\n",
       "  <tbody>\n",
       "    <tr>\n",
       "      <th>P</th>\n",
       "      <td>38.17</td>\n",
       "      <td>25.29</td>\n",
       "      <td>19.72</td>\n",
       "      <td>15.74</td>\n",
       "      <td>13.09</td>\n",
       "    </tr>\n",
       "    <tr>\n",
       "      <th>nDCG</th>\n",
       "      <td>38.17</td>\n",
       "      <td>41.34</td>\n",
       "      <td>44.30</td>\n",
       "      <td>45.31</td>\n",
       "      <td>45.98</td>\n",
       "    </tr>\n",
       "  </tbody>\n",
       "</table>\n",
       "</div>"
      ],
      "text/plain": [
       "          1      2      3      4      5\n",
       "P     38.17  25.29  19.72  15.74  13.09\n",
       "nDCG  38.17  41.34  44.30  45.31  45.98"
      ]
     },
     "metadata": {},
     "output_type": "display_data"
    },
    {
     "name": "stdout",
     "output_type": "stream",
     "text": [
      "\u001b[1mSZSL metrics (shape=(89, 163)): \u001b[0m\n"
     ]
    },
    {
     "name": "stderr",
     "output_type": "stream",
     "text": [
      "/work2/08343/nilesh/maverick2/anaconda3/envs/xc/lib/python3.7/site-packages/ipykernel_launcher.py:19: DeprecationWarning: `np.bool` is a deprecated alias for the builtin `bool`. To silence this warning, use `bool` by itself. Doing this will not modify any behavior and is safe. If you specifically wanted the numpy scalar type, use `np.bool_` here.\n",
      "Deprecated in NumPy 1.20; for more details and guidance: https://numpy.org/devdocs/release/1.20.0-notes.html#deprecations\n"
     ]
    },
    {
     "data": {
      "text/html": [
       "<div>\n",
       "<style scoped>\n",
       "    .dataframe tbody tr th:only-of-type {\n",
       "        vertical-align: middle;\n",
       "    }\n",
       "\n",
       "    .dataframe tbody tr th {\n",
       "        vertical-align: top;\n",
       "    }\n",
       "\n",
       "    .dataframe thead th {\n",
       "        text-align: right;\n",
       "    }\n",
       "</style>\n",
       "<table border=\"1\" class=\"dataframe\">\n",
       "  <thead>\n",
       "    <tr style=\"text-align: right;\">\n",
       "      <th></th>\n",
       "      <th>1</th>\n",
       "      <th>2</th>\n",
       "      <th>3</th>\n",
       "      <th>4</th>\n",
       "      <th>5</th>\n",
       "    </tr>\n",
       "  </thead>\n",
       "  <tbody>\n",
       "    <tr>\n",
       "      <th>P</th>\n",
       "      <td>21.35</td>\n",
       "      <td>15.73</td>\n",
       "      <td>11.99</td>\n",
       "      <td>9.55</td>\n",
       "      <td>7.87</td>\n",
       "    </tr>\n",
       "    <tr>\n",
       "      <th>nDCG</th>\n",
       "      <td>21.35</td>\n",
       "      <td>25.28</td>\n",
       "      <td>27.31</td>\n",
       "      <td>28.28</td>\n",
       "      <td>28.71</td>\n",
       "    </tr>\n",
       "  </tbody>\n",
       "</table>\n",
       "</div>"
      ],
      "text/plain": [
       "          1      2      3      4      5\n",
       "P     21.35  15.73  11.99   9.55   7.87\n",
       "nDCG  21.35  25.28  27.31  28.28  28.71"
      ]
     },
     "metadata": {},
     "output_type": "display_data"
    },
    {
     "name": "stdout",
     "output_type": "stream",
     "text": [
      "\u001b[1mXC metrics (shape=(6000, 4108)): \u001b[0m\n"
     ]
    },
    {
     "name": "stderr",
     "output_type": "stream",
     "text": [
      "/work2/08343/nilesh/maverick2/anaconda3/envs/xc/lib/python3.7/site-packages/ipykernel_launcher.py:19: DeprecationWarning: `np.bool` is a deprecated alias for the builtin `bool`. To silence this warning, use `bool` by itself. Doing this will not modify any behavior and is safe. If you specifically wanted the numpy scalar type, use `np.bool_` here.\n",
      "Deprecated in NumPy 1.20; for more details and guidance: https://numpy.org/devdocs/release/1.20.0-notes.html#deprecations\n"
     ]
    },
    {
     "data": {
      "text/html": [
       "<div>\n",
       "<style scoped>\n",
       "    .dataframe tbody tr th:only-of-type {\n",
       "        vertical-align: middle;\n",
       "    }\n",
       "\n",
       "    .dataframe tbody tr th {\n",
       "        vertical-align: top;\n",
       "    }\n",
       "\n",
       "    .dataframe thead th {\n",
       "        text-align: right;\n",
       "    }\n",
       "</style>\n",
       "<table border=\"1\" class=\"dataframe\">\n",
       "  <thead>\n",
       "    <tr style=\"text-align: right;\">\n",
       "      <th></th>\n",
       "      <th>1</th>\n",
       "      <th>2</th>\n",
       "      <th>3</th>\n",
       "      <th>4</th>\n",
       "      <th>5</th>\n",
       "    </tr>\n",
       "  </thead>\n",
       "  <tbody>\n",
       "    <tr>\n",
       "      <th>P</th>\n",
       "      <td>91.73</td>\n",
       "      <td>87.28</td>\n",
       "      <td>82.01</td>\n",
       "      <td>75.47</td>\n",
       "      <td>68.64</td>\n",
       "    </tr>\n",
       "    <tr>\n",
       "      <th>nDCG</th>\n",
       "      <td>91.73</td>\n",
       "      <td>88.53</td>\n",
       "      <td>85.74</td>\n",
       "      <td>83.60</td>\n",
       "      <td>82.18</td>\n",
       "    </tr>\n",
       "    <tr>\n",
       "      <th>PSP</th>\n",
       "      <td>50.53</td>\n",
       "      <td>57.20</td>\n",
       "      <td>61.75</td>\n",
       "      <td>64.71</td>\n",
       "      <td>66.45</td>\n",
       "    </tr>\n",
       "    <tr>\n",
       "      <th>PSnDCG</th>\n",
       "      <td>50.53</td>\n",
       "      <td>55.55</td>\n",
       "      <td>58.96</td>\n",
       "      <td>61.36</td>\n",
       "      <td>62.86</td>\n",
       "    </tr>\n",
       "  </tbody>\n",
       "</table>\n",
       "</div>"
      ],
      "text/plain": [
       "            1      2      3      4      5\n",
       "P       91.73  87.28  82.01  75.47  68.64\n",
       "nDCG    91.73  88.53  85.74  83.60  82.18\n",
       "PSP     50.53  57.20  61.75  64.71  66.45\n",
       "PSnDCG  50.53  55.55  58.96  61.36  62.86"
      ]
     },
     "metadata": {},
     "output_type": "display_data"
    }
   ],
   "source": [
    "metrics = get_irm_metrics(tst_bilinear_score_mat, X_Y=tst_X_Y);\n",
    "# myprint(*metrics['GZSL'][0, [0, 2, 4]], *metrics['FewShot'][0, [0, 2, 4]], *metrics['SZSL'][0, [0, 2, 4]], *metrics['GZSL'][2, [0, 2, 4]], sep=';')"
   ]
  },
  {
   "cell_type": "code",
   "execution_count": 19,
   "metadata": {
    "ExecuteTime": {
     "end_time": "2020-12-02T13:15:40.663629Z",
     "start_time": "2020-12-02T13:12:13.681212Z"
    }
   },
   "outputs": [
    {
     "name": "stdout",
     "output_type": "stream",
     "text": [
      "\u001b[1mGZSL metrics (shape=(2705425, 1285321)): \u001b[0m\n",
      "\u001b[1mFewShot metrics (shape=(2294572, 986826)): \u001b[0m\n",
      "\u001b[1mSZSL metrics (shape=(2202574, 790214)): \u001b[0m\n",
      "\u001b[1mXC metrics (shape=(1787090, 495107)): \u001b[0m\n",
      "18.68 +- 0.0744;11.56 +- 0.0991;8.61 +- 0.0924;18.95 +- 0.0634;11.09 +- 0.0297;8.04 +- 0.0153;19.12 +- 0.0639;11.11 +- 0.0246;8.01 +- 0.0178;17.55 +- 0.0729;15.60 +- 0.1408;16.03 +- 0.1713\n"
     ]
    }
   ],
   "source": [
    "metrics = get_irm_metrics(tst_knn_score_mat, X_Y=tst_X_Y);\n",
    "myprint(*metrics['GZSL'][0, [0, 2, 4]], *metrics['FewShot'][0, [0, 2, 4]], *metrics['SZSL'][0, [0, 2, 4]], *metrics['GZSL'][2, [0, 2, 4]], sep=';')"
   ]
  },
  {
   "cell_type": "code",
   "execution_count": 12,
   "metadata": {},
   "outputs": [
    {
     "name": "stdout",
     "output_type": "stream",
     "text": [
      "30.070 22.469 17.747 21.081 12.696 9.314 21.222 12.597 9.204 7.854 11.788 14.554\n"
     ]
    }
   ],
   "source": [
    "myprint(*metrics['GZSL'][0, [0, 2, 4]], *metrics['FewShot'][0, [0, 2, 4]], *metrics['SZSL'][0, [0, 2, 4]], *metrics['GZSL'][2, [0, 2, 4]])"
   ]
  },
  {
   "cell_type": "code",
   "execution_count": 16,
   "metadata": {
    "ExecuteTime": {
     "end_time": "2020-12-02T13:04:09.266917Z",
     "start_time": "2020-12-02T13:00:21.992016Z"
    }
   },
   "outputs": [],
   "source": [
    "sp.save_npz(f'{RES_DIR}/final_score_mat.npz', score_mat)"
   ]
  },
  {
   "cell_type": "code",
   "execution_count": 75,
   "metadata": {},
   "outputs": [
    {
     "name": "stdout",
     "output_type": "stream",
     "text": [
      "loaded bin file in buffer\n"
     ]
    }
   ],
   "source": [
    "tst_xshortlist = read_bin_spmat(f'{RES_DIR}/shortlist.bin').copy()"
   ]
  },
  {
   "cell_type": "code",
   "execution_count": 94,
   "metadata": {},
   "outputs": [],
   "source": [
    "parabel_score_mat = sp.load_npz(f'/mnt/c/nilesh/score_mat.npz')"
   ]
  },
  {
   "cell_type": "code",
   "execution_count": 13,
   "metadata": {},
   "outputs": [
    {
     "name": "stdout",
     "output_type": "stream",
     "text": [
      "loaded bin file in buffer\n"
     ]
    }
   ],
   "source": [
    "tfidf_xshortlist = read_bin_spmat(f'/mnt/c/nilesh/wiki_tfidf_score_mat.bin').copy()"
   ]
  },
  {
   "cell_type": "code",
   "execution_count": 79,
   "metadata": {},
   "outputs": [],
   "source": [
    "def recall(spmat, X_Y = None, K = [1, 10, 50, 100]):\n",
    "    if X_Y is None : X_Y = tst_X_Y.copy()\n",
    "    X_Y.data[:] = 1\n",
    "    ans = {}\n",
    "    rank_mat = xclib.utils.sparse.rank(spmat)\n",
    "    \n",
    "    for k in K:\n",
    "        temp = rank_mat.copy()\n",
    "        temp.data[temp.data > k] = 0.0\n",
    "        temp.eliminate_zeros()\n",
    "        temp.data[:] = 1.0\n",
    "        intrsxn = temp.multiply(X_Y)\n",
    "\n",
    "        recall = (intrsxn.nnz/X_Y.nnz)\n",
    "        ans['R@%d'%k] = recall*100\n",
    "    \n",
    "    return ans"
   ]
  },
  {
   "cell_type": "code",
   "execution_count": 151,
   "metadata": {
    "scrolled": true
   },
   "outputs": [
    {
     "data": {
      "text/plain": [
       "{'R@50': 30.001787499087367,\n",
       " 'R@100': 32.193865605244675,\n",
       " 'R@500': 32.193865605244675,\n",
       " 'R@1000': 32.193865605244675}"
      ]
     },
     "execution_count": 151,
     "metadata": {},
     "output_type": "execute_result"
    }
   ],
   "source": [
    "recall(parabel_score_mat, X_Y=tst_X_Y[rand_inds], K=[50, 100, 500, 1000])"
   ]
  },
  {
   "cell_type": "code",
   "execution_count": 14,
   "metadata": {},
   "outputs": [],
   "source": [
    "nnz = trn_X_Y.getnnz(0)\n",
    "lbl_freq = np.array(list(zip(np.arange(trn_X_Y.shape[1]), nnz, np.zeros(trn_X_Y.shape[1]))), dtype=object)\n",
    "lbl_freq = lbl_freq[np.argsort(lbl_freq[:, 1])]\n",
    "lbl_freq[:, 2] = np.cumsum(lbl_freq[:, 1])"
   ]
  },
  {
   "cell_type": "code",
   "execution_count": 15,
   "metadata": {},
   "outputs": [
    {
     "name": "stderr",
     "output_type": "stream",
     "text": [
      "/home/nilesh/.local/lib/python3.6/site-packages/ipykernel_launcher.py:2: VisibleDeprecationWarning: Creating an ndarray from ragged nested sequences (which is a list-or-tuple of lists-or-tuples-or ndarrays with different lengths or shapes) is deprecated. If you meant to do this, you must specify 'dtype=object' when creating the ndarray\n",
      "  \n"
     ]
    }
   ],
   "source": [
    "totsum = lbl_freq[-1, 2]\n",
    "deciles = np.array([lbl_freq[(lbl_freq[:, 2] > i*totsum/100) & (lbl_freq[:, 2] <= (i+10)*totsum/100)] for i in range(-10, 100, 10)])"
   ]
  },
  {
   "cell_type": "code",
   "execution_count": 16,
   "metadata": {},
   "outputs": [],
   "source": [
    "decile_mask = np.zeros((deciles.shape[0], trn_X_Y.shape[1]), bool)\n",
    "for i, decile in enumerate(deciles):\n",
    "    decile_mask[i, decile[:, 0].astype(int)] = True"
   ]
  },
  {
   "cell_type": "code",
   "execution_count": 17,
   "metadata": {},
   "outputs": [],
   "source": [
    "axml_score_mat = retain_topk(sp.load_npz('/mnt/c/nilesh/wiki_mats/axml_score_mat.npz')[rand_inds], k=100)"
   ]
  },
  {
   "cell_type": "code",
   "execution_count": 18,
   "metadata": {},
   "outputs": [],
   "source": [
    "parabel_score_mat = retain_topk(sp.load_npz('/mnt/c/nilesh/wiki_mats/parabel_score_mat.npz')[rand_inds], k=100)"
   ]
  },
  {
   "cell_type": "code",
   "execution_count": 19,
   "metadata": {},
   "outputs": [],
   "source": [
    "dismec_score_mat = retain_topk(sp.load_npz('/mnt/c/nilesh/wiki_mats/dismec_score_mat.npz')[rand_inds], k=100)"
   ]
  },
  {
   "cell_type": "code",
   "execution_count": null,
   "metadata": {},
   "outputs": [],
   "source": [
    "all_score_mats = "
   ]
  },
  {
   "cell_type": "code",
   "execution_count": 20,
   "metadata": {},
   "outputs": [],
   "source": [
    "\n",
    "all_score_mats = [('ZestXML', retain_topk(score_mat, k=100, copy=False)),\n",
    "                 ('Tf-Idf', retain_topk(tfidf_xshortlist, k=100, copy=False)),\n",
    "                 ('AttentionXML', axml_score_mat),\n",
    "                 ('Parabel', parabel_score_mat),\n",
    "                 ('DiSMEC', dismec_score_mat)]"
   ]
  },
  {
   "cell_type": "code",
   "execution_count": 35,
   "metadata": {},
   "outputs": [
    {
     "data": {
      "text/plain": [
       "100.0"
      ]
     },
     "execution_count": 35,
     "metadata": {},
     "output_type": "execute_result"
    }
   ],
   "source": [
    "tst_xshortlist.nnz / tst_xshortlist.shape[0]"
   ]
  },
  {
   "cell_type": "code",
   "execution_count": 43,
   "metadata": {},
   "outputs": [],
   "source": [
    "points = {}"
   ]
  },
  {
   "cell_type": "code",
   "execution_count": 44,
   "metadata": {
    "scrolled": true
   },
   "outputs": [
    {
     "name": "stderr",
     "output_type": "stream",
     "text": [
      "\r",
      "0it [00:00, ?it/s]"
     ]
    },
    {
     "name": "stdout",
     "output_type": "stream",
     "text": [
      "Method : ZestXML\n"
     ]
    },
    {
     "name": "stderr",
     "output_type": "stream",
     "text": [
      "10it [03:15, 19.54s/it]\n"
     ]
    },
    {
     "name": "stdout",
     "output_type": "stream",
     "text": [
      "\u001b[1mdecile 0 (shape=(81546, 790214)): \u001b[0m\n"
     ]
    },
    {
     "data": {
      "text/html": [
       "<div>\n",
       "<style scoped>\n",
       "    .dataframe tbody tr th:only-of-type {\n",
       "        vertical-align: middle;\n",
       "    }\n",
       "\n",
       "    .dataframe tbody tr th {\n",
       "        vertical-align: top;\n",
       "    }\n",
       "\n",
       "    .dataframe thead th {\n",
       "        text-align: right;\n",
       "    }\n",
       "</style>\n",
       "<table border=\"1\" class=\"dataframe\">\n",
       "  <thead>\n",
       "    <tr style=\"text-align: right;\">\n",
       "      <th></th>\n",
       "      <th>1</th>\n",
       "      <th>2</th>\n",
       "      <th>3</th>\n",
       "      <th>4</th>\n",
       "      <th>5</th>\n",
       "    </tr>\n",
       "  </thead>\n",
       "  <tbody>\n",
       "    <tr>\n",
       "      <th>P</th>\n",
       "      <td>21.24</td>\n",
       "      <td>15.79</td>\n",
       "      <td>12.60</td>\n",
       "      <td>10.62</td>\n",
       "      <td>9.20</td>\n",
       "    </tr>\n",
       "    <tr>\n",
       "      <th>nDCG</th>\n",
       "      <td>21.24</td>\n",
       "      <td>20.49</td>\n",
       "      <td>20.83</td>\n",
       "      <td>21.44</td>\n",
       "      <td>21.96</td>\n",
       "    </tr>\n",
       "  </tbody>\n",
       "</table>\n",
       "</div>"
      ],
      "text/plain": [
       "          1      2      3      4      5\n",
       "P     21.24  15.79  12.60  10.62   9.20\n",
       "nDCG  21.24  20.49  20.83  21.44  21.96"
      ]
     },
     "metadata": {},
     "output_type": "display_data"
    },
    {
     "name": "stderr",
     "output_type": "stream",
     "text": [
      "10it [02:14, 13.49s/it]"
     ]
    },
    {
     "name": "stdout",
     "output_type": "stream",
     "text": [
      "\u001b[1mdecile 1 (shape=(1361, 13536)): \u001b[0m\n"
     ]
    },
    {
     "name": "stderr",
     "output_type": "stream",
     "text": [
      "\n"
     ]
    },
    {
     "data": {
      "text/html": [
       "<div>\n",
       "<style scoped>\n",
       "    .dataframe tbody tr th:only-of-type {\n",
       "        vertical-align: middle;\n",
       "    }\n",
       "\n",
       "    .dataframe tbody tr th {\n",
       "        vertical-align: top;\n",
       "    }\n",
       "\n",
       "    .dataframe thead th {\n",
       "        text-align: right;\n",
       "    }\n",
       "</style>\n",
       "<table border=\"1\" class=\"dataframe\">\n",
       "  <thead>\n",
       "    <tr style=\"text-align: right;\">\n",
       "      <th></th>\n",
       "      <th>1</th>\n",
       "      <th>2</th>\n",
       "      <th>3</th>\n",
       "      <th>4</th>\n",
       "      <th>5</th>\n",
       "    </tr>\n",
       "  </thead>\n",
       "  <tbody>\n",
       "    <tr>\n",
       "      <th>P</th>\n",
       "      <td>37.55</td>\n",
       "      <td>24.69</td>\n",
       "      <td>17.93</td>\n",
       "      <td>14.03</td>\n",
       "      <td>11.43</td>\n",
       "    </tr>\n",
       "    <tr>\n",
       "      <th>nDCG</th>\n",
       "      <td>37.55</td>\n",
       "      <td>43.34</td>\n",
       "      <td>45.30</td>\n",
       "      <td>46.19</td>\n",
       "      <td>46.56</td>\n",
       "    </tr>\n",
       "  </tbody>\n",
       "</table>\n",
       "</div>"
      ],
      "text/plain": [
       "          1      2      3      4      5\n",
       "P     37.55  24.69  17.93  14.03  11.43\n",
       "nDCG  37.55  43.34  45.30  46.19  46.56"
      ]
     },
     "metadata": {},
     "output_type": "display_data"
    },
    {
     "name": "stderr",
     "output_type": "stream",
     "text": [
      "10it [02:20, 14.00s/it]"
     ]
    },
    {
     "name": "stdout",
     "output_type": "stream",
     "text": [
      "\u001b[1mdecile 2 (shape=(3358, 51177)): \u001b[0m\n"
     ]
    },
    {
     "name": "stderr",
     "output_type": "stream",
     "text": [
      "\n"
     ]
    },
    {
     "data": {
      "text/html": [
       "<div>\n",
       "<style scoped>\n",
       "    .dataframe tbody tr th:only-of-type {\n",
       "        vertical-align: middle;\n",
       "    }\n",
       "\n",
       "    .dataframe tbody tr th {\n",
       "        vertical-align: top;\n",
       "    }\n",
       "\n",
       "    .dataframe thead th {\n",
       "        text-align: right;\n",
       "    }\n",
       "</style>\n",
       "<table border=\"1\" class=\"dataframe\">\n",
       "  <thead>\n",
       "    <tr style=\"text-align: right;\">\n",
       "      <th></th>\n",
       "      <th>1</th>\n",
       "      <th>2</th>\n",
       "      <th>3</th>\n",
       "      <th>4</th>\n",
       "      <th>5</th>\n",
       "    </tr>\n",
       "  </thead>\n",
       "  <tbody>\n",
       "    <tr>\n",
       "      <th>P</th>\n",
       "      <td>30.52</td>\n",
       "      <td>19.40</td>\n",
       "      <td>14.49</td>\n",
       "      <td>11.52</td>\n",
       "      <td>9.57</td>\n",
       "    </tr>\n",
       "    <tr>\n",
       "      <th>nDCG</th>\n",
       "      <td>30.52</td>\n",
       "      <td>34.79</td>\n",
       "      <td>36.98</td>\n",
       "      <td>38.05</td>\n",
       "      <td>38.71</td>\n",
       "    </tr>\n",
       "  </tbody>\n",
       "</table>\n",
       "</div>"
      ],
      "text/plain": [
       "          1      2      3      4      5\n",
       "P     30.52  19.40  14.49  11.52   9.57\n",
       "nDCG  30.52  34.79  36.98  38.05  38.71"
      ]
     },
     "metadata": {},
     "output_type": "display_data"
    },
    {
     "name": "stderr",
     "output_type": "stream",
     "text": [
      "10it [02:25, 14.56s/it]"
     ]
    },
    {
     "name": "stdout",
     "output_type": "stream",
     "text": [
      "\u001b[1mdecile 3 (shape=(3931, 50942)): \u001b[0m\n"
     ]
    },
    {
     "name": "stderr",
     "output_type": "stream",
     "text": [
      "\n"
     ]
    },
    {
     "data": {
      "text/html": [
       "<div>\n",
       "<style scoped>\n",
       "    .dataframe tbody tr th:only-of-type {\n",
       "        vertical-align: middle;\n",
       "    }\n",
       "\n",
       "    .dataframe tbody tr th {\n",
       "        vertical-align: top;\n",
       "    }\n",
       "\n",
       "    .dataframe thead th {\n",
       "        text-align: right;\n",
       "    }\n",
       "</style>\n",
       "<table border=\"1\" class=\"dataframe\">\n",
       "  <thead>\n",
       "    <tr style=\"text-align: right;\">\n",
       "      <th></th>\n",
       "      <th>1</th>\n",
       "      <th>2</th>\n",
       "      <th>3</th>\n",
       "      <th>4</th>\n",
       "      <th>5</th>\n",
       "    </tr>\n",
       "  </thead>\n",
       "  <tbody>\n",
       "    <tr>\n",
       "      <th>P</th>\n",
       "      <td>33.73</td>\n",
       "      <td>21.44</td>\n",
       "      <td>15.76</td>\n",
       "      <td>12.64</td>\n",
       "      <td>10.54</td>\n",
       "    </tr>\n",
       "    <tr>\n",
       "      <th>nDCG</th>\n",
       "      <td>33.73</td>\n",
       "      <td>38.40</td>\n",
       "      <td>40.45</td>\n",
       "      <td>41.76</td>\n",
       "      <td>42.57</td>\n",
       "    </tr>\n",
       "  </tbody>\n",
       "</table>\n",
       "</div>"
      ],
      "text/plain": [
       "          1      2      3      4      5\n",
       "P     33.73  21.44  15.76  12.64  10.54\n",
       "nDCG  33.73  38.40  40.45  41.76  42.57"
      ]
     },
     "metadata": {},
     "output_type": "display_data"
    },
    {
     "name": "stderr",
     "output_type": "stream",
     "text": [
      "10it [02:25, 14.57s/it]"
     ]
    },
    {
     "name": "stdout",
     "output_type": "stream",
     "text": [
      "\u001b[1mdecile 4 (shape=(4122, 44045)): \u001b[0m\n"
     ]
    },
    {
     "name": "stderr",
     "output_type": "stream",
     "text": [
      "\n"
     ]
    },
    {
     "data": {
      "text/html": [
       "<div>\n",
       "<style scoped>\n",
       "    .dataframe tbody tr th:only-of-type {\n",
       "        vertical-align: middle;\n",
       "    }\n",
       "\n",
       "    .dataframe tbody tr th {\n",
       "        vertical-align: top;\n",
       "    }\n",
       "\n",
       "    .dataframe thead th {\n",
       "        text-align: right;\n",
       "    }\n",
       "</style>\n",
       "<table border=\"1\" class=\"dataframe\">\n",
       "  <thead>\n",
       "    <tr style=\"text-align: right;\">\n",
       "      <th></th>\n",
       "      <th>1</th>\n",
       "      <th>2</th>\n",
       "      <th>3</th>\n",
       "      <th>4</th>\n",
       "      <th>5</th>\n",
       "    </tr>\n",
       "  </thead>\n",
       "  <tbody>\n",
       "    <tr>\n",
       "      <th>P</th>\n",
       "      <td>37.48</td>\n",
       "      <td>23.16</td>\n",
       "      <td>16.98</td>\n",
       "      <td>13.40</td>\n",
       "      <td>11.11</td>\n",
       "    </tr>\n",
       "    <tr>\n",
       "      <th>nDCG</th>\n",
       "      <td>37.48</td>\n",
       "      <td>41.87</td>\n",
       "      <td>44.05</td>\n",
       "      <td>45.13</td>\n",
       "      <td>45.85</td>\n",
       "    </tr>\n",
       "  </tbody>\n",
       "</table>\n",
       "</div>"
      ],
      "text/plain": [
       "          1      2      3      4      5\n",
       "P     37.48  23.16  16.98  13.40  11.11\n",
       "nDCG  37.48  41.87  44.05  45.13  45.85"
      ]
     },
     "metadata": {},
     "output_type": "display_data"
    },
    {
     "name": "stderr",
     "output_type": "stream",
     "text": [
      "10it [02:25, 14.59s/it]"
     ]
    },
    {
     "name": "stdout",
     "output_type": "stream",
     "text": [
      "\u001b[1mdecile 5 (shape=(4211, 36912)): \u001b[0m\n"
     ]
    },
    {
     "name": "stderr",
     "output_type": "stream",
     "text": [
      "\n"
     ]
    },
    {
     "data": {
      "text/html": [
       "<div>\n",
       "<style scoped>\n",
       "    .dataframe tbody tr th:only-of-type {\n",
       "        vertical-align: middle;\n",
       "    }\n",
       "\n",
       "    .dataframe tbody tr th {\n",
       "        vertical-align: top;\n",
       "    }\n",
       "\n",
       "    .dataframe thead th {\n",
       "        text-align: right;\n",
       "    }\n",
       "</style>\n",
       "<table border=\"1\" class=\"dataframe\">\n",
       "  <thead>\n",
       "    <tr style=\"text-align: right;\">\n",
       "      <th></th>\n",
       "      <th>1</th>\n",
       "      <th>2</th>\n",
       "      <th>3</th>\n",
       "      <th>4</th>\n",
       "      <th>5</th>\n",
       "    </tr>\n",
       "  </thead>\n",
       "  <tbody>\n",
       "    <tr>\n",
       "      <th>P</th>\n",
       "      <td>38.16</td>\n",
       "      <td>24.20</td>\n",
       "      <td>17.76</td>\n",
       "      <td>13.97</td>\n",
       "      <td>11.49</td>\n",
       "    </tr>\n",
       "    <tr>\n",
       "      <th>nDCG</th>\n",
       "      <td>38.16</td>\n",
       "      <td>43.25</td>\n",
       "      <td>45.49</td>\n",
       "      <td>46.56</td>\n",
       "      <td>47.15</td>\n",
       "    </tr>\n",
       "  </tbody>\n",
       "</table>\n",
       "</div>"
      ],
      "text/plain": [
       "          1      2      3      4      5\n",
       "P     38.16  24.20  17.76  13.97  11.49\n",
       "nDCG  38.16  43.25  45.49  46.56  47.15"
      ]
     },
     "metadata": {},
     "output_type": "display_data"
    },
    {
     "name": "stdout",
     "output_type": "stream",
     "text": [
      "Method : Tf-Idf\n",
      "\u001b[1mdecile 0 (shape=(81546, 790214)): \u001b[0m\n"
     ]
    },
    {
     "data": {
      "text/html": [
       "<div>\n",
       "<style scoped>\n",
       "    .dataframe tbody tr th:only-of-type {\n",
       "        vertical-align: middle;\n",
       "    }\n",
       "\n",
       "    .dataframe tbody tr th {\n",
       "        vertical-align: top;\n",
       "    }\n",
       "\n",
       "    .dataframe thead th {\n",
       "        text-align: right;\n",
       "    }\n",
       "</style>\n",
       "<table border=\"1\" class=\"dataframe\">\n",
       "  <thead>\n",
       "    <tr style=\"text-align: right;\">\n",
       "      <th></th>\n",
       "      <th>1</th>\n",
       "      <th>2</th>\n",
       "      <th>3</th>\n",
       "      <th>4</th>\n",
       "      <th>5</th>\n",
       "    </tr>\n",
       "  </thead>\n",
       "  <tbody>\n",
       "    <tr>\n",
       "      <th>P</th>\n",
       "      <td>19.03</td>\n",
       "      <td>14.02</td>\n",
       "      <td>11.14</td>\n",
       "      <td>9.31</td>\n",
       "      <td>8.04</td>\n",
       "    </tr>\n",
       "    <tr>\n",
       "      <th>nDCG</th>\n",
       "      <td>19.03</td>\n",
       "      <td>18.29</td>\n",
       "      <td>18.61</td>\n",
       "      <td>19.09</td>\n",
       "      <td>19.55</td>\n",
       "    </tr>\n",
       "  </tbody>\n",
       "</table>\n",
       "</div>"
      ],
      "text/plain": [
       "          1      2      3      4      5\n",
       "P     19.03  14.02  11.14   9.31   8.04\n",
       "nDCG  19.03  18.29  18.61  19.09  19.55"
      ]
     },
     "metadata": {},
     "output_type": "display_data"
    },
    {
     "name": "stdout",
     "output_type": "stream",
     "text": [
      "\u001b[1mdecile 1 (shape=(1361, 13536)): \u001b[0m\n"
     ]
    },
    {
     "data": {
      "text/html": [
       "<div>\n",
       "<style scoped>\n",
       "    .dataframe tbody tr th:only-of-type {\n",
       "        vertical-align: middle;\n",
       "    }\n",
       "\n",
       "    .dataframe tbody tr th {\n",
       "        vertical-align: top;\n",
       "    }\n",
       "\n",
       "    .dataframe thead th {\n",
       "        text-align: right;\n",
       "    }\n",
       "</style>\n",
       "<table border=\"1\" class=\"dataframe\">\n",
       "  <thead>\n",
       "    <tr style=\"text-align: right;\">\n",
       "      <th></th>\n",
       "      <th>1</th>\n",
       "      <th>2</th>\n",
       "      <th>3</th>\n",
       "      <th>4</th>\n",
       "      <th>5</th>\n",
       "    </tr>\n",
       "  </thead>\n",
       "  <tbody>\n",
       "    <tr>\n",
       "      <th>P</th>\n",
       "      <td>37.91</td>\n",
       "      <td>21.68</td>\n",
       "      <td>14.89</td>\n",
       "      <td>11.26</td>\n",
       "      <td>9.05</td>\n",
       "    </tr>\n",
       "    <tr>\n",
       "      <th>nDCG</th>\n",
       "      <td>37.91</td>\n",
       "      <td>39.65</td>\n",
       "      <td>40.12</td>\n",
       "      <td>40.21</td>\n",
       "      <td>40.26</td>\n",
       "    </tr>\n",
       "  </tbody>\n",
       "</table>\n",
       "</div>"
      ],
      "text/plain": [
       "          1      2      3      4      5\n",
       "P     37.91  21.68  14.89  11.26   9.05\n",
       "nDCG  37.91  39.65  40.12  40.21  40.26"
      ]
     },
     "metadata": {},
     "output_type": "display_data"
    },
    {
     "name": "stdout",
     "output_type": "stream",
     "text": [
      "\u001b[1mdecile 2 (shape=(3358, 51177)): \u001b[0m\n"
     ]
    },
    {
     "data": {
      "text/html": [
       "<div>\n",
       "<style scoped>\n",
       "    .dataframe tbody tr th:only-of-type {\n",
       "        vertical-align: middle;\n",
       "    }\n",
       "\n",
       "    .dataframe tbody tr th {\n",
       "        vertical-align: top;\n",
       "    }\n",
       "\n",
       "    .dataframe thead th {\n",
       "        text-align: right;\n",
       "    }\n",
       "</style>\n",
       "<table border=\"1\" class=\"dataframe\">\n",
       "  <thead>\n",
       "    <tr style=\"text-align: right;\">\n",
       "      <th></th>\n",
       "      <th>1</th>\n",
       "      <th>2</th>\n",
       "      <th>3</th>\n",
       "      <th>4</th>\n",
       "      <th>5</th>\n",
       "    </tr>\n",
       "  </thead>\n",
       "  <tbody>\n",
       "    <tr>\n",
       "      <th>P</th>\n",
       "      <td>24.99</td>\n",
       "      <td>15.02</td>\n",
       "      <td>10.59</td>\n",
       "      <td>8.11</td>\n",
       "      <td>6.56</td>\n",
       "    </tr>\n",
       "    <tr>\n",
       "      <th>nDCG</th>\n",
       "      <td>24.99</td>\n",
       "      <td>27.52</td>\n",
       "      <td>28.32</td>\n",
       "      <td>28.58</td>\n",
       "      <td>28.70</td>\n",
       "    </tr>\n",
       "  </tbody>\n",
       "</table>\n",
       "</div>"
      ],
      "text/plain": [
       "          1      2      3      4      5\n",
       "P     24.99  15.02  10.59   8.11   6.56\n",
       "nDCG  24.99  27.52  28.32  28.58  28.70"
      ]
     },
     "metadata": {},
     "output_type": "display_data"
    },
    {
     "name": "stdout",
     "output_type": "stream",
     "text": [
      "\u001b[1mdecile 3 (shape=(3931, 50942)): \u001b[0m\n"
     ]
    },
    {
     "data": {
      "text/html": [
       "<div>\n",
       "<style scoped>\n",
       "    .dataframe tbody tr th:only-of-type {\n",
       "        vertical-align: middle;\n",
       "    }\n",
       "\n",
       "    .dataframe tbody tr th {\n",
       "        vertical-align: top;\n",
       "    }\n",
       "\n",
       "    .dataframe thead th {\n",
       "        text-align: right;\n",
       "    }\n",
       "</style>\n",
       "<table border=\"1\" class=\"dataframe\">\n",
       "  <thead>\n",
       "    <tr style=\"text-align: right;\">\n",
       "      <th></th>\n",
       "      <th>1</th>\n",
       "      <th>2</th>\n",
       "      <th>3</th>\n",
       "      <th>4</th>\n",
       "      <th>5</th>\n",
       "    </tr>\n",
       "  </thead>\n",
       "  <tbody>\n",
       "    <tr>\n",
       "      <th>P</th>\n",
       "      <td>26.0</td>\n",
       "      <td>15.45</td>\n",
       "      <td>10.96</td>\n",
       "      <td>8.41</td>\n",
       "      <td>6.83</td>\n",
       "    </tr>\n",
       "    <tr>\n",
       "      <th>nDCG</th>\n",
       "      <td>26.0</td>\n",
       "      <td>28.24</td>\n",
       "      <td>29.17</td>\n",
       "      <td>29.47</td>\n",
       "      <td>29.67</td>\n",
       "    </tr>\n",
       "  </tbody>\n",
       "</table>\n",
       "</div>"
      ],
      "text/plain": [
       "         1      2      3      4      5\n",
       "P     26.0  15.45  10.96   8.41   6.83\n",
       "nDCG  26.0  28.24  29.17  29.47  29.67"
      ]
     },
     "metadata": {},
     "output_type": "display_data"
    },
    {
     "name": "stdout",
     "output_type": "stream",
     "text": [
      "\u001b[1mdecile 4 (shape=(4122, 44045)): \u001b[0m\n"
     ]
    },
    {
     "data": {
      "text/html": [
       "<div>\n",
       "<style scoped>\n",
       "    .dataframe tbody tr th:only-of-type {\n",
       "        vertical-align: middle;\n",
       "    }\n",
       "\n",
       "    .dataframe tbody tr th {\n",
       "        vertical-align: top;\n",
       "    }\n",
       "\n",
       "    .dataframe thead th {\n",
       "        text-align: right;\n",
       "    }\n",
       "</style>\n",
       "<table border=\"1\" class=\"dataframe\">\n",
       "  <thead>\n",
       "    <tr style=\"text-align: right;\">\n",
       "      <th></th>\n",
       "      <th>1</th>\n",
       "      <th>2</th>\n",
       "      <th>3</th>\n",
       "      <th>4</th>\n",
       "      <th>5</th>\n",
       "    </tr>\n",
       "  </thead>\n",
       "  <tbody>\n",
       "    <tr>\n",
       "      <th>P</th>\n",
       "      <td>24.84</td>\n",
       "      <td>14.77</td>\n",
       "      <td>10.45</td>\n",
       "      <td>8.03</td>\n",
       "      <td>6.49</td>\n",
       "    </tr>\n",
       "    <tr>\n",
       "      <th>nDCG</th>\n",
       "      <td>24.84</td>\n",
       "      <td>27.10</td>\n",
       "      <td>27.94</td>\n",
       "      <td>28.26</td>\n",
       "      <td>28.37</td>\n",
       "    </tr>\n",
       "  </tbody>\n",
       "</table>\n",
       "</div>"
      ],
      "text/plain": [
       "          1      2      3      4      5\n",
       "P     24.84  14.77  10.45   8.03   6.49\n",
       "nDCG  24.84  27.10  27.94  28.26  28.37"
      ]
     },
     "metadata": {},
     "output_type": "display_data"
    },
    {
     "name": "stdout",
     "output_type": "stream",
     "text": [
      "\u001b[1mdecile 5 (shape=(4211, 36912)): \u001b[0m\n"
     ]
    },
    {
     "data": {
      "text/html": [
       "<div>\n",
       "<style scoped>\n",
       "    .dataframe tbody tr th:only-of-type {\n",
       "        vertical-align: middle;\n",
       "    }\n",
       "\n",
       "    .dataframe tbody tr th {\n",
       "        vertical-align: top;\n",
       "    }\n",
       "\n",
       "    .dataframe thead th {\n",
       "        text-align: right;\n",
       "    }\n",
       "</style>\n",
       "<table border=\"1\" class=\"dataframe\">\n",
       "  <thead>\n",
       "    <tr style=\"text-align: right;\">\n",
       "      <th></th>\n",
       "      <th>1</th>\n",
       "      <th>2</th>\n",
       "      <th>3</th>\n",
       "      <th>4</th>\n",
       "      <th>5</th>\n",
       "    </tr>\n",
       "  </thead>\n",
       "  <tbody>\n",
       "    <tr>\n",
       "      <th>P</th>\n",
       "      <td>24.91</td>\n",
       "      <td>15.12</td>\n",
       "      <td>10.70</td>\n",
       "      <td>8.20</td>\n",
       "      <td>6.64</td>\n",
       "    </tr>\n",
       "    <tr>\n",
       "      <th>nDCG</th>\n",
       "      <td>24.91</td>\n",
       "      <td>27.40</td>\n",
       "      <td>28.28</td>\n",
       "      <td>28.55</td>\n",
       "      <td>28.69</td>\n",
       "    </tr>\n",
       "  </tbody>\n",
       "</table>\n",
       "</div>"
      ],
      "text/plain": [
       "          1      2      3      4      5\n",
       "P     24.91  15.12  10.70   8.20   6.64\n",
       "nDCG  24.91  27.40  28.28  28.55  28.69"
      ]
     },
     "metadata": {},
     "output_type": "display_data"
    },
    {
     "name": "stdout",
     "output_type": "stream",
     "text": [
      "Method : AttentionXML\n",
      "\u001b[1mdecile 0 (shape=(81546, 790214)): \u001b[0m\n"
     ]
    },
    {
     "data": {
      "text/html": [
       "<div>\n",
       "<style scoped>\n",
       "    .dataframe tbody tr th:only-of-type {\n",
       "        vertical-align: middle;\n",
       "    }\n",
       "\n",
       "    .dataframe tbody tr th {\n",
       "        vertical-align: top;\n",
       "    }\n",
       "\n",
       "    .dataframe thead th {\n",
       "        text-align: right;\n",
       "    }\n",
       "</style>\n",
       "<table border=\"1\" class=\"dataframe\">\n",
       "  <thead>\n",
       "    <tr style=\"text-align: right;\">\n",
       "      <th></th>\n",
       "      <th>1</th>\n",
       "      <th>2</th>\n",
       "      <th>3</th>\n",
       "      <th>4</th>\n",
       "      <th>5</th>\n",
       "    </tr>\n",
       "  </thead>\n",
       "  <tbody>\n",
       "    <tr>\n",
       "      <th>P</th>\n",
       "      <td>0.0</td>\n",
       "      <td>0.0</td>\n",
       "      <td>0.0</td>\n",
       "      <td>0.0</td>\n",
       "      <td>0.0</td>\n",
       "    </tr>\n",
       "    <tr>\n",
       "      <th>nDCG</th>\n",
       "      <td>0.0</td>\n",
       "      <td>0.0</td>\n",
       "      <td>0.0</td>\n",
       "      <td>0.0</td>\n",
       "      <td>0.0</td>\n",
       "    </tr>\n",
       "  </tbody>\n",
       "</table>\n",
       "</div>"
      ],
      "text/plain": [
       "        1    2    3    4    5\n",
       "P     0.0  0.0  0.0  0.0  0.0\n",
       "nDCG  0.0  0.0  0.0  0.0  0.0"
      ]
     },
     "metadata": {},
     "output_type": "display_data"
    },
    {
     "name": "stdout",
     "output_type": "stream",
     "text": [
      "\u001b[1mdecile 1 (shape=(1361, 13536)): \u001b[0m\n"
     ]
    },
    {
     "data": {
      "text/html": [
       "<div>\n",
       "<style scoped>\n",
       "    .dataframe tbody tr th:only-of-type {\n",
       "        vertical-align: middle;\n",
       "    }\n",
       "\n",
       "    .dataframe tbody tr th {\n",
       "        vertical-align: top;\n",
       "    }\n",
       "\n",
       "    .dataframe thead th {\n",
       "        text-align: right;\n",
       "    }\n",
       "</style>\n",
       "<table border=\"1\" class=\"dataframe\">\n",
       "  <thead>\n",
       "    <tr style=\"text-align: right;\">\n",
       "      <th></th>\n",
       "      <th>1</th>\n",
       "      <th>2</th>\n",
       "      <th>3</th>\n",
       "      <th>4</th>\n",
       "      <th>5</th>\n",
       "    </tr>\n",
       "  </thead>\n",
       "  <tbody>\n",
       "    <tr>\n",
       "      <th>P</th>\n",
       "      <td>25.13</td>\n",
       "      <td>15.03</td>\n",
       "      <td>10.63</td>\n",
       "      <td>8.10</td>\n",
       "      <td>6.54</td>\n",
       "    </tr>\n",
       "    <tr>\n",
       "      <th>nDCG</th>\n",
       "      <td>25.13</td>\n",
       "      <td>27.11</td>\n",
       "      <td>27.87</td>\n",
       "      <td>28.03</td>\n",
       "      <td>28.11</td>\n",
       "    </tr>\n",
       "  </tbody>\n",
       "</table>\n",
       "</div>"
      ],
      "text/plain": [
       "          1      2      3      4      5\n",
       "P     25.13  15.03  10.63   8.10   6.54\n",
       "nDCG  25.13  27.11  27.87  28.03  28.11"
      ]
     },
     "metadata": {},
     "output_type": "display_data"
    },
    {
     "name": "stdout",
     "output_type": "stream",
     "text": [
      "\u001b[1mdecile 2 (shape=(3358, 51177)): \u001b[0m\n"
     ]
    },
    {
     "data": {
      "text/html": [
       "<div>\n",
       "<style scoped>\n",
       "    .dataframe tbody tr th:only-of-type {\n",
       "        vertical-align: middle;\n",
       "    }\n",
       "\n",
       "    .dataframe tbody tr th {\n",
       "        vertical-align: top;\n",
       "    }\n",
       "\n",
       "    .dataframe thead th {\n",
       "        text-align: right;\n",
       "    }\n",
       "</style>\n",
       "<table border=\"1\" class=\"dataframe\">\n",
       "  <thead>\n",
       "    <tr style=\"text-align: right;\">\n",
       "      <th></th>\n",
       "      <th>1</th>\n",
       "      <th>2</th>\n",
       "      <th>3</th>\n",
       "      <th>4</th>\n",
       "      <th>5</th>\n",
       "    </tr>\n",
       "  </thead>\n",
       "  <tbody>\n",
       "    <tr>\n",
       "      <th>P</th>\n",
       "      <td>27.7</td>\n",
       "      <td>16.71</td>\n",
       "      <td>11.85</td>\n",
       "      <td>9.17</td>\n",
       "      <td>7.44</td>\n",
       "    </tr>\n",
       "    <tr>\n",
       "      <th>nDCG</th>\n",
       "      <td>27.7</td>\n",
       "      <td>30.28</td>\n",
       "      <td>31.27</td>\n",
       "      <td>31.71</td>\n",
       "      <td>31.89</td>\n",
       "    </tr>\n",
       "  </tbody>\n",
       "</table>\n",
       "</div>"
      ],
      "text/plain": [
       "         1      2      3      4      5\n",
       "P     27.7  16.71  11.85   9.17   7.44\n",
       "nDCG  27.7  30.28  31.27  31.71  31.89"
      ]
     },
     "metadata": {},
     "output_type": "display_data"
    },
    {
     "name": "stdout",
     "output_type": "stream",
     "text": [
      "\u001b[1mdecile 3 (shape=(3931, 50942)): \u001b[0m\n"
     ]
    },
    {
     "data": {
      "text/html": [
       "<div>\n",
       "<style scoped>\n",
       "    .dataframe tbody tr th:only-of-type {\n",
       "        vertical-align: middle;\n",
       "    }\n",
       "\n",
       "    .dataframe tbody tr th {\n",
       "        vertical-align: top;\n",
       "    }\n",
       "\n",
       "    .dataframe thead th {\n",
       "        text-align: right;\n",
       "    }\n",
       "</style>\n",
       "<table border=\"1\" class=\"dataframe\">\n",
       "  <thead>\n",
       "    <tr style=\"text-align: right;\">\n",
       "      <th></th>\n",
       "      <th>1</th>\n",
       "      <th>2</th>\n",
       "      <th>3</th>\n",
       "      <th>4</th>\n",
       "      <th>5</th>\n",
       "    </tr>\n",
       "  </thead>\n",
       "  <tbody>\n",
       "    <tr>\n",
       "      <th>P</th>\n",
       "      <td>36.48</td>\n",
       "      <td>21.69</td>\n",
       "      <td>15.39</td>\n",
       "      <td>11.83</td>\n",
       "      <td>9.6</td>\n",
       "    </tr>\n",
       "    <tr>\n",
       "      <th>nDCG</th>\n",
       "      <td>36.48</td>\n",
       "      <td>39.70</td>\n",
       "      <td>40.91</td>\n",
       "      <td>41.35</td>\n",
       "      <td>41.6</td>\n",
       "    </tr>\n",
       "  </tbody>\n",
       "</table>\n",
       "</div>"
      ],
      "text/plain": [
       "          1      2      3      4     5\n",
       "P     36.48  21.69  15.39  11.83   9.6\n",
       "nDCG  36.48  39.70  40.91  41.35  41.6"
      ]
     },
     "metadata": {},
     "output_type": "display_data"
    },
    {
     "name": "stdout",
     "output_type": "stream",
     "text": [
      "\u001b[1mdecile 4 (shape=(4122, 44045)): \u001b[0m\n"
     ]
    },
    {
     "data": {
      "text/html": [
       "<div>\n",
       "<style scoped>\n",
       "    .dataframe tbody tr th:only-of-type {\n",
       "        vertical-align: middle;\n",
       "    }\n",
       "\n",
       "    .dataframe tbody tr th {\n",
       "        vertical-align: top;\n",
       "    }\n",
       "\n",
       "    .dataframe thead th {\n",
       "        text-align: right;\n",
       "    }\n",
       "</style>\n",
       "<table border=\"1\" class=\"dataframe\">\n",
       "  <thead>\n",
       "    <tr style=\"text-align: right;\">\n",
       "      <th></th>\n",
       "      <th>1</th>\n",
       "      <th>2</th>\n",
       "      <th>3</th>\n",
       "      <th>4</th>\n",
       "      <th>5</th>\n",
       "    </tr>\n",
       "  </thead>\n",
       "  <tbody>\n",
       "    <tr>\n",
       "      <th>P</th>\n",
       "      <td>41.56</td>\n",
       "      <td>24.37</td>\n",
       "      <td>17.14</td>\n",
       "      <td>13.21</td>\n",
       "      <td>10.70</td>\n",
       "    </tr>\n",
       "    <tr>\n",
       "      <th>nDCG</th>\n",
       "      <td>41.56</td>\n",
       "      <td>44.69</td>\n",
       "      <td>45.85</td>\n",
       "      <td>46.41</td>\n",
       "      <td>46.65</td>\n",
       "    </tr>\n",
       "  </tbody>\n",
       "</table>\n",
       "</div>"
      ],
      "text/plain": [
       "          1      2      3      4      5\n",
       "P     41.56  24.37  17.14  13.21  10.70\n",
       "nDCG  41.56  44.69  45.85  46.41  46.65"
      ]
     },
     "metadata": {},
     "output_type": "display_data"
    },
    {
     "name": "stdout",
     "output_type": "stream",
     "text": [
      "\u001b[1mdecile 5 (shape=(4211, 36912)): \u001b[0m\n"
     ]
    },
    {
     "data": {
      "text/html": [
       "<div>\n",
       "<style scoped>\n",
       "    .dataframe tbody tr th:only-of-type {\n",
       "        vertical-align: middle;\n",
       "    }\n",
       "\n",
       "    .dataframe tbody tr th {\n",
       "        vertical-align: top;\n",
       "    }\n",
       "\n",
       "    .dataframe thead th {\n",
       "        text-align: right;\n",
       "    }\n",
       "</style>\n",
       "<table border=\"1\" class=\"dataframe\">\n",
       "  <thead>\n",
       "    <tr style=\"text-align: right;\">\n",
       "      <th></th>\n",
       "      <th>1</th>\n",
       "      <th>2</th>\n",
       "      <th>3</th>\n",
       "      <th>4</th>\n",
       "      <th>5</th>\n",
       "    </tr>\n",
       "  </thead>\n",
       "  <tbody>\n",
       "    <tr>\n",
       "      <th>P</th>\n",
       "      <td>44.19</td>\n",
       "      <td>26.06</td>\n",
       "      <td>18.26</td>\n",
       "      <td>14.13</td>\n",
       "      <td>11.42</td>\n",
       "    </tr>\n",
       "    <tr>\n",
       "      <th>nDCG</th>\n",
       "      <td>44.19</td>\n",
       "      <td>47.53</td>\n",
       "      <td>48.71</td>\n",
       "      <td>49.39</td>\n",
       "      <td>49.59</td>\n",
       "    </tr>\n",
       "  </tbody>\n",
       "</table>\n",
       "</div>"
      ],
      "text/plain": [
       "          1      2      3      4      5\n",
       "P     44.19  26.06  18.26  14.13  11.42\n",
       "nDCG  44.19  47.53  48.71  49.39  49.59"
      ]
     },
     "metadata": {},
     "output_type": "display_data"
    },
    {
     "name": "stdout",
     "output_type": "stream",
     "text": [
      "Method : Parabel\n",
      "\u001b[1mdecile 0 (shape=(81546, 790214)): \u001b[0m\n"
     ]
    },
    {
     "data": {
      "text/html": [
       "<div>\n",
       "<style scoped>\n",
       "    .dataframe tbody tr th:only-of-type {\n",
       "        vertical-align: middle;\n",
       "    }\n",
       "\n",
       "    .dataframe tbody tr th {\n",
       "        vertical-align: top;\n",
       "    }\n",
       "\n",
       "    .dataframe thead th {\n",
       "        text-align: right;\n",
       "    }\n",
       "</style>\n",
       "<table border=\"1\" class=\"dataframe\">\n",
       "  <thead>\n",
       "    <tr style=\"text-align: right;\">\n",
       "      <th></th>\n",
       "      <th>1</th>\n",
       "      <th>2</th>\n",
       "      <th>3</th>\n",
       "      <th>4</th>\n",
       "      <th>5</th>\n",
       "    </tr>\n",
       "  </thead>\n",
       "  <tbody>\n",
       "    <tr>\n",
       "      <th>P</th>\n",
       "      <td>0.0</td>\n",
       "      <td>0.0</td>\n",
       "      <td>0.0</td>\n",
       "      <td>0.0</td>\n",
       "      <td>0.0</td>\n",
       "    </tr>\n",
       "    <tr>\n",
       "      <th>nDCG</th>\n",
       "      <td>0.0</td>\n",
       "      <td>0.0</td>\n",
       "      <td>0.0</td>\n",
       "      <td>0.0</td>\n",
       "      <td>0.0</td>\n",
       "    </tr>\n",
       "  </tbody>\n",
       "</table>\n",
       "</div>"
      ],
      "text/plain": [
       "        1    2    3    4    5\n",
       "P     0.0  0.0  0.0  0.0  0.0\n",
       "nDCG  0.0  0.0  0.0  0.0  0.0"
      ]
     },
     "metadata": {},
     "output_type": "display_data"
    },
    {
     "name": "stdout",
     "output_type": "stream",
     "text": [
      "\u001b[1mdecile 1 (shape=(1361, 13536)): \u001b[0m\n"
     ]
    },
    {
     "data": {
      "text/html": [
       "<div>\n",
       "<style scoped>\n",
       "    .dataframe tbody tr th:only-of-type {\n",
       "        vertical-align: middle;\n",
       "    }\n",
       "\n",
       "    .dataframe tbody tr th {\n",
       "        vertical-align: top;\n",
       "    }\n",
       "\n",
       "    .dataframe thead th {\n",
       "        text-align: right;\n",
       "    }\n",
       "</style>\n",
       "<table border=\"1\" class=\"dataframe\">\n",
       "  <thead>\n",
       "    <tr style=\"text-align: right;\">\n",
       "      <th></th>\n",
       "      <th>1</th>\n",
       "      <th>2</th>\n",
       "      <th>3</th>\n",
       "      <th>4</th>\n",
       "      <th>5</th>\n",
       "    </tr>\n",
       "  </thead>\n",
       "  <tbody>\n",
       "    <tr>\n",
       "      <th>P</th>\n",
       "      <td>18.44</td>\n",
       "      <td>11.09</td>\n",
       "      <td>7.76</td>\n",
       "      <td>5.95</td>\n",
       "      <td>4.91</td>\n",
       "    </tr>\n",
       "    <tr>\n",
       "      <th>nDCG</th>\n",
       "      <td>18.44</td>\n",
       "      <td>19.82</td>\n",
       "      <td>20.25</td>\n",
       "      <td>20.45</td>\n",
       "      <td>20.70</td>\n",
       "    </tr>\n",
       "  </tbody>\n",
       "</table>\n",
       "</div>"
      ],
      "text/plain": [
       "          1      2      3      4      5\n",
       "P     18.44  11.09   7.76   5.95   4.91\n",
       "nDCG  18.44  19.82  20.25  20.45  20.70"
      ]
     },
     "metadata": {},
     "output_type": "display_data"
    },
    {
     "name": "stdout",
     "output_type": "stream",
     "text": [
      "\u001b[1mdecile 2 (shape=(3358, 51177)): \u001b[0m\n"
     ]
    },
    {
     "data": {
      "text/html": [
       "<div>\n",
       "<style scoped>\n",
       "    .dataframe tbody tr th:only-of-type {\n",
       "        vertical-align: middle;\n",
       "    }\n",
       "\n",
       "    .dataframe tbody tr th {\n",
       "        vertical-align: top;\n",
       "    }\n",
       "\n",
       "    .dataframe thead th {\n",
       "        text-align: right;\n",
       "    }\n",
       "</style>\n",
       "<table border=\"1\" class=\"dataframe\">\n",
       "  <thead>\n",
       "    <tr style=\"text-align: right;\">\n",
       "      <th></th>\n",
       "      <th>1</th>\n",
       "      <th>2</th>\n",
       "      <th>3</th>\n",
       "      <th>4</th>\n",
       "      <th>5</th>\n",
       "    </tr>\n",
       "  </thead>\n",
       "  <tbody>\n",
       "    <tr>\n",
       "      <th>P</th>\n",
       "      <td>17.99</td>\n",
       "      <td>10.80</td>\n",
       "      <td>7.83</td>\n",
       "      <td>6.25</td>\n",
       "      <td>5.20</td>\n",
       "    </tr>\n",
       "    <tr>\n",
       "      <th>nDCG</th>\n",
       "      <td>17.99</td>\n",
       "      <td>19.57</td>\n",
       "      <td>20.44</td>\n",
       "      <td>21.07</td>\n",
       "      <td>21.43</td>\n",
       "    </tr>\n",
       "  </tbody>\n",
       "</table>\n",
       "</div>"
      ],
      "text/plain": [
       "          1      2      3      4      5\n",
       "P     17.99  10.80   7.83   6.25   5.20\n",
       "nDCG  17.99  19.57  20.44  21.07  21.43"
      ]
     },
     "metadata": {},
     "output_type": "display_data"
    },
    {
     "name": "stdout",
     "output_type": "stream",
     "text": [
      "\u001b[1mdecile 3 (shape=(3931, 50942)): \u001b[0m\n"
     ]
    },
    {
     "data": {
      "text/html": [
       "<div>\n",
       "<style scoped>\n",
       "    .dataframe tbody tr th:only-of-type {\n",
       "        vertical-align: middle;\n",
       "    }\n",
       "\n",
       "    .dataframe tbody tr th {\n",
       "        vertical-align: top;\n",
       "    }\n",
       "\n",
       "    .dataframe thead th {\n",
       "        text-align: right;\n",
       "    }\n",
       "</style>\n",
       "<table border=\"1\" class=\"dataframe\">\n",
       "  <thead>\n",
       "    <tr style=\"text-align: right;\">\n",
       "      <th></th>\n",
       "      <th>1</th>\n",
       "      <th>2</th>\n",
       "      <th>3</th>\n",
       "      <th>4</th>\n",
       "      <th>5</th>\n",
       "    </tr>\n",
       "  </thead>\n",
       "  <tbody>\n",
       "    <tr>\n",
       "      <th>P</th>\n",
       "      <td>23.58</td>\n",
       "      <td>13.93</td>\n",
       "      <td>10.03</td>\n",
       "      <td>7.87</td>\n",
       "      <td>6.51</td>\n",
       "    </tr>\n",
       "    <tr>\n",
       "      <th>nDCG</th>\n",
       "      <td>23.58</td>\n",
       "      <td>25.51</td>\n",
       "      <td>26.53</td>\n",
       "      <td>27.09</td>\n",
       "      <td>27.48</td>\n",
       "    </tr>\n",
       "  </tbody>\n",
       "</table>\n",
       "</div>"
      ],
      "text/plain": [
       "          1      2      3      4      5\n",
       "P     23.58  13.93  10.03   7.87   6.51\n",
       "nDCG  23.58  25.51  26.53  27.09  27.48"
      ]
     },
     "metadata": {},
     "output_type": "display_data"
    },
    {
     "name": "stdout",
     "output_type": "stream",
     "text": [
      "\u001b[1mdecile 4 (shape=(4122, 44045)): \u001b[0m\n"
     ]
    },
    {
     "data": {
      "text/html": [
       "<div>\n",
       "<style scoped>\n",
       "    .dataframe tbody tr th:only-of-type {\n",
       "        vertical-align: middle;\n",
       "    }\n",
       "\n",
       "    .dataframe tbody tr th {\n",
       "        vertical-align: top;\n",
       "    }\n",
       "\n",
       "    .dataframe thead th {\n",
       "        text-align: right;\n",
       "    }\n",
       "</style>\n",
       "<table border=\"1\" class=\"dataframe\">\n",
       "  <thead>\n",
       "    <tr style=\"text-align: right;\">\n",
       "      <th></th>\n",
       "      <th>1</th>\n",
       "      <th>2</th>\n",
       "      <th>3</th>\n",
       "      <th>4</th>\n",
       "      <th>5</th>\n",
       "    </tr>\n",
       "  </thead>\n",
       "  <tbody>\n",
       "    <tr>\n",
       "      <th>P</th>\n",
       "      <td>26.69</td>\n",
       "      <td>15.72</td>\n",
       "      <td>11.26</td>\n",
       "      <td>8.76</td>\n",
       "      <td>7.21</td>\n",
       "    </tr>\n",
       "    <tr>\n",
       "      <th>nDCG</th>\n",
       "      <td>26.69</td>\n",
       "      <td>28.77</td>\n",
       "      <td>29.85</td>\n",
       "      <td>30.36</td>\n",
       "      <td>30.73</td>\n",
       "    </tr>\n",
       "  </tbody>\n",
       "</table>\n",
       "</div>"
      ],
      "text/plain": [
       "          1      2      3      4      5\n",
       "P     26.69  15.72  11.26   8.76   7.21\n",
       "nDCG  26.69  28.77  29.85  30.36  30.73"
      ]
     },
     "metadata": {},
     "output_type": "display_data"
    },
    {
     "name": "stdout",
     "output_type": "stream",
     "text": [
      "\u001b[1mdecile 5 (shape=(4211, 36912)): \u001b[0m\n"
     ]
    },
    {
     "data": {
      "text/html": [
       "<div>\n",
       "<style scoped>\n",
       "    .dataframe tbody tr th:only-of-type {\n",
       "        vertical-align: middle;\n",
       "    }\n",
       "\n",
       "    .dataframe tbody tr th {\n",
       "        vertical-align: top;\n",
       "    }\n",
       "\n",
       "    .dataframe thead th {\n",
       "        text-align: right;\n",
       "    }\n",
       "</style>\n",
       "<table border=\"1\" class=\"dataframe\">\n",
       "  <thead>\n",
       "    <tr style=\"text-align: right;\">\n",
       "      <th></th>\n",
       "      <th>1</th>\n",
       "      <th>2</th>\n",
       "      <th>3</th>\n",
       "      <th>4</th>\n",
       "      <th>5</th>\n",
       "    </tr>\n",
       "  </thead>\n",
       "  <tbody>\n",
       "    <tr>\n",
       "      <th>P</th>\n",
       "      <td>28.33</td>\n",
       "      <td>16.92</td>\n",
       "      <td>12.13</td>\n",
       "      <td>9.43</td>\n",
       "      <td>7.71</td>\n",
       "    </tr>\n",
       "    <tr>\n",
       "      <th>nDCG</th>\n",
       "      <td>28.33</td>\n",
       "      <td>30.66</td>\n",
       "      <td>31.84</td>\n",
       "      <td>32.38</td>\n",
       "      <td>32.67</td>\n",
       "    </tr>\n",
       "  </tbody>\n",
       "</table>\n",
       "</div>"
      ],
      "text/plain": [
       "          1      2      3      4      5\n",
       "P     28.33  16.92  12.13   9.43   7.71\n",
       "nDCG  28.33  30.66  31.84  32.38  32.67"
      ]
     },
     "metadata": {},
     "output_type": "display_data"
    },
    {
     "name": "stdout",
     "output_type": "stream",
     "text": [
      "Method : DiSMEC\n",
      "\u001b[1mdecile 0 (shape=(81546, 790214)): \u001b[0m\n"
     ]
    },
    {
     "data": {
      "text/html": [
       "<div>\n",
       "<style scoped>\n",
       "    .dataframe tbody tr th:only-of-type {\n",
       "        vertical-align: middle;\n",
       "    }\n",
       "\n",
       "    .dataframe tbody tr th {\n",
       "        vertical-align: top;\n",
       "    }\n",
       "\n",
       "    .dataframe thead th {\n",
       "        text-align: right;\n",
       "    }\n",
       "</style>\n",
       "<table border=\"1\" class=\"dataframe\">\n",
       "  <thead>\n",
       "    <tr style=\"text-align: right;\">\n",
       "      <th></th>\n",
       "      <th>1</th>\n",
       "      <th>2</th>\n",
       "      <th>3</th>\n",
       "      <th>4</th>\n",
       "      <th>5</th>\n",
       "    </tr>\n",
       "  </thead>\n",
       "  <tbody>\n",
       "    <tr>\n",
       "      <th>P</th>\n",
       "      <td>0.0</td>\n",
       "      <td>0.0</td>\n",
       "      <td>0.0</td>\n",
       "      <td>0.0</td>\n",
       "      <td>0.0</td>\n",
       "    </tr>\n",
       "    <tr>\n",
       "      <th>nDCG</th>\n",
       "      <td>0.0</td>\n",
       "      <td>0.0</td>\n",
       "      <td>0.0</td>\n",
       "      <td>0.0</td>\n",
       "      <td>0.0</td>\n",
       "    </tr>\n",
       "  </tbody>\n",
       "</table>\n",
       "</div>"
      ],
      "text/plain": [
       "        1    2    3    4    5\n",
       "P     0.0  0.0  0.0  0.0  0.0\n",
       "nDCG  0.0  0.0  0.0  0.0  0.0"
      ]
     },
     "metadata": {},
     "output_type": "display_data"
    },
    {
     "name": "stdout",
     "output_type": "stream",
     "text": [
      "\u001b[1mdecile 1 (shape=(1361, 13536)): \u001b[0m\n"
     ]
    },
    {
     "data": {
      "text/html": [
       "<div>\n",
       "<style scoped>\n",
       "    .dataframe tbody tr th:only-of-type {\n",
       "        vertical-align: middle;\n",
       "    }\n",
       "\n",
       "    .dataframe tbody tr th {\n",
       "        vertical-align: top;\n",
       "    }\n",
       "\n",
       "    .dataframe thead th {\n",
       "        text-align: right;\n",
       "    }\n",
       "</style>\n",
       "<table border=\"1\" class=\"dataframe\">\n",
       "  <thead>\n",
       "    <tr style=\"text-align: right;\">\n",
       "      <th></th>\n",
       "      <th>1</th>\n",
       "      <th>2</th>\n",
       "      <th>3</th>\n",
       "      <th>4</th>\n",
       "      <th>5</th>\n",
       "    </tr>\n",
       "  </thead>\n",
       "  <tbody>\n",
       "    <tr>\n",
       "      <th>P</th>\n",
       "      <td>28.51</td>\n",
       "      <td>17.45</td>\n",
       "      <td>12.71</td>\n",
       "      <td>9.94</td>\n",
       "      <td>8.11</td>\n",
       "    </tr>\n",
       "    <tr>\n",
       "      <th>nDCG</th>\n",
       "      <td>28.51</td>\n",
       "      <td>31.21</td>\n",
       "      <td>32.59</td>\n",
       "      <td>33.21</td>\n",
       "      <td>33.48</td>\n",
       "    </tr>\n",
       "  </tbody>\n",
       "</table>\n",
       "</div>"
      ],
      "text/plain": [
       "          1      2      3      4      5\n",
       "P     28.51  17.45  12.71   9.94   8.11\n",
       "nDCG  28.51  31.21  32.59  33.21  33.48"
      ]
     },
     "metadata": {},
     "output_type": "display_data"
    },
    {
     "name": "stdout",
     "output_type": "stream",
     "text": [
      "\u001b[1mdecile 2 (shape=(3358, 51177)): \u001b[0m\n"
     ]
    },
    {
     "data": {
      "text/html": [
       "<div>\n",
       "<style scoped>\n",
       "    .dataframe tbody tr th:only-of-type {\n",
       "        vertical-align: middle;\n",
       "    }\n",
       "\n",
       "    .dataframe tbody tr th {\n",
       "        vertical-align: top;\n",
       "    }\n",
       "\n",
       "    .dataframe thead th {\n",
       "        text-align: right;\n",
       "    }\n",
       "</style>\n",
       "<table border=\"1\" class=\"dataframe\">\n",
       "  <thead>\n",
       "    <tr style=\"text-align: right;\">\n",
       "      <th></th>\n",
       "      <th>1</th>\n",
       "      <th>2</th>\n",
       "      <th>3</th>\n",
       "      <th>4</th>\n",
       "      <th>5</th>\n",
       "    </tr>\n",
       "  </thead>\n",
       "  <tbody>\n",
       "    <tr>\n",
       "      <th>P</th>\n",
       "      <td>24.48</td>\n",
       "      <td>15.16</td>\n",
       "      <td>10.79</td>\n",
       "      <td>8.52</td>\n",
       "      <td>7.00</td>\n",
       "    </tr>\n",
       "    <tr>\n",
       "      <th>nDCG</th>\n",
       "      <td>24.48</td>\n",
       "      <td>27.33</td>\n",
       "      <td>28.28</td>\n",
       "      <td>28.95</td>\n",
       "      <td>29.28</td>\n",
       "    </tr>\n",
       "  </tbody>\n",
       "</table>\n",
       "</div>"
      ],
      "text/plain": [
       "          1      2      3      4      5\n",
       "P     24.48  15.16  10.79   8.52   7.00\n",
       "nDCG  24.48  27.33  28.28  28.95  29.28"
      ]
     },
     "metadata": {},
     "output_type": "display_data"
    },
    {
     "name": "stdout",
     "output_type": "stream",
     "text": [
      "\u001b[1mdecile 3 (shape=(3931, 50942)): \u001b[0m\n"
     ]
    },
    {
     "data": {
      "text/html": [
       "<div>\n",
       "<style scoped>\n",
       "    .dataframe tbody tr th:only-of-type {\n",
       "        vertical-align: middle;\n",
       "    }\n",
       "\n",
       "    .dataframe tbody tr th {\n",
       "        vertical-align: top;\n",
       "    }\n",
       "\n",
       "    .dataframe thead th {\n",
       "        text-align: right;\n",
       "    }\n",
       "</style>\n",
       "<table border=\"1\" class=\"dataframe\">\n",
       "  <thead>\n",
       "    <tr style=\"text-align: right;\">\n",
       "      <th></th>\n",
       "      <th>1</th>\n",
       "      <th>2</th>\n",
       "      <th>3</th>\n",
       "      <th>4</th>\n",
       "      <th>5</th>\n",
       "    </tr>\n",
       "  </thead>\n",
       "  <tbody>\n",
       "    <tr>\n",
       "      <th>P</th>\n",
       "      <td>28.75</td>\n",
       "      <td>17.79</td>\n",
       "      <td>12.96</td>\n",
       "      <td>10.19</td>\n",
       "      <td>8.37</td>\n",
       "    </tr>\n",
       "    <tr>\n",
       "      <th>nDCG</th>\n",
       "      <td>28.75</td>\n",
       "      <td>32.04</td>\n",
       "      <td>33.56</td>\n",
       "      <td>34.32</td>\n",
       "      <td>34.71</td>\n",
       "    </tr>\n",
       "  </tbody>\n",
       "</table>\n",
       "</div>"
      ],
      "text/plain": [
       "          1      2      3      4      5\n",
       "P     28.75  17.79  12.96  10.19   8.37\n",
       "nDCG  28.75  32.04  33.56  34.32  34.71"
      ]
     },
     "metadata": {},
     "output_type": "display_data"
    },
    {
     "name": "stdout",
     "output_type": "stream",
     "text": [
      "\u001b[1mdecile 4 (shape=(4122, 44045)): \u001b[0m\n"
     ]
    },
    {
     "data": {
      "text/html": [
       "<div>\n",
       "<style scoped>\n",
       "    .dataframe tbody tr th:only-of-type {\n",
       "        vertical-align: middle;\n",
       "    }\n",
       "\n",
       "    .dataframe tbody tr th {\n",
       "        vertical-align: top;\n",
       "    }\n",
       "\n",
       "    .dataframe thead th {\n",
       "        text-align: right;\n",
       "    }\n",
       "</style>\n",
       "<table border=\"1\" class=\"dataframe\">\n",
       "  <thead>\n",
       "    <tr style=\"text-align: right;\">\n",
       "      <th></th>\n",
       "      <th>1</th>\n",
       "      <th>2</th>\n",
       "      <th>3</th>\n",
       "      <th>4</th>\n",
       "      <th>5</th>\n",
       "    </tr>\n",
       "  </thead>\n",
       "  <tbody>\n",
       "    <tr>\n",
       "      <th>P</th>\n",
       "      <td>32.48</td>\n",
       "      <td>19.74</td>\n",
       "      <td>14.27</td>\n",
       "      <td>11.10</td>\n",
       "      <td>9.07</td>\n",
       "    </tr>\n",
       "    <tr>\n",
       "      <th>nDCG</th>\n",
       "      <td>32.48</td>\n",
       "      <td>35.78</td>\n",
       "      <td>37.32</td>\n",
       "      <td>37.97</td>\n",
       "      <td>38.32</td>\n",
       "    </tr>\n",
       "  </tbody>\n",
       "</table>\n",
       "</div>"
      ],
      "text/plain": [
       "          1      2      3      4      5\n",
       "P     32.48  19.74  14.27  11.10   9.07\n",
       "nDCG  32.48  35.78  37.32  37.97  38.32"
      ]
     },
     "metadata": {},
     "output_type": "display_data"
    },
    {
     "name": "stdout",
     "output_type": "stream",
     "text": [
      "\u001b[1mdecile 5 (shape=(4211, 36912)): \u001b[0m\n"
     ]
    },
    {
     "data": {
      "text/html": [
       "<div>\n",
       "<style scoped>\n",
       "    .dataframe tbody tr th:only-of-type {\n",
       "        vertical-align: middle;\n",
       "    }\n",
       "\n",
       "    .dataframe tbody tr th {\n",
       "        vertical-align: top;\n",
       "    }\n",
       "\n",
       "    .dataframe thead th {\n",
       "        text-align: right;\n",
       "    }\n",
       "</style>\n",
       "<table border=\"1\" class=\"dataframe\">\n",
       "  <thead>\n",
       "    <tr style=\"text-align: right;\">\n",
       "      <th></th>\n",
       "      <th>1</th>\n",
       "      <th>2</th>\n",
       "      <th>3</th>\n",
       "      <th>4</th>\n",
       "      <th>5</th>\n",
       "    </tr>\n",
       "  </thead>\n",
       "  <tbody>\n",
       "    <tr>\n",
       "      <th>P</th>\n",
       "      <td>32.34</td>\n",
       "      <td>19.88</td>\n",
       "      <td>14.30</td>\n",
       "      <td>11.23</td>\n",
       "      <td>9.20</td>\n",
       "    </tr>\n",
       "    <tr>\n",
       "      <th>nDCG</th>\n",
       "      <td>32.34</td>\n",
       "      <td>35.74</td>\n",
       "      <td>37.18</td>\n",
       "      <td>38.00</td>\n",
       "      <td>38.41</td>\n",
       "    </tr>\n",
       "  </tbody>\n",
       "</table>\n",
       "</div>"
      ],
      "text/plain": [
       "          1      2      3      4      5\n",
       "P     32.34  19.88  14.30  11.23   9.20\n",
       "nDCG  32.34  35.74  37.18  38.00  38.41"
      ]
     },
     "metadata": {},
     "output_type": "display_data"
    }
   ],
   "source": [
    "X_Y = tst_X_Y[rand_inds]\n",
    "for method, _score_mat in all_score_mats:\n",
    "    metrics = {}\n",
    "    print('Method :', method)\n",
    "#     for i, decile in enumerate(decile_mask):\n",
    "    for i in range(6):\n",
    "        best_score_mat = score_mat\n",
    "        best_p5 = 0\n",
    "        active_labels = np.where(nnz == i)[0]\n",
    "        temp_X_Y, active_rows, _ = restrict_mat(X_Y, active_rows=None, active_cols=active_labels, shrink=True)\n",
    "        \n",
    "        if method == 'ZestXML':\n",
    "            for alpha in tqdm(drange(0, 1, 0.1)):\n",
    "                for beta in drange(0, alpha, 0.1):\n",
    "                    gamma = 1-alpha-beta\n",
    "                    combined = retain_topk(alpha*tst_clf_score_mat + beta*tst_bilinear_score_mat + gamma*tst_knn_score_mat, k=100, copy=False)\n",
    "                    temp_score_mat, _, _ = restrict_mat(combined, active_rows=active_rows, active_cols=active_labels, shrink=True)\n",
    "                    temp_metrics = printacc(temp_score_mat, X_Y=temp_X_Y, K=5, inv_prop_=None, disp=False)\n",
    "                    if temp_metrics[0, 4] > best_p5:\n",
    "                        best_p5 = temp_metrics[0, 4]\n",
    "                        best_score_mat = combined\n",
    "            _score_mat = best_score_mat\n",
    "        \n",
    "        temp_score_mat, _, _     = restrict_mat(_score_mat, active_rows=active_rows, active_cols=active_labels, shrink=True)\n",
    "        print(_c('decile %d (shape=(%d, %d)): '%(i, temp_X_Y.shape[0], temp_X_Y.shape[1]), attr='bold'))\n",
    "        metrics[i] = printacc(temp_score_mat, X_Y=temp_X_Y, K=5, inv_prop_=None)\n",
    "        if method in points: points[method].append(metrics[i][0, 4])\n",
    "        else: points[method] = [metrics[i][0, 4]]"
   ]
  },
  {
   "cell_type": "code",
   "execution_count": 36,
   "metadata": {
    "ExecuteTime": {
     "end_time": "2021-02-07T15:25:37.692955Z",
     "start_time": "2021-02-07T15:25:37.689109Z"
    }
   },
   "outputs": [],
   "source": [
    "df = pd.DataFrame({'nnz' : [0, 1, 2, 3, 4, 5], \n",
    "                   'ZestXML' : [12, 13, 14, 17, 20, 22], \n",
    "                   'AttentionXML': [1, 3, 6, 20, 19, 12],\n",
    "                   'Parabel': [2, 5, 11, 15, 19, 25]})"
   ]
  },
  {
   "cell_type": "code",
   "execution_count": 37,
   "metadata": {
    "ExecuteTime": {
     "end_time": "2021-02-07T15:25:43.104353Z",
     "start_time": "2021-02-07T15:25:43.098447Z"
    }
   },
   "outputs": [],
   "source": [
    "tempdf = pd.melt(df, id_vars=['nnz']).sort_values(['variable','value'])\n",
    "\n",
    "sns.set(font_scale = 1.5)\n",
    "g = sns.catplot(\n",
    "    data=tempdf, kind=\"bar\",\n",
    "    x=\"nnz\", y=\"value\", hue=\"variable\",\n",
    "    ci=\"sd\", palette=\"bright\", alpha=.6, height=6, aspect=2\n",
    ")\n",
    "g.despine(left=True)\n",
    "g.set_axis_labels(\"\", \"Body mass (g)\", fontsize=14)\n",
    "g.legend.set_title(\"\")"
   ]
  },
  {
   "cell_type": "code",
   "execution_count": null,
   "metadata": {},
   "outputs": [],
   "source": [
    "plt.xlabel('Label frequency', fontsize=18)\n",
    "plt.ylabel('Precision@5', fontsize=18)\n",
    "plt.xticks(fontsize=14)\n",
    "plt.yticks(fontsize=14)\n",
    "for name, y in list(points.items()):\n",
    "    plt.plot(y, label=name)\n",
    "plt.legend(prop={'size' : 14})\n",
    "plt.subplots_adjust(left=0.15, right=0.9, top=0.9, bottom=0.15)"
   ]
  },
  {
   "cell_type": "code",
   "execution_count": 48,
   "metadata": {
    "scrolled": true
   },
   "outputs": [
    {
     "data": {
      "image/png": "[encoded data removed]",
      "text/plain": [
       "<Figure size 576x396 with 1 Axes>"
      ]
     },
     "metadata": {},
     "output_type": "display_data"
    }
   ],
   "source": [
    "plt.xlabel('Label frequency', fontsize=18)\n",
    "plt.ylabel('Precision@5', fontsize=18)\n",
    "plt.xticks(fontsize=14)\n",
    "plt.yticks(fontsize=14)\n",
    "for name, y in list(points.items()):\n",
    "    plt.plot(y, label=name)\n",
    "plt.legend(prop={'size' : 14})\n",
    "plt.subplots_adjust(left=0.15, right=0.9, top=0.9, bottom=0.15)\n",
    "plt.savefig('/mnt/c/Users/t-nilgup/Pictures/decile-analysis.png', facecolor='w')\n",
    "plt.savefig('/mnt/c/Users/t-nilgup/Pictures/decile-analysis.eps', facecolor='w')"
   ]
  },
  {
   "cell_type": "markdown",
   "metadata": {},
   "source": [
    "## Analysis"
   ]
  },
  {
   "cell_type": "markdown",
   "metadata": {},
   "source": [
    "### Prepare"
   ]
  },
  {
   "cell_type": "code",
   "execution_count": 117,
   "metadata": {
    "ExecuteTime": {
     "end_time": "2020-10-14T20:50:28.764888Z",
     "start_time": "2020-10-14T20:50:28.728573Z"
    }
   },
   "outputs": [
    {
     "name": "stdout",
     "output_type": "stream",
     "text": [
      "loaded bin file in buffer\n",
      "loaded bin file in buffer\n"
     ]
    },
    {
     "data": {
      "text/plain": [
       "(2217693, 2217693)"
      ]
     },
     "execution_count": 117,
     "metadata": {},
     "output_type": "execute_result"
    }
   ],
   "source": [
    "Xf_Yf = read_bin_spmat(f'{RES_DIR}/model/Xf_Yf.bin')\n",
    "Yf_Xf = read_bin_spmat(f'{RES_DIR}/model/Yf_Xf.bin')\n",
    "sp_pattern_mat = Xf_Yf + Yf_Xf.T.tocsr()\n",
    "Xf_Yf.nnz+Yf_Xf.nnz, sp_pattern_mat.nnz"
   ]
  },
  {
   "cell_type": "code",
   "execution_count": 118,
   "metadata": {
    "ExecuteTime": {
     "end_time": "2020-10-14T20:50:45.422449Z",
     "start_time": "2020-10-14T20:50:41.707542Z"
    }
   },
   "outputs": [
    {
     "name": "stderr",
     "output_type": "stream",
     "text": [
      "100%|██████████| 1993586/1993586 [00:03<00:00, 619230.44it/s]\n",
      "100%|██████████| 224107/224107 [00:00<00:00, 585753.25it/s]\n"
     ]
    }
   ],
   "source": [
    "ind_sp_pattern_mat = sp_pattern_mat.copy().astype(np.int32)\n",
    "temp = Xf_Yf.tocoo()\n",
    "ind_sp_pattern_mat[temp.row, temp.col] = np.arange(Xf_Yf.nnz)\n",
    "pair_xfs = [f'[x[{temp.row[i]}]({xfs[temp.row[i]]}) : y[{temp.col[i]}]({yfs[temp.col[i]]})]' for i in tqdm(range(temp.nnz))]\n",
    "\n",
    "temp = Yf_Xf.tocoo()\n",
    "ind_sp_pattern_mat[temp.col, temp.row] = np.arange(Xf_Yf.nnz, Xf_Yf.nnz+Yf_Xf.nnz)\n",
    "for i in tqdm(range(temp.nnz)):\n",
    "    pair_xfs.append(f'[x[{temp.col[i]}]({xfs[temp.col[i]]}) : y[{temp.row[i]}]({xfs[temp.row[i]]})]')\n",
    "pair_xfs.append('bias')"
   ]
  },
  {
   "cell_type": "code",
   "execution_count": 52,
   "metadata": {
    "ExecuteTime": {
     "end_time": "2020-10-14T14:25:29.448642Z",
     "start_time": "2020-10-14T14:25:29.435729Z"
    }
   },
   "outputs": [
    {
     "name": "stdout",
     "output_type": "stream",
     "text": [
      "loaded bin file in buffer\n"
     ]
    }
   ],
   "source": [
    "sp_pattern_mat = read_bin_spmat(f'{RES_DIR}/model/sparsity_pattern.bin')"
   ]
  },
  {
   "cell_type": "code",
   "execution_count": 32,
   "metadata": {
    "ExecuteTime": {
     "end_time": "2020-10-14T13:02:37.244259Z",
     "start_time": "2020-10-14T13:02:37.179169Z"
    }
   },
   "outputs": [],
   "source": [
    "t_sp_pattern_mat = sp_pattern_mat.T.tocsr()"
   ]
  },
  {
   "cell_type": "code",
   "execution_count": 82,
   "metadata": {
    "ExecuteTime": {
     "end_time": "2020-10-14T14:39:08.236692Z",
     "start_time": "2020-10-14T14:39:08.230086Z"
    },
    "scrolled": true
   },
   "outputs": [
    {
     "name": "stdout",
     "output_type": "stream",
     "text": [
      "xfs[20314] : dissolut\n",
      "1\t(0.500000)\tdissolut\n",
      "2\t(0.075758)\tczechoslovakia\n",
      "3\t(0.075758)\t__label__2591__Czechoslovakia\n",
      "4\t(0.071138)\t__parent__2291\n",
      "5\t(0.066964)\t__label__1861__republic\n",
      "6\t(0.066288)\tsoviet\n",
      "7\t(0.066288)\tussr\n",
      "8\t(0.066288)\t__label__2749__USSR; Soviet Union; former USSR\n",
      "9\t(0.066288)\tformer ussr\n",
      "10\t(0.066288)\tussr soviet\n",
      "11\t(0.066288)\tsoviet union\n",
      "12\t(0.066288)\tunion former\n",
      "13\t(0.051653)\t__label__3183__ECSC; Consultative Committee of the ECSC; ECSC con\n",
      "14\t(0.051653)\thigh author\n",
      "15\t(0.051653)\tecsc ecsc\n",
      "16\t(0.051653)\tecsc consult\n",
      "17\t(0.051653)\tconsult committe\n",
      "18\t(0.051653)\tcommuniti high\n",
      "19\t(0.051653)\tcommitte ecsc\n",
      "20\t(0.039615)\t__parent__5655\n",
      "21\t(0.039139)\t__parent__26\n"
     ]
    }
   ],
   "source": [
    "# xf = random.randrange(len(xfs))\n",
    "xf = 20314\n",
    "# xf = np.random.choice(targets)\n",
    "\n",
    "print(f'xfs[{xf}] : {xfs[xf]}')\n",
    "xf_sp_pattern_mat = sp_pattern_mat[xf]\n",
    "sorted_inds = np.argsort(-xf_sp_pattern_mat.data)\n",
    "for i, ind in enumerate(sorted_inds):\n",
    "    print(f'{i+1}\\t({\"%.6f\"%xf_sp_pattern_mat.data[ind]})\\t{yfs[xf_sp_pattern_mat.indices[ind]]}')"
   ]
  },
  {
   "cell_type": "code",
   "execution_count": 147,
   "metadata": {
    "ExecuteTime": {
     "end_time": "2020-10-12T12:08:18.537475Z",
     "start_time": "2020-10-12T12:08:18.530148Z"
    },
    "scrolled": true
   },
   "outputs": [
    {
     "name": "stdout",
     "output_type": "stream",
     "text": [
      "yfs[1022682] : __label__81003__Anarchism\n",
      "1\t(0.192308)\tcryptoparti\n",
      "2\t(0.138889)\twxlanarchist14\n",
      "3\t(0.119048)\t9117285\n",
      "4\t(0.111111)\tlibsoc\n",
      "5\t(0.106383)\tshirlow\n",
      "6\t(0.104167)\tamielandmelburn\n",
      "7\t(0.102041)\t96886\n",
      "8\t(0.100000)\tparliamentarist\n",
      "9\t(0.096154)\t22spirit\n",
      "10\t(0.081967)\tpautz\n",
      "11\t(0.080645)\tmountz\n",
      "12\t(0.074627)\t54697\n",
      "13\t(0.068493)\tespecifismo\n",
      "14\t(0.067568)\thetsa\n",
      "15\t(0.064103)\tmelburn\n",
      "16\t(0.062500)\ttoc2\n",
      "17\t(0.060976)\tuvali\n",
      "18\t(0.060241)\tkesia\n",
      "19\t(0.058824)\t32495\n",
      "20\t(0.057471)\t20060329\n",
      "21\t(0.056818)\tlierr\n",
      "22\t(0.056818)\tfrestonia\n",
      "23\t(0.049020)\t31567\n",
      "24\t(0.047170)\t20561\n",
      "25\t(0.045045)\t20070514\n",
      "26\t(0.040650)\trevoltlib\n",
      "27\t(0.039370)\ttitl anarch\n",
      "28\t(0.035211)\tautarch\n",
      "29\t(0.035047)\tsocial anarch\n",
      "30\t(0.026596)\thierarch organ\n",
      "31\t(0.026455)\tstateless societi\n",
      "32\t(0.024272)\tscmagazin\n",
      "33\t(0.018939)\tlifework\n",
      "34\t(0.011628)\tbase free\n",
      "35\t(0.008190)\tideolog polit\n",
      "36\t(0.007153)\twithin societi\n"
     ]
    }
   ],
   "source": [
    "yf = 1022682\n",
    "\n",
    "print(f'yfs[{yf}] : {yfs[yf]}')\n",
    "yf_sp_pattern_mat = t_sp_pattern_mat[yf]\n",
    "sorted_inds = np.argsort(-yf_sp_pattern_mat.data)\n",
    "for i, ind in enumerate(sorted_inds):\n",
    "    print(f'{i+1}\\t({\"%.6f\"%yf_sp_pattern_mat.data[ind]})\\t{xfs[yf_sp_pattern_mat.indices[ind]]}')"
   ]
  },
  {
   "cell_type": "markdown",
   "metadata": {
    "heading_collapsed": true
   },
   "source": [
    "### Analyze single x, y pair"
   ]
  },
  {
   "cell_type": "code",
   "execution_count": null,
   "metadata": {
    "ExecuteTime": {
     "end_time": "2020-10-12T11:53:45.465593Z",
     "start_time": "2020-10-12T11:53:45.386044Z"
    },
    "hidden": true
   },
   "outputs": [],
   "source": [
    "bin_sp_pattern_mat = binarize(sp_pattern_mat, copy=True)"
   ]
  },
  {
   "cell_type": "code",
   "execution_count": 131,
   "metadata": {
    "ExecuteTime": {
     "end_time": "2020-10-12T11:55:36.552484Z",
     "start_time": "2020-10-12T11:55:36.548157Z"
    },
    "hidden": true
   },
   "outputs": [],
   "source": [
    "def bilinear_to_linear(x, y):\n",
    "    cross = trn_X_Xf[x].T.dot(Y_Yf[y])\n",
    "    data = cross.multiply(bin_sp_pattern_mat).data\n",
    "    inds = binarize(cross).multiply(ind_sp_pattern_mat).data.astype(np.int32)\n",
    "    del cross\n",
    "    return csr_matrix((data, inds, [0, inds.shape[0]]), (1, sp_pattern_mat.nnz))"
   ]
  },
  {
   "cell_type": "code",
   "execution_count": 132,
   "metadata": {
    "ExecuteTime": {
     "end_time": "2020-10-12T11:55:48.802811Z",
     "start_time": "2020-10-12T11:55:36.554819Z"
    },
    "hidden": true,
    "scrolled": true
   },
   "outputs": [
    {
     "name": "stdout",
     "output_type": "stream",
     "text": [
      "x = 0 : \n",
      "\u001b[1m\u001b[4m[x(anarch) : y(anarch)]\u001b[0m(0.99, 2875494) \u001b[1m\u001b[4m[x(anarch sidebar) : y(anarch)]\u001b[0m(0.15, 21988359)\n"
     ]
    }
   ],
   "source": [
    "xy = normalize(bilinear_to_linear(0, 81003), axis=1)\n",
    "print(get_text(0, pair_xfs, xy))"
   ]
  },
  {
   "cell_type": "code",
   "execution_count": 244,
   "metadata": {
    "ExecuteTime": {
     "end_time": "2020-10-06T18:23:45.023699Z",
     "start_time": "2020-10-06T18:23:45.015860Z"
    },
    "hidden": true
   },
   "outputs": [
    {
     "data": {
      "text/plain": [
       "array([0.8450816], dtype=float32)"
      ]
     },
     "execution_count": 244,
     "metadata": {},
     "output_type": "execute_result"
    }
   ],
   "source": [
    "prod = xy.dot(tree.shared_clf.data[:-1])+tree.shared_clf.data[-1]\n",
    "bilinear_score = -((max(0, 1-prod))**2) - 0\n",
    "np.exp(bilinear_score)"
   ]
  },
  {
   "cell_type": "markdown",
   "metadata": {
    "heading_collapsed": true
   },
   "source": [
    "### Analyze predictions"
   ]
  },
  {
   "cell_type": "code",
   "execution_count": 401,
   "metadata": {
    "ExecuteTime": {
     "end_time": "2020-10-08T09:33:44.080263Z",
     "start_time": "2020-10-08T09:33:44.074196Z"
    },
    "hidden": true
   },
   "outputs": [],
   "source": [
    "targets = np.where((tst_X_Y - binarize(clf_score_mat.multiply(tst_X_Y))).getnnz(1) > 5)[0]"
   ]
  },
  {
   "cell_type": "code",
   "execution_count": 24,
   "metadata": {
    "ExecuteTime": {
     "end_time": "2020-10-14T12:53:56.063530Z",
     "start_time": "2020-10-14T12:53:56.053632Z"
    },
    "hidden": true,
    "scrolled": true
   },
   "outputs": [
    {
     "name": "stdout",
     "output_type": "stream",
     "text": [
      "x = 0 : \n",
      "\u001b[1m\u001b[4mcapit\u001b[0m(0.36, 16272) \u001b[1m\u001b[4mcapit movement\u001b[0m(0.29, 66706) \u001b[1m\u001b[4mfrench oversea\u001b[0m(0.28, 77427) \u001b[1m\u001b[4moversea depart\u001b[0m(0.28, 86238) \u001b[1m\u001b[4malgeria\u001b[0m(0.27, 11929) \u001b[1m\u001b[4moversea\u001b[0m(0.25, 35674) \u001b[1m\u001b[4mprovis treati\u001b[0m(0.22, 89663) \u001b[1m\u001b[4mdepart\u001b[0m(0.21, 19660) \u001b[1m\u001b[4mmovement\u001b[0m(0.20, 33272) \u001b[1m\u001b[4mfrench\u001b[0m(0.19, 23851) \u001b[1m\u001b[4m1960\u001b[0m(0.16, 3201) \u001b[1m\u001b[4m11 may\u001b[0m(0.14, 51554) \u001b[1m\u001b[4m227\u001b[0m(0.13, 4392) \u001b[1m\u001b[4mprovis\u001b[0m(0.11, 38162) \u001b[1m\u001b[4mapplic area\u001b[0m(0.09, 63952) \u001b[1m\u001b[4marticl 106\u001b[0m(0.09, 64637) \u001b[1m\u001b[4mpropos direct\u001b[0m(0.09, 89204) \u001b[1m\u001b[4mpursuanc articl\u001b[0m(0.09, 89840) \u001b[1m\u001b[4meconom condit\u001b[0m(0.09, 73504) \u001b[1m\u001b[4marticl 69\u001b[0m(0.09, 64808) \u001b[1m\u001b[4mdepart wherea\u001b[0m(0.09, 71579) \u001b[1m\u001b[4mwherea propos\u001b[0m(0.09, 99220) \u001b[1m\u001b[4mtreati concern\u001b[0m(0.09, 97505) \u001b[1m\u001b[4mdetermin condit\u001b[0m(0.09, 71795) \u001b[1m\u001b[4msocial develop\u001b[0m(0.09, 94387) \u001b[1m\u001b[4mne\u001b[0m(0.08, 33948) \u001b[1m\u001b[4marticl 67\u001b[0m(0.08, 64806) \u001b[1m\u001b[4mcouncil wherea\u001b[0m(0.08, 70268) \u001b[1m\u001b[4mcouncil determin\u001b[0m(0.08, 70216) \u001b[1m\u001b[4mparticular provis\u001b[0m(0.08, 86732) \u001b[1m\u001b[4mdecis applic\u001b[0m(0.08, 71232) \u001b[1m\u001b[4mset first\u001b[0m(0.08, 93595) \u001b[1m\u001b[4mtreati particular\u001b[0m(0.08, 97525) \u001b[1m\u001b[4mpursuanc\u001b[0m(0.08, 38409) \u001b[1m\u001b[4mliberalis\u001b[0m(0.08, 30510) \u001b[1m\u001b[4mforc 11\u001b[0m(0.07, 77096) \u001b[1m\u001b[4mrest\u001b[0m(0.07, 39733) \u001b[1m\u001b[4mtreati regard\u001b[0m(0.07, 97528) \u001b[1m\u001b[4maccord second\u001b[0m(0.06, 61665) \u001b[1m\u001b[4msecretari\u001b[0m(0.06, 41366) \u001b[1m\u001b[4mrender\u001b[0m(0.06, 39516) \u001b[1m\u001b[4msubparagraph\u001b[0m(0.06, 43499) \u001b[1m\u001b[4mconcern\u001b[0m(0.06, 18144) \u001b[1m\u001b[4mprovis concern\u001b[0m(0.06, 89591) \u001b[1m\u001b[4meec council\u001b[0m(0.06, 74101) \u001b[1m\u001b[4mpropos\u001b[0m(0.06, 38074) \u001b[1m\u001b[4m106\u001b[0m(0.05, 1463) \u001b[1m\u001b[4mcondit\u001b[0m(0.05, 18179) \u001b[1m\u001b[4msubmit commiss\u001b[0m(0.05, 95595) \u001b[1m\u001b[4meconom\u001b[0m(0.05, 21096) \u001b[1m\u001b[4mlegisl\u001b[0m(0.05, 30324) \u001b[1m\u001b[4mdone luxembourg\u001b[0m(0.05, 72349) \u001b[1m\u001b[4meconom social\u001b[0m(0.05, 73530) \u001b[1m\u001b[4m73\u001b[0m(0.05, 9249) \u001b[1m\u001b[4mwherea accord\u001b[0m(0.05, 98976) \u001b[1m\u001b[4mprovis articl\u001b[0m(0.04, 89585) \u001b[1m\u001b[4mdecis\u001b[0m(0.04, 19453) \u001b[1m\u001b[4m67\u001b[0m(0.04, 8913) \u001b[1m\u001b[4m69\u001b[0m(0.04, 8987) \u001b[1m\u001b[4msocial\u001b[0m(0.04, 42426) \u001b[1m\u001b[4mluxembourg\u001b[0m(0.04, 31190) \u001b[1m\u001b[4mfirst subparagraph\u001b[0m(0.04, 76514) \u001b[1m\u001b[4msecond subparagraph\u001b[0m(0.04, 93191) \u001b[1m\u001b[4mcommiss wherea\u001b[0m(0.04, 68218) \u001b[1m\u001b[4mterritori\u001b[0m(0.04, 44525) \u001b[1m\u001b[4mdecis shall\u001b[0m(0.04, 71321) \u001b[1m\u001b[4mspecial\u001b[0m(0.04, 42702) \u001b[1m\u001b[4msubparagraph articl\u001b[0m(0.04, 95660) \u001b[1m\u001b[4mneed\u001b[0m(0.04, 34000) \u001b[1m\u001b[4marea\u001b[0m(0.04, 13081) \u001b[1m\u001b[4m2 thereof\u001b[0m(0.03, 54155) \u001b[1m\u001b[4mpropos commiss\u001b[0m(0.03, 89200) \u001b[1m\u001b[4mcouncil decis\u001b[0m(0.03, 70215) \u001b[1m\u001b[4mplace\u001b[0m(0.03, 36950) \u001b[1m\u001b[4mregard propos\u001b[0m(0.03, 91028) \u001b[1m\u001b[4msecond\u001b[0m(0.03, 41360) \u001b[1m\u001b[4mcouncilth\u001b[0m(0.03, 18611) \u001b[1m\u001b[4msubmit\u001b[0m(0.03, 43493) \u001b[1m\u001b[4mdevelop\u001b[0m(0.03, 19834) \u001b[1m\u001b[4mfirst\u001b[0m(0.03, 23254) \u001b[1m\u001b[4mshall appli\u001b[0m(0.03, 93718) \u001b[1m\u001b[4mappropri\u001b[0m(0.03, 12940) \u001b[1m\u001b[4mdetermin\u001b[0m(0.03, 19807) \u001b[1m\u001b[4mthereof regard\u001b[0m(0.03, 96938) \u001b[1m\u001b[4mset\u001b[0m(0.02, 41662)\n"
     ]
    }
   ],
   "source": [
    "val_X[x]\n",
    "print(get_text(x, xfs, val_X_Xf))"
   ]
  },
  {
   "cell_type": "code",
   "execution_count": 58,
   "metadata": {
    "ExecuteTime": {
     "end_time": "2020-10-14T14:26:53.781992Z",
     "start_time": "2020-10-14T14:26:53.779177Z"
    },
    "hidden": true
   },
   "outputs": [],
   "source": [
    "# x = random.randrange(tst_X_Y.shape[0])\n",
    "x = 1"
   ]
  },
  {
   "cell_type": "code",
   "execution_count": 59,
   "metadata": {
    "ExecuteTime": {
     "end_time": "2020-10-14T14:26:55.058452Z",
     "start_time": "2020-10-14T14:26:55.052613Z"
    },
    "hidden": true
   },
   "outputs": [
    {
     "name": "stdout",
     "output_type": "stream",
     "text": [
      "x = 1 : \n",
      "\u001b[1mcompetition policy\u001b[0m(1.00, \u001b[94m18\u001b[0m, 1116)\n",
      "\u001b[1mcontrol of restrictive practices\u001b[0m(1.00, \u001b[94m5\u001b[0m, 1671)\n",
      "\u001b[1mrestriction on competition\u001b[0m(1.00, \u001b[94m71\u001b[0m, 1972)\n",
      "\u001b[1minter-company agreement\u001b[0m(1.00, \u001b[94m39\u001b[0m, 2142)\n"
     ]
    }
   ],
   "source": [
    "print(get_text(x, Y, val_X_Y, K=10, sep='\\n', attr='bold', f = lambda ind, val : '%.2f, %s, %d'%(val, _c(nnz[ind], attr='blue'), ind)))"
   ]
  },
  {
   "cell_type": "code",
   "execution_count": 60,
   "metadata": {
    "ExecuteTime": {
     "end_time": "2020-10-14T14:27:01.481199Z",
     "start_time": "2020-10-14T14:27:01.475514Z"
    },
    "hidden": true,
    "scrolled": true
   },
   "outputs": [
    {
     "name": "stdout",
     "output_type": "stream",
     "text": [
      "x = 1 : \n",
      "\u001b[1mcompetition policy\u001b[0m(0.44, \u001b[94m18\u001b[0m, 1116)\n",
      "\u001b[1mcontrol of restrictive practices\u001b[0m(0.36, \u001b[94m5\u001b[0m, 1671)\n",
      "\u001b[1minter-company agreement\u001b[0m(0.29, \u001b[94m39\u001b[0m, 2142)\n",
      "\u001b[1mrestriction on competition\u001b[0m(0.21, \u001b[94m71\u001b[0m, 1972)\n",
      "\u001b[1mspecialisation agreement\u001b[0m(0.11, \u001b[94m6\u001b[0m, 1427)\n",
      "\u001b[1mESC opinion\u001b[0m(0.05, \u001b[94m1\u001b[0m, 3044)\n",
      "\u001b[1mrestrictive trade practice\u001b[0m(0.05, \u001b[94m11\u001b[0m, 4071)\n",
      "\u001b[1mcommon organisation of markets\u001b[0m(0.05, \u001b[94m1609\u001b[0m, 878)\n",
      "\u001b[1mfree competition\u001b[0m(0.05, \u001b[94m2\u001b[0m, 494)\n",
      "\u001b[1mmaritime transport\u001b[0m(0.04, \u001b[94m76\u001b[0m, 2691)\n"
     ]
    }
   ],
   "source": [
    "print(get_text(x, Y, clf_score_mat, K=10, sep='\\n', attr='bold', f = lambda ind, val : '%.2f, %s, %d'%(val, _c(nnz[ind], attr='blue'), ind)))"
   ]
  },
  {
   "cell_type": "code",
   "execution_count": 61,
   "metadata": {
    "ExecuteTime": {
     "end_time": "2020-10-14T14:27:19.601893Z",
     "start_time": "2020-10-14T14:27:19.595952Z"
    },
    "hidden": true
   },
   "outputs": [
    {
     "name": "stdout",
     "output_type": "stream",
     "text": [
      "x = 1 : \n",
      "\u001b[1minter-company agreement\u001b[0m(0.66, \u001b[94m39\u001b[0m, 2142)\n",
      "\u001b[1mrestriction on competition\u001b[0m(0.37, \u001b[94m71\u001b[0m, 1972)\n",
      "\u001b[1mcompetitiveness\u001b[0m(0.32, \u001b[94m24\u001b[0m, 2668)\n",
      "\u001b[1mcompetition policy\u001b[0m(0.32, \u001b[94m18\u001b[0m, 1116)\n",
      "\u001b[1msporting event\u001b[0m(0.32, \u001b[94m18\u001b[0m, 3447)\n",
      "\u001b[1mcompetition (EU)\u001b[0m(0.32, \u001b[94m2\u001b[0m, 2318)\n",
      "\u001b[1mspecialisation agreement\u001b[0m(0.31, \u001b[94m6\u001b[0m, 1427)\n",
      "\u001b[1mcontrol of restrictive practices\u001b[0m(0.31, \u001b[94m5\u001b[0m, 1671)\n",
      "\u001b[1mcompetition law\u001b[0m(0.19, \u001b[94m31\u001b[0m, 3232)\n",
      "\u001b[1mESC opinion\u001b[0m(0.09, \u001b[94m1\u001b[0m, 3044)\n"
     ]
    }
   ],
   "source": [
    "print(get_text(x, Y, bilinear_score_mat, K=10, sep='\\n', attr='bold', f = lambda ind, val : '%.2f, %s, %d'%(val, _c(nnz[ind], attr='blue'), ind)))"
   ]
  },
  {
   "cell_type": "code",
   "execution_count": 57,
   "metadata": {
    "ExecuteTime": {
     "end_time": "2020-10-14T14:26:03.150818Z",
     "start_time": "2020-10-14T14:26:03.074169Z"
    },
    "hidden": true,
    "scrolled": true
   },
   "outputs": [
    {
     "name": "stdout",
     "output_type": "stream",
     "text": [
      "x = 0 : \n",
      "\u001b[1mFrench overseas department and region\u001b[0m(0.60, \u001b[94m155\u001b[0m, 57)\n",
      "\u001b[1moverseas department (France)\u001b[0m(0.24, \u001b[94m8\u001b[0m, 2216)\n",
      "\u001b[1mFrench overseas collectivity\u001b[0m(0.23, \u001b[94m3\u001b[0m, 58)\n",
      "\u001b[1mcapital movement\u001b[0m(0.21, \u001b[94m12\u001b[0m, 768)\n",
      "\u001b[1mexport refund\u001b[0m(0.19, \u001b[94m3554\u001b[0m, 1962)\n",
      "\u001b[1mshare capital\u001b[0m(0.11, \u001b[94m7\u001b[0m, 3092)\n",
      "\u001b[1mfree movement of capital\u001b[0m(0.10, \u001b[94m7\u001b[0m, 489)\n",
      "\u001b[1minternational sanctions\u001b[0m(0.09, \u001b[94m698\u001b[0m, 1908)\n",
      "\u001b[1mFrench Guiana\u001b[0m(0.09, \u001b[94m15\u001b[0m, 167)\n",
      "\u001b[1mbalance of payments\u001b[0m(0.09, \u001b[94m25\u001b[0m, 2791)\n",
      "\u001b[1moverseas countries and territories\u001b[0m(0.09, \u001b[94m115\u001b[0m, 969)\n",
      "\u001b[1mcapital increase\u001b[0m(0.09, \u001b[94m10\u001b[0m, 2348)\n",
      "\u001b[1mhealth control\u001b[0m(0.08, \u001b[94m1599\u001b[0m, 720)\n",
      "\u001b[1mcapital goods\u001b[0m(0.08, \u001b[94m0\u001b[0m, 1716)\n",
      "\u001b[1mventure capital\u001b[0m(0.08, \u001b[94m2\u001b[0m, 3059)\n",
      "\u001b[1minvestment\u001b[0m(0.08, \u001b[94m19\u001b[0m, 379)\n",
      "\u001b[1mAlgeria\u001b[0m(0.07, \u001b[94m34\u001b[0m, 148)\n",
      "\u001b[1mFrance\u001b[0m(0.07, \u001b[94m895\u001b[0m, 56)\n",
      "\u001b[1msupply\u001b[0m(0.07, \u001b[94m409\u001b[0m, 966)\n",
      "\u001b[1moverseas territory\u001b[0m(0.07, \u001b[94m2\u001b[0m, 2625)\n",
      "\u001b[1mdepartment (France)\u001b[0m(0.07, \u001b[94m2\u001b[0m, 2211)\n",
      "\u001b[1mcapital market\u001b[0m(0.07, \u001b[94m28\u001b[0m, 3058)\n",
      "\u001b[1mworking capital\u001b[0m(0.07, \u001b[94m1\u001b[0m, 39)\n",
      "\u001b[1mforeign capital\u001b[0m(0.07, \u001b[94m84\u001b[0m, 3112)\n",
      "\u001b[1meconomic policy\u001b[0m(0.06, \u001b[94m27\u001b[0m, 1134)\n",
      "\u001b[1mEU aid\u001b[0m(0.06, \u001b[94m1043\u001b[0m, 4167)\n",
      "\u001b[1mearly-stage capital\u001b[0m(0.06, \u001b[94m1\u001b[0m, 3914)\n",
      "\u001b[1mrepatriation of capital\u001b[0m(0.06, \u001b[94m1\u001b[0m, 1468)\n",
      "\u001b[1mcapital city\u001b[0m(0.06, \u001b[94m12\u001b[0m, 3101)\n",
      "\u001b[1mproductivity\u001b[0m(0.06, \u001b[94m3\u001b[0m, 1320)\n",
      "\u001b[1mcapital depreciation\u001b[0m(0.06, \u001b[94m1\u001b[0m, 2334)\n",
      "\u001b[1mroad services department\u001b[0m(0.06, \u001b[94m4\u001b[0m, 2848)\n",
      "\u001b[1mUnited Kingdom OCT\u001b[0m(0.06, \u001b[94m1\u001b[0m, 2109)\n",
      "\u001b[1mterrorism\u001b[0m(0.05, \u001b[94m263\u001b[0m, 2626)\n",
      "\u001b[1mFrench Polynesia\u001b[0m(0.05, \u001b[94m2\u001b[0m, 1181)\n",
      "\u001b[1mcitrus fruit\u001b[0m(0.05, \u001b[94m2988\u001b[0m, 3932)\n",
      "\u001b[1mFrench-speaking Community\u001b[0m(0.05, \u001b[94m1\u001b[0m, 3313)\n",
      "\u001b[1mFrench West Indies\u001b[0m(0.05, \u001b[94m1\u001b[0m, 784)\n",
      "\u001b[1mimport price\u001b[0m(0.05, \u001b[94m2959\u001b[0m, 1247)\n",
      "\u001b[1meconomic sanctions\u001b[0m(0.05, \u001b[94m575\u001b[0m, 2182)\n",
      "\u001b[1mNetherlands OCT\u001b[0m(0.05, \u001b[94m1\u001b[0m, 961)\n",
      "\u001b[1mcapital transfer\u001b[0m(0.05, \u001b[94m18\u001b[0m, 2662)\n",
      "\u001b[1mfinancial aid\u001b[0m(0.04, \u001b[94m375\u001b[0m, 4213)\n",
      "\u001b[1mRéunion\u001b[0m(0.04, \u001b[94m76\u001b[0m, 437)\n",
      "\u001b[1mfree movement of workers\u001b[0m(0.04, \u001b[94m28\u001b[0m, 493)\n",
      "\u001b[1mfruit vegetable\u001b[0m(0.04, \u001b[94m3004\u001b[0m, 471)\n",
      "\u001b[1mfree movement of goods\u001b[0m(0.04, \u001b[94m52\u001b[0m, 490)\n",
      "\u001b[1msupply balance sheet\u001b[0m(0.04, \u001b[94m269\u001b[0m, 2940)\n",
      "\u001b[1mState aid\u001b[0m(0.04, \u001b[94m649\u001b[0m, 4187)\n",
      "\u001b[1mBrussels region\u001b[0m(0.04, \u001b[94m2\u001b[0m, 1586)\n",
      "\u001b[1mEuropean Movement\u001b[0m(0.04, \u001b[94m3\u001b[0m, 769)\n",
      "\u001b[1mmarket economy\u001b[0m(0.04, \u001b[94m5\u001b[0m, 3833)\n",
      "\u001b[1mpip fruit\u001b[0m(0.04, \u001b[94m3005\u001b[0m, 87)\n",
      "\u001b[1mdeath penalty\u001b[0m(0.04, \u001b[94m4\u001b[0m, 987)\n",
      "\u001b[1mministry\u001b[0m(0.04, \u001b[94m1\u001b[0m, 3037)\n",
      "\u001b[1mtariff quota\u001b[0m(0.04, \u001b[94m2271\u001b[0m, 476)\n",
      "\u001b[1mfreedom to provide services\u001b[0m(0.04, \u001b[94m53\u001b[0m, 496)\n",
      "\u001b[1mimport licence\u001b[0m(0.04, \u001b[94m2152\u001b[0m, 503)\n",
      "\u001b[1mhealth certificate\u001b[0m(0.04, \u001b[94m882\u001b[0m, 3216)\n",
      "\u001b[1meconomic conditions\u001b[0m(0.03, \u001b[94m2\u001b[0m, 4119)\n",
      "\u001b[1mfree movement of persons\u001b[0m(0.03, \u001b[94m22\u001b[0m, 492)\n",
      "\u001b[1mcompany with share capital\u001b[0m(0.03, \u001b[94m2\u001b[0m, 2406)\n",
      "\u001b[1msupermarket\u001b[0m(0.03, \u001b[94m1\u001b[0m, 570)\n",
      "\u001b[1mregulation of transactions\u001b[0m(0.03, \u001b[94m7\u001b[0m, 1696)\n",
      "\u001b[1mfreedom of movement\u001b[0m(0.03, \u001b[94m12\u001b[0m, 2214)\n",
      "\u001b[1mprovision\u001b[0m(0.03, \u001b[94m6\u001b[0m, 1880)\n",
      "\u001b[1mveterinary inspection\u001b[0m(0.03, \u001b[94m1233\u001b[0m, 352)\n",
      "\u001b[1mimport\u001b[0m(0.03, \u001b[94m3645\u001b[0m, 232)\n",
      "\u001b[1mmovement certificate\u001b[0m(0.03, \u001b[94m58\u001b[0m, 3215)\n",
      "\u001b[1msocial development\u001b[0m(0.03, \u001b[94m6\u001b[0m, 2494)\n",
      "\u001b[1mUN Development Programme\u001b[0m(0.03, \u001b[94m1\u001b[0m, 1075)\n",
      "\u001b[1manimal disease\u001b[0m(0.03, \u001b[94m881\u001b[0m, 585)\n",
      "\u001b[1mlegislation\u001b[0m(0.03, \u001b[94m9\u001b[0m, 461)\n",
      "\u001b[1mEuropean Central Bank\u001b[0m(0.03, \u001b[94m128\u001b[0m, 3274)\n",
      "\u001b[1moriginating product\u001b[0m(0.03, \u001b[94m2152\u001b[0m, 1369)\n",
      "\u001b[1mmigratory movement\u001b[0m(0.02, \u001b[94m12\u001b[0m, 1209)\n",
      "\u001b[1mVAT\u001b[0m(0.02, \u001b[94m253\u001b[0m, 2734)\n",
      "\u001b[1magreement (EU)\u001b[0m(0.02, \u001b[94m839\u001b[0m, 371)\n",
      "\u001b[1mCongo\u001b[0m(0.02, \u001b[94m7\u001b[0m, 78)\n",
      "\u001b[1mrestoration of customs duties\u001b[0m(0.02, \u001b[94m703\u001b[0m, 1992)\n",
      "\u001b[1mEuropean Economic and Social Committee\u001b[0m(0.02, \u001b[94m181\u001b[0m, 3684)\n",
      "\u001b[1mprovision of services\u001b[0m(0.02, \u001b[94m81\u001b[0m, 1219)\n",
      "\u001b[1mexport of waste\u001b[0m(0.02, \u001b[94m18\u001b[0m, 3190)\n",
      "\u001b[1meconomic development\u001b[0m(0.02, \u001b[94m66\u001b[0m, 2454)\n",
      "\u001b[1mself-determination\u001b[0m(0.02, \u001b[94m2\u001b[0m, 2419)\n",
      "\u001b[1mconsumer movement\u001b[0m(0.02, \u001b[94m11\u001b[0m, 2043)\n",
      "\u001b[1manimal plague\u001b[0m(0.02, \u001b[94m414\u001b[0m, 1015)\n",
      "\u001b[1mproposal (EU)\u001b[0m(0.02, \u001b[94m1\u001b[0m, 1403)\n",
      "\u001b[1missuing of currency\u001b[0m(0.02, \u001b[94m26\u001b[0m, 3975)\n",
      "\u001b[1mACP countries\u001b[0m(0.02, \u001b[94m275\u001b[0m, 3011)\n",
      "\u001b[1maccess to information\u001b[0m(0.02, \u001b[94m65\u001b[0m, 2697)\n",
      "\u001b[1mEcosoc\u001b[0m(0.02, \u001b[94m8\u001b[0m, 2061)\n",
      "\u001b[1msocioeconomic conditions\u001b[0m(0.02, \u001b[94m17\u001b[0m, 4165)\n",
      "\u001b[1mtariff preference\u001b[0m(0.02, \u001b[94m753\u001b[0m, 2564)\n",
      "\u001b[1meuro\u001b[0m(0.02, \u001b[94m157\u001b[0m, 3854)\n",
      "\u001b[1mregulation\u001b[0m(0.02, \u001b[94m5\u001b[0m, 1630)\n",
      "\u001b[1mliberalisation of trade\u001b[0m(0.02, \u001b[94m61\u001b[0m, 481)\n",
      "\u001b[1maid system\u001b[0m(0.02, \u001b[94m827\u001b[0m, 1563)\n",
      "\u001b[1meconomic stabilisation\u001b[0m(0.02, \u001b[94m52\u001b[0m, 2438)\n",
      "\u001b[1maid per hectare\u001b[0m(0.02, \u001b[94m207\u001b[0m, 3997)\n"
     ]
    }
   ],
   "source": [
    "print(get_text(x, Y, val_xshortlist, K=100, sep='\\n', attr='bold', f = lambda ind, val : '%.2f, %s, %d'%(val, _c(nnz[ind], attr='blue'), ind)))"
   ]
  },
  {
   "cell_type": "markdown",
   "metadata": {},
   "source": [
    "### Analyze bilinear"
   ]
  },
  {
   "cell_type": "code",
   "execution_count": 107,
   "metadata": {
    "ExecuteTime": {
     "end_time": "2020-10-14T20:46:44.460110Z",
     "start_time": "2020-10-14T20:46:44.452956Z"
    }
   },
   "outputs": [],
   "source": [
    "bilinear_clf = read_buf_bin_vec(open(f'{RES_DIR}/model/bilinear_clf.bin', 'rb').read(), np.float32)[0]"
   ]
  },
  {
   "cell_type": "code",
   "execution_count": 108,
   "metadata": {
    "ExecuteTime": {
     "end_time": "2020-10-14T20:46:46.396881Z",
     "start_time": "2020-10-14T20:46:46.391157Z"
    }
   },
   "outputs": [
    {
     "data": {
      "text/plain": [
       "((2217694,), 2217693)"
      ]
     },
     "execution_count": 108,
     "metadata": {},
     "output_type": "execute_result"
    }
   ],
   "source": [
    "bilinear_clf.shape, sp_pattern_mat.nnz"
   ]
  },
  {
   "cell_type": "code",
   "execution_count": 110,
   "metadata": {
    "ExecuteTime": {
     "end_time": "2020-10-14T20:46:54.780565Z",
     "start_time": "2020-10-14T20:46:54.775582Z"
    }
   },
   "outputs": [
    {
     "data": {
      "text/plain": [
       "array([-0.5736173 ,  0.12871023,  0.4830132 ,  0.5849314 ,  0.82220685,\n",
       "        0.7778163 ,  0.39703313, -0.04310488,  1.0390685 , -1.6236305 ],\n",
       "      dtype=float32)"
      ]
     },
     "execution_count": 110,
     "metadata": {},
     "output_type": "execute_result"
    }
   ],
   "source": [
    "bilinear_clf[-10:]"
   ]
  },
  {
   "cell_type": "code",
   "execution_count": 113,
   "metadata": {
    "ExecuteTime": {
     "end_time": "2020-10-14T20:48:49.125791Z",
     "start_time": "2020-10-14T20:48:49.097356Z"
    }
   },
   "outputs": [
    {
     "name": "stdout",
     "output_type": "stream",
     "text": [
      "loaded bin file in buffer\n"
     ]
    }
   ],
   "source": [
    "trn_xshortlist = read_bin_spmat(f'{RES_DIR}/model/shortlist.bin')\n",
    "trn_linear_form_mat = read_bin_spmat(f'{RES_DIR}/model/linear_form_mat.bin')\n",
    "\n",
    "sampled_tlfm = trn_linear_form_mat[:100000]"
   ]
  },
  {
   "cell_type": "code",
   "execution_count": 123,
   "metadata": {
    "ExecuteTime": {
     "end_time": "2020-10-14T20:53:39.238032Z",
     "start_time": "2020-10-14T20:53:39.232341Z"
    },
    "scrolled": true
   },
   "outputs": [
    {
     "name": "stdout",
     "output_type": "stream",
     "text": [
      "x = 0 : \n",
      "\u001b[1m\u001b[4mcommon transport policy\u001b[0m(1.00, 1098) \u001b[1m\u001b[4mlegal status\u001b[0m(1.00, 2458) \u001b[1m\u001b[4mcommittee (EU)\u001b[0m(1.00, 3679)\n",
      "EEC Council: Rules of the Transport Committee. ,Having regard to Article 83 of the Treaty establishing the European Economic Community, which provides that an advisory committee consisting of experts designated by the Governments of Member States shall be attached to the Commission and consulted by the latter on transport matters whenever the Commission considers this desirable, without prejudice to the powers of the transport section of the Economic and Social Committee;Having regard to Article 153 of that Treaty, which provides that the Council shall, after receiving an opinion from the Commission, determine the rules governing the committees provided for in that Treaty;Having received an Opinion from the Commission;. that the Rules of the Transport Committee shall be as follows: The Committee shall consist of experts on transport matters designated by the Governments of Member States. Each Government shall designate one expert or two experts selected from among senior officials of the central administration. It may, in addition, designate not more than three experts of acknowledged competence in, respectively, the railway, road transport and inland waterway sectors. Each Government may designate an alternate for each member of the Committee appointed by it; this alternate shall satisfy conditions the same as those for the member of the Committee whom he replaces.Alternates shall attend Committee meetings and take part in the work of the Committee only in the event of full members being unable to do so. Committee members and their alternates shall be appointed in their personal capacity and may not be bound by any mandatory instructions. The term of office for members and their alternates shall be two years. Their appointments may be renewed.In the event of the death, resignation or compulsory retirement of a member or alternate, that member or alternate shall replaced for the remainder of his term of office.The Government which appointed a member or alternate may compulsorily retire that member or alternate only if the member or alternate no longer fulfils the conditions required for the performance of his duties. The Committee shall, by an absolute majority of members present and voting, elect from among the members appointed by virtue of their status as senior officials of the central administration a Chairman and Vice-Chairman, who shall serve as such for two years.Should the Chairman or Vice-Chairman cease to hold office before the period for which he was elected has expired, a replacement for him shall be elected for the remainder of the period for which he was originally elected.Neither the Chairman nor the Vice-Chairman may be re-elected. The Committee shall be convened by the Chairman, at the request of the Commission, whenever the latter wishes to consult it. The Commission's request shall state the purpose of the consultation. When the Committee is consulted by the Commission, it shall present the latter with a report setting out the conclusions reached as a result of its deliberations. It shall do likewise if the Commission entrusts it with the study of a specific problem.The Commission shall also be entitled to consult the Committee orally.The minutes of the Committee shall be sent to the Commission. The Commission shall be invited to send its representatives to meetings of the Committee and its working parties. The Committee shall, by an absolute majority of members present and voting, adopt rules of procedure laying down its methods of working.The Committee may, whenever such action appears to it to be necessary for the purposes of formulating an opinion, seek the assistance of any suitably qualified person, obtain any advice and hold hearings. Such action may, however, be taken only with the consent of the Commission. 0The expenses of the Committee shall be included in the estimates of the Commission.. Done at Brussels, 15 September 1958.For the CouncilThe PresidentL. Erhard--------------------------------------------------\n"
     ]
    }
   ],
   "source": [
    "x = 0\n",
    "print(get_text(x, Y, trn_X_Y))\n",
    "print(trn_X[x])"
   ]
  },
  {
   "cell_type": "code",
   "execution_count": 125,
   "metadata": {
    "ExecuteTime": {
     "end_time": "2020-10-14T21:03:14.634275Z",
     "start_time": "2020-10-14T21:03:14.627617Z"
    },
    "scrolled": true
   },
   "outputs": [
    {
     "name": "stdout",
     "output_type": "stream",
     "text": [
      "x = 0 : \n",
      "\u001b[1m\u001b[4mbias\u001b[0m(\u001b[92m1.00\u001b[0m, \u001b[94m-1.62\u001b[0m, 2217693)\n",
      "\u001b[1m\u001b[4m[x[79870](inland waterway) : y[18786](waterway fleet)]\u001b[0m(\u001b[92m0.28\u001b[0m, \u001b[94m0.62\u001b[0m, 1590268)\n",
      "\u001b[1m\u001b[4m[x[79870](inland waterway) : y[19096](__label__25__inland waterway fleet)]\u001b[0m(\u001b[92m0.28\u001b[0m, \u001b[94m0.62\u001b[0m, 1590272)\n",
      "\u001b[1m\u001b[4m[x[47754](waterway) : y[18786](waterway fleet)]\u001b[0m(\u001b[92m0.28\u001b[0m, \u001b[94m0.14\u001b[0m, 947801)\n",
      "\u001b[1m\u001b[4m[x[47754](waterway) : y[19096](__label__25__inland waterway fleet)]\u001b[0m(\u001b[92m0.28\u001b[0m, \u001b[94m0.14\u001b[0m, 947805)\n",
      "\u001b[1m\u001b[4m[x[79870](inland waterway) : y[11352](inland waterway)]\u001b[0m(\u001b[92m0.25\u001b[0m, \u001b[94m-0.12\u001b[0m, 1590261)\n",
      "\u001b[1m\u001b[4m[x[47754](waterway) : y[11352](inland waterway)]\u001b[0m(\u001b[92m0.25\u001b[0m, \u001b[94m0.20\u001b[0m, 947794)\n",
      "\u001b[1m\u001b[4m[x[79870](inland waterway) : y[23935](__parent__4515)]\u001b[0m(\u001b[92m0.25\u001b[0m, \u001b[94m-0.05\u001b[0m, 1590275)\n",
      "\u001b[1m\u001b[4m[x[47754](waterway) : y[23935](__parent__4515)]\u001b[0m(\u001b[92m0.24\u001b[0m, \u001b[94m0.27\u001b[0m, 947808)\n",
      "\u001b[1m\u001b[4m[x[27594](inland) : y[11352](inland waterway)]\u001b[0m(\u001b[92m0.24\u001b[0m, \u001b[94m-0.01\u001b[0m, 547844)\n",
      "\u001b[1m\u001b[4m[x[79870](inland waterway) : y[2135](inland)]\u001b[0m(\u001b[92m0.24\u001b[0m, \u001b[94m-0.41\u001b[0m, 1590257)\n",
      "\u001b[1m\u001b[4m[x[79870](inland waterway) : y[4367](waterway)]\u001b[0m(\u001b[92m0.24\u001b[0m, \u001b[94m-0.14\u001b[0m, 1590258)\n",
      "\u001b[1m\u001b[4m[x[27594](inland) : y[23935](__parent__4515)]\u001b[0m(\u001b[92m0.24\u001b[0m, \u001b[94m0.15\u001b[0m, 547858)\n",
      "\u001b[1m\u001b[4m[x[47754](waterway) : y[4367](waterway)]\u001b[0m(\u001b[92m0.23\u001b[0m, \u001b[94m0.16\u001b[0m, 947791)\n",
      "\u001b[1m\u001b[4m[x[47754](waterway) : y[2135](inland)]\u001b[0m(\u001b[92m0.23\u001b[0m, \u001b[94m0.21\u001b[0m, 947790)\n",
      "\u001b[1m\u001b[4m[x[27594](inland) : y[4367](waterway)]\u001b[0m(\u001b[92m0.23\u001b[0m, \u001b[94m-0.13\u001b[0m, 547841)\n",
      "\u001b[1m\u001b[4m[x[27594](inland) : y[2135](inland)]\u001b[0m(\u001b[92m0.23\u001b[0m, \u001b[94m0.76\u001b[0m, 547840)\n"
     ]
    }
   ],
   "source": [
    "print(get_text(0, pair_xfs, sampled_tlfm, sep='\\n', f = lambda ind, val : '%s, %s, %d'%(_c('%.2f'%val, attr='green'), _c('%.2f'%bilinear_clf[ind], attr='blue'), ind)))"
   ]
  },
  {
   "cell_type": "code",
   "execution_count": 81,
   "metadata": {
    "ExecuteTime": {
     "end_time": "2020-10-14T14:38:49.227442Z",
     "start_time": "2020-10-14T14:38:48.985849Z"
    },
    "scrolled": true
   },
   "outputs": [
    {
     "name": "stdout",
     "output_type": "stream",
     "text": [
      "[x[20314](dissolut) : y[20867](__label__1861__republic)] 8.824594\n",
      "[x[96944](thereto 2) : y[23208](fingal)] 7.322508\n",
      "[x[99134](wherea implement) : y[19152](__label__84__fruit)] 7.0405354\n",
      "[x[79278](import valu) : y[23208](fingal)] 6.2630157\n",
      "[x[66422](buy skim) : y[19497](__label__441__milk)] 5.98454\n",
      "[x[61285](97 tabl) : y[9931](fix amount)] 5.8275075\n",
      "[x[79225](import price) : y[11084](import price)] 5.681644\n",
      "[x[37698](presidentjoao) : y[20867](__label__1861__republic)] 5.513355\n",
      "[x[32192](melon) : y[2561](melon)] 5.4899225\n",
      "[x[32428](mexico) : y[2591](mexico)] 5.399579\n",
      "[x[95261](statist nomenclatur) : y[17149](statist nomenclatur)] 5.362549\n",
      "[x[96430](tariff concess) : y[17545](tariff concess)] 5.25389\n",
      "[x[55338](2009 protect) : y[11079](import eu)] 5.1911826\n",
      "[x[55338](2009 protect) : y[6872](communiti import)] 5.1911826\n",
      "[x[72547](duti level) : y[21313](__label__2323__customs duties)] 5.1337233\n",
      "[x[13520](aubergin) : y[269](aubergin)] 5.054527\n",
      "[x[99134](wherea implement) : y[19522](__label__468__vegetable)] 5.0014377\n",
      "[x[90200](quota 2014) : y[212](001209)] 4.9940886\n",
      "[x[31461](maiz) : y[19633](__label__580__maize)] 4.9901996\n",
      "[x[18656](courgett) : y[960](courgett)] 4.916713\n",
      "[x[53493](1997 lay) : y[20400](__label__1369__originating product; origin of goods; product orig)] 4.900812\n",
      "[x[16904](chairpersonm) : y[4759](african republ)] 4.825022\n",
      "[x[62153](address feder) : y[23948](__parent__4590)] 4.7886047\n",
      "[x[75228](eur great) : y[21313](eh54)] 4.7631073\n",
      "[x[23123](fig) : y[1622](fig)] 4.688825\n",
      "[x[67066](cereal regard) : y[22168](__label__3208__cereals)] 4.671651\n",
      "[x[96905](therein 2014) : y[212](001209)] 4.5622396\n",
      "[x[68452](common organ) : y[6799](common organ)] 4.539627\n",
      "[x[78498](held negoti) : y[22061](__label__3098__fishing regulations)] 4.5354176\n",
      "[x[54464](2001 fix) : y[6832](communiti aid)] 4.51825\n",
      "[x[25300](guinea) : y[19227](__label__163__Guinea; Republic of Guinea)] 4.5072308\n",
      "[x[2132](134th) : y[19087](__label__16__fixing of prices; price proposal; pricing)] 4.4787765\n",
      "[x[3827](2009cn) : y[22168](__label__3208__cereals)] 4.4253035\n",
      "[x[85133](notifi request) : y[12244](limit import)] 4.4131446\n",
      "[x[73589](ecu shall) : y[19871](__label__827__cooperation agreement)] 4.3604646\n",
      "[x[95786](substitut articl) : y[21455](__label__2470__storage; storage facility; storage site; warehouse)] 4.3282704\n",
      "[x[79367](includ fruit) : y[19152](__label__84__fruit)] 4.327484\n",
      "[x[76383](financ programm) : y[19075](__label__4__EU financing; Community financing; European Union)] 4.3142095\n",
      "[x[96444](tariff quota) : y[17557](tariff quota)] 4.3029118\n",
      "[x[78420](health certif) : y[10794](health certif)] 4.2699614\n",
      "[x[90608](record member) : y[6626](cmo common)] 4.2698445\n",
      "[x[78420](health certif) : y[22176](__label__3216__health certificate)] 4.2698126\n",
      "[x[56218](26 28) : y[21290](__label__2300__association agreement (EU); EC association agreeme)] 4.2504096\n",
      "[x[79117](import 4) : y[19292](__label__232__import)] 4.229357\n",
      "[x[6452](3575) : y[21468](__label__2483__regional development)] 4.2071505\n",
      "[x[17138](china) : y[6508](china peopl)] 4.2053347\n",
      "[x[17138](china) : y[22570](__label__3627__China; People’s Republic of China)] 4.2052326\n",
      "[x[81169](l 319) : y[9523](export sale)] 4.1915703\n",
      "[x[17621](cocoa) : y[21976](__label__3008__cocoa)] 4.186716\n",
      "[x[71275](decis implement) : y[4452](yugoslavia)] 4.185442\n",
      "[x[36852](pimiento) : y[3081](pimiento)] 4.179856\n",
      "[x[65483](award shall) : y[9511](export export)] 4.1599507\n",
      "[x[15871](butter) : y[21897](__label__2928__butter)] 4.147494\n",
      "[x[2177](1379) : y[19186](__label__121__fishery management; fishery planning; fishery syst)] 4.141473\n",
      "[x[53872](2 countri) : y[20505](__label__1479__ratio)] 4.141105\n",
      "[x[69246](concerned1701 11) : y[24193](gamleby594)] 4.136065\n",
      "[x[97456](transport product) : y[20867](__label__1861__republic)] 4.130306\n",
      "[x[73812](eec 24) : y[19152](__label__84__fruit)] 4.0669594\n",
      "[x[79367](includ fruit) : y[19522](__label__468__vegetable)] 4.066898\n",
      "[x[65097](august 31) : y[19152](__label__84__fruit)] 4.0666885\n",
      "[x[96573](ten day) : y[18148](transport regul)] 3.989563\n",
      "[x[91990](request opinion) : y[15895](request opinion)] 3.9841495\n",
      "[x[23765](franc) : y[10177](franc french)] 3.973844\n",
      "[x[23765](franc) : y[19126](__label__56__France; French Republic)] 3.9737298\n",
      "[x[91080](region aid) : y[15559](region aid)] 3.9436703\n",
      "[x[59215](67 14) : y[9639](farm product)] 3.9374344\n",
      "[x[68294](commit appropri) : y[6758](commit appropri)] 3.8970406\n",
      "[x[79957](instrument shall) : y[19419](__label__361__financial instrument)] 3.867415\n",
      "[x[34353](nk603xmon810) : y[7232](control foodstuff)] 3.8563244\n",
      "[x[97659](type approv) : y[21751](__label__2776__motor vehicle)] 3.8542137\n",
      "[x[27681](institutef) : y[23068](ff)] 3.8537068\n",
      "[x[82471](macedonia 1) : y[1702](former)] 3.8512635\n",
      "[x[96432](tariff duti) : y[17547](tariff duti)] 3.8486903\n",
      "[x[29841](kyrgyzstan) : y[2297](kyrgyzstan)] 3.8257525\n",
      "[x[59038](60 million) : y[7924](develop aid)] 3.8022764\n",
      "[x[64614](arrang regul) : y[19341](__label__282__fishing industry; fishing; fishing activity)] 3.7922938\n",
      "[x[53525](1998 conclus) : y[23575](__parent__26)] 3.7870314\n",
      "[x[60953](93 6) : y[19292](__label__232__import)] 3.7827842\n",
      "[x[12116](aluminosil) : y[22507](__label__3562__animal health)] 3.7705383\n",
      "[x[68577](communiti control) : y[6848](communiti control)] 3.7542107\n",
      "[x[72193](diseas present) : y[3957](swine)] 3.7205822\n",
      "[x[50439](05 b) : y[20279](__label__1245__prices)] 3.7094445\n",
      "[x[37271](pomelo) : y[3146](pomelo)] 3.6929402\n",
      "[x[65097](august 31) : y[19522](__label__468__vegetable)] 3.692457\n",
      "[x[59936](8 thereof) : y[6832](communiti aid)] 3.6597278\n",
      "[x[74306](eib lend) : y[21468](__label__2483__regional development)] 3.6458828\n",
      "[x[3702](2005cn) : y[24003](__parent__4994)] 3.6233912\n",
      "[x[92385](restrict certain) : y[4927](agricultur year)] 3.619813\n",
      "[x[98374](variet convers) : y[22976](__label__4057__production aid; aid to producers)] 3.6197195\n",
      "[x[90393](rate eur) : y[24132](__parent__5774)] 3.5933821\n",
      "[x[22926](feedingstuff) : y[1606](feed)] 3.5873377\n",
      "[x[90401](rate import) : y[21313](__label__2323__customs duties)] 3.570108\n",
      "[x[1964](1280) : y[19140](__label__71__cheese)] 3.5436769\n",
      "[x[82601](maiz import) : y[19633](__label__580__maize)] 3.5394244\n",
      "[x[19529](defray) : y[9026](equalis financi)] 3.5352004\n",
      "[x[19529](defray) : y[20029](__label__990__financial equalisation; financial compensation; fi)] 3.5352004\n",
      "[x[65839](basi quotat) : y[655](cct)] 3.5316248\n",
      "[x[87406](plant product) : y[14307](plant product)] 3.5309367\n",
      "[x[17991](communitygeneva) : y[4251](uruguay)] 3.5272758\n",
      "[x[77770](germani luxembourg) : y[19126](__label__56__France; French Republic)] 3.526616\n"
     ]
    }
   ],
   "source": [
    "sorted_inds = np.argsort(-bilinear_clf)\n",
    "for i in sorted_inds[:100]:\n",
    "    print(pair_xfs[i], bilinear_clf[i])"
   ]
  },
  {
   "cell_type": "code",
   "execution_count": 464,
   "metadata": {
    "ExecuteTime": {
     "end_time": "2020-10-08T12:55:40.132576Z",
     "start_time": "2020-10-08T12:55:40.128275Z"
    }
   },
   "outputs": [
    {
     "data": {
      "text/plain": [
       "(1108383,)"
      ]
     },
     "execution_count": 464,
     "metadata": {},
     "output_type": "execute_result"
    }
   ],
   "source": [
    "learnt_sp_pattern_mat = sp_pattern_mat.copy()"
   ]
  },
  {
   "cell_type": "code",
   "execution_count": 39,
   "metadata": {
    "ExecuteTime": {
     "end_time": "2020-10-08T16:10:50.966430Z",
     "start_time": "2020-10-08T16:10:50.111655Z"
    }
   },
   "outputs": [],
   "source": [
    "shortlist = (tst_X_Xf.dot(binarize(sp_pattern_mat, copy=True))).dot(Y_Xf.T)\n",
    "# shortlist = (tst_X_Xf.dot(binarize(sp_pattern_mat, copy=True))).dot(Y_Xf.T)"
   ]
  },
  {
   "cell_type": "code",
   "execution_count": 40,
   "metadata": {
    "ExecuteTime": {
     "end_time": "2020-10-08T16:10:59.430337Z",
     "start_time": "2020-10-08T16:10:57.597584Z"
    }
   },
   "outputs": [],
   "source": [
    "topk_shortlist = xclib.utils.sparse.retain_topk(shortlist.copy(), copy=False, k=100)"
   ]
  },
  {
   "cell_type": "code",
   "execution_count": 10,
   "metadata": {
    "ExecuteTime": {
     "end_time": "2020-10-08T16:43:40.991639Z",
     "start_time": "2020-10-08T16:43:40.957885Z"
    }
   },
   "outputs": [
    {
     "name": "stdout",
     "output_type": "stream",
     "text": [
      "loaded bin file in buffer\n",
      "loaded bin file in buffer\n"
     ]
    }
   ],
   "source": [
    "trn_xshortlist = read_bin_spmat(f'{RES_DIR}/trn_xshortlist.bin')\n",
    "tst_xshortlist = read_bin_spmat(f'{RES_DIR}/tst_xshortlist.bin')"
   ]
  },
  {
   "cell_type": "code",
   "execution_count": 15,
   "metadata": {
    "ExecuteTime": {
     "end_time": "2020-10-08T16:46:11.044365Z",
     "start_time": "2020-10-08T16:46:11.040314Z"
    }
   },
   "outputs": [
    {
     "data": {
      "text/plain": [
       "<numpy.vectorize at 0x7f9b36098a90>"
      ]
     },
     "execution_count": 15,
     "metadata": {},
     "output_type": "execute_result"
    }
   ],
   "source": [
    "inv_valid_labels"
   ]
  },
  {
   "cell_type": "code",
   "execution_count": 19,
   "metadata": {
    "ExecuteTime": {
     "end_time": "2020-10-08T16:48:11.856445Z",
     "start_time": "2020-10-08T16:48:11.823705Z"
    }
   },
   "outputs": [
    {
     "data": {
      "text/plain": [
       "625.8653084323713"
      ]
     },
     "execution_count": 19,
     "metadata": {},
     "output_type": "execute_result"
    }
   ],
   "source": [
    "trn_xshortlist.getnnz(0)[inv_valid_labels(np.where((nnz > 0) & (nnz <= 5))[0])].mean()"
   ]
  },
  {
   "cell_type": "code",
   "execution_count": 458,
   "metadata": {
    "ExecuteTime": {
     "end_time": "2020-10-08T12:01:17.619089Z",
     "start_time": "2020-10-08T12:01:17.498510Z"
    },
    "scrolled": true
   },
   "outputs": [
    {
     "data": {
      "text/plain": [
       "{'R@1': 13.144911584516846,\n",
       " 'R@50': 60.26923516971504,\n",
       " 'R@100': 68.9052960978077,\n",
       " 'R@500': 68.9052960978077,\n",
       " 'R@1000': 68.9052960978077}"
      ]
     },
     "execution_count": 458,
     "metadata": {},
     "output_type": "execute_result"
    }
   ],
   "source": [
    "recall(topk_shortlist, tst_X_Y, K=[1, 50, 100, 500, 1000])"
   ]
  },
  {
   "cell_type": "code",
   "execution_count": 298,
   "metadata": {
    "ExecuteTime": {
     "end_time": "2020-10-07T12:20:54.482953Z",
     "start_time": "2020-10-07T12:20:50.612331Z"
    }
   },
   "outputs": [
    {
     "data": {
      "text/plain": [
       "{'R@100': 73.54989315912846,\n",
       " 'R@500': 87.95412884591806,\n",
       " 'R@1000': 89.36961768297063}"
      ]
     },
     "execution_count": 298,
     "metadata": {},
     "output_type": "execute_result"
    }
   ],
   "source": [
    "recall(temp, trn_X_Y, K=[100, 500, 1000])"
   ]
  },
  {
   "cell_type": "code",
   "execution_count": 37,
   "metadata": {
    "ExecuteTime": {
     "end_time": "2020-10-08T16:09:26.177481Z",
     "start_time": "2020-10-08T16:09:26.082822Z"
    }
   },
   "outputs": [],
   "source": [
    "temp = tst_X_Xf.dot(Y_Xf.T)"
   ]
  },
  {
   "cell_type": "code",
   "execution_count": 34,
   "metadata": {
    "ExecuteTime": {
     "end_time": "2020-10-08T16:08:07.327036Z",
     "start_time": "2020-10-08T16:08:07.313976Z"
    }
   },
   "outputs": [],
   "source": [
    "alpha = 0.95\n",
    "score_mat = alpha*clf_score_mat + (1-alpha)*tst_"
   ]
  },
  {
   "cell_type": "code",
   "execution_count": 123,
   "metadata": {
    "ExecuteTime": {
     "end_time": "2020-10-10T17:39:36.270485Z",
     "start_time": "2020-10-10T17:39:36.263880Z"
    }
   },
   "outputs": [
    {
     "name": "stdout",
     "output_type": "stream",
     "text": [
      "loaded bin file in buffer\n"
     ]
    }
   ],
   "source": [
    "direct_xf_yf = read_bin_spmat(f'/scratch/nilesh/experiments/genexml/Results/{dataset}/model/direct_Xf_Yf.bin').tocoo()"
   ]
  },
  {
   "cell_type": "code",
   "execution_count": 124,
   "metadata": {
    "ExecuteTime": {
     "end_time": "2020-10-10T17:39:38.150131Z",
     "start_time": "2020-10-10T17:39:38.145601Z"
    }
   },
   "outputs": [
    {
     "data": {
      "text/plain": [
       "6300"
      ]
     },
     "execution_count": 124,
     "metadata": {},
     "output_type": "execute_result"
    }
   ],
   "source": [
    "direct_xf_yf.nnz"
   ]
  },
  {
   "cell_type": "code",
   "execution_count": 22,
   "metadata": {
    "ExecuteTime": {
     "end_time": "2020-10-10T10:53:32.780211Z",
     "start_time": "2020-10-10T10:53:32.775557Z"
    }
   },
   "outputs": [
    {
     "data": {
      "text/plain": [
       "('contain', 'contain')"
      ]
     },
     "execution_count": 22,
     "metadata": {},
     "output_type": "execute_result"
    }
   ],
   "source": [
    "ind = 798\n",
    "xfs[direct_xf_yf.row[ind]], yfs[direct_xf_yf.col[ind]]"
   ]
  },
  {
   "cell_type": "code",
   "execution_count": 28,
   "metadata": {
    "ExecuteTime": {
     "end_time": "2020-10-10T11:01:02.817133Z",
     "start_time": "2020-10-10T11:01:02.582999Z"
    }
   },
   "outputs": [],
   "source": [
    "alpha = 0.9; beta = 0.05; gamma = 0.05\n",
    "score_mat = normalize(clf_score_mat, norm=\"max\")*alpha + normalize(bilinear_score_mat, norm=\"max\")*beta + normalize(knn_score_mat, norm=\"max\")*gamma"
   ]
  },
  {
   "cell_type": "code",
   "execution_count": 166,
   "metadata": {
    "ExecuteTime": {
     "end_time": "2020-10-10T18:28:05.983043Z",
     "start_time": "2020-10-10T18:28:05.888809Z"
    }
   },
   "outputs": [
    {
     "name": "stdout",
     "output_type": "stream",
     "text": [
      "loaded bin file in buffer\n",
      "loaded bin file in buffer\n",
      "loaded bin file in buffer\n"
     ]
    }
   ],
   "source": [
    "clf_score_mat = read_bin_spmat(f'{RES_DIR}/clf_score_mat.bin').copy()\n",
    "bilinear_score_mat = read_bin_spmat(f'{RES_DIR}/bilinear_score_mat.bin').copy()\n",
    "knn_score_mat = read_bin_spmat(f'{RES_DIR}/knn_score_mat.bin').copy()\n",
    "\n",
    "# # trn_xshortlist = read_bin_spmat(f'{RES_DIR}/trn_xshortlist.bin')\n",
    "# tst_xshortlist = read_bin_spmat(f'{RES_DIR}/shortlist.bin')"
   ]
  },
  {
   "cell_type": "code",
   "execution_count": 168,
   "metadata": {
    "ExecuteTime": {
     "end_time": "2020-10-10T18:28:37.498291Z",
     "start_time": "2020-10-10T18:28:37.012324Z"
    },
    "scrolled": true
   },
   "outputs": [
    {
     "name": "stdout",
     "output_type": "stream",
     "text": [
      "\u001b[1mGZSL metrics (shape=(6000, 4271)): \u001b[0m\n"
     ]
    },
    {
     "data": {
      "text/html": [
       "<div>\n",
       "<style scoped>\n",
       "    .dataframe tbody tr th:only-of-type {\n",
       "        vertical-align: middle;\n",
       "    }\n",
       "\n",
       "    .dataframe tbody tr th {\n",
       "        vertical-align: top;\n",
       "    }\n",
       "\n",
       "    .dataframe thead th {\n",
       "        text-align: right;\n",
       "    }\n",
       "</style>\n",
       "<table border=\"1\" class=\"dataframe\">\n",
       "  <thead>\n",
       "    <tr style=\"text-align: right;\">\n",
       "      <th></th>\n",
       "      <th>1</th>\n",
       "      <th>2</th>\n",
       "      <th>3</th>\n",
       "      <th>4</th>\n",
       "      <th>5</th>\n",
       "    </tr>\n",
       "  </thead>\n",
       "  <tbody>\n",
       "    <tr>\n",
       "      <th>P</th>\n",
       "      <td>87.33</td>\n",
       "      <td>79.71</td>\n",
       "      <td>71.64</td>\n",
       "      <td>63.31</td>\n",
       "      <td>55.72</td>\n",
       "    </tr>\n",
       "    <tr>\n",
       "      <th>nDCG</th>\n",
       "      <td>87.33</td>\n",
       "      <td>81.65</td>\n",
       "      <td>76.62</td>\n",
       "      <td>72.75</td>\n",
       "      <td>70.11</td>\n",
       "    </tr>\n",
       "    <tr>\n",
       "      <th>PSP</th>\n",
       "      <td>48.95</td>\n",
       "      <td>52.56</td>\n",
       "      <td>53.53</td>\n",
       "      <td>53.22</td>\n",
       "      <td>52.63</td>\n",
       "    </tr>\n",
       "    <tr>\n",
       "      <th>PSnDCG</th>\n",
       "      <td>48.95</td>\n",
       "      <td>51.69</td>\n",
       "      <td>52.63</td>\n",
       "      <td>52.88</td>\n",
       "      <td>52.94</td>\n",
       "    </tr>\n",
       "  </tbody>\n",
       "</table>\n",
       "</div>"
      ],
      "text/plain": [
       "            1      2      3      4      5\n",
       "P       87.33  79.71  71.64  63.31  55.72\n",
       "nDCG    87.33  81.65  76.62  72.75  70.11\n",
       "PSP     48.95  52.56  53.53  53.22  52.63\n",
       "PSnDCG  48.95  51.69  52.63  52.88  52.94"
      ]
     },
     "metadata": {},
     "output_type": "display_data"
    },
    {
     "name": "stdout",
     "output_type": "stream",
     "text": [
      "\u001b[1mFewShot metrics (shape=(524, 1930)): \u001b[0m\n"
     ]
    },
    {
     "data": {
      "text/html": [
       "<div>\n",
       "<style scoped>\n",
       "    .dataframe tbody tr th:only-of-type {\n",
       "        vertical-align: middle;\n",
       "    }\n",
       "\n",
       "    .dataframe tbody tr th {\n",
       "        vertical-align: top;\n",
       "    }\n",
       "\n",
       "    .dataframe thead th {\n",
       "        text-align: right;\n",
       "    }\n",
       "</style>\n",
       "<table border=\"1\" class=\"dataframe\">\n",
       "  <thead>\n",
       "    <tr style=\"text-align: right;\">\n",
       "      <th></th>\n",
       "      <th>1</th>\n",
       "      <th>2</th>\n",
       "      <th>3</th>\n",
       "      <th>4</th>\n",
       "      <th>5</th>\n",
       "    </tr>\n",
       "  </thead>\n",
       "  <tbody>\n",
       "    <tr>\n",
       "      <th>P</th>\n",
       "      <td>17.56</td>\n",
       "      <td>12.50</td>\n",
       "      <td>10.24</td>\n",
       "      <td>8.59</td>\n",
       "      <td>7.4</td>\n",
       "    </tr>\n",
       "    <tr>\n",
       "      <th>nDCG</th>\n",
       "      <td>17.56</td>\n",
       "      <td>19.35</td>\n",
       "      <td>21.33</td>\n",
       "      <td>22.51</td>\n",
       "      <td>23.3</td>\n",
       "    </tr>\n",
       "  </tbody>\n",
       "</table>\n",
       "</div>"
      ],
      "text/plain": [
       "          1      2      3      4     5\n",
       "P     17.56  12.50  10.24   8.59   7.4\n",
       "nDCG  17.56  19.35  21.33  22.51  23.3"
      ]
     },
     "metadata": {},
     "output_type": "display_data"
    },
    {
     "name": "stdout",
     "output_type": "stream",
     "text": [
      "\u001b[1mSZSL metrics (shape=(89, 163)): \u001b[0m\n"
     ]
    },
    {
     "data": {
      "text/html": [
       "<div>\n",
       "<style scoped>\n",
       "    .dataframe tbody tr th:only-of-type {\n",
       "        vertical-align: middle;\n",
       "    }\n",
       "\n",
       "    .dataframe tbody tr th {\n",
       "        vertical-align: top;\n",
       "    }\n",
       "\n",
       "    .dataframe thead th {\n",
       "        text-align: right;\n",
       "    }\n",
       "</style>\n",
       "<table border=\"1\" class=\"dataframe\">\n",
       "  <thead>\n",
       "    <tr style=\"text-align: right;\">\n",
       "      <th></th>\n",
       "      <th>1</th>\n",
       "      <th>2</th>\n",
       "      <th>3</th>\n",
       "      <th>4</th>\n",
       "      <th>5</th>\n",
       "    </tr>\n",
       "  </thead>\n",
       "  <tbody>\n",
       "    <tr>\n",
       "      <th>P</th>\n",
       "      <td>29.21</td>\n",
       "      <td>21.91</td>\n",
       "      <td>14.98</td>\n",
       "      <td>11.52</td>\n",
       "      <td>9.21</td>\n",
       "    </tr>\n",
       "    <tr>\n",
       "      <th>nDCG</th>\n",
       "      <td>29.21</td>\n",
       "      <td>35.16</td>\n",
       "      <td>35.72</td>\n",
       "      <td>36.20</td>\n",
       "      <td>36.20</td>\n",
       "    </tr>\n",
       "  </tbody>\n",
       "</table>\n",
       "</div>"
      ],
      "text/plain": [
       "          1      2      3      4      5\n",
       "P     29.21  21.91  14.98  11.52   9.21\n",
       "nDCG  29.21  35.16  35.72  36.20  36.20"
      ]
     },
     "metadata": {},
     "output_type": "display_data"
    },
    {
     "name": "stdout",
     "output_type": "stream",
     "text": [
      "\u001b[1mXC metrics (shape=(6000, 4108)): \u001b[0m\n"
     ]
    },
    {
     "data": {
      "text/html": [
       "<div>\n",
       "<style scoped>\n",
       "    .dataframe tbody tr th:only-of-type {\n",
       "        vertical-align: middle;\n",
       "    }\n",
       "\n",
       "    .dataframe tbody tr th {\n",
       "        vertical-align: top;\n",
       "    }\n",
       "\n",
       "    .dataframe thead th {\n",
       "        text-align: right;\n",
       "    }\n",
       "</style>\n",
       "<table border=\"1\" class=\"dataframe\">\n",
       "  <thead>\n",
       "    <tr style=\"text-align: right;\">\n",
       "      <th></th>\n",
       "      <th>1</th>\n",
       "      <th>2</th>\n",
       "      <th>3</th>\n",
       "      <th>4</th>\n",
       "      <th>5</th>\n",
       "    </tr>\n",
       "  </thead>\n",
       "  <tbody>\n",
       "    <tr>\n",
       "      <th>P</th>\n",
       "      <td>87.48</td>\n",
       "      <td>79.89</td>\n",
       "      <td>71.86</td>\n",
       "      <td>63.50</td>\n",
       "      <td>55.84</td>\n",
       "    </tr>\n",
       "    <tr>\n",
       "      <th>nDCG</th>\n",
       "      <td>87.48</td>\n",
       "      <td>81.83</td>\n",
       "      <td>76.83</td>\n",
       "      <td>72.97</td>\n",
       "      <td>70.30</td>\n",
       "    </tr>\n",
       "    <tr>\n",
       "      <th>PSP</th>\n",
       "      <td>50.91</td>\n",
       "      <td>54.16</td>\n",
       "      <td>55.01</td>\n",
       "      <td>54.57</td>\n",
       "      <td>53.84</td>\n",
       "    </tr>\n",
       "    <tr>\n",
       "      <th>PSnDCG</th>\n",
       "      <td>50.91</td>\n",
       "      <td>53.37</td>\n",
       "      <td>54.22</td>\n",
       "      <td>54.37</td>\n",
       "      <td>54.32</td>\n",
       "    </tr>\n",
       "  </tbody>\n",
       "</table>\n",
       "</div>"
      ],
      "text/plain": [
       "            1      2      3      4      5\n",
       "P       87.48  79.89  71.86  63.50  55.84\n",
       "nDCG    87.48  81.83  76.83  72.97  70.30\n",
       "PSP     50.91  54.16  55.01  54.57  53.84\n",
       "PSnDCG  50.91  53.37  54.22  54.37  54.32"
      ]
     },
     "metadata": {},
     "output_type": "display_data"
    }
   ],
   "source": [
    "get_irm_metrics(bilinear_score_mat);\n",
    "# get_irm_metrics(tst_X_Y);\n",
    "# get_irm_metrics(tst_xshortlist);"
   ]
  },
  {
   "cell_type": "code",
   "execution_count": null,
   "metadata": {},
   "outputs": [],
   "source": []
  }
 ],
 "metadata": {
  "kernelspec": {
   "display_name": "Python 3",
   "language": "python",
   "name": "python3"
  },
  "language_info": {
   "codemirror_mode": {
    "name": "ipython",
    "version": 3
   },
   "file_extension": ".py",
   "mimetype": "text/x-python",
   "name": "python",
   "nbconvert_exporter": "python",
   "pygments_lexer": "ipython3",
   "version": "3.7.9"
  }
 },
 "nbformat": 4,
 "nbformat_minor": 4
}
